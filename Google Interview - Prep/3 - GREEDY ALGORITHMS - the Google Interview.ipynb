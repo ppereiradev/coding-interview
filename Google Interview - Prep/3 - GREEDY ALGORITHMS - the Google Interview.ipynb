{
 "cells": [
  {
   "cell_type": "markdown",
   "id": "0b2e3ee3",
   "metadata": {},
   "source": [
    "# GREEDY ALGORITHMS - the Google Interview\n",
    "\n",
    "https://takeuforward-org.cdn.ampproject.org/c/s/takeuforward.org/interviews/strivers-sde-sheet-top-coding-interview-problems/?amp=1"
   ]
  },
  {
   "cell_type": "markdown",
   "id": "79053839",
   "metadata": {},
   "source": [
    "# 1 - N meetings in one room\n",
    "\n",
    "__Problem Statement:__ \n",
    "\n",
    "There is one meeting room in a firm. You are given two arrays, start and end each of size N. For an index ‘i’, start[i] denotes the starting time of the ith meeting while end[i]  will denote the ending time of the ith meeting. \n",
    "\n",
    "Find the maximum number of meetings that can be accommodated if only one meeting can happen in the room at a  particular time. Print the order in which these meetings will be performed.\n",
    "\n",
    "__Example:__\n",
    "\n",
    "Input:  N = 6,  start[] = {1,3,0,5,8,5}, end[] =  {2,4,5,7,9,9}\n",
    "\n",
    "Output: 1 2 4 5\n",
    "\n",
    "Explanation: See the figure for a better understanding. "
   ]
  },
  {
   "cell_type": "code",
   "execution_count": 3,
   "id": "e9ef1864",
   "metadata": {},
   "outputs": [],
   "source": [
    "\"\"\"\n",
    "We have 6 meetings to accommodate\n",
    "\n",
    "Input:  N = 6\n",
    "\n",
    "start = [1,3,0,5,8,5]\n",
    "end = [2,4,5,7,9,9]\n",
    "\n",
    "1° step: get the meeting that ends earlier \n",
    "2° step: get the meeting that ends earlier and doesn't overlap with the ones alredy in the result\n",
    "\n",
    "result = [1, 2, 4, 5]\n",
    "\n",
    "\"\"\"\n",
    "def fit_max_meetings(start, end):\n",
    "    \n",
    "    result = [1]\n",
    "    idx_aux = 0\n",
    "    \n",
    "    for i in range(1, len(end)):\n",
    "        if start[i] >= end[idx_aux]:\n",
    "            result.append(i + 1)\n",
    "            idx_aux = i\n",
    "            \n",
    "    return result"
   ]
  },
  {
   "cell_type": "code",
   "execution_count": 4,
   "id": "84af8cc3",
   "metadata": {},
   "outputs": [
    {
     "data": {
      "text/plain": [
       "[1, 2, 4, 5]"
      ]
     },
     "execution_count": 4,
     "metadata": {},
     "output_type": "execute_result"
    }
   ],
   "source": [
    "start = [1,3,0,5,8,5]\n",
    "end = [2,4,5,7,9,9]\n",
    "\n",
    "fit_max_meetings(start, end)"
   ]
  },
  {
   "cell_type": "markdown",
   "id": "9ce817f8",
   "metadata": {},
   "source": [
    "# 2 - Minimum number of platforms required for a railway\n",
    "\n",
    "__Problem Statement:__ We are given two arrays that represent the arrival and departure times of trains that stop at the platform. We need to find the minimum number of platforms needed at the railway station so that no train has to wait.\n",
    "\n",
    "__Examples 1:__\n",
    "\n",
    "Input: N=6, \n",
    "\n",
    "arr[] = {9:00, 9:45, 9:55, 11:00, 15:00, 18:00} \n",
    "\n",
    "dep[] = {9:20, 12:00, 11:30, 11:50, 19:00, 20:00}\n",
    "\n",
    "Output:3"
   ]
  },
  {
   "cell_type": "code",
   "execution_count": 16,
   "id": "c1c10147",
   "metadata": {},
   "outputs": [],
   "source": [
    "\"\"\"\n",
    "arr[] = {9.0, 9.45, 9.55, 11.00, 15.0, 18.0} \n",
    "\n",
    "dep[] = {9.2, 12.0, 11.3, 11.5, 19.0, 20.0}\n",
    "\n",
    "\n",
    "sorted:\n",
    "\n",
    "arr[] = {9.0, 9.55, 11.0, 9.45, 15.0, 18.0} \n",
    "\n",
    "dep[] = {9.2, 11.3, 11.5, 12.0, 19.0, 20.0}\n",
    "\n",
    "\n",
    "\n",
    "1° step: convert arrival and departure time to float numbers\n",
    "\n",
    "2° step: find how many intervals overlaps\n",
    "   2.1: sorts the departure array, and keep track to change the arrival too\n",
    "\n",
    "\"\"\"\n",
    "\n",
    "def convert_time2float(arr):\n",
    "    \n",
    "    arr = [float(i.replace(\":\", \".\")) for i in arr]\n",
    "    \n",
    "    return arr\n",
    "\n",
    "def merge_sort(seq):\n",
    "    if len(seq) > 1:\n",
    "        left = seq[:len(seq)//2]\n",
    "        right = seq[len(seq)//2:]\n",
    "        \n",
    "        merge_sort(left)\n",
    "        merge_sort(right)\n",
    "        \n",
    "        i = j = k = 0\n",
    "        \n",
    "        while i < len(left) and j < len(right):\n",
    "            if left[i] <= right[j]:\n",
    "                seq[k] = left[i]\n",
    "                i += 1\n",
    "            else:\n",
    "                seq[k] = right[j]\n",
    "                j += 1\n",
    "            k += 1\n",
    "            \n",
    "        while i < len(left):\n",
    "            seq[k] = left[i]\n",
    "            i += 1\n",
    "            k += 1\n",
    "            \n",
    "        while j < len(right):\n",
    "            seq[k] = right[j]\n",
    "            j += 1\n",
    "            k += 1\n",
    "            \n",
    "def min_platforms(arr, dep):\n",
    "    arr = convert_time2float(arr)\n",
    "    dep = convert_time2float(dep)\n",
    "    aux = dict()\n",
    "    \n",
    "    for i in range(len(dep)):\n",
    "        if aux.get(dep[i]) is None:\n",
    "            aux[dep[i]] = arr[i]\n",
    "            \n",
    "    merge_sort(dep)\n",
    "    \n",
    "    arr = []\n",
    "    \n",
    "    for i in dep:\n",
    "        arr.append(aux[i])\n",
    "    \n",
    "    result = 0\n",
    "    idx_aux = 0\n",
    "    for i in range(1, len(arr)):\n",
    "        if arr[i] < dep[idx_aux]:\n",
    "            result += 1        \n",
    "        idx_aux += 1\n",
    "        \n",
    "    return result"
   ]
  },
  {
   "cell_type": "code",
   "execution_count": 17,
   "id": "477c4f84",
   "metadata": {},
   "outputs": [
    {
     "data": {
      "text/plain": [
       "3"
      ]
     },
     "execution_count": 17,
     "metadata": {},
     "output_type": "execute_result"
    }
   ],
   "source": [
    "arr = [\"9:00\", \"9:45\", \"9:55\", \"11:00\", \"15:00\", \"18:00\"]\n",
    "dep = [\"9:20\", \"12:00\", \"11:30\", \"11:50\", \"19:00\", \"20:00\"]\n",
    "\n",
    "min_platforms(arr, dep)"
   ]
  },
  {
   "cell_type": "markdown",
   "id": "3501382e",
   "metadata": {},
   "source": [
    "# 3 - Job Sequencing Problem\n",
    "\n",
    "__Problem Statement:__ You are given a set of N jobs where each job comes with a deadline and profit. The profit can only be earned upon completing the job within its deadline. Find the number of jobs done and the maximum profit that can be obtained. Each job takes a single unit of time and only one job can be performed at a time.\n",
    "\n",
    "__Example 1:__\n",
    "\n",
    "Input: N = 4, Jobs = {(1,4,20),(2,1,10),(3,1,40),(4,1,30)}\n",
    "\n",
    "Output: 2 60\n",
    "\n",
    "Explanation: The 3rd job with a deadline 1 is performed during the first unit of time .The 1st job is performed during the second unit of time as its deadline is 4.\n",
    "Profit = 40 + 20 = 60\n",
    "\n",
    "__Example 2:__\n",
    "\n",
    "Input: N = 5, Jobs = {(1,2,100),(2,1,19),(3,2,27),(4,1,25),(5,1,15)}\n",
    "\n",
    "Output: 2 127\n",
    "\n",
    "Explanation: The  first and third job both having a deadline 2 give the highest profit. \n",
    "Profit = 100 + 27 = 127"
   ]
  },
  {
   "cell_type": "code",
   "execution_count": 13,
   "id": "8e6d0a32",
   "metadata": {},
   "outputs": [],
   "source": [
    "\"\"\"\n",
    "\n",
    "1° step: add the first job\n",
    "2° step: compare if the deadline of the next job doesn't conflict, \n",
    "         if doesn't add the next job. If conflicts compare the profit.\n",
    "3° step: update the profit and the number of jobs\n",
    "\n",
    "[(1,4,20),(2,1,10),(3,1,40),(4,1,30)]\n",
    "\n",
    "if result.get(jobs[i][1]) is not None: \n",
    "    swap\n",
    "else: add\n",
    "\n",
    "result = {4: (1,4,20),1:(3,1,40)}\n",
    "\n",
    "\"\"\"\n",
    "def job_sequencing(jobs):\n",
    "    result = dict()\n",
    "    profit = 0\n",
    "    n_jobs = 0\n",
    "    \n",
    "    for i in range(len(jobs)):\n",
    "        if result.get(jobs[i][1]) is None:\n",
    "            result[jobs[i][1]] = jobs[i]\n",
    "            profit += jobs[i][2]\n",
    "            n_jobs += 1\n",
    "        else:\n",
    "            if result.get(jobs[i][1])[2] < jobs[i][2]:\n",
    "                profit -= result.get(jobs[i][1])[2]\n",
    "                result[jobs[i][1]] = jobs[i]\n",
    "                profit += jobs[i][2]\n",
    "                \n",
    "    print(result)\n",
    "    return n_jobs, profit"
   ]
  },
  {
   "cell_type": "code",
   "execution_count": 15,
   "id": "9489b0d0",
   "metadata": {},
   "outputs": [
    {
     "name": "stdout",
     "output_type": "stream",
     "text": [
      "{2: (1, 2, 100), 1: (4, 1, 25)}\n"
     ]
    },
    {
     "data": {
      "text/plain": [
       "(2, 125)"
      ]
     },
     "execution_count": 15,
     "metadata": {},
     "output_type": "execute_result"
    }
   ],
   "source": [
    "jobs = [(1,2,100),(2,1,19),(3,2,27),(4,1,25),(5,1,15)]\n",
    "job_sequencing(jobs)"
   ]
  },
  {
   "cell_type": "code",
   "execution_count": 37,
   "id": "e7de0d10",
   "metadata": {},
   "outputs": [],
   "source": [
    "def merge_sort(seq):\n",
    "    if len(seq) > 1:\n",
    "        left = seq[:len(seq)//2]\n",
    "        right = seq[len(seq)//2:]\n",
    "        \n",
    "        merge_sort(left)\n",
    "        merge_sort(right)\n",
    "        \n",
    "        i = j = k = 0\n",
    "        \n",
    "        while i < len(left) and j < len(right):\n",
    "            if left[i][2] >= right[j][2]:\n",
    "                seq[k] = left[i]\n",
    "                i += 1\n",
    "            else:\n",
    "                seq[k] = right[j]\n",
    "                j += 1\n",
    "            k += 1\n",
    "            \n",
    "        while i < len(left):\n",
    "            seq[k] = left[i]\n",
    "            i += 1\n",
    "            k += 1\n",
    "            \n",
    "        while j < len(right):\n",
    "            seq[k] = right[j]\n",
    "            j += 1\n",
    "            k += 1\n",
    "\n",
    "def job_sequencing(jobs):\n",
    "    merge_sort(jobs)\n",
    "    result = [jobs[0]]\n",
    "    profit = jobs[0][2]\n",
    "    \n",
    "    for i in range(1,len(jobs)):\n",
    "        if jobs[i][1] > len(result):\n",
    "            result.append(jobs[i])\n",
    "            profit += jobs[i][2]\n",
    "            \n",
    "    print(result)\n",
    "    return len(result), profit\n",
    "    "
   ]
  },
  {
   "cell_type": "code",
   "execution_count": 38,
   "id": "4770e0fc",
   "metadata": {},
   "outputs": [
    {
     "name": "stdout",
     "output_type": "stream",
     "text": [
      "[(1, 2, 100), (3, 2, 27)]\n"
     ]
    },
    {
     "data": {
      "text/plain": [
       "(2, 127)"
      ]
     },
     "execution_count": 38,
     "metadata": {},
     "output_type": "execute_result"
    }
   ],
   "source": [
    "jobs = [(1,2,100),(2,2,19),(3,2,27),(4,1,25),(5,1,15)]\n",
    "job_sequencing(jobs)"
   ]
  },
  {
   "cell_type": "markdown",
   "id": "f1cebe08",
   "metadata": {},
   "source": [
    "# 4 - Fractional Knapsack Problem : Greedy Approach\n",
    "\n",
    "__Problem Statement:__ The weight of N items and their corresponding values are given. We have to put these items in a knapsack of weight W such that the total value obtained is maximized.\n",
    "\n",
    "Note: We can either take the item as a whole or break it into smaller units.\n",
    "\n",
    "__Example:__\n",
    "\n",
    "Input: N = 3, W = 50, values[] = {100,60,120}, weight[] = {20,10,30}.\n",
    "\n",
    "Output: 240.00\n",
    "\n",
    "Explanation: The first and second items  are taken as a whole  while only 20 units of the third item is taken. Total value = 100 + 60 + 80 = 240.00"
   ]
  },
  {
   "cell_type": "code",
   "execution_count": 89,
   "id": "15f1b6a8",
   "metadata": {},
   "outputs": [],
   "source": [
    "\"\"\"\n",
    "Input: N = 3\n",
    "W = 50\n",
    "values = [100,60,120]\n",
    "weight = [20, 10, 30]\n",
    "v/w =    [ 5,  6 , 4]\n",
    "\n",
    "sorted:\n",
    "values = [60,100,120]\n",
    "weight = [10, 20, 30]\n",
    "v/w =    [ 6,  5 , 4]\n",
    "\n",
    "50 - 10 = 40 - 20 = 20 - 20(only 20 from the third one) = 0\n",
    "\n",
    "total = 10*6 + 20*5 + 20*4\n",
    "\"\"\"\n",
    "def merge_sort(seq):\n",
    "    if len(seq) > 1:\n",
    "        left = seq[:len(seq)//2]\n",
    "        right = seq[len(seq)//2:]\n",
    "        \n",
    "        merge_sort(left)\n",
    "        merge_sort(right)\n",
    "        \n",
    "        i = j = k = 0\n",
    "        \n",
    "        while i < len(left) and j < len(right):\n",
    "            if left[i] > right[j]:\n",
    "                seq[k] = left[i]\n",
    "                i += 1\n",
    "            else:\n",
    "                seq[k] = right[j]\n",
    "                j += 1\n",
    "            k += 1\n",
    "            \n",
    "        while i < len(left):\n",
    "            seq[k] = left[i]\n",
    "            i += 1\n",
    "            k += 1\n",
    "            \n",
    "        while j < len(right):\n",
    "            seq[k] = right[j]\n",
    "            j += 1\n",
    "            k += 1\n",
    "        \n",
    "    \n",
    "def knapsack(value, weight, w=50):\n",
    "    aux = dict()\n",
    "    aux_2 = []\n",
    "    total = 0\n",
    "    \n",
    "    for i in range(len(value)):\n",
    "        aux[value[i]/weight[i]] = (value[i], weight[i])\n",
    "        aux_2.append(value[i]/weight[i])\n",
    "        \n",
    "    merge_sort(aux_2)\n",
    "    \n",
    "    for i in range(len(aux_2)):\n",
    "        value[i] = aux.get(aux_2[i])[0]\n",
    "        weight[i] = aux.get(aux_2[i])[1]\n",
    "    \n",
    "    for i in range(len(value)):\n",
    "        if w >= weight[i]:\n",
    "            w -= weight[i]\n",
    "            total += value[i]\n",
    "        elif w > 0:\n",
    "            total += w * (value[i]/weight[i])\n",
    "\n",
    "    return total"
   ]
  },
  {
   "cell_type": "code",
   "execution_count": 90,
   "id": "a6ae3aaa",
   "metadata": {},
   "outputs": [
    {
     "data": {
      "text/plain": [
       "240.0"
      ]
     },
     "execution_count": 90,
     "metadata": {},
     "output_type": "execute_result"
    }
   ],
   "source": [
    "value = [100,60,120]\n",
    "weight = [20, 10, 30]\n",
    "knapsack(value, weight)"
   ]
  },
  {
   "cell_type": "markdown",
   "id": "b9bba2dd",
   "metadata": {},
   "source": [
    "# 5 - Find minimum number of coins\n",
    "\n",
    "__Problem Statement:__ Given a value V, if we want to make a change for V Rs, and we have an infinite supply of each of the denominations in Indian currency, i.e., we have an infinite supply of { 1, 2, 5, 10, 20, 50, 100, 500, 1000} valued coins/notes, what is the minimum number of coins and/or notes needed to make the change.\n",
    "\n",
    "__Example 1:__\n",
    "\n",
    "Input: V = 70\n",
    "\n",
    "Output: 2\n",
    "\n",
    "Explaination: We need a 50 Rs note and a 20 Rs note.\n",
    "\n",
    "__Example 2:__\n",
    "\n",
    "Input: V = 121\n",
    "\n",
    "Output: 3\n",
    "\n",
    "Explaination: We need a 100 Rs note, a 20 Rs note and a 1 Rs coin."
   ]
  },
  {
   "cell_type": "code",
   "execution_count": 223,
   "id": "716140e4",
   "metadata": {},
   "outputs": [],
   "source": [
    "\"\"\"\n",
    "V = 70\n",
    " s            m                  e\n",
    "[1, 2, 5, 10, 20, 50, 100, 500, 1000]\n",
    "\n",
    "first coin: [50]\n",
    "\n",
    "70 - 50 = 20\n",
    "\n",
    "[20]\n",
    "\n",
    "20 -20 = 0\n",
    "\n",
    "total_coins = 2\n",
    "\n",
    "\"\"\"\n",
    "\n",
    "def binary_search(seq, value):\n",
    "    start = 0\n",
    "    end = len(seq)\n",
    "    \n",
    "    while start < end:\n",
    "        mid = start + (end - start)//2\n",
    "        \n",
    "        if seq[mid] == value:\n",
    "            return mid\n",
    "        elif seq[mid] < value:\n",
    "            start = mid + 1\n",
    "        else:\n",
    "            end = mid\n",
    "\n",
    "    return mid\n",
    "    \n",
    "def find_min_coins(value):\n",
    "    coins = [1, 2, 5, 10, 20, 50, 100, 500, 1000]\n",
    "    total_coins = 0\n",
    "    while value > 0:\n",
    "        idx = binary_search(coins, value)\n",
    "        if coins[idx] > value:\n",
    "            value -= coins[idx-1]\n",
    "        else:\n",
    "            value -= coins[idx]\n",
    "\n",
    "        total_coins += 1\n",
    "    \n",
    "    return total_coins"
   ]
  },
  {
   "cell_type": "code",
   "execution_count": 227,
   "id": "61f8f05e",
   "metadata": {},
   "outputs": [
    {
     "data": {
      "text/plain": [
       "5"
      ]
     },
     "execution_count": 227,
     "metadata": {},
     "output_type": "execute_result"
    }
   ],
   "source": [
    "find_min_coins(49)"
   ]
  },
  {
   "cell_type": "markdown",
   "id": "c457d4d3",
   "metadata": {},
   "source": [
    "# 6 - N meetings in one room\n",
    "\n",
    "__Problem Statement:__ There is one meeting room in a firm. You are given two arrays, start and end each of size N.For an index ‘i’, start[i] denotes the starting time of the ith meeting while end[i]  will denote the ending time of the ith meeting. Find the maximum number of meetings that can be accommodated if only one meeting can happen in the room at a  particular time. Print the order in which these meetings will be performed.\n",
    "\n",
    "__Example:__\n",
    "\n",
    "Input:  N = 6,  start[] = {1,3,0,5,8,5}, end[] =  {2,4,5,7,9,9}\n",
    "\n",
    "Output: 1 2 4 5\n",
    "\n",
    "Explanation: See the figure for a better understanding. \n",
    "\n",
    "![image_2](https://lh3.googleusercontent.com/TtxJefJFSrt-O3yH53CFJ8udcDt02PkBduRCvO6XvndajetZ2LUEgNhrSIcbSBtHLodGgPfuJeEuIP4azq0dZaN5XQ9Zgz5BWKnGAQu25YDPuLqIcHT1aFA66Lvz8Q)\n"
   ]
  },
  {
   "cell_type": "code",
   "execution_count": 248,
   "id": "7109967f",
   "metadata": {},
   "outputs": [],
   "source": [
    "def n_meetings(start, end):\n",
    "    result = [1]\n",
    "    c = 0\n",
    "    for i in range(1,len(start)):\n",
    "        if start[i] > end[result[c] - 1]:\n",
    "            result.append(i + 1)\n",
    "            c += 1\n",
    "            \n",
    "    return result"
   ]
  },
  {
   "cell_type": "code",
   "execution_count": 249,
   "id": "cbdecd79",
   "metadata": {},
   "outputs": [
    {
     "data": {
      "text/plain": [
       "[1, 2, 4, 5]"
      ]
     },
     "execution_count": 249,
     "metadata": {},
     "output_type": "execute_result"
    }
   ],
   "source": [
    "start = [1,3,0,5,8,5]\n",
    "end   = [2,4,5,7,9,9]\n",
    "\n",
    "n_meetings(start, end)"
   ]
  },
  {
   "cell_type": "code",
   "execution_count": null,
   "id": "427a8268",
   "metadata": {},
   "outputs": [],
   "source": []
  }
 ],
 "metadata": {
  "kernelspec": {
   "display_name": "Python 3 (ipykernel)",
   "language": "python",
   "name": "python3"
  },
  "language_info": {
   "codemirror_mode": {
    "name": "ipython",
    "version": 3
   },
   "file_extension": ".py",
   "mimetype": "text/x-python",
   "name": "python",
   "nbconvert_exporter": "python",
   "pygments_lexer": "ipython3",
   "version": "3.8.10"
  }
 },
 "nbformat": 4,
 "nbformat_minor": 5
}
