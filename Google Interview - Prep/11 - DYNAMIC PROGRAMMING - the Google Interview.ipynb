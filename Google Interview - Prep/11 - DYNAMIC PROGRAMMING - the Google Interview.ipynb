{
 "cells": [
  {
   "cell_type": "markdown",
   "id": "bb0f5f00",
   "metadata": {},
   "source": [
    "# DYNAMIC PROGRAMMING - the Google Interview\n",
    "\n",
    "https://takeuforward-org.cdn.ampproject.org/c/s/takeuforward.org/interviews/strivers-sde-sheet-top-coding-interview-problems/?amp=1"
   ]
  },
  {
   "cell_type": "markdown",
   "id": "e9e8a4f5",
   "metadata": {},
   "source": [
    "# 1 - 0 1 Knapsack\n",
    "\n",
    "__Problem Statement__\n",
    "\n",
    "A thief is robbing a store and can carry a maximum weight of ‘W’ into his knapsack. There are 'N' items available in the store and the weight and value of each item is known to the thief. Considering the constraints of the maximum weight that a knapsack can carry, you have to find the maximum profit that a thief can generate by stealing items.\n",
    "\n",
    "__Note:__ The thief is not allowed to break the items.\n",
    "\n",
    "For example, N = 4, W = 10 and the weights and values of items are weights = [6, 1, 5, 3] and values = [3, 6, 1, 4]. Then the best way to fill the knapsack is to choose items with weight 6, 1 and 3. The total value of knapsack = 3 + 6 + 4 = 13.\n",
    "\n",
    "__Input Format:__\n",
    "\n",
    "The first line contains a single integer 'T' representing the number of test cases.      \n",
    "The 'T' test cases are as follows:\n",
    "\n",
    "The first line contains two integers 'N' and 'W', denoting the number of items and the maximum weight the thief can carry, respectively. \n",
    "\n",
    "The second line contains 'N' space-separated integers, that denote the values of the weight of items. \n",
    "\n",
    "The third line contains 'N' space-separated integers, that denote the values associated with the items. \n",
    "\n",
    "__Output Format :__\n",
    "\n",
    "The first and only line of output contains the maximum profit that a thief can generate, as described in the task. \n",
    "The output of every test case is printed in a separate line.\n",
    "\n",
    "__Sample Input:__\n",
    "\n",
    "1 \n",
    "\n",
    "4 5\n",
    "\n",
    "1 2 4 5\n",
    "\n",
    "5 4 8 6\n",
    "\n",
    "__Sample Output:__\n",
    "\n",
    "13\n",
    "\n",
    "__Explanation Of Sample Output 1__\n",
    "\n",
    "The most optimal way to fill the knapsack is to choose items with weight 4 and value 8, weight 1 and value 5.\n",
    "\n",
    "The total value of the knapsack =  8 + 5 = 13.\n",
    "\n",
    "__Sample Input 2:__\n",
    "\n",
    "1\n",
    "\n",
    "5 100\n",
    "\n",
    "20 24 36 40 42\n",
    "\n",
    "12 35 41 25 32\n",
    "\n",
    "__Sample Output 2:__\n",
    "\n",
    "101"
   ]
  },
  {
   "cell_type": "markdown",
   "id": "9dfab2bc",
   "metadata": {},
   "source": [
    "### Brute force solution"
   ]
  },
  {
   "cell_type": "code",
   "execution_count": 72,
   "id": "de4d4c7e",
   "metadata": {},
   "outputs": [],
   "source": [
    "def knapsack(weight, value, max_value, all_items, memo={}):\n",
    "    if memo.get(value) is not None:        \n",
    "        return memo[value]\n",
    "    if weight == 0:\n",
    "        if max_value < value:\n",
    "            max_value = value\n",
    "        return max_value\n",
    "    \n",
    "    for w, v in all_items:\n",
    "        if weight - w >= 0:\n",
    "            curr_value = knapsack(weight - w, value + v, max_value, all_items, memo)\n",
    "            if curr_value > max_value:\n",
    "                max_value = curr_value\n",
    "            memo[value + v] = weight - w\n",
    "    return max_value\n",
    "        \n",
    "def knapsack_main(weight, items):\n",
    "    max_value = float(\"-inf\")\n",
    "    return knapsack(weight, 0, max_value, items)"
   ]
  },
  {
   "cell_type": "code",
   "execution_count": 73,
   "id": "3079ea1b",
   "metadata": {},
   "outputs": [
    {
     "data": {
      "text/plain": [
       "22"
      ]
     },
     "execution_count": 73,
     "metadata": {},
     "output_type": "execute_result"
    }
   ],
   "source": [
    "W = 5\n",
    "# (weight, value)\n",
    "items={(2,6), (2,10), (3,12)}\n",
    "\n",
    "knapsack_main(W, items)"
   ]
  },
  {
   "cell_type": "markdown",
   "id": "7acc0828",
   "metadata": {},
   "source": [
    "# 2 - Longest Consecutive Sequence in an Array\n",
    "\n",
    "__Problem Statement:__ You are given an array of ‘N’ integers. You need to find the length of the longest sequence which contains the consecutive elements.\n",
    "\n",
    "__Example 1:__\n",
    "\n",
    "__Input:__ [100, 200, 1, 3, 2, 4]\n",
    "\n",
    "__Output:__ 4\n",
    "\n",
    "__Explanation:__ The longest consecutive subsequence is 1, 2, 3, and 4.\n",
    "\n",
    "__Input:__ [3, 8, 5, 7, 6]\n",
    "\n",
    "__Output:__ 4\n",
    "\n",
    "__Explanation:__ The longest consecutive subsequence is 5, 6, 7, and 8."
   ]
  },
  {
   "cell_type": "markdown",
   "id": "6c41f6df",
   "metadata": {},
   "source": [
    "### brute force"
   ]
  },
  {
   "cell_type": "code",
   "execution_count": 89,
   "id": "fa80864b",
   "metadata": {},
   "outputs": [],
   "source": [
    "# sort the array then find the longest sequence\n",
    "def merge_sort(arr):\n",
    "    if len(arr) > 1:\n",
    "        left = arr[:len(arr)//2]\n",
    "        right = arr[len(arr)//2:]\n",
    "        \n",
    "        merge_sort(left)\n",
    "        merge_sort(right)\n",
    "        \n",
    "        i = j = k = 0\n",
    "        \n",
    "        while i < len(left) and j < len(right):\n",
    "            if left[i] <= right[j]:\n",
    "                arr[k] = left[i]\n",
    "                i += 1\n",
    "            else:\n",
    "                arr[k] = right[j]\n",
    "                j += 1\n",
    "            k += 1\n",
    "            \n",
    "        while i < len(left):\n",
    "            arr[k] = left[i]\n",
    "            i += 1\n",
    "            k += 1\n",
    "            \n",
    "        while j < len(right):\n",
    "            arr[k] = right[j]\n",
    "            j += 1\n",
    "            k += 1\n",
    "\n",
    "def longest_consecutive_seq(arr):\n",
    "    merge_sort(arr)\n",
    "\n",
    "    max_seq = 0\n",
    "    \n",
    "    for i in range(len(arr)):\n",
    "        counter = 0\n",
    "        for j in range(i, len(arr)):\n",
    "            if arr[j] - arr[i] == counter:\n",
    "                counter += 1\n",
    "                if counter > max_seq:\n",
    "                    max_seq = counter\n",
    "            else:\n",
    "                counter == 0\n",
    "                \n",
    "    return max_seq"
   ]
  },
  {
   "cell_type": "code",
   "execution_count": 90,
   "id": "721802c7",
   "metadata": {},
   "outputs": [
    {
     "data": {
      "text/plain": [
       "4"
      ]
     },
     "execution_count": 90,
     "metadata": {},
     "output_type": "execute_result"
    }
   ],
   "source": [
    "#arr = [100, 200, 1, 3, 2, 4]\n",
    "arr = [3, 8, 5, 7, 6]\n",
    "\n",
    "longest_consecutive_seq(arr)"
   ]
  },
  {
   "cell_type": "markdown",
   "id": "8d397211",
   "metadata": {},
   "source": [
    "### improved"
   ]
  },
  {
   "cell_type": "code",
   "execution_count": 119,
   "id": "a85c7341",
   "metadata": {},
   "outputs": [],
   "source": [
    "def longest_consecutive_seq(arr):\n",
    "    hashset = set()\n",
    "    \n",
    "    for num in arr:\n",
    "        hashset.add(num)\n",
    "\n",
    "    max_seq = 0\n",
    "\n",
    "    for num in range(len(arr)):\n",
    "        current_num = num\n",
    "        current_seq = 0\n",
    "        \n",
    "        while (current_num + 1) in hashset:\n",
    "            current_num += 1\n",
    "            current_seq += 1\n",
    "            \n",
    "        max_seq = max(max_seq, current_seq)\n",
    "        \n",
    "    return max_seq"
   ]
  },
  {
   "cell_type": "code",
   "execution_count": 120,
   "id": "f8494304",
   "metadata": {},
   "outputs": [
    {
     "data": {
      "text/plain": [
       "4"
      ]
     },
     "execution_count": 120,
     "metadata": {},
     "output_type": "execute_result"
    }
   ],
   "source": [
    "#arr = [100, 200, 1, 3, 2, 4]\n",
    "arr = [3, 1, 2, 8, 5, 7, 6, 20, 30, 40]\n",
    "\n",
    "longest_consecutive_seq(arr)"
   ]
  },
  {
   "cell_type": "markdown",
   "id": "19340290",
   "metadata": {},
   "source": [
    "# 2 - House Robber\n",
    "\n",
    "You are a professional robber planning to rob houses along a street. Each house has a certain amount of money stashed, the only constraint stopping you from robbing each of them is that adjacent houses have security systems connected and it will automatically contact the police if two adjacent houses were broken into on the same night.\n",
    "\n",
    "Given an integer array nums representing the amount of money of each house, return the maximum amount of money you can rob tonight without alerting the police.\n",
    "\n",
    " \n",
    "\n",
    "__Example 1:__\n",
    "\n",
    "__Input:__ nums = [1,2,3,1]\n",
    "\n",
    "__Output:__ 4\n",
    "\n",
    "__Explanation:__ Rob house 1 (money = 1) and then rob house 3 (money = 3).\n",
    "Total amount you can rob = 1 + 3 = 4.\n",
    "\n",
    "__Example 2:__\n",
    "\n",
    "__Input:__ nums = [2,7,9,3,1]\n",
    "\n",
    "__Output:__ 12\n",
    "\n",
    "__Explanation:__ Rob house 1 (money = 2), rob house 3 (money = 9) and rob house 5 (money = 1).\n",
    "Total amount you can rob = 2 + 9 + 1 = 12. "
   ]
  },
  {
   "cell_type": "code",
   "execution_count": 134,
   "id": "f704a8ff",
   "metadata": {},
   "outputs": [],
   "source": [
    "# brute force\n",
    "def house_robber(houses):\n",
    "    rob1 = 0\n",
    "    rob2 = 0\n",
    "    \n",
    "    for i in range(0, len(houses), 2):\n",
    "        rob1 += houses[i]\n",
    "        \n",
    "    for i in range(1, len(houses), 2):\n",
    "        rob2 += houses[i]\n",
    "        \n",
    "    return max(rob1, rob2)"
   ]
  },
  {
   "cell_type": "code",
   "execution_count": 136,
   "id": "7469784b",
   "metadata": {},
   "outputs": [
    {
     "data": {
      "text/plain": [
       "12"
      ]
     },
     "execution_count": 136,
     "metadata": {},
     "output_type": "execute_result"
    }
   ],
   "source": [
    "#houses = [1,2,3,1]\n",
    "houses = [2,7,9,3,1]\n",
    "house_robber(houses)"
   ]
  },
  {
   "cell_type": "code",
   "execution_count": null,
   "id": "798ad8fb",
   "metadata": {},
   "outputs": [],
   "source": []
  },
  {
   "cell_type": "code",
   "execution_count": null,
   "id": "84fce559",
   "metadata": {},
   "outputs": [],
   "source": []
  }
 ],
 "metadata": {
  "kernelspec": {
   "display_name": "Python 3 (ipykernel)",
   "language": "python",
   "name": "python3"
  },
  "language_info": {
   "codemirror_mode": {
    "name": "ipython",
    "version": 3
   },
   "file_extension": ".py",
   "mimetype": "text/x-python",
   "name": "python",
   "nbconvert_exporter": "python",
   "pygments_lexer": "ipython3",
   "version": "3.8.10"
  }
 },
 "nbformat": 4,
 "nbformat_minor": 5
}
