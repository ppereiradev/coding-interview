{
 "cells": [
  {
   "cell_type": "markdown",
   "id": "f8de0644",
   "metadata": {},
   "source": [
    "# ARRAYS - the Google Interview\n",
    "\n",
    "https://takeuforward-org.cdn.ampproject.org/c/s/takeuforward.org/interviews/strivers-sde-sheet-top-coding-interview-problems/?amp=1"
   ]
  },
  {
   "cell_type": "markdown",
   "id": "1a007f76",
   "metadata": {},
   "source": [
    "# 1 - Set Matrix Zero\n",
    "\n",
    "__Problem Statement__: Given a matrix if an element in the matrix is 0 then you will have to set its entire column and row to 0 and then return the matrix.\n",
    "\n",
    "__Examples:__\n",
    "\n",
    "__Examples 1:__\n",
    "\n",
    "__Input:__ matrix=[[1,1,1],[1,0,1],[1,1,1]]\n",
    "\n",
    "__Output:__ [[1,0,1],[0,0,0],[1,0,1]]\n",
    "\n",
    "__Explanation:__ Since matrix[2][2]=0.Therfore the 2nd column and 2nd row wil be set to 0.\n",
    " \n",
    "__Input:__ matrix=[[0,1,2,0],[3,4,5,2],[1,3,1,5]]\n",
    "\n",
    "__Output:__ [[0,0,0,0],[0,4,5,0],[0,3,1,0]]\n",
    "\n",
    "__Explanation:__ Since matrix[0][0]=0 and matrix[0][3]=0. Therefore 1st row, 1st column and 4th column will be set to 0\n"
   ]
  },
  {
   "cell_type": "markdown",
   "id": "00ffd650",
   "metadata": {},
   "source": [
    "### Brute Force O(n^2 * m + n * m^2)"
   ]
  },
  {
   "cell_type": "code",
   "execution_count": 37,
   "id": "873c8981",
   "metadata": {},
   "outputs": [],
   "source": [
    "def set_matrix_zero(matrix):\n",
    "    matrix_aux = [x[:] for x in matrix]\n",
    "\n",
    "    for i in range(len(matrix)):\n",
    "        for j in range(len(matrix[0])):\n",
    "            if matrix[i][j] == 0:\n",
    "\n",
    "                for k in range(len(matrix)):\n",
    "                    matrix_aux[k][j] = 0\n",
    "\n",
    "                for k in range(len(matrix[0])):\n",
    "                    matrix_aux[i][k] = 0\n",
    "                    \n",
    "    return matrix_aux"
   ]
  },
  {
   "cell_type": "code",
   "execution_count": 38,
   "id": "66c57ac8",
   "metadata": {},
   "outputs": [
    {
     "name": "stdout",
     "output_type": "stream",
     "text": [
      "[[1, 0, 1], [0, 0, 0], [1, 0, 1]]\n"
     ]
    }
   ],
   "source": [
    "matrix = [[1,1,1],[1,0,1],[1,1,1]]\n",
    "\n",
    "print(set_matrix_zero(matrix))"
   ]
  },
  {
   "cell_type": "code",
   "execution_count": 39,
   "id": "fa8ab6d3",
   "metadata": {},
   "outputs": [
    {
     "name": "stdout",
     "output_type": "stream",
     "text": [
      "[[0, 0, 0, 0], [0, 4, 5, 0], [0, 3, 1, 0]]\n"
     ]
    }
   ],
   "source": [
    "matrix = [[0,1,2,0],[3,4,5,2],[1,3,1,5]]\n",
    "\n",
    "print(set_matrix_zero(matrix))"
   ]
  },
  {
   "cell_type": "markdown",
   "id": "d748aa77",
   "metadata": {},
   "source": [
    "### Improved O(n * m + k * n + k * m) = O(n * m)"
   ]
  },
  {
   "cell_type": "code",
   "execution_count": 40,
   "id": "1119411c",
   "metadata": {},
   "outputs": [],
   "source": [
    "def set_matrix_zero(matrix):\n",
    "    matrix_aux = [x[:] for x in matrix]\n",
    "    \n",
    "    point = {}\n",
    "    count = 0\n",
    "    for i in range(len(matrix)):\n",
    "        for j in range(len(matrix[0])):\n",
    "            if matrix[i][j] == 0:\n",
    "                point[count] = (i, j)\n",
    "                count += 1\n",
    "                \n",
    "    for i in point:\n",
    "        for k in range(len(matrix)):\n",
    "            matrix_aux[k][point[i][1]] = 0\n",
    "\n",
    "        for k in range(len(matrix[0])):\n",
    "            matrix_aux[point[i][0]][k] = 0\n",
    "    \n",
    "    return matrix_aux    "
   ]
  },
  {
   "cell_type": "code",
   "execution_count": 42,
   "id": "f0a02c58",
   "metadata": {},
   "outputs": [
    {
     "name": "stdout",
     "output_type": "stream",
     "text": [
      "[[1, 0, 1], [0, 0, 0], [1, 0, 1]]\n"
     ]
    }
   ],
   "source": [
    "matrix = [[1,1,1],[1,0,1],[1,1,1]]\n",
    "\n",
    "print(set_matrix_zero(matrix))"
   ]
  },
  {
   "cell_type": "code",
   "execution_count": 43,
   "id": "7dfa3de3",
   "metadata": {},
   "outputs": [
    {
     "name": "stdout",
     "output_type": "stream",
     "text": [
      "[[0, 0, 0, 0], [0, 4, 5, 0], [0, 3, 1, 0]]\n"
     ]
    }
   ],
   "source": [
    "matrix = [[0,1,2,0],[3,4,5,2],[1,3,1,5]]\n",
    "\n",
    "print(set_matrix_zero(matrix))"
   ]
  },
  {
   "cell_type": "markdown",
   "id": "bb6892da",
   "metadata": {},
   "source": [
    "# 2 - Pascal’s Triangle\n",
    "\n",
    "__Problem Statement:__ Given an integer N, return the first N rows of Pascal’s triangle.\n",
    "\n",
    "\n",
    "__Example 1:__\n",
    "\n",
    "Input Format: N = 5\n",
    "\n",
    "Result: 1     1 1     1 2 1     1 3 3 1    1 4 6 4 1\n",
    "\n",
    "\n",
    "        1\n",
    "    \n",
    "       1 1\n",
    "   \n",
    "      1 2 1\n",
    "  \n",
    "     1 3 3 1\n",
    " \n",
    "    1 4 6 4 1\n",
    "\n",
    "Explanation: There are 5 rows in the output matrix. Each row corresponds to each one of the rows in the image shown above.\n",
    "\n",
    "\n",
    "__Example 2:__\n",
    "\n",
    "Input Format: N = 1\n",
    "\n",
    "Result: \n",
    "    1"
   ]
  },
  {
   "cell_type": "code",
   "execution_count": 134,
   "id": "a3885ece",
   "metadata": {},
   "outputs": [],
   "source": [
    "def pascal(n):\n",
    "    res = []\n",
    "    \n",
    "    for i in range(1,n + 1):\n",
    "        row = []\n",
    "        for j in range(i):\n",
    "            if j == 0 or j == i - 1:\n",
    "                row.append(1)\n",
    "            else:\n",
    "                row.append(res[i-2][j] + res[i-2][j-1])\n",
    "        \n",
    "        res.append(row)\n",
    "    \n",
    "    return res"
   ]
  },
  {
   "cell_type": "code",
   "execution_count": 137,
   "id": "4dbd9b13",
   "metadata": {},
   "outputs": [
    {
     "name": "stdout",
     "output_type": "stream",
     "text": [
      "[[1], [1, 1], [1, 2, 1], [1, 3, 3, 1], [1, 4, 6, 4, 1], [1, 5, 10, 10, 5, 1]]\n"
     ]
    }
   ],
   "source": [
    "pascal(6)"
   ]
  },
  {
   "cell_type": "markdown",
   "id": "c26f73c4",
   "metadata": {},
   "source": [
    "# 3 - Next Permutation: find next lexicographically greater permutation\n",
    "\n",
    "__Problem Statement:__ Given an array Arr[] of integers, rearrange the numbers of the given array into the lexicographically next greater permutation of numbers.\n",
    "\n",
    "If such an arrangement is not possible, it must rearrange it as the lowest possible order (i.e., sorted in ascending order).\n",
    "\n",
    "__Example 1:__\n",
    "\n",
    "Input format: Arr[] = {1,3,2}\n",
    "\n",
    "Output: Arr[] = {2,1,3}\n",
    "\n",
    "Explanation: All permutations of {1,2,3} are {{1,2,3} , {1,3,2}, {2,1,3} , {2,3,1} , {3,1,2} , {3,2,1}}. So, the next permutation just after {1,3,2} is {2,1,3}.\n",
    "\n",
    "__Example 2:__\n",
    "\n",
    "Input format: Arr[] = {3,2,1}\n",
    "\n",
    "Output: Arr[] = {1,2,3}\n",
    "\n",
    "Explanation: As we see all permutations of {1,2,3}, we find {3,2,1} at the last position. So, we have to return the topmost permutation."
   ]
  },
  {
   "cell_type": "code",
   "execution_count": 230,
   "id": "c599dd5b",
   "metadata": {},
   "outputs": [],
   "source": [
    "def quick_sort(sequence):\n",
    "    if len(sequence) <= 1:\n",
    "        return sequence\n",
    "    else:\n",
    "        pivot = sequence.pop()\n",
    "        \n",
    "    items_lower = []\n",
    "    items_greater = []\n",
    "    \n",
    "    for item in sequence:\n",
    "        if item < pivot:\n",
    "            items_lower.append(item)\n",
    "        else:\n",
    "            items_greater.append(item)\n",
    "    \n",
    "    return quick_sort(items_lower) + [pivot] + quick_sort(items_greater)\n",
    "\n",
    "\n",
    "# Python function to print permutations of a given list\n",
    "def permutation(lst):\n",
    "    # If lst is empty then there are no permutations\n",
    "    if len(lst) == 0:\n",
    "        return []\n",
    " \n",
    "    # If there is only one element in lst then, only\n",
    "    # one permutation is possible\n",
    "    if len(lst) == 1:\n",
    "        return [lst]\n",
    " \n",
    "    # Find the permutations for lst if there are\n",
    "    # more than 1 characters\n",
    "\n",
    "    l = [] # empty list that will store current permutation\n",
    " \n",
    "    # Iterate the input(lst) and calculate the permutation\n",
    "    for i in range(len(lst)):\n",
    "        m = lst[i]\n",
    "        \n",
    "        # Extract lst[i] or m from the list.  remLst is\n",
    "        # remaining list\n",
    "        remLst = lst[:i] + lst[i+1:]\n",
    "        \n",
    "        # Generating all permutations where m is first\n",
    "        # element\n",
    "        for p in permutation(remLst):\n",
    "            l.append([m] + p)\n",
    "            \n",
    "    return l\n",
    "\n",
    "\n",
    "def next_permutation(arr):\n",
    "    arr_aux = arr[:]\n",
    "    arr_aux = quick_sort(arr_aux)\n",
    "    result = []\n",
    "    \n",
    "    for p in permutation(arr_aux):\n",
    "        result.append(p)\n",
    "    \n",
    "    for idx, value in enumerate(result):\n",
    "        if value == arr:\n",
    "            return result[(idx + 1)%len(result)]\n",
    "    "
   ]
  },
  {
   "cell_type": "code",
   "execution_count": 231,
   "id": "173b3269",
   "metadata": {},
   "outputs": [
    {
     "data": {
      "text/plain": [
       "[2, 1, 3]"
      ]
     },
     "execution_count": 231,
     "metadata": {},
     "output_type": "execute_result"
    }
   ],
   "source": [
    "arr = [1,3,2]\n",
    "next_permutation(arr)"
   ]
  },
  {
   "cell_type": "code",
   "execution_count": 232,
   "id": "ad704326",
   "metadata": {},
   "outputs": [
    {
     "data": {
      "text/plain": [
       "[1, 2, 3]"
      ]
     },
     "execution_count": 232,
     "metadata": {},
     "output_type": "execute_result"
    }
   ],
   "source": [
    "arr = [3,2,1]\n",
    "next_permutation(arr)"
   ]
  },
  {
   "cell_type": "markdown",
   "id": "27851141",
   "metadata": {},
   "source": [
    "# 4 - Kadane’s Algorithm : Maximum Subarray Sum in an Array\n",
    "\n",
    "__Problem Statement:__ Given an integer array arr, find the contiguous subarray (containing at least one number) which has the largest sum and return its sum and print the subarray.\n",
    "\n",
    "__Example 1:__\n",
    "\n",
    "Input: arr = [-2,1,-3,4,-1,2,1,-5,4] \n",
    "\n",
    "Output: 6 \n",
    "\n",
    "Explanation: [4,-1,2,1] has the largest sum = 6. \n",
    "\n",
    "__Examples 2:__\n",
    "\n",
    "Input: arr = [1] \n",
    "\n",
    "Output: 1 \n",
    "\n",
    "Explanation: Array has only one element and which is giving positive sum of 1. "
   ]
  },
  {
   "cell_type": "markdown",
   "id": "98c12046",
   "metadata": {},
   "source": [
    "### Brute Force - O(n^3) - because built-in sum() is O(n)"
   ]
  },
  {
   "cell_type": "code",
   "execution_count": 298,
   "id": "7cd351ca",
   "metadata": {},
   "outputs": [],
   "source": [
    "def kadane(arr):\n",
    "    if len(arr) == 1:\n",
    "        print(arr)\n",
    "        return arr[0]\n",
    "\n",
    "    all_subarr = {}\n",
    "    \n",
    "    for i in range(len(arr)):\n",
    "        for j in range(i,len(arr)):\n",
    "            all_subarr[sum(arr[i:j])] = arr[i:j]\n",
    "    \n",
    "    result = max(all_subarr)\n",
    "    \n",
    "    print(all_subarr[result])\n",
    "    \n",
    "    return result"
   ]
  },
  {
   "cell_type": "code",
   "execution_count": 299,
   "id": "3c27abcc",
   "metadata": {},
   "outputs": [
    {
     "name": "stdout",
     "output_type": "stream",
     "text": [
      "[4, -1, 2, 1]\n",
      "Result:  6\n"
     ]
    }
   ],
   "source": [
    "arr = [-2,1,-3,4,-1,2,1,-5,4] \n",
    "print(\"Result: \", kadane(arr))"
   ]
  },
  {
   "cell_type": "markdown",
   "id": "2cf2e43d",
   "metadata": {},
   "source": [
    "### Better approach - O(n^2)"
   ]
  },
  {
   "cell_type": "code",
   "execution_count": 308,
   "id": "b6008e9d",
   "metadata": {},
   "outputs": [],
   "source": [
    "def kadane(arr):\n",
    "    if len(arr) == 1:\n",
    "        print(arr)\n",
    "        return arr[0]\n",
    "\n",
    "    all_subarr = {}\n",
    "    result_sum = float('-inf')\n",
    "    \n",
    "    for i in range(len(arr)):\n",
    "        temp_sum = 0\n",
    "        for j in range(i,len(arr)):\n",
    "            temp_sum += arr[j]\n",
    "            if result_sum < temp_sum:\n",
    "                result_sum = temp_sum\n",
    "                all_subarr[result_sum] = arr[i:j+1]\n",
    "    \n",
    "    print(all_subarr[result_sum])\n",
    "    \n",
    "    return result_sum"
   ]
  },
  {
   "cell_type": "code",
   "execution_count": 309,
   "id": "57f6d0f0",
   "metadata": {},
   "outputs": [
    {
     "name": "stdout",
     "output_type": "stream",
     "text": [
      "[4, -1, 2, 1]\n",
      "Result:  6\n"
     ]
    }
   ],
   "source": [
    "arr = [-2,1,-3,4,-1,2,1,-5,4] \n",
    "print(\"Result: \", kadane(arr))"
   ]
  },
  {
   "cell_type": "markdown",
   "id": "4f0a1d54",
   "metadata": {},
   "source": [
    "# 5 - Sort an array of 0s, 1s and 2s\n",
    "\n",
    "__Problem Statement:__ Given an array consisting of only 0s, 1s and 2s. Write a program to in-place sort the array without using inbuilt sort functions. ( Expected: Single pass-O(N) and constant space)\n",
    "\n",
    "__Example 1:__\n",
    "\n",
    "Input: nums = [2,0,2,1,1,0]\n",
    "\n",
    "Output: [0,0,1,1,2,2]\n",
    "\n",
    "Input: nums = [2,0,1]\n",
    "\n",
    "Output: [0,1,2]\n",
    "\n",
    "Input: nums = [0]\n",
    "Input: nums = [0]"
   ]
  },
  {
   "cell_type": "code",
   "execution_count": 310,
   "id": "4de1b163",
   "metadata": {},
   "outputs": [],
   "source": [
    "def quick_sort(arr):\n",
    "    if len(arr) <= 1:\n",
    "        return arr\n",
    "    \n",
    "    pivot =  arr.pop()\n",
    "    left = []\n",
    "    right = []\n",
    "    \n",
    "    for item in arr:\n",
    "        if item <= pivot:\n",
    "            left.append(item)\n",
    "        else:\n",
    "            right.append(item)\n",
    "            \n",
    "    return quick_sort(left) + [pivot] + quick_sort(right)"
   ]
  },
  {
   "cell_type": "code",
   "execution_count": 311,
   "id": "959935e0",
   "metadata": {},
   "outputs": [
    {
     "name": "stdout",
     "output_type": "stream",
     "text": [
      "[0, 0, 1, 1, 2, 2]\n"
     ]
    }
   ],
   "source": [
    "nums = [2,0,2,1,1,0]\n",
    "print(quick_sort(nums))"
   ]
  },
  {
   "cell_type": "markdown",
   "id": "4940aac0",
   "metadata": {},
   "source": [
    "### improved - O(n)"
   ]
  },
  {
   "cell_type": "code",
   "execution_count": 346,
   "id": "4c29a195",
   "metadata": {},
   "outputs": [],
   "source": [
    "def sorting(arr):\n",
    "    \n",
    "    low = 0\n",
    "    mid = 0\n",
    "    high = len(arr)-1\n",
    "    \n",
    "    while mid < high:\n",
    "        if arr[mid] == 0:\n",
    "            temp = arr[low]\n",
    "            arr[low] = arr[mid]\n",
    "            arr[mid] = temp\n",
    "            low += 1\n",
    "            mid += 1\n",
    "        elif arr[mid] == 1:\n",
    "            mid += 1\n",
    "        else:\n",
    "            temp = arr[high]\n",
    "            arr[high] = arr[mid]\n",
    "            arr[mid] = temp\n",
    "            mid += 1\n",
    "            high -= 1\n",
    "    \n",
    "    return arr"
   ]
  },
  {
   "cell_type": "code",
   "execution_count": 347,
   "id": "69ebf60c",
   "metadata": {},
   "outputs": [
    {
     "name": "stdout",
     "output_type": "stream",
     "text": [
      "[0, 0, 1, 1, 2, 2]\n"
     ]
    }
   ],
   "source": [
    "nums = [2,0,2,1,1,0]\n",
    "print(sorting(nums))"
   ]
  },
  {
   "cell_type": "markdown",
   "id": "f47676da",
   "metadata": {},
   "source": [
    "# 6 - Stock Buy And Sell\n",
    "\n",
    "__Problem Statement:__ You are given an array of prices where prices[i] is the price of a given stock on an ith day.\n",
    "\n",
    "You want to maximize your profit by choosing a single day to buy one stock and choosing a different day in the future to sell that stock. Return the maximum profit you can achieve from this transaction. If you cannot achieve any profit, return 0.\n",
    "\n",
    "__Example 1:__\n",
    "\n",
    "Input: prices = [7,1,5,3,6,4]\n",
    "\n",
    "Output: 5\n",
    "\n",
    "Explanation: Buy on day 2 (price = 1) and sell on day 5 (price = 6), profit = 6-1 = 5.\n",
    "\n",
    "Note: That buying on day 2 and selling on day 1 is not allowed because you must buy before you sell.\n",
    "\n",
    "__Example 2:__\n",
    "\n",
    "Input: prices = [7,6,4,3,1]\n",
    "\n",
    "Output: 0\n",
    "\n",
    "Explanation: In this case, no transactions are done and the max profit = 0."
   ]
  },
  {
   "cell_type": "markdown",
   "id": "fcad8e61",
   "metadata": {},
   "source": [
    "### Brute Force - O(n^2)"
   ]
  },
  {
   "cell_type": "code",
   "execution_count": 352,
   "id": "d7abfe89",
   "metadata": {},
   "outputs": [],
   "source": [
    "def buy_sell(arr):\n",
    "    max_value = float(\"-inf\")\n",
    "    buy = 0\n",
    "    sell = 0\n",
    "    \n",
    "    for i in range(len(arr)):\n",
    "        for j in range(i+1, len(arr)):\n",
    "            if arr[i] >= arr[j]:\n",
    "                continue\n",
    "            elif arr[j] - arr[i] > max_value:\n",
    "                buy = i\n",
    "                sell = j\n",
    "                max_value = arr[j] - arr[i]\n",
    "                \n",
    "    print(buy, sell, max_value)\n",
    "    return max_value                "
   ]
  },
  {
   "cell_type": "code",
   "execution_count": 354,
   "id": "6c8344bd",
   "metadata": {},
   "outputs": [
    {
     "name": "stdout",
     "output_type": "stream",
     "text": [
      "1 4 5\n"
     ]
    },
    {
     "data": {
      "text/plain": [
       "5"
      ]
     },
     "execution_count": 354,
     "metadata": {},
     "output_type": "execute_result"
    }
   ],
   "source": [
    "prices = [7,1,5,3,6,4]\n",
    "buy_sell(prices)"
   ]
  },
  {
   "cell_type": "markdown",
   "id": "f5385211",
   "metadata": {},
   "source": [
    "### Improved - O(n)"
   ]
  },
  {
   "cell_type": "code",
   "execution_count": 16,
   "id": "78e2ae9a",
   "metadata": {},
   "outputs": [],
   "source": [
    "def buy_sell_improved(arr):\n",
    "    \n",
    "    buy_idx = 0\n",
    "    max_profit = 0\n",
    "    \n",
    "    for i in range(1,len(arr)):\n",
    "\n",
    "        if arr[i] < arr[buy_idx]:\n",
    "            buy_idx = i\n",
    "            continue\n",
    "\n",
    "        if max_profit < arr[i] - arr[buy_idx]:\n",
    "            max_profit = arr[i] - arr[buy_idx]\n",
    "                \n",
    "        \n",
    "    return max_profit\n"
   ]
  },
  {
   "cell_type": "code",
   "execution_count": 17,
   "id": "a80d2f91",
   "metadata": {},
   "outputs": [
    {
     "data": {
      "text/plain": [
       "5"
      ]
     },
     "execution_count": 17,
     "metadata": {},
     "output_type": "execute_result"
    }
   ],
   "source": [
    "prices = [7,1,5,3,6,4]\n",
    "buy_sell_improved(prices)"
   ]
  },
  {
   "cell_type": "markdown",
   "id": "a95b7440",
   "metadata": {},
   "source": [
    "# 7 - Rotate Image by 90 degree\n",
    "\n",
    "__Problem Statement:__ Given a matrix, your task is to rotate the matrix by 90 degrees.\n",
    "\n",
    "__Example 1:__\n",
    "\n",
    "Input: [[1,2,3],[4,5,6],[7,8,9]]\n",
    "\n",
    "Output: [[7,4,1],[8,5,2],[9,6,3]]\n",
    "\n",
    "Explanation: Rotate the matrix simply by 90 degree clockwise and return the matrix.\n",
    "\n",
    "__Example 2:__\n",
    "\n",
    "Input: [[5,1,9,11],[2,4,8,10],[13,3,6,7],[15,14,12,16]]\n",
    "\n",
    "Output:[[15,13,2,5],[14,3,4,1],[12,6,8,9],[16,7,10,11]]\n",
    "\n",
    "Explanation: Rotate the matrix simply by 90 degree clockwise and return the matrix\n"
   ]
  },
  {
   "cell_type": "markdown",
   "id": "882c661c",
   "metadata": {},
   "source": [
    "### Brute force - O(n^2)"
   ]
  },
  {
   "cell_type": "code",
   "execution_count": 23,
   "id": "f870cfc9",
   "metadata": {},
   "outputs": [],
   "source": [
    "def rotate_90(matrix):\n",
    "    result_matrix = [[0] * len(matrix[0]) for i in matrix]\n",
    "    \n",
    "    for i in range(len(matrix)):\n",
    "        for j in range(len(matrix[0])):\n",
    "            result_matrix[j][-1*(i+1)] = matrix[i][j]\n",
    "    \n",
    "    return result_matrix"
   ]
  },
  {
   "cell_type": "code",
   "execution_count": 24,
   "id": "0645b1de",
   "metadata": {},
   "outputs": [
    {
     "name": "stdout",
     "output_type": "stream",
     "text": [
      "[[7, 4, 1], [8, 5, 2], [9, 6, 3]]\n"
     ]
    }
   ],
   "source": [
    "matrix = [[1,2,3],[4,5,6],[7,8,9]]\n",
    "print(rotate_90(matrix))"
   ]
  },
  {
   "cell_type": "markdown",
   "id": "0eeb947b",
   "metadata": {},
   "source": [
    "# 8 - Merge Overlapping Sub-intervals\n",
    "\n",
    "__Problem Statement:__ Given an array of intervals, merge all the overlapping intervals and return an array of non-overlapping intervals.\n",
    "\n",
    "__Example 1:__\n",
    "\n",
    "Input: intervals=[[1,3],[2,6],[8,10],[15,18]]\n",
    "\n",
    "Output: [[1,6],[8,10],[15,18]]\n",
    "\n",
    "Explanation: Since intervals [1,3] and [2,6] are overlapping we can merge them to form [1,6] intervals.\n",
    "\n",
    "__Example 2:__\n",
    "\n",
    "Input: [[1,4],[4,5]]\n",
    "\n",
    "Output: [[1,5]]\n",
    "\n",
    "Explanation: Since intervals [1,3] and [2,6] are overlapping we can merge them to form [1,6] intervals."
   ]
  },
  {
   "cell_type": "markdown",
   "id": "335001f9",
   "metadata": {},
   "source": [
    "### Improved - O(n)"
   ]
  },
  {
   "cell_type": "code",
   "execution_count": 196,
   "id": "a5eda02d",
   "metadata": {},
   "outputs": [],
   "source": [
    "def quick_sort(sequence):\n",
    "    if len(sequence) <= 1:\n",
    "        return sequence\n",
    "    \n",
    "    pivot = sequence.pop()\n",
    "    left = []\n",
    "    right = []\n",
    "    \n",
    "    for i in sequence:\n",
    "        if i[0] <= pivot[0]:\n",
    "            left.append(i)\n",
    "        else:\n",
    "            right.append(i)\n",
    "            \n",
    "    return quick_sort(left) + [pivot] + quick_sort(right)"
   ]
  },
  {
   "cell_type": "code",
   "execution_count": 197,
   "id": "e205d888",
   "metadata": {},
   "outputs": [],
   "source": [
    "def merge_subintervals(intervals):\n",
    "    intervals = quick_sort(intervals)\n",
    "    result_intervals = [intervals[0]]\n",
    "    count = 0\n",
    "    \n",
    "    for i in range(1,len(intervals)):\n",
    "        if result_intervals[count][1] >= intervals[i][0]:\n",
    "            result_intervals[count] = [result_intervals[count][0],intervals[i][1]]\n",
    "        else:\n",
    "            result_intervals.append(intervals[i])\n",
    "            count += 1\n",
    "                \n",
    "    return result_intervals"
   ]
  },
  {
   "cell_type": "code",
   "execution_count": 198,
   "id": "511775b9",
   "metadata": {},
   "outputs": [
    {
     "name": "stdout",
     "output_type": "stream",
     "text": [
      "[[1, 6], [8, 10], [15, 18]]\n"
     ]
    }
   ],
   "source": [
    "intervals = [[1,3],[2,6],[8,10],[15,18]]\n",
    "print(merge_subintervals(intervals))"
   ]
  },
  {
   "cell_type": "code",
   "execution_count": 199,
   "id": "0ef2900b",
   "metadata": {},
   "outputs": [
    {
     "name": "stdout",
     "output_type": "stream",
     "text": [
      "[[1, 10], [15, 18]]\n"
     ]
    }
   ],
   "source": [
    "intervals = [[2,6],[5,10],[15,18],[1,3]]\n",
    "print(merge_subintervals(intervals))"
   ]
  },
  {
   "cell_type": "markdown",
   "id": "7bc99e59",
   "metadata": {},
   "source": [
    "# 9 - Merge two Sorted Arrays Without Extra Space\n",
    "\n",
    "__Problem statement:__ Given two sorted arrays arr1[] and arr2[] of sizes n and m in non-decreasing order. Merge them in sorted order. Modify arr1 so that it contains the first N elements and modify arr2 so that it contains the last M elements.\n",
    "\n",
    "__Example 1:__\n",
    "\n",
    "Input: \n",
    "n = 4, arr1[] = [1 4 8 10] \n",
    "m = 5, arr2[] = [2 3 9]\n",
    "\n",
    "Output: \n",
    "arr1[] = [1 2 3 4]\n",
    "arr2[] = [8 9 10]\n",
    "\n",
    "Explanation:\n",
    "After merging the two \n",
    "non-decreasing arrays, we get, \n",
    "1,2,3,4,8,9,10.\n",
    "\n",
    "__Example2:__\n",
    "\n",
    "Input: \n",
    "n = 4, arr1[] = [1 3 5 7] \n",
    "m = 5, arr2[] = [0 2 6 8 9]\n",
    "\n",
    "Output: \n",
    "arr1[] = [0 1 2 3]\n",
    "arr2[] = [5 6 7 8 9]\n",
    "\n",
    "Explanation:\n",
    "After merging the two \n",
    "non-decreasing arrays, we get, \n",
    "0 1 2 3 5 6 7 8 9."
   ]
  },
  {
   "cell_type": "markdown",
   "id": "857f7e8b",
   "metadata": {},
   "source": [
    "### Brute force - O(n^2)"
   ]
  },
  {
   "cell_type": "code",
   "execution_count": 290,
   "id": "5bfeee4d",
   "metadata": {},
   "outputs": [],
   "source": [
    "def merge_two_arr(arr1, arr2):\n",
    "    def quick(sequence):\n",
    "        if len(sequence) <= 1:\n",
    "            return sequence\n",
    "        \n",
    "        pivot = sequence.pop()\n",
    "        left = []\n",
    "        right = []\n",
    "        \n",
    "        for i in sequence:\n",
    "            if i <= pivot:\n",
    "                left.append(i)\n",
    "            else:\n",
    "                right.append(i)\n",
    "            \n",
    "        return quick(left) + [pivot] + quick(right)\n",
    "    \n",
    "    for i in range(len(arr1)):\n",
    "        for j in range(len(arr2)):\n",
    "            if arr1[i] > arr2[j]:\n",
    "                temp = arr1[i]\n",
    "                arr1[i] = arr2[j]\n",
    "                arr2[j] = temp\n",
    "    \n",
    "    arr2 = quick(arr2)\n",
    "    \n",
    "                \n",
    "    print(arr1, arr2)"
   ]
  },
  {
   "cell_type": "code",
   "execution_count": 291,
   "id": "57158ab0",
   "metadata": {},
   "outputs": [
    {
     "name": "stdout",
     "output_type": "stream",
     "text": [
      "[1, 2, 3, 4] [8, 9, 10]\n"
     ]
    }
   ],
   "source": [
    "arr1 = [1, 4, 8, 10] \n",
    "arr2 = [2, 3, 9]\n",
    "\n",
    "merge_two_arr(arr1, arr2)"
   ]
  },
  {
   "cell_type": "markdown",
   "id": "553f3e37",
   "metadata": {},
   "source": [
    "### Improved - O(nlogn)"
   ]
  },
  {
   "cell_type": "code",
   "execution_count": 292,
   "id": "dc4805ab",
   "metadata": {},
   "outputs": [],
   "source": [
    "def merge_two_arr(arr1, arr2):\n",
    "    def quick(sequence):\n",
    "        if len(sequence) <= 1:\n",
    "            return sequence\n",
    "        \n",
    "        pivot = sequence.pop()\n",
    "        left = []\n",
    "        right = []\n",
    "        \n",
    "        for i in sequence:\n",
    "            if i <= pivot:\n",
    "                left.append(i)\n",
    "            else:\n",
    "                right.append(i)\n",
    "        \n",
    "        return quick(left) + [pivot] + quick(right)\n",
    "    \n",
    "    aux = quick(arr1 + arr2)\n",
    "    \n",
    "    for i in range(len(arr1)):\n",
    "        arr1[i] = aux[i]\n",
    "    \n",
    "    for i in range(len(arr2)):\n",
    "        arr2[i] = aux[len(arr1) + i]\n",
    "        \n",
    "    print(arr1, arr2)"
   ]
  },
  {
   "cell_type": "code",
   "execution_count": 293,
   "id": "22ff2fcc",
   "metadata": {},
   "outputs": [
    {
     "name": "stdout",
     "output_type": "stream",
     "text": [
      "[1, 2, 3, 4] [8, 9, 10]\n"
     ]
    }
   ],
   "source": [
    "arr1 = [1, 4, 8, 10] \n",
    "arr2 = [2, 3, 9]\n",
    "\n",
    "merge_two_arr(arr1, arr2)"
   ]
  },
  {
   "cell_type": "code",
   "execution_count": 295,
   "id": "ea73721d",
   "metadata": {},
   "outputs": [
    {
     "name": "stdout",
     "output_type": "stream",
     "text": [
      "[0, 1, 2, 3] [5, 6, 7, 8, 9]\n"
     ]
    }
   ],
   "source": [
    "arr1 = [1, 3, 5, 7] \n",
    "arr2 = [0, 2, 6, 8, 9]\n",
    "\n",
    "merge_two_arr(arr1, arr2)"
   ]
  },
  {
   "cell_type": "markdown",
   "id": "45057156",
   "metadata": {},
   "source": [
    "### Improved Using Heap - O(nlogn)"
   ]
  },
  {
   "cell_type": "code",
   "execution_count": 296,
   "id": "d9d8d098",
   "metadata": {},
   "outputs": [],
   "source": [
    "class MinHeap:\n",
    "    def __init__(self):\n",
    "        self.heap = [0]\n",
    "        self.size = 0\n",
    "        \n",
    "    def insert(self, value):\n",
    "        self.heap.append(value)\n",
    "        self.size += 1\n",
    "        self._arrange(self.size)\n",
    "        \n",
    "    def _arrange(self, idx):\n",
    "        while idx//2 > 0:\n",
    "            if self.heap[idx] < self.heap[idx//2]:\n",
    "                self.heap[idx], self.heap[idx//2] = self.heap[idx//2], self.heap[idx]\n",
    "            idx //= 2\n",
    "            \n",
    "    def _minindex(self, idx):\n",
    "        if idx*2 + 1 > self.size:\n",
    "            return idx*2\n",
    "        elif self.heap[idx*2] < self.heap[idx*2+1]:\n",
    "            return idx*2\n",
    "        else:\n",
    "            return idx*2 + 1\n",
    "    \n",
    "    def _sink(self, idx):\n",
    "        while idx*2 <= self.size:\n",
    "            mi = self._minindex(idx)\n",
    "            \n",
    "            if self.heap[idx] > self.heap[mi]:\n",
    "                self.heap[idx], self.heap[mi] = self.heap[mi], self.heap[idx]\n",
    "            idx = mi\n",
    "    \n",
    "    def pop(self):\n",
    "        value = self.heap[1]\n",
    "        self.heap[1] = self.heap[self.size]\n",
    "        self.size -= 1\n",
    "        self.heap.pop()\n",
    "        self._sink(1)\n",
    "        return value"
   ]
  },
  {
   "cell_type": "code",
   "execution_count": 297,
   "id": "fffbe433",
   "metadata": {},
   "outputs": [],
   "source": [
    "def merge_two_arr(arr1, arr2):\n",
    "    h = MinHeap()\n",
    "    for i in (arr1+arr2):\n",
    "        h.insert(i)\n",
    "    \n",
    "    for i in range(len(arr1)):\n",
    "        arr1[i] = h.pop()\n",
    "    \n",
    "    for i in range(len(arr2)):\n",
    "        arr2[i] = h.pop()\n",
    "        \n",
    "    print(arr1, arr2)"
   ]
  },
  {
   "cell_type": "code",
   "execution_count": 299,
   "id": "b31f9ae0",
   "metadata": {},
   "outputs": [
    {
     "name": "stdout",
     "output_type": "stream",
     "text": [
      "[0, 1, 2, 3] [5, 6, 7, 8, 9]\n"
     ]
    }
   ],
   "source": [
    "arr1 = [1, 3, 5, 7] \n",
    "arr2 = [0, 2, 6, 8, 9]\n",
    "\n",
    "merge_two_arr(arr1, arr2)"
   ]
  },
  {
   "cell_type": "markdown",
   "id": "f2710f87",
   "metadata": {},
   "source": [
    "### Improved Using pointers - O(n+m)"
   ]
  },
  {
   "cell_type": "code",
   "execution_count": 304,
   "id": "82504ded",
   "metadata": {},
   "outputs": [],
   "source": [
    "\"\"\"\n",
    "               j\n",
    " i\n",
    "[1, 4, 8, 10] [2, 3, 9]\n",
    "\"\"\"\n",
    "def merge_two_arr(arr1, arr2):\n",
    "    arr1_aux = []\n",
    "    arr2_aux = []\n",
    "    \n",
    "    p1 = p2 = 0\n",
    "    \n",
    "    while len(arr2_aux) < len(arr2):\n",
    "        if len(arr1_aux) < len(arr1):\n",
    "            if arr1[p1] < arr2[p2]:\n",
    "                arr1_aux.append(arr1[p1])\n",
    "                p1 += 1\n",
    "                \n",
    "            elif arr1[p1] > arr2[p2]:\n",
    "                arr1_aux.append(arr2[p2])\n",
    "                p2 += 1\n",
    "                \n",
    "        else:\n",
    "            if (p1 < len(arr1) and p2 < len(arr2)) and arr1[p1] < arr2[p2]:\n",
    "                arr2_aux.append(arr1[p1])\n",
    "                p1 += 1\n",
    "\n",
    "            elif (p1 < len(arr1) and p2 < len(arr2)) and arr1[p1] > arr2[p2]:\n",
    "                arr2_aux.append(arr2[p2])\n",
    "                p2 += 1\n",
    "            \n",
    "            else:\n",
    "                if p1 >= len(arr1):\n",
    "                    arr2_aux +=  arr2[p2:]\n",
    "                elif p2 >= len(arr2):\n",
    "                    arr2_aux +=  arr1[p1:]\n",
    "        \n",
    "    print(arr1_aux, arr2_aux)"
   ]
  },
  {
   "cell_type": "code",
   "execution_count": 305,
   "id": "86730d4a",
   "metadata": {},
   "outputs": [
    {
     "name": "stdout",
     "output_type": "stream",
     "text": [
      "[1, 2, 3, 4] [8, 9, 10]\n"
     ]
    }
   ],
   "source": [
    "arr1 = [1, 4, 8, 10] \n",
    "arr2 = [2, 3, 9]\n",
    "\n",
    "merge_two_arr(arr1, arr2)"
   ]
  },
  {
   "cell_type": "code",
   "execution_count": 306,
   "id": "fc995380",
   "metadata": {},
   "outputs": [
    {
     "name": "stdout",
     "output_type": "stream",
     "text": [
      "[0, 1, 2, 3] [5, 6, 7, 8, 9]\n"
     ]
    }
   ],
   "source": [
    "arr1 = [1, 3, 5, 7] \n",
    "arr2 = [0, 2, 6, 8, 9]\n",
    "\n",
    "merge_two_arr(arr1, arr2)"
   ]
  },
  {
   "cell_type": "markdown",
   "id": "b0fd48f4",
   "metadata": {},
   "source": [
    "# 10 - Find the duplicate in an array of N+1 integers\n",
    "\n",
    "__Problem Statement:__ Given an array of N + 1 size, where each element is between 1 and N. Assuming there is only one duplicate number, your task is to find the duplicate number.\n",
    "\n",
    "__Example 1:__\n",
    "\n",
    "Input: arr=[1,3,4,2,2]\n",
    "\n",
    "Output: 2\n",
    "\n",
    "Explanation: Since 2 is the duplicate number the answer will be 2.\n",
    "\n",
    "__Example 2:__\n",
    "\n",
    "Input: [3,1,3,4,2]\n",
    "\n",
    "Output:3\n",
    "\n",
    "Explanation: Since 3 is the duplicate number the answer will be 3."
   ]
  },
  {
   "cell_type": "code",
   "execution_count": 347,
   "id": "162f8531",
   "metadata": {},
   "outputs": [],
   "source": [
    "\"\"\"\n",
    "dict = {}\n",
    "\n",
    "[0,9,8,7,6,5,4,3,2,1,9]\n",
    "\n",
    "dict[9] is not None\n",
    "return 9\n",
    "\n",
    "{0:0, 9:1, 8:2, ...1:9, }\n",
    "\"\"\"\n",
    "# time complexity: O(n), space complexity: O(n) + O(m)\n",
    "def find_duplicate(sequence):\n",
    "    if len(sequence) <= 1:\n",
    "        return sequence\n",
    "    \n",
    "    aux_duplicated = dict()\n",
    "    for idx, value in enumerate(sequence):\n",
    "        if aux_duplicated.get(value) is not None:\n",
    "            return value\n",
    "        else:\n",
    "            aux_duplicated[value] = idx"
   ]
  },
  {
   "cell_type": "code",
   "execution_count": 348,
   "id": "65868be7",
   "metadata": {},
   "outputs": [
    {
     "name": "stdout",
     "output_type": "stream",
     "text": [
      "9\n"
     ]
    }
   ],
   "source": [
    "arr = [0,9,8,7,6,5,4,3,2,1,9]\n",
    "print(find_duplicate(arr))"
   ]
  },
  {
   "cell_type": "markdown",
   "id": "6e844943",
   "metadata": {},
   "source": [
    "# 11 - Find the repeating and missing numbers\n",
    "\n",
    "__Problem Statement:__ You are given a read-only array of N integers with values also in the range [1,N] both inclusive. Each integer appears exactly once except A which appears twice and B which is missing. The task is to find the repeating and missing numbers A and B where A repeats twice and B is missing.\n",
    "\n",
    "__Example 1:__\n",
    "\n",
    "Input Format:  array[] = {3,1,2,5,3}\n",
    "\n",
    "Result: {3,4)\n",
    "\n",
    "Explanation: A = 3 , B = 4 \n",
    "Since 3 is appearing twice and 4 is missing\n",
    "\n",
    "__Example 2:__\n",
    "\n",
    "Input Format: array[] = {3,1,2,5,4,6,7,5}\n",
    "\n",
    "Result: {5,8)\n",
    "\n",
    "Explanation: A = 5 , B = 8 \n",
    "Since 5 is appearing twice and 8 is missing"
   ]
  },
  {
   "cell_type": "code",
   "execution_count": 349,
   "id": "677c6204",
   "metadata": {},
   "outputs": [],
   "source": [
    "\"\"\"\n",
    "arr = [3,6,1,2,3,4]\n",
    "\n",
    "A: 3 and B: 5\n",
    "\n",
    "dict = {}\n",
    "  mx mi    i\n",
    "[3,6,1,2,3,4]\n",
    "\n",
    "{3:2, 6:1, 1:1, 2:1, 4:1}\n",
    "\n",
    "duplicated = 3\n",
    "\n",
    "missing number = set(arr).difference(set(range(min(arr), max(arr)+1)))\n",
    "\n",
    "\"\"\"\n",
    "def find_dup_miss(sequence):\n",
    "    if len(sequence) <= 1:\n",
    "        return sequence\n",
    "    \n",
    "    aux = dict()\n",
    "    duplicated = None\n",
    "    min_value = float('inf')\n",
    "    max_value = float('-inf')\n",
    "    \n",
    "    # O(n)\n",
    "    for idx, value in enumerate(sequence):\n",
    "        \n",
    "        if min_value > value:\n",
    "            min_value = value\n",
    "        if max_value < value:\n",
    "            max_value = value\n",
    "            \n",
    "        if aux.get(value) is not None:\n",
    "            duplicated = value\n",
    "            \n",
    "        else:\n",
    "            aux[value] = idx\n",
    "    \n",
    "    missing = set(range(min_value, max_value+1)).difference(set(sequence)).pop()\n",
    "    \n",
    "    return \"A: {} - B: {}\".format(duplicated, missing)"
   ]
  },
  {
   "cell_type": "code",
   "execution_count": 346,
   "id": "98bf00a6",
   "metadata": {},
   "outputs": [
    {
     "data": {
      "text/plain": [
       "'A: 3 - B: 5'"
      ]
     },
     "execution_count": 346,
     "metadata": {},
     "output_type": "execute_result"
    }
   ],
   "source": [
    "arr = [3,6,1,2,3,4]\n",
    "\n",
    "find_dup_miss(arr)"
   ]
  },
  {
   "cell_type": "markdown",
   "id": "183acd0f",
   "metadata": {},
   "source": [
    "# 12 - Count inversions in an array\n",
    "\n",
    "__Problem Statement:__ Given an array of N integers, count the inversion of the array (using merge-sort). What is an inversion of an array? Definition: for all i & j < size of array, if i < j then you have to find pair (A[i],A[j]) such that A[j] < A[i].\n",
    "\n",
    "__Example 1:__\n",
    "\n",
    "Input Format: N = 5, array[] = {1,2,3,4,5}\n",
    "\n",
    "Result: 0\n",
    "\n",
    "Explanation: we have a sorted array and the sorted array \n",
    "has 0 inversions as for i < j you will never find a pair \n",
    "such that A[j] < A[i]. More clear example: 2 has index 1 \n",
    "and 5 has index 4 now 1 < 5 but 2 < 5 so this is not an \n",
    "inversion.\n",
    "\n",
    "__Example 2:__\n",
    "\n",
    "Input Format: N = 5, array[] = {5,4,3,2,1}\n",
    "\n",
    "Result: 10\n",
    "\n",
    "Explanation: we have a reverse sorted array and we will \n",
    "get the maximum inversions as for i < j we will always \n",
    "find a pair such that A[j] < A[i]. \n",
    "Example: 5 has index 0 and 3 has index 2 now (5,3) pair \n",
    "is inversion as 0 < 2 and 5 > 3 which will satisfy out \n",
    "conditions and for reverse sorted array we will get \n",
    "maximum inversions and that is (n)*(n-1) / 2.\n",
    "\n",
    "For above given array there is 4 + 3 + 2 + 1 = 10 inversions.\n",
    "\n",
    "__Example 3:__\n",
    "\n",
    "Input Format: N = 5, array[] = {5,3,2,1,4}\n",
    "\n",
    "Result: 8\n",
    "\n",
    "Explanation: There are 7 pairs (5,1), (5,3), (5,2), (5,4),\n",
    "(3,2), (3,1), (2,1) and we have left 2 pairs (2,4) and \n",
    "(1,4) as both are not satisfy our condition. "
   ]
  },
  {
   "cell_type": "code",
   "execution_count": 455,
   "id": "ada26305",
   "metadata": {},
   "outputs": [],
   "source": [
    "def merge_sort(arr, counter = 0):\n",
    "    if len(arr) > 1:\n",
    "        left = arr[:len(arr)//2]\n",
    "        right = arr[len(arr)//2:]\n",
    "        \n",
    "        counter = merge_sort(left, counter)\n",
    "        counter = merge_sort(right, counter)\n",
    "        \n",
    "        # index of left, right and arr consecutively\n",
    "        i = j = k = 0\n",
    "        \n",
    "        while i < len(left) and j < len(right):\n",
    "            if left[i] <= right[j]:\n",
    "                arr[k] = left[i]\n",
    "                i += 1                \n",
    "            else:\n",
    "                arr[k] = right[j]\n",
    "                j += 1\n",
    "                counter += 1\n",
    "                \n",
    "            k += 1\n",
    "            \n",
    "        while i < len(left):\n",
    "            arr[k] = left[i]\n",
    "            i += 1\n",
    "            k += 1\n",
    "            \n",
    "            if len(left) > 0 and len(right) > 1:\n",
    "                counter += 1\n",
    "            \n",
    "        while j < len(right):\n",
    "            arr[k] = right[j]\n",
    "            j += 1\n",
    "            k += 1\n",
    "            \n",
    "    \n",
    "    return counter"
   ]
  },
  {
   "cell_type": "code",
   "execution_count": 459,
   "id": "a3d35d1d",
   "metadata": {},
   "outputs": [
    {
     "name": "stdout",
     "output_type": "stream",
     "text": [
      "Amount of Inversions: 24\n",
      "[1, 2, 3, 4, 4, 5, 5, 5, 6, 7, 7, 8, 9, 23]\n",
      "Amount of Inversions: 10\n",
      "[1, 2, 3, 4, 5]\n"
     ]
    }
   ],
   "source": [
    "arr_test = [9,7,5,7,8,5,4,3,2,4,5,6,23,1]\n",
    "print(\"Amount of Inversions:\", merge_sort(arr_test))\n",
    "print(arr_test)\n",
    "\n",
    "array = [5,4,3,2,1]\n",
    "print(\"Amount of Inversions:\", merge_sort(array))\n",
    "print(array)"
   ]
  },
  {
   "cell_type": "markdown",
   "id": "cd1a4c17",
   "metadata": {},
   "source": [
    "# 13 - Search in a sorted 2D matrix\n",
    "\n",
    "__Problem Statement:__ Given an m*n 2D matrix and an integer, write a program to find if the given integer exists in the matrix.\n",
    "\n",
    "Given matrix has the following properties:\n",
    "\n",
    "Integers in each row are sorted from left to right.\n",
    "The first integer of each row is greater than the last integer of the previous row\n",
    "\n",
    "__Example 1:__\n",
    "\n",
    "Input: matrix = \n",
    "[[1,3,5,7],\n",
    " [10,11,16,20],\n",
    " [23,30,34,60]], \n",
    "\n",
    "target = 3\n",
    "\n",
    "Output: true\n",
    "\n",
    "Explanation: As the given integer(target) exists in the given 2D matrix, the function has returned true.\n",
    "\n",
    "__Example 2:__\n",
    "\n",
    "Input: matrix = \n",
    "[[1,3,5,7],\n",
    " [10,11,16,20],\n",
    " [23,30,34,60]], \n",
    "\n",
    "target = 13\n",
    "\n",
    "Output: false\n",
    "\n",
    "Explanation: As the given integer(target) does not exist in the given 2D matrix, the function has returned false."
   ]
  },
  {
   "cell_type": "markdown",
   "id": "95a245a0",
   "metadata": {},
   "source": [
    "### Improved - O(log n)"
   ]
  },
  {
   "cell_type": "code",
   "execution_count": null,
   "id": "9ed1afb6",
   "metadata": {},
   "outputs": [],
   "source": [
    "\"\"\"\n",
    "matrix = [[1,3,5,7], [10,11,16,20], [23,30,34,60]]\n",
    "\n",
    "n = 3\n",
    "   1° = 0       2° = 1         3° = 2\n",
    "[[1,3,5,7], [10,11,16,20], [23,30,34,60]]\n",
    "\n",
    "n//2 = 1\n",
    "\n",
    "m//2 = 2\n",
    "\n",
    "if matrix[1][2] < target\n",
    "    search in matrix[1][:2] \n",
    "    \n",
    "    if not found:\n",
    "        search in matrix[:1] \n",
    "    \n",
    "else \n",
    "    search in matrix[1][2:]\n",
    "    \n",
    "    if not found:\n",
    "        search in matrix[1:] \n",
    "    \n",
    "\"\"\""
   ]
  },
  {
   "cell_type": "code",
   "execution_count": 569,
   "id": "f4b3f09a",
   "metadata": {},
   "outputs": [],
   "source": [
    "def _binary_search(arr, target):\n",
    "    start = 0\n",
    "    end = len(arr) - 1\n",
    "    \n",
    "    while start <= end:\n",
    "        mid = start + (end - start)//2\n",
    "        \n",
    "        if arr[mid] == target:\n",
    "            return True, mid\n",
    "        elif target < arr[mid]:\n",
    "            end = mid - 1\n",
    "        else:\n",
    "            start = mid + 1\n",
    "    \n",
    "    return False, mid\n",
    "\n",
    "def search_2D(matrix, target):\n",
    "    start = 0\n",
    "    end = len(matrix) - 1\n",
    "    \n",
    "    while start <= end:\n",
    "        mid = start + (end - start)//2\n",
    "        \n",
    "        aux_result = _binary_search(matrix[mid], target)\n",
    "        \n",
    "        if aux_result[0]:\n",
    "            return True\n",
    "        else:\n",
    "            if matrix[mid][aux_result[1]] < target:\n",
    "                start = mid + 1\n",
    "            else:\n",
    "                end = mid - 1\n",
    "        \n",
    "    return False"
   ]
  },
  {
   "cell_type": "code",
   "execution_count": 572,
   "id": "3bca4e37",
   "metadata": {},
   "outputs": [
    {
     "name": "stdout",
     "output_type": "stream",
     "text": [
      "1 True\n",
      "3 True\n",
      "5 True\n",
      "7 True\n",
      "10 True\n",
      "11 True\n",
      "16 True\n",
      "20 True\n",
      "23 True\n",
      "30 True\n",
      "34 True\n",
      "60 True\n",
      "13 False\n"
     ]
    }
   ],
   "source": [
    "matrix = [[1,3,5,7], [10,11,16,20], [23,30,34,60]]\n",
    "\n",
    "for i in range(len(matrix)):\n",
    "    for j in matrix[i]:        \n",
    "        print(j, search_2D(matrix, j))\n",
    "        \n",
    "print(13, search_2D(matrix, 13))"
   ]
  },
  {
   "cell_type": "markdown",
   "id": "e3f8bdec",
   "metadata": {},
   "source": [
    "# 14 - Implement Pow(x,n) | X raised to the power N\n",
    "\n",
    "__Problem Statement:__ Given a double x and integer n, calculate x raised to power n. Basically Implement pow(x, n).\n",
    "\n",
    "__Example 1:__\n",
    "\n",
    "Input: x = 2.00000, n = 10\n",
    "\n",
    "Output: 1024.00000\n",
    "\n",
    "Explanation: You need to calculate 2.00000 raised to 10 which gives ans 1024.00000\n",
    "\n",
    "__Example 2:__\n",
    "\n",
    "Input: x = 2.10000, n = 3\n",
    "\n",
    "Output: 9.26100\n",
    "\n",
    "Explanation: You need to calculate 2.10000 raised to 3 which gives ans 9.26100"
   ]
  },
  {
   "cell_type": "markdown",
   "id": "d1ae4a59",
   "metadata": {},
   "source": [
    "### Brute force - O(n)"
   ]
  },
  {
   "cell_type": "code",
   "execution_count": 587,
   "id": "a109f76a",
   "metadata": {},
   "outputs": [],
   "source": [
    "\"\"\"\n",
    "result = x\n",
    "loop n-1 times:\n",
    "    result *= x\n",
    "return result\n",
    "\n",
    "pow(x, n):\n",
    "    return x * pow(x. n-1)\n",
    "\"\"\"\n",
    "def pow_interative(x, n):\n",
    "    r = x\n",
    "    while n > 1:\n",
    "        r *= x\n",
    "        n -= 1\n",
    "    \n",
    "    return r\n",
    "\n",
    "def pow_recursive(x, n):\n",
    "    if n == 1:\n",
    "        return x\n",
    "    return x *  pow_recursive(x, n-1)"
   ]
  },
  {
   "cell_type": "code",
   "execution_count": 588,
   "id": "288d4344",
   "metadata": {},
   "outputs": [
    {
     "name": "stdout",
     "output_type": "stream",
     "text": [
      "1024.0\n",
      "1024.0\n"
     ]
    }
   ],
   "source": [
    "print(pow_interative(2.0,10))\n",
    "print(pow_recursive(2.0,10))"
   ]
  },
  {
   "cell_type": "code",
   "execution_count": 589,
   "id": "22dc425e",
   "metadata": {},
   "outputs": [
    {
     "name": "stdout",
     "output_type": "stream",
     "text": [
      "9.261000000000001\n",
      "9.261000000000001\n"
     ]
    }
   ],
   "source": [
    "print(pow_interative(2.1,3))\n",
    "print(pow_recursive(2.1,3))"
   ]
  },
  {
   "cell_type": "markdown",
   "id": "f1e95fa7",
   "metadata": {},
   "source": [
    "### Improved - O(log n)"
   ]
  },
  {
   "cell_type": "code",
   "execution_count": 607,
   "id": "42bda22f",
   "metadata": {},
   "outputs": [],
   "source": [
    "def pow_improved(x, n):\n",
    "    \n",
    "    result = 1\n",
    "    while (n > 0):\n",
    "        \n",
    "        if (n % 2 == 0): \n",
    "            # y is even\n",
    "            print(\"result:\", result, \"  -  x:\", x, \"  -  n:\", n)\n",
    "            x = x * x\n",
    "            n = n / 2\n",
    "          \n",
    "        else:\n",
    "            # y isn't even\n",
    "            print(\"result:\", result, \"  -  x:\", x, \"  -  n:\", n)\n",
    "            result = result * x\n",
    "            n = n - 1      \n",
    "        \n",
    "        print()\n",
    "        \n",
    "    return result"
   ]
  },
  {
   "cell_type": "code",
   "execution_count": 608,
   "id": "3743fd65",
   "metadata": {},
   "outputs": [
    {
     "name": "stdout",
     "output_type": "stream",
     "text": [
      "result: 1   -  x: 2.0   -  n: 10\n",
      "\n",
      "result: 1   -  x: 4.0   -  n: 5.0\n",
      "\n",
      "result: 4.0   -  x: 4.0   -  n: 4.0\n",
      "\n",
      "result: 4.0   -  x: 16.0   -  n: 2.0\n",
      "\n",
      "result: 4.0   -  x: 256.0   -  n: 1.0\n",
      "\n",
      "1024.0\n"
     ]
    }
   ],
   "source": [
    "print(pow_improved(2.0,10))"
   ]
  },
  {
   "cell_type": "code",
   "execution_count": 623,
   "id": "d95c32a8",
   "metadata": {},
   "outputs": [],
   "source": [
    "\"\"\"\n",
    "2^10 = 2^5 * 2^5\n",
    "2^5  = 2^2 * 2^2 * 2\n",
    "2^2  = 2^1 * 2^1\n",
    "2^1  = 2^0 * 2^0 * 2\n",
    "2^0  = 1\n",
    "\n",
    "when n is even, temp multiplies temp, otherwise temp * temp * x\n",
    "\"\"\"\n",
    "def pow_improved_recursive(x, n):\n",
    "    if n == 0:\n",
    "        return 1\n",
    "    \n",
    "    temp = pow_improved_recursive(x, n//2)\n",
    "    print(temp, n)\n",
    "    if n % 2 == 0:\n",
    "        return temp * temp\n",
    "    else:\n",
    "        return x * temp * temp"
   ]
  },
  {
   "cell_type": "code",
   "execution_count": 624,
   "id": "5a0bdd71",
   "metadata": {},
   "outputs": [
    {
     "name": "stdout",
     "output_type": "stream",
     "text": [
      "1 1\n",
      "2.0 2\n",
      "4.0 5\n",
      "32.0 10\n",
      "1024.0\n"
     ]
    }
   ],
   "source": [
    "print(pow_improved_recursive(2.0,10))"
   ]
  },
  {
   "cell_type": "markdown",
   "id": "8498cea6",
   "metadata": {},
   "source": [
    "# 15 - Find the Majority Element that occurs more than N/2 times\n",
    "\n",
    "__Problem Statement:__ Given an array of N integers, write a program to return an element that occurs more than N/2 times in the given array. You may consider that such an element always exists in the array.\n",
    "\n",
    "__Example 1:__\n",
    "\n",
    "Input Format: N = 3, nums[] = {3,2,3}\n",
    "\n",
    "Result: 3\n",
    "\n",
    "Explanation: When we just count the occurrences of each number and compare with half of the size of the array, you will get 3 for the above solution. \n",
    "\n",
    "__Example 2:__\n",
    "\n",
    "Input Format:  N = 7, nums[] = {2,2,1,1,1,2,2}\n",
    "\n",
    "Result: 2\n",
    "\n",
    "Explanation: After counting the number of times each element appears and comparing it with half of array size, we get 2 as result.\n",
    "\n",
    "\n",
    "__Example 3:__\n",
    "\n",
    "Input Format:  N = 10, nums[] = {4,4,2,4,3,4,4,3,2,4}\n",
    "\n",
    "Result: 4"
   ]
  },
  {
   "cell_type": "code",
   "execution_count": 636,
   "id": "69b58de0",
   "metadata": {},
   "outputs": [],
   "source": [
    "def find_majority(sequence):\n",
    "    aux = dict()\n",
    "    \n",
    "    for value in sequence:\n",
    "        \n",
    "        if aux.get(value) is not None:\n",
    "            aux[value] += 1\n",
    "            if aux[value] > len(sequence)//2:\n",
    "                return value\n",
    "        else:\n",
    "            aux[value] = 1"
   ]
  },
  {
   "cell_type": "code",
   "execution_count": 637,
   "id": "36d566bc",
   "metadata": {},
   "outputs": [
    {
     "data": {
      "text/plain": [
       "4"
      ]
     },
     "execution_count": 637,
     "metadata": {},
     "output_type": "execute_result"
    }
   ],
   "source": [
    "nums = [4,4,2,4,3,4,4,3,2,4]\n",
    "find_majority(nums)"
   ]
  },
  {
   "cell_type": "markdown",
   "id": "380480ca",
   "metadata": {},
   "source": [
    "# 16 - Majority Elements(>N/3 times) | Find the elements that appears more than N/3 times in the array\n",
    "\n",
    "__Problem Statement:__ Given an array of N integers. Find the elements that appears more than N/3 times in the array. If no such element exists, return an empty vector.\n",
    "\n",
    "__Example 1:__\n",
    "\n",
    "Input: N = 5, array[] = {1,2,2,3,2}\n",
    "\n",
    "Ouput: 2\n",
    "\n",
    "Explanation: Here we can see that the Count(1) = 1, Count(2) = 3 and Count(3) = 1.Therefore, the count of 2 is greater than N/3 times. Hence, 2 is the answer.\n",
    "\n",
    "__Example 2:__\n",
    "\n",
    "Input:  N = 6, array[] = {11,33,33,11,33,11}\n",
    "\n",
    "Output: 11 33\n",
    "\n",
    "Explanation: Here we can see that the Count(11) = 3 and Count(33) = 3. Therefore, the count of both 11 and 33 is greater than N/3 times. Hence, 11 and 33 is the answer."
   ]
  },
  {
   "cell_type": "code",
   "execution_count": 656,
   "id": "789121ba",
   "metadata": {},
   "outputs": [],
   "source": [
    "def find_majorities(sequence):\n",
    "    aux = dict()\n",
    "    \n",
    "    for value in sequence:\n",
    "        if aux.get(value) is not None:\n",
    "            aux[value] += 1\n",
    "        else:\n",
    "            aux[value] = 1\n",
    "\n",
    "    majorities = max(aux.values())\n",
    "    \n",
    "    result = []\n",
    "    for key in aux:\n",
    "        if aux[key] == majorities:\n",
    "            result.append(key)\n",
    "    \n",
    "    result_str = [str(element) for element in result]\n",
    "    return \" \".join(result_str)"
   ]
  },
  {
   "cell_type": "code",
   "execution_count": 657,
   "id": "48f4d629",
   "metadata": {},
   "outputs": [
    {
     "data": {
      "text/plain": [
       "'11 33'"
      ]
     },
     "execution_count": 657,
     "metadata": {},
     "output_type": "execute_result"
    }
   ],
   "source": [
    "array = [11,33,33,11,33,11]\n",
    "find_majorities(array)"
   ]
  },
  {
   "cell_type": "markdown",
   "id": "a3aa4fad",
   "metadata": {},
   "source": [
    "# 17 - Grid Unique Paths | Count paths from left-top to the right bottom of a matrix\n",
    "\n",
    "__Problem Statement:__ Given a matrix m X n, count paths from left-top to the right bottom of a matrix with the constraints that from each cell you can either only move to the rightward direction or the downward direction.\n",
    "\n",
    "__Example 1:__\n",
    "\n",
    "Input Format: m = 2, n= 2\n",
    "Output: 2\n",
    "Explanation: From the top left corner there are total 2 ways to reach the bottom right corner:\n",
    "\n",
    "Step 1: Right ->> Down\n",
    "\n",
    "\n",
    "![image1](https://lh4.googleusercontent.com/mEZXZezDIvNSt3ChplGW726ipWOycuKeAXqeYx6wzn_12A4Qda3OMRGT_2jcq7YmiRJI28TgI10o4CPJdfr_0s7HX7GSRFq77h9-2H82gh6ir35lgUbNngExGy60RHKF7ekQqnMt)\n",
    "\n",
    "Step 2: Down ->> Right\n",
    "\n",
    "![image2](https://lh6.googleusercontent.com/-w1KtMoN6un8vLXJ64Jp0MD3oy2_Wp8kiktzcSdcba9Ru4zbmvGtyQ2A1dGb3Ud7WIh-Xyu3WFKhkSZKlvHziaHC6wBqZG3nWJRe11VFhT3DLqPRhpq96pe5p4lY1ujqXIi8gf85)"
   ]
  },
  {
   "cell_type": "code",
   "execution_count": 669,
   "id": "81fed7b7",
   "metadata": {},
   "outputs": [],
   "source": [
    "\"\"\"\n",
    "1  2  3\n",
    "4  5  6\n",
    "\"\"\"\n",
    "\n",
    "def count_path(i, j, m, n):\n",
    "    \n",
    "    if i == m-1 and j == n-1:\n",
    "        return 1\n",
    "    elif i >= m or j >= n:\n",
    "        return 0\n",
    "    else:\n",
    "        return count_path(i+1, j, m, n) + count_path(i, j+1, m, n)\n",
    "\n",
    "def unique_path(m, n):\n",
    "    return count_path(0,0,m,n)"
   ]
  },
  {
   "cell_type": "code",
   "execution_count": 672,
   "id": "1b346eda",
   "metadata": {},
   "outputs": [
    {
     "data": {
      "text/plain": [
       "20"
      ]
     },
     "execution_count": 672,
     "metadata": {},
     "output_type": "execute_result"
    }
   ],
   "source": [
    "unique_path(4,4)"
   ]
  },
  {
   "cell_type": "markdown",
   "id": "6f5003f6",
   "metadata": {},
   "source": [
    "# 18 - Count Reverse Pairs\n",
    "\n",
    "__Problem Statement:__ Given an array of numbers, you need to return the count of reverse pairs. Reverse Pairs are those pairs where i<j and arr[i]>2*arr[j].\n",
    "\n",
    "__Example 1:__\n",
    "\n",
    "Input: N = 5, array[] = {1,3,2,3,1)\n",
    "\n",
    "Output: 2 \n",
    "\n",
    "Explanation: The pairs are (3, 1) and (3, 1) as from both the pairs the condition arr[i] > 2*arr[j] is satisfied.\n",
    "\n",
    "__Example 2:__\n",
    "\n",
    "Input: N = 4, array[] = {3,2,1,4}\n",
    "\n",
    "Output: 1\n",
    "\n",
    "Explaination: There is only 1 pair  ( 3 , 1 ) that satisfy the condition arr[i] > 2*arr[j]\n"
   ]
  },
  {
   "cell_type": "markdown",
   "id": "34d22baf",
   "metadata": {},
   "source": [
    "### Brute force - O(n^2)"
   ]
  },
  {
   "cell_type": "code",
   "execution_count": 711,
   "id": "0f55e2b6",
   "metadata": {},
   "outputs": [],
   "source": [
    "def count_reverse_pairs(arr):\n",
    "    \n",
    "    result = []\n",
    "    \n",
    "    for i in range(len(arr)):\n",
    "        for j in range(i+1,len(arr)):\n",
    "            if arr[i] > 2*arr[j]:\n",
    "                result.append((arr[i], arr[j]))\n",
    "    \n",
    "    return result"
   ]
  },
  {
   "cell_type": "code",
   "execution_count": 712,
   "id": "92f39a58",
   "metadata": {},
   "outputs": [
    {
     "data": {
      "text/plain": [
       "[(3, 1), (3, 1)]"
      ]
     },
     "execution_count": 712,
     "metadata": {},
     "output_type": "execute_result"
    }
   ],
   "source": [
    "array = [1,3,2,3,1]\n",
    "count_reverse_pairs(array)"
   ]
  },
  {
   "cell_type": "markdown",
   "id": "f45b31e4",
   "metadata": {},
   "source": [
    "### improved - O(n log n)"
   ]
  },
  {
   "cell_type": "code",
   "execution_count": 713,
   "id": "d01898d3",
   "metadata": {},
   "outputs": [],
   "source": [
    "\"\"\"\n",
    "      [1,3,2,3,1]\n",
    "    [1,3]     [2,3,1]\n",
    "  [1]  [3]   [2] [3,1]\n",
    "                [3]  [1]\n",
    "         \n",
    "         \n",
    "\n",
    "        [1,3,2,3,1]\n",
    "    [1,3]     [1,2,3]\n",
    "  [1]  [3]   [2] [1,3]\n",
    "                [3]  [1] 1\n",
    "\n",
    "\"\"\"\n",
    "\n",
    "def merge_sort_aux(arr, result):\n",
    "    if len(arr) > 1:\n",
    "        left = arr[:len(arr)//2]\n",
    "        right = arr[len(arr)//2:]\n",
    "        \n",
    "        merge_sort_aux(left, result)\n",
    "        merge_sort_aux(right, result)\n",
    "        \n",
    "        i = j = k = 0\n",
    "        \n",
    "        while i < len(left) and j < len(right):\n",
    "            if left[i] <= right[j]:\n",
    "                arr[k] = left[i]\n",
    "                i += 1\n",
    "            else:\n",
    "                arr[k] = right[j]\n",
    "                if left[i] > 2*right[j]:\n",
    "                    result.append((left[i], right[j]))\n",
    "                j += 1\n",
    "                \n",
    "            k += 1\n",
    "            \n",
    "        while i < len(left):\n",
    "            arr[k] = left[i]\n",
    "            i += 1\n",
    "            k += 1\n",
    "            \n",
    "        while j < len(right):\n",
    "            arr[k] = right[j]\n",
    "            j += 1\n",
    "            k += 1\n",
    "\n",
    "def count_reverse_pairs_improved(arr):\n",
    "    result = []\n",
    "    merge_sort_aux(arr, result)\n",
    "    return result\n",
    "            "
   ]
  },
  {
   "cell_type": "code",
   "execution_count": 714,
   "id": "c77ca9bb",
   "metadata": {},
   "outputs": [
    {
     "name": "stdout",
     "output_type": "stream",
     "text": [
      "[(3, 1), (3, 1)]\n"
     ]
    }
   ],
   "source": [
    "array = [1,3,2,3,1]\n",
    "print(count_reverse_pairs_improved(array))"
   ]
  },
  {
   "cell_type": "markdown",
   "id": "a9873bb0",
   "metadata": {},
   "source": [
    "# 19 - Two Sum : Check if a pair with given sum exists in Array\n",
    "\n",
    "__Problem Statement:__ Given an array of integers nums[] and an integer target, return indices of the two numbers such that their sum is equal to the target.\n",
    "\n",
    "Note: Assume that there is exactly one solution, and you are not allowed to use the same element twice. Example: If target is equal to 6 and num[1] = 3, then nums[1] + nums[1] = target is not a solution.\n",
    "\n",
    "__Example 1:__\n",
    "\n",
    "Input: nums = [2,7,11,15], target = 9\n",
    "\n",
    "Output: [0,1]\n",
    "\n",
    "Explanation: Because nums[0] + nums[1] == 9, which is the required target, we return indexes [0,1]. (0-based indexing)\n",
    "\n",
    "__Example 2:__\n",
    "\n",
    "Input Format: nums = [3,2,4,6], target = 6\n",
    "\n",
    "Output: [1,2]\n",
    "\n",
    "Explanation: Because nums[1] + nums[2] == 6, which is the required target, we return indexes [1,2]."
   ]
  },
  {
   "cell_type": "code",
   "execution_count": 716,
   "id": "985f64b6",
   "metadata": {},
   "outputs": [],
   "source": [
    "\"\"\"\n",
    "nums = [2,7,11,15], target = 9\n",
    "\n",
    "[2,7,11,15]\n",
    "\n",
    "{2:0, 7:1}\n",
    "\n",
    "\"\"\"\n",
    "\n",
    "def check_two_sum(arr, target):\n",
    "    aux = dict()\n",
    "    \n",
    "    for idx, value in enumerate(arr):\n",
    "        if aux.get(target - value) is not None:\n",
    "            return [aux.get(target - value), idx]\n",
    "        else:\n",
    "            aux[value] = idx\n",
    "    \n",
    "    print(\"not found\")\n",
    "    return None"
   ]
  },
  {
   "cell_type": "code",
   "execution_count": 719,
   "id": "6298d20b",
   "metadata": {},
   "outputs": [
    {
     "name": "stdout",
     "output_type": "stream",
     "text": [
      "[0, 1]\n",
      "[1, 2]\n"
     ]
    }
   ],
   "source": [
    "nums = [2,7,11,15]\n",
    "target = 9\n",
    "\n",
    "print(check_two_sum(nums, target))\n",
    "\n",
    "nums = [3,2,4,6]\n",
    "target = 6\n",
    "\n",
    "print(check_two_sum(nums, target))"
   ]
  },
  {
   "cell_type": "markdown",
   "id": "8f0ab83d",
   "metadata": {},
   "source": [
    "# 20 - 4 Sum | Find Quads that add up to a target value\n",
    "\n",
    "__Problem Statement:__ Given an array of N integers, your task is to find unique quads that add up to give a target value. In short, you need to return an array of all the unique quadruplets [arr[a], arr[b], arr[c], arr[d]] such that their sum is equal to a given target.\n",
    "\n",
    "Pre-req: Binary Search and 2-sum problem\n",
    "\n",
    "Note:\n",
    "\n",
    "0 <= a, b, c, d < n\n",
    "a, b, c, and d are distinct.\n",
    "arr[a] + arr[b] + arr[c] + arr[d] == target\n",
    "\n",
    "__Example 1:__\n",
    "\n",
    "Input Format: arr[] = [1,0,-1,0,-2,2], target = 0\n",
    "\n",
    "Result: [[-2,-1,1,2],[-2,0,0,2],[-1,0,0,1]]\n",
    "\n",
    "Explanation: We have to find unique quadruplets from \n",
    "the array such that the sum of those elements is \n",
    "equal to the target sum given that is 0. \n",
    "\n",
    "The result obtained is such that the sum of the \n",
    "quadruplets yields 0.\n",
    "\n",
    "__Example 2:__\n",
    "\n",
    "Input Format: arr[] = [4,3,3,4,4,2,1,2,1,1], target = 9\n",
    "\n",
    "Result: [[1,1,3,4],[1,2,2,4],[1,2,3,3]]"
   ]
  },
  {
   "cell_type": "code",
   "execution_count": 755,
   "id": "7a1876d0",
   "metadata": {},
   "outputs": [],
   "source": [
    "\"\"\"\n",
    "arr = [1,0,-1,0,-2,2], target = 0\n",
    "\n",
    "[-2,-1,0,0,1,2]\n",
    "\n",
    "\"\"\"\n",
    "\n",
    "def merge_sort(arr):\n",
    "    if len(arr) > 1:\n",
    "        left = arr[:len(arr)//2]\n",
    "        right = arr[len(arr)//2:]\n",
    "        \n",
    "        merge_sort(left)\n",
    "        merge_sort(right)\n",
    "\n",
    "        i = j = k = 0\n",
    "        \n",
    "        while i < len(left) and j < len(right):\n",
    "            if left[i] <= right[j]:\n",
    "                arr[k] = left[i]\n",
    "                i += 1\n",
    "            else:\n",
    "                arr[k] = right[j]\n",
    "                j += 1\n",
    "            k += 1\n",
    "        \n",
    "        while i < len(left):\n",
    "            arr[k] = left[i]\n",
    "            i += 1\n",
    "            k += 1\n",
    "            \n",
    "        while j < len(right):\n",
    "            arr[k] = right[j]\n",
    "            j += 1\n",
    "            k += 1\n",
    "            \n",
    "def find_four_sum(arr, target):\n",
    "    merge_sort(arr)\n",
    "    aux = dict()\n",
    "    result = []\n",
    "    \n",
    "    i = j = 0\n",
    "    \n",
    "    for i in range(len(arr)-3):\n",
    "        target_1 = target - arr[i]\n",
    "        \n",
    "        for j in range(i+1, len(arr)-2):\n",
    "            target_2 = target_1 - target - arr[j]\n",
    "            \n",
    "            for k in range(j+1, len(arr)-1):\n",
    "                target_3 = target_2 - target_1 - target - arr[k]\n",
    "                    \n",
    "                for l in range(k+1, len(arr)):\n",
    "                    if target_3 - arr[l] == 0:\n",
    "                        result.append((arr[i], arr[j], arr[k], arr[l]))\n",
    "                \n",
    "                \n",
    "    return result\n",
    "        "
   ]
  },
  {
   "cell_type": "code",
   "execution_count": 756,
   "id": "4b3f4d84",
   "metadata": {},
   "outputs": [
    {
     "data": {
      "text/plain": [
       "[(-2, -1, 0, 1), (-2, -1, 0, 1)]"
      ]
     },
     "execution_count": 756,
     "metadata": {},
     "output_type": "execute_result"
    }
   ],
   "source": [
    "arr = [1,0,-1,0,-2,2]\n",
    "target = 0\n",
    "\n",
    "find_four_sum(arr, target)"
   ]
  },
  {
   "cell_type": "markdown",
   "id": "6a955d48",
   "metadata": {},
   "source": [
    "# 21 - Longest Consecutive Sequence in an Array\n",
    "\n",
    "__Problem Statement:__ You are given an array of ‘N’ integers. You need to find the length of the longest sequence which contains the consecutive elements.\n",
    "\n",
    "__Example 1:__\n",
    "\n",
    "Input: [100, 200, 1, 3, 2, 4]\n",
    "\n",
    "Output: 4\n",
    "\n",
    "Explanation: The longest consecutive subsequence is 1, 2, 3, and 4.\n",
    "\n",
    "__Example 2:__\n",
    "\n",
    "Input: [3, 8, 5, 7, 6]\n",
    "\n",
    "Output: 4\n",
    "\n",
    "Explanation: The longest consecutive subsequence is 5, 6, 7, and 8."
   ]
  },
  {
   "cell_type": "markdown",
   "id": "e97d11f4",
   "metadata": {},
   "source": [
    "### Brute force - O (n log n)"
   ]
  },
  {
   "cell_type": "code",
   "execution_count": 774,
   "id": "2c74fcb0",
   "metadata": {},
   "outputs": [],
   "source": [
    "\"\"\"\n",
    "[3,8,5,7,6]\n",
    "\n",
    "           l   r \n",
    "[3,5,6,7,8,11,12]\n",
    "\n",
    "temp_res 2\n",
    "\n",
    "max_sequence = temp_res if max_sequence < temp_res\n",
    "\n",
    "\"\"\"\n",
    "#O(n log n)\n",
    "def merge_sort(sequence):\n",
    "    if len(sequence) > 1:\n",
    "        left = sequence[:len(sequence)//2]\n",
    "        right = sequence[len(sequence)//2:]\n",
    "        \n",
    "        merge_sort(left)\n",
    "        merge_sort(right)\n",
    "        \n",
    "        idx_left = idx_right = idx_merge = 0\n",
    "        \n",
    "        while idx_left < len(left) and idx_right < len(right):\n",
    "            if left[idx_left] <= right[idx_right]:\n",
    "                sequence[idx_merge] = left[idx_left]\n",
    "                idx_left += 1\n",
    "            else:\n",
    "                sequence[idx_merge] = right[idx_right]\n",
    "                idx_right += 1\n",
    "                \n",
    "            idx_merge += 1\n",
    "            \n",
    "        while idx_left < len(left):\n",
    "            sequence[idx_merge] = left[idx_left]\n",
    "            idx_left += 1\n",
    "            idx_merge += 1\n",
    "            \n",
    "        while idx_right < len(right):\n",
    "            sequence[idx_merge] = right[idx_right]\n",
    "            idx_right += 1\n",
    "            idx_merge += 1\n",
    "            \n",
    "            \n",
    "# O(n)\n",
    "def longest_cons(array):\n",
    "    merge_sort(array)\n",
    "    \n",
    "    l = 0\n",
    "    r = 1\n",
    "    max_sub = 0\n",
    "    temp_max = 1\n",
    "    \n",
    "    while r < len(array):\n",
    "        if (array[r] - array[l]) == 1:\n",
    "            temp_max += 1\n",
    "            \n",
    "            if max_sub < temp_max:\n",
    "                max_sub = temp_max\n",
    "        else:\n",
    "            temp_max = 1\n",
    "            \n",
    "        l += 1\n",
    "        r += 1\n",
    "        \n",
    "    return max_sub"
   ]
  },
  {
   "cell_type": "code",
   "execution_count": 775,
   "id": "28a24fc0",
   "metadata": {},
   "outputs": [
    {
     "data": {
      "text/plain": [
       "4"
      ]
     },
     "execution_count": 775,
     "metadata": {},
     "output_type": "execute_result"
    }
   ],
   "source": [
    "arr = [100, 200, 1, 3, 2, 4]\n",
    "longest_cons(arr)"
   ]
  },
  {
   "cell_type": "markdown",
   "id": "311f7444",
   "metadata": {},
   "source": [
    "### Improved - O(n)"
   ]
  },
  {
   "cell_type": "code",
   "execution_count": 792,
   "id": "f88d6ae1",
   "metadata": {},
   "outputs": [],
   "source": [
    "def longest_cons_improved(arr):\n",
    "    aux = dict()\n",
    "    \n",
    "    for idx, value in enumerate(arr):\n",
    "        if aux.get(value) is None:\n",
    "            aux[value] = idx\n",
    "    \n",
    "    res = 1\n",
    "    for i in arr:        \n",
    "        if aux.get(i-1):\n",
    "            res += 1\n",
    "            \n",
    "    return res\n",
    "        "
   ]
  },
  {
   "cell_type": "code",
   "execution_count": 793,
   "id": "c21ea16c",
   "metadata": {},
   "outputs": [
    {
     "data": {
      "text/plain": [
       "4"
      ]
     },
     "execution_count": 793,
     "metadata": {},
     "output_type": "execute_result"
    }
   ],
   "source": [
    "arr = [100, 200, 1, 3, 2, 4]\n",
    "longest_cons_improved(arr)"
   ]
  },
  {
   "cell_type": "markdown",
   "id": "6c7e959f",
   "metadata": {},
   "source": [
    "# 22 - Length of the longest subarray with zero Sum\n",
    "\n",
    "__Problem Statement:__ Given an array containing both positive and negative integers, we have to find the length of the longest subarray with the sum of all elements equal to zero.\n",
    "\n",
    "__Example 1:__\n",
    "\n",
    "Input Format: N = 6, array[] = {9, -3, 3, -1, 6, -5}\n",
    "\n",
    "Result: 5\n",
    "\n",
    "Explanation: The following subarrays sum to zero:\n",
    "{-3, 3} , {-1, 6, -5}, {-3, 3, -1, 6, -5}\n",
    "Since we require the length of the longest subarray, our answer is 5!\n",
    "\n",
    "__Example 2:__\n",
    "\n",
    "Input Format: N = 8, array[] = {6, -2, 2, -8, 1, 7, 4, -10}\n",
    "\n",
    "Result: 8\n",
    "\n",
    "Subarrays with sum 0 : {-2, 2}, {-8, 1, 7}, {-2, 2, -8, 1, 7}, {6, -2, 2, -8, 1, 7, 4, -10}\n",
    "Length of longest subarray = 8\n",
    "\n",
    "__Example 3:__\n",
    "\n",
    "Input Format: N = 3, array[] = {1, 0, -5}\n",
    "\n",
    "Result: 1\n",
    "\n",
    "Subarray : {0}\n",
    "Length of longest subarray = 1\n",
    "\n",
    "__Example 4:__\n",
    "\n",
    "Input Format: N = 5, array[] = {1, 3, -5, 6, -2}\n",
    "\n",
    "Result: 0\n",
    "\n",
    "Subarray: There is no subarray that sums to zero"
   ]
  },
  {
   "cell_type": "markdown",
   "id": "27985bd7",
   "metadata": {},
   "source": [
    "### Brute Force - O(n^2)"
   ]
  },
  {
   "cell_type": "code",
   "execution_count": 800,
   "id": "345ca8ca",
   "metadata": {},
   "outputs": [],
   "source": [
    "def length_sub(arr):\n",
    "    \n",
    "    max_sub = 0\n",
    "    result = []\n",
    "    \n",
    "    for i in range(len(arr)):\n",
    "        sum_sub = 0\n",
    "        for j in range(i, len(arr)):\n",
    "            sum_sub += arr[j]\n",
    "            if sum_sub == 0:\n",
    "                result.append(arr[i:j+1])\n",
    "                if max_sub < len(arr[i:j+1]):\n",
    "                    max_sub = len(arr[i:j+1])\n",
    "    \n",
    "    print(result, max_sub)"
   ]
  },
  {
   "cell_type": "code",
   "execution_count": 803,
   "id": "cc49dd7d",
   "metadata": {},
   "outputs": [
    {
     "name": "stdout",
     "output_type": "stream",
     "text": [
      "[[6, -2, 2, -8, 1, 7, 4, -10], [-2, 2], [-2, 2, -8, 1, 7], [-8, 1, 7]] 8\n"
     ]
    }
   ],
   "source": [
    "array = [6, -2, 2, -8, 1, 7, 4, -10]\n",
    "length_sub(array)"
   ]
  },
  {
   "cell_type": "markdown",
   "id": "2d32008b",
   "metadata": {},
   "source": [
    "### Improved - O(n)"
   ]
  },
  {
   "cell_type": "code",
   "execution_count": 822,
   "id": "bb6dea18",
   "metadata": {},
   "outputs": [],
   "source": [
    "def length_sub_improved(arr):\n",
    "    \n",
    "    max_sub = 0\n",
    "    sum_sub = 0\n",
    "    aux = {}\n",
    "    \n",
    "    for i in range(len(arr)):\n",
    "        sum_sub += arr[i]\n",
    "        \n",
    "        if sum_sub == 0:\n",
    "            max_sub = i + 1\n",
    "        else:\n",
    "            if aux.get(sum_sub) is not None:\n",
    "                max_sub = max([max_sub, i - aux.get(sum_sub)]) \n",
    "            else:\n",
    "                aux[sum_sub] = i\n",
    "        print(sum_sub, aux)\n",
    "    "
   ]
  },
  {
   "cell_type": "code",
   "execution_count": 823,
   "id": "c62d46c3",
   "metadata": {},
   "outputs": [
    {
     "name": "stdout",
     "output_type": "stream",
     "text": [
      "6 {6: 0}\n",
      "4 {6: 0, 4: 1}\n",
      "6 {6: 0, 4: 1}\n",
      "-2 {6: 0, 4: 1, -2: 3}\n",
      "-1 {6: 0, 4: 1, -2: 3, -1: 4}\n",
      "6 {6: 0, 4: 1, -2: 3, -1: 4}\n",
      "10 {6: 0, 4: 1, -2: 3, -1: 4, 10: 6}\n",
      "0 {6: 0, 4: 1, -2: 3, -1: 4, 10: 6}\n"
     ]
    }
   ],
   "source": [
    "array = [6, -2, 2, -8, 1, 7, 4, -10]\n",
    "length_sub_improved(array)"
   ]
  },
  {
   "cell_type": "markdown",
   "id": "5af28bbe",
   "metadata": {},
   "source": [
    "# 23 - Count the number of subarrays with given xor K\n",
    "\n",
    "__Problem Statement:__ Given an array of integers A and an integer B. Find the total number of subarrays having bitwise XOR of all elements equal to B.\n",
    "\n",
    "__Example 1:__\n",
    "\n",
    "Input Format:  A = [4, 2, 2, 6, 4], B = 6\n",
    "\n",
    "Result: 4\n",
    "\n",
    "Explanation: The subarrays having XOR of their elements as 6 are  [4, 2], [4, 2, 2, 6, 4], [2, 2, 6], [6]\n",
    "\n",
    "__Example 2:__\n",
    "\n",
    "Input Format: A = [5, 6, 7, 8, 9], B = 5\n",
    "\n",
    "Result: 2\n",
    "\n",
    "Explanation:The subarrays having XOR of their elements as 2 are [5] and [5, 6, 7, 8, 9]"
   ]
  },
  {
   "cell_type": "code",
   "execution_count": 907,
   "id": "cd7eda74",
   "metadata": {},
   "outputs": [
    {
     "name": "stdout",
     "output_type": "stream",
     "text": [
      "6\n",
      "6\n"
     ]
    }
   ],
   "source": [
    "# XOR\n",
    "\n",
    "a = 4  #0100\n",
    "b = 2  #0010\n",
    "\n",
    "result = (a ^ b ^ b) #0110\n",
    "result ^= b\n",
    "print(result)\n",
    "\n",
    "result = (a ^ b ^ 0) #0110\n",
    "print(result)"
   ]
  },
  {
   "cell_type": "markdown",
   "id": "b4d928ff",
   "metadata": {},
   "source": [
    "### Brute force - O(n^2)"
   ]
  },
  {
   "cell_type": "code",
   "execution_count": 840,
   "id": "4d7c32ae",
   "metadata": {},
   "outputs": [],
   "source": [
    "def xor_k(arr, k):\n",
    "    result = []\n",
    "    \n",
    "    for i in range(len(arr)):\n",
    "        aux = 0\n",
    "        for j in range(i, len(arr)):\n",
    "            aux ^= arr[j]\n",
    "            if aux == k:\n",
    "                result.append(arr[i:j+1])\n",
    "    print(result)\n",
    "    return len(result)"
   ]
  },
  {
   "cell_type": "code",
   "execution_count": 886,
   "id": "1cc3426b",
   "metadata": {},
   "outputs": [
    {
     "name": "stdout",
     "output_type": "stream",
     "text": [
      "[[4, 2], [4, 2, 2, 6, 4], [2, 2, 6], [6]]\n"
     ]
    },
    {
     "data": {
      "text/plain": [
       "4"
      ]
     },
     "execution_count": 886,
     "metadata": {},
     "output_type": "execute_result"
    }
   ],
   "source": [
    "A = [4, 2, 2, 6, 4]\n",
    "B = 6\n",
    "\n",
    "xor_k(A, B)"
   ]
  },
  {
   "cell_type": "markdown",
   "id": "bf377ebb",
   "metadata": {},
   "source": [
    "### Improved - O(n)"
   ]
  },
  {
   "cell_type": "code",
   "execution_count": 904,
   "id": "a3bddb7e",
   "metadata": {},
   "outputs": [],
   "source": [
    "def xor_k_improved(arr, k):\n",
    "    aux = {}\n",
    "    amt_sub = 0\n",
    "    sum_sub = 0\n",
    "\n",
    "    for i in range(len(arr)):\n",
    "        sum_sub ^= arr[i]\n",
    "        \n",
    "        if aux.get(sum_sub ^ k) is not None:\n",
    "            amt_sub += aux.get(sum_sub ^ k)\n",
    "    \n",
    "        if sum_sub == k:\n",
    "            amt_sub += 1\n",
    "        \n",
    "        if aux.get(sum_sub) is not None:\n",
    "            aux[sum_sub] += 1\n",
    "        else:\n",
    "            aux[sum_sub] = 1\n",
    "        \n",
    "        print(\"AMT:\", amt_sub, \"    SUM:\", sum_sub, \"    AUX:\", aux)\n",
    "    return amt_sub"
   ]
  },
  {
   "cell_type": "code",
   "execution_count": 905,
   "id": "d0c6f061",
   "metadata": {},
   "outputs": [
    {
     "name": "stdout",
     "output_type": "stream",
     "text": [
      "AMT: 0     SUM: 4     AUX: {4: 1}\n",
      "AMT: 1     SUM: 6     AUX: {4: 1, 6: 1}\n",
      "AMT: 1     SUM: 4     AUX: {4: 2, 6: 1}\n",
      "AMT: 3     SUM: 2     AUX: {4: 2, 6: 1, 2: 1}\n",
      "AMT: 4     SUM: 6     AUX: {4: 2, 6: 2, 2: 1}\n"
     ]
    },
    {
     "data": {
      "text/plain": [
       "4"
      ]
     },
     "execution_count": 905,
     "metadata": {},
     "output_type": "execute_result"
    }
   ],
   "source": [
    "A = [4, 2, 2, 6, 4]\n",
    "B = 6\n",
    "\n",
    "xor_k_improved(A, B)"
   ]
  },
  {
   "cell_type": "markdown",
   "id": "0eacd6e2",
   "metadata": {},
   "source": [
    "# 24 - Length of Longest Substring without any Repeating Character\n",
    "\n",
    "__Problem Statement:__ Given a String, find the length of longest substring without any repeating character.\n",
    "\n",
    "__Example 1:__\n",
    "\n",
    "Input: s = ”abcabcbb”\n",
    "\n",
    "Output: 3\n",
    "\n",
    "Explanation: The answer is abc with length of 3.\n",
    "\n",
    "__Example 2:__\n",
    "\n",
    "Input: s = ”bbbbb”\n",
    "\n",
    "Output: 1\n",
    "\n",
    "Explanation: The answer is b with length of 1 units."
   ]
  },
  {
   "cell_type": "markdown",
   "id": "96bd58a3",
   "metadata": {},
   "source": [
    "### Brute force - O(n^2)\n",
    "\n",
    "\"\"\"\n",
    "\n",
    "aux = {}\n",
    "\n",
    "a b c a b c b b \n",
    "\n",
    "{}\n",
    "\n",
    "if max < len(aux)\n",
    "max = len(aux)\n",
    "\n",
    "\n",
    "b c a b c b b \n",
    "\n",
    "{b, c, a}\n",
    "\n",
    "\n",
    "c a b c b b \n",
    "\n",
    "{c, a, b}\n",
    "\n",
    "\"\"\""
   ]
  },
  {
   "cell_type": "code",
   "execution_count": 923,
   "id": "965dad67",
   "metadata": {},
   "outputs": [],
   "source": [
    "def length_no_repeating(s):\n",
    "    aux = dict()\n",
    "    max_len = 0\n",
    "    \n",
    "    for i in range(len(s)):\n",
    "        for j in range(i+1, len(s)):\n",
    "            print(aux)\n",
    "            if aux.get(s[j]) is not None:\n",
    "                if max_len < len(aux):\n",
    "                    max_len = len(aux)\n",
    "                    \n",
    "                aux.clear()\n",
    "                break\n",
    "            else:\n",
    "                aux[s[j]] = j\n",
    "\n",
    "    return max_len"
   ]
  },
  {
   "cell_type": "code",
   "execution_count": 924,
   "id": "0fa1ad36",
   "metadata": {},
   "outputs": [
    {
     "name": "stdout",
     "output_type": "stream",
     "text": [
      "{}\n",
      "{'b': 1}\n",
      "{'b': 1, 'c': 2}\n",
      "{'b': 1, 'c': 2, 'a': 3}\n",
      "{}\n",
      "{'c': 2}\n",
      "{'c': 2, 'a': 3}\n",
      "{'c': 2, 'a': 3, 'b': 4}\n",
      "{}\n",
      "{'a': 3}\n",
      "{'a': 3, 'b': 4}\n",
      "{'a': 3, 'b': 4, 'c': 5}\n",
      "{}\n",
      "{'b': 4}\n",
      "{'b': 4, 'c': 5}\n",
      "{}\n",
      "{'c': 5}\n",
      "{'c': 5, 'b': 6}\n",
      "{}\n",
      "{'b': 6}\n",
      "{}\n"
     ]
    },
    {
     "data": {
      "text/plain": [
       "3"
      ]
     },
     "execution_count": 924,
     "metadata": {},
     "output_type": "execute_result"
    }
   ],
   "source": [
    "s = \"abcabcbb\"\n",
    "length_no_repeating(s)"
   ]
  },
  {
   "cell_type": "markdown",
   "id": "a0c1221f",
   "metadata": {},
   "source": [
    "### Improved - O(n)"
   ]
  },
  {
   "cell_type": "code",
   "execution_count": 948,
   "id": "433c3fb1",
   "metadata": {},
   "outputs": [],
   "source": [
    "def length_no_repeating_improved(s):\n",
    "    aux = dict()\n",
    "    max_len = 0\n",
    "    l = r = 0\n",
    "    \n",
    "    while r < len(s):\n",
    "        \n",
    "        if aux.get(s[r]) is not None:\n",
    "            l = max([aux.get(s[r]) + 1, l])\n",
    "        \n",
    "        aux[s[r]] = r\n",
    "        \n",
    "        max_len = max([max_len, r - l + 1])\n",
    "        r += 1\n",
    "    \n",
    "    return max_len"
   ]
  },
  {
   "cell_type": "code",
   "execution_count": 949,
   "id": "82e0aa39",
   "metadata": {},
   "outputs": [
    {
     "data": {
      "text/plain": [
       "8"
      ]
     },
     "execution_count": 949,
     "metadata": {},
     "output_type": "execute_result"
    }
   ],
   "source": [
    "s = \"abclkjhagabcbb\"\n",
    "length_no_repeating_improved(s)"
   ]
  },
  {
   "cell_type": "markdown",
   "id": "38487def",
   "metadata": {},
   "source": [
    "# 25 - Trapping Rainwater\n",
    "\n",
    "__Problem Statement:__ Given an array of non-negative integers representation elevation of ground. Your task is to find the water that can be trapped after raining.\n",
    "\n",
    "__Example 1:__\n",
    "\n",
    "__Input:__ height= [0,1,0,2,1,0,1,3,2,1,2,1]\n",
    "\n",
    "__Output:__ 6\n",
    "\n",
    "__Explanation:__ As seen from the diagram 1+1+2+1+1=6 unit of water can be trapped\n",
    "\n",
    "![image_25](https://lh5.googleusercontent.com/hOxXODWtxKylLDwiTcNhYOHl971ZA598XSetgJEdWqOLClWo0v19WTRT4PArmNa_SDU3ZJ-pnbe2Hl5gwXBHw5g8PsKpSY5E2aM_XibdIktRvkJ3ILw2W8X8aLfgHgRgQWcvkUbY)\n",
    "\n",
    "\n",
    "__Example 2:__\n",
    "\n",
    "__Input:__  [4,2,0,3,2,5]\n",
    "\n",
    "__Output:__9"
   ]
  },
  {
   "cell_type": "markdown",
   "id": "5714ef45",
   "metadata": {},
   "source": [
    "### brute force - TC: O(n^2), SC: O(n)"
   ]
  },
  {
   "cell_type": "code",
   "execution_count": 22,
   "id": "2f43057a",
   "metadata": {},
   "outputs": [],
   "source": [
    "\"\"\"\n",
    "1° step: loop over the entire list to get all intervals\n",
    "\n",
    "i\n",
    "j      \n",
    "0 1 0 2 1 0 1 3 2 1 2 1\n",
    " \n",
    "intervals = (1,3), (3,7), (8,10),\n",
    "\n",
    "\n",
    "2° step: get the amount of raindrops that can be stored in the intervals\n",
    "\n",
    "3° step: sum all raindrops\n",
    "\n",
    "\"\"\"\n",
    "# Force brute\n",
    "def count_raindrops_trapped(heights):\n",
    "    intervals = []\n",
    "    i = 1\n",
    "    while i < len(heights):        \n",
    "        j = i+1\n",
    "        while j < len(heights):\n",
    "            if heights[i] <= heights[j]:\n",
    "                intervals.append((i, j))\n",
    "                i = j\n",
    "                break\n",
    "            j += 1\n",
    "        \n",
    "        if i == j:\n",
    "            continue\n",
    "        \n",
    "        i += 1\n",
    "        \n",
    "    print(\"intervals:\", intervals)\n",
    "    \n",
    "    raindrops = 0\n",
    "    \n",
    "    for interval in intervals:\n",
    "        for i in range(interval[0]+1, interval[1]):\n",
    "            raindrops += heights[interval[0]] - heights[i]\n",
    "            \n",
    "    return raindrops"
   ]
  },
  {
   "cell_type": "code",
   "execution_count": 23,
   "id": "322c3955",
   "metadata": {},
   "outputs": [
    {
     "name": "stdout",
     "output_type": "stream",
     "text": [
      "intervals: [(1, 3), (3, 7), (8, 10)]\n"
     ]
    },
    {
     "data": {
      "text/plain": [
       "6"
      ]
     },
     "execution_count": 23,
     "metadata": {},
     "output_type": "execute_result"
    }
   ],
   "source": [
    "heights = [0,1,0,2,1,0,1,3,2,1,2,1]\n",
    "\n",
    "count_raindrops_trapped(heights)"
   ]
  },
  {
   "cell_type": "markdown",
   "id": "00a5e9a9",
   "metadata": {},
   "source": [
    "### improved - TC: O(n), SC: O(1)"
   ]
  },
  {
   "cell_type": "code",
   "execution_count": 24,
   "id": "f3c3e911",
   "metadata": {},
   "outputs": [],
   "source": [
    "\"\"\"\n",
    "1° step: loop over the entire list to get all intervals\n",
    "\n",
    " ml\n",
    "                    mr\n",
    "\n",
    "    l\n",
    "                    r\n",
    "0 1 0 2 1 0 1 3 2 1 2 1\n",
    " \n",
    "raindrops = 6\n",
    "\n",
    "\"\"\"\n",
    "def count_raindrops_trapped(heights):\n",
    "    raindrops = 0\n",
    "    \n",
    "    left = max_left = 1\n",
    "    right = max_right = len(heights)-2\n",
    "    \n",
    "    while left <= right:\n",
    "        if heights[max_left] <= heights[max_right]:\n",
    "            if heights[max_left] <= heights[left]:\n",
    "                max_left = left\n",
    "                left += 1\n",
    "            else:\n",
    "                raindrops += heights[max_left] - heights[left]\n",
    "                left += 1\n",
    "        else:\n",
    "            if heights[max_right] <= heights[right]:\n",
    "                max_right = right\n",
    "                right -= 1\n",
    "            else:\n",
    "                raindrops += heights[max_right] - heights[right]\n",
    "                right -= 1\n",
    "\n",
    "    return raindrops"
   ]
  },
  {
   "cell_type": "code",
   "execution_count": 27,
   "id": "b0162fff",
   "metadata": {},
   "outputs": [
    {
     "data": {
      "text/plain": [
       "6"
      ]
     },
     "execution_count": 27,
     "metadata": {},
     "output_type": "execute_result"
    }
   ],
   "source": [
    "heights = [0,1,0,2,1,0,1,3,2,1,2,1]\n",
    "\n",
    "count_raindrops_trapped(heights)"
   ]
  },
  {
   "cell_type": "markdown",
   "id": "5f7364bf",
   "metadata": {},
   "source": [
    "# NEW EXERCISES - FROM GITHUB\n",
    "\n",
    "https://github.com/ombharatiya/FAANG-Coding-Interview-Questions#google-top-50"
   ]
  },
  {
   "cell_type": "markdown",
   "id": "cc2d74d6",
   "metadata": {},
   "source": [
    "# 26 - Two Sum - Easy\n",
    "\n",
    "Given an array of integers nums and an integer target, return indices of the two numbers such that they add up to target.\n",
    "\n",
    "You may assume that each input would have exactly one solution, and you may not use the same element twice.\n",
    "\n",
    "You can return the answer in any order.\n",
    "\n",
    " \n",
    "\n",
    "__Example 1:__\n",
    "\n",
    "__Input:__ nums = [2,7,11,15], target = 9\n",
    "\n",
    "__Output:__ [0,1]\n",
    "\n",
    "__Explanation:__ Because nums[0] + nums[1] == 9, we return [0, 1].\n",
    "\n",
    "\n",
    "__Example 2:__\n",
    "\n",
    "\n",
    "__Input:__ nums = [3,2,4], target = 6\n",
    "\n",
    "__Output:__ [1,2]\n",
    "\n",
    "\n",
    "__Example 3:__\n",
    "\n",
    "__Input:__ nums = [3,3], target = 6\n",
    "\n",
    "__Output:__ [0,1]"
   ]
  },
  {
   "cell_type": "code",
   "execution_count": 30,
   "id": "12f75671",
   "metadata": {},
   "outputs": [],
   "source": [
    "# brute force: test all combinations\n",
    "\"\"\"\n",
    "    i\n",
    "        j\n",
    "2 7 11 15\n",
    "\n",
    "9\n",
    "\n",
    "[0,1]\n",
    "\n",
    "\"\"\"\n",
    "def find_two_sum(nums, target):\n",
    "    result = []\n",
    "    \n",
    "    for i in range(len(nums)):\n",
    "        for j in range(i+1,len(nums)):\n",
    "            curr_sum = nums[i] + nums[j]\n",
    "            if curr_sum == target:\n",
    "                result.append((i,j))\n",
    "                \n",
    "    return result\n",
    "\n",
    "# brute force improved\n",
    "def find_two_sum(nums, target):\n",
    "    result = []\n",
    "    \n",
    "    for i in range(len(nums)):\n",
    "        \n",
    "        if nums[i] > target:\n",
    "            break\n",
    "            \n",
    "        for j in range(i+1,len(nums)):\n",
    "            if nums[j] > target:\n",
    "                break\n",
    "                \n",
    "            curr_sum = nums[i] + nums[j]\n",
    "            if curr_sum == target:\n",
    "                result.append((i,j))\n",
    "                \n",
    "                \n",
    "    return result"
   ]
  },
  {
   "cell_type": "code",
   "execution_count": 31,
   "id": "031d1d00",
   "metadata": {},
   "outputs": [
    {
     "data": {
      "text/plain": [
       "[(0, 1)]"
      ]
     },
     "execution_count": 31,
     "metadata": {},
     "output_type": "execute_result"
    }
   ],
   "source": [
    "nums = [2,7,11,15]\n",
    "target = 9\n",
    "\n",
    "find_two_sum(nums, target)"
   ]
  },
  {
   "cell_type": "code",
   "execution_count": 42,
   "id": "1be1cb4c",
   "metadata": {},
   "outputs": [],
   "source": [
    "# improved\n",
    "\"\"\"\n",
    "Target = 9\n",
    "    i\n",
    "2 7 11 15\n",
    "\n",
    "{2:0, 7:1,}\n",
    "\n",
    "result = [(0,1),]\n",
    "\n",
    "\"\"\"\n",
    "def find_two_sum(nums, target):\n",
    "    result = []\n",
    "    visited = {}                \n",
    "    \n",
    "    for idx, value in enumerate(nums):\n",
    "        if value > target:\n",
    "            break\n",
    "        \n",
    "        if visited.get(target - value) is not None:\n",
    "            result.append((visited.get(target - value), idx))\n",
    "\n",
    "        visited[value] = idx\n",
    "\n",
    "    return result"
   ]
  },
  {
   "cell_type": "code",
   "execution_count": 41,
   "id": "2531daf7",
   "metadata": {},
   "outputs": [
    {
     "name": "stdout",
     "output_type": "stream",
     "text": [
      "{2: 0, 7: 1}\n"
     ]
    },
    {
     "data": {
      "text/plain": [
       "[(0, 1)]"
      ]
     },
     "execution_count": 41,
     "metadata": {},
     "output_type": "execute_result"
    }
   ],
   "source": [
    "nums = [2,7,11,15]\n",
    "target = 9\n",
    "\n",
    "find_two_sum(nums, target)"
   ]
  },
  {
   "cell_type": "markdown",
   "id": "4a405bc3",
   "metadata": {},
   "source": [
    "# 27 - Rotate Matrix\n",
    "\n",
    "Given an image represented by an NxN matrix, where each pixel in the image is 4 bytes, write a method to rotate the image by 90 degrees. Can you do this in place?"
   ]
  },
  {
   "cell_type": "code",
   "execution_count": 50,
   "id": "4fd91669",
   "metadata": {},
   "outputs": [],
   "source": [
    "\"\"\"\n",
    "1 2 3   rotate 90°    7 4 1\n",
    "4 5 6      =>         8 5 2\n",
    "7 8 9                 9 6 3\n",
    "\n",
    "\n",
    "1 => i:0 j:0\n",
    "2 => i:0 j:1\n",
    "3 => i:0 j:2\n",
    "4 => i:1 j:0\n",
    "5 => i:1 j:1\n",
    "6 => i:1 j:2\n",
    "7 => i:2 j:0\n",
    "8 => i:2 j:1\n",
    "9 => i:2 j:2\n",
    "\n",
    "\n",
    "9 => i:2 j:0\n",
    "8 => i:1 j:0\n",
    "7 => i:0 j:0\n",
    "6 => i:2 j:1\n",
    "5 => i:1 j:1\n",
    "4 => i:0 j:1\n",
    "3 => i:2 j:2\n",
    "2 => i:1 j:2\n",
    "1 => i:0 j:2\n",
    "\n",
    "\n",
    "\"\"\"\n",
    "def rotate_90(matrix):\n",
    "    stack = []\n",
    "    \n",
    "    for j in range(len(matrix)-1, -1, -1):\n",
    "        for i in range(len(matrix)):\n",
    "            stack.append(matrix[i][j])\n",
    "            \n",
    "    for i in range(len(matrix)):\n",
    "        for j in range(len(matrix)):\n",
    "            matrix[i][j] = stack.pop()\n",
    "            \n",
    "    return matrix\n",
    "\n",
    "def rotate_90_rec(matrix, i=0, j=0):\n",
    "    if i == len(matrix)-1 and j == len(matrix):\n",
    "        return\n",
    "    \n",
    "    if j == len(matrix) and i < len(matrix):\n",
    "        i += 1\n",
    "        j = 0\n",
    "    \n",
    "    temp = matrix[i][j]\n",
    "    rotate_90_rec(matrix, i, j+1)    \n",
    "    matrix[j][len(matrix)-i-1] = temp\n",
    "\n",
    "    \n",
    "def rotate_90(matrix):\n",
    "    rotate_90_rec(matrix)\n",
    "    return matrix"
   ]
  },
  {
   "cell_type": "code",
   "execution_count": 51,
   "id": "776209ae",
   "metadata": {},
   "outputs": [
    {
     "data": {
      "text/plain": [
       "[[7, 4, 1], [8, 5, 2], [9, 6, 3]]"
      ]
     },
     "execution_count": 51,
     "metadata": {},
     "output_type": "execute_result"
    }
   ],
   "source": [
    "matrix = [[1,2,3],[4,5,6],[7,8,9]]\n",
    "\n",
    "rotate_90(matrix)"
   ]
  },
  {
   "cell_type": "markdown",
   "id": "436b3c09",
   "metadata": {},
   "source": [
    "# 28 - Zero Matrix \n",
    "\n",
    "Write an algorithm such that if an element in an MxN matrix is 0, its entire row and column are set to 0."
   ]
  },
  {
   "cell_type": "code",
   "execution_count": 64,
   "id": "044647b5",
   "metadata": {},
   "outputs": [],
   "source": [
    "\"\"\"\n",
    "1 1 0 1        0 0 0 0\n",
    "0 1 1 1   =>   0 0 0 0\n",
    "1 0 1 0        0 0 0 0\n",
    "\n",
    "n^3\n",
    "\n",
    "\n",
    "(0,2), \n",
    "row: 0 to len\n",
    "col: 0 to len\n",
    "\n",
    "(1,0), \n",
    "row: 0 to len\n",
    "col: 0 to len\n",
    "\n",
    "(2,1), \n",
    "row: 0 to len\n",
    "col: 0 to len\n",
    "\n",
    "(2,3)\n",
    "row: 0 to len\n",
    "col: 0 to len\n",
    "\n",
    "\"\"\"\n",
    "def fill_zeros(matrix):\n",
    "    coord = []\n",
    "    \n",
    "    for i in range(len(matrix)):\n",
    "        for j in range(len(matrix[i])):\n",
    "            if matrix[i][j] == 0:\n",
    "                coord.append((i, j))\n",
    "                \n",
    "    for c in coord:\n",
    "        i = 0\n",
    "        while i < len(matrix)+len(matrix[0]):\n",
    "            if i < len(matrix):\n",
    "                matrix[c[0]][i] = 0\n",
    "            else:\n",
    "                matrix[i%len(matrix)][c[1]] = 0\n",
    "                \n",
    "            i += 1\n",
    "        \n",
    "    return matrix"
   ]
  },
  {
   "cell_type": "code",
   "execution_count": 65,
   "id": "115f202c",
   "metadata": {},
   "outputs": [
    {
     "data": {
      "text/plain": [
       "[[0, 0, 0, 0], [0, 0, 0, 0], [0, 0, 0, 0]]"
      ]
     },
     "execution_count": 65,
     "metadata": {},
     "output_type": "execute_result"
    }
   ],
   "source": [
    "matrix = [[1,1,0,1],[0,1,1,1],[1,0,1,0]]\n",
    "\n",
    "fill_zeros(matrix)"
   ]
  },
  {
   "cell_type": "markdown",
   "id": "8633894e",
   "metadata": {},
   "source": [
    "# 29 - String Rotation\n",
    "\n",
    "Assume you have a method isSubstring, which checks if one word is a substring of another. Given two strings, s1 and s2, write code to check if s2 is a rotation of s1 using only one call to isSubstring (e.g., \"waterbottle\" is a rotation of \"erbottlewat\")."
   ]
  },
  {
   "cell_type": "code",
   "execution_count": 108,
   "id": "1c873d96",
   "metadata": {},
   "outputs": [],
   "source": [
    "\"\"\"\n",
    "use two pointer, one to string 1 and the second to the string 2, first one points to the first letter in the s1,\n",
    "and second is used to find the first letter.\n",
    "\n",
    "1         2   \n",
    "w a t e r w o t t l e \n",
    "\n",
    "      1         2\n",
    "t e r w o t t l e w a\n",
    "\n",
    "\n",
    "aabbccdd\n",
    "\n",
    "bbccddaa\n",
    "\n",
    "\n",
    "waterwater\n",
    "\n",
    "terwaterwa\n",
    "\n",
    "\"\"\"\n",
    "def is_substring(s1, s2):\n",
    "    return s1 in s2\n",
    "\n",
    "def is_rotation(s1, s2):\n",
    "    \n",
    "    if len(s1) == len(s2):\n",
    "        \n",
    "        substring_s1 = s1[:len(s1)//2]\n",
    "        \n",
    "        high_s2 = len(s2)//2\n",
    "        \n",
    "        rotation = None\n",
    "        \n",
    "        s2_temp = s2 + s2[:len(s2)//2 + 1]\n",
    "        \n",
    "        for i in range(len(s2)):\n",
    "            if substring_s1 == s2_temp[i:high_s2]:\n",
    "                rotation = i\n",
    "                break\n",
    "            high_s2 += 1\n",
    "        \n",
    "        s2_temp = s2[rotation:] + s2[:rotation]\n",
    "        \n",
    "        return is_substring(s1, s2_temp) if rotation is not None else False"
   ]
  },
  {
   "cell_type": "code",
   "execution_count": 109,
   "id": "43335681",
   "metadata": {},
   "outputs": [
    {
     "data": {
      "text/plain": [
       "True"
      ]
     },
     "execution_count": 109,
     "metadata": {},
     "output_type": "execute_result"
    }
   ],
   "source": [
    "s1=\"waterbottle\"\n",
    "s2=\"erbottlewat\"\n",
    "\n",
    "is_rotation(s1, s2)"
   ]
  },
  {
   "cell_type": "code",
   "execution_count": null,
   "id": "0787dbb6",
   "metadata": {},
   "outputs": [],
   "source": []
  }
 ],
 "metadata": {
  "kernelspec": {
   "display_name": "Python 3 (ipykernel)",
   "language": "python",
   "name": "python3"
  },
  "language_info": {
   "codemirror_mode": {
    "name": "ipython",
    "version": 3
   },
   "file_extension": ".py",
   "mimetype": "text/x-python",
   "name": "python",
   "nbconvert_exporter": "python",
   "pygments_lexer": "ipython3",
   "version": "3.8.10"
  }
 },
 "nbformat": 4,
 "nbformat_minor": 5
}
