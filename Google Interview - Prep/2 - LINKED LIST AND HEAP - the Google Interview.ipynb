{
 "cells": [
  {
   "cell_type": "markdown",
   "id": "f59f1e35",
   "metadata": {},
   "source": [
    "# LINKED LIST - the Google Interview\n",
    "\n",
    "https://takeuforward-org.cdn.ampproject.org/c/s/takeuforward.org/interviews/strivers-sde-sheet-top-coding-interview-problems/?amp=1"
   ]
  },
  {
   "cell_type": "markdown",
   "id": "2602d090",
   "metadata": {},
   "source": [
    "# 1 - Reverse a Linked List\n",
    "\n",
    "__Problem Statement:__ Given the head of a singly linked list, write a program to reverse the linked list, and return the head pointer to the reversed list.\n",
    "\n",
    "__Examples:__\n",
    "\n",
    "Input Format: \n",
    "\n",
    "head = [3,6,8,10]\n",
    "\n",
    "This means the given linked list is 3->6->8->10 with head pointer at node 3.\n",
    "\n",
    "Result:\n",
    "\n",
    "Output = [10,6,8,3]\n",
    "\n",
    "This means, after reversal, the list should be 10->6->8->3 with the head pointer at node 10."
   ]
  },
  {
   "cell_type": "code",
   "execution_count": 37,
   "id": "f7d6ed2e",
   "metadata": {},
   "outputs": [],
   "source": [
    "class SinglyLinkedList:\n",
    "    class Node:\n",
    "        def __init__(self, data=None):\n",
    "            self.data = data\n",
    "            self.next = None\n",
    "    \n",
    "    def __init__(self):\n",
    "        self.head = None\n",
    "        self.size = 0\n",
    "        \n",
    "    def insert(self, data):\n",
    "        node = self.Node(data)\n",
    "        \n",
    "        if self.head is None:\n",
    "            self.head = node\n",
    "            self.size += 1\n",
    "        else:\n",
    "            node.next = self.head\n",
    "            self.head = node\n",
    "            self.size += 1\n",
    "    \n",
    "    def reverse_recursive(self):\n",
    "        # a -> b -> c -> d -> e -> None\n",
    "        # None <- a <- b <- c <- d <- e\n",
    "        def helper(curr):\n",
    "            if curr.next is None:\n",
    "                self.head = curr\n",
    "                return curr\n",
    "            \n",
    "            pos = helper(curr.next)\n",
    "            pos.next = curr\n",
    "            return curr\n",
    "        pos = helper(self.head)\n",
    "        pos.next = None\n",
    "    \n",
    "    def reverse_iterative(self):\n",
    "        \n",
    "        # a -> b -> c -> d -> e -> None\n",
    "        #                        p    c     n\n",
    "        # None <- a <- b <- c <- d    e -> None\n",
    "        \n",
    "        if self.size > 2:\n",
    "            curr = self.head.next\n",
    "            nxt = curr.next\n",
    "            prev = self.head\n",
    "            prev.next = None\n",
    "\n",
    "            while nxt:                \n",
    "                curr.next = prev\n",
    "                prev = curr\n",
    "                curr = nxt\n",
    "                self.head = curr\n",
    "                nxt = nxt.next\n",
    "                \n",
    "                if nxt is None:\n",
    "                    curr.next = prev\n",
    "                \n",
    "        \n",
    "        elif self.size == 2:\n",
    "            temp = self.head\n",
    "            self.head = self.head.next\n",
    "            self.head.next = temp\n",
    "    \n",
    "    def traverse(self):\n",
    "        curr = self.head\n",
    "        result = []\n",
    "        while curr:\n",
    "            result.append(curr.data)\n",
    "            curr = curr.next\n",
    "        \n",
    "        result_str = [str(i) for i in result]\n",
    "        print(\" -> \".join(result_str))"
   ]
  },
  {
   "cell_type": "code",
   "execution_count": 38,
   "id": "65785428",
   "metadata": {},
   "outputs": [
    {
     "name": "stdout",
     "output_type": "stream",
     "text": [
      "3 -> 6 -> 8 -> 10\n",
      "10 -> 8 -> 6 -> 3\n",
      "3 -> 6 -> 8 -> 10\n",
      "\n",
      "\n",
      "\n",
      "3 -> 6 -> 8 -> 10\n",
      "10 -> 8 -> 6 -> 3\n",
      "3 -> 6 -> 8 -> 10\n"
     ]
    }
   ],
   "source": [
    "arr = [3,6,8,10]\n",
    "sll = SinglyLinkedList()\n",
    "\n",
    "for i in range(len(arr) - 1, -1, -1):\n",
    "    sll.insert(arr[i])\n",
    "    \n",
    "sll.traverse()\n",
    "sll.reverse_recursive()\n",
    "sll.traverse()\n",
    "sll.reverse_recursive()\n",
    "sll.traverse()\n",
    "print(\"\\n\\n\")\n",
    "sll.traverse()\n",
    "sll.reverse_iterative()\n",
    "sll.traverse()\n",
    "sll.reverse_iterative()\n",
    "sll.traverse()"
   ]
  },
  {
   "cell_type": "markdown",
   "id": "d57b4a54",
   "metadata": {},
   "source": [
    "# 2 - Find middle element in a Linked List\n",
    "\n",
    "__Problem Statement:__ Given the head of a singly linked list, return the middle node of the linked list. If there are two middle nodes, return the second middle node.\n",
    "\n",
    "__Examples:__\n",
    "\n",
    "Input Format: ( Pointer / Access to the head of a Linked list )\n",
    "\n",
    "head = [1,2,3,4,5]\n",
    "\n",
    "Result: [3,4,5] ( As we will return the middle of Linked list the further linked list will be still available )\n",
    "\n",
    "Explanation: The middle node of the list is node 3 as in the below image."
   ]
  },
  {
   "cell_type": "code",
   "execution_count": 64,
   "id": "14bdc56a",
   "metadata": {},
   "outputs": [],
   "source": [
    "class SinglyLinkedList:\n",
    "    class Node:\n",
    "        def __init__(self, data=None):\n",
    "            self.data = data\n",
    "            self.next = None\n",
    "            \n",
    "    def __init__(self):\n",
    "        self.head = None\n",
    "        self.size = 0\n",
    "\n",
    "    def insert(self, data):\n",
    "        node = self.Node(data)\n",
    "        \n",
    "        if self.head is None:\n",
    "            self.head = node\n",
    "            self.size += 1\n",
    "        else:\n",
    "            node.next = self.head\n",
    "            self.head = node\n",
    "            self.size += 1\n",
    "    \n",
    "    def find_mid(self):\n",
    "        mid = self.size // 2\n",
    "        curr = self.head \n",
    "        \n",
    "        for i in range(mid):\n",
    "            curr = curr.next\n",
    "        \n",
    "        print(curr.data)\n",
    "        \n",
    "    def find_mid_2(self):\n",
    "        #           s         f\n",
    "        # a -> b -> c -> d -> e -> f -> None\n",
    "        #           s         f\n",
    "        # a -> b -> c -> d -> e -> None\n",
    "        pt_s = self.head\n",
    "        pt_f = self.head\n",
    "        \n",
    "        while pt_f.next:\n",
    "            if pt_f.next.next is None:\n",
    "                pt_f = pt_f.next\n",
    "                pt_s = pt_s.next\n",
    "            else:\n",
    "                pt_f = pt_f.next.next\n",
    "                pt_s = pt_s.next\n",
    "        \n",
    "        print(pt_s.data)\n",
    "        \n",
    "    def traverse(self):\n",
    "        curr = self.head\n",
    "        result = []\n",
    "        \n",
    "        while curr:\n",
    "            result.append(curr.data)\n",
    "            curr = curr.next\n",
    "        \n",
    "        result_str = [str(i) for i in result]\n",
    "        \n",
    "        print(\" -> \".join(result_str))\n",
    "        "
   ]
  },
  {
   "cell_type": "code",
   "execution_count": 63,
   "id": "859357da",
   "metadata": {},
   "outputs": [
    {
     "name": "stdout",
     "output_type": "stream",
     "text": [
      "3 -> 6 -> 8 -> 10 -> 9 -> 11 -> 12 -> 13\n",
      "9\n",
      "3 -> 6 -> 8 -> 10 -> 9 -> 11 -> 12 -> 13\n",
      "9\n"
     ]
    }
   ],
   "source": [
    "arr = [3,6,8,10,9,11,12, 13]\n",
    "sll = SinglyLinkedList()\n",
    "\n",
    "for i in range(len(arr) - 1, -1, -1):\n",
    "    sll.insert(arr[i])\n",
    "    \n",
    "sll.traverse()\n",
    "sll.find_mid()\n",
    "sll.traverse()\n",
    "sll.find_mid_2()"
   ]
  },
  {
   "cell_type": "markdown",
   "id": "697cba80",
   "metadata": {},
   "source": [
    "# 3 - Merge two sorted Linked Lists\n",
    "\n",
    "In this article we will solve the most asked coding interview question: ” Merge two sorted Linked Lists “\n",
    "\n",
    "__Problem Statement:__ Given two singly linked lists that are sorted in increasing order of node values, merge two sorted linked lists and return them as a sorted list. The list should be made by splicing together the nodes of the first two lists.\n",
    "\n",
    "__Example 1:__\n",
    "\n",
    "Input Format :\n",
    "l1 = {3,7,10}, l2 = {1,2,5,8,10}\n",
    "\n",
    "Output :\n",
    "{1,2,3,5,7,8,10,10}\n"
   ]
  },
  {
   "cell_type": "code",
   "execution_count": 76,
   "id": "0b660741",
   "metadata": {},
   "outputs": [],
   "source": [
    "class SinglyLinkedList:\n",
    "    class Node:\n",
    "        def __init__(self, data=None):\n",
    "            self.data = data\n",
    "            self.next = None\n",
    "            \n",
    "    def __init__(self):\n",
    "        self.head = None\n",
    "        self.tail = None\n",
    "        \n",
    "    def insert(self, data):\n",
    "        node = self.Node(data)\n",
    "        \n",
    "        if self.head is None:\n",
    "            self.head = node\n",
    "            self.tail = node\n",
    "        else:\n",
    "            self.tail.next = node\n",
    "            self.tail = node\n",
    "            \n",
    "    def traverse(self):\n",
    "        curr = self.head\n",
    "        result = []\n",
    "        \n",
    "        while curr:\n",
    "            result.append(str(curr.data))\n",
    "            curr = curr.next\n",
    "            \n",
    "        print(\" -> \".join(result))"
   ]
  },
  {
   "cell_type": "code",
   "execution_count": 79,
   "id": "ba11bdaf",
   "metadata": {},
   "outputs": [
    {
     "name": "stdout",
     "output_type": "stream",
     "text": [
      "3 -> 7 -> 10\n",
      "1 -> 2 -> 5 -> 8 -> 10\n"
     ]
    }
   ],
   "source": [
    "l1 = [3,7,10]\n",
    "l2 = [1,2,5,8,10]\n",
    "\n",
    "sll_1 = SinglyLinkedList()\n",
    "sll_2 = SinglyLinkedList()\n",
    "\n",
    "for i in range(len(l1)):\n",
    "    sll_1.insert(l1[i])\n",
    "    \n",
    "for i in range(len(l2)):\n",
    "    sll_2.insert(l2[i])\n",
    "    \n",
    "sll_1.traverse()\n",
    "sll_2.traverse()"
   ]
  },
  {
   "cell_type": "code",
   "execution_count": 80,
   "id": "4699f239",
   "metadata": {},
   "outputs": [],
   "source": [
    "def merge_two_list(l1, l2):\n",
    "    sll_aux = SinglyLinkedList()\n",
    "    curr_1 = l1.head\n",
    "    curr_2 = l2.head\n",
    "    \n",
    "    while curr_1 is not None and curr_2 is not None:\n",
    "        if curr_1.data <= curr_2.data:\n",
    "            sll_aux.insert(curr_1.data)\n",
    "            curr_1 = curr_1.next\n",
    "        else:\n",
    "            sll_aux.insert(curr_2.data)\n",
    "            curr_2 = curr_2.next\n",
    "    \n",
    "    while curr_1 is not None:\n",
    "        sll_aux.insert(curr_1.data)\n",
    "        curr_1 = curr_1.next\n",
    "        \n",
    "    while curr_2 is not None:\n",
    "        sll_aux.insert(curr_2.data)\n",
    "        curr_2 = curr_2.next\n",
    "    \n",
    "    sll_aux.traverse()"
   ]
  },
  {
   "cell_type": "code",
   "execution_count": 81,
   "id": "726c8149",
   "metadata": {},
   "outputs": [
    {
     "name": "stdout",
     "output_type": "stream",
     "text": [
      "1 -> 2 -> 3 -> 5 -> 7 -> 8 -> 10 -> 10\n"
     ]
    }
   ],
   "source": [
    "merge_two_list(sll_1, sll_2)"
   ]
  },
  {
   "cell_type": "markdown",
   "id": "1c9791f3",
   "metadata": {},
   "source": [
    "# 4 - Remove N-th node from the end of a Linked List\n",
    "\n",
    "__Problem Statement:__ Given a linked list, and a number N. Find the Nth node from the end of this linkedlist, and delete it. Return the head of the new modified linked list.\n",
    "\n",
    "__Example 1 :__\n",
    "\n",
    "Input: head = [1,2,3,4,5], n = 2\n",
    "\n",
    "Output: [1,2,3,5]\n",
    "\n",
    "Explanation: Refer Below Image\n"
   ]
  },
  {
   "cell_type": "code",
   "execution_count": 151,
   "id": "7cb11f74",
   "metadata": {},
   "outputs": [],
   "source": [
    "class SinglyLinkedList:\n",
    "    class Node:\n",
    "        def __init__(self, data=None):\n",
    "            self.data = data\n",
    "            self.next = None\n",
    "    \n",
    "    \n",
    "    def __init__(self):\n",
    "        self.head = None\n",
    "        self.tail = None\n",
    "        \n",
    "    def insert(self, data):\n",
    "        node = self.Node(data)\n",
    "        \n",
    "        if self.tail is None:\n",
    "            self.head = node\n",
    "            self.tail = node\n",
    "        else:\n",
    "            self.tail.next = node\n",
    "            self.tail = node\n",
    "            \n",
    "    \n",
    "    def remove_nth_from_end(self, nth):\n",
    "        # h              s              f\n",
    "        # 1 -> 2 -> 3 -> 4 -> 5 -> 6 -> 7 -> None\n",
    "        \n",
    "        #                               f\n",
    "        #                     s\n",
    "        # 1 -> 2 -> 3 -> 4 -> 5 -> 6 -> 7 -> 8 -> None\n",
    "        \n",
    "        if self.head is None:\n",
    "            return None\n",
    "        \n",
    "        s = self.head\n",
    "        f = self.head\n",
    "                \n",
    "        size = 1\n",
    "        \n",
    "        while f.next:\n",
    "            if f.next.next:\n",
    "                f = f.next.next\n",
    "                s = s.next\n",
    "                size += 2\n",
    "            else:\n",
    "                f = f.next\n",
    "                s = s.next\n",
    "                size += 1\n",
    "        \n",
    "        \n",
    "        if size < nth:\n",
    "            return None\n",
    "        \n",
    "        if size//2 + 1 < size - nth:\n",
    "            mid = size//2 + 1\n",
    "            \n",
    "            while mid < size - nth:\n",
    "                s = s.next\n",
    "                mid += 1\n",
    "            \n",
    "            if s.next.next is not None:\n",
    "                s.next = s.next.next\n",
    "            else:\n",
    "                s.next = None\n",
    "        \n",
    "        else:\n",
    "            begin = 1\n",
    "            curr = self.head\n",
    "            while begin < size - nth:\n",
    "                curr = curr.next\n",
    "                begin += 1\n",
    "            \n",
    "            curr.next = curr.next.next\n",
    "        \n",
    "    def traverse(self):\n",
    "        curr = self.head\n",
    "        result = []\n",
    "        \n",
    "        while curr:\n",
    "            result.append(str(curr.data))\n",
    "            curr = curr.next\n",
    "        \n",
    "        print(\" -> \".join(result))"
   ]
  },
  {
   "cell_type": "code",
   "execution_count": 154,
   "id": "9ea428f8",
   "metadata": {},
   "outputs": [
    {
     "name": "stdout",
     "output_type": "stream",
     "text": [
      "1 -> 2 -> 3 -> 4 -> 5 -> 6 -> 7 -> 8 -> 9\n",
      "1 -> 2 -> 3 -> 4 -> 5 -> 6 -> 7 -> 8\n"
     ]
    }
   ],
   "source": [
    "sll = SinglyLinkedList()\n",
    "for i in [1,2,3,4,5,6,7,8,9]:\n",
    "    sll.insert(i)\n",
    "    \n",
    "sll.traverse()\n",
    "sll.remove_nth_from_end(1)\n",
    "sll.traverse()"
   ]
  },
  {
   "cell_type": "markdown",
   "id": "caea39eb",
   "metadata": {},
   "source": [
    "### same complexity but simpler - O(n)"
   ]
  },
  {
   "cell_type": "code",
   "execution_count": 155,
   "id": "0d943df4",
   "metadata": {},
   "outputs": [],
   "source": [
    "def remove_nth_from_end(l, nth):\n",
    "    p1 = l.head\n",
    "    \n",
    "    for i in range(nth):\n",
    "        p1 = p1.next\n",
    "    \n",
    "    p2 = l.head\n",
    "    \n",
    "    while p1.next:\n",
    "        p1 = p1.next\n",
    "        p2 = p2.next\n",
    "        \n",
    "    p2.next = p2.next.next"
   ]
  },
  {
   "cell_type": "code",
   "execution_count": 159,
   "id": "193b9d6a",
   "metadata": {},
   "outputs": [
    {
     "name": "stdout",
     "output_type": "stream",
     "text": [
      "1 -> 2 -> 3 -> 4 -> 5 -> 6 -> 7 -> 8 -> 9\n",
      "1 -> 2 -> 3 -> 4 -> 5 -> 6 -> 7 -> 9\n"
     ]
    }
   ],
   "source": [
    "sll = SinglyLinkedList()\n",
    "for i in [1,2,3,4,5,6,7,8,9]:\n",
    "    sll.insert(i)\n",
    "    \n",
    "sll.traverse()\n",
    "remove_nth_from_end(sll, 2)\n",
    "sll.traverse()"
   ]
  },
  {
   "cell_type": "markdown",
   "id": "77902b14",
   "metadata": {},
   "source": [
    "# 5 - Add two numbers represented as Linked Lists\n",
    "\n",
    "__Problem Statement:__ Given the heads of two non-empty linked lists representing two non-negative integers. The digits are stored in reverse order, and each of their nodes contains a single digit. Add the two numbers and return the sum as a linked list.\n",
    "\n",
    "__Examples:__\n",
    "\n",
    "Input Format: \n",
    "(Pointer/Access to the head of the two linked lists)\n",
    "\n",
    "num1  = 342, num2 = 465\n",
    "\n",
    "l1 = [2,4,3]\n",
    "l2 = [5,6,4]\n",
    "\n",
    "Result: sum = 807; L = [7,0,8]\n",
    "\n",
    "Explanation: Since the digits are stored in reverse order, reverse the numbers first to get the or                                                original number and then add them as → 342 + 465 = 807. Refer to the image below."
   ]
  },
  {
   "cell_type": "code",
   "execution_count": 164,
   "id": "95977e26",
   "metadata": {},
   "outputs": [],
   "source": [
    "class SinglyLinkedList:\n",
    "    class Node:\n",
    "        def __init__(self, data=None):\n",
    "            self.data = data\n",
    "            self.next = None\n",
    "            \n",
    "    def __init__(self):\n",
    "        self.head = None\n",
    "    \n",
    "    def insert(self, data):\n",
    "        node = self.Node(data)\n",
    "        \n",
    "        if self.head is None:\n",
    "            self.head = node\n",
    "        else:\n",
    "            node.next = self.head\n",
    "            self.head = node\n",
    "            \n",
    "    def traverse(self):\n",
    "        curr = self.head\n",
    "        result = []\n",
    "        \n",
    "        while curr:\n",
    "            result.append(curr.data)\n",
    "            curr = curr.next\n",
    "            \n",
    "        print(result)"
   ]
  },
  {
   "cell_type": "code",
   "execution_count": 166,
   "id": "a3bee4e3",
   "metadata": {},
   "outputs": [
    {
     "name": "stdout",
     "output_type": "stream",
     "text": [
      "[2, 4, 3]\n",
      "[5, 6, 4]\n"
     ]
    }
   ],
   "source": [
    "sll_1 = SinglyLinkedList()\n",
    "for i in [3,4,2]:\n",
    "    sll_1.insert(i)\n",
    "    \n",
    "sll_1.traverse()\n",
    "\n",
    "sll_2 = SinglyLinkedList()\n",
    "for i in [4,6,5]:\n",
    "    sll_2.insert(i)\n",
    "    \n",
    "sll_2.traverse()"
   ]
  },
  {
   "cell_type": "code",
   "execution_count": 173,
   "id": "2ce0796a",
   "metadata": {},
   "outputs": [],
   "source": [
    "def add_sll(l1, l2):\n",
    "    curr = l1.head\n",
    "    \n",
    "    exp = 0\n",
    "    n_1 = 0\n",
    "    while curr:\n",
    "        n_1 += curr.data * 10**exp\n",
    "        exp += 1\n",
    "        curr = curr.next\n",
    "        \n",
    "    curr = l2.head\n",
    "    \n",
    "    exp = 0\n",
    "    n_2 = 0\n",
    "    while curr:\n",
    "        n_2 += curr.data * 10**exp\n",
    "        exp += 1\n",
    "        curr = curr.next\n",
    "        \n",
    "    total = [int(x) for x in str(n_1 + n_2)]\n",
    "    sll_aux = SinglyLinkedList()\n",
    "    \n",
    "    for i in total:\n",
    "        sll_aux.insert(i)\n",
    "    \n",
    "    sll_aux.traverse()\n",
    "    print(n_1 + n_2)"
   ]
  },
  {
   "cell_type": "code",
   "execution_count": 174,
   "id": "a0c682d0",
   "metadata": {},
   "outputs": [
    {
     "name": "stdout",
     "output_type": "stream",
     "text": [
      "[7, 0, 8]\n",
      "807\n"
     ]
    }
   ],
   "source": [
    "add_sll(sll_1, sll_2)"
   ]
  },
  {
   "cell_type": "markdown",
   "id": "4fe463ea",
   "metadata": {},
   "source": [
    "# 6 - Delete given node in a Linked List : O(1) approach\n",
    "\n",
    "__Problem Statement:__ Write a function to delete a node in a singly-linked list. You will not be given access to the head of the list instead, you will be given access to the node to be deleted directly. It is guaranteed that the node to be deleted is not a tail node in the list.\n",
    "\n",
    "__Example 1:__\n",
    "\n",
    "Input: Linked list: [1,4,2,3], Node = 2\n",
    "\n",
    "Output:\n",
    "\n",
    "Linked list: [1,4,3]\n",
    "\n",
    "Explanation: Access is given to node 2. After deleting nodes, the linked list will be modified to [1,4,3].\n",
    "\n",
    "__Example 2:__\n",
    "\n",
    "Input: Linked list: [1,2,3,4], Node = 1\n",
    "\n",
    "Output: Linked list: [2,3,4]\n",
    "\n",
    "Explanation: Access is given to node 1. After deleting nodes, the linked list will be modified to [2,3,4]."
   ]
  },
  {
   "cell_type": "code",
   "execution_count": 222,
   "id": "f241f7de",
   "metadata": {},
   "outputs": [],
   "source": [
    "class SinglyLinkedList:\n",
    "    class Node:\n",
    "        def __init__(self, data=None):\n",
    "            self.data = data\n",
    "            self.next = None\n",
    "            \n",
    "    def __init__(self):\n",
    "        self.head = None\n",
    "    \n",
    "    def insert(self, data):\n",
    "        node = self.Node(data)\n",
    "        \n",
    "        if self.head is None:\n",
    "            self.head = node\n",
    "        else:\n",
    "            node.next = self.head\n",
    "            self.head = node\n",
    "            \n",
    "    def traverse(self):\n",
    "        curr = self.head\n",
    "        result = []\n",
    "        \n",
    "        while curr:\n",
    "            result.append(curr.data)\n",
    "            curr = curr.next\n",
    "            \n",
    "        print(result)\n",
    "        \n",
    "    def return_third(self):\n",
    "        curr = self.head\n",
    "        count = 0\n",
    "        \n",
    "        while count < 2:\n",
    "            curr = curr.next\n",
    "            count += 1\n",
    "            \n",
    "        return curr"
   ]
  },
  {
   "cell_type": "code",
   "execution_count": 227,
   "id": "b6d87c77",
   "metadata": {},
   "outputs": [
    {
     "name": "stdout",
     "output_type": "stream",
     "text": [
      "[1, 2, 3, 4, 5]\n",
      "3\n",
      "3 {<__main__.SinglyLinkedList.Node object at 0x7f264d30bb20>: <__main__.SinglyLinkedList.Node object at 0x7f264d30bb20>}\n"
     ]
    }
   ],
   "source": [
    "sll_1 = SinglyLinkedList()\n",
    "for i in [5,4,3,2,1]:\n",
    "    sll_1.insert(i)\n",
    "    \n",
    "sll_1.traverse()\n",
    "\n",
    "node = sll_1.return_third()\n",
    "print(node.data)"
   ]
  },
  {
   "cell_type": "code",
   "execution_count": 224,
   "id": "73a48015",
   "metadata": {},
   "outputs": [],
   "source": [
    "#           \n",
    "# 1 -> 2 -> 3 -> 4 -> 5\n",
    "def delete_node(node):    \n",
    "    node.data = node.next.data\n",
    "    node.next = node.next.next\n",
    "    "
   ]
  },
  {
   "cell_type": "code",
   "execution_count": 225,
   "id": "ae44666f",
   "metadata": {},
   "outputs": [
    {
     "name": "stdout",
     "output_type": "stream",
     "text": [
      "[1, 2, 3, 4, 5]\n",
      "[1, 2, 4, 5]\n"
     ]
    }
   ],
   "source": [
    "sll_1.traverse()\n",
    "delete_node(node)\n",
    "sll_1.traverse()"
   ]
  },
  {
   "cell_type": "markdown",
   "id": "eed88741",
   "metadata": {},
   "source": [
    "# 7 - Find intersection of Two Linked Lists\n",
    "\n",
    "__Problem Statement:__ Given the heads of two singly linked-lists headA and headB, return the node at which the two lists intersect. If the two linked lists have no intersection at all, return null.\n",
    "\n",
    "__Example 1:__\n",
    "Input:\n",
    "List 1 = [1,3,1,2,4], List 2 = [3,2,4]\n",
    "Output:\n",
    "2\n",
    "Explanation: Here, both lists intersecting nodes start from node 2."
   ]
  },
  {
   "cell_type": "code",
   "execution_count": 237,
   "id": "4a4e6ae2",
   "metadata": {},
   "outputs": [],
   "source": [
    "class SinglyLinkedList:\n",
    "    class Node:\n",
    "        def __init__(self, data=None):\n",
    "            self.data = data\n",
    "            self.next = None\n",
    "            \n",
    "    def __init__(self):\n",
    "        self.head = None\n",
    "    \n",
    "    def insert(self, data):\n",
    "        node = self.Node(data)\n",
    "        \n",
    "        if self.head is None:\n",
    "            self.head = node\n",
    "        else:\n",
    "            node.next = self.head\n",
    "            self.head = node\n",
    "        \n",
    "    def insert_node(self, node):\n",
    "        \n",
    "        if self.head is None:\n",
    "            self.head = node\n",
    "        else:\n",
    "            node.next = self.head\n",
    "            self.head = node\n",
    "        \n",
    "    def traverse(self):\n",
    "        curr = self.head\n",
    "        result = []\n",
    "        \n",
    "        while curr:\n",
    "            result.append(curr.data)\n",
    "            curr = curr.next\n",
    "            \n",
    "        print(result)\n",
    "        \n",
    "    def return_third(self):\n",
    "        curr = self.head\n",
    "        count = 0\n",
    "        \n",
    "        while count < 3:\n",
    "            curr = curr.next\n",
    "            count += 1\n",
    "            \n",
    "        return curr"
   ]
  },
  {
   "cell_type": "code",
   "execution_count": 240,
   "id": "b7c03e63",
   "metadata": {},
   "outputs": [
    {
     "name": "stdout",
     "output_type": "stream",
     "text": [
      "[1, 3, 1, 2, 4]\n",
      "2\n",
      "[2, 4]\n"
     ]
    }
   ],
   "source": [
    "l1 = [1,3,1,2,4]\n",
    "\n",
    "l2 = [3,2,4]\n",
    "\n",
    "sll_1 = SinglyLinkedList()\n",
    "sll_2 = SinglyLinkedList()\n",
    "\n",
    "for i in range(len(l1) - 1, -1, -1):\n",
    "    sll_1.insert(l1[i])\n",
    "    \n",
    "sll_1.traverse()\n",
    "\n",
    "node = sll_1.return_third()\n",
    "print(node.data)\n",
    "\n",
    "for i in range(len(l2) - 1, -1, -1):\n",
    "    if l2[i] == 2:\n",
    "        sll_2.insert_node(node)\n",
    "        break\n",
    "    else:\n",
    "        sll_2.insert(l2[i])\n",
    "    \n",
    "sll_2.traverse()\n",
    "\n"
   ]
  },
  {
   "cell_type": "code",
   "execution_count": 245,
   "id": "9022799e",
   "metadata": {},
   "outputs": [],
   "source": [
    "def find_intersection(l1, l2):\n",
    "    curr = l1.head\n",
    "    aux = dict()\n",
    "    \n",
    "    while curr:\n",
    "        if aux.get(curr) is None:\n",
    "            aux[curr] = curr\n",
    "        \n",
    "        curr = curr.next\n",
    "        \n",
    "        \n",
    "    curr = l2.head\n",
    "    while curr:\n",
    "        if aux.get(curr) is not None:\n",
    "            print(\"the intersection starts in:\", curr.data)\n",
    "            break\n",
    "        \n",
    "        curr = curr.next\n",
    "    "
   ]
  },
  {
   "cell_type": "code",
   "execution_count": 246,
   "id": "9aba8258",
   "metadata": {},
   "outputs": [
    {
     "name": "stdout",
     "output_type": "stream",
     "text": [
      "the intersection starts in: 2\n"
     ]
    }
   ],
   "source": [
    "find_intersection(sll_1, sll_2)"
   ]
  },
  {
   "cell_type": "markdown",
   "id": "bee16d9b",
   "metadata": {},
   "source": [
    "# 8 - Detect a Cycle in a Linked List\n",
    "\n",
    "In this article we will solve the most asked interview question: Detect a Cycle in a Linked List\n",
    "\n",
    "__Problem Statement:__ Given head, the head of a linked list, determine if the linked list has a cycle in it. There is a cycle in a linked list if there is some node in the list that can be reached again by continuously following the next pointer.\n",
    "\n",
    "Return true if there is a cycle in the linked list. Otherwise, return false.\n",
    "\n",
    "__Example 1:__\n",
    "Input:\n",
    "\n",
    " Head = [1,2,3,4]\n",
    "\n",
    "Output:\n",
    " true\n",
    "\n",
    "Explanation: Here, we can see that we can reach node at position 1 again by following the next pointer. Thus, we return true for this case.\n",
    "\n",
    "![image1](https://lh6.googleusercontent.com/Z_iFq25kMwIGVzmEOhE_a5EfDtSwDd_tRgqnrfMxyCG4L7P8I3tGRhstJKtwbE9s4hifFNigt7yjy3e_r2De4o3egfqLdNFRhOnfpU2PrZxotaPHNPUkbBpTu35GsFLuSt8QMEbb)"
   ]
  },
  {
   "cell_type": "code",
   "execution_count": 38,
   "id": "0c0198d4",
   "metadata": {},
   "outputs": [],
   "source": [
    "class SinglyLinkedList:\n",
    "    class Node:\n",
    "        def __init__(self, data=None):\n",
    "            self.data = data\n",
    "            self.next = None\n",
    "            \n",
    "    def __init__(self):\n",
    "        self.head = None\n",
    "        \n",
    "    def insert(self, data):\n",
    "        node = self.Node(data)\n",
    "        \n",
    "        if self.head is None:\n",
    "            self.head = node\n",
    "        else:\n",
    "            node.next = self.head\n",
    "            self.head = node\n",
    "            \n",
    "    def return_nth(self, nth):\n",
    "        curr = self.head\n",
    "        \n",
    "        while nth > 1:\n",
    "            curr = curr.next\n",
    "            nth -= 1\n",
    "        \n",
    "        #print(curr.data)\n",
    "        return curr\n",
    "    \n",
    "    def create_cycle(self):\n",
    "        curr = self.head\n",
    "        \n",
    "        while curr.next:\n",
    "            curr = curr.next\n",
    "        \n",
    "        print(curr.data)\n",
    "        curr.next = self.return_nth(2)\n",
    "    \n",
    "    \n",
    "    def traverse(self):\n",
    "        curr = self.head\n",
    "        result = []\n",
    "        \n",
    "        while curr:\n",
    "            result.append(curr.data)\n",
    "            \n",
    "            curr = curr.next            \n",
    "            \n",
    "        return result"
   ]
  },
  {
   "cell_type": "code",
   "execution_count": 39,
   "id": "ef6f80e2",
   "metadata": {},
   "outputs": [
    {
     "data": {
      "text/plain": [
       "[1, 2, 3, 4, 5, 6]"
      ]
     },
     "execution_count": 39,
     "metadata": {},
     "output_type": "execute_result"
    }
   ],
   "source": [
    "l1 = [1,2,3,4,5,6]\n",
    "\n",
    "sll_1 = SinglyLinkedList()\n",
    "\n",
    "for i in range(len(l1) - 1, -1, -1):\n",
    "    sll_1.insert(l1[i])\n",
    "    \n",
    "sll_1.traverse()\n",
    "#sll_1.create_cycle()"
   ]
  },
  {
   "cell_type": "code",
   "execution_count": 40,
   "id": "7f3997a0",
   "metadata": {},
   "outputs": [],
   "source": [
    "def detect_cycle(l):\n",
    "    curr = l.head\n",
    "    aux = dict()\n",
    "    \n",
    "    while curr:\n",
    "        if aux.get(curr) is not None:\n",
    "            print(\"cycle is in:\", curr.data)\n",
    "            return\n",
    "        else:\n",
    "            aux[curr] = curr\n",
    "        \n",
    "        curr = curr.next\n",
    "        \n",
    "    print(\"There is no cycle\")"
   ]
  },
  {
   "cell_type": "code",
   "execution_count": 41,
   "id": "849015a3",
   "metadata": {},
   "outputs": [
    {
     "name": "stdout",
     "output_type": "stream",
     "text": [
      "There is no cycle\n"
     ]
    }
   ],
   "source": [
    "detect_cycle(sll_1)"
   ]
  },
  {
   "cell_type": "markdown",
   "id": "b727e446",
   "metadata": {},
   "source": [
    "# 8 - Reverse Linked List in groups of Size K\n",
    "\n",
    "In this article we will solve a very popular question Reverse Linked List in groups of Size K.\n",
    "\n",
    "Problem Statement: Given the head of a linked list, reverse the nodes of the list k at a time, and return the modified list. k is a positive integer and is less than or equal to the length of the linked list. If the number of nodes is not a multiple of k then left-out nodes, in the end, should remain as it is.\n",
    "\n",
    "Examples:\n",
    "\n",
    "Example 1:\n",
    "Input:\n",
    " head = [1,2,3,4,5,6,7,8] k=3\n",
    "Output:\n",
    " head = [3,2,1,6,5,4,7,8]\n",
    "Explanation:"
   ]
  },
  {
   "cell_type": "code",
   "execution_count": 185,
   "id": "40053c17",
   "metadata": {},
   "outputs": [],
   "source": [
    "class SinglyLinkedList:\n",
    "    class Node:\n",
    "        def __init__(self, data=None):\n",
    "            self.data = data\n",
    "            self.next = None\n",
    "            \n",
    "    def __init__(self):\n",
    "        self.head = None\n",
    "        \n",
    "    def insert(self, data):\n",
    "        node = self.Node(data)\n",
    "        \n",
    "        if self.head is None:\n",
    "            self.head = node\n",
    "        else:\n",
    "            node.next = self.head\n",
    "            self.head = node\n",
    "    \n",
    "    def traverse(self):\n",
    "        curr = self.head\n",
    "        result = []\n",
    "        \n",
    "        while curr:\n",
    "            result.append(curr.data)\n",
    "            curr = curr.next            \n",
    "            \n",
    "        return result"
   ]
  },
  {
   "cell_type": "code",
   "execution_count": 186,
   "id": "e86c70a4",
   "metadata": {},
   "outputs": [
    {
     "data": {
      "text/plain": [
       "[1, 2, 3, 4, 5, 6, 7, 8]"
      ]
     },
     "execution_count": 186,
     "metadata": {},
     "output_type": "execute_result"
    }
   ],
   "source": [
    "l1 = [1,2,3,4,5,6,7,8]\n",
    "sll = SinglyLinkedList()\n",
    "\n",
    "for i in range(len(l1) - 1, -1, -1):\n",
    "    sll.insert(l1[i])\n",
    "    \n",
    "sll.traverse()"
   ]
  },
  {
   "cell_type": "code",
   "execution_count": 189,
   "id": "def0fe8e",
   "metadata": {},
   "outputs": [],
   "source": [
    "def reverse_group(li, k):\n",
    "    def size_list(li):\n",
    "        curr = li.head\n",
    "        size = 0\n",
    "        \n",
    "        while curr:\n",
    "            size += 1\n",
    "            curr = curr.next\n",
    "            \n",
    "        return size\n",
    "    \n",
    "    size = size_list(li)\n",
    "    \n",
    "    if li.head is None or li.head.next is None:\n",
    "        return None\n",
    "    \n",
    "    dum = li.Node(0)\n",
    "    dum.next = li.head\n",
    "    \n",
    "    pre = dum\n",
    "    \n",
    "    while size >= k:\n",
    "        cur = pre.next\n",
    "        nex = cur.next\n",
    "    \n",
    "        for i in range(1, k):\n",
    "            cur.next = nex.next\n",
    "            nex.next = pre.next\n",
    "            pre.next = nex\n",
    "            nex = cur.next\n",
    "    \n",
    "        pre = cur\n",
    "        size -= k\n",
    "    \n",
    "    return dum.next"
   ]
  },
  {
   "cell_type": "code",
   "execution_count": 194,
   "id": "62244166",
   "metadata": {},
   "outputs": [
    {
     "data": {
      "text/plain": [
       "[1, 2, 3, 4, 5, 6, 7, 8]"
      ]
     },
     "execution_count": 194,
     "metadata": {},
     "output_type": "execute_result"
    }
   ],
   "source": [
    "sll.head = reverse_group(sll, 3)\n",
    "\n",
    "sll.traverse()"
   ]
  },
  {
   "cell_type": "markdown",
   "id": "d12fe371",
   "metadata": {},
   "source": [
    "# 9 - Check if given Linked List is Plaindrome\n",
    "\n",
    "Check if given Linked List is Plaindrome\n",
    "\n",
    "__Problem Statement:__ Given the head of a singly linked list, return true if it is a palindrome.\n",
    "\n",
    "__Example 1:__\n",
    "\n",
    "Input: head = [1,2,3,3,2,1] \n",
    "\n",
    "Output:\n",
    " true\n",
    " \n",
    "Explanation: If we read elements from left to right, we get [1,2,3,3,2,1]. When we read elements from right to left, we get [1,2,3,3,2,1]. Both ways list remains same and hence, the given linked list is palindrome."
   ]
  },
  {
   "cell_type": "code",
   "execution_count": 215,
   "id": "bb9e5712",
   "metadata": {},
   "outputs": [],
   "source": [
    "class SinglyLinkedList:\n",
    "    class Node:\n",
    "        def __init__(self, data=None):\n",
    "            self.data = data\n",
    "            self.next = None\n",
    "            \n",
    "    def __init__(self):\n",
    "        self.head = None\n",
    "        \n",
    "    def insert(self, data):\n",
    "        node = self.Node(data)\n",
    "        \n",
    "        if self.head is None:\n",
    "            self.head = node\n",
    "        else:\n",
    "            node.next = self.head\n",
    "            self.head = node\n",
    "    \n",
    "    def traverse(self):\n",
    "        curr = self.head\n",
    "        result = []\n",
    "        \n",
    "        while curr:\n",
    "            result.append(curr.data)\n",
    "            curr = curr.next            \n",
    "            \n",
    "        return result"
   ]
  },
  {
   "cell_type": "code",
   "execution_count": 246,
   "id": "09832752",
   "metadata": {},
   "outputs": [
    {
     "data": {
      "text/plain": [
       "[1, 2, 3, 4, 3, 2, 1]"
      ]
     },
     "execution_count": 246,
     "metadata": {},
     "output_type": "execute_result"
    }
   ],
   "source": [
    "l1 = [1,2,3,4,3,2,1]\n",
    "sll = SinglyLinkedList()\n",
    "\n",
    "for i in range(len(l1) - 1, -1, -1):\n",
    "    sll.insert(l1[i])\n",
    "    \n",
    "sll.traverse()"
   ]
  },
  {
   "cell_type": "code",
   "execution_count": 247,
   "id": "40b0f451",
   "metadata": {},
   "outputs": [],
   "source": [
    "\"\"\"\n",
    "1 -> 2 -> 3 -> 4 -> 4 -> 3 -> 2 -> 1 -> None\n",
    "\n",
    "1 -> 2 -> 3 -> 4 -> 4 -> 3 -> 2 -> 1 -> None\n",
    "\n",
    "\"\"\"\n",
    "\n",
    "def check_palindrome(li):\n",
    "    def reverse(curr, li):\n",
    "        if curr.next is None:\n",
    "            li.head = curr\n",
    "            return curr\n",
    "        \n",
    "        nxt = reverse(curr.next, li)\n",
    "        nxt.next = curr\n",
    "        \n",
    "        return curr\n",
    "    \n",
    "    p1 = li.head\n",
    "    sll_aux = SinglyLinkedList()\n",
    "    \n",
    "    # my insert process inserts the nodes in a reversed order because\n",
    "    # it inserts on head each new node\n",
    "    while p1:\n",
    "        sll_aux.insert(p1.data)\n",
    "        p1 = p1.next\n",
    "    \n",
    "    #nxt = reverse(sll_aux.head, sll_aux)\n",
    "    #nxt.next = None\n",
    "            \n",
    "    p1 = li.head\n",
    "    p2 = sll_aux.head\n",
    "    \n",
    "    while p1.next:\n",
    "        if p1.data == p2.data:\n",
    "            p1 = p1.next\n",
    "            p2 = p2.next\n",
    "        else:\n",
    "            return False\n",
    "    \n",
    "    return True"
   ]
  },
  {
   "cell_type": "code",
   "execution_count": 248,
   "id": "cdbb229e",
   "metadata": {},
   "outputs": [
    {
     "data": {
      "text/plain": [
       "True"
      ]
     },
     "execution_count": 248,
     "metadata": {},
     "output_type": "execute_result"
    }
   ],
   "source": [
    "check_palindrome(sll)"
   ]
  },
  {
   "cell_type": "markdown",
   "id": "beace760",
   "metadata": {},
   "source": [
    "### optimized - O(1) space complexity"
   ]
  },
  {
   "cell_type": "code",
   "execution_count": 249,
   "id": "4309f86e",
   "metadata": {},
   "outputs": [],
   "source": [
    "\"\"\"\n",
    "                                            f\n",
    "                             s \n",
    "1° step: 1 -> 2 -> 3 -> 4 -> 4 -> 3 -> 2 -> 1 -> None\n",
    "\n",
    "                                                  f\n",
    "                                   s\n",
    "1 -> 2 -> 3 -> 4 ->        None <- 4 <- 3 <- 2 <- 1\n",
    "\n",
    "2° step: 1 -> 2 -> 3 -> 4 -> 1 -> 2 -> 3 -> 4 -> None\n",
    "\n",
    "                                  s\n",
    "              d\n",
    "\n",
    "3° step: 1 -> 2 -> 3 -> 4 -> 1 -> 2 -> 3 -> 4 -> None\n",
    "\n",
    "\n",
    "\"\"\"\n",
    "\n",
    "def check_palindrome(li):\n",
    "    def reverse(curr):\n",
    "        if curr.next is None:\n",
    "            return curr\n",
    "        \n",
    "        nxt = reverse(curr.next)\n",
    "        nxt.next = curr\n",
    "        \n",
    "        return curr\n",
    "        \n",
    "    p1 = li.head\n",
    "    p2 = li.head\n",
    "    dummy = li.head\n",
    "    \n",
    "    while p1.next:\n",
    "        if p1.next.next:\n",
    "            p1 = p1.next.next\n",
    "            dummy = p2\n",
    "            p2 = p2.next\n",
    "        else:\n",
    "            p1 = p1.next\n",
    "            dummy = p2\n",
    "            p2 = p2.next\n",
    "    \n",
    "    p2 = reverse(p2)\n",
    "    p2.next = None\n",
    "    \n",
    "    dummy.next = p1\n",
    "    \n",
    "    dummy = li.head\n",
    "    \n",
    "    while p1:\n",
    "        if dummy.data != p1.data:\n",
    "            return False\n",
    "        \n",
    "        dummy = dummy.next\n",
    "        p1 = p1.next\n",
    "        \n",
    "    return True"
   ]
  },
  {
   "cell_type": "code",
   "execution_count": 250,
   "id": "f922857e",
   "metadata": {},
   "outputs": [
    {
     "data": {
      "text/plain": [
       "False"
      ]
     },
     "execution_count": 250,
     "metadata": {},
     "output_type": "execute_result"
    }
   ],
   "source": [
    "check_palindrome(sll)"
   ]
  },
  {
   "cell_type": "markdown",
   "id": "e23f0bbb",
   "metadata": {},
   "source": [
    "# 10 - Starting point of loop in a Linked List\n",
    "\n",
    "In this article, we will learn how to solve the most asked coding interview question: “Starting point of loop in a Linked List“\n",
    "\n",
    "__Problem Statement:__ Given the head of a linked list, return the node where the cycle begins. If there is no cycle, return null.\n",
    "\n",
    "There is a cycle in a linked list if there is some node in the list that can be reached again by continuously following the next pointer. Internally, pos is used to denote the index of the node that the tail’s next pointer is connected to (0-indexed). It is -1 if there is no cycle. Note that pos is not passed as a parameter.\n",
    "\n",
    "Do not modify the linked list.\n",
    "\n",
    "__Example 1:__\n",
    "\n",
    "Input:\n",
    " head = [1,2,3,4,3,6,10]\n",
    "\n",
    "Output:\n",
    " tail connects to node index 2\n",
    "\n",
    "Explanation:"
   ]
  },
  {
   "cell_type": "code",
   "execution_count": 271,
   "id": "b586bd65",
   "metadata": {},
   "outputs": [],
   "source": [
    "class SinglyLinkedList:\n",
    "    class Node:\n",
    "        def __init__(self, data=None):\n",
    "            self.data = data\n",
    "            self.next = None\n",
    "            \n",
    "    def __init__(self):\n",
    "        self.head = None\n",
    "        \n",
    "    def insert(self, data):\n",
    "        node = self.Node(data)\n",
    "        \n",
    "        if self.head is None:\n",
    "            self.head = node\n",
    "        else:\n",
    "            node.next = self.head\n",
    "            self.head = node\n",
    "            \n",
    "    def return_nth(self, nth):\n",
    "        curr = self.head\n",
    "        \n",
    "        while nth > 1:\n",
    "            curr = curr.next\n",
    "            nth -= 1\n",
    "        \n",
    "        print(curr.data)\n",
    "        return curr\n",
    "    \n",
    "    def create_cycle(self, nth):\n",
    "        curr = self.head\n",
    "        \n",
    "        while curr.next:\n",
    "            curr = curr.next\n",
    "        \n",
    "        curr.next = self.return_nth(nth)\n",
    "    \n",
    "    \n",
    "    def traverse(self):\n",
    "        curr = self.head\n",
    "        result = []\n",
    "        \n",
    "        while curr:\n",
    "            result.append(curr.data)\n",
    "            \n",
    "            curr = curr.next            \n",
    "            \n",
    "        return result"
   ]
  },
  {
   "cell_type": "code",
   "execution_count": 278,
   "id": "013e619d",
   "metadata": {},
   "outputs": [
    {
     "name": "stdout",
     "output_type": "stream",
     "text": [
      "[1, 2, 3, 4, 3, 6, 10]\n",
      "3\n"
     ]
    }
   ],
   "source": [
    "l1 = [1,2,3,4,3,6,10]\n",
    "\n",
    "sll_1 = SinglyLinkedList()\n",
    "\n",
    "for i in range(len(l1) - 1, -1, -1):\n",
    "    sll_1.insert(l1[i])\n",
    "    \n",
    "print(sll_1.traverse())\n",
    "sll_1.create_cycle(3)"
   ]
  },
  {
   "cell_type": "code",
   "execution_count": 279,
   "id": "b7e4c41a",
   "metadata": {},
   "outputs": [],
   "source": [
    "def cycle_detect(li):\n",
    "    curr = li.head    \n",
    "    aux = dict()\n",
    "    idx = 0\n",
    "    \n",
    "    while curr:\n",
    "        if aux.get(curr) is None:\n",
    "            aux[curr] = idx\n",
    "        else:\n",
    "            print(\"tail connects to node index:\", aux[curr], \"which has value of\", curr.data)\n",
    "            return True\n",
    "        curr = curr.next\n",
    "        idx += 1\n",
    "    \n",
    "    print(\"there is no cycle\")\n",
    "    return False\n",
    "    "
   ]
  },
  {
   "cell_type": "code",
   "execution_count": 280,
   "id": "fc30b905",
   "metadata": {},
   "outputs": [
    {
     "name": "stdout",
     "output_type": "stream",
     "text": [
      "tail connects to node index: 2 which has value of 3\n"
     ]
    },
    {
     "data": {
      "text/plain": [
       "True"
      ]
     },
     "execution_count": 280,
     "metadata": {},
     "output_type": "execute_result"
    }
   ],
   "source": [
    "cycle_detect(sll_1)"
   ]
  },
  {
   "cell_type": "markdown",
   "id": "82e38c71",
   "metadata": {},
   "source": [
    "### improved - O(1) space complexity"
   ]
  },
  {
   "cell_type": "code",
   "execution_count": 281,
   "id": "f5a3d782",
   "metadata": {},
   "outputs": [],
   "source": [
    "def cycle_detect(li):\n",
    "    fast = li.head\n",
    "    slow = li.head\n",
    "    \n",
    "    while fast.next is not None:\n",
    "        if fast.next.next:\n",
    "            fast = fast.next.next\n",
    "            slow = slow.next\n",
    "        else:\n",
    "            print(\"There is no cycle\")\n",
    "            return False\n",
    "        \n",
    "        if slow == fast:\n",
    "            print(\"slow == fast\")\n",
    "            break\n",
    "            \n",
    "    entry = li.head\n",
    "    \n",
    "    while entry is not slow:\n",
    "        slow = slow.next\n",
    "        entry = entry.next\n",
    "        \n",
    "    print(\"cycle in \", slow.data)\n",
    "    return True\n",
    "        "
   ]
  },
  {
   "cell_type": "code",
   "execution_count": 282,
   "id": "7f961817",
   "metadata": {},
   "outputs": [
    {
     "name": "stdout",
     "output_type": "stream",
     "text": [
      "slow == fast\n",
      "cycle in  3\n"
     ]
    },
    {
     "data": {
      "text/plain": [
       "True"
      ]
     },
     "execution_count": 282,
     "metadata": {},
     "output_type": "execute_result"
    }
   ],
   "source": [
    "cycle_detect(sll_1)"
   ]
  },
  {
   "cell_type": "markdown",
   "id": "519ea395",
   "metadata": {},
   "source": [
    "# 11 - Flattening a Linked List\n",
    "\n",
    "Flattening a Linked List\n",
    "\n",
    "__Problem Statement:__ Given a Linked List of size N, where every node represents a sub-linked-list and contains two pointers:\n",
    "\n",
    "(i) a next pointer to the next node,\n",
    "\n",
    "(ii) a bottom pointer to a linked list where this node is head.\n",
    "\n",
    "Each of the sub-linked-list is in sorted order.\n",
    "\n",
    "Flatten the Link List such that all the nodes appear in a single level while maintaining the sorted order. \n",
    "\n",
    "Note: The flattened list will be printed using the bottom pointer instead of the next pointer.\n",
    "\n",
    "\n",
    "__Example 1:__\n",
    "Input:\n",
    "Number of head nodes = 4\n",
    "\n",
    "Array holding length of each list with head and bottom = [4,2,3,4]\n",
    "\n",
    "Elements of entire linked list = [5,7,8,30,10,20,19,22,50,28,35,40,45]"
   ]
  },
  {
   "cell_type": "code",
   "execution_count": null,
   "id": "dcaf41c2",
   "metadata": {},
   "outputs": [],
   "source": []
  },
  {
   "cell_type": "code",
   "execution_count": null,
   "id": "2f2ba7ad",
   "metadata": {},
   "outputs": [],
   "source": []
  },
  {
   "cell_type": "markdown",
   "id": "e086270b",
   "metadata": {},
   "source": [
    "# 12 - Rotate a Linked List\n",
    "\n",
    "In this article we will solve the problem: “Rotate a Linked List”\n",
    "\n",
    "__Problem Statement:__ Given the head of a linked list, rotate the list to the right by k places.\n",
    "\n",
    "__Example 1:__\n",
    "\n",
    "Input:\n",
    "\thead = [1,2,3,4,5] \n",
    "\tk = 2\n",
    "\n",
    "Output:\n",
    " head = [4,5,1,2,3]\n",
    "\n",
    "Explanation:\n",
    " We have to rotate the list to the right twice."
   ]
  },
  {
   "cell_type": "code",
   "execution_count": 305,
   "id": "f6eaacf2",
   "metadata": {},
   "outputs": [],
   "source": [
    "class SinglyLinkedList:\n",
    "    class Node:\n",
    "        def __init__(self, data=None):\n",
    "            self.data = data\n",
    "            self.next = None\n",
    "            \n",
    "    def __init__(self):\n",
    "        self.head = None\n",
    "        \n",
    "    def insert(self, data):\n",
    "        node = self.Node(data)\n",
    "        \n",
    "        if self.head is None:\n",
    "            self.head = node\n",
    "        else:\n",
    "            node.next = self.head\n",
    "            self.head = node\n",
    "    \n",
    "    def traverse(self):\n",
    "        curr = self.head\n",
    "        result = []\n",
    "        \n",
    "        while curr:\n",
    "            result.append(curr.data)\n",
    "            curr = curr.next            \n",
    "            \n",
    "        return result"
   ]
  },
  {
   "cell_type": "code",
   "execution_count": 306,
   "id": "cd41de07",
   "metadata": {},
   "outputs": [
    {
     "name": "stdout",
     "output_type": "stream",
     "text": [
      "[1, 2, 3, 4, 5]\n"
     ]
    }
   ],
   "source": [
    "l1 = [1,2,3,4,5]\n",
    "\n",
    "sll_1 = SinglyLinkedList()\n",
    "\n",
    "for i in range(len(l1) - 1, -1, -1):\n",
    "    sll_1.insert(l1[i])\n",
    "    \n",
    "print(sll_1.traverse())"
   ]
  },
  {
   "cell_type": "code",
   "execution_count": 307,
   "id": "114321d4",
   "metadata": {},
   "outputs": [],
   "source": [
    "#         s       f\n",
    "# 1   2   3   4   5\n",
    "def rotate_list(li, k):\n",
    "    p1 = li.head\n",
    "    \n",
    "    for i in range(k):\n",
    "        p1 = p1.next\n",
    "        \n",
    "    p2 = li.head\n",
    "    while p1.next:\n",
    "        p1 = p1.next\n",
    "        p2 = p2.next\n",
    "    \n",
    "    p1.next = li.head\n",
    "    temp = p2.next\n",
    "    p2.next = None\n",
    "    li.head = temp\n",
    "    \n",
    "    print(li.traverse())"
   ]
  },
  {
   "cell_type": "code",
   "execution_count": 311,
   "id": "9897e236",
   "metadata": {},
   "outputs": [
    {
     "name": "stdout",
     "output_type": "stream",
     "text": [
      "[1, 2, 3, 4, 5]\n"
     ]
    }
   ],
   "source": [
    "rotate_list(sll_1, 2)"
   ]
  },
  {
   "cell_type": "markdown",
   "id": "ededfd4a",
   "metadata": {},
   "source": [
    "# 14 - Clone Linked List with Random Pointer\n",
    "\n",
    "__Problem Statement:__ Given a linked list having two pointers in each node. The first one points to the next node of the list, however, the other pointer is random and can point to any node of the list or null. The task is to create a deep copy of the given linked list and return its head. We will validate whether the linked list is a copy of the original linked list or not.\n",
    "\n",
    "A deep copy of a Linked List means we do not copy the references of the nodes of the original Linked List rather for each node in the original Linked List, a new node is created."
   ]
  },
  {
   "cell_type": "code",
   "execution_count": null,
   "id": "dcefad5d",
   "metadata": {},
   "outputs": [],
   "source": []
  },
  {
   "cell_type": "code",
   "execution_count": null,
   "id": "6a59b4c1",
   "metadata": {},
   "outputs": [],
   "source": []
  },
  {
   "cell_type": "markdown",
   "id": "7b7a56e1",
   "metadata": {},
   "source": [
    "# 15 - 3 Sum : Find triplets that add up to a zero\n",
    "\n",
    "__Problem Statement:__ Given an array of N integers, your task is to find unique triplets that add up to give sum zero. In short, you need to return an array of all the unique triplets [arr[a], arr[b], arr[c]] such that i!=j, j!=k, k!=i, and their sum is equal to zero.\n",
    "\n",
    "__Example 1:__\n",
    "\n",
    "Input: nums = [-1,0,1,2,-1,-4]\n",
    "\n",
    "Output: [[-1,-1,2],[-1,0,1]]\n",
    "\n",
    "Explanation: Out of all possible unique triplets possible, [-1,-1,2] and [-1,0,1] satisfy the condition of summing up to zero with i!=j!=k\n",
    "\n",
    "__Example 2:__\n",
    "\n",
    "Input: nums=[-1,0,1,0]\n",
    "\n",
    "Output: Output: [[-1,0,1],[-1,1,0]]\n",
    "\n",
    "Explanation: Out of all possible unique triplets possible, [-1,0,1] and [-1,1,0] satisfy the condition of summing up to zero with i!=j!=k"
   ]
  },
  {
   "cell_type": "code",
   "execution_count": 450,
   "id": "23e6686a",
   "metadata": {},
   "outputs": [],
   "source": [
    "def merge(arr):\n",
    "    if len(arr) > 1:\n",
    "        left = arr[:len(arr)//2]\n",
    "        right = arr[len(arr)//2:]\n",
    "\n",
    "        merge(left)\n",
    "        merge(right)\n",
    "        \n",
    "        i = j = k = 0\n",
    "        \n",
    "        while i < len(left) and j < len(right):\n",
    "            if left[i] <= right[j]:\n",
    "                arr[k] = left[i]\n",
    "                i += 1\n",
    "            else:\n",
    "                arr[k] = right[j]\n",
    "                j += 1\n",
    "            k += 1\n",
    "            \n",
    "        while i < len(left):\n",
    "            arr[k] = left[i]\n",
    "            i += 1\n",
    "            k += 1\n",
    "            \n",
    "        while j < len(right):\n",
    "            arr[k] = right[j]\n",
    "            j += 1\n",
    "            k += 1\n",
    "            "
   ]
  },
  {
   "cell_type": "code",
   "execution_count": 540,
   "id": "2b78ec0c",
   "metadata": {},
   "outputs": [],
   "source": [
    "def quick_search(arr, k):\n",
    "    if len(arr) < 1:\n",
    "        return None\n",
    "    \n",
    "    pivot = arr.pop()\n",
    "    left = []\n",
    "    right = []\n",
    "    \n",
    "    for i in arr:\n",
    "        if i <= pivot:\n",
    "            left.append(i)\n",
    "        else:\n",
    "            right.append(i)\n",
    "            \n",
    "    if k == pivot:\n",
    "        return pivot\n",
    "    elif k < pivot:\n",
    "        return quick_search(left, k)\n",
    "    elif k > pivot:\n",
    "        return quick_search(right, k)"
   ]
  },
  {
   "cell_type": "code",
   "execution_count": 559,
   "id": "26017158",
   "metadata": {},
   "outputs": [],
   "source": [
    "def find_triplets(arr):\n",
    "    merge(arr)\n",
    "    result = []\n",
    "    \n",
    "    for i in range(len(arr)):\n",
    "        if i == 0 or (i > 0 and arr[i] != arr[i-1]):\n",
    "            lo = i + 1\n",
    "            hi = len(arr) - 1\n",
    "            su = 0 - arr[i]\n",
    "            \n",
    "            while lo < hi:\n",
    "                if arr[lo] + arr[hi] == su:\n",
    "                    result.append([arr[i], arr[lo], arr[hi]])\n",
    "                    lo += 1\n",
    "                    hi -= 1\n",
    "                elif arr[lo] + arr[hi] < su:\n",
    "                    lo += 1\n",
    "                else:\n",
    "                    hi -= 1\n",
    "                    \n",
    "    return result"
   ]
  },
  {
   "cell_type": "code",
   "execution_count": 560,
   "id": "91f1173e",
   "metadata": {},
   "outputs": [
    {
     "data": {
      "text/plain": [
       "[[-1, -1, 2], [-1, 0, 1]]"
      ]
     },
     "execution_count": 560,
     "metadata": {},
     "output_type": "execute_result"
    }
   ],
   "source": [
    "arr = [-1,0,1,2,-1,-4]\n",
    "find_triplets(arr)"
   ]
  },
  {
   "cell_type": "markdown",
   "id": "ee0ff516",
   "metadata": {},
   "source": [
    "# 16 - Trapping Rainwater\n",
    "\n",
    "__Problem Statement:__ Given an array of non-negative integers representation elevation of ground. Your task is to find the water that can be trapped after raining.\n",
    "\n",
    "__Example 1:__\n",
    "\n",
    "Input: height= [0,1,0,2,1,0,1,3,2,1,2,1]\n",
    "\n",
    "Output: 6\n",
    "\n",
    "Explanation: As seen from the diagram 1+1+2+1+1=6 unit of water can be trapped\n",
    "\n",
    "![image2](https://lh5.googleusercontent.com/hOxXODWtxKylLDwiTcNhYOHl971ZA598XSetgJEdWqOLClWo0v19WTRT4PArmNa_SDU3ZJ-pnbe2Hl5gwXBHw5g8PsKpSY5E2aM_XibdIktRvkJ3ILw2W8X8aLfgHgRgQWcvkUbY)"
   ]
  },
  {
   "cell_type": "code",
   "execution_count": 595,
   "id": "4c912edf",
   "metadata": {},
   "outputs": [],
   "source": [
    "\"\"\"\n",
    "1° step is to identify all intervals:\n",
    "\n",
    "                                 l      \n",
    "                                 h \n",
    "0  1  0  2  1  0  1  3  2  1  2  1\n",
    "\n",
    "repeat while l < len(arr) - 1\n",
    "\n",
    "if arr[l] == 0:\n",
    "    l += 1\n",
    "    h += 1\n",
    "elif arr[l] > arr[h]:\n",
    "    h += 1\n",
    "    \n",
    "elif arr[l] <= arr[h]:\n",
    "    save interval (l, h)\n",
    "    l = h\n",
    "    h += 1\n",
    "    \n",
    "elif h == len(arr)-1:\n",
    "    l += 1\n",
    "    h = l + 1\n",
    "\n",
    "intervals:[(1, 3), (3, 7), (8, 10)]\n",
    "\n",
    "\n",
    "2° step is to count rain drops in the intervals\n",
    "      \n",
    "    i\n",
    "[1  0  2]  \n",
    "\n",
    "          i\n",
    "[2  1  0  1  3]\n",
    "    i\n",
    "[2  1  2]\n",
    "\n",
    "sum += arr[0] - arr[i]\n",
    "\n",
    "\"\"\"\n",
    "\n",
    "def count_raindrops(arr):\n",
    "    intervals = []\n",
    "    low = 0\n",
    "    high = 1\n",
    "    \n",
    "    while low < len(arr):\n",
    "        if arr[low] == 0:\n",
    "            low += 1\n",
    "            high += 1\n",
    "        elif high < len(arr) - 1 and arr[low] > arr[high]:\n",
    "            high += 1\n",
    "        elif high < len(arr) - 1 and arr[low] <= arr[high]:\n",
    "            intervals.append([low,high])\n",
    "            low = high\n",
    "            high += 1\n",
    "        elif high >= len(arr) - 1:\n",
    "            low += 1\n",
    "            high = low + 1\n",
    "    \n",
    "    sum_drops = 0\n",
    "    for i in range(len(intervals)):\n",
    "        for j in range(intervals[i][0] + 1, intervals[i][1]):\n",
    "            sum_drops += arr[intervals[i][0]] - arr[j]\n",
    "            \n",
    "    print(sum_drops)"
   ]
  },
  {
   "cell_type": "code",
   "execution_count": 597,
   "id": "8927bd3b",
   "metadata": {},
   "outputs": [
    {
     "name": "stdout",
     "output_type": "stream",
     "text": [
      "6\n"
     ]
    }
   ],
   "source": [
    "height= [0,1,0,2,1,0,1,3,2,1,2,1]\n",
    "count_raindrops(height)"
   ]
  },
  {
   "cell_type": "markdown",
   "id": "4365ead6",
   "metadata": {},
   "source": [
    "### Improved - Time Complexity O(n) - Space Complexity O(1)"
   ]
  },
  {
   "cell_type": "code",
   "execution_count": 5,
   "id": "acc7706f",
   "metadata": {},
   "outputs": [],
   "source": [
    "def count_drops(arr):\n",
    "    left = 0\n",
    "    right = len(arr)-1\n",
    "    sum_drops = 0\n",
    "    max_left = 0\n",
    "    max_right = 0\n",
    "    \n",
    "    while left <= right:\n",
    "        if arr[left] <= arr[right]:\n",
    "            max_left = max(arr[left], max_left)\n",
    "            sum_drops += max_left - arr[left]\n",
    "            left += 1\n",
    "        else:\n",
    "            max_right = max(arr[right], max_right)\n",
    "            sum_drops += max_right - arr[right]\n",
    "            right -= 1\n",
    "    \n",
    "    return sum_drops"
   ]
  },
  {
   "cell_type": "code",
   "execution_count": 6,
   "id": "9ff85f93",
   "metadata": {},
   "outputs": [
    {
     "data": {
      "text/plain": [
       "6"
      ]
     },
     "execution_count": 6,
     "metadata": {},
     "output_type": "execute_result"
    }
   ],
   "source": [
    "height= [0,1,0,2,1,0,1,3,2,1,2,1]\n",
    "count_drops(height)"
   ]
  },
  {
   "cell_type": "markdown",
   "id": "192263e8",
   "metadata": {},
   "source": [
    "# 17 - Remove Duplicates in-place from Sorted Array\n",
    "\n",
    "__Problem Statement:__ Given an integer array sorted in non-decreasing order, remove the duplicates in place such that each unique element appears only once. The relative order of the elements should be kept the same.\n",
    "\n",
    "If there are k elements after removing the duplicates, then the first k elements of the array should hold the final result. It does not matter what you leave beyond the first k elements.\n",
    "\n",
    "Note: Return k after placing the final result in the first k slots of the array.\n",
    "\n",
    "__Example 1:__\n",
    "\n",
    "Input: arr[1,1,2,2,2,3,3]\n",
    "\n",
    "Output: arr[1,2,3,_,_,_,_]\n",
    "\n",
    "Explanation: Total number of unique elements are 3, i.e[1,2,3] and Therefore return 3 after assigning [1,2,3] in the beginning of the array.\n",
    "\n",
    "__Example 2:__\n",
    "\n",
    "Input: arr[1,1,1,2,2,3,3,3,3,4,4]\n",
    "\n",
    "Output: arr[1,2,3,4,_,_,_,_,_,_,_]\n",
    "\n",
    "Explanation: Total number of unique elements are 4, i.e[1,2,3,4] and Therefore return 4 after assigning [1,2,3,4] in the beginning of the array."
   ]
  },
  {
   "cell_type": "code",
   "execution_count": 3,
   "id": "5ce28d9f",
   "metadata": {},
   "outputs": [],
   "source": [
    "class SinglyLinkedList:\n",
    "    class Node:\n",
    "        def __init__(self,data=None):\n",
    "            self.data = data\n",
    "            self.next = None\n",
    "            \n",
    "    def __init__(self):\n",
    "        self.head = None\n",
    "        self.tail = None\n",
    "        \n",
    "    def insert(self, data):\n",
    "        node = self.Node(data)\n",
    "        \n",
    "        if self.head is None:\n",
    "            self.head = node\n",
    "            self.tail = node\n",
    "            \n",
    "        else:\n",
    "            self.tail.next = node\n",
    "            self.tail = node\n",
    "    \n",
    "    def traverse(self):\n",
    "        curr = self.head\n",
    "        result = []\n",
    "        \n",
    "        while curr:\n",
    "            result.append(curr.data)\n",
    "            curr = curr.next\n",
    "            \n",
    "        return result"
   ]
  },
  {
   "cell_type": "code",
   "execution_count": 9,
   "id": "dd3ebc89",
   "metadata": {},
   "outputs": [
    {
     "data": {
      "text/plain": [
       "[1, 1, 2, 2, 2, 3, 3]"
      ]
     },
     "execution_count": 9,
     "metadata": {},
     "output_type": "execute_result"
    }
   ],
   "source": [
    "arr = [1,1,2,2,2,3,3]\n",
    "\n",
    "ll = SinglyLinkedList()\n",
    "\n",
    "for i in arr:\n",
    "    ll.insert(i)\n",
    "    \n",
    "ll.traverse()"
   ]
  },
  {
   "cell_type": "code",
   "execution_count": 10,
   "id": "fafb1382",
   "metadata": {},
   "outputs": [],
   "source": [
    "\"\"\"\n",
    "          p\n",
    "1 -> 2 -> 3 -> None\n",
    "\n",
    "temp = 3\n",
    "\n",
    "\"\"\"\n",
    "\n",
    "def remove_duplicates(ll):\n",
    "    pointer = ll.head\n",
    "    temp = None\n",
    "    \n",
    "    while pointer.next:\n",
    "        temp = pointer.data\n",
    "        \n",
    "        if pointer.next.data == temp:\n",
    "            pointer.data = pointer.next.data\n",
    "            pointer.next = pointer.next.next\n",
    "        else:    \n",
    "            pointer = pointer.next"
   ]
  },
  {
   "cell_type": "code",
   "execution_count": 11,
   "id": "19d3204a",
   "metadata": {},
   "outputs": [
    {
     "data": {
      "text/plain": [
       "[1, 2, 3]"
      ]
     },
     "execution_count": 11,
     "metadata": {},
     "output_type": "execute_result"
    }
   ],
   "source": [
    "remove_duplicates(ll)\n",
    "ll.traverse()"
   ]
  },
  {
   "cell_type": "markdown",
   "id": "ce4e76de",
   "metadata": {},
   "source": [
    "# 18 - Count Maximum Consecutive One’s in the array\n",
    "\n",
    "__Problem Statement:__ Given an array that contains only 1 and 0 return the count of maximum consecutive ones in the array.\n",
    "\n",
    "__Example 1:__\n",
    "\n",
    "Input: prices = {1, 1, 0, 1, 1, 1}\n",
    "\n",
    "Output: 3\n",
    "\n",
    "Explanation: There are two consecutive 1’s and three consecutive 1’s in the array out of which maximum is 3.\n",
    "\n",
    "__Example 2:__\n",
    "\n",
    "Input: prices = {1, 0, 1, 1, 0, 1} \n",
    "\n",
    "Output: 2\n",
    "\n",
    "Explanation: There are two consecutive 1's in the array. "
   ]
  },
  {
   "cell_type": "code",
   "execution_count": 23,
   "id": "c9e2dfc6",
   "metadata": {},
   "outputs": [],
   "source": [
    "\"\"\"\n",
    "               p\n",
    "1  1  0  1  1  1\n",
    "\n",
    "sum = 3\n",
    "\n",
    "max = 3\n",
    "\n",
    "\"\"\"\n",
    "def count_max_ones(arr):\n",
    "    maximum = 0\n",
    "    sum_ones = 0\n",
    "    \n",
    "    for i in arr:\n",
    "        if i == 0:\n",
    "            if maximum < sum_ones:\n",
    "                maximum = sum_ones\n",
    "            sum_ones = 0\n",
    "        else:\n",
    "            sum_ones += i\n",
    "            \n",
    "        if maximum < sum_ones:\n",
    "            maximum = sum_ones\n",
    "                \n",
    "    return maximum"
   ]
  },
  {
   "cell_type": "code",
   "execution_count": 24,
   "id": "a28678fa",
   "metadata": {},
   "outputs": [
    {
     "data": {
      "text/plain": [
       "3"
      ]
     },
     "execution_count": 24,
     "metadata": {},
     "output_type": "execute_result"
    }
   ],
   "source": [
    "prices = [1, 1, 0, 1, 1, 1]\n",
    "\n",
    "count_max_ones(prices)"
   ]
  },
  {
   "cell_type": "markdown",
   "id": "81151615",
   "metadata": {},
   "source": [
    "# 19 - 295. Find Median from Data Stream\n",
    "\n",
    "The median is the middle value in an ordered integer list. If the size of the list is even, there is no middle value and the median is the mean of the two middle values.\n",
    "\n",
    "For example, for arr = [2,3,4], the median is 3.\n",
    "\n",
    "For example, for arr = [2,3], the median is (2 + 3) / 2 = 2.5.\n",
    "\n",
    "Implement the MedianFinder class:\n",
    "\n",
    "MedianFinder() initializes the MedianFinder object.\n",
    "\n",
    "void addNum(int num) adds the integer num from the data stream to the data structure.\n",
    "\n",
    "double findMedian() returns the median of all elements so far. Answers within 10-5 of the actual answer will be \n",
    "\n",
    "accepted.\n",
    " \n",
    "\n",
    "__Example 1:__\n",
    "\n",
    "__Input__\n",
    "\n",
    "[\"MedianFinder\", \"addNum\", \"addNum\", \"findMedian\", \"addNum\", \"findMedian\"]\n",
    "[[], [1], [2], [], [3], []]\n",
    "\n",
    "__Output__\n",
    "\n",
    "[null, null, null, 1.5, null, 2.0]\n",
    "\n",
    "__Explanation__\n",
    "\n",
    "MedianFinder medianFinder = new MedianFinder();\n",
    "\n",
    "medianFinder.addNum(1);    // arr = [1]\n",
    "\n",
    "medianFinder.addNum(2);    // arr = [1, 2]\n",
    "\n",
    "medianFinder.findMedian(); // return 1.5 (i.e., (1 + 2) / 2)\n",
    "\n",
    "medianFinder.addNum(3);    // arr[1, 2, 3]\n",
    "\n",
    "medianFinder.findMedian(); // return 2.0\n"
   ]
  },
  {
   "cell_type": "code",
   "execution_count": 45,
   "id": "d692e409",
   "metadata": {},
   "outputs": [],
   "source": [
    "\"\"\"\n",
    "add(1)\n",
    "add(7)\n",
    "add(2)\n",
    "add(9)\n",
    "add(11)\n",
    "add(1)\n",
    "\n",
    "find_median = median of thi list\n",
    "\n",
    "[1,1,2,7,9,11]\n",
    "\n",
    "median = 4.5\n",
    "\n",
    "   min -1      max\n",
    "[1, 1, 2, 4] [11, 10, 9, 7, 6]\n",
    "\n",
    "\n",
    "\"\"\"\n",
    "class MedianFinder:\n",
    "    class Heap:\n",
    "        # by default it is initializated as min heap\n",
    "        # to create a max heap, set min_heap as False\n",
    "        def __init__(self, min_heap=True):\n",
    "            self.heap = [0]\n",
    "            self.size = 0\n",
    "            self.min_heap = min_heap\n",
    "            \n",
    "        def insert(self, num):\n",
    "            def arrange():\n",
    "                idx = self.size\n",
    "                # [0, 1, 2, 3, 4, 5, 6]\n",
    "        \n",
    "                if self.min_heap:\n",
    "                    while idx//2 > 0:\n",
    "                        if self.heap[idx] < self.heap[idx//2]:\n",
    "                            value = self.heap[idx]\n",
    "                            self.heap[idx] = self.heap[idx//2]\n",
    "                            self.heap[idx//2] = value\n",
    "\n",
    "                        idx //= 2\n",
    "                else:\n",
    "                    while idx//2 > 0:\n",
    "                        if self.heap[idx] > self.heap[idx//2]:\n",
    "                            value = self.heap[idx]\n",
    "                            self.heap[idx] = self.heap[idx//2]\n",
    "                            self.heap[idx//2] = value\n",
    "\n",
    "                        idx //= 2\n",
    "            \n",
    "            self.heap.append(num)\n",
    "            print(self.heap)\n",
    "            self.size += 1\n",
    "            arrange()\n",
    "            \n",
    "    def __init__(self):\n",
    "        self.min_heap = self.Heap(min_heap=True)\n",
    "        self.max_heap = self.Heap(min_heap=False)\n",
    "    \n",
    "    # O(log n) + O(log n) = O(log n)\n",
    "    def add(self, num):\n",
    "        if self.min_heap.size == 0:\n",
    "            self.min_heap.insert(num)\n",
    "        elif self.max_heap.size == 0:\n",
    "            self.max_heap.insert(num)\n",
    "            \n",
    "        if num < self.min_heap.heap[-1]:\n",
    "            self.min_heap.insert(num)\n",
    "        elif num > self.min_heap.heap[-1]:\n",
    "            self.max_heap.insert(num)\n",
    "            \n",
    "        self.balance_heaps()\n",
    "    \n",
    "    # O(log n)\n",
    "    def balance_heaps(self):\n",
    "        if self.min_heap.size > self.max_heap.size + 1:\n",
    "            temp = self.min_heap.heap.pop()\n",
    "            self.max_heap.insert(temp)\n",
    "            \n",
    "        elif self.min_heap.size + 1 < self.max_heap.size:\n",
    "            temp = self.max_heap.heap.pop()\n",
    "            self.min_heap.insert(temp)\n",
    "    # O(1)    \n",
    "    def find_median(self):\n",
    "        # even\n",
    "        if (self.min_heap.size + self.max_heap.size) % 2 == 0:\n",
    "            return (self.min_heap.heap[-1] + self.max_heap.heap[-1])//2\n",
    "        else:\n",
    "            if self.min_heap.size < self.max_heap.size:\n",
    "                return self.max_heap.heap[-1]\n",
    "            else:\n",
    "                return self.min_heap.heap[-1]"
   ]
  },
  {
   "cell_type": "code",
   "execution_count": 46,
   "id": "592f3cb7",
   "metadata": {},
   "outputs": [
    {
     "name": "stdout",
     "output_type": "stream",
     "text": [
      "[0, 0]\n",
      "[0, 1]\n",
      "[0, 1, 1]\n",
      "[0, 1, 1, 2]\n",
      "[0, 0, 1]\n",
      "[0, 2, 1, 3]\n"
     ]
    },
    {
     "ename": "IndexError",
     "evalue": "list index out of range",
     "output_type": "error",
     "traceback": [
      "\u001b[0;31m---------------------------------------------------------------------------\u001b[0m",
      "\u001b[0;31mIndexError\u001b[0m                                Traceback (most recent call last)",
      "Input \u001b[0;32mIn [46]\u001b[0m, in \u001b[0;36m<cell line: 3>\u001b[0;34m()\u001b[0m\n\u001b[1;32m      1\u001b[0m obj \u001b[38;5;241m=\u001b[39m MedianFinder()\n\u001b[1;32m      3\u001b[0m \u001b[38;5;28;01mfor\u001b[39;00m i \u001b[38;5;129;01min\u001b[39;00m \u001b[38;5;28mrange\u001b[39m(\u001b[38;5;241m10\u001b[39m):\n\u001b[0;32m----> 4\u001b[0m     \u001b[43mobj\u001b[49m\u001b[38;5;241;43m.\u001b[39;49m\u001b[43madd\u001b[49m\u001b[43m(\u001b[49m\u001b[43mi\u001b[49m\u001b[43m)\u001b[49m\n\u001b[1;32m      6\u001b[0m obj\u001b[38;5;241m.\u001b[39mmin_heap, obj\u001b[38;5;241m.\u001b[39mmax_heap, obj\u001b[38;5;241m.\u001b[39mfind_median()\n",
      "Input \u001b[0;32mIn [45]\u001b[0m, in \u001b[0;36mMedianFinder.add\u001b[0;34m(self, num)\u001b[0m\n\u001b[1;32m     68\u001b[0m     \u001b[38;5;28mself\u001b[39m\u001b[38;5;241m.\u001b[39mmin_heap\u001b[38;5;241m.\u001b[39minsert(num)\n\u001b[1;32m     69\u001b[0m \u001b[38;5;28;01melif\u001b[39;00m num \u001b[38;5;241m>\u001b[39m \u001b[38;5;28mself\u001b[39m\u001b[38;5;241m.\u001b[39mmin_heap\u001b[38;5;241m.\u001b[39mheap[\u001b[38;5;241m-\u001b[39m\u001b[38;5;241m1\u001b[39m]:\n\u001b[0;32m---> 70\u001b[0m     \u001b[38;5;28;43mself\u001b[39;49m\u001b[38;5;241;43m.\u001b[39;49m\u001b[43mmax_heap\u001b[49m\u001b[38;5;241;43m.\u001b[39;49m\u001b[43minsert\u001b[49m\u001b[43m(\u001b[49m\u001b[43mnum\u001b[49m\u001b[43m)\u001b[49m\n\u001b[1;32m     72\u001b[0m \u001b[38;5;28mself\u001b[39m\u001b[38;5;241m.\u001b[39mbalance_heaps()\n",
      "Input \u001b[0;32mIn [45]\u001b[0m, in \u001b[0;36mMedianFinder.Heap.insert\u001b[0;34m(self, num)\u001b[0m\n\u001b[1;32m     52\u001b[0m \u001b[38;5;28mprint\u001b[39m(\u001b[38;5;28mself\u001b[39m\u001b[38;5;241m.\u001b[39mheap)\n\u001b[1;32m     53\u001b[0m \u001b[38;5;28mself\u001b[39m\u001b[38;5;241m.\u001b[39msize \u001b[38;5;241m+\u001b[39m\u001b[38;5;241m=\u001b[39m \u001b[38;5;241m1\u001b[39m\n\u001b[0;32m---> 54\u001b[0m \u001b[43marrange\u001b[49m\u001b[43m(\u001b[49m\u001b[43m)\u001b[49m\n",
      "Input \u001b[0;32mIn [45]\u001b[0m, in \u001b[0;36mMedianFinder.Heap.insert.<locals>.arrange\u001b[0;34m()\u001b[0m\n\u001b[1;32m     42\u001b[0m \u001b[38;5;28;01melse\u001b[39;00m:\n\u001b[1;32m     43\u001b[0m     \u001b[38;5;28;01mwhile\u001b[39;00m idx\u001b[38;5;241m/\u001b[39m\u001b[38;5;241m/\u001b[39m\u001b[38;5;241m2\u001b[39m \u001b[38;5;241m>\u001b[39m \u001b[38;5;241m0\u001b[39m:\n\u001b[0;32m---> 44\u001b[0m         \u001b[38;5;28;01mif\u001b[39;00m \u001b[38;5;28;43mself\u001b[39;49m\u001b[38;5;241;43m.\u001b[39;49m\u001b[43mheap\u001b[49m\u001b[43m[\u001b[49m\u001b[43midx\u001b[49m\u001b[43m]\u001b[49m \u001b[38;5;241m>\u001b[39m \u001b[38;5;28mself\u001b[39m\u001b[38;5;241m.\u001b[39mheap[idx\u001b[38;5;241m/\u001b[39m\u001b[38;5;241m/\u001b[39m\u001b[38;5;241m2\u001b[39m]:\n\u001b[1;32m     45\u001b[0m             value \u001b[38;5;241m=\u001b[39m \u001b[38;5;28mself\u001b[39m\u001b[38;5;241m.\u001b[39mheap[idx]\n\u001b[1;32m     46\u001b[0m             \u001b[38;5;28mself\u001b[39m\u001b[38;5;241m.\u001b[39mheap[idx] \u001b[38;5;241m=\u001b[39m \u001b[38;5;28mself\u001b[39m\u001b[38;5;241m.\u001b[39mheap[idx\u001b[38;5;241m/\u001b[39m\u001b[38;5;241m/\u001b[39m\u001b[38;5;241m2\u001b[39m]\n",
      "\u001b[0;31mIndexError\u001b[0m: list index out of range"
     ]
    }
   ],
   "source": [
    "obj = MedianFinder()\n",
    "\n",
    "for i in range(10):\n",
    "    obj.add(i)\n",
    "    \n",
    "obj.min_heap, obj.max_heap, obj.find_median()"
   ]
  },
  {
   "cell_type": "markdown",
   "id": "4a868728",
   "metadata": {},
   "source": [
    "# NEW EXERCISES - FROM GITHUB\n",
    "\n",
    "https://github.com/ombharatiya/FAANG-Coding-Interview-Questions#google-top-50"
   ]
  },
  {
   "cell_type": "markdown",
   "id": "bb986c33",
   "metadata": {},
   "source": [
    "# 20 - Remove Dups\n",
    "\n",
    "Write code to remove duplicates from an unsorted linked list. \n",
    "\n",
    "__FOLLOW UP__: How would you solve this problem if a temporary buffer is not allowed?"
   ]
  },
  {
   "cell_type": "code",
   "execution_count": 27,
   "id": "172776d0",
   "metadata": {},
   "outputs": [],
   "source": [
    "\"\"\"\n",
    "s\n",
    "f\n",
    "               d    d    d    d\n",
    "1 -> 2 -> 3 -> 2 -> 2 -> 3 -> 1 -> None\n",
    "\n",
    "\"\"\"\n",
    "class LinkedList:\n",
    "    class Node:\n",
    "        def __init__(self, data=None):\n",
    "            self.data = data\n",
    "            self.next = None\n",
    "            \n",
    "    def __init__(self):\n",
    "        self.head = None\n",
    "        \n",
    "    def insert_tail(self, data):\n",
    "        node = self.Node(data)\n",
    "        \n",
    "        if self.head is None:\n",
    "            self.head = node\n",
    "        else:\n",
    "            curr = self.head\n",
    "            \n",
    "            while curr.next:\n",
    "                curr = curr.next\n",
    "                \n",
    "            curr.next = node\n",
    "        \n",
    "    def print_list(self):\n",
    "        curr = self.head\n",
    "        result = []\n",
    "        \n",
    "        while curr:\n",
    "            result.append(str(curr.data))\n",
    "            curr = curr.next\n",
    "            \n",
    "        return \" -> \".join(result)\n",
    "\n",
    "def remove_dups(linked_list):\n",
    "    uniques = set()\n",
    "    curr = linked_list.head\n",
    "    \n",
    "    while curr.next:\n",
    "        if curr.next.data not in uniques:\n",
    "            uniques.add(curr.data)\n",
    "        else:\n",
    "            curr.next = curr.next.next\n",
    "            continue\n",
    "            \n",
    "        curr = curr.next\n",
    "        \n",
    "\n",
    "def remove_dups(linked_list):\n",
    "    curr = linked_list.head\n",
    "    \n",
    "    while curr.next:\n",
    "        curr2 = curr\n",
    "        while curr2.next:\n",
    "            if curr.data == curr2.next.data:\n",
    "                curr2.next = curr2.next.next\n",
    "                continue\n",
    "            curr2 = curr2.next\n",
    "        \n",
    "        curr = curr.next\n",
    "            "
   ]
  },
  {
   "cell_type": "code",
   "execution_count": 28,
   "id": "b27c48a1",
   "metadata": {},
   "outputs": [
    {
     "data": {
      "text/plain": [
       "'1 -> 2 -> 3 -> 4 -> 0'"
      ]
     },
     "execution_count": 28,
     "metadata": {},
     "output_type": "execute_result"
    }
   ],
   "source": [
    "ll = LinkedList()\n",
    "\n",
    "for i in range(1,10):\n",
    "    ll.insert_tail(i%5)\n",
    "    \n",
    "ll.print_list()\n",
    "\n",
    "remove_dups(ll)\n",
    "\n",
    "ll.print_list()"
   ]
  },
  {
   "cell_type": "markdown",
   "id": "d20970d1",
   "metadata": {},
   "source": [
    "# 21 - Return Kth to Last\n",
    "\n",
    "Implement an algorithm to find the kth to last element of a singly linked list."
   ]
  },
  {
   "cell_type": "code",
   "execution_count": 41,
   "id": "e2232970",
   "metadata": {},
   "outputs": [],
   "source": [
    "class LinkedList:\n",
    "    class Node:\n",
    "        def __init__(self, data=None):\n",
    "            self.data = data\n",
    "            self.next = None\n",
    "            \n",
    "    def __init__(self):\n",
    "        self.head = None\n",
    "        \n",
    "    def insert_tail(self, data):\n",
    "        node = self.Node(data)\n",
    "        \n",
    "        if self.head is None:\n",
    "            self.head = node\n",
    "        else:\n",
    "            curr = self.head\n",
    "            \n",
    "            while curr.next:\n",
    "                curr = curr.next\n",
    "                \n",
    "            curr.next = node\n",
    "        \n",
    "    def print_list(self):\n",
    "        curr = self.head\n",
    "        result = []\n",
    "        \n",
    "        while curr:\n",
    "            result.append(str(curr.data))\n",
    "            curr = curr.next\n",
    "            \n",
    "        return \" -> \".join(result)\n",
    "    \n",
    "def find_kth_to_last(linked_list, k):\n",
    "    pointer_1 = linked_list.head\n",
    "    pointer_2 = linked_list.head\n",
    "    counter = 0\n",
    "    \n",
    "    while pointer_2:\n",
    "        if counter < k:\n",
    "            pointer_2 = pointer_2.next\n",
    "            counter += 1\n",
    "            continue\n",
    "        \n",
    "        pointer_1 = pointer_1.next\n",
    "        pointer_2 = pointer_2.next\n",
    "        \n",
    "    return pointer_1.data    "
   ]
  },
  {
   "cell_type": "code",
   "execution_count": 43,
   "id": "e40e231c",
   "metadata": {},
   "outputs": [
    {
     "name": "stdout",
     "output_type": "stream",
     "text": [
      "1 -> 2 -> 3 -> 4 -> 5 -> 6 -> 7 -> 8 -> 9\n"
     ]
    },
    {
     "data": {
      "text/plain": [
       "7"
      ]
     },
     "execution_count": 43,
     "metadata": {},
     "output_type": "execute_result"
    }
   ],
   "source": [
    "ll = LinkedList()\n",
    "\n",
    "for i in range(1,10):\n",
    "    ll.insert_tail(i)\n",
    "    \n",
    "print(ll.print_list())\n",
    "\n",
    "find_kth_to_last(ll, 3)\n"
   ]
  },
  {
   "cell_type": "markdown",
   "id": "67b9169b",
   "metadata": {},
   "source": [
    "# 22 - Delete Middle Node\n",
    "Implement an algorithm to delete a node in the middle (i.e., any node but the first and last node, not necessarily the exact middle) of a singly linked list, given only access to that node.\n",
    "\n",
    "__EXAMPLE__\n",
    "\n",
    "Input: the node c from the linked list a->b->c->d->e->f\n",
    "\n",
    "Result: nothing is returned, but the new linked list looks like a - >b- >d- >e- >f"
   ]
  },
  {
   "cell_type": "code",
   "execution_count": 45,
   "id": "c6150e3a",
   "metadata": {},
   "outputs": [],
   "source": [
    "class LinkedList:\n",
    "    class Node:\n",
    "        def __init__(self, data=None):\n",
    "            self.data = data\n",
    "            self.next = None\n",
    "            \n",
    "    def __init__(self):\n",
    "        self.head = None\n",
    "        \n",
    "    def insert_tail(self, data):\n",
    "        node = self.Node(data)\n",
    "        \n",
    "        if self.head is None:\n",
    "            self.head = node\n",
    "        else:\n",
    "            curr = self.head\n",
    "            \n",
    "            while curr.next:\n",
    "                curr = curr.next\n",
    "                \n",
    "            curr.next = node\n",
    "        \n",
    "    def find_node(self, data):\n",
    "        curr = self.head\n",
    "        \n",
    "        while curr:\n",
    "            if curr.data == data:\n",
    "                return curr\n",
    "            curr = curr.next\n",
    "    \n",
    "    def print_list(self):\n",
    "        curr = self.head\n",
    "        result = []\n",
    "        \n",
    "        while curr:\n",
    "            result.append(str(curr.data))\n",
    "            curr = curr.next\n",
    "            \n",
    "        return \" -> \".join(result)\n",
    "    \n",
    "def remove_node(node):\n",
    "    node.data = node.next.data\n",
    "    node.next = node.next.next"
   ]
  },
  {
   "cell_type": "code",
   "execution_count": 46,
   "id": "5c050707",
   "metadata": {},
   "outputs": [
    {
     "name": "stdout",
     "output_type": "stream",
     "text": [
      "1 -> 2 -> 3 -> 4 -> 5 -> 6 -> 7 -> 8 -> 9\n",
      "1 -> 2 -> 3 -> 4 -> 6 -> 7 -> 8 -> 9\n"
     ]
    }
   ],
   "source": [
    "ll = LinkedList()\n",
    "\n",
    "for i in range(1,10):\n",
    "    ll.insert_tail(i)\n",
    "    \n",
    "print(ll.print_list())\n",
    "\n",
    "node = ll.find_node(5)\n",
    "\n",
    "remove_node(node)\n",
    "\n",
    "print(ll.print_list())"
   ]
  },
  {
   "cell_type": "markdown",
   "id": "93c51689",
   "metadata": {},
   "source": [
    "# 23 - Partition\n",
    "\n",
    "Write code to partition a linked list around a value x, such that all nodes less than x come before all nodes greater than or equal to x. If x is contained within the list, the values of x only need to be after the elements less than x (see below). The partition element x can appear anywhere in the \"right partition\"; it does not need to appear between the left and right partitions.\n",
    "\n",
    "__EXAMPLE__\n",
    "\n",
    "Input: 3->5->8->5->10->2-> 1 [partition = 5]\n",
    "\n",
    "Output: 3 -> 1 -> 2 -> 10 -> 5 -> 5 -> 8"
   ]
  },
  {
   "cell_type": "code",
   "execution_count": 53,
   "id": "515f820a",
   "metadata": {},
   "outputs": [],
   "source": [
    "class LinkedList:\n",
    "    class Node:\n",
    "        def __init__(self, data=None):\n",
    "            self.data = data\n",
    "            self.next = None\n",
    "            \n",
    "    def __init__(self):\n",
    "        self.head = None\n",
    "        \n",
    "    def insert_tail(self, data):\n",
    "        node = self.Node(data)\n",
    "        \n",
    "        if self.head is None:\n",
    "            self.head = node\n",
    "        else:\n",
    "            curr = self.head\n",
    "            \n",
    "            while curr.next:\n",
    "                curr = curr.next\n",
    "                \n",
    "            curr.next = node\n",
    "        \n",
    "    def print_list(self):\n",
    "        curr = self.head\n",
    "        result = []\n",
    "        \n",
    "        while curr:\n",
    "            result.append(str(curr.data))\n",
    "            curr = curr.next\n",
    "            \n",
    "        return \" -> \".join(result)\n",
    "    \n",
    "def partition(linked_list, par):\n",
    "    curr = linked_list.head\n",
    "    \n",
    "    while curr.next:\n",
    "        if curr.next.data < par:\n",
    "            node = curr.next\n",
    "            curr.next = curr.next.next\n",
    "            node.next = linked_list.head\n",
    "            linked_list.head = node\n",
    "            continue\n",
    "        curr = curr.next"
   ]
  },
  {
   "cell_type": "code",
   "execution_count": 54,
   "id": "a6b2ab0b",
   "metadata": {},
   "outputs": [
    {
     "name": "stdout",
     "output_type": "stream",
     "text": [
      "9 -> 8 -> 7 -> 6 -> 5 -> 4 -> 3 -> 2 -> 1\n",
      "1 -> 2 -> 3 -> 4 -> 9 -> 8 -> 7 -> 6 -> 5\n"
     ]
    }
   ],
   "source": [
    "ll = LinkedList()\n",
    "\n",
    "for i in range(9,0,-1):\n",
    "    ll.insert_tail(i)\n",
    "    \n",
    "print(ll.print_list())\n",
    "partition(ll, 5)\n",
    "print(ll.print_list())"
   ]
  },
  {
   "cell_type": "markdown",
   "id": "cc4bebad",
   "metadata": {},
   "source": [
    "# 24 - Sum Lists\n",
    "\n",
    "You have two numbers represented by a linked list, where each node contains a single digit. The digits are stored in reverse order, such that the 1's digit is at the head of the list. Write a function that adds the two numbers and returns the sum as a linked list.\n",
    "\n",
    "__EXAMPLE__\n",
    "\n",
    "Input: (7-> 1 -> 6) + (5 -> 9 -> 2).That is, 617 + 295.\n",
    "\n",
    "Output: 2 -> 1 -> 9.Thatis,912.\n",
    "\n",
    "__FOLLOW UP__\n",
    "\n",
    "Suppose the digits are stored in forward order. Repeat the above problem.\n",
    "\n",
    "__EXAMPLE__\n",
    "\n",
    "Input: (6 -> 1 -> 7) + (2 -> 9 -> 5). That is, 617 + 295.\n",
    "\n",
    "Output:9 -> 1 -> 2. That is, 912."
   ]
  },
  {
   "cell_type": "code",
   "execution_count": 78,
   "id": "7163ad62",
   "metadata": {},
   "outputs": [],
   "source": [
    "\"\"\"\n",
    "7  1   6 \n",
    "*  *   *\n",
    "1 10  100\n",
    "\n",
    "7  10  600\n",
    "\"\"\"\n",
    "class LinkedList:\n",
    "    class Node:\n",
    "        def __init__(self, data=None):\n",
    "            self.data = data\n",
    "            self.next = None\n",
    "            \n",
    "    def __init__(self):\n",
    "        self.head = None\n",
    "        \n",
    "    def insert_head(self, data):\n",
    "        node = self.Node(data)\n",
    "        \n",
    "        if self.head is None:\n",
    "            self.head = node\n",
    "        else:\n",
    "            node.next = self.head\n",
    "            self.head = node\n",
    "    \n",
    "    def insert_tail(self, data):\n",
    "        node = self.Node(data)\n",
    "        \n",
    "        if self.head is None:\n",
    "            self.head = node\n",
    "        else:\n",
    "            curr = self.head\n",
    "            \n",
    "            while curr.next:\n",
    "                curr = curr.next\n",
    "                \n",
    "            curr.next = node\n",
    "        \n",
    "    def print_list(self):\n",
    "        curr = self.head\n",
    "        result = []\n",
    "        \n",
    "        while curr:\n",
    "            result.append(str(curr.data))\n",
    "            curr = curr.next\n",
    "            \n",
    "        return \" -> \".join(result)\n",
    "    \n",
    "def sum_lists_back(ll1, ll2):\n",
    "    cur1 = ll1.head\n",
    "    cur2 = ll2.head\n",
    "    \n",
    "    result = 0\n",
    "    exp = 0\n",
    "    \n",
    "    while True:\n",
    "        if cur1 is not None:\n",
    "            result += cur1.data * 10**exp\n",
    "            cur1 = cur1.next\n",
    "            \n",
    "        if cur2 is not None:\n",
    "            result += cur2.data * 10**exp\n",
    "            cur2 = cur2.next\n",
    "        \n",
    "        if cur1 is None and cur2 is None:\n",
    "            break\n",
    "        \n",
    "        exp += 1\n",
    "    \n",
    "    return result\n",
    "\n",
    "def sum_lists_front(ll1, ll2):\n",
    "    cur1 = ll1.head\n",
    "    cur2 = ll2.head\n",
    "    \n",
    "    result = 0\n",
    "    exp = 0\n",
    "    \n",
    "    while cur1 or cur2:\n",
    "        if cur1 is not None: cur1 = cur1.next            \n",
    "        if cur2 is not None: cur2 = cur2.next        \n",
    "        exp += 1\n",
    "\n",
    "        \n",
    "    cur1 = ll1.head\n",
    "    cur2 = ll2.head\n",
    "    exp -= 1\n",
    "    while True:\n",
    "        if cur1 is not None:\n",
    "            result += cur1.data * 10**exp\n",
    "            cur1 = cur1.next\n",
    "            \n",
    "        if cur2 is not None:\n",
    "            result += cur2.data * 10**exp\n",
    "            cur2 = cur2.next\n",
    "        \n",
    "        if cur1 is None and cur2 is None:\n",
    "            break\n",
    "        \n",
    "        exp -= 1\n",
    "    \n",
    "    return result"
   ]
  },
  {
   "cell_type": "code",
   "execution_count": 79,
   "id": "38c5a128",
   "metadata": {},
   "outputs": [
    {
     "name": "stdout",
     "output_type": "stream",
     "text": [
      "7 -> 1 -> 6\n",
      "5 -> 9 -> 2\n",
      "912\n"
     ]
    }
   ],
   "source": [
    "ll1 = LinkedList()\n",
    "ll2 = LinkedList()\n",
    "\n",
    "ll1.insert_head(6)\n",
    "ll1.insert_head(1)\n",
    "ll1.insert_head(7)\n",
    "\n",
    "ll2.insert_head(2)\n",
    "ll2.insert_head(9)\n",
    "ll2.insert_head(5)\n",
    "    \n",
    "print(ll1.print_list())\n",
    "print(ll2.print_list())\n",
    "\n",
    "print(sum_lists_back(ll1, ll2))"
   ]
  },
  {
   "cell_type": "code",
   "execution_count": 80,
   "id": "905d7cb4",
   "metadata": {},
   "outputs": [
    {
     "name": "stdout",
     "output_type": "stream",
     "text": [
      "6 -> 1 -> 7\n",
      "2 -> 9 -> 5\n",
      "912\n"
     ]
    }
   ],
   "source": [
    "ll1 = LinkedList()\n",
    "ll2 = LinkedList()\n",
    "\n",
    "ll1.insert_tail(6)\n",
    "ll1.insert_tail(1)\n",
    "ll1.insert_tail(7)\n",
    "\n",
    "ll2.insert_tail(2)\n",
    "ll2.insert_tail(9)\n",
    "ll2.insert_tail(5)\n",
    "    \n",
    "print(ll1.print_list())\n",
    "print(ll2.print_list())\n",
    "\n",
    "print(sum_lists_front(ll1, ll2))"
   ]
  },
  {
   "cell_type": "markdown",
   "id": "3944550f",
   "metadata": {},
   "source": [
    "# 25 - Palindrome\n",
    "\n",
    "Implement a function to check if a linked list is a palindrome."
   ]
  },
  {
   "cell_type": "code",
   "execution_count": 22,
   "id": "c15a281c",
   "metadata": {},
   "outputs": [],
   "source": [
    "\"\"\"\n",
    "                    1\n",
    "2 \n",
    "1 -> 2 -> 3 -> 4 -> 4 -> 3 -> 2 -> 1\n",
    "\"\"\"\n",
    "class LinkedList:\n",
    "    class Node:\n",
    "        def __init__(self, data=None):\n",
    "            self.data = data\n",
    "            self.next = None\n",
    "            \n",
    "    def __init__(self):\n",
    "        self.head = None\n",
    "        \n",
    "    def insert_head(self, data):\n",
    "        node = self.Node(data)\n",
    "        \n",
    "        if self.head is None:\n",
    "            self.head = node\n",
    "        else:\n",
    "            node.next = self.head\n",
    "            self.head = node\n",
    "    \n",
    "    def insert_tail(self, data):\n",
    "        node = self.Node(data)\n",
    "        \n",
    "        if self.head is None:\n",
    "            self.head = node\n",
    "        else:\n",
    "            curr = self.head\n",
    "            \n",
    "            while curr.next:\n",
    "                curr = curr.next\n",
    "                \n",
    "            curr.next = node\n",
    "        \n",
    "    def print_list(self):\n",
    "        curr = self.head\n",
    "        result = []\n",
    "        \n",
    "        while curr:\n",
    "            result.append(str(curr.data))\n",
    "            curr = curr.next\n",
    "            \n",
    "        return \" -> \".join(result)\n",
    "    \n",
    "    \n",
    "def reverse(head, curr):\n",
    "    #           h\n",
    "    # 1 <- 2 <- 3 \n",
    "    if curr.next is None:\n",
    "        head.next = curr\n",
    "        return curr\n",
    "    \n",
    "    nxt = reverse(head, curr.next)\n",
    "    nxt.next = curr\n",
    "    \n",
    "    return curr\n",
    "    \n",
    "def is_palindrome(lst):\n",
    "    p1 = lst.head\n",
    "    p2 = lst.head\n",
    "    \n",
    "    while p2.next:\n",
    "        if p2.next.next:\n",
    "            p1 = p1.next\n",
    "            p2 = p2.next.next\n",
    "        else:\n",
    "            p2 = p2.next\n",
    "    \n",
    "    nxt = reverse(p1, p1.next)\n",
    "    nxt.next = None\n",
    "    \n",
    "    p1 = p1.next\n",
    "    p2 = lst.head\n",
    "    \n",
    "    while p1:\n",
    "        if p1.data != p2.data:\n",
    "            return False\n",
    "        p1 = p1.next\n",
    "        p2 = p2.next\n",
    "    \n",
    "    return True"
   ]
  },
  {
   "cell_type": "code",
   "execution_count": 27,
   "id": "020eda39",
   "metadata": {},
   "outputs": [
    {
     "name": "stdout",
     "output_type": "stream",
     "text": [
      "1 -> 2 -> 3 -> 2 -> 1\n",
      "True\n",
      "1 -> 2 -> 3 -> 1 -> 2\n"
     ]
    }
   ],
   "source": [
    "ll1 = LinkedList()\n",
    "\n",
    "ll1.insert_tail(1)\n",
    "ll1.insert_tail(2)\n",
    "ll1.insert_tail(3)\n",
    "ll1.insert_tail(2)\n",
    "ll1.insert_tail(1)\n",
    "\n",
    "print(ll1.print_list())\n",
    "\n",
    "print(is_palindrome(ll1))\n",
    "\n",
    "print(ll1.print_list())"
   ]
  },
  {
   "cell_type": "markdown",
   "id": "70a65737",
   "metadata": {},
   "source": [
    "# 26 - Intersection\n",
    "\n",
    "Given two (singly) linked lists, determine if the two lists intersect. Return the  intersecting node. Note that the intersection is defined based on reference, not value. That is, if the kth node of the first linked list is the exact same node (by reference) as the jth node of the second linked list, then they are intersecting."
   ]
  },
  {
   "cell_type": "code",
   "execution_count": 39,
   "id": "749f2409",
   "metadata": {},
   "outputs": [],
   "source": [
    "class LinkedList:\n",
    "    class Node:\n",
    "        def __init__(self, data=None):\n",
    "            self.data = data\n",
    "            self.next = None\n",
    "            \n",
    "    def __init__(self):\n",
    "        self.head = None\n",
    "        \n",
    "    def insert_head(self, data):\n",
    "        node = self.Node(data)\n",
    "        \n",
    "        if self.head is None:\n",
    "            self.head = node\n",
    "        else:\n",
    "            node.next = self.head\n",
    "            self.head = node\n",
    "    \n",
    "    def insert_tail(self, data):\n",
    "        node = self.Node(data)\n",
    "        \n",
    "        if self.head is None:\n",
    "            self.head = node\n",
    "        else:\n",
    "            curr = self.head\n",
    "            \n",
    "            while curr.next:\n",
    "                curr = curr.next\n",
    "                \n",
    "            curr.next = node\n",
    "    \n",
    "    def return_node(self, data):\n",
    "        curr = self.head\n",
    "        \n",
    "        while curr:\n",
    "            if curr.data == data:\n",
    "                return curr\n",
    "            curr = curr.next\n",
    "            \n",
    "    def add_node(self, node):\n",
    "        curr = self.head\n",
    "        \n",
    "        while curr.next:\n",
    "            curr = curr.next\n",
    "        \n",
    "        curr.next = node\n",
    "        \n",
    "    \n",
    "    def print_list(self):\n",
    "        curr = self.head\n",
    "        result = []\n",
    "        \n",
    "        while curr:\n",
    "            result.append(str(curr.data))\n",
    "            curr = curr.next\n",
    "            \n",
    "        return \" -> \".join(result)\n",
    "\n",
    "def return_intersection(ll1, ll2):\n",
    "    visited = set()\n",
    "    curr1 = ll1.head\n",
    "    curr2 = ll2.head\n",
    "    \n",
    "    while curr1:\n",
    "        visited.add(curr1)\n",
    "        curr1 = curr1.next\n",
    "        \n",
    "    while curr2:\n",
    "        if curr2 in visited:\n",
    "            print(\"intersection detected\")\n",
    "            return curr2.data\n",
    "        \n",
    "        curr2 = curr2.next"
   ]
  },
  {
   "cell_type": "code",
   "execution_count": 40,
   "id": "d23256d1",
   "metadata": {},
   "outputs": [
    {
     "name": "stdout",
     "output_type": "stream",
     "text": [
      "1 -> 2 -> 3 -> 4 -> 5 -> 6 -> 7 -> 8 -> 9\n",
      "12 -> 11 -> 5 -> 6 -> 7 -> 8 -> 9\n",
      "intersection detected\n"
     ]
    },
    {
     "data": {
      "text/plain": [
       "5"
      ]
     },
     "execution_count": 40,
     "metadata": {},
     "output_type": "execute_result"
    }
   ],
   "source": [
    "ll = LinkedList()\n",
    "ll2 = LinkedList()\n",
    "\n",
    "for i in range(1,10):\n",
    "    ll.insert_tail(i)\n",
    "    \n",
    "print(ll.print_list())\n",
    "\n",
    "ll2.insert_tail(12)\n",
    "ll2.insert_tail(11)\n",
    "\n",
    "ll2.add_node(ll.return_node(5))\n",
    "\n",
    "print(ll2.print_list())\n",
    "\n",
    "return_intersection(ll, ll2)"
   ]
  },
  {
   "cell_type": "markdown",
   "id": "2d9aa888",
   "metadata": {},
   "source": [
    "#  27 - Loop Detection\n",
    "\n",
    "Given a circular linked list, implement an algorithm that returns the node at the beginning of the loop.\n",
    "\n",
    "__DEFINITION__\n",
    "\n",
    "Circular linked list: A (corrupt) linked list in which a node's next pointer points to an earlier node, so as to make a loop in the linked list.\n",
    "\n",
    "__EXAMPLE__\n",
    "\n",
    "Input: A -> B -> C -> D -> E -> C [the same C as earlier]\n",
    "\n",
    "Output: C"
   ]
  },
  {
   "cell_type": "code",
   "execution_count": 45,
   "id": "358aeb31",
   "metadata": {},
   "outputs": [],
   "source": [
    "class LinkedList:\n",
    "    class Node:\n",
    "        def __init__(self, data=None):\n",
    "            self.data = data\n",
    "            self.next = None\n",
    "            \n",
    "    def __init__(self):\n",
    "        self.head = None\n",
    "        \n",
    "    def insert_head(self, data):\n",
    "        node = self.Node(data)\n",
    "        \n",
    "        if self.head is None:\n",
    "            self.head = node\n",
    "        else:\n",
    "            node.next = self.head\n",
    "            self.head = node\n",
    "    \n",
    "    def insert_tail(self, data):\n",
    "        node = self.Node(data)\n",
    "        \n",
    "        if self.head is None:\n",
    "            self.head = node\n",
    "        else:\n",
    "            curr = self.head\n",
    "            \n",
    "            while curr.next:\n",
    "                curr = curr.next\n",
    "                \n",
    "            curr.next = node\n",
    "    \n",
    "    def create_cycle(self):\n",
    "        curr = self.head\n",
    "        \n",
    "        while curr.next:\n",
    "            curr = curr.next\n",
    "            \n",
    "        curr.next = self.head.next.next\n",
    "    \n",
    "    def print_list(self):\n",
    "        curr = self.head\n",
    "        result = []\n",
    "        \n",
    "        while curr:\n",
    "            result.append(str(curr.data))\n",
    "            curr = curr.next\n",
    "            \n",
    "        return \" -> \".join(result)\n",
    "\n",
    "\n",
    "def detect_cycle(linked):\n",
    "    visited = set()\n",
    "    curr = linked.head\n",
    "    \n",
    "    while curr:\n",
    "        if curr in visited:\n",
    "            print(\"Cycle detected!\")\n",
    "            return curr.data\n",
    "        \n",
    "        visited.add(curr)\n",
    "        curr = curr.next\n",
    "        \n",
    "    print(\"It has no cycle!\")\n",
    "    \n",
    "# 1 -> 2 -> 3 -> 4 ->    \n",
    "def detect_cycle(linked):\n",
    "    p_slow = linked.head\n",
    "    p_fast = linked.head.next\n",
    "    \n",
    "    while p_fast:\n",
    "        if p_fast is p_slow:\n",
    "            print(\"Cycle detected!\")\n",
    "            return\n",
    "        \n",
    "        p_slow = p_slow.next\n",
    "        p_fast = p_fast.next.next\n",
    "        \n",
    "    print(\"It has no cycle!\")"
   ]
  },
  {
   "cell_type": "code",
   "execution_count": 46,
   "id": "d4f770be",
   "metadata": {},
   "outputs": [
    {
     "name": "stdout",
     "output_type": "stream",
     "text": [
      "1 -> 2 -> 3 -> 4 -> 5 -> 6 -> 7 -> 8 -> 9\n",
      "It has no cycle!\n",
      "Cycle detected!\n"
     ]
    }
   ],
   "source": [
    "ll = LinkedList()\n",
    "\n",
    "for i in range(1,10):\n",
    "    ll.insert_tail(i)\n",
    "    \n",
    "print(ll.print_list())\n",
    "\n",
    "detect_cycle(ll)\n",
    "ll.create_cycle()\n",
    "detect_cycle(ll)"
   ]
  },
  {
   "cell_type": "code",
   "execution_count": null,
   "id": "eceb3860",
   "metadata": {},
   "outputs": [],
   "source": []
  }
 ],
 "metadata": {
  "kernelspec": {
   "display_name": "Python 3 (ipykernel)",
   "language": "python",
   "name": "python3"
  },
  "language_info": {
   "codemirror_mode": {
    "name": "ipython",
    "version": 3
   },
   "file_extension": ".py",
   "mimetype": "text/x-python",
   "name": "python",
   "nbconvert_exporter": "python",
   "pygments_lexer": "ipython3",
   "version": "3.8.10"
  }
 },
 "nbformat": 4,
 "nbformat_minor": 5
}
