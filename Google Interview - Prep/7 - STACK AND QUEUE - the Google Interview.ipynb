{
 "cells": [
  {
   "cell_type": "markdown",
   "id": "9e3c4980",
   "metadata": {},
   "source": [
    "# STACK AND QUEUE - the Google Interview\n",
    "\n",
    "https://takeuforward-org.cdn.ampproject.org/c/s/takeuforward.org/interviews/strivers-sde-sheet-top-coding-interview-problems/?amp=1"
   ]
  },
  {
   "cell_type": "markdown",
   "id": "93402d21",
   "metadata": {},
   "source": [
    "# 1 - Implement Stack using Array\n",
    "\n",
    "__Problem statement:__ Implement a stack using an array.\n",
    "\n",
    "__Note:__ Stack is a data structure that follows the Last In First Out (LIFO) rule.\n",
    "\n",
    "__Example:__\n",
    "\n",
    "![image1](https://lh5.googleusercontent.com/38iOcYEofTjzGa7IlFmJVWv_2SJ5eCsdcqqNqLSur4JOk3t7X7elCFdP95KWzyr0JpyFrys8i9_QiGpdntURNzVZA3m79cc7GnWViG2-FpUwpxThzb_OCFeXqiGIMyaKgBA96RQm)\n",
    "\n",
    "\n",
    "__Explanation:__\n",
    "\n",
    "push(): Insert the element in the stack.\n",
    "\n",
    "pop(): Remove and return the topmost element of the stack.\n",
    "\n",
    "top(): Return the topmost element of the stack\n",
    "\n",
    "size(): Return the number of remaining elements in the stack."
   ]
  },
  {
   "cell_type": "code",
   "execution_count": 1,
   "id": "8ba7a0ad",
   "metadata": {},
   "outputs": [],
   "source": [
    "class Stack:\n",
    "    def __init__(self):\n",
    "        self.arr = []\n",
    "    \n",
    "    def push(self, data):\n",
    "        self.arr.append(data)\n",
    "    \n",
    "    def pop(self):\n",
    "        return self.arr.pop()\n",
    "    \n",
    "    def peek(self):\n",
    "        return self.arr[-1]"
   ]
  },
  {
   "cell_type": "code",
   "execution_count": 3,
   "id": "8aa045be",
   "metadata": {},
   "outputs": [
    {
     "ename": "AttributeError",
     "evalue": "'Stack' object has no attribute 'peek'",
     "output_type": "error",
     "traceback": [
      "\u001b[0;31m---------------------------------------------------------------------------\u001b[0m",
      "\u001b[0;31mAttributeError\u001b[0m                            Traceback (most recent call last)",
      "Input \u001b[0;32mIn [3]\u001b[0m, in \u001b[0;36m<cell line: 7>\u001b[0;34m()\u001b[0m\n\u001b[1;32m      4\u001b[0m \u001b[38;5;28;01mfor\u001b[39;00m i \u001b[38;5;129;01min\u001b[39;00m a:\n\u001b[1;32m      5\u001b[0m     stack\u001b[38;5;241m.\u001b[39mpush(i)\n\u001b[0;32m----> 7\u001b[0m \u001b[38;5;28mprint\u001b[39m(\u001b[43mstack\u001b[49m\u001b[38;5;241;43m.\u001b[39;49m\u001b[43mpeek\u001b[49m(), stack\u001b[38;5;241m.\u001b[39mpop(), stack\u001b[38;5;241m.\u001b[39mpeek())\n",
      "\u001b[0;31mAttributeError\u001b[0m: 'Stack' object has no attribute 'peek'"
     ]
    }
   ],
   "source": [
    "a = [1,2,3,4,5]\n",
    "stack = Stack()\n",
    "\n",
    "for i in a:\n",
    "    stack.push(i)\n",
    "    \n",
    "print(stack.peek(), stack.pop(), stack.peek())"
   ]
  },
  {
   "cell_type": "markdown",
   "id": "60cfbbb4",
   "metadata": {},
   "source": [
    "# 2 - Implement Queue Using Array\n",
    "\n",
    "__Problem Statement:__ Implement Queue Data Structure using Array with all functions like pop, push, top, size, etc.\n",
    "\n",
    "__Example:__\n",
    "\n",
    "__Input:__\n",
    "\n",
    "       push(4)\n",
    "       push(14)\n",
    "       push(24)\n",
    "       push(34)\n",
    "       top()\n",
    "       size()\n",
    "       pop()\n",
    "\n",
    "__Output:__ \n",
    "\n",
    "The element pushed is 4\n",
    "\n",
    "The element pushed is 14\n",
    "\n",
    "The element pushed is 24\n",
    "\n",
    "The element pushed is 34\n",
    "\n",
    "The peek of the queue before deleting any element 4\n",
    "\n",
    "The size of the queue before deletion 4\n",
    "\n",
    "The first element to be deleted 4\n",
    "\n",
    "The peek of the queue after deleting an element 14\n",
    "\n",
    "The size of the queue after deleting an element 3\n"
   ]
  },
  {
   "cell_type": "code",
   "execution_count": 4,
   "id": "9c2d06d9",
   "metadata": {},
   "outputs": [],
   "source": [
    "class Queue:\n",
    "    def __init__(self):\n",
    "        self.arr = []\n",
    "        \n",
    "    def push(self, data):\n",
    "        self.arr.insert(0, data)\n",
    "        \n",
    "    def pop(self):\n",
    "        return self.pop()\n",
    "    \n",
    "    def peek(self):\n",
    "        return self.arr[0]\n",
    "    \n",
    "    def size(self):\n",
    "        return len(self.arr)"
   ]
  },
  {
   "cell_type": "markdown",
   "id": "cab52ffa",
   "metadata": {},
   "source": [
    "# 3 - Implement Stack using single Queue\n",
    "\n",
    "__Problem Statement: Implement a Stack using a single Queue.__\n",
    "\n",
    "__Note:__ Stack is a data structure that follows the Last In First Out (LIFO) rule.\n",
    "\n",
    "__Note:__ Queue is a data structure that follows the First In First Out (FIFO) rule.\n",
    "\n",
    "__Example:__\n",
    "\n",
    "![image3](https://lh6.googleusercontent.com/PTWddK6HFOLjdbqarLVQBneesOOO-OGmJrOEZPyORsvCYkGOraWdM3j1MjGTa9Nm23iKBJOVS_GO4bVJeEC66MNv6s-DbQ2e7i-w56eW0tVo2pQimeGFBcYNM9ojNcy5pRAxY-BX)\n",
    "\n",
    "\n",
    "__Explanation:__\n",
    "\n",
    "push(): Insert the element in the stack.\n",
    "\n",
    "pop(): Remove and return the topmost element of the stack.\n",
    "\n",
    "top(): Return the topmost element of the stack\n",
    "\n",
    "size(): Return the size of the stack"
   ]
  },
  {
   "cell_type": "markdown",
   "id": "15b217ca",
   "metadata": {},
   "source": [
    "# 4 - Implement Queue using Stack\n",
    "\n",
    "__Problem Statement:__ Given a Stack having some elements stored in it. Can you implement a\n",
    "Queue using the given Stack?\n",
    "\n",
    "Queue: A Queue is a linear data structure that works on the basis of FIFO(First in First out). This means the element added at first will be removed first from the Queue.\n",
    "\n"
   ]
  },
  {
   "cell_type": "code",
   "execution_count": 5,
   "id": "3f235f1b",
   "metadata": {},
   "outputs": [],
   "source": [
    "# here we need to use two stacks where one is \n",
    "# to push and the other to pop\n",
    "# two of the same operation (push or pop) in a row \n",
    "# may be O(n) and O(1) or O(1) and O(1)\n",
    "class Queue:\n",
    "    def __init__(self):\n",
    "        self.input = []\n",
    "        self.output = []\n",
    "        self.size = 0\n",
    "        \n",
    "    def push(self, data):\n",
    "        \n",
    "        if self.size > 0 and len(self.input) == 0:\n",
    "            while len(self.output) > 0:\n",
    "                self.input.append(self.output.pop())\n",
    "            self.input.append(data)\n",
    "        else:\n",
    "            self.input.append(data)\n",
    "            \n",
    "    def pop(self):\n",
    "        if self.size > 0 and len(self.output) == 0:\n",
    "            while len(self.input) > 0:\n",
    "                self.ouput.append(self.input.pop())\n",
    "            return self.output.pop()\n",
    "        else:\n",
    "            return self.output.pop()\n",
    "        \n",
    "    def peek(self):\n",
    "        if len(self.input) > 0:\n",
    "            return self.input[0]\n",
    "        else:\n",
    "            return self.output[-1]"
   ]
  },
  {
   "cell_type": "markdown",
   "id": "c4bbd4e3",
   "metadata": {},
   "source": [
    "# 5 - Check for Balanced Parentheses\n",
    "\n",
    "__Problem Statement:__ Check Balanced Parentheses. Given string str containing just the characters ‘(‘, ‘)’, ‘{‘, ‘}’, ‘[‘ and ‘]’, check if the input string is valid and return true if the string is balanced otherwise return false.\n",
    "\n",
    "Note: string str is valid if:\n",
    "\n",
    "Open brackets must be closed by the same type of brackets.\n",
    "\n",
    "Open brackets must be closed in the correct order.\n",
    "\n",
    "__Example 1:__\n",
    "\n",
    "__Input:__ str = “( )[ { } ( ) ]”\n",
    "\n",
    "__Output:__ True\n",
    "\n",
    "__Explanation:__ As every open bracket has its corresponding \n",
    "close bracket. Match parentheses are in correct order \n",
    "hence they are balanced.\n",
    "\n",
    "\n",
    "__Example 2:__\n",
    "\n",
    "__Input:__ str = “[ ( )”\n",
    "\n",
    "__Output:__ False\n",
    "\n",
    "__Explanation:__ As ‘[‘ does not have ‘]’ hence it is \n",
    "not valid and will return false."
   ]
  },
  {
   "cell_type": "code",
   "execution_count": 351,
   "id": "de33167a",
   "metadata": {},
   "outputs": [],
   "source": [
    "def check_balance(string):\n",
    "    stack = []\n",
    "    \n",
    "    for i in string:\n",
    "        if i in \"{[(\":\n",
    "            stack.append(i)\n",
    "        elif i in \"}])\":\n",
    "            last = stack.pop()\n",
    "            \n",
    "            if last == \"{\" and i == \"}\" :\n",
    "                continue\n",
    "            elif last == \"[\" and i == \"]\" :\n",
    "                continue\n",
    "            elif last == \"(\" and i == \")\" :\n",
    "                continue\n",
    "            else:\n",
    "                return False\n",
    "    \n",
    "    if len(stack) > 0:\n",
    "        return False\n",
    "    \n",
    "    return True    "
   ]
  },
  {
   "cell_type": "code",
   "execution_count": 352,
   "id": "2818c595",
   "metadata": {},
   "outputs": [
    {
     "data": {
      "text/plain": [
       "True"
      ]
     },
     "execution_count": 352,
     "metadata": {},
     "output_type": "execute_result"
    }
   ],
   "source": [
    "string = \"{{([([(((((((foo*(foo))))))))])])}}\"\n",
    "\n",
    "check_balance(string)"
   ]
  },
  {
   "cell_type": "markdown",
   "id": "f04f91d6",
   "metadata": {},
   "source": [
    "# 6 - Next Greater Element Using Stack\n",
    "\n",
    "__Problem Statement:__ Given a circular integer array A, return the next greater element for every element in A. The next greater element for an element x is the first element greater than x that we come across while traversing the array in a clockwise manner. If it doesn’t exist, return -1 for this element.\n",
    "\n",
    "__Example 1:__\n",
    "\n",
    "__Input:__ N = 11, A[] = {3,10,4,2,1,2,6,1,7,2,9}\n",
    "\n",
    "__Output:__ 10,-1,6,6,2,6,7,7,9,9,10\n",
    "\n",
    "__Explanation:__ For the first element in A ,i.e, 3, the greater element which comes next to it while traversing and is closest to it is 10. Hence,10 is present on index 0 in the resultant array. Now for the second element,i.e, 10, there is no greater number and hence -1 is it’s next greater element (NGE). Similarly, we got the NGEs for all other elements present in A.  \n",
    "\n",
    "\n",
    "__Example 2:__\n",
    "\n",
    "__Input:__  N = 6, A[] = {5,7,1,7,6,0}\n",
    "\n",
    "__Output:__ 7,-1,7,-1,7,5"
   ]
  },
  {
   "cell_type": "code",
   "execution_count": 47,
   "id": "1072622c",
   "metadata": {},
   "outputs": [],
   "source": [
    "def next_greater(arr):\n",
    "    stack = []\n",
    "    result = [-1] * len(arr)\n",
    "    \n",
    "    for i in range(len(arr)*2 - 1, -1, -1):\n",
    "        \n",
    "        while len(stack) > 0 and stack[-1] <= arr[i%len(arr)]:\n",
    "            stack.pop()\n",
    "        \n",
    "        if i < len(arr):\n",
    "            if len(stack) > 0:\n",
    "                result[i%len(arr)] = stack[-1]\n",
    "        \n",
    "        stack.append(arr[i%len(arr)])\n",
    "        \n",
    "    return result"
   ]
  },
  {
   "cell_type": "code",
   "execution_count": 48,
   "id": "8e34283f",
   "metadata": {},
   "outputs": [
    {
     "data": {
      "text/plain": [
       "[10, -1, 6, 6, 2, 6, 7, 7, 9, 9, 10]"
      ]
     },
     "execution_count": 48,
     "metadata": {},
     "output_type": "execute_result"
    }
   ],
   "source": [
    "arr = [3,10,4,2,1,2,6,1,7,2,9]\n",
    "next_greater(arr)"
   ]
  },
  {
   "cell_type": "markdown",
   "id": "ed0abf84",
   "metadata": {},
   "source": [
    "#  7 - Sort a Stack\n",
    "\n",
    "__Problem Statement__\n",
    "\n",
    "You’re given a stack consisting of 'N' integers. Your task is to sort this stack in descending order using recursion.\n",
    "\n",
    "We can only use the following functions on this stack S.\n",
    "\n",
    "is_empty(S) : Tests whether stack is empty or not.\n",
    "\n",
    "push(S) : Adds a new element to the stack.\n",
    "\n",
    "pop(S) : Removes top element from the stack.\n",
    "\n",
    "top(S) : Returns value of the top element. Note that this function does not remove elements from the stack.\n",
    "\n",
    "\n",
    "Note :\n",
    "\n",
    "1) Use of any loop constructs like while, for..etc is not allowed. \n",
    "\n",
    "2) The stack may contain duplicate integers.\n",
    "\n",
    "3) The stack may contain any integer i.e it may either be negative, positive or zero.\n",
    "\n",
    "__Input Format:__\n",
    "\n",
    "The first line of the input contains an integer 'T' denoting the number of test cases. Then 'T' test cases follow.\n",
    "\n",
    "The first line of each test case contains an integer 'N', the number of elements in the stack.\n",
    "\n",
    "The second line of each test contains 'N' space separated integers.\n",
    "\n",
    "__Output Format:__\n",
    "\n",
    "The only line of output of each test case should contain 'N' space separated integers denoting the stack in a sorted order.\n",
    "\n",
    "__Note :__\n",
    "You do not need to print anything, it has already been taken care of. Just implement the given function."
   ]
  },
  {
   "cell_type": "code",
   "execution_count": 68,
   "id": "96fb523e",
   "metadata": {},
   "outputs": [],
   "source": [
    "class Stack:\n",
    "    def __init__(self):\n",
    "        self.stack = []\n",
    "        \n",
    "    def push(self, data):\n",
    "        self.stack.append(data)\n",
    "        \n",
    "    def pop(self):\n",
    "        return self.stack.pop()\n",
    "    \n",
    "    def top(self):\n",
    "        return self.stack[-1]\n",
    "    \n",
    "    def is_empty(self):\n",
    "        return False if len(self.stack) > 0 else True\n",
    "    \n",
    "    def sort(self):\n",
    "        def _sort_helper(element):\n",
    "            \n",
    "            # Base case: Either stack is empty or newly inserted\n",
    "            # item is greater than top (more than all existing)\n",
    "            if len(self.stack) == 0 or element > self.stack[-1]:\n",
    "                self.stack.append(element)\n",
    "                return\n",
    "            else:\n",
    "\n",
    "                # Remove the top item and recur\n",
    "                temp = self.stack.pop()\n",
    "                _sort_helper(element)\n",
    "\n",
    "                # Put back the top item removed earlier\n",
    "                self.stack.append(temp)\n",
    "            \n",
    "        \n",
    "         # If stack is not empty\n",
    "        if len(self.stack) != 0:\n",
    "\n",
    "            # Remove the top item\n",
    "            temp = self.stack.pop()\n",
    "\n",
    "            # Sort remaining stack\n",
    "            self.sort()\n",
    "\n",
    "            # Push the top item back in sorted stack\n",
    "            _sort_helper(temp)\n"
   ]
  },
  {
   "cell_type": "code",
   "execution_count": 69,
   "id": "fdcbb2dd",
   "metadata": {},
   "outputs": [
    {
     "data": {
      "text/plain": [
       "[-7, -2, 3, 5, 9]"
      ]
     },
     "execution_count": 69,
     "metadata": {},
     "output_type": "execute_result"
    }
   ],
   "source": [
    "inp = [5, -2, 9, -7, 3]\n",
    "\n",
    "stack = Stack()\n",
    "\n",
    "for i in inp:\n",
    "    stack.push(i)\n",
    "    \n",
    "stack.sort()\n",
    "stack.stack"
   ]
  },
  {
   "cell_type": "markdown",
   "id": "c937961d",
   "metadata": {},
   "source": [
    "# 8 - Next Smaller Element Using Stack\n",
    "\n",
    "__Problem Statement:__ Given a circular integer array A, return the next smaller element for every element in A. The next smaller element for an element x is the first element smaller than x that we come across while traversing the array in a clockwise manner. If it doesn’t exist, return -1 for this element.\n",
    "\n",
    "__Example 1:__\n",
    "\n",
    "__Input:__ N = 11, A[] = {3,10,4,2,1,2,6,1,7,2,9}\n",
    "\n",
    "__Output:__ 2,3,3,1,-1,1,2,-1,1,1,2"
   ]
  },
  {
   "cell_type": "code",
   "execution_count": 76,
   "id": "b3e19a05",
   "metadata": {},
   "outputs": [],
   "source": [
    "def next_smaller(arr):\n",
    "    stack = []\n",
    "    result = [-1] * len(arr)\n",
    "    \n",
    "    for i in range(len(arr)*2 - 1, -1, -1):\n",
    "        while len(stack) > 0 and stack[-1] >= arr[i%len(arr)]:\n",
    "            stack.pop()\n",
    "            \n",
    "        if i < len(arr):\n",
    "            if len(stack) > 0 and arr[i%len(arr)] > stack[-1]:\n",
    "                result[i%len(arr)] = stack[-1]\n",
    "        \n",
    "        stack.append(arr[i%len(arr)])\n",
    "        \n",
    "    return result"
   ]
  },
  {
   "cell_type": "code",
   "execution_count": 79,
   "id": "d8e641f0",
   "metadata": {},
   "outputs": [
    {
     "data": {
      "text/plain": [
       "[2, 4, 2, 1, -1, 1, 1, -1, 2, 1, 3]"
      ]
     },
     "execution_count": 79,
     "metadata": {},
     "output_type": "execute_result"
    }
   ],
   "source": [
    "arr = [3,10,4,2,1,2,6,1,7,2,9]\n",
    "next_smaller(arr)"
   ]
  },
  {
   "cell_type": "markdown",
   "id": "3cd9146d",
   "metadata": {},
   "source": [
    "# 9 - Implement LRU Cache\n",
    "\n",
    "__Problem Statement:__ “Design a data structure that follows the constraints of Least Recently Used (LRU) cache”.\n",
    "\n",
    "Implement the LRUCache class:\n",
    "\n",
    "LRUCache(int capacity) we need to initialize the LRU cache with positive size capacity.\n",
    "int get(int key) returns the value of the key if the key exists, otherwise return -1.\n",
    "Void put(int key,int value), Update the value of the key if the key exists. Otherwise, add the key-value pair to the cache.if the number of keys exceeds the capacity from this operation, evict the least recently used key.\n",
    "The functions get and put must each run in O(1) average time complexity.\n",
    "\n",
    "__Example:__\n",
    "\n",
    "__Input:__\n",
    "\n",
    " [\"LRUCache\", \"put\", \"put\", \"get\", \"put\", \"get\", \"put\", \"get\", \"get\", \"get\"]\n",
    "       [[2], [1, 1], [2, 2], [1], [3, 3], [2], [4, 4], [1], [3], [4]]\n",
    "\n",
    "__Output:__\n",
    " [null, null, null, 1, null, -1, null, -1, 3, 4]\n",
    "\n",
    "__Explanation:__\n",
    "\n",
    "LRUCache lRUCache = new LRUCache(2);\n",
    "\n",
    "lRUCache.put(1, 1); // cache is {1=1}\n",
    "\n",
    "lRUCache.put(2, 2); // cache is {1=1, 2=2}\n",
    "\n",
    "lRUCache.get(1);    // return 1\n",
    "\n",
    "lRUCache.put(3, 3); // LRU key was 2, evicts key 2, cache is {1=1, 3=3}\n",
    "\n",
    "lRUCache.get(2);    // returns -1 (not found)\n",
    "\n",
    "lRUCache.put(4, 4); // LRU key was 1, evicts key 1, cache is {4=4, 3=3}\n",
    "\n",
    "lRUCache.get(1);    // return -1 (not found)\n",
    "\n",
    "lRUCache.get(3);    // return 3\n",
    "\n",
    "lRUCache.get(4);    // return 4"
   ]
  },
  {
   "cell_type": "code",
   "execution_count": 125,
   "id": "71132141",
   "metadata": {},
   "outputs": [],
   "source": [
    "class LRUCache:\n",
    "    def __init__(self, size):\n",
    "        self.size = size\n",
    "        self.stack_1 = []\n",
    "        self.stack_2 = []\n",
    "        \n",
    "    def put(self, data):\n",
    "        if len(self.stack_1) == self.size:\n",
    "            while len(self.stack_1) > 0:\n",
    "                self.stack_2.append(self.stack_1.pop())\n",
    "            \n",
    "            # removing the least recently used item\n",
    "            self.stack_2.pop()\n",
    "            \n",
    "            while len(self.stack_2) > 0:\n",
    "                self.stack_1.append(self.stack_2.pop())\n",
    "            \n",
    "            self.stack_1.append(data)\n",
    "        \n",
    "        else:\n",
    "            self.stack_1.append(data)\n",
    "        \n",
    "    def get(self, key):\n",
    "        \n",
    "        while len(self.stack_1) > 0:\n",
    "            temp = self.stack_1.pop()\n",
    "            \n",
    "            if temp[0] == key:\n",
    "                break\n",
    "                \n",
    "            self.stack_2.append(temp)\n",
    "        \n",
    "        while len(self.stack_2) > 0:\n",
    "            self.stack_1.append(self.stack_2.pop())\n",
    "            \n",
    "        \n",
    "        if temp[0] == key:\n",
    "            self.stack_1.append(temp)\n",
    "            return temp\n",
    "        else:\n",
    "            return -1"
   ]
  },
  {
   "cell_type": "code",
   "execution_count": 128,
   "id": "95173979",
   "metadata": {},
   "outputs": [
    {
     "name": "stdout",
     "output_type": "stream",
     "text": [
      "[1, 1]\n",
      "-1\n",
      "[4, 4]\n",
      "-1\n",
      "[3, 3]\n",
      "[4, 4]\n"
     ]
    }
   ],
   "source": [
    "lru_cache = LRUCache(2)\n",
    "lru_cache.put([1,1])\n",
    "\n",
    "lru_cache.put([2,2])\n",
    "\n",
    "print(lru_cache.get(1))\n",
    "\n",
    "lru_cache.put([3,3])\n",
    "\n",
    "print(lru_cache.get(2))\n",
    "\n",
    "lru_cache.put([4,4])\n",
    "print(lru_cache.get(4))\n",
    "print(lru_cache.get(1))\n",
    "print(lru_cache.get(3))\n",
    "print(lru_cache.get(4))"
   ]
  },
  {
   "cell_type": "markdown",
   "id": "08bea29e",
   "metadata": {},
   "source": [
    "# 10 - LFU Cache\n",
    "\n",
    "__Problem Statement__\n",
    "Design and implement a Least Frequently Used(LFU) Cache, to implement the following functions:\n",
    "\n",
    "1. put(U__ID, value): Insert the value in the cache if the key(‘U__ID’) is not already present or update the value of the given key if the key is already present. When the cache reaches its capacity, it should invalidate the least frequently used item before inserting the new item.\n",
    "\n",
    "2. get(U__ID): Return the value of the key(‘U__ID’),  present in the cache, if it’s present otherwise return -1.\n",
    "\n",
    "__Note:__\n",
    "\n",
    "  1) The frequency of use of an element is calculated by a number of operations with its ‘U_ID’ performed after it is inserted in the cache.\n",
    "\n",
    "  2) If multiple elements have the least frequency then we remove the element which was least recently used. \n",
    "\n",
    "You have been given ‘M’ operations which you need to perform in the cache. Your task is to implement all the functions of the LFU cache.\n",
    "\n",
    "Type 1: for put(key, value) operation.\n",
    "\n",
    "Type 2: for get(key) operation.\n",
    "\n",
    "\n",
    "__Example:__\n",
    "\n",
    "We perform the following operations on an empty cache which has capacity 2:\n",
    "\n",
    "When operation 1 2 3 is performed, the element with 'U_ID' 2 and value 3 is inserted in the cache.\n",
    "\n",
    "When operation 1 2 1 is performed, the element with 'U_ID' 2’s value is updated to 1.  \n",
    "\n",
    "When operation 2 2 is performed then the value of 'U_ID' 2 is returned i.e. 1.\n",
    "\n",
    "When operation 2 1 is performed then the value of 'U_ID' 1 is to be returned but it is not present in cache therefore -1 is returned.\n",
    "\n",
    "When operation 1 1 5 is performed, the element with 'U_ID' 1 and value 5 is inserted in the cache. \n",
    "\n",
    "When operation 1 6 4 is performed, the cache is full so we need to delete an element. First, we check the number of times each element is used. Element with 'U_ID' 2 is used 3 times (2 times operation of type 1 and 1-time operation of type 1). Element with 'U_ID' 1 is used 1 time (1-time operation of type 1). So element with 'U_ID' 1 is deleted. The element with 'U_ID' 6 and value 4 is inserted in the cache. \n",
    "\n",
    "__Input Format:__\n",
    "\n",
    "The first line contains a single integer ‘T’ representing the number of test cases.\n",
    "\n",
    "The first line of each test case contains two single space-se[arated integers ‘N’ and ‘M’ representing the size of cache and number of operations respectively.\n",
    "\n",
    "Next ‘M’ lines contain operations that have to be performed on the cache.\n",
    "\n",
    "\n",
    "__Output Format:__\n",
    "For each test case, print a vector/list that contains answers of all the operations of type 2 and in the order in which they were asked."
   ]
  },
  {
   "cell_type": "code",
   "execution_count": 151,
   "id": "e5d48852",
   "metadata": {},
   "outputs": [],
   "source": [
    "class LFUCache:\n",
    "    def __init__(self, size):\n",
    "        self.size = size\n",
    "        self.cache = {}\n",
    "        \n",
    "    def put(self, data):\n",
    "        if self.cache.get(data[0]) is None and len(self.cache) < self.size:\n",
    "            self.cache[data[0]] = (data[1], 1)\n",
    "        elif len(self.cache) == self.size:\n",
    "            v_lfu = float(\"inf\")\n",
    "            k_lfu = 0\n",
    "            for k, v in self.cache.items():\n",
    "                if v_lfu > v[1]:\n",
    "                    v_lfu = v[1]\n",
    "                    k_lfu = k\n",
    "            self.cache.pop(k_lfu)\n",
    "            self.cache[data[0]] = (data[1], 1)\n",
    "        else:\n",
    "            self.cache[data[0]] = (data[1], 1)\n",
    "            \n",
    "    def get(self, key):\n",
    "        if self.cache.get(key) is None:\n",
    "            return -1\n",
    "        else:\n",
    "            value, counter = self.cache[key]\n",
    "            counter += 1\n",
    "            self.cache[key] = (value, counter)\n",
    "            return self.cache[key]\n",
    "        "
   ]
  },
  {
   "cell_type": "code",
   "execution_count": 153,
   "id": "d040c8c8",
   "metadata": {},
   "outputs": [
    {
     "name": "stdout",
     "output_type": "stream",
     "text": [
      "(1, 2)\n",
      "-1\n",
      "(4, 2)\n",
      "(1, 3)\n",
      "-1\n",
      "(4, 3)\n",
      "(4, 4)\n",
      "(4, 5)\n",
      "{4: (4, 5), 3: (3, 1)}\n"
     ]
    }
   ],
   "source": [
    "lfu_cache = LFUCache(2)\n",
    "lfu_cache.put([1,1])\n",
    "\n",
    "lfu_cache.put([2,2])\n",
    "\n",
    "print(lfu_cache.get(1))\n",
    "\n",
    "lfu_cache.put([3,3])\n",
    "\n",
    "print(lfu_cache.get(2))\n",
    "\n",
    "lfu_cache.put([4,4])\n",
    "print(lfu_cache.get(4))\n",
    "print(lfu_cache.get(1))\n",
    "print(lfu_cache.get(3))\n",
    "print(lfu_cache.get(4))\n",
    "print(lfu_cache.get(4))\n",
    "print(lfu_cache.get(4))\n",
    "\n",
    "lfu_cache.put([3,3])\n",
    "print(lfu_cache.cache)"
   ]
  },
  {
   "cell_type": "markdown",
   "id": "5d0711af",
   "metadata": {},
   "source": [
    "# 10 - Area of largest rectangle in Histogram\n",
    "\n",
    "__Problem Statement:__ Given an array of integers heights representing the histogram’s bar height where the width of each bar is 1  return the area of the largest rectangle in histogram.\n",
    "\n",
    "__Example:__\n",
    "\n",
    "__Input:__ N =6, heights[] = {2,1,5,6,2,3}\n",
    "\n",
    "__Output:__ 10\n",
    "\n",
    "__Explanation:__\n",
    "\n",
    "![image_10](https://lh3.googleusercontent.com/0HBN1kCWyRdgeNIlyx7qYR5sQM6qQaqFDTFO_0BeolTyHuWTD9xmawkqhxmrKwcBjLDcd3p73JfhNTZr0JxGtYv5fw3gDU1ccJa7JJZiO4VM32QA92VFIob1YTFaVEN3r4UVUzm3)"
   ]
  },
  {
   "cell_type": "markdown",
   "id": "aca8847f",
   "metadata": {},
   "source": [
    "### just to recall how to build the next greater and smaller on right, and next greater and smaller on left"
   ]
  },
  {
   "cell_type": "code",
   "execution_count": 208,
   "id": "8b307e3b",
   "metadata": {},
   "outputs": [],
   "source": [
    "def next_greater_right(arr):\n",
    "    result = [-1] * len(arr)\n",
    "    stack = []\n",
    "    \n",
    "    for i in range(len(arr)-1, -1, -1):\n",
    "        while len(stack) > 0 and stack[-1] <= arr[i]:\n",
    "            stack.pop()\n",
    "            \n",
    "        if len(stack) > 0 and stack[-1] > arr[i]:\n",
    "            result[i] = stack[-1]\n",
    "        \n",
    "        stack.append(arr[i])\n",
    "    \n",
    "    print(result)\n",
    "    return result\n",
    "        \n",
    "\n",
    "def next_smaller_right(arr):\n",
    "    result = [-1] * len(arr)\n",
    "    stack = []\n",
    "    \n",
    "    for i in range(len(arr)-1, -1, -1):\n",
    "        while len(stack) > 0 and stack[-1] >= arr[i]:\n",
    "            stack.pop()\n",
    "            \n",
    "        if len(stack) > 0 and stack[-1] < arr[i]:\n",
    "            result[i] = stack[-1]\n",
    "            \n",
    "        stack.append(arr[i])\n",
    "        \n",
    "    print(result)\n",
    "    return result\n",
    "\n",
    "def next_greater_left(arr):\n",
    "    result = [-1] * len(arr)\n",
    "    stack = []\n",
    "    \n",
    "    for i in range(len(arr)):\n",
    "        while len(stack) > 0 and stack[-1] <= arr[i]:\n",
    "            stack.pop()\n",
    "            \n",
    "        if len(stack) > 0 and stack[-1] > arr[i]:\n",
    "            result[i] = stack[-1]\n",
    "        \n",
    "        stack.append(arr[i])\n",
    "        \n",
    "    print(result)\n",
    "    return result\n",
    "\n",
    "def next_smaller_left(arr):\n",
    "    result = [-1] * len(arr)\n",
    "    stack = []\n",
    "    \n",
    "    for i in range(len(arr)):\n",
    "        while len(stack) > 0 and stack[-1] >= arr[i]:\n",
    "            stack.pop()\n",
    "\n",
    "        if len(stack) > 0 and stack[-1] < arr[i]:\n",
    "            result[i] = stack[-1]\n",
    "\n",
    "        stack.append(arr[i])\n",
    "\n",
    "    print(result)\n",
    "    return result\n",
    "    "
   ]
  },
  {
   "cell_type": "code",
   "execution_count": 209,
   "id": "dbe80813",
   "metadata": {},
   "outputs": [
    {
     "name": "stdout",
     "output_type": "stream",
     "text": [
      "[10, -1, 6, 6, 2, 6, 7, 7, 9, 9, -1]\n",
      "[2, 4, 2, 1, -1, 1, 1, -1, 2, -1, -1]\n",
      "[-1, -1, 10, 4, 2, 4, 10, 6, 10, 7, 10]\n",
      "[-1, 3, 3, -1, -1, 1, 2, -1, 1, 1, 2]\n"
     ]
    },
    {
     "data": {
      "text/plain": [
       "[-1, 3, 3, -1, -1, 1, 2, -1, 1, 1, 2]"
      ]
     },
     "execution_count": 209,
     "metadata": {},
     "output_type": "execute_result"
    }
   ],
   "source": [
    "arr = [3,10,4,2,1,2,6,1,7,2,9]\n",
    "\n",
    "\n",
    "next_greater_right(arr)\n",
    "next_smaller_right(arr)\n",
    "\n",
    "next_greater_left(arr)\n",
    "next_smaller_left(arr)"
   ]
  },
  {
   "cell_type": "markdown",
   "id": "208683b9",
   "metadata": {},
   "source": [
    "### now the resolution of histogram problem"
   ]
  },
  {
   "cell_type": "code",
   "execution_count": 224,
   "id": "92e67552",
   "metadata": {},
   "outputs": [],
   "source": [
    "def find_next_smaller_rectangle(histogram):\n",
    "    \n",
    "    left = [0] * len(histogram)\n",
    "    right = [0] * len(histogram)\n",
    "    stack = []\n",
    "    \n",
    "    for i in range(len(histogram)-1, -1, -1):\n",
    "        while len(stack) > 0 and histogram[stack[-1]] >= histogram[i]:\n",
    "            stack.pop()\n",
    "        \n",
    "        if len(stack) > 0 and histogram[stack[-1]] < histogram[i]:\n",
    "            right[i] = stack[-1]\n",
    "            \n",
    "        stack.append(i)\n",
    "    \n",
    "    stack.clear()\n",
    "    \n",
    "    for i in range(len(histogram)):\n",
    "        while len(stack) > 0 and histogram[stack[-1]] >= histogram[i]:\n",
    "            stack.pop()\n",
    "        \n",
    "        if len(stack) > 0 and histogram[stack[-1]] < histogram[i]:\n",
    "            left[i] = stack[-1]\n",
    "            \n",
    "        stack.append(i)\n",
    "    \n",
    "    return left, right\n",
    "\n",
    "def calculate_largest_rectangle_area(histogram, left, right):\n",
    "    max_area = 0\n",
    "    save = []\n",
    "    for i in range(len(histogram)):\n",
    "        area = (right[i] - (left[i] + 1)) *  histogram[i]\n",
    "        save.append(area)\n",
    "        if max_area < area:\n",
    "            max_area = area\n",
    "    return max_area\n",
    "\n",
    "def find_area_largest_rectangle(histogram):\n",
    "    left, right = find_next_smaller_rectangle(histogram)\n",
    "    max_area = calculate_largest_rectangle_area(histogram, left, right)\n",
    "    \n",
    "    return max_area"
   ]
  },
  {
   "cell_type": "code",
   "execution_count": 225,
   "id": "13d7e56b",
   "metadata": {},
   "outputs": [
    {
     "data": {
      "text/plain": [
       "10"
      ]
     },
     "execution_count": 225,
     "metadata": {},
     "output_type": "execute_result"
    }
   ],
   "source": [
    "heights = [2,1,5,6,2,3]\n",
    "\n",
    "find_area_largest_rectangle(heights)"
   ]
  },
  {
   "cell_type": "markdown",
   "id": "d0b461fd",
   "metadata": {},
   "source": [
    "# 11 - Sliding Window Maximum\n",
    "\n",
    "__Problem Statement:__ Given an array of integers arr, there is a sliding window of size k which is moving from the very left of the array to the very right. You can only see the k numbers in the window. Each time the sliding window moves right by one position. Return the max sliding window.\n",
    "\n",
    "__Example 1:__\n",
    "\n",
    "Input: arr = [4,0,-1,3,5,3,6,8], k = 3\n",
    "\n",
    "Output: [4,3,5,5,6,8]\n",
    "\n",
    "Explanation: \n",
    "\n",
    "Window position                       Max\n",
    "------------------------             -----\n",
    "[4  0  -1] 3  5  3  6  8               4\n",
    "\n",
    "4 [0  -1  3] 5  3  6  8                3\n",
    "\n",
    "4  0 [-1  3  5] 3  6  8                5\n",
    "\n",
    "4  0  -1 [3  5  3] 6  8                5\n",
    "\n",
    "4  0  -1  3 [5  3  6] 8                6\n",
    "\n",
    "4  0  -1  3  5 [3  6  8]               8\n",
    "\n",
    "For each window of size k=3, we find the maximum element in the window and add it to our output array.\n",
    "\n",
    "__Example 2:__\n",
    "\n",
    "Input: arr= [20,25], k = 2\n",
    "\n",
    "Output: [25]\n",
    "\n",
    "Explanation: There’s just one window is size 2 that is possible and the maximum of the two elements is our answer."
   ]
  },
  {
   "cell_type": "markdown",
   "id": "83844c5f",
   "metadata": {},
   "source": [
    "### brute force"
   ]
  },
  {
   "cell_type": "code",
   "execution_count": 299,
   "id": "287dcb84",
   "metadata": {},
   "outputs": [],
   "source": [
    "def find_maximum_window(arr, size_window):\n",
    "    result = []\n",
    "    \n",
    "    for idx_1 in range(len(arr)-size_window):\n",
    "        max_value = float(\"-inf\")\n",
    "        for idx_2 in range(idx_1, size_window + idx_1):\n",
    "            if max_value < arr[idx_2]:\n",
    "                max_value = arr[idx_2]\n",
    "                \n",
    "        result.append(max_value)\n",
    "    \n",
    "    return result\n",
    "            "
   ]
  },
  {
   "cell_type": "code",
   "execution_count": 300,
   "id": "62f233d3",
   "metadata": {},
   "outputs": [
    {
     "data": {
      "text/plain": [
       "[4, 3, 5, 5, 6]"
      ]
     },
     "execution_count": 300,
     "metadata": {},
     "output_type": "execute_result"
    }
   ],
   "source": [
    "arr = [4,0,-1,3,5,3,6,8]\n",
    "k = 3\n",
    "\n",
    "find_maximum_window(arr, k)"
   ]
  },
  {
   "cell_type": "markdown",
   "id": "791da421",
   "metadata": {},
   "source": [
    "### improved"
   ]
  },
  {
   "cell_type": "code",
   "execution_count": 297,
   "id": "ca3724a1",
   "metadata": {},
   "outputs": [],
   "source": [
    "from collections import deque\n",
    "\n",
    "def find_maximum_window(arr, size):\n",
    "    \n",
    "    dq = deque()\n",
    "    result_idx = 0\n",
    "    result = [None] * (len(arr)-size+1)\n",
    "    \n",
    "    for i in range(len(arr)):\n",
    "        if len(dq) > 0 and dq[0] == i - size:\n",
    "            dq.popleft()\n",
    "            \n",
    "        while len(dq) > 0 and arr[dq[-1]] < arr[i]:\n",
    "            dq.pop()\n",
    "        \n",
    "        dq.append(i)\n",
    "        \n",
    "        if i >= size - 1:\n",
    "            result[result_idx] = arr[dq[0]]\n",
    "            result_idx += 1\n",
    "    \n",
    "    return result"
   ]
  },
  {
   "cell_type": "code",
   "execution_count": 301,
   "id": "f3270d47",
   "metadata": {},
   "outputs": [
    {
     "data": {
      "text/plain": [
       "[4, 3, 5, 5, 6]"
      ]
     },
     "execution_count": 301,
     "metadata": {},
     "output_type": "execute_result"
    }
   ],
   "source": [
    "arr = [4,0,-1,3,5,3,6,8]\n",
    "k = 3\n",
    "\n",
    "find_maximum_window(arr, k)"
   ]
  },
  {
   "cell_type": "markdown",
   "id": "2cdd4d1f",
   "metadata": {},
   "source": [
    "# 12 -  Implement Min Stack : O(2N) and O(N) Space Complexity\n",
    "\n",
    "__Problem Statement:__ Implement Min Stack | O(2N) and O(N) Space Complexity. Design a stack that supports push, pop, top, and retrieving the minimum element in constant time.\n",
    "\n",
    "__Examples:__\n",
    "\n",
    "Input Format:\n",
    "[\"MinStack\", \"push\", \"push\", \"push\", \"getMin\", \"pop\", \"top\", \"getMin\"]\n",
    "\n",
    "[\n",
    "\n",
    "[ ], [-2], [0], [-3], [ ], [ ], [ ], [ ]\n",
    "\n",
    "]\n",
    "\n",
    "Result: [null, null, null, null, -3, null, 0, -2]\n",
    "\n",
    "__Explanation:__\n",
    "\n",
    "stack < long long > st\n",
    "\n",
    "st.push(-2); Push element in stack\n",
    "\n",
    "st.push(0); Push element in stack\n",
    "\n",
    "st.push(-3); Push element in stack\n",
    "\n",
    "st.getMin(); Get minimum element fromstack\n",
    "\n",
    "st.pop(); Pop the topmost element\n",
    "\n",
    "st.top(); Top element is 0\n",
    "\n",
    "st.getMin(); Minimum element is -2"
   ]
  },
  {
   "cell_type": "code",
   "execution_count": 303,
   "id": "274c5d38",
   "metadata": {},
   "outputs": [],
   "source": [
    "class MinStack:\n",
    "    def __init__(self):\n",
    "        self.insert = []\n",
    "        self.min_value = []\n",
    "        \n",
    "    def push(self, data):\n",
    "        if len(self.min_value) > 0:\n",
    "            self.insert.append(data)\n",
    "            if data <= self.min_value[-1]:\n",
    "                self.min_value.append(data)\n",
    "        else:\n",
    "            self.insert.append(data)\n",
    "            self.min_value.append(data)\n",
    "            \n",
    "    def pop(self):\n",
    "        if self.insert[-1] != self.min_value[-1]:\n",
    "            return self.insert.pop()\n",
    "        else:\n",
    "            self.min_value.pop()\n",
    "            return self.insert.pop()\n",
    "        \n",
    "    def top(self):\n",
    "        return self.insert[-1]\n",
    "    \n",
    "    def get_min(self):\n",
    "        return self.min_value[-1]"
   ]
  },
  {
   "cell_type": "code",
   "execution_count": 304,
   "id": "c25e773d",
   "metadata": {},
   "outputs": [
    {
     "name": "stdout",
     "output_type": "stream",
     "text": [
      "-3\n",
      "0 -2\n"
     ]
    }
   ],
   "source": [
    "stack = MinStack()\n",
    "\n",
    "stack.push(-2)\n",
    "stack.push(0)\n",
    "stack.push(-3)\n",
    "\n",
    "print(stack.get_min())\n",
    "\n",
    "stack.pop()\n",
    "\n",
    "print(stack.top(), stack.get_min())"
   ]
  },
  {
   "cell_type": "code",
   "execution_count": 307,
   "id": "78835bd6",
   "metadata": {},
   "outputs": [],
   "source": [
    "class MinStack:\n",
    "    def __init__(self):\n",
    "        self.insert = []\n",
    "        self.min_value = float('inf')\n",
    "        \n",
    "    def push(self, data):\n",
    "        if self.min_value > data:\n",
    "            self.min_value = data\n",
    "        self.insert.append(data)\n",
    "            \n",
    "    def pop(self):\n",
    "        if self.insert[-1] != self.min_value:\n",
    "            return self.insert.pop()\n",
    "        else:\n",
    "            self.min_value = float('inf')\n",
    "            value = self.insert.pop()\n",
    "            \n",
    "            for i in self.insert:\n",
    "                if self.min_value > i:\n",
    "                    self.min_value = i\n",
    "            \n",
    "            return value\n",
    "        \n",
    "    def top(self):\n",
    "        return self.insert[-1]\n",
    "    \n",
    "    def get_min(self):\n",
    "        return self.min_value"
   ]
  },
  {
   "cell_type": "code",
   "execution_count": 308,
   "id": "f298c751",
   "metadata": {},
   "outputs": [
    {
     "name": "stdout",
     "output_type": "stream",
     "text": [
      "-3\n",
      "0 -2\n"
     ]
    }
   ],
   "source": [
    "stack = MinStack()\n",
    "\n",
    "stack.push(-2)\n",
    "stack.push(0)\n",
    "stack.push(-3)\n",
    "\n",
    "print(stack.get_min())\n",
    "\n",
    "stack.pop()\n",
    "\n",
    "print(stack.top(), stack.get_min())"
   ]
  },
  {
   "cell_type": "markdown",
   "id": "6afd147d",
   "metadata": {},
   "source": [
    "# 13 - Rotten Oranges : Min time to rot all oranges : BFS\n",
    "\n",
    "__Problem Statement:__ You will be given an m x n grid, where each cell has the following values : \n",
    "\n",
    "2  –  represents a rotten orange\n",
    "1  –  represents a Fresh orange\n",
    "0  –  represents an Empty Cell\n",
    "\n",
    "Every minute, if a Fresh Orange is adjacent to a Rotten Orange in 4-direction ( upward, downwards, right, and left ) it becomes Rotten. \n",
    "\n",
    "\n",
    "Return the minimum number of minutes required such that none of the cells has a Fresh Orange. If it’s not possible, return -1.\n",
    "\n",
    "__Example 1:__\n",
    "\n",
    "Input: grid - [ [2,1,1] , [0,1,1] , [1,0,1] ]\n",
    "\n",
    "Output: -1\n",
    "\n",
    "\n",
    "__Explanation:__\n",
    "\n",
    "![image13](https://lh3.googleusercontent.com/L1EzxJ4FUwvQb7G8pJ9rO1Crx5SykbcRrsSn_lW9ZlT6E6KtqfCfg3twYfTGZw3q9fD0RCzo84oktZTuwsbiJYN-osewe9BaJHAKstiqiT_kiZh4ZPBnKoVSGm89e5QRXYA-5i13)\n",
    "\n",
    "__Example 2:__\n",
    "\n",
    "Input: grid - [ [2,1,1] , [1,1,0] , [0,1,1] ] \n",
    "\n",
    "Output:  4\n",
    "\n",
    "\n",
    "__Explanation:__\n",
    "\n",
    "![image13_1](https://lh3.googleusercontent.com/XKWocUensy0Kubpp05af0peLXbkLylI6BoSd66v7siGsp-dYljICrSJF5ggo6ueqtDTZ9MVZHNVTJEi2cR3c4ByQwHel9xLzVsPlkxVPnwyL6wefOmBUzGArazUivXI0efsUbsvF)\n"
   ]
  },
  {
   "cell_type": "code",
   "execution_count": 340,
   "id": "018c9db1",
   "metadata": {},
   "outputs": [],
   "source": [
    "from collections import deque\n",
    "\n",
    "def rot_oranges(table):\n",
    "    dq = deque()\n",
    "    total_time = 0\n",
    "    count_oranges = 0\n",
    "    rotten_oranges = 0\n",
    "    \n",
    "    for row in range(len(table)):\n",
    "        for col in range(len(table[row])):\n",
    "            if table[row][col] == 1 or table[row][col] == 2:\n",
    "                count_oranges += 1\n",
    "                if table[row][col] == 2:\n",
    "                    rotten_oranges += 1\n",
    "                    dq.append((row,col))\n",
    "    \n",
    "    directions = [(-1,0), (0,1), (1,0), (0,-1)]\n",
    "    \n",
    "    while len(dq) > 0:\n",
    "        orange = dq.popleft()\n",
    "        \n",
    "        # it helps to count the time\n",
    "        flag = True\n",
    "        \n",
    "        for direction in directions:\n",
    "            row = orange[0] + direction[0]\n",
    "            col = orange[1] + direction[1]\n",
    "            \n",
    "            if row >= 0 and row < len(table) \\\n",
    "                and col >= 0 and col < len(table[0]) \\\n",
    "                and table[row][col] == 1:\n",
    "                \n",
    "                table[row][col] = 2\n",
    "                dq.append((row, col))\n",
    "                rotten_oranges += 1\n",
    "                if flag:\n",
    "                    flag = False\n",
    "                    total_time += 1\n",
    "                \n",
    "    return total_time if rotten_oranges == count_oranges else -1"
   ]
  },
  {
   "cell_type": "code",
   "execution_count": 341,
   "id": "348a25c2",
   "metadata": {},
   "outputs": [
    {
     "data": {
      "text/plain": [
       "-1"
      ]
     },
     "execution_count": 341,
     "metadata": {},
     "output_type": "execute_result"
    }
   ],
   "source": [
    "grid = [[2,1,1],[0,1,1],[1,0,1]]\n",
    "\n",
    "rot_oranges(grid)"
   ]
  },
  {
   "cell_type": "code",
   "execution_count": 342,
   "id": "b369435c",
   "metadata": {},
   "outputs": [
    {
     "data": {
      "text/plain": [
       "4"
      ]
     },
     "execution_count": 342,
     "metadata": {},
     "output_type": "execute_result"
    }
   ],
   "source": [
    "grid = [[2,1,1],[1,1,0],[0,1,1]]\n",
    "\n",
    "rot_oranges(grid)"
   ]
  },
  {
   "cell_type": "markdown",
   "id": "055e9d45",
   "metadata": {},
   "source": [
    "# 14 - Sliding Window Maximum and Minimum\n",
    "\n",
    "__Problem Statement:__ Given an array of integers arr, there is a sliding window of size k which is moving from the very left of the array to the very right. You can only see the k numbers in the window. Each time the sliding window moves right by one position. Return the max and min sliding window.\n",
    "\n",
    "__Example 1:__\n",
    "\n",
    "Input: arr = [4,0,-1,3,5,3,6,8], k = 3\n",
    "\n",
    "Output: [(-1, 4),(-1, 3),(-1, 5),(3 ,5),(3, 6),(3, 8)]\n",
    "\n",
    "Explanation: \n",
    "\n",
    "Window position                       Max   Min\n",
    "------------------------             ----------\n",
    "[4  0  -1] 3  5  3  6  8               4    -1\n",
    "\n",
    "4 [0  -1  3] 5  3  6  8                3    -1\n",
    "\n",
    "4  0 [-1  3  5] 3  6  8                5    -1\n",
    "\n",
    "4  0  -1 [3  5  3] 6  8                5     3\n",
    "\n",
    "4  0  -1  3 [5  3  6] 8                6     3\n",
    "\n",
    "4  0  -1  3  5 [3  6  8]               8     3\n",
    "\n",
    "For each window of size k=3, we find the maximum element in the window and add it to our output array.\n",
    "\n",
    "__Example 2:__\n",
    "\n",
    "Input: arr= [20,25], k = 2\n",
    "\n",
    "Output: [(20,25)]\n",
    "\n",
    "Explanation: There’s just one window is size 2 that is possible and the maximum of the two elements is our answer."
   ]
  },
  {
   "cell_type": "code",
   "execution_count": 345,
   "id": "4f641551",
   "metadata": {},
   "outputs": [],
   "source": [
    "from collections import deque\n",
    "\n",
    "def find_maximum_and_minimum_window(arr, size):\n",
    "    \n",
    "    dq = deque()\n",
    "    result_idx = 0\n",
    "    result = [None] * (len(arr)-size+1)\n",
    "    \n",
    "    for i in range(len(arr)):\n",
    "        if len(dq) > 0 and dq[0] == i - size:\n",
    "            dq.popleft()\n",
    "            \n",
    "        while len(dq) > 0 and arr[dq[-1]] < arr[i]:\n",
    "            dq.pop()\n",
    "        \n",
    "        dq.append(i)\n",
    "        \n",
    "        if i >= size - 1:\n",
    "            result[result_idx] = arr[dq[0]]\n",
    "            result_idx += 1\n",
    "    \n",
    "    \n",
    "    dq = deque()\n",
    "    result_idx = 0\n",
    "    \n",
    "    for i in range(len(arr)):\n",
    "        if len(dq) > 0 and dq[0] == i - size:\n",
    "            dq.popleft()\n",
    "            \n",
    "        while len(dq) > 0 and arr[dq[-1]] > arr[i]:\n",
    "            dq.pop()\n",
    "        \n",
    "        dq.append(i)\n",
    "        \n",
    "        if i >= size - 1:\n",
    "            result[result_idx] = (arr[dq[0]], result[result_idx])\n",
    "            result_idx += 1\n",
    "            \n",
    "    \n",
    "    return result"
   ]
  },
  {
   "cell_type": "code",
   "execution_count": 347,
   "id": "924b3c74",
   "metadata": {},
   "outputs": [
    {
     "data": {
      "text/plain": [
       "[(-1, 4), (-1, 3), (-1, 5), (3, 5), (3, 6), (3, 8)]"
      ]
     },
     "execution_count": 347,
     "metadata": {},
     "output_type": "execute_result"
    }
   ],
   "source": [
    "arr = [4,0,-1,3,5,3,6,8]\n",
    "k = 3\n",
    "\n",
    "find_maximum_and_minimum_window(arr, k)"
   ]
  },
  {
   "cell_type": "markdown",
   "id": "e4bd46ea",
   "metadata": {},
   "source": [
    "# NEW EXERCISES - FROM GITHUB\n",
    "\n",
    "https://github.com/ombharatiya/FAANG-Coding-Interview-Questions#google-top-50"
   ]
  },
  {
   "cell_type": "markdown",
   "id": "70077e61",
   "metadata": {},
   "source": [
    "# 15 - Three in One\n",
    "\n",
    "Describe how you could use a single array to implement three stacks."
   ]
  },
  {
   "cell_type": "code",
   "execution_count": 7,
   "id": "a8a450d7",
   "metadata": {},
   "outputs": [],
   "source": [
    "\"\"\"\n",
    " start       end    start       end   start      end    \n",
    "[None, None, None, None, None, None, None, None, None]\n",
    "    0 to N-1          N to 2*N-1          2*N to 3*N-1\n",
    "\n",
    "\"\"\"\n",
    "class Stack:\n",
    "    def __init__(self, size, num_stacks):\n",
    "        self.arr = [None] * num_stacks * size\n",
    "        self.top = [None] * num_stacks\n",
    "        self.size = size\n",
    "        \n",
    "    def push(self, stack, data):\n",
    "        if self.top[stack] is None:\n",
    "            self.arr[self.size*stack] = data\n",
    "            self.top[stack] = self.size*stack\n",
    "            \n",
    "        elif self.top[stack] < (stack + 1)*self.size:\n",
    "            self.arr[self.top[stack]+1] = data\n",
    "            self.top[stack] += 1 \n",
    "        \n",
    "        else:\n",
    "            print(\"Stack OVerflow!\")\n",
    "            \n",
    "    def pop(self, stack):\n",
    "        if self.top[stack] is None:\n",
    "            return None\n",
    "        \n",
    "        elif self.top[stack] > stack*self.size and self.top[stack] < (stack + 1)*self.size:\n",
    "            data = self.arr[self.top[stack]]\n",
    "            self.arr[self.top[stack]] = None\n",
    "            self.top[stack] -= 1\n",
    "        \n",
    "        else:\n",
    "            data = self.arr[self.top[stack]]\n",
    "            self.arr[self.top[stack]] = None\n",
    "            self.top[stack] = None\n",
    "            \n",
    "    def peek(self, stack):\n",
    "        if self.top[stack] is None:\n",
    "            return\n",
    "        else:\n",
    "            return self.arr[self.top[stack]]"
   ]
  },
  {
   "cell_type": "code",
   "execution_count": 12,
   "id": "d6497882",
   "metadata": {},
   "outputs": [
    {
     "name": "stdout",
     "output_type": "stream",
     "text": [
      "[None, None, None, None, None, None, None, None, None, None, None, None, None, None, None] \n",
      " [None, None, None] \n",
      "\n",
      "\n",
      "['brasil', None, None, None, None, None, None, None, None, None, None, None, None, None, None] \n",
      " [0, None, None] \n",
      "\n",
      "\n",
      "['brasil', None, None, None, None, 'paulo', None, None, None, None, 'carla', None, None, None, None] \n",
      " [0, 5, 10] \n",
      "\n",
      "\n",
      "['brasil', None, None, None, None, 'paulo', 'paulo', None, None, None, 'carla', 'carla', None, None, None] \n",
      " [0, 6, 11] \n",
      "\n",
      "\n"
     ]
    }
   ],
   "source": [
    "stack = Stack(5, 3)\n",
    "\n",
    "print(stack.arr, \"\\n\", stack.top, \"\\n\\n\")\n",
    "\n",
    "stack.push(0, \"brasil\")\n",
    "\n",
    "print(stack.arr, \"\\n\", stack.top, \"\\n\\n\")\n",
    "\n",
    "stack.push(1, \"paulo\")\n",
    "\n",
    "stack.push(2, \"carla\")\n",
    "\n",
    "print(stack.arr, \"\\n\", stack.top, \"\\n\\n\")\n",
    "\n",
    "stack.push(1, \"paulo\")\n",
    "\n",
    "stack.push(2, \"carla\")\n",
    "\n",
    "print(stack.arr, \"\\n\", stack.top, \"\\n\\n\")"
   ]
  },
  {
   "cell_type": "markdown",
   "id": "638f85ac",
   "metadata": {},
   "source": [
    "# 16 - Stack Min\n",
    "\n",
    "How would you design a stack which, in addition to push and pop, has a function min which returns the minimum element? Push, pop and min should all operate in 0(1) time."
   ]
  },
  {
   "cell_type": "code",
   "execution_count": 1,
   "id": "5a52a4d5",
   "metadata": {},
   "outputs": [],
   "source": [
    "class Stack:\n",
    "    def __init__(self):\n",
    "        self.arr = []\n",
    "        self.min = []\n",
    "        \n",
    "    def push(self, data):\n",
    "        \n",
    "        if len(self.arr) == 0:\n",
    "            self.arr.append(data)\n",
    "            self.min.append(data)\n",
    "        else:\n",
    "            self.arr.append(data)\n",
    "            if self.min[-1] >= data:\n",
    "                self.min.append(data)\n",
    "                \n",
    "    def pop(self):\n",
    "        data = self.arr.pop()\n",
    "        if data > self.min[-1]:\n",
    "            return data\n",
    "        else:\n",
    "            self.min.pop()\n",
    "            return data\n",
    "        \n",
    "    def peek(self):\n",
    "        return self.arr[-1]\n",
    "    \n",
    "    def min_item(self):\n",
    "        return self.min[-1]"
   ]
  },
  {
   "cell_type": "code",
   "execution_count": 2,
   "id": "a9e00f17",
   "metadata": {},
   "outputs": [
    {
     "name": "stdout",
     "output_type": "stream",
     "text": [
      "[10, 9, 8, 7, 6, 5, 4, 3, 2, 1]\n",
      "[10, 9, 8, 7, 6, 5, 4, 3, 2, 1]\n"
     ]
    }
   ],
   "source": [
    "stack = Stack()\n",
    "\n",
    "for i in range(10, 0, -1):\n",
    "    stack.push(i)\n",
    "    \n",
    "print(stack.arr)\n",
    "print(stack.min)"
   ]
  },
  {
   "cell_type": "markdown",
   "id": "d791f82b",
   "metadata": {},
   "source": [
    "# 17 - Stack of Plates\n",
    "\n",
    "Imagine a (literal) stack of plates. If the stack gets too high, it might topple. Therefore, in real life, we would likely start a new stack when the previous stack exceeds some threshold. Implement a data structure SetOfStacks that mimics this, SetOfStacks should be composed of several stacks and should create a new stack once the previous one exceeds capacity. SetOfStacks.push() and SetOfStacks.pop() should behave identically to a single stack (that is, pop () should return the same values as it would if there were just a single stack).\n",
    "\n",
    "__FOLLOW UP__\n",
    "\n",
    "Implement a function popAt (int index) which performs a pop operation on a specific sub-stack."
   ]
  },
  {
   "cell_type": "code",
   "execution_count": 17,
   "id": "e4524eda",
   "metadata": {},
   "outputs": [],
   "source": [
    "\"\"\"\n",
    "[[a,b,c,d,e,f],]\n",
    "\n",
    "[]\n",
    "\n",
    "[[a,b,c,d,e,f],[a,b,c,d,e,f]]\n",
    "\n",
    "\"\"\"\n",
    "class Stack:\n",
    "    def __init__(self, threshold):\n",
    "        self.stack_of_stacks = []\n",
    "        self.threshold = threshold\n",
    "    \n",
    "    def push(self, data):\n",
    "        if len(self.stack_of_stacks) == 0:\n",
    "            self.stack_of_stacks.append([data])\n",
    "            \n",
    "        elif len(self.stack_of_stacks[-1]) < self.threshold:\n",
    "            self.stack_of_stacks[-1].append(data)\n",
    "        \n",
    "        else:\n",
    "            self.stack_of_stacks.append([data])\n",
    "            \n",
    "    def pop(self):\n",
    "        if len(self.stack_of_stacks) == 0:\n",
    "            return None\n",
    "            \n",
    "        elif len(self.stack_of_stacks[-1]) > 0:\n",
    "            return self.stack_of_stacks[-1].pop()\n",
    "        \n",
    "        elif len(self.stack_of_stacks[-1]) == 0:\n",
    "            self.stack_of_stacks[-1].pop()\n",
    "            return self.stack_of_stacks[-1].pop()\n",
    "    \n",
    "    def pop_at(self, idx):\n",
    "        if len(self.stack_of_stacks) == 0:\n",
    "            return None\n",
    "            \n",
    "        elif len(self.stack_of_stacks[idx]) > 0:\n",
    "            return self.stack_of_stacks[idx].pop()\n",
    "        \n",
    "        elif len(self.stack_of_stacks[idx]) == 0:\n",
    "            self.stack_of_stacks[idx].pop()\n",
    "            return self.stack_of_stacks[idx].pop()"
   ]
  },
  {
   "cell_type": "code",
   "execution_count": 20,
   "id": "26263d80",
   "metadata": {},
   "outputs": [
    {
     "name": "stdout",
     "output_type": "stream",
     "text": [
      "[[20, 19, 18, 17, 16], [15, 14, 13, 12, 11], [10, 9, 8, 7, 6], [5, 4, 3, 2, 1]]\n",
      "1\n",
      "[[20, 19, 18, 17, 16], [15, 14, 13, 12, 11], [10, 9, 8, 7, 6], [5, 4, 3, 2]]\n"
     ]
    }
   ],
   "source": [
    "stack = Stack(5)\n",
    "\n",
    "for i in range(20, 0, -1):\n",
    "    stack.push(i)\n",
    "    \n",
    "print(stack.stack_of_stacks)\n",
    "print(stack.pop())\n",
    "print(stack.stack_of_stacks)"
   ]
  },
  {
   "cell_type": "markdown",
   "id": "5809d71c",
   "metadata": {},
   "source": [
    "# 18 - Queue via Stacks\n",
    "\n",
    "Implement a MyQueue class which implements a queue using two stacks."
   ]
  },
  {
   "cell_type": "code",
   "execution_count": 21,
   "id": "87871617",
   "metadata": {},
   "outputs": [],
   "source": [
    "class Queue:\n",
    "    def __init__(self):\n",
    "        self.input = []\n",
    "        self.output = []\n",
    "        \n",
    "    def enqueue(self, data):\n",
    "        while len(self.output) > 0:    \n",
    "            self.input.append(self.output.pop())\n",
    "        self.input.append(data)\n",
    "        \n",
    "    def dequeue(self):\n",
    "        while len(self.input) > 0:    \n",
    "            self.output.append(self.input.pop())\n",
    "        return self.output.pop()\n",
    "    \n",
    "    def peek(self):\n",
    "        if len(self.input) > 0:\n",
    "            return self.input[0]\n",
    "        else:\n",
    "            return self.output[-1]"
   ]
  },
  {
   "cell_type": "code",
   "execution_count": 26,
   "id": "dabd4298",
   "metadata": {},
   "outputs": [
    {
     "name": "stdout",
     "output_type": "stream",
     "text": [
      "[20, 19, 18, 17, 16, 15, 14, 13, 12, 11, 10, 9, 8, 7, 6, 5, 4, 3, 2, 1] []\n",
      "20\n",
      "20\n",
      "[] [1, 2, 3, 4, 5, 6, 7, 8, 9, 10, 11, 12, 13, 14, 15, 16, 17, 18, 19]\n",
      "19\n"
     ]
    }
   ],
   "source": [
    "queue = Queue()\n",
    "\n",
    "for i in range(20, 0, -1):\n",
    "    queue.enqueue(i)\n",
    "\n",
    "print(queue.input, queue.output)\n",
    "\n",
    "print(queue.peek())\n",
    "print(queue.dequeue())\n",
    "print(queue.input, queue.output)\n",
    "print(queue.peek())\n"
   ]
  },
  {
   "cell_type": "markdown",
   "id": "93c97fed",
   "metadata": {},
   "source": [
    "# 19 - Sort Stack\n",
    "\n",
    "Write a program to sort a stack such that the smallest items are on the top. You can use an additional temporary stack, but you may not copy the elements into any other data structure (such as an array). The stack supports the following operations: push, pop, peek, and is Empty."
   ]
  },
  {
   "cell_type": "code",
   "execution_count": 66,
   "id": "a8a650d1",
   "metadata": {},
   "outputs": [],
   "source": [
    "\"\"\"\n",
    "in = [4,2,6,3,1]\n",
    "\n",
    "out = [6,4,3,2,1]\n",
    "\n",
    "[1,2,3,4,5]\n",
    "\n",
    "[]\n",
    "\n",
    "\"\"\"\n",
    "def sort_stack(stack):\n",
    "    temp_stack = [stack.pop()]\n",
    "    \n",
    "    while len(stack) > 0:\n",
    "        temp = stack.pop()\n",
    "        \n",
    "        if temp <= temp_stack[-1]:\n",
    "            temp_stack.append(temp)\n",
    "        else:\n",
    "            while len(temp_stack) > 0 and temp > temp_stack[-1]:\n",
    "                stack.append(temp_stack.pop())\n",
    "            temp_stack.append(temp)\n",
    "    \n",
    "    return temp_stack\n",
    "\n",
    "#def sort_stack_rec(stack):\n",
    "    \n",
    "    "
   ]
  },
  {
   "cell_type": "code",
   "execution_count": 67,
   "id": "deb4adcb",
   "metadata": {},
   "outputs": [
    {
     "data": {
      "text/plain": [
       "[100, 88, 77, 56, 45, 37, 33, 26, 24, 5, 2]"
      ]
     },
     "execution_count": 67,
     "metadata": {},
     "output_type": "execute_result"
    }
   ],
   "source": [
    "stack = [100,2,33,45,5,56,77,88,24,26,37]\n",
    "\n",
    "sort_stack(stack)"
   ]
  },
  {
   "cell_type": "markdown",
   "id": "db77e3f8",
   "metadata": {},
   "source": [
    "# 20 - Animal Shelter\n",
    "\n",
    "An animal shelter, which holds only dogs and cats, operates on a strictly \"first in, first out\" basis. People must adopt either the \"oldest\" (based on arrival time) of all animals at the shelter, or they can select whether they would prefer a dog or a cat (and will receive the oldest animal of that type). They cannot select which specific animal they would like. Create the data structures to maintain this system and implement operations such as enqueue, dequeueAny, dequeueDog, and dequeueCat.You may use the built-in LinkedList data structure."
   ]
  },
  {
   "cell_type": "code",
   "execution_count": 68,
   "id": "ee263161",
   "metadata": {},
   "outputs": [],
   "source": [
    "\"\"\"\n",
    "\n",
    "D -> D -> D -> C -> D -> C -> None\n",
    "\n",
    "\"\"\"\n",
    "class AnimalShelter:\n",
    "    class Node:\n",
    "        def __init__(self, animal):\n",
    "            self.animal = animal\n",
    "            self.next = None\n",
    "    \n",
    "    def __init__(self):\n",
    "        self.head = None\n",
    "        \n",
    "    def enqueue(self, animal):\n",
    "        node = self.Node(animal)\n",
    "        \n",
    "        if self.head is None:\n",
    "            self.head = node\n",
    "            \n",
    "        else:\n",
    "            curr = self.head\n",
    "            \n",
    "            while curr.next:\n",
    "                curr = curr.next\n",
    "                \n",
    "            curr.next = node\n",
    "            \n",
    "    def dequeue_any(self):\n",
    "        if self.head is None:\n",
    "            return \n",
    "        else:\n",
    "            curr = self.head\n",
    "            self.head = self.head.next\n",
    "            \n",
    "            return curr.animal\n",
    "        \n",
    "    def dequeue_cat(self):\n",
    "        if self.head is None:\n",
    "            return \n",
    "        else:\n",
    "            curr = self.head\n",
    "            \n",
    "            while curr:\n",
    "                if curr.animal == \"cat\":\n",
    "                    cat = curr.animal\n",
    "                    curr.animal = curr.next.animal\n",
    "                    curr.next = curr.next.next\n",
    "                    \n",
    "                    return cat\n",
    "                \n",
    "                curr = curr.next\n",
    "                \n",
    "            print(\"There is no cat in the shelter\")\n",
    "            return None\n",
    "        \n",
    "    \n",
    "    def dequeue_dog(self):\n",
    "        if self.head is None:\n",
    "            return \n",
    "        else:\n",
    "            curr = self.head\n",
    "            \n",
    "            while curr:\n",
    "                if curr.animal == \"dog\":\n",
    "                    dog = curr.animal\n",
    "                    curr.animal = curr.next.animal\n",
    "                    curr.next = curr.next.next\n",
    "                    \n",
    "                    return dog\n",
    "                \n",
    "                curr = curr.next\n",
    "                \n",
    "            print(\"There is no dog in the shelter\")\n",
    "            return None\n",
    "        \n",
    "    def show_all_animals(self):\n",
    "        curr = self.head\n",
    "        result = []\n",
    "        \n",
    "        while curr:\n",
    "            result.append(curr.animal)\n",
    "            curr = curr.next\n",
    "            \n",
    "        return \" -> \".join(result)"
   ]
  },
  {
   "cell_type": "code",
   "execution_count": 76,
   "id": "1cb368fe",
   "metadata": {},
   "outputs": [
    {
     "name": "stdout",
     "output_type": "stream",
     "text": [
      "cat -> cat -> dog -> dog -> cat -> dog -> cat -> dog -> cat -> cat\n",
      "cat -> dog -> dog -> cat -> dog -> cat -> dog -> cat -> cat\n",
      "cat -> dog -> cat -> dog -> cat -> dog -> cat -> cat\n",
      "cat -> cat -> dog -> cat -> dog -> cat -> cat\n",
      "cat -> dog -> cat -> dog -> cat -> cat\n"
     ]
    }
   ],
   "source": [
    "shelter = AnimalShelter()\n",
    "\n",
    "shelter.enqueue(\"cat\")\n",
    "shelter.enqueue(\"cat\")\n",
    "shelter.enqueue(\"dog\")\n",
    "shelter.enqueue(\"dog\")\n",
    "shelter.enqueue(\"cat\")\n",
    "shelter.enqueue(\"dog\")\n",
    "shelter.enqueue(\"cat\")\n",
    "shelter.enqueue(\"dog\")\n",
    "shelter.enqueue(\"cat\")\n",
    "shelter.enqueue(\"cat\")\n",
    "\n",
    "print(shelter.show_all_animals())\n",
    "\n",
    "shelter.dequeue_any()\n",
    "\n",
    "print(shelter.show_all_animals())\n",
    "\n",
    "shelter.dequeue_dog()\n",
    "\n",
    "print(shelter.show_all_animals())\n",
    "\n",
    "shelter.dequeue_dog()\n",
    "\n",
    "print(shelter.show_all_animals())\n",
    "\n",
    "shelter.dequeue_cat()\n",
    "\n",
    "print(shelter.show_all_animals())"
   ]
  },
  {
   "cell_type": "code",
   "execution_count": null,
   "id": "dcc5d31b",
   "metadata": {},
   "outputs": [],
   "source": []
  },
  {
   "cell_type": "code",
   "execution_count": null,
   "id": "65741eef",
   "metadata": {},
   "outputs": [],
   "source": []
  }
 ],
 "metadata": {
  "kernelspec": {
   "display_name": "Python 3 (ipykernel)",
   "language": "python",
   "name": "python3"
  },
  "language_info": {
   "codemirror_mode": {
    "name": "ipython",
    "version": 3
   },
   "file_extension": ".py",
   "mimetype": "text/x-python",
   "name": "python",
   "nbconvert_exporter": "python",
   "pygments_lexer": "ipython3",
   "version": "3.8.10"
  }
 },
 "nbformat": 4,
 "nbformat_minor": 5
}
