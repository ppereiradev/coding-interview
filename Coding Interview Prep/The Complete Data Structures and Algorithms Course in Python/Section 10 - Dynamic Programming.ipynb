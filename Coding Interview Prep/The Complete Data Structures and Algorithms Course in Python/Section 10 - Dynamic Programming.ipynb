{
 "cells": [
  {
   "cell_type": "markdown",
   "id": "2a0b7624",
   "metadata": {},
   "source": [
    "# Section 10: Dynamic Programming\n",
    "\n",
    "\n",
    "Dynamic Programming (DP) is an algorithmic technique for solving an optimization problem by breaking it down into simpler subproblems and utilizing the fact that the optimal solution to the overall problem depends upon the optimal solution to its subproblems.\n",
    "\n",
    "### Top Down with Memoization\n",
    "\n",
    "Solve the bigger problem by recursively finding the solution to smaller subproblems. Whenever we solve a sub-problem, we cache its result so that we don't end up solving it repeatedly if it's called multiple times. This technique of storing the results of already solved subproblems is called Memoization.\n",
    "\n",
    "### Bottom Up with Tabulation\n",
    "\n",
    "Tabulation is the opposite of the top-down approach and avoids recursion. In this approach, we solve the problem \"bottom-up\" (i.e. by solving all the related subproblems first). This is done by filling up a table. Based on the results in the table, the solution to the top/original problem is then computed.\n"
   ]
  },
  {
   "cell_type": "markdown",
   "id": "61ecb903",
   "metadata": {},
   "source": [
    "# Fibonacci Series\n",
    "\n",
    "__Definition:__ a series of numbers in which each number is the sum of the two preceding numbers. First two numbers are 0 and 1 by definition.\n",
    "\n",
    "__EX:__ 0, 1, 1, 2, 3, 5, 8, 13, ..."
   ]
  },
  {
   "cell_type": "code",
   "execution_count": 17,
   "id": "25c34896",
   "metadata": {},
   "outputs": [
    {
     "name": "stdout",
     "output_type": "stream",
     "text": [
      "Fib memoization:\n",
      " 43466557686937456435688527675040625802564660517371780402481729089536555417949051890403879840079255169295922593080322634775209689623239873322471161642996440906533187938298969649928516003704476137795166849228875\n",
      "Fib tabulation:\n",
      " 43466557686937456435688527675040625802564660517371780402481729089536555417949051890403879840079255169295922593080322634775209689623239873322471161642996440906533187938298969649928516003704476137795166849228875\n",
      "Fib 3 variables:\n",
      " 43466557686937456435688527675040625802564660517371780402481729089536555417949051890403879840079255169295922593080322634775209689623239873322471161642996440906533187938298969649928516003704476137795166849228875\n"
     ]
    }
   ],
   "source": [
    "# Memoization\n",
    "# TC: O(n), SC: O(n)\n",
    "def fib(n, memo={}):\n",
    "    if n == 0:\n",
    "        return 0\n",
    "    if n == 1:\n",
    "        return 1\n",
    "    \n",
    "    if n in memo:\n",
    "        return memo[n]\n",
    "    \n",
    "    memo[n] = fib(n-1) + fib(n-2)\n",
    "    \n",
    "    return memo[n]\n",
    "\n",
    "print(\"Fib memoization:\\n\",fib(1000))\n",
    "\n",
    "# Tabulation\n",
    "# TC: O(n), SC: O(1)\n",
    "def fib(n):\n",
    "    tab = [0,1]\n",
    "    \n",
    "    for i in range(2,n+1):\n",
    "        tab.append(tab[i-1] + tab[i-2])\n",
    "        \n",
    "    return tab[-1]\n",
    "\n",
    "print(\"Fib tabulation:\\n\",fib(1000))\n",
    "\n",
    "# Improved\n",
    "# TC: O(n), SC: O(1)\n",
    "def fib(n):\n",
    "    n1 = 0\n",
    "    n2 = 1\n",
    "    \n",
    "    for i in range(n-1):\n",
    "        n3 = n1 + n2\n",
    "        n1 = n2\n",
    "        n2 = n3\n",
    "        \n",
    "    return n3\n",
    "\n",
    "print(\"Fib 3 variables:\\n\",fib(1000))"
   ]
  },
  {
   "cell_type": "markdown",
   "id": "a6da5138",
   "metadata": {},
   "source": [
    "# Number Factor\n",
    "\n",
    "Given a number N, find the number of ways to express N as sum of 1, 3, and 4.\n",
    "\n",
    "__Ex:__\n",
    "\n",
    "- input: 5\n",
    "- output: 6\n",
    "- Explanation: there are 6 ways to represent 5 as sum of 1, 3, and 4: (4,1),(1,4),(1,3,1),(3,1,1)(1,1,3),(1,1,1,1,1)"
   ]
  },
  {
   "cell_type": "code",
   "execution_count": 28,
   "id": "1b8d2e5c",
   "metadata": {},
   "outputs": [
    {
     "name": "stdout",
     "output_type": "stream",
     "text": [
      "6\n",
      "6\n",
      "6\n",
      "6\n"
     ]
    }
   ],
   "source": [
    "# Brute Force\n",
    "# TC: O(3^n), SC: O(3^n)\n",
    "def find_num_factor(n):\n",
    "    if n == 0:\n",
    "        return 1\n",
    "    if n < 0:\n",
    "        return 0\n",
    "    \n",
    "    return find_num_factor(n-1) + find_num_factor(n-3) + find_num_factor(n-4)\n",
    "\n",
    "print(find_num_factor(5))\n",
    "\n",
    "# Memoization\n",
    "# TC: O(n), SC: O(n)\n",
    "def find_num_factor(n, memo={}):\n",
    "    if n == 0:\n",
    "        return 1\n",
    "    if n < 0:\n",
    "        return 0\n",
    "    \n",
    "    if n in memo:\n",
    "        return memo[n]\n",
    "    \n",
    "    memo[n] = find_num_factor(n-1) + find_num_factor(n-3) + find_num_factor(n-4) \n",
    "    \n",
    "    return memo[n]\n",
    "\n",
    "print(find_num_factor(5))\n",
    "\n",
    "# Tabulation\n",
    "# TC: O(n), SC: O(n)\n",
    "def find_num_factor(n):\n",
    "    tab = [1,1,1,2]\n",
    "    \n",
    "    for i in range(4,n+1):\n",
    "        tab.append(tab[i-1] + tab[i-3] + tab[i-4])\n",
    "        \n",
    "    return tab[-1]\n",
    "\n",
    "print(find_num_factor(5))\n",
    "\n",
    "\n",
    "# Improved\n",
    "# TC: O(n), SC: O(1)\n",
    "def find_num_factor(n):\n",
    "    n0 = n1 = n2 = 1\n",
    "    n3 = 2\n",
    "    \n",
    "    for i in range(4,n+1):\n",
    "        n5 = n3 + n1 + n0\n",
    "        n0 = n1\n",
    "        n1 = n2\n",
    "        n2 = n3\n",
    "        n3 = n5\n",
    "\n",
    "    return n5\n",
    "\n",
    "print(find_num_factor(5))"
   ]
  },
  {
   "cell_type": "markdown",
   "id": "28fdbc38",
   "metadata": {},
   "source": [
    "# House Robber\n",
    "\n",
    "__Problem Statement:__\n",
    "\n",
    "- Given N number of houses along the street with some amount of money\n",
    "- Adjacent houses cannot be stolen\n",
    "- Find the maximum amount that can be stolen"
   ]
  },
  {
   "cell_type": "code",
   "execution_count": 53,
   "id": "12653412",
   "metadata": {},
   "outputs": [
    {
     "name": "stdout",
     "output_type": "stream",
     "text": [
      "41\n",
      "[41, 41, 34, 34, 12, 4, 4, 0, 0]\n",
      "41\n"
     ]
    }
   ],
   "source": [
    "# Memoization\n",
    "# TC: O(n), SC: O(n)\n",
    "def rob_houses(houses, idx=0, memo={}):\n",
    "    if idx >= len(houses):\n",
    "        return 0\n",
    "    \n",
    "    if idx in memo:\n",
    "        return memo[idx]\n",
    "\n",
    "    first = houses[idx] + rob_houses(houses, idx+2, memo)\n",
    "    second = rob_houses(houses, idx+1, memo)\n",
    "    memo[idx] = max(first, second)\n",
    "    return memo[idx]\n",
    "\n",
    "houses = [6,7,1,30,8,2,4]\n",
    "print(rob_houses(houses))\n",
    "\n",
    "\n",
    "# Tabulation\n",
    "# TC: O(n), SC: O(n)\n",
    "def rob_houses(houses):\n",
    "    tab = [0] * (len(houses)+2)\n",
    "    for i in range(len(houses)-1,-1,-1):\n",
    "        tab[i] = max(houses[i]+tab[i+2], tab[i+1])\n",
    "    \n",
    "    return tab\n",
    "\n",
    "houses = [6,7,1,30,8,2,4]\n",
    "print(rob_houses(houses))\n",
    "\n",
    "# Improved\n",
    "# TC: O(n), SC: O(1)\n",
    "def rob_houses(houses):\n",
    "    n1 = n2 = 0\n",
    "\n",
    "    for i in range(len(houses)-1,-1,-1):\n",
    "        n3 = max(houses[i]+n2, n1)\n",
    "        n2 = n1\n",
    "        n1 = n3\n",
    "        \n",
    "    \n",
    "    return n3\n",
    "\n",
    "houses = [6,7,1,30,8,2,4]\n",
    "print(rob_houses(houses))"
   ]
  },
  {
   "cell_type": "markdown",
   "id": "c9795ba9",
   "metadata": {},
   "source": [
    "# Convert one string to another\n",
    "\n",
    "You are given two strings S1 and S2. Convert S2 to S1, using only insert, delete or repace operations. Find the minimum count of edit operations.\n",
    "\n",
    "__Ex:__\n",
    "\n",
    "s1 = table, s2 = tbres\n",
    "\n",
    "output = 3\n",
    "\n",
    "Explanation: insert a in the second position, replace r with l and remove s."
   ]
  },
  {
   "cell_type": "code",
   "execution_count": 74,
   "id": "1e7efb5f",
   "metadata": {},
   "outputs": [
    {
     "name": "stdout",
     "output_type": "stream",
     "text": [
      "3\n",
      "3\n",
      "None\n"
     ]
    }
   ],
   "source": [
    "# Brute Force\n",
    "# TC: O(3^n), SC: O(n)\n",
    "def convert(s1, s2, idx1=0, idx2=0):\n",
    "    if idx1 == len(s1):\n",
    "        return len(s2) - idx2\n",
    "    if idx2 == len(s2):\n",
    "        return len(s1) - idx1\n",
    "    if s1[idx1] == s2[idx2]:\n",
    "        return convert(s1, s2, idx1+1, idx2+1)\n",
    "    else:\n",
    "        delete = 1 + convert(s1, s2, idx1, idx2+1)\n",
    "        insert = 1 + convert(s1, s2, idx1+1, idx2)\n",
    "        replace = 1 + convert(s1, s2, idx1+1, idx2+1)\n",
    "        return min(delete, insert, replace)\n",
    "    \n",
    "s1 = \"table\"\n",
    "s2 = \"tbres\"\n",
    "\n",
    "print(convert(s1, s2))\n",
    "\n",
    "# Memoization\n",
    "# TC: O(n), SC: O(n)\n",
    "def convert(s1, s2, idx1=0, idx2=0, memo={}):\n",
    "\n",
    "    if idx1 == len(s1):\n",
    "        return len(s2) - idx2\n",
    "    if idx2 == len(s2):\n",
    "        return len(s1) - idx1\n",
    "    if s1[idx1] == s2[idx2]:\n",
    "        return convert(s1, s2, idx1+1, idx2+1)\n",
    "    else:\n",
    "        if (idx1, idx2) not in memo:\n",
    "            delete = 1 + convert(s1, s2, idx1, idx2+1)\n",
    "            insert = 1 + convert(s1, s2, idx1+1, idx2)\n",
    "            replace = 1 + convert(s1, s2, idx1+1, idx2+1)\n",
    "            memo[(idx1, idx2)] = min(delete, insert, replace)\n",
    "        return memo[(idx1, idx2)]\n",
    "    \n",
    "s1 = \"table\"\n",
    "s2 = \"tbres\"\n",
    "\n",
    "print(convert(s1, s2))\n",
    "\n",
    "# Tabulation\n",
    "# TC: O(n), SC: O(n)\n",
    "def convert(s1, s2):\n",
    "    pass\n",
    "    \n",
    "s1 = \"table\"\n",
    "s2 = \"tbres\"\n",
    "\n",
    "print(convert(s1, s2))"
   ]
  },
  {
   "cell_type": "markdown",
   "id": "cb0df7d3",
   "metadata": {},
   "source": [
    "# 0-1 Knapsack Problem\n",
    "\n",
    "Given weights and values of n items, put these items in a knapsack of capacity W to get the maximum total value in the knapsack. In other words, given two integer arrays val[0..n-1] and wt[0..n-1] which represent values and weights associated with n items respectively. Also given an integer W which represents knapsack capacity, find out the maximum value subset of val[] such that sum of the weights of this subset is smaller than or equal to W. You cannot break an item, either pick the complete item or don’t pick it (0-1 property)."
   ]
  },
  {
   "cell_type": "code",
   "execution_count": 102,
   "id": "e4e5517c",
   "metadata": {},
   "outputs": [
    {
     "name": "stdout",
     "output_type": "stream",
     "text": [
      "220\n",
      "220\n",
      "220\n"
     ]
    }
   ],
   "source": [
    "# Brute Force\n",
    "# TC: O(2^n), SC: O(2^n)\n",
    "def find_profit(items, capacity, idx=0):\n",
    "    if idx >= len(items) or capacity - items[idx][1] == 0:\n",
    "        return 0\n",
    "    \n",
    "    if capacity - items[idx][1] <= 0:\n",
    "        return items[idx][0]\n",
    "    \n",
    "    pick_item = items[idx][0] + find_profit(items, capacity - items[idx][0], idx+1)\n",
    "    not_pick_item = find_profit(items, capacity, idx+1)\n",
    "    \n",
    "    return max(pick_item, not_pick_item)\n",
    "\n",
    "items = [[60,10], [100,20], [120,30]]\n",
    "capacity = 50\n",
    "\n",
    "print(find_profit(items, capacity))\n",
    "\n",
    "\n",
    "# Memoization - It doesn't improve the divide and conquer solution\n",
    "# TC: O(2^n), SC: O(2^n)\n",
    "def find_profit(items, capacity, idx=0, memo={}):\n",
    "    if idx >= len(items) or capacity - items[idx][1] == 0:\n",
    "        return 0\n",
    "    \n",
    "    if capacity - items[idx][1] <= 0:\n",
    "        return items[idx][0]\n",
    "\n",
    "    if idx not in memo:\n",
    "        pick_item = items[idx][0] + find_profit(items, capacity - items[idx][0], idx+1, memo)\n",
    "        not_pick_item = find_profit(items, capacity, idx+1, memo)\n",
    "        memo[idx] = max(pick_item, not_pick_item)\n",
    "\n",
    "    return memo[idx]\n",
    "\n",
    "items = [[60,10], [100,20], [120,30]]\n",
    "capacity = 50\n",
    "\n",
    "print(find_profit(items, capacity))\n",
    "\n",
    "# Tabulation - It doesn't improve the divide and conquer solution\n",
    "# TC: O(n^2), SC: O(n^2)\n",
    "def find_profit(items, capacity):\n",
    "    \n",
    "    if capacity <= 0 or len(items) == 0:\n",
    "        return 0\n",
    "    \n",
    "    number_of_rows = len(items) + 1\n",
    "    dp = [[None for i in range(capacity+2)] for j in range(number_of_rows)]\n",
    "    \n",
    "    for i in range(number_of_rows):\n",
    "        dp[i][0] = 0\n",
    "    \n",
    "    for i in range(capacity+1):\n",
    "        dp[number_of_rows-1][i] = 0\n",
    "    \n",
    "    for row in range(number_of_rows-2, -1, -1):\n",
    "        for column in range(1,capacity+1):\n",
    "            profit1 = 0\n",
    "            profit2 = 0\n",
    "            \n",
    "            if items[row][1] <= column:\n",
    "                profit1 = items[row][0] + dp[row + 1][column - items[row][1]]\n",
    "    \n",
    "            profit2 = dp[row + 1][column]\n",
    "            dp[row][column] = max(profit1, profit2)\n",
    "    \n",
    "    return dp[0][capacity]\n",
    "\n",
    "items = [[60,10], [100,20], [120,30]]\n",
    "capacity = 50\n",
    "\n",
    "print(find_profit(items, capacity))"
   ]
  },
  {
   "cell_type": "markdown",
   "id": "b778364d",
   "metadata": {},
   "source": [
    "# -------- Challanges - Hard ones! --------"
   ]
  },
  {
   "cell_type": "markdown",
   "id": "ea9da0f1",
   "metadata": {},
   "source": [
    "# Longest repeated Subsequence Length problem\n",
    "\n",
    "<p>Create a function to find the length of <strong>Longest Repeated Subsequence</strong>. The longest repeated subsequence (LRS) is the longest subsequence of a string that occurs at least twice.</p>\n",
    "\n",
    "__Example:__\n",
    "\n",
    "<div class=\"ud-component--base-components--code-block\"><div><pre class=\"prettyprint linenums prettyprinted\" role=\"presentation\" style=\"\"><ol class=\"linenums\"><li class=\"L0\"><span class=\"typ\">LRSLength</span><span class=\"pun\">(</span><span class=\"str\">'ATAKTKGGA'</span><span class=\"pun\">,</span><span class=\"lit\">9</span><span class=\"pun\">,</span><span class=\"lit\">9</span><span class=\"pun\">)</span><span class=\"pln\"> </span><span class=\"com\"># 4 LRS = ATKG </span></li></ol></pre></div></div>\n",
    "\n",
    "__Note:__ 9 is the length of the string."
   ]
  },
  {
   "cell_type": "code",
   "execution_count": 93,
   "id": "bf6746f6",
   "metadata": {},
   "outputs": [
    {
     "name": "stdout",
     "output_type": "stream",
     "text": [
      "4\n",
      "4\n"
     ]
    }
   ],
   "source": [
    "# Brute Force\n",
    "# Time Complexity: O(2^n), Space Complexity: O(n)\n",
    "def LRSLength(X, m, n):\n",
    "    # return if we have reached the end of either string\n",
    "    if m == 0 or n == 0:\n",
    "        return 0\n",
    " \n",
    "    # if characters at index m and n matches and index is different\n",
    "    if X[m - 1] == X[n - 1] and m != n:\n",
    "        return LRSLength(X, m - 1, n - 1) + 1\n",
    " \n",
    "    # else if characters at index m and n don't match\n",
    "    return max(LRSLength(X, m, n - 1), LRSLength(X, m - 1, n))\n",
    "\n",
    "s1 = 'ATAKTKGGA'\n",
    "print(LRSLength(s1, 9, 9))\n",
    "\n",
    "\n",
    "# Tabulation\n",
    "# Time Complexity: O(n^2), Space Complexity: O(n^2)\n",
    "def find_longest_repeated_subsequence(string):\n",
    "    string = \"-\" + string\n",
    "    tab = [[0] * len(string) for i in range(len(string))]\n",
    "    \n",
    "    for i in range(len(tab)):\n",
    "        for j in range(len(tab)):\n",
    "            if i == 0 and j == 0:\n",
    "                tab[i][j] = 0\n",
    "            elif string[i] == string[j] and i != j:\n",
    "                tab[i][j] = 1 + tab[i-1][j-1]\n",
    "            else:\n",
    "                tab[i][j] = max(tab[i-1][j],tab[i][j-1])\n",
    "                \n",
    "    return tab[-1][-1]\n",
    "\n",
    "s1 = 'ATAKTKGGA'\n",
    "print(find_longest_repeated_subsequence(s1))"
   ]
  },
  {
   "cell_type": "markdown",
   "id": "bb5df1cd",
   "metadata": {},
   "source": [
    "# Longest Increasing Subsequence"
   ]
  },
  {
   "cell_type": "code",
   "execution_count": 78,
   "id": "faff814a",
   "metadata": {},
   "outputs": [
    {
     "name": "stdout",
     "output_type": "stream",
     "text": [
      "4\n",
      "4\n"
     ]
    }
   ],
   "source": [
    "# Brute Force\n",
    "# TC: O(2^n), SC: O(n)\n",
    "def find_longest_increasing_subsequence(arr, idx=0, prev=-1):\n",
    "    if idx == len(arr):\n",
    "        return 0\n",
    "    \n",
    "    if prev == -1 or (prev > -1 and arr[idx] > arr[prev]):\n",
    "        pick_elem = 1 + find_longest_increasing_subsequence(arr, idx+1, idx)\n",
    "        not_pick_elem = find_longest_increasing_subsequence(arr, idx+1, prev)\n",
    "        \n",
    "        return max(pick_elem, not_pick_elem)\n",
    "    \n",
    "    return find_longest_increasing_subsequence(arr, idx+1, prev)\n",
    "    \n",
    "arr = [10,9,2,5,3,7,101,18]\n",
    "print(find_longest_increasing_subsequence(arr))\n",
    "\n",
    "\n",
    "# Memoization\n",
    "# TC: O(n), SC: O(n)\n",
    "def find_longest_increasing_subsequence(arr, idx=0, prev=-1, memo={}):\n",
    "    if idx == len(arr):\n",
    "        return 0\n",
    "    if (idx, prev) in memo:\n",
    "        return memo[(idx,prev)]\n",
    "    \n",
    "    if prev == -1 or (prev > -1 and arr[idx] > arr[prev]):\n",
    "        pick_elem = 1 + find_longest_increasing_subsequence(arr, idx+1, idx)\n",
    "        not_pick_elem = find_longest_increasing_subsequence(arr, idx+1, prev)\n",
    "        \n",
    "        memo[(idx,prev)] = max(pick_elem, not_pick_elem)\n",
    "\n",
    "        return memo[(idx,prev)]\n",
    "    \n",
    "    memo[(idx,prev)] = find_longest_increasing_subsequence(arr, idx+1, prev)\n",
    "    \n",
    "    return memo[(idx,prev)]\n",
    "    \n",
    "arr = [10,9,2,5,3,7,101,18]\n",
    "print(find_longest_increasing_subsequence(arr))"
   ]
  },
  {
   "cell_type": "markdown",
   "id": "57661908",
   "metadata": {},
   "source": [
    "# Longest Common Subsequence Length problem\n",
    "\n",
    "\n",
    "<div data-purpose=\"safely-set-inner-html:rich-text-viewer:html\" class=\"udlite-text-sm rt-scaffolding\"><p>S1 and S2 are given strings, create a function to find the length of the longest subsequence which is common to both strings.</p><p><em>Subsequence</em>: a sequence that can be driven from another sequence by deleting some elements without changing the order of them</p><p><strong>Example</strong></p><div class=\"ud-component--base-components--code-block\"><div><pre class=\"prettyprint linenums prettyprinted\" role=\"presentation\" style=\"\"><ol class=\"linenums\"><li class=\"L0\"><span class=\"pln\">S1 </span><span class=\"pun\">=</span><span class=\"pln\"> </span><span class=\"str\">\"ABCBDAB\"</span></li><li class=\"L1\"><span class=\"pln\">S2 </span><span class=\"pun\">=</span><span class=\"pln\"> </span><span class=\"str\">\"BDCABA\"</span></li><li class=\"L2\"><span class=\"pln\">&nbsp;</span></li><li class=\"L3\"><span class=\"typ\">LCSLength</span><span class=\"pun\">(</span><span class=\"pln\">S1</span><span class=\"pun\">,</span><span class=\"pln\"> S2</span><span class=\"pun\">,</span><span class=\"pln\"> len</span><span class=\"pun\">(</span><span class=\"pln\">S1</span><span class=\"pun\">),</span><span class=\"pln\"> len</span><span class=\"pun\">(</span><span class=\"pln\">S2</span><span class=\"pun\">))</span><span class=\"pln\"> </span><span class=\"com\">#4</span></li></ol></pre></div></div><p><br></p></div>"
   ]
  },
  {
   "cell_type": "code",
   "execution_count": 95,
   "id": "59db521f",
   "metadata": {},
   "outputs": [
    {
     "name": "stdout",
     "output_type": "stream",
     "text": [
      "4\n",
      "4\n"
     ]
    }
   ],
   "source": [
    "# Brute Force\n",
    "# Time complexity: O(2^n), Space Complexity: O(2^n)\n",
    "def LCSLength(s1, s2, m, n):\n",
    "    if m == 0 or n == 0:\n",
    "        return 0\n",
    "    \n",
    "    if s1[m-1] == s2[n-1]:\n",
    "        return 1 + LCSLength(s1, s2, m-1, n-1)\n",
    "    \n",
    "    return max(LCSLength(s1, s2, m-1, n), LCSLength(s1, s2, m, n-1))\n",
    "\n",
    "S1 = \"ABCBDAB\"\n",
    "S2 = \"BDCABA\"\n",
    " \n",
    "print(LCSLength(S1, S2, len(S1), len(S2))) #4\n",
    "\n",
    "\n",
    "# Memoization\n",
    "# Time complexity: O(n^2), Space Complexity: O(n)\n",
    "def LCSLength(s1, s2, m, n, memo={}):\n",
    "    if m == 0 or n == 0:\n",
    "        return 0\n",
    "    \n",
    "    if (m,n) in memo:\n",
    "        return memo[(m,n)]\n",
    "    \n",
    "    if s1[m-1] == s2[n-1]:\n",
    "        return 1 + LCSLength(s1, s2, m-1, n-1)\n",
    "    \n",
    "    memo[(m, n)] = max(LCSLength(s1, s2, m-1, n), LCSLength(s1, s2, m, n-1))\n",
    "    \n",
    "    return memo[(m,n)]\n",
    "\n",
    "S1 = \"ABCBDAB\"\n",
    "S2 = \"BDCABA\"\n",
    " \n",
    "print(LCSLength(S1, S2, len(S1), len(S2))) #4"
   ]
  },
  {
   "cell_type": "markdown",
   "id": "b23619b1",
   "metadata": {},
   "source": [
    "# More Pizza\n"
   ]
  },
  {
   "cell_type": "code",
   "execution_count": 99,
   "id": "ba136d2a",
   "metadata": {},
   "outputs": [
    {
     "name": "stdout",
     "output_type": "stream",
     "text": [
      "16\n"
     ]
    }
   ],
   "source": [
    "def find_more_pizza(arr, target, idx=0):\n",
    "    if idx == len(arr):\n",
    "        return 0\n",
    "    \n",
    "    if target < 0 or arr[idx] > target:\n",
    "        return 0\n",
    "    \n",
    "    pick_current = arr[idx] + find_more_pizza(arr, target-arr[idx], idx+1)\n",
    "    not_pick_current = find_more_pizza(arr, target, idx+1)\n",
    "    \n",
    "    return max(pick_current, not_pick_current)\n",
    "\n",
    "arr = [2,5,6,8]\n",
    "target = 17\n",
    "\n",
    "print(find_more_pizza(arr, target))"
   ]
  }
 ],
 "metadata": {
  "kernelspec": {
   "display_name": "Python 3 (ipykernel)",
   "language": "python",
   "name": "python3"
  },
  "language_info": {
   "codemirror_mode": {
    "name": "ipython",
    "version": 3
   },
   "file_extension": ".py",
   "mimetype": "text/x-python",
   "name": "python",
   "nbconvert_exporter": "python",
   "pygments_lexer": "ipython3",
   "version": "3.8.9"
  }
 },
 "nbformat": 4,
 "nbformat_minor": 5
}
