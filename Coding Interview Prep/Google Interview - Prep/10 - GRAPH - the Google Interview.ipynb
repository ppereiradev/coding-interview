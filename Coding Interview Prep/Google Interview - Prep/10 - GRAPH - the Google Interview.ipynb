{
 "cells": [
  {
   "cell_type": "markdown",
   "id": "3c072bb4",
   "metadata": {},
   "source": [
    "# GRAPH - the Google Interview\n",
    "\n",
    "https://takeuforward-org.cdn.ampproject.org/c/s/takeuforward.org/interviews/strivers-sde-sheet-top-coding-interview-problems/?amp=1"
   ]
  },
  {
   "cell_type": "markdown",
   "id": "f8294750",
   "metadata": {},
   "source": [
    "# 1 - Clone Graph\n",
    "\n",
    "__Problem Statement__\n",
    "\n",
    "You are given a reference/address of a node in a connected undirected graph containing N nodes and M edges. You are supposed to return a clone of the given graph which is nothing but a deep copy. Each node in the graph contains an integer “data” and an array/list of its neighbours.\n",
    "\n",
    "The structure of the graphNode class is as follows:\n",
    "\n",
    "class graphNode \n",
    "{  \n",
    "    public:\n",
    "    \n",
    "        int data;\n",
    "    \n",
    "        vector<graphNode*> neighbours;\n",
    "}\n",
    "\n",
    "Note :\n",
    "\n",
    "1. Nodes are numbered from 1 to N.\n",
    "\n",
    "2. Your solution will run on multiple test cases. If you are using global variables make sure to clear them.\n",
    "\n",
    "__Input Format :__\n",
    "\n",
    "The first line of input contains an integer 'T' representing the number of the test case. Then the test cases are as follows.\n",
    "\n",
    "The first line of each test case contains a single integer ‘N’ representing the number of nodes in the graph.\n",
    "\n",
    "The second line of each test case contains a single integer ‘M’ representing the number of edges. \n",
    "\n",
    "The next ‘M’ lines in each test case contain two integers ‘U’ and ‘V’ separated by a single space denoting an undirected edge between nodes U and V. \n",
    "Output Format :\n",
    "For each test case, print a single line containing \"true\" if the graph is cloned correctly otherwise it will print \"false\".\n",
    "\n",
    "The output of each test case will be printed in a separate line.\n",
    "\n",
    "__Note :__\n",
    "You do not need to print anything; It has already been taken care of. Just implement the given function.\n",
    "\n",
    "__Sample Input 1 :__\n",
    "\n",
    "2\n",
    "\n",
    "5\n",
    "\n",
    "6\n",
    "\n",
    "1 2\n",
    "\n",
    "4 1\n",
    "\n",
    "2 4\n",
    "\n",
    "3 4\n",
    "\n",
    "5 2\n",
    "\n",
    "1 3\n",
    "\n",
    "3\n",
    "\n",
    "2\n",
    "\n",
    "1 2\n",
    "\n",
    "1 3\n",
    "\n",
    "__Sample Output 1 :__\n",
    "\n",
    "true\n",
    "\n",
    "true\n",
    "\n",
    "__Explanation Of Input 1 :__\n",
    "\n",
    "\n",
    "In the first test case, the returned graph contains 5 nodes and 6 edges which are:\n",
    "\n",
    "1 2\n",
    "\n",
    "4 1\n",
    "\n",
    "2 4\n",
    "\n",
    "3 4\n",
    "\n",
    "5 2\n",
    "\n",
    "1 3\n",
    "\n",
    "Since it is similar to the given graph with different address nodes then the solution is correct.\n",
    "\n",
    "In the second test case, the returned graph contains 3 nodes and 2 edges which are:\n",
    "\n",
    "1 2\n",
    "\n",
    "1 3\n",
    "\n",
    "Since it is similar to the given graph with different address nodes then the solution is correct.\n",
    "\n",
    "__Sample Input 2 :__\n",
    "\n",
    "2\n",
    "\n",
    "5\n",
    "\n",
    "4\n",
    "\n",
    "1 2\n",
    "\n",
    "2 3\n",
    "\n",
    "3 4\n",
    "\n",
    "4 5\n",
    "\n",
    "2\n",
    "\n",
    "1\n",
    "\n",
    "1 2\n",
    "\n",
    "__ample Output 2 :__\n",
    "\n",
    "true\n",
    "\n",
    "true\n",
    "\n",
    "__Explanation Of Input 2 :__\n",
    "\n",
    "\n",
    "In the first test case, the returned graph contains 5 nodes and 4 edges which are:\n",
    "\n",
    "1 2\n",
    "\n",
    "2 3\n",
    "\n",
    "3 4\n",
    "\n",
    "4 5\n",
    "\n",
    "Since it is similar to the given graph with different address nodes then the solution is correct.\n",
    "\n",
    "In the second test case, the returned graph contains 2 nodes and 1 edge which is:\n",
    "\n",
    "1 2\n",
    "\n",
    "Since it is similar to the given graph with different address nodes then the solution is correct."
   ]
  },
  {
   "cell_type": "code",
   "execution_count": 1,
   "id": "fec02b56",
   "metadata": {},
   "outputs": [
    {
     "data": {
      "text/plain": [
       "{'A': ['B', 'C', 'D', 'E'],\n",
       " 'B': ['A', 'D'],\n",
       " 'C': ['A'],\n",
       " 'D': ['A', 'B'],\n",
       " 'E': ['A']}"
      ]
     },
     "execution_count": 1,
     "metadata": {},
     "output_type": "execute_result"
    }
   ],
   "source": [
    "graph = {\"A\":[\"B\", \"C\", \"D\", \"E\"],\n",
    "         \"B\":[\"A\", \"D\"],\n",
    "         \"C\":[\"A\"],\n",
    "         \"D\":[\"A\", \"B\"],\n",
    "         \"E\":[\"A\"],\n",
    "        }\n",
    "graph"
   ]
  },
  {
   "cell_type": "code",
   "execution_count": 2,
   "id": "80516093",
   "metadata": {},
   "outputs": [],
   "source": [
    "'''\n",
    "Definition for Node:\n",
    "\n",
    "class Node:\n",
    "    def __init__(self, val):\n",
    "        self.val = val\n",
    "        self.neighbours = []\n",
    "\n",
    "'''\n",
    "\n",
    "def copy_graph(node):\n",
    "    \n",
    "    def dfs(node):\n",
    "        if node in old_to_new:\n",
    "            return old_to_new[node]\n",
    "        \n",
    "        copy = Node(node.val)\n",
    "        old_to_new[node] = copy\n",
    "        \n",
    "        for nei in node.neighbours:\n",
    "            copy.neighbours.append(dfs(nei))\n",
    "            \n",
    "        return copy\n",
    "    \n",
    "    old_to_new = {}\n",
    "    return dfs(node) if node else None "
   ]
  },
  {
   "cell_type": "code",
   "execution_count": 5,
   "id": "b5af63b1",
   "metadata": {},
   "outputs": [
    {
     "data": {
      "text/plain": [
       "({'A': ['A', 'D'], 'B': ['A', 'D'], 'C': ['A'], 'D': ['A', 'B'], 'E': ['A']},\n",
       " {'A': ['B', 'C', 'D', 'E'],\n",
       "  'B': ['A', 'D'],\n",
       "  'C': ['A'],\n",
       "  'D': ['A', 'B'],\n",
       "  'E': ['A']})"
      ]
     },
     "execution_count": 5,
     "metadata": {},
     "output_type": "execute_result"
    }
   ],
   "source": [
    "cp = copy_graph(graph)\n",
    "cp[\"A\"] = cp[\"B\"]\n",
    "cp, graph"
   ]
  },
  {
   "cell_type": "markdown",
   "id": "a4de837f",
   "metadata": {},
   "source": [
    "# 2 - Depth First Search (DFS) traversal : Graph\n",
    "\n",
    "__Problem Statement:__ Given a graph, traverse through all the nodes in the graph using Depth First Search.\n",
    "\n",
    "__Example:__\n",
    "\n",
    "__Input:__\n",
    "\n",
    "\n",
    "![iamge_2](https://lh4.googleusercontent.com/XjzThzsou-s8CFJIosKFqqMmcez3dc4pEFx3m8YPyTx-lAco0Dadvbmt6-7D41UGu6i5UnILrq8HepCqJedzLJAhn50cGYPXiWfdALCUM1e_LmhtRFpPAtNWnSGT4UEbnokgdlgN)\n",
    "\n",
    "\n",
    "__Output:__ 2 4 1 3 5 \n",
    "\n",
    "__Explanation:__ Note: For above I/P we started DFS from Node 2,We can start from any node."
   ]
  },
  {
   "cell_type": "code",
   "execution_count": 92,
   "id": "17828b40",
   "metadata": {},
   "outputs": [],
   "source": [
    "graph = {\"A\":[\"B\", \"C\", \"D\", \"E\"],\n",
    "         \"B\":[\"A\", \"D\"],\n",
    "         \"C\":[\"A\"],\n",
    "         \"D\":[\"A\", \"B\"],\n",
    "         \"E\":[\"A\"],\n",
    "        }"
   ]
  },
  {
   "cell_type": "code",
   "execution_count": 123,
   "id": "ff94d448",
   "metadata": {},
   "outputs": [],
   "source": [
    "def depth_first_search(graph, root):\n",
    "    def dfs(node):\n",
    "        if node in visited:\n",
    "            return\n",
    "        \n",
    "        visited.append(node)\n",
    "        \n",
    "        for nei in graph[node]:\n",
    "            dfs(nei)\n",
    "            \n",
    "    visited = []\n",
    "    dfs(root)\n",
    "    \n",
    "    return visited"
   ]
  },
  {
   "cell_type": "code",
   "execution_count": 124,
   "id": "e33aab69",
   "metadata": {},
   "outputs": [
    {
     "data": {
      "text/plain": [
       "['A', 'B', 'D', 'C', 'E']"
      ]
     },
     "execution_count": 124,
     "metadata": {},
     "output_type": "execute_result"
    }
   ],
   "source": [
    "depth_first_search(graph, \"A\")"
   ]
  },
  {
   "cell_type": "code",
   "execution_count": 127,
   "id": "8908e699",
   "metadata": {},
   "outputs": [],
   "source": [
    "def depth_first_search_iter(graph, root):\n",
    "    stack = []\n",
    "    visited = []\n",
    "    \n",
    "    stack.append(root)\n",
    "    visited.append(root)\n",
    "    \n",
    "    while len(stack) > 0:\n",
    "        node = stack.pop()\n",
    "        if node not in visited:\n",
    "            visited.append(node)\n",
    "\n",
    "        for i in range(len(graph[node])-1 ,-1, -1):\n",
    "            if graph[node][i] not in visited:\n",
    "                stack.append(graph[node][i])\n",
    "    \n",
    "    return visited"
   ]
  },
  {
   "cell_type": "code",
   "execution_count": 128,
   "id": "e4230bfe",
   "metadata": {},
   "outputs": [
    {
     "data": {
      "text/plain": [
       "['A', 'B', 'D', 'C', 'E']"
      ]
     },
     "execution_count": 128,
     "metadata": {},
     "output_type": "execute_result"
    }
   ],
   "source": [
    "depth_first_search_iter(graph, \"A\")"
   ]
  },
  {
   "cell_type": "markdown",
   "id": "d4fe4cf5",
   "metadata": {},
   "source": [
    "# 3 - Breadth First Search (BFS) traversal : Graph\n",
    "\n",
    "__Problem Statement:__ Given a graph, traverse through all the nodes in the graph using Breadth First Search.\n",
    "\n",
    "__Example:__\n",
    "\n",
    "__Input:__\n",
    "\n",
    "\n",
    "![iamge_2](https://lh4.googleusercontent.com/XjzThzsou-s8CFJIosKFqqMmcez3dc4pEFx3m8YPyTx-lAco0Dadvbmt6-7D41UGu6i5UnILrq8HepCqJedzLJAhn50cGYPXiWfdALCUM1e_LmhtRFpPAtNWnSGT4UEbnokgdlgN)\n",
    "\n",
    "\n",
    "__Output:__ 2 4 1 3 5 \n",
    "\n",
    "__Explanation:__ Note: For above I/P we started DFS from Node 2,We can start from any node."
   ]
  },
  {
   "cell_type": "code",
   "execution_count": 125,
   "id": "d617f520",
   "metadata": {},
   "outputs": [],
   "source": [
    "from collections import deque\n",
    "\n",
    "def breadth_first_search(graph, root):\n",
    "    dq = deque()\n",
    "    visited = []\n",
    "    \n",
    "    dq.append(root)\n",
    "    visited.append(root)\n",
    "    \n",
    "    while len(dq) > 0:\n",
    "        node = dq.popleft()\n",
    "\n",
    "        for nei in graph[node]:\n",
    "            if nei not in visited:\n",
    "                dq.append(nei)\n",
    "                visited.append(nei)\n",
    "    \n",
    "    return visited"
   ]
  },
  {
   "cell_type": "code",
   "execution_count": 126,
   "id": "6cfe32fb",
   "metadata": {},
   "outputs": [
    {
     "data": {
      "text/plain": [
       "['A', 'B', 'C', 'D', 'E']"
      ]
     },
     "execution_count": 126,
     "metadata": {},
     "output_type": "execute_result"
    }
   ],
   "source": [
    "breadth_first_search(graph, \"A\")"
   ]
  },
  {
   "cell_type": "code",
   "execution_count": 66,
   "id": "44fb2b10",
   "metadata": {},
   "outputs": [],
   "source": [
    "def breadth_first_search(graph, root):\n",
    "    visited_vertices = []\n",
    "    graph_queue = deque()\n",
    "    graph_queue.append(root)\n",
    "    visited_vertices.append(root)\n",
    "    \n",
    "    while len(graph_queue) > 0:\n",
    "        vertex = graph_queue.popleft()\n",
    "        adj_nodes = graph[vertex]\n",
    "        \n",
    "        remaining_elements = set(adj_nodes).difference(set(visited_vertices))\n",
    "        if len(remaining_elements) > 0:\n",
    "            for elem in sorted(remaining_elements):\n",
    "                visited_vertices.append(elem)\n",
    "                graph_queue.append(elem)\n",
    "    \n",
    "    return visited_vertices"
   ]
  },
  {
   "cell_type": "code",
   "execution_count": 67,
   "id": "9fb88f4c",
   "metadata": {},
   "outputs": [
    {
     "data": {
      "text/plain": [
       "['A', 'B', 'C', 'D', 'E']"
      ]
     },
     "execution_count": 67,
     "metadata": {},
     "output_type": "execute_result"
    }
   ],
   "source": [
    "breadth_first_search(graph, \"A\")"
   ]
  },
  {
   "cell_type": "markdown",
   "id": "09a56c1a",
   "metadata": {},
   "source": [
    "# 4 - Detect a cycle in Undirected Graph : Breadth-First Search\n",
    "\n",
    "__Problem Statement:__ Given an undirected Graph, check for a cycle using BFS (Breadth-First Search) Traversal.\n",
    "\n",
    "__Example:__\n",
    "\n",
    "__Input:__\n",
    "\n",
    "![image_4_1](https://lh5.googleusercontent.com/OrIPWua8Jwap9ip5mkiYVQXfBSH0wjAI94kWZQ76T4jF2b5uEdzeeLoZvwcfd3ujmZD-VJmCGnfAjqTz0UPRcnmUlSISw6ZjXydw2Ck_N0aag6DW62GZYnOz_aJcnG3O0u78WVTd)\n",
    "\n",
    "\n",
    "__Output: Yes__\n",
    "\n",
    "Explanation:\n",
    "\n",
    "![inmage_4_2](https://lh6.googleusercontent.com/JUV3lmnJY_f4l2W2Lxq4cbY57MK1uKfOWIVl8Yy-n2xou1DmMYFHeqdJV_1Gs6tKeBt9_xTqzAbi6s2gFBGuOBwoxwoqe0fbG4EHujK5xt8sddYV8xl9giF797cZ7RnztxrVAOWU)\n",
    "\n",
    "\n",
    "Since 8 is a point where loop is formed"
   ]
  },
  {
   "cell_type": "code",
   "execution_count": 150,
   "id": "c995578a",
   "metadata": {},
   "outputs": [],
   "source": [
    "from collections import deque\n",
    "\n",
    "def breadth_first_search(graph, root):\n",
    "    visited = []\n",
    "    queue = deque()\n",
    "    \n",
    "    visited.append(root)\n",
    "    queue.append((root, None))\n",
    "    \n",
    "    for component in graph:\n",
    "        if component not in visited:\n",
    "            visited.append(component)\n",
    "            queue.append((component, None))\n",
    "            \n",
    "        while len(queue) > 0:\n",
    "            node, prev = queue.popleft()\n",
    "\n",
    "            for nei in graph[node]:\n",
    "                if nei not in visited:\n",
    "                    queue.append((nei, node))\n",
    "                    visited.append(nei)\n",
    "                elif prev != nei:\n",
    "                    return True\n",
    "        \n",
    "    return False"
   ]
  },
  {
   "cell_type": "code",
   "execution_count": 151,
   "id": "b303c905",
   "metadata": {},
   "outputs": [
    {
     "data": {
      "text/plain": [
       "True"
      ]
     },
     "execution_count": 151,
     "metadata": {},
     "output_type": "execute_result"
    }
   ],
   "source": [
    "graph = {\n",
    "    1: [2],\n",
    "    2: [1, 4],\n",
    "    3: [5], \n",
    "    4: [2],\n",
    "    5: [6, 10],\n",
    "    6: [5, 7],\n",
    "    7: [6, 8],\n",
    "    8: [7, 9, 11],\n",
    "    9: [8, 10],\n",
    "    10: [5, 9],\n",
    "    11: [8],\n",
    "}\n",
    "\n",
    "breadth_first_search(graph, 1)"
   ]
  },
  {
   "cell_type": "markdown",
   "id": "66a6114f",
   "metadata": {},
   "source": [
    "# 5 - Cycle Detection in Undirected Graph using DFS\n",
    "\n",
    "__Problem Statement:__ Given an undirected graph with V vertices and E edges, check whether it contains any cycle or not.\n",
    "\n",
    "\n",
    "__Example 1:__\n",
    "\n",
    "__Input:__\n",
    "\n",
    "![image_5_1](https://lh6.googleusercontent.com/mu1aVhgNq6DRoHlAVRwwUWWewfqzENTCNq3WaViQx6iaKNnrtTpyn-5f17XX5hWHPRIo4m_FJE8y1-554nJoHJ7037JEDNKudKRcFAEXg5CDjmegITRo9z6DtSzCnCmI0e19Dk6o)\n",
    "\n",
    "Output: Cycle Detected\n",
    "\n",
    "__Example 2:__\n",
    "\n",
    "__Input:__\n",
    "\n",
    "![image_5_2](https://lh3.googleusercontent.com/BMNkC428GoivekmE_enxdYGdbp_14jnK6n-4TQUxRjDl5gm-QZXMITJrLtvZQfimdJ2DTeSf8dChx8fJOzA8YwPA3OPQ62YQ_5qCDUVwc3BPU8iXPJSwD9rM4FKw83DlCRyGhNEb)\n",
    "\n",
    "\n",
    "Output: No Cycle Detected\n"
   ]
  },
  {
   "cell_type": "code",
   "execution_count": 157,
   "id": "494e92f0",
   "metadata": {},
   "outputs": [],
   "source": [
    "def depth_first_search(graph, root):\n",
    "    visited = []\n",
    "    stack = []\n",
    "    \n",
    "    for component in graph:\n",
    "        if component not in visited:\n",
    "            visited.append(component)\n",
    "            stack.append((component, None))\n",
    "            \n",
    "        while len(stack) > 0:\n",
    "            node, prev = stack.pop()\n",
    "            \n",
    "            if node not in visited:\n",
    "                visited.append(node)\n",
    "            \n",
    "            for idx in range(len(graph[node])-1, -1, -1):\n",
    "                if graph[node][idx] not in visited:\n",
    "                    stack.append((graph[node][idx], node))\n",
    "                elif graph[node][idx] != prev:\n",
    "                    return True\n",
    "                \n",
    "    return False"
   ]
  },
  {
   "cell_type": "code",
   "execution_count": 160,
   "id": "b25de145",
   "metadata": {},
   "outputs": [
    {
     "data": {
      "text/plain": [
       "True"
      ]
     },
     "execution_count": 160,
     "metadata": {},
     "output_type": "execute_result"
    }
   ],
   "source": [
    "graph = {\n",
    "    1: [2],\n",
    "    2: [1, 4],\n",
    "    3: [5], \n",
    "    4: [2],\n",
    "    5: [6, 10],\n",
    "    6: [5, 7],\n",
    "    7: [6, 8],\n",
    "    8: [7, 9, 11],\n",
    "    9: [8, 10],\n",
    "    10: [5, 9],\n",
    "    11: [8],\n",
    "}\n",
    "\n",
    "depth_first_search(graph, 1)"
   ]
  },
  {
   "cell_type": "markdown",
   "id": "a65238c6",
   "metadata": {},
   "source": [
    "# 6 - Find Number Of Islands\n",
    "\n",
    "__Problem Statement__\n",
    "\n",
    "You are given a 2-dimensional array/list having N rows and M columns, which is filled with ones(1) and zeroes(0). 1 signifies land, and 0 signifies water.\n",
    "A cell is said to be connected to another cell, if one cell lies immediately next to the other cell, in any of the eight directions (two vertical, two horizontal, and four diagonals).\n",
    "A group of connected cells having value 1 is called an island. Your task is to find the number of such islands present in the matrix.\n",
    "\n",
    "__Input Format :__\n",
    "\n",
    "The first line of input contains two integer values, 'N' and 'M', separated by a single space. They represent the 'rows' and 'columns' respectively, for the two-dimensional array/list.\n",
    "\n",
    "The second line onwards, the next 'N' lines or rows represent the ith row values.\n",
    "\n",
    "Each of the i-th row constitutes 'M' column values separated by a single space.\n",
    "\n",
    "__Output Format :__\n",
    "The only line of output prints the number of islands present in the 2-dimensional array.\n",
    "\n",
    "__Note :__\n",
    "You are not required to print anything explicitly, it has already been taken care of. Implement the function and return the desired output.\n",
    "\n",
    "__Sample Input 1 :__\n",
    "\n",
    "4 5\n",
    "\n",
    "0 1 1 0 0\n",
    "\n",
    "1 0 0 1 0\n",
    "\n",
    "0 0 1 0 0\n",
    "\n",
    "1 0 0 0 1\n",
    "\n",
    "__Sample Output 1 :__\n",
    "3\n",
    "\n",
    "__Explanation For Sample Input 1 :__\n",
    "The first island of connected 1s is signified by: {0, 1}, {0, 2}, {1, 0}, {1, 3}, {2, 2}.\n",
    "\n",
    "The second island being: {3, 0}.\n",
    "\n",
    "The third island being: {3, 4}.\n",
    "\n",
    "\n",
    "__Sample Input 2 :__\n",
    "\n",
    "4 4\n",
    "\n",
    "1 0 0 1\n",
    "\n",
    "0 1 1 0\n",
    "\n",
    "0 1 1 0\n",
    "\n",
    "1 0 0 1\n",
    "\n",
    "__Sample Output 2 :__\n",
    "1"
   ]
  },
  {
   "cell_type": "code",
   "execution_count": 251,
   "id": "c3b5e118",
   "metadata": {},
   "outputs": [],
   "source": [
    "\"\"\"\n",
    "\n",
    "0 1 1 0 0\n",
    "\n",
    "1 0 0 1 0\n",
    "\n",
    "0 0 1 0 0\n",
    "\n",
    "1 0 0 0 1\n",
    "\n",
    "\n",
    "(0,1), (0,2), (1,0), (1,3), (2,2), (3,0), (3,4)\n",
    "\n",
    "\n",
    "\"\"\"\n",
    "def not_valid(grid, row, col, visited):\n",
    "    \n",
    "    row_inbound = 0 <= row and row < len(grid)\n",
    "    col_inbound = 0 <= col and col < len(grid[0])\n",
    "\n",
    "    if not (row_inbound and col_inbound):\n",
    "        return True\n",
    "    \n",
    "    if (row, col) in visited:\n",
    "        return True\n",
    "    \n",
    "    if grid[row][col] == 0:\n",
    "        return True\n",
    "    \n",
    "    return False\n",
    "    \n",
    "\n",
    "def explore_islands(grid, row, col, visited):\n",
    "    if not_valid(grid, row, col, visited):\n",
    "        return False\n",
    "    \n",
    "    visited.add((row, col))\n",
    "    steps = [(-1,0),(0,1),(1,0),(0,-1)]\n",
    "    \n",
    "    for next_row, next_col in steps:\n",
    "        row += next_row\n",
    "        col += next_col\n",
    "        explore_islands(grid, row, col, visited)\n",
    "        row -= next_row\n",
    "        col -= next_col\n",
    "        \n",
    "    \n",
    "    return True\n",
    "\n",
    "def count_island(grid):\n",
    "    visited = set()\n",
    "    count = 0\n",
    "    \n",
    "    for row in range(len(grid)):\n",
    "        for col in range(len(grid[row])):\n",
    "            if explore_islands(grid, row, col, visited):\n",
    "                count += 1\n",
    "                \n",
    "    return count"
   ]
  },
  {
   "cell_type": "code",
   "execution_count": 252,
   "id": "207b7200",
   "metadata": {},
   "outputs": [
    {
     "data": {
      "text/plain": [
       "4"
      ]
     },
     "execution_count": 252,
     "metadata": {},
     "output_type": "execute_result"
    }
   ],
   "source": [
    "matrix = [\n",
    "    [0, 1, 1, 1, 0],\n",
    "    [1, 1, 0, 1, 0],\n",
    "    [0, 0, 1, 0, 0],\n",
    "    [1, 0, 0, 1, 1]\n",
    "]\n",
    "\n",
    "count_island(matrix)"
   ]
  },
  {
   "cell_type": "markdown",
   "id": "b4de7d3d",
   "metadata": {},
   "source": [
    "# 7 - Remove Black Island Pixels"
   ]
  },
  {
   "cell_type": "code",
   "execution_count": 339,
   "id": "9172774b",
   "metadata": {},
   "outputs": [],
   "source": [
    "\"\"\"\n",
    "\n",
    "input:\n",
    "\n",
    "0 1 1 0 0\n",
    "\n",
    "1 0 0 1 0\n",
    "\n",
    "0 0 1 0 0\n",
    "\n",
    "1 0 0 0 1\n",
    "\n",
    "\n",
    "output:\n",
    "\n",
    "0 1 1 0 0\n",
    "\n",
    "1 0 0 0 0\n",
    "\n",
    "0 0 0 0 0\n",
    "\n",
    "1 0 0 0 1\n",
    "\n",
    "\n",
    "\"\"\"\n",
    "def not_valid(grid, row, col, visited):\n",
    "    \n",
    "    row_inbound = 0 <= row and row < len(grid)\n",
    "    col_inbound = 0 <= col and col < len(grid[0])\n",
    "\n",
    "    if not (row_inbound and col_inbound):\n",
    "        return True\n",
    "    \n",
    "    if (row, col) in visited:\n",
    "        return True\n",
    "    \n",
    "    if grid[row][col] == 0:\n",
    "        return True\n",
    "    \n",
    "    return False\n",
    "    \n",
    "\n",
    "def explore_border(grid, row, col, visited):\n",
    "    if not_valid(grid, row, col, visited):\n",
    "        return False\n",
    "    \n",
    "    visited.add((row, col))\n",
    "    steps = [(-1,0),(0,1),(1,0),(0,-1)]\n",
    "    \n",
    "    for next_row, next_col in steps:\n",
    "        row += next_row\n",
    "        col += next_col\n",
    "        explore_border(grid, row, col, visited)\n",
    "        row -= next_row\n",
    "        col -= next_col\n",
    "        \n",
    "    \n",
    "    return True\n",
    "\n",
    "\n",
    "def get_all_black(grid):\n",
    "    result = []\n",
    "    \n",
    "    for row in range(len(grid)):\n",
    "        for col in range(len(grid[0])):\n",
    "            if grid[row][col] == 1:\n",
    "                result.append((row, col))\n",
    "                \n",
    "    return result\n",
    "\n",
    "def count_island(grid):\n",
    "    visited = set()\n",
    "    count = 0\n",
    "    \n",
    "    all_black = get_all_black(grid)\n",
    "    \n",
    "    direction = [(0, 1), (1, 0), (0, -1), (-1, 0)]\n",
    "    dir_idx = 0\n",
    "    \n",
    "    row = col = 0\n",
    "\n",
    "    for border in range(4*(len(grid) + len(grid[0]) - 2)):\n",
    "        \n",
    "        explore_border(grid, row, col, visited)\n",
    "        \n",
    "        aux_row = row + direction[dir_idx][0]\n",
    "        aux_col = col + direction[dir_idx][1]\n",
    "\n",
    "        if 0 <= aux_row and aux_row < len(grid) and 0 <= aux_col and aux_col < len(grid[0]):\n",
    "            row = aux_row\n",
    "            col = aux_col\n",
    "        else:\n",
    "            dir_idx = (dir_idx + 1) % 4\n",
    "            row += direction[dir_idx][0]\n",
    "            col += direction[dir_idx][1]\n",
    "    \n",
    "    black_island = set(all_black).difference(visited)\n",
    "    \n",
    "    for row, col in black_island:\n",
    "        grid[row][col] = 0\n",
    "        \n",
    "    return grid"
   ]
  },
  {
   "cell_type": "code",
   "execution_count": 338,
   "id": "d82e1726",
   "metadata": {},
   "outputs": [
    {
     "data": {
      "text/plain": [
       "[[0, 1, 1, 0, 0], [1, 0, 0, 0, 0], [0, 0, 0, 0, 0], [1, 0, 0, 1, 1]]"
      ]
     },
     "execution_count": 338,
     "metadata": {},
     "output_type": "execute_result"
    }
   ],
   "source": [
    "matrix = [\n",
    "    [0, 1, 1, 0, 0],\n",
    "    [1, 0, 0, 1, 0],\n",
    "    [0, 1, 1, 0, 0],\n",
    "    [1, 0, 0, 1, 1]\n",
    "]\n",
    "\n",
    "count_island(matrix)"
   ]
  },
  {
   "cell_type": "markdown",
   "id": "348f714a",
   "metadata": {},
   "source": [
    "# 8 - Shortest path in an undirected graph with bfs\n",
    "\n",
    "\n",
    "![inmage_7_1](https://lh6.googleusercontent.com/JUV3lmnJY_f4l2W2Lxq4cbY57MK1uKfOWIVl8Yy-n2xou1DmMYFHeqdJV_1Gs6tKeBt9_xTqzAbi6s2gFBGuOBwoxwoqe0fbG4EHujK5xt8sddYV8xl9giF797cZ7RnztxrVAOWU)"
   ]
  },
  {
   "cell_type": "code",
   "execution_count": 335,
   "id": "2d7869ea",
   "metadata": {},
   "outputs": [],
   "source": [
    "from collections import deque \n",
    "\n",
    "def shortest_path(graph, root):\n",
    "    dist = {x:float(\"inf\") for x in graph}\n",
    "    dist[root] = 0\n",
    "    visited = []\n",
    "    dq = deque()\n",
    "    \n",
    "    for comp in graph:\n",
    "        if comp not in visited:\n",
    "            visited.append(comp)\n",
    "            dq.append(comp)\n",
    "            dist[comp] = 0\n",
    "            \n",
    "        while len(dq) > 0:\n",
    "            node = dq.popleft()\n",
    "\n",
    "            for nei in graph[node]:\n",
    "                if dist[nei] > dist[node] + 1:\n",
    "                    dist[nei] = dist[node] + 1\n",
    "                if nei not in visited:\n",
    "                    visited.append(nei)\n",
    "                    dq.append(nei)\n",
    "                    \n",
    "    return dist    "
   ]
  },
  {
   "cell_type": "code",
   "execution_count": 336,
   "id": "250a521e",
   "metadata": {},
   "outputs": [
    {
     "data": {
      "text/plain": [
       "{1: 0, 2: 1, 3: 0, 4: 2, 5: 1, 6: 2, 7: 3, 8: 4, 9: 3, 10: 2, 11: 5}"
      ]
     },
     "execution_count": 336,
     "metadata": {},
     "output_type": "execute_result"
    }
   ],
   "source": [
    "graph = {\n",
    "    1: [2],\n",
    "    2: [1, 4],\n",
    "    3: [5], \n",
    "    4: [2],\n",
    "    5: [6, 10],\n",
    "    6: [5, 7],\n",
    "    7: [6, 8],\n",
    "    8: [7, 9, 11],\n",
    "    9: [8, 10],\n",
    "    10: [5, 9],\n",
    "    11: [8],\n",
    "}\n",
    "\n",
    "shortest_path(graph, 1)"
   ]
  },
  {
   "cell_type": "markdown",
   "id": "e667bc94",
   "metadata": {},
   "source": [
    "# NEW EXERCISES - FROM GITHUB\n",
    "\n",
    "https://github.com/ombharatiya/FAANG-Coding-Interview-Questions#google-top-50"
   ]
  },
  {
   "cell_type": "markdown",
   "id": "802d230e",
   "metadata": {},
   "source": [
    "# 9 - Route Between Nodes\n",
    "\n",
    "Given a directed graph, design an algorithm to find out whether there is a route between two nodes."
   ]
  },
  {
   "cell_type": "code",
   "execution_count": 23,
   "id": "ed136086",
   "metadata": {},
   "outputs": [],
   "source": [
    "from collections import deque\n",
    "\n",
    "# adjacency list - BFS\n",
    "def find_route(graph, src, dst):\n",
    "    queue = deque()\n",
    "    queue.append(src)\n",
    "    \n",
    "    visited = set()\n",
    "    visited.add(src)\n",
    "    \n",
    "    while len(queue) > 0:\n",
    "        node = queue.popleft()\n",
    "        \n",
    "        for node in graph[node]:\n",
    "            if node not in visited:\n",
    "                visited.add(node)\n",
    "                queue.append(node)\n",
    "                if node == dst:\n",
    "                    return True\n",
    "    print(\"There is no route between {} and {}\".format(src, dst))\n",
    "    return False"
   ]
  },
  {
   "cell_type": "code",
   "execution_count": 24,
   "id": "5833c6fd",
   "metadata": {},
   "outputs": [
    {
     "data": {
      "text/plain": [
       "True"
      ]
     },
     "execution_count": 24,
     "metadata": {},
     "output_type": "execute_result"
    }
   ],
   "source": [
    "graph = {\n",
    "    \"A\": [\"B\", \"B\"],\n",
    "    \"B\": [\"A\", \"C\"],\n",
    "    \"C\": [\"D\"],\n",
    "    \"D\": [\"E\"],\n",
    "    \"E\": [\"F\"],\n",
    "    \"F\": [\"E\"],\n",
    "}\n",
    "\n",
    "find_route(graph, \"A\", \"E\")"
   ]
  },
  {
   "cell_type": "markdown",
   "id": "95858b5a",
   "metadata": {},
   "source": [
    "# 10 - Detect a cycle in a directed graph"
   ]
  },
  {
   "cell_type": "code",
   "execution_count": 132,
   "id": "9705aceb",
   "metadata": {},
   "outputs": [],
   "source": [
    "def dfs(node, graph, visited):\n",
    "    if node in visited:\n",
    "        return True\n",
    "    \n",
    "    visited.add(node)\n",
    "    for i in graph[node]:\n",
    "        if dfs(i, graph, visited):\n",
    "            return True\n",
    "    \n",
    "    visited.remove(node)\n",
    "    return False\n",
    "\n",
    "def has_cycle(graph):\n",
    "    visited = set()\n",
    "    result  = False\n",
    "    \n",
    "    for node in graph:\n",
    "        result = dfs(node, graph, visited)\n",
    "        \n",
    "    return result"
   ]
  },
  {
   "cell_type": "code",
   "execution_count": 140,
   "id": "516685fd",
   "metadata": {},
   "outputs": [
    {
     "data": {
      "text/plain": [
       "True"
      ]
     },
     "execution_count": 140,
     "metadata": {},
     "output_type": "execute_result"
    }
   ],
   "source": [
    "\"\"\"\n",
    "      -> b <- - - - - \n",
    "    /    |   \\        \\\n",
    "a ->     v     -> d -> e\n",
    "    \\    |   /\n",
    "      -> c - \n",
    "\n",
    "\"\"\"\n",
    "graph = {\n",
    "    \"A\": [\"B\", \"C\"],\n",
    "    \"B\": [\"C\", \"D\"],\n",
    "    \"C\": [\"D\"],\n",
    "    \"D\": [\"E\"],\n",
    "    \"E\": [\"A\"],\n",
    "}\n",
    "\n",
    "has_cycle(graph)"
   ]
  },
  {
   "cell_type": "markdown",
   "id": "dc5b0db4",
   "metadata": {},
   "source": [
    "# 11 - Topological Sorting"
   ]
  },
  {
   "cell_type": "code",
   "execution_count": 160,
   "id": "7767fca6",
   "metadata": {},
   "outputs": [],
   "source": [
    "def dfs(node, graph, visited, stack):\n",
    "    visited.add(node)\n",
    "    for i in graph[node]:\n",
    "        if i not in visited:\n",
    "            dfs(i, graph, visited, stack)\n",
    "    stack.append(node)\n",
    "    \n",
    "def sort_topological(graph):\n",
    "    stack   = []\n",
    "    visited = set()\n",
    "    \n",
    "    for node in graph:\n",
    "        if node not in visited:\n",
    "            dfs(node, graph, visited, stack)\n",
    "            \n",
    "    return [stack[i] for i in range(len(stack)-1, -1, -1)]"
   ]
  },
  {
   "cell_type": "code",
   "execution_count": 164,
   "id": "27477be5",
   "metadata": {},
   "outputs": [
    {
     "data": {
      "text/plain": [
       "['A', 'B', 'C', 'D', 'E']"
      ]
     },
     "execution_count": 164,
     "metadata": {},
     "output_type": "execute_result"
    }
   ],
   "source": [
    "\"\"\"\n",
    "      -> b -\n",
    "    /    |   \\        \n",
    "a ->     v     -> d -> e\n",
    "    \\    |   /\n",
    "      -> c - \n",
    "\n",
    "\"\"\"\n",
    "graph = {\n",
    "    \"D\": [\"E\"],\n",
    "    \"A\": [\"B\", \"C\"],\n",
    "    \"E\": [],\n",
    "    \"B\": [\"C\", \"D\"],\n",
    "    \"C\": [\"D\"],\n",
    "}\n",
    "\n",
    "sort_topological(graph)"
   ]
  },
  {
   "cell_type": "markdown",
   "id": "ad33bc11",
   "metadata": {},
   "source": [
    "# 12 - Build Order\n",
    "\n",
    "You are given a list of projects and a list of dependencies (which is a list of pairs of projects, where the second project is dependent on the first project). All of a project's dependencies must be built before the project is. Find a build order that will allow the projects to be built. If there is no valid build order, return an error.\n",
    "\n",
    "__EXAMPLE__\n",
    "\n",
    "__Input:__\n",
    "\n",
    "projects: a, b, c, d, e, f\n",
    "\n",
    "dependencies: (a, d), (f, b), (b, d), (f, a), (d, c)\n",
    "\n",
    "Output: f, e, a, b, d, c"
   ]
  },
  {
   "cell_type": "code",
   "execution_count": 120,
   "id": "79848325",
   "metadata": {},
   "outputs": [],
   "source": [
    "\"\"\"\n",
    "a -> d\n",
    "\n",
    "f -> b\n",
    "f -> a\n",
    "\n",
    "b -> d\n",
    "\n",
    "d -> c\n",
    "\n",
    "c -> None\n",
    "\n",
    "\"\"\"\n",
    "from collections import deque\n",
    "\n",
    "def create_graph(nodes, edges):\n",
    "    adjacency_list = {i:[] for i in nodes}\n",
    "    \n",
    "    for src, dst in dependencies:\n",
    "        adjacency_list[src].append(dst)\n",
    "    \n",
    "    return adjacency_list\n",
    "\n",
    "def build_order_bfs(projects, dependencies):\n",
    "    project_map = create_graph(projects, dependencies)\n",
    "    \n",
    "    queue = deque()\n",
    "    path = {}\n",
    "    \n",
    "    for project in project_map:\n",
    "        queue.append(project)\n",
    "        visited = []\n",
    "        visited.append(project)\n",
    "        \n",
    "        while len(queue) > 0:\n",
    "            node = queue.popleft()\n",
    "\n",
    "            if len(project_map[node]) > 0:\n",
    "                for i in project_map[node]:\n",
    "                    if i not in visited:\n",
    "                        visited.append(i)\n",
    "                        queue.append(i)\n",
    "            else:\n",
    "                path[project] = visited[1:]\n",
    "        \n",
    "    if len(path) == 0:\n",
    "        raise Exception(\"Project cannot be built\")\n",
    "        \n",
    "    return path\n",
    "\n",
    "\n",
    "def build_order_dfs(projects, dependencies):\n",
    "    def depth_search_first(project_map, node, visited):\n",
    "        if node in visited:\n",
    "            return False\n",
    "        if project_map[node] == []:\n",
    "            return True\n",
    "        \n",
    "        visited.add(node)\n",
    "        \n",
    "        for i in project_map[node]:\n",
    "            if not depth_search_first(project_map, i, visited):\n",
    "                return False\n",
    "            \n",
    "        visited.remove(node)\n",
    "        project_map[node] = []\n",
    "        \n",
    "        return True\n",
    "    \n",
    "    project_map = create_graph(projects, dependencies)\n",
    "    visited = set()\n",
    "    \n",
    "    for project in projects:\n",
    "        if not depth_search_first(project_map, project, visited):\n",
    "            return False\n",
    "\n",
    "    return True"
   ]
  },
  {
   "cell_type": "code",
   "execution_count": 122,
   "id": "86eb9897",
   "metadata": {},
   "outputs": [
    {
     "data": {
      "text/plain": [
       "({'a': ['d', 'c'],\n",
       "  'b': ['d', 'c'],\n",
       "  'c': [],\n",
       "  'd': ['c'],\n",
       "  'e': [],\n",
       "  'f': ['b', 'a', 'd', 'c']},\n",
       " True)"
      ]
     },
     "execution_count": 122,
     "metadata": {},
     "output_type": "execute_result"
    }
   ],
   "source": [
    "projects = [\"a\",\"b\", \"c\", \"d\", \"e\", \"f\"]\n",
    "dependencies = [(\"a\", \"d\"), (\"f\", \"b\"), (\"b\", \"d\"), (\"f\", \"a\"), (\"d\", \"c\")]\n",
    "\n",
    "build_order_bfs(projects, dependencies), build_order_dfs(projects, dependencies)"
   ]
  },
  {
   "cell_type": "code",
   "execution_count": 129,
   "id": "ce257289",
   "metadata": {},
   "outputs": [],
   "source": [
    "\"\"\"\n",
    "      -> a -\n",
    "    /        \\\n",
    "f ->           -> d -> c\n",
    "    \\        /\n",
    "      -> b - \n",
    "      \n",
    "e\n",
    "\n",
    "      \n",
    "a, b, c, d, e, f\n",
    "\n",
    "temp   = {}\n",
    "final  = {c, d, a, b, e, f}\n",
    "result = [c, d, a, b, e, f]\n",
    "\n",
    "\n",
    "\n",
    "\n",
    "\n",
    "\"\"\"\n",
    "\n",
    "def create_graph(nodes, edges):\n",
    "    adjacency_list = {i:[] for i in nodes}\n",
    "    \n",
    "    for src, dst in dependencies:\n",
    "        adjacency_list[src].append(dst)\n",
    "    \n",
    "    return adjacency_list\n",
    "\n",
    "\n",
    "def depth_search_first(project, project_map, temp_visited, final_visited, result):\n",
    "        if project in temp_visited:\n",
    "            raise Exception(\"The project cannot be built!\")\n",
    "        \n",
    "        if project not in final_visited:\n",
    "            temp_visited.add(project)\n",
    "            for i in project_map[project]:\n",
    "                depth_search_first(i, project_map, temp_visited, final_visited, result)\n",
    "                \n",
    "            temp_visited.remove(project)\n",
    "            final_visited.add(project)\n",
    "            result.append(project)\n",
    "\n",
    "def build_order_dfs(projects, dependencies):\n",
    "    project_map   = create_graph(projects, dependencies)\n",
    "    \n",
    "    temp_visited  = set()\n",
    "    final_visited = set()\n",
    "    result        = []\n",
    "    \n",
    "    for project in projects:\n",
    "        depth_search_first(project, project_map, temp_visited, final_visited, result)\n",
    "    \n",
    "    return [result[i] for i in range(len(result)-1, -1, -1)]"
   ]
  },
  {
   "cell_type": "code",
   "execution_count": 130,
   "id": "1fd109e0",
   "metadata": {},
   "outputs": [
    {
     "data": {
      "text/plain": [
       "['f', 'e', 'b', 'a', 'd', 'c']"
      ]
     },
     "execution_count": 130,
     "metadata": {},
     "output_type": "execute_result"
    }
   ],
   "source": [
    "projects = [\"a\",\"b\", \"c\", \"d\", \"e\", \"f\"]\n",
    "dependencies = [(\"a\", \"d\"), (\"f\", \"b\"), (\"b\", \"d\"), (\"f\", \"a\"), (\"d\", \"c\")]\n",
    "\n",
    "build_order_dfs(projects, dependencies)"
   ]
  },
  {
   "cell_type": "code",
   "execution_count": 184,
   "id": "942dfff2",
   "metadata": {},
   "outputs": [],
   "source": [
    "def create_graph(nodes, edges):\n",
    "    adjacency_list = {i:[] for i in nodes}\n",
    "    \n",
    "    for src, dst in dependencies:\n",
    "        adjacency_list[src].append(dst)\n",
    "    \n",
    "    return adjacency_list\n",
    "\n",
    "def detect_cycle_util(node, graph, visited):\n",
    "    if node in visited:\n",
    "        return True\n",
    "    \n",
    "    visited.add(node)\n",
    "    \n",
    "    for i in graph[node]:\n",
    "        if detect_cycle_util(i, graph, visited):\n",
    "            return True\n",
    "    \n",
    "    visited.remove(node)\n",
    "    \n",
    "    return False\n",
    "\n",
    "def detect_cycle(graph):\n",
    "    visited = set()\n",
    "    restul  = False\n",
    "    \n",
    "    for node in graph:\n",
    "        result = detect_cycle_util(node, graph, visited)\n",
    "        \n",
    "    return result\n",
    "\n",
    "def depth_search_first(project, project_map, visited, stack):\n",
    "        visited.add(project)\n",
    "        for i in project_map[project]:\n",
    "            if i not in visited:\n",
    "                depth_search_first(i, project_map, visited, stack)\n",
    "        \n",
    "        stack.append(project)\n",
    "\n",
    "def build_order_dfs(projects, dependencies):\n",
    "    project_map = create_graph(projects, dependencies)\n",
    "    \n",
    "    if detect_cycle(project_map):\n",
    "        raise Exception(\"There cyclic dependencies!\")\n",
    "    \n",
    "    visited = set()\n",
    "    stack   = []\n",
    "    \n",
    "    for project in project_map:\n",
    "        if project not in visited:\n",
    "            depth_search_first(project, project_map, visited, stack)\n",
    "    \n",
    "    return [stack[i] for i in range(len(stack)-1, -1, -1)]"
   ]
  },
  {
   "cell_type": "code",
   "execution_count": 185,
   "id": "e5e8fa9d",
   "metadata": {},
   "outputs": [
    {
     "data": {
      "text/plain": [
       "['f', 'e', 'b', 'a', 'd', 'c']"
      ]
     },
     "execution_count": 185,
     "metadata": {},
     "output_type": "execute_result"
    }
   ],
   "source": [
    "projects = [\"a\",\"b\", \"c\", \"d\", \"e\", \"f\"]\n",
    "dependencies = [(\"a\", \"d\"), (\"f\", \"b\"), (\"b\", \"d\"), (\"f\", \"a\"), (\"d\", \"c\")]\n",
    "\n",
    "build_order_dfs(projects, dependencies)"
   ]
  },
  {
   "cell_type": "markdown",
   "id": "a7c4b4cf",
   "metadata": {},
   "source": [
    "# 13 - 417. Pacific Atlantic Water Flow - Medium\n",
    "\n",
    "There is an m x n rectangular island that borders both the Pacific Ocean and Atlantic Ocean. The Pacific Ocean touches the island's left and top edges, and the Atlantic Ocean touches the island's right and bottom edges.\n",
    "\n",
    "The island is partitioned into a grid of square cells. You are given an m x n integer matrix heights where heights[r][c] represents the height above sea level of the cell at coordinate (r, c).\n",
    "\n",
    "The island receives a lot of rain, and the rain water can flow to neighboring cells directly north, south, east, and west if the neighboring cell's height is less than or equal to the current cell's height. Water can flow from any cell adjacent to an ocean into the ocean.\n",
    "\n",
    "Return a 2D list of grid coordinates result where result[i] = [ri, ci] denotes that rain water can flow from cell (ri, ci) to both the Pacific and Atlantic oceans.\n",
    "\n",
    "__EXAMPLE 1:__\n",
    "\n",
    "![image_17](https://assets.leetcode.com/uploads/2021/06/08/waterflow-grid.jpg)\n",
    "\n",
    "Input: heights = [[1,2,2,3,5],[3,2,3,4,4],[2,4,5,3,1],[6,7,1,4,5],[5,1,1,2,4]]\n",
    "\n",
    "Output: [[0,4],[1,3],[1,4],[2,2],[3,0],[3,1],[4,0]]\n",
    "\n",
    "__EXAMPLE 2:__\n",
    "\n",
    "\n",
    "Input: heights = [[2,1],[1,2]]\n",
    "\n",
    "Output: [[0,0],[0,1],[1,0],[1,1]]"
   ]
  },
  {
   "cell_type": "code",
   "execution_count": 280,
   "id": "504e0f82",
   "metadata": {},
   "outputs": [],
   "source": [
    "def visit(row, col, heights, ocean, prev_height):\n",
    "    if (row, col) in ocean:\n",
    "        return\n",
    "    if row < 0 or row >= len(heights) \\\n",
    "            or col < 0 or col >= len(heights[0]) \\\n",
    "            or heights[row][col] < prev_height:\n",
    "        return\n",
    "    \n",
    "    ocean.add((row, col))\n",
    "    curr_height = heights[row][col]\n",
    "    \n",
    "    steps = [(-1, 0), (0, 1), (1, 0), (0, -1)]\n",
    "    \n",
    "    for step in steps:\n",
    "        row += step[0]\n",
    "        col += step[1]\n",
    "        visit(row, col, heights, ocean, curr_height)\n",
    "        row -= step[0]\n",
    "        col -= step[1]\n",
    "\n",
    "def find_water_flow(heights):\n",
    "    \n",
    "    ROWS     = len(heights)\n",
    "    COLS     = len(heights[0])\n",
    "    \n",
    "    atlantic = set()\n",
    "    pacific  = set()\n",
    "    \n",
    "\n",
    "    for column in range(len(heights[0])):\n",
    "        visit(0, column, heights, pacific, heights[0][column])\n",
    "        visit(ROWS-1, column, heights, atlantic, heights[ROWS-1][column])\n",
    "        \n",
    "    for row in range(len(heights)):\n",
    "        visit(row, 0, heights, pacific, heights[row][0])\n",
    "        visit(row, COLS-1, heights, atlantic, heights[row][COLS-1])\n",
    "    \n",
    "    return pacific.intersection(atlantic)"
   ]
  },
  {
   "cell_type": "code",
   "execution_count": 283,
   "id": "4f51f695",
   "metadata": {},
   "outputs": [
    {
     "data": {
      "text/plain": [
       "{(0, 4), (1, 3), (1, 4), (2, 2), (3, 0), (3, 1), (4, 0)}"
      ]
     },
     "execution_count": 283,
     "metadata": {},
     "output_type": "execute_result"
    }
   ],
   "source": [
    "heights = [[1,2,2,3,5],[3,2,3,4,4],[2,4,5,3,1],[6,7,1,4,5],[5,1,1,2,4]]\n",
    "#heights = [[2,1],[1,2]]\n",
    "\n",
    "find_water_flow(heights)"
   ]
  },
  {
   "cell_type": "code",
   "execution_count": null,
   "id": "0fc1dc1f",
   "metadata": {},
   "outputs": [],
   "source": []
  },
  {
   "cell_type": "code",
   "execution_count": null,
   "id": "4b80113a",
   "metadata": {},
   "outputs": [],
   "source": []
  }
 ],
 "metadata": {
  "kernelspec": {
   "display_name": "Python 3 (ipykernel)",
   "language": "python",
   "name": "python3"
  },
  "language_info": {
   "codemirror_mode": {
    "name": "ipython",
    "version": 3
   },
   "file_extension": ".py",
   "mimetype": "text/x-python",
   "name": "python",
   "nbconvert_exporter": "python",
   "pygments_lexer": "ipython3",
   "version": "3.8.10"
  }
 },
 "nbformat": 4,
 "nbformat_minor": 5
}
