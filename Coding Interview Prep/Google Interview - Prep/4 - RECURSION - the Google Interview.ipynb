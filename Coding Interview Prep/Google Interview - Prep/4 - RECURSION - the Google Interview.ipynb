{
 "cells": [
  {
   "cell_type": "markdown",
   "id": "4bde613b",
   "metadata": {},
   "source": [
    "# RECURSION - the Google Interview\n",
    "\n",
    "https://takeuforward-org.cdn.ampproject.org/c/s/takeuforward.org/interviews/strivers-sde-sheet-top-coding-interview-problems/?amp=1"
   ]
  },
  {
   "cell_type": "markdown",
   "id": "9156488c",
   "metadata": {},
   "source": [
    "# 1 - Subset Sum : Sum of all Subsets\n",
    "\n",
    "__Problem Statement:__ Given an array print all the sum of the subset generated from it, in the increasing order.\n",
    "\n",
    "\n",
    "__Example 1:__\n",
    "\n",
    "Input: N = 3, arr[] = {5,2,1}\n",
    "\n",
    "Output: 0,1,2,3,5,6,7,8\n",
    "\n",
    "Explanation: We have to find all the subset’s sum and print them.in this case the generated subsets are [ [], [1], [2], [2,1], [5], [5,1], [5,2]. [5,2,1],so the sums we get will be  0,1,2,3,5,6,7,8\n",
    "\n",
    "\n",
    "Input: N=3,arr[]= {3,1,2}\n",
    "\n",
    "Output: 0,1,2,3,3,4,5,6\n",
    "\n",
    "Explanation: We have to find all the subset’s sum and print them.in this case the generated subsets are [ [], [1], [2], [2,1], [3], [3,1], [3,2]. [3,2,1],so the sums we get will be  0,1,2,3,3,4,5,6"
   ]
  },
  {
   "cell_type": "code",
   "execution_count": 40,
   "id": "17643834",
   "metadata": {},
   "outputs": [],
   "source": [
    "\"\"\"\n",
    "                           0,0\n",
    "                       /        \\\n",
    "                      /          \\\n",
    "                     /            \\\n",
    "                    /              \\\n",
    "                   /                \\\n",
    "                  /                  \\\n",
    "                1,5                  1,0\n",
    "               /    \\               /    \\ \n",
    "              /      \\             /      \\\n",
    "           2,7        2,5        2,2      2,0\n",
    "          /   \\      /   \\      /   \\     /  \\\n",
    "       3,8    3,7  3,6   3,7  3,3   3,2 3,1  3,0\n",
    "\n",
    "\n",
    "\"\"\"\n",
    "def helper(arr, idx, n, result, temp):\n",
    "    if idx == n:\n",
    "        result.append(temp)\n",
    "        return\n",
    "    \n",
    "    helper(arr, idx+1, n, result, temp + arr[idx])    \n",
    "    helper(arr, idx+1, n, result, temp)\n",
    "\n",
    "def subset_sum(arr):\n",
    "    result = []\n",
    "    sum_temp = 0\n",
    "    helper(arr, 0, len(arr), result, sum_temp)\n",
    "    return result"
   ]
  },
  {
   "cell_type": "code",
   "execution_count": 42,
   "id": "9b1c8708",
   "metadata": {},
   "outputs": [
    {
     "data": {
      "text/plain": [
       "[8, 7, 6, 5, 3, 2, 1, 0]"
      ]
     },
     "execution_count": 42,
     "metadata": {},
     "output_type": "execute_result"
    }
   ],
   "source": [
    "arr = [5,2,1]\n",
    "subset_sum(arr)"
   ]
  },
  {
   "cell_type": "code",
   "execution_count": 60,
   "id": "d65231aa",
   "metadata": {},
   "outputs": [],
   "source": [
    "a = [[1],[2],[3],[1,2],[1,3],[3],[1,2], [1,3]]\n",
    "a = [tuple(i) for i in a]\n",
    "a = list(set(a))"
   ]
  },
  {
   "cell_type": "code",
   "execution_count": 61,
   "id": "07e64be9",
   "metadata": {},
   "outputs": [
    {
     "data": {
      "text/plain": [
       "[[1, 3], [1, 2], [2], [1], [3]]"
      ]
     },
     "execution_count": 61,
     "metadata": {},
     "output_type": "execute_result"
    }
   ],
   "source": [
    "a = [list(i) for i in a]\n",
    "a"
   ]
  },
  {
   "cell_type": "markdown",
   "id": "d9e63a7e",
   "metadata": {},
   "source": [
    "# 1.1 - Subset II\n",
    "\n",
    "Given an integer array nums that may contain duplicates, return all possible subsets (the power set).\n",
    "\n",
    "The solution set must not contain duplicate subsets. Return the solution in any order.\n",
    "\n",
    " \n",
    "\n",
    "__Example 1:__\n",
    "\n",
    "Input: nums = [1,2,2]\n",
    "Output: [[],[1],[1,2],[1,2,2],[2],[2,2]]\n",
    "\n",
    "__Example 2:__\n",
    "\n",
    "Input: nums = [0]\n",
    "Output: [[],[0]]\n"
   ]
  },
  {
   "cell_type": "code",
   "execution_count": 262,
   "id": "6692795f",
   "metadata": {},
   "outputs": [],
   "source": [
    "def merge_sort(arr):\n",
    "    if len(arr) > 1:\n",
    "        left = arr[:len(arr)//2]\n",
    "        right = arr[len(arr)//2:]\n",
    "        \n",
    "        merge_sort(left)\n",
    "        merge_sort(right)\n",
    "        \n",
    "        i = j = k = 0\n",
    "        \n",
    "        while i < len(left) and j < len(right):\n",
    "            if left[i] <= right[j]:\n",
    "                arr[k] = left[i]\n",
    "                i += 1\n",
    "            else:\n",
    "                arr[k] = right[j]\n",
    "                j += 1\n",
    "            k += 1\n",
    "            \n",
    "        while i < len(left):\n",
    "            arr[k] = left[i]\n",
    "            i += 1\n",
    "            k += 1\n",
    "            \n",
    "        while j < len(right):\n",
    "            arr[k] = right[j]\n",
    "            j += 1\n",
    "            k += 1\n",
    "\n",
    "def helper(arr, idx, result, temp):\n",
    "    result.append(temp.copy())\n",
    "    for i in range(idx, len(arr)):\n",
    "        if i > idx and arr[i] == arr[i-1]:\n",
    "            continue\n",
    "        temp.append(arr[i])\n",
    "        helper(arr, idx+1, result, temp)\n",
    "        temp.pop()\n",
    "        \n",
    "def subset_2(arr):\n",
    "    result = []\n",
    "    temp = []\n",
    "    \n",
    "    merge_sort(arr)\n",
    "    \n",
    "    helper(arr, 0, result, temp)\n",
    "    \n",
    "    return result"
   ]
  },
  {
   "cell_type": "code",
   "execution_count": 263,
   "id": "0fe1af91",
   "metadata": {},
   "outputs": [
    {
     "data": {
      "text/plain": [
       "[[], [1], [1, 2], [1, 2, 2], [2], [2, 2], [2, 2, 2]]"
      ]
     },
     "execution_count": 263,
     "metadata": {},
     "output_type": "execute_result"
    }
   ],
   "source": [
    "nums = [1,2,2]\n",
    "subset_2(nums)"
   ]
  },
  {
   "cell_type": "markdown",
   "id": "92a5acd3",
   "metadata": {},
   "source": [
    "# 2 - Subset – II | Print all the Unique Subsets\n",
    "\n",
    "__Problem Statement:__ Given an array of integers that may contain duplicates the task is to return all possible subsets. Return only unique subsets and they can be in any order.\n",
    "\n",
    "__Example 1:__\n",
    "\n",
    "Input: array[] = [1,2,2]\n",
    "\n",
    "Output: [ [ ],[1],[1,2],[1,2,2],[2],[2,2] ]\n",
    "\n",
    "Explanation: We can have subsets ranging from  length 0 to 3. which are listed above. Also the subset [1,2] appears twice but is printed only once as we require only unique subsets.\n",
    "\n",
    "Input: array[] = [1]\n",
    "\n",
    "Output: [ [ ], [1] ]\n",
    "\n",
    "Explanation: Only two unique subsets are available"
   ]
  },
  {
   "cell_type": "code",
   "execution_count": 103,
   "id": "dc06c520",
   "metadata": {},
   "outputs": [],
   "source": [
    "\"\"\"\n",
    "                         0,[]\n",
    "                       /        \\\n",
    "                      /          \\\n",
    "                     /            \\\n",
    "                    /              \\\n",
    "                   /                \\\n",
    "                  /                  \\\n",
    "                1,[1,2]              1,[]\n",
    "               /    \\               /    \\ \n",
    "              /      \\             /      \\\n",
    "           2,[1,2]   2,[1]        2,[2]    2,[]\n",
    "          /   \\      /   \\      /   \\      /  \\\n",
    "3,[[1,2,2]] 3,[[1,2],[1,2],[1] [2,2]] 3,[2]   3,[]  3,[]   3,[] 3,[]  3,[]\n",
    "\n",
    "\"\"\"\n",
    "def helper(arr, idx, result, ds):\n",
    "    if idx == len(arr):\n",
    "        result.append(ds.copy())\n",
    "        return\n",
    "    \n",
    "    ds.append(arr[idx])\n",
    "    helper(arr, idx + 1, result, ds)\n",
    "    ds.pop()\n",
    "    helper(arr, idx + 1, result, ds)\n",
    "\n",
    "def subset(arr):\n",
    "    result = []\n",
    "    ds = []\n",
    "    helper(arr, 0, result, ds)\n",
    "    \n",
    "    print(result)\n",
    "    result = [tuple(i) for i in result]\n",
    "    result = set(result)\n",
    "    result = [list(i) for i in result]\n",
    "        \n",
    "    return result"
   ]
  },
  {
   "cell_type": "code",
   "execution_count": 104,
   "id": "9494db50",
   "metadata": {},
   "outputs": [
    {
     "name": "stdout",
     "output_type": "stream",
     "text": [
      "[[1, 2, 2], [1, 2], [1, 2], [1], [2, 2], [2], [2], []]\n"
     ]
    },
    {
     "data": {
      "text/plain": [
       "[[1, 2], [2], [1], [1, 2, 2], [2, 2], []]"
      ]
     },
     "execution_count": 104,
     "metadata": {},
     "output_type": "execute_result"
    }
   ],
   "source": [
    "arr = [1,2,2]\n",
    "subset(arr)"
   ]
  },
  {
   "cell_type": "markdown",
   "id": "a27bf84d",
   "metadata": {},
   "source": [
    "# EXTRA - combination with recursion"
   ]
  },
  {
   "cell_type": "code",
   "execution_count": 233,
   "id": "6ddf780a",
   "metadata": {},
   "outputs": [],
   "source": [
    "def helper(arr, idx, result, temp):\n",
    "    if len(arr) == idx:\n",
    "        result.append(temp.copy())\n",
    "        return\n",
    "    \n",
    "    aux = temp.copy()\n",
    "    aux.append(arr[idx])\n",
    "    \n",
    "    helper(arr, idx+1, result, temp)\n",
    "    helper(arr, idx+1, result, aux)\n",
    "\n",
    "def combinations(arr):\n",
    "    result = []\n",
    "    temp = []\n",
    "    helper(arr, 0, result, temp)\n",
    "    return result"
   ]
  },
  {
   "cell_type": "code",
   "execution_count": 235,
   "id": "3157f7f6",
   "metadata": {},
   "outputs": [
    {
     "data": {
      "text/plain": [
       "[[], [3], [2], [2, 3], [1], [1, 3], [1, 2], [1, 2, 3]]"
      ]
     },
     "execution_count": 235,
     "metadata": {},
     "output_type": "execute_result"
    }
   ],
   "source": [
    "arr = [1,2,3]\n",
    "combinations(arr)"
   ]
  },
  {
   "cell_type": "code",
   "execution_count": 240,
   "id": "d95f1814",
   "metadata": {},
   "outputs": [],
   "source": [
    "def helper(arr, idx, result, temp):\n",
    "    if len(arr) == idx:\n",
    "        result.append(temp.copy())\n",
    "        return\n",
    "    \n",
    "    \n",
    "    temp.append(arr[idx])\n",
    "    helper(arr, idx+1, result, temp)\n",
    "    temp.pop()\n",
    "    helper(arr, idx+1, result, temp)\n",
    "\n",
    "def combinations(arr):\n",
    "    result = []\n",
    "    temp = []\n",
    "    helper(arr, 0, result, temp)\n",
    "    return result"
   ]
  },
  {
   "cell_type": "code",
   "execution_count": 241,
   "id": "0ad1d89f",
   "metadata": {},
   "outputs": [
    {
     "data": {
      "text/plain": [
       "[[1, 2, 3], [1, 2], [1, 3], [1], [2, 3], [2], [3], []]"
      ]
     },
     "execution_count": 241,
     "metadata": {},
     "output_type": "execute_result"
    }
   ],
   "source": [
    "arr = [1,2,3]\n",
    "combinations(arr)"
   ]
  },
  {
   "cell_type": "markdown",
   "id": "b4583fa5",
   "metadata": {},
   "source": [
    "# 3 - Combination Sum – 1\n",
    "\n",
    "__Problem Statement:__\n",
    "\n",
    "Given an array of distinct integers and a target, you have to return the list of all unique combinations where the chosen numbers sum to target. You may return the combinations in any order.\n",
    "\n",
    "The same number may be chosen from the given array an unlimited number of times. Two combinations are unique if the frequency of at least one of the chosen numbers is different.\n",
    "\n",
    "It is guaranteed that the number of unique combinations that sum up to target is less than 150 combinations for the given input.\n",
    "\n",
    "__Example 1:__\n",
    "\n",
    "Input: array = [2,3,6,7], target = 7\n",
    "\n",
    "Output: [[2,2,3],[7]]\n",
    "\n",
    "Explanation: 2 and 3 are candidates, and 2 + 2 + 3 = 7. Note that 2 can be used multiple times.\n",
    "             7 is a candidate, and 7 = 7.\n",
    "             These are the only two combinations.\n",
    "\n",
    "\n",
    "__Example 2:__\n",
    "\n",
    "Input: array = [2], target = 1\n",
    "\n",
    "Output: []\n",
    "\n",
    "Explaination: No combination is possible."
   ]
  },
  {
   "cell_type": "code",
   "execution_count": 120,
   "id": "c95aebdb",
   "metadata": {},
   "outputs": [],
   "source": [
    "# interative anwser only to practice, but here it is the two sum.\n",
    "def interative(arr, target):\n",
    "    aux = dict()\n",
    "    result = []\n",
    "    \n",
    "    for idx, value in enumerate(arr):\n",
    "        if aux.get(target-value) is None:\n",
    "            aux[value] = idx\n",
    "        else:\n",
    "            result.append([target-value, value])\n",
    "    return result"
   ]
  },
  {
   "cell_type": "code",
   "execution_count": 121,
   "id": "2886996c",
   "metadata": {},
   "outputs": [
    {
     "data": {
      "text/plain": [
       "[[2, 3], [1, 4], [0, 5], [-1, 6]]"
      ]
     },
     "execution_count": 121,
     "metadata": {},
     "output_type": "execute_result"
    }
   ],
   "source": [
    "arr = [-1,0,1,2,3,4,5,6]\n",
    "interative(arr, 5)"
   ]
  },
  {
   "cell_type": "code",
   "execution_count": 148,
   "id": "3933a3dd",
   "metadata": {},
   "outputs": [],
   "source": [
    "# it works if array has duplicated values\n",
    "def helper(arr, target, idx, result, temp):\n",
    "    if idx == len(arr):\n",
    "        if sum(temp) == target:\n",
    "            result.append(temp.copy())\n",
    "        return\n",
    "    \n",
    "    aux = temp.copy()\n",
    "    aux.append(arr[idx])\n",
    "\n",
    "    helper(arr, target, idx+1, result, temp)\n",
    "    helper(arr, target, idx+1, result, aux)\n",
    "    \n",
    "def combinations(arr, target):\n",
    "    result = []\n",
    "    temp = []\n",
    "    \n",
    "    helper(arr, target, 0, result, temp)\n",
    "    \n",
    "    return result"
   ]
  },
  {
   "cell_type": "code",
   "execution_count": 149,
   "id": "3f0d5721",
   "metadata": {},
   "outputs": [
    {
     "data": {
      "text/plain": [
       "[[7], [2, 2, 3]]"
      ]
     },
     "execution_count": 149,
     "metadata": {},
     "output_type": "execute_result"
    }
   ],
   "source": [
    "array = [2,2,3,6,7]\n",
    "target = 7\n",
    "\n",
    "combinations(array, target)"
   ]
  },
  {
   "cell_type": "code",
   "execution_count": 249,
   "id": "f38b55dc",
   "metadata": {},
   "outputs": [],
   "source": [
    "# also considers combinations of sub-arrays\n",
    "def helper(arr, target, idx, result, temp):\n",
    "    if idx == len(arr):\n",
    "        if target == 0:\n",
    "            result.append(temp.copy())\n",
    "            return \n",
    "        return \n",
    "\n",
    "    if arr[idx] <= target:\n",
    "        temp.append(arr[idx])\n",
    "        helper(arr, target-arr[idx], idx, result, temp)\n",
    "        temp.pop()\n",
    "        \n",
    "    helper(arr, target, idx+1, result, temp) \n",
    "    \n",
    "def combinations(arr, target):\n",
    "    result = []\n",
    "    temp = []\n",
    "    \n",
    "    helper(arr, target, 0, result, temp)\n",
    "    \n",
    "    return result"
   ]
  },
  {
   "cell_type": "code",
   "execution_count": 250,
   "id": "57c33f7a",
   "metadata": {},
   "outputs": [
    {
     "data": {
      "text/plain": [
       "[[2, 2, 2], [3, 3], [6]]"
      ]
     },
     "execution_count": 250,
     "metadata": {},
     "output_type": "execute_result"
    }
   ],
   "source": [
    "array = [2,3,6,7]\n",
    "target = 6\n",
    "\n",
    "combinations(array, target)"
   ]
  },
  {
   "cell_type": "markdown",
   "id": "d54940ae",
   "metadata": {},
   "source": [
    "# 4 - Combination Sum II – Find all unique combinations\n",
    "\n",
    "In this article we will solve the most asked interview question “Combination Sum II – Find all unique combinations”.\n",
    "\n",
    "__Problem Statement:__ Given a collection of candidate numbers (candidates) and a target number (target), find all unique combinations in candidates where the candidate numbers sum to target. Each number in candidates may only be used once in the combination.\n",
    "\n",
    "Note: The solution set must not contain duplicate combinations.\n",
    "\n",
    "__Example 1:__\n",
    "\n",
    "Input: candidates = [10,1,2,7,6,1,5], target = 8\n",
    "\n",
    "Output: \n",
    "[\n",
    "[1,1,6],\n",
    "[1,2,5],\n",
    "[1,7],\n",
    "[2,6]]\n",
    "\n",
    "\n",
    "Explanation: These are the unique combinations whose sum is equal to target.\n",
    " \n",
    "__Example 2:__\n",
    "\n",
    "Input: candidates = [2,5,2,1,2], target = 5\n",
    "\n",
    "Output: [[1,2,2],[5]]\n",
    "\n",
    "Explanation: These are the unique combinations whose sum is equal to target."
   ]
  },
  {
   "cell_type": "code",
   "execution_count": 195,
   "id": "2784bca0",
   "metadata": {},
   "outputs": [],
   "source": [
    "def merge_sort(arr):\n",
    "    if len(arr) > 1:\n",
    "        left = arr[:len(arr)//2]\n",
    "        right = arr[len(arr)//2:]\n",
    "        \n",
    "        merge_sort(left)\n",
    "        merge_sort(right)\n",
    "        \n",
    "        i = j = k = 0\n",
    "        \n",
    "        while i < len(left) and j < len(right):\n",
    "            if left[i] <= right[j]:\n",
    "                arr[k] = left[i]\n",
    "                i += 1\n",
    "            else:\n",
    "                arr[k] = right[j]\n",
    "                j += 1\n",
    "            k += 1\n",
    "            \n",
    "        while i < len(left):\n",
    "            arr[k] = left[i]\n",
    "            i += 1\n",
    "            k += 1\n",
    "            \n",
    "        while j < len(right):\n",
    "            arr[k] = right[j]\n",
    "            j += 1\n",
    "            k += 1\n",
    "\n",
    "def helper(arr, target, idx, result, temp):\n",
    "    if len(arr) == idx:\n",
    "        if sum(temp) == target:\n",
    "            result.append(temp.copy())\n",
    "        return\n",
    "    \n",
    "    aux = temp.copy()\n",
    "    aux.append(arr[idx])\n",
    "    \n",
    "    helper(arr, target, idx+1, result, temp)\n",
    "    helper(arr, target, idx+1, result, aux)\n",
    "    \n",
    "def combinations(arr, target):\n",
    "    result = []\n",
    "    temp = []\n",
    "    \n",
    "    helper(arr, target, 0, result, temp)\n",
    "    \n",
    "    for i in result:\n",
    "        merge_sort(i)\n",
    "    \n",
    "    aux = []\n",
    "    for i in result:\n",
    "        if i not in aux:\n",
    "            aux.append(i)\n",
    "    \n",
    "    return aux"
   ]
  },
  {
   "cell_type": "code",
   "execution_count": 196,
   "id": "c9a2281d",
   "metadata": {},
   "outputs": [
    {
     "data": {
      "text/plain": [
       "[[1, 7], [1, 2, 5], [2, 6], [1, 1, 6]]"
      ]
     },
     "execution_count": 196,
     "metadata": {},
     "output_type": "execute_result"
    }
   ],
   "source": [
    "candidates = [10,1,2,7,6,1,5]\n",
    "target = 8\n",
    "\n",
    "#candidates = [1,2,3]\n",
    "#target = 3\n",
    "\n",
    "combinations(candidates, target)"
   ]
  },
  {
   "cell_type": "markdown",
   "id": "4bd8ac39",
   "metadata": {},
   "source": [
    "### improved "
   ]
  },
  {
   "cell_type": "code",
   "execution_count": 210,
   "id": "63a82fa4",
   "metadata": {},
   "outputs": [],
   "source": [
    "def quick_sort(arr):\n",
    "    if len(arr) <= 1:\n",
    "        return arr\n",
    "    \n",
    "    pivot = arr.pop()\n",
    "    left = []\n",
    "    right = []\n",
    "    \n",
    "    for i in arr:\n",
    "        if i <= pivot:\n",
    "            left.append(i)\n",
    "        else:\n",
    "            right.append(i)\n",
    "    \n",
    "    return quick_sort(left) + [pivot] + quick_sort(right)\n",
    "\n",
    "def helper(arr, target, idx, result, temp):\n",
    "    if target == 0:    \n",
    "        result.append(temp.copy())\n",
    "        return\n",
    "    \n",
    "    for i in range(idx, len(arr)):\n",
    "        if i > idx and arr[i] == arr[i-1]:\n",
    "            continue\n",
    "        if arr[i] > target:\n",
    "            break\n",
    "            \n",
    "        temp.append(arr[i])\n",
    "        helper(arr, target - arr[i], idx + 1, result, temp)\n",
    "        temp.pop()\n",
    "    \n",
    "def combinations(arr, target):\n",
    "    result = []\n",
    "    temp = []\n",
    "    \n",
    "    arr = quick_sort(arr)\n",
    "    \n",
    "    helper(arr, target, 0, result, temp)\n",
    "\n",
    "    return result"
   ]
  },
  {
   "cell_type": "code",
   "execution_count": 211,
   "id": "28c335f4",
   "metadata": {},
   "outputs": [
    {
     "data": {
      "text/plain": [
       "[[1, 1, 6],\n",
       " [1, 2, 5],\n",
       " [1, 5, 2],\n",
       " [1, 7],\n",
       " [2, 1, 5],\n",
       " [2, 6],\n",
       " [5, 1, 2],\n",
       " [6, 2],\n",
       " [7, 1]]"
      ]
     },
     "execution_count": 211,
     "metadata": {},
     "output_type": "execute_result"
    }
   ],
   "source": [
    "candidates = [10,1,2,7,6,1,5]\n",
    "target = 8\n",
    "\n",
    "combinations(candidates, target)"
   ]
  },
  {
   "cell_type": "markdown",
   "id": "5a381d7c",
   "metadata": {},
   "source": [
    "# 5 - Palindrome Partitioning\n",
    "\n",
    "__Problem Statement:__ You are given a string s, partition it in such a way that every substring is a palindrome. Return all such palindromic partitions of s.\n",
    "\n",
    "Note: A palindrome string is a string that reads the same backward as forward.\n",
    "\n",
    "__Example 1:__\n",
    "\n",
    "Input: s = “aab”\n",
    "\n",
    "Output: [ [\"a\",\"a\",\"b\"], [\"aa\",\"b\"] ]\t\n",
    "\n",
    "Explanation: The first  answer is generated by  making three partitions. The second answer is generated by making two partitions.\n",
    "\n",
    "![image_5](https://lh5.googleusercontent.com/WN8D2p5w0OtGffSbDjDfho0A6f_-Hdz_i687Pr7IksStKWkalVy8tS8tttZryvEroiBa0fJFywDXXjKajQxhThXz5YhRqTXAk1ogDEc_59AG8iiDLt9XSk-Z9GECqLX52lcpI4Zp)\n",
    "\n",
    "\n",
    "__Example 2:__\n",
    "\n",
    "Input: s = “aabb”\n",
    "\n",
    "Output: [ [“a”,”a”,”b”,”b”], [“aa”,”bb”], [“a”,”a”,”bb”], [“aa”,”b”,”b”] ] \n",
    "\n",
    "Explanation: See Figure\n",
    "\n",
    "![image_5_2](https://lh3.googleusercontent.com/JwIUbK7A0C6xVPJXJcEAnIuFpmwv4YWqJ6VA3fW9rP2GoLDyNGXYug4fOdJev72jKEj5tzWMhQbhuq0pxvx2gun1dlqmRGFuoaDjfoYi1Dg--1tzun8Qcml7786AAR-4GyodD3pv)"
   ]
  },
  {
   "cell_type": "code",
   "execution_count": 323,
   "id": "64827b8f",
   "metadata": {},
   "outputs": [],
   "source": [
    "def is_palindrome(string, start, end):\n",
    "    while start <= end:\n",
    "        if string[start] != string[end]:\n",
    "            return False\n",
    "        start += 1\n",
    "        end -= 1\n",
    "        \n",
    "    return True\n",
    "\n",
    "def helper(string, idx, result, temp):\n",
    "    if idx == len(string):\n",
    "        result.append(temp.copy());\n",
    "        return\n",
    "    \n",
    "    for i in range(idx, len(string)):\n",
    "        if is_palindrome(string, idx, i):\n",
    "            temp.append(string[idx:i+1])\n",
    "            helper(string, idx+1, result, temp)\n",
    "            temp.pop()\n",
    "\n",
    "def palindrome_partition(string):\n",
    "    result = []\n",
    "    temp = []\n",
    "    \n",
    "    helper(string, 0, result, temp)\n",
    "    \n",
    "    return result"
   ]
  },
  {
   "cell_type": "code",
   "execution_count": 324,
   "id": "2ad9b25a",
   "metadata": {},
   "outputs": [
    {
     "data": {
      "text/plain": [
       "[['a', 'a', 'b', 'b'],\n",
       " ['a', 'a', 'bb', 'b'],\n",
       " ['aa', 'a', 'b', 'b'],\n",
       " ['aa', 'a', 'bb', 'b']]"
      ]
     },
     "execution_count": 324,
     "metadata": {},
     "output_type": "execute_result"
    }
   ],
   "source": [
    "s = \"aabb\"\n",
    "palindrome_partition(s)"
   ]
  },
  {
   "cell_type": "markdown",
   "id": "fd04cb6a",
   "metadata": {},
   "source": [
    "# 6 - Find K-th Permutation Sequence\n",
    "\n",
    "__Problem Statement:__ Given N and K, where N is the sequence of numbers from 1 to N([1,2,3….. N]) find the Kth permutation sequence.\n",
    "\n",
    "For N = 3  the 3!  Permutation sequences in order would look like this:-\n",
    "\n",
    "![image_6](https://lh5.googleusercontent.com/hSrpRImPhy424nbZQtL04YY6dVh1Erwwdsb95peey02U7sGsYOl44R9hhifdT7yGIqUFamPRFAK-hfdfQmOhHeq0BrIvEaDSeldgszHNzdgs7DYBeNvYz4VCP7GqCdWJ9STRiuRi)\n",
    "\n",
    "__Note:__ 1<=K<=N! Hence for a given input its Kth permutation always exists\n",
    "\n",
    "\n",
    "__Example 1:__\n",
    "\n",
    "Input: N = 3, K = 3\n",
    " \n",
    "Output: “213”\n",
    "\n",
    "Explanation: The sequence has 3! permutations as illustrated in the figure above. K = 3 corresponds to the third sequence.\n",
    "\n",
    "__Example 2:__\n",
    "\n",
    "Input: N = 3, K = 5 \n",
    "\n",
    "Result: “312”\n",
    "\n",
    "Explanation: The sequence has 3! permutations as illustrated in the figure above. K = 5 corresponds to the fifth sequence."
   ]
  },
  {
   "cell_type": "markdown",
   "id": "65fce24a",
   "metadata": {},
   "source": [
    "### brute force"
   ]
  },
  {
   "cell_type": "code",
   "execution_count": 334,
   "id": "330bec0c",
   "metadata": {},
   "outputs": [],
   "source": [
    "def helper(arr, idx, result, k):\n",
    "    if idx == len(arr):\n",
    "        result.append([i for i in arr])\n",
    "        return\n",
    "    \n",
    "    for i in range(idx, len(arr)):\n",
    "        swap(i, idx, arr)\n",
    "        if len(result) == k:\n",
    "            return\n",
    "        helper(arr, idx+1, result, k)\n",
    "        swap(i, idx, arr)\n",
    "        \n",
    "def swap(i, j, arr):\n",
    "    temp = arr[i]\n",
    "    arr[i] = arr[j]\n",
    "    arr[j] = temp\n",
    "    \n",
    "def permutations(arr, k):\n",
    "    result = []\n",
    "    \n",
    "    helper(arr, 0, result, k)\n",
    "    return result[k-1]"
   ]
  },
  {
   "cell_type": "code",
   "execution_count": 335,
   "id": "277875cc",
   "metadata": {},
   "outputs": [
    {
     "data": {
      "text/plain": [
       "[2, 1, 3]"
      ]
     },
     "execution_count": 335,
     "metadata": {},
     "output_type": "execute_result"
    }
   ],
   "source": [
    "arr = [1, 2, 3]\n",
    "permutations(arr,3)"
   ]
  },
  {
   "cell_type": "markdown",
   "id": "24f0ec3a",
   "metadata": {},
   "source": [
    "### improved - clever solution - O(n^2)"
   ]
  },
  {
   "cell_type": "code",
   "execution_count": 364,
   "id": "c4a2d97a",
   "metadata": {},
   "outputs": [],
   "source": [
    "def get_permutation(n, k):\n",
    "    fact = 1\n",
    "    numbers = []\n",
    "    \n",
    "    for i in range(1, n):\n",
    "        fact *= i\n",
    "        numbers.append(i)\n",
    "        \n",
    "    numbers.append(n)\n",
    "    ans = []\n",
    "    k -= 1\n",
    "    \n",
    "    while True:\n",
    "        ans.append(numbers[k//fact])\n",
    "        numbers.pop(k//fact)\n",
    "        if len(numbers) == 0:\n",
    "            break\n",
    "        k %= fact\n",
    "        fact //= len(numbers)\n",
    "    \n",
    "    return ans"
   ]
  },
  {
   "cell_type": "code",
   "execution_count": 365,
   "id": "598ecdc8",
   "metadata": {},
   "outputs": [
    {
     "data": {
      "text/plain": [
       "[2, 1, 3]"
      ]
     },
     "execution_count": 365,
     "metadata": {},
     "output_type": "execute_result"
    }
   ],
   "source": [
    "get_permutation(3, 3)"
   ]
  },
  {
   "cell_type": "markdown",
   "id": "1d94b598",
   "metadata": {},
   "source": [
    "# 7 - Print All Permutations of a String/Array\n",
    "\n",
    "__Problem Statement:__ Given an array arr of distinct integers, print all permutations of String/Array.\n",
    "\n",
    "__Example 1:__\n",
    "\n",
    "Input: arr = [1, 2, 3]\n",
    "\n",
    "Output: \n",
    "[\n",
    "  [1, 2, 3],\n",
    "  [1, 3, 2],\n",
    "  [2, 1, 3],\n",
    "  [2, 3, 1],\n",
    "  [3, 1, 2],\n",
    "  [3, 2, 1]\n",
    "]\n",
    "\n",
    "Explanation: Given an array, return all the possible permutations.\n",
    "\n",
    "__Example 2:__\n",
    "\n",
    "Input: arr = [0, 1]\n",
    "\n",
    "Output:\n",
    "[\n",
    "  [0, 1],\n",
    "  [1, 0]\n",
    "]\n",
    "\n",
    "Explanation: Given an array, return all the possible permutations.\n"
   ]
  },
  {
   "cell_type": "code",
   "execution_count": 264,
   "id": "09428423",
   "metadata": {},
   "outputs": [],
   "source": [
    "def helper(arr, idx, result):\n",
    "    if idx == len(arr):\n",
    "        result.append([i for i in arr])\n",
    "        return\n",
    "    \n",
    "    for i in range(idx, len(arr)):\n",
    "        swap(i, idx, arr)\n",
    "        helper(arr, idx+1, result)\n",
    "        swap(i, idx, arr)\n",
    "        \n",
    "def swap(i, j, arr):\n",
    "    temp = arr[i]\n",
    "    arr[i] = arr[j]\n",
    "    arr[j] = temp\n",
    "    \n",
    "def permutations(arr):\n",
    "    result = []\n",
    "    \n",
    "    helper(arr, 0, result)\n",
    "    return result"
   ]
  },
  {
   "cell_type": "code",
   "execution_count": 265,
   "id": "127f39cd",
   "metadata": {},
   "outputs": [
    {
     "data": {
      "text/plain": [
       "[[1, 2, 3], [1, 3, 2], [2, 1, 3], [2, 3, 1], [3, 2, 1], [3, 1, 2]]"
      ]
     },
     "execution_count": 265,
     "metadata": {},
     "output_type": "execute_result"
    }
   ],
   "source": [
    "arr = [1, 2, 3]\n",
    "permutations(arr)"
   ]
  },
  {
   "cell_type": "markdown",
   "id": "4ea123f8",
   "metadata": {},
   "source": [
    "# 8 - Rat in a Maze\n",
    "\n",
    "\n",
    "Consider a rat placed at (0, 0) in a square matrix of order N * N. It has to reach the destination at (N – 1, N – 1). Find all possible paths that the rat can take to reach from source to destination. The directions in which the rat can move are ‘U'(up), ‘D'(down), ‘L’ (left), ‘R’ (right). Value 0 at a cell in the matrix represents that it is blocked and the rat cannot move to it while value 1 at a cell in the matrix represents that rat can travel through it.\n",
    "\n",
    "Note: In a path, no cell can be visited more than one time.\n",
    "\n",
    "Print the answer in lexicographical(sorted) order\n",
    "\n",
    "\n",
    "__Example 1:__\n",
    "\n",
    "Input:\n",
    "N = 4\n",
    "m[][] = {{1, 0, 0, 0},\n",
    "        {1, 1, 0, 1}, \n",
    "        {1, 1, 0, 0},\n",
    "        {0, 1, 1, 1}}\n",
    "\n",
    "Output: DDRDRR DRDDRR\n",
    "\n",
    "Explanation:\n",
    "\n",
    "![image_8](https://lh4.googleusercontent.com/S8inL4fJsNLyNYtmgFbXAx5BEcA0rgKk3-PYWkVYc90hIBhSgMYWBWtNqz82H0zCZvXqYxp1g3kDpTwjKhTYB2NjwgoHgoPU9Bve6aFzbl-mvI4I90NmEvbV0TpiQ3LXeHccBVEC)\n",
    "\n",
    "\n",
    "The rat can reach the destination at (3, 3) from (0, 0) by two paths - DRDDRR and DDRDRR, when printed in sorted order we get DDRDRR DRDDRR.\n",
    "\n",
    "__Example 2:__\n",
    "\n",
    "Input: N = 2\n",
    "       m[][] = {{1, 0},\n",
    "                {1, 0}}\n",
    "\n",
    "Output:\n",
    " No path exists and the destination cell is blocked."
   ]
  },
  {
   "cell_type": "markdown",
   "id": "d9166925",
   "metadata": {},
   "source": [
    "### code from myself"
   ]
  },
  {
   "cell_type": "code",
   "execution_count": 530,
   "id": "9f527dbf",
   "metadata": {},
   "outputs": [],
   "source": [
    "m = [[1, 0, 0, 0], [1, 1, 0, 1], [1, 1, 0, 0], [0, 1, 1, 1]]"
   ]
  },
  {
   "cell_type": "code",
   "execution_count": 543,
   "id": "bab0bdc1",
   "metadata": {},
   "outputs": [],
   "source": [
    "def find_path(board, row, col, path, result):\n",
    "    if row == len(board)-1 and col == len(board)-1:\n",
    "        result.append(path)\n",
    "        return\n",
    "    \n",
    "    directions = \"DLRU\"\n",
    "    steps = [(1,0), (0,-1), (0, 1), (-1, 0)]\n",
    "    \n",
    "    for i in range(len(steps)):\n",
    "        board[row][col] = 0\n",
    "        row, col = row + steps[i][0], col + steps[i][1]\n",
    "        path += directions[i]\n",
    "        if 0 <= row and row < len(board) and 0 <= col and col < len(board) and board[row][col] == 1:\n",
    "            find_path(board, row, col, path, result)\n",
    "        row, col = row - steps[i][0], col - steps[i][1]\n",
    "        board[row][col] = 1\n",
    "        path = path[:-1]\n",
    "        \n",
    "def rat_maze(board):\n",
    "    result = []\n",
    "    find_path(board, 0, 0, \"\", result)\n",
    "    return result\n",
    "            "
   ]
  },
  {
   "cell_type": "code",
   "execution_count": 544,
   "id": "6f8264b6",
   "metadata": {},
   "outputs": [
    {
     "data": {
      "text/plain": [
       "['DDRDRR', 'DRDDRR']"
      ]
     },
     "execution_count": 544,
     "metadata": {},
     "output_type": "execute_result"
    }
   ],
   "source": [
    "rat_maze(m)"
   ]
  },
  {
   "cell_type": "markdown",
   "id": "f3834bf4",
   "metadata": {},
   "source": [
    "### code from TUF"
   ]
  },
  {
   "cell_type": "code",
   "execution_count": 332,
   "id": "ff0cd64d",
   "metadata": {},
   "outputs": [],
   "source": [
    "def find_path(idx_i, idx_j , board, n, result, move, visited, di, dj):\n",
    "    if idx_i == n - 1 and idx_j == n - 1:\n",
    "        result.append(move)\n",
    "        return\n",
    "    \n",
    "    direction = \"DLRU\"\n",
    "    \n",
    "    for i in range(4):\n",
    "        next_i = idx_i + di[i]\n",
    "        next_j = idx_j + dj[i]\n",
    "        \n",
    "        if next_i >= 0 and next_j >= 0 and next_i < n and next_j < n \\\n",
    "           and visited[next_i][next_j] == 0 and board[next_i][next_j] == 1:\n",
    "            visited[next_i][next_j] = 1\n",
    "            find_path(next_i, next_j, board, n, result, move + direction[i], visited, di, dj)\n",
    "            visited[next_i][next_j] = 0\n",
    "    \n",
    "def rat_maze(n):\n",
    "    board = [[1,0,0,0],[1,1,0,1],[1,1,0,0],[0,1,1,1]];\n",
    "    visited = [[0] * n for i in range(n)]\n",
    "    result = []\n",
    "    \n",
    "    di = [1,0,0,-1]\n",
    "    dj = [0,-1,1,0]\n",
    "    \n",
    "    if board[0][0] == 1:\n",
    "        find_path(0, 0, board, n, result, \"\", visited, di, dj)\n",
    "        \n",
    "    return result"
   ]
  },
  {
   "cell_type": "code",
   "execution_count": 333,
   "id": "5baf43a5",
   "metadata": {},
   "outputs": [
    {
     "data": {
      "text/plain": [
       "['DDRDRR', 'DRDDRR']"
      ]
     },
     "execution_count": 333,
     "metadata": {},
     "output_type": "execute_result"
    }
   ],
   "source": [
    "rat_maze(4)"
   ]
  },
  {
   "cell_type": "markdown",
   "id": "795966db",
   "metadata": {},
   "source": [
    "# 9 - N Queen Problem | Return all Distinct Solutions to the N-Queens Puzzle\n",
    "\n",
    "__Problem Statement:__ The n-queens is the problem of placing n queens on n × n chessboard such that no two queens can attack each other. Given an integer n, return all distinct solutions to the n -queens puzzle. Each solution contains a distinct boards configuration of the queen’s placement, where ‘Q’ and ‘.’ indicate queen and empty space respectively.\n",
    "\n",
    "__Examples:__\n",
    "\n",
    "Input: n = 4\n",
    "\n",
    "Output: [[\".Q..\",\"...Q\",\"Q...\",\"..Q.\"],[\"..Q.\",\"Q...\",\"...Q\",\".Q..\"]]\n",
    "\n",
    "Explanation: There exist two distinct solutions to the 4-queens puzzle as shown below\n",
    "\n",
    "![image_9](https://lh5.googleusercontent.com/Llq0kUywtAlP5K6dFU_DUSdsPSUhWK3zsnBpc8U85nqqykaKqJ1GPoiPIExFOkFCGDnQJj2zKEmlUMiAJlCwFCK1y9SVg4YMy4tg2P9EmbeG2uLcyHFmBKX_cW5eTJJ2dkEut4bx)"
   ]
  },
  {
   "cell_type": "markdown",
   "id": "826a60a8",
   "metadata": {},
   "source": [
    "### code from myself"
   ]
  },
  {
   "cell_type": "code",
   "execution_count": 686,
   "id": "7e15a819",
   "metadata": {},
   "outputs": [],
   "source": [
    "def is_safe(board, position):\n",
    "    i, j = position\n",
    "    while i >= 0 and j >= 0:\n",
    "        if board[i][j] == \"Q\":\n",
    "            return False\n",
    "        i -= 1\n",
    "        j -= 1\n",
    "    \n",
    "    i, j = position\n",
    "    while j >= 0:\n",
    "        if board[i][j] == \"Q\":\n",
    "            return False\n",
    "        j -= 1\n",
    "        \n",
    "    i, j = position\n",
    "    while i < len(board) and j >= 0:\n",
    "        if board[i][j] == \"Q\":\n",
    "            return False\n",
    "        i += 1\n",
    "        j -= 1\n",
    "        \n",
    "    return True\n",
    "        \n",
    "\n",
    "def find_position(board, col, result):\n",
    "    if col == len(board):\n",
    "        result.append([x[:] for x in board])\n",
    "        return\n",
    "\n",
    "    for i in range(len(board)):\n",
    "        if is_safe(board, (i, col)):\n",
    "            board[i][col] = \"Q\"\n",
    "            find_position(board, col + 1, result)\n",
    "            board[i][col] = \".\"\n",
    "\n",
    "def n_queens(n):\n",
    "    board = [['.'] * n for i in range(n)]\n",
    "    result = []\n",
    "    \n",
    "    find_position(board, 0, result)\n",
    "    \n",
    "    return result"
   ]
  },
  {
   "cell_type": "code",
   "execution_count": 687,
   "id": "7c6631f0",
   "metadata": {},
   "outputs": [
    {
     "data": {
      "text/plain": [
       "[[['.', '.', 'Q', '.'],\n",
       "  ['Q', '.', '.', '.'],\n",
       "  ['.', '.', '.', 'Q'],\n",
       "  ['.', 'Q', '.', '.']],\n",
       " [['.', 'Q', '.', '.'],\n",
       "  ['.', '.', '.', 'Q'],\n",
       "  ['Q', '.', '.', '.'],\n",
       "  ['.', '.', 'Q', '.']]]"
      ]
     },
     "execution_count": 687,
     "metadata": {},
     "output_type": "execute_result"
    }
   ],
   "source": [
    "n_queens(4)"
   ]
  },
  {
   "cell_type": "markdown",
   "id": "f8ea5700",
   "metadata": {},
   "source": [
    "### code from TUF"
   ]
  },
  {
   "cell_type": "code",
   "execution_count": 389,
   "id": "6ba06a73",
   "metadata": {},
   "outputs": [],
   "source": [
    "def is_safe(board, position):\n",
    "    row, col = position\n",
    "    while row >= 0 and col >= 0:\n",
    "        if board[row][col] == \"Q\":\n",
    "            return False\n",
    "        row -= 1\n",
    "        col -= 1\n",
    "        \n",
    "    row, col = position\n",
    "    while col >= 0:\n",
    "        if board[row][col] == \"Q\":\n",
    "            return False\n",
    "        col -= 1\n",
    "    \n",
    "    row, col = position\n",
    "    while row < len(board) and col >= 0:\n",
    "        if board[row][col] == \"Q\":\n",
    "            return False\n",
    "        row += 1\n",
    "        col -= 1\n",
    "        \n",
    "    return True\n",
    "        \n",
    "def helper(board, col, result):\n",
    "    if col == len(board):\n",
    "        result.append([i[:] for i in board])\n",
    "        return\n",
    "    \n",
    "    for i in range(len(board)):\n",
    "        if is_safe(board, (i, col)):\n",
    "            board[i][col] = \"Q\"\n",
    "            helper(board, col+1, result)\n",
    "            board[i][col] = \".\"\n",
    "\n",
    "def n_queens(n):\n",
    "    board = [[\".\"] * n for i in range(n)]\n",
    "    result = []\n",
    "    \n",
    "    helper(board, 0, result)\n",
    "    \n",
    "    return result"
   ]
  },
  {
   "cell_type": "code",
   "execution_count": 390,
   "id": "cc0743ad",
   "metadata": {},
   "outputs": [
    {
     "data": {
      "text/plain": [
       "[[['.', '.', 'Q', '.'],\n",
       "  ['Q', '.', '.', '.'],\n",
       "  ['.', '.', '.', 'Q'],\n",
       "  ['.', 'Q', '.', '.']],\n",
       " [['.', 'Q', '.', '.'],\n",
       "  ['.', '.', '.', 'Q'],\n",
       "  ['Q', '.', '.', '.'],\n",
       "  ['.', '.', 'Q', '.']]]"
      ]
     },
     "execution_count": 390,
     "metadata": {},
     "output_type": "execute_result"
    }
   ],
   "source": [
    "n_queens(4)"
   ]
  },
  {
   "cell_type": "markdown",
   "id": "1dfda24b",
   "metadata": {},
   "source": [
    "### improved using hash"
   ]
  },
  {
   "cell_type": "code",
   "execution_count": 399,
   "id": "854a1a3d",
   "metadata": {},
   "outputs": [],
   "source": [
    "def helper(board, col, result, left_row, upper_diagonal, lower_diagonal):\n",
    "    if col == len(board):\n",
    "        result.append([i[:] for i in board])\n",
    "        return\n",
    "    \n",
    "    for i in range(len(board)):\n",
    "        if left_row[i] and upper_diagonal[(len(board)-1) + (col - i)] and lower_diagonal[col + i]:\n",
    "            left_row[i] = False\n",
    "            upper_diagonal[(len(board)-1) + (col - i)] = False\n",
    "            lower_diagonal[col + i] = False\n",
    "            \n",
    "            board[i][col] = \"Q\"\n",
    "            helper(board, col+1, result, left_row, upper_diagonal, lower_diagonal)\n",
    "            board[i][col] = \".\"\n",
    "            \n",
    "            left_row[i] = True\n",
    "            upper_diagonal[(len(board)-1) + (col - i)] = True\n",
    "            lower_diagonal[col + i] = True\n",
    "\n",
    "def n_queens(n):\n",
    "    board = [[\".\"] * n for i in range(n)]\n",
    "    result = []\n",
    "    \n",
    "    left_row = [True] * n\n",
    "    upper_diagonal = [True] * (2*n - 1)\n",
    "    lower_diagonal = [True] * (2*n - 1)\n",
    "    \n",
    "    helper(board, 0, result, left_row, upper_diagonal, lower_diagonal)\n",
    "    \n",
    "    return result"
   ]
  },
  {
   "cell_type": "code",
   "execution_count": 400,
   "id": "9654f2f9",
   "metadata": {},
   "outputs": [
    {
     "data": {
      "text/plain": [
       "[[['.', '.', 'Q', '.'],\n",
       "  ['Q', '.', '.', '.'],\n",
       "  ['.', '.', '.', 'Q'],\n",
       "  ['.', 'Q', '.', '.']],\n",
       " [['.', 'Q', '.', '.'],\n",
       "  ['.', '.', '.', 'Q'],\n",
       "  ['Q', '.', '.', '.'],\n",
       "  ['.', '.', 'Q', '.']]]"
      ]
     },
     "execution_count": 400,
     "metadata": {},
     "output_type": "execute_result"
    }
   ],
   "source": [
    "n_queens(4)"
   ]
  },
  {
   "cell_type": "markdown",
   "id": "a2dcfe96",
   "metadata": {},
   "source": [
    "# 10  - M – Coloring Problem\n",
    "\n",
    "__Problem Statement:__ Given an undirected graph and a number m, determine if the graph can be colored with at most m colors such that no two adjacent vertices of the graph are colored with the same color.\n",
    "\n",
    "__Example 1:__\n",
    "\n",
    "Example 1:\n",
    "Input: \n",
    "N = 4\n",
    "M = 3\n",
    "E = 5\n",
    "Edges[] = {\n",
    "  (0, 1),\n",
    "  (1, 2),\n",
    "  (2, 3),\n",
    "  (3, 0),\n",
    "  (0, 2)\n",
    "}\n",
    "\n",
    "Output: 1\n",
    "\n",
    "Explanation: It is possible to colour the given graph using 3 colours.\n",
    "\n",
    "__Example 2:__\n",
    "\n",
    "Input: \n",
    "N = 3\n",
    "M = 2\n",
    "E = 3\n",
    "Edges[] = {\n",
    "  (0, 1),\n",
    "  (1, 2),\n",
    "  (0, 2)\n",
    "}\n",
    "\n",
    "Output: 0\n",
    "\n",
    "\n",
    "Explanation: It is not possible to color."
   ]
  },
  {
   "cell_type": "code",
   "execution_count": 439,
   "id": "c58b97b1",
   "metadata": {},
   "outputs": [],
   "source": [
    "def is_safe(node, graph, color, idx_color):\n",
    "    for i in graph[node]:\n",
    "        if color[i] == idx_color: \n",
    "            return False\n",
    "    return True\n",
    "        \n",
    "\n",
    "def solve(node, graph, color, m):\n",
    "    if node == len(graph):\n",
    "        return True\n",
    "    \n",
    "    for i in range(1, m + 1):\n",
    "        if is_safe(node, graph, color, i):\n",
    "            color[node] = i\n",
    "            if solve(node+1, graph, color, m):\n",
    "                return True\n",
    "            color[node] = 0\n",
    "    \n",
    "    return False\n",
    "\n",
    "def coloring(graph, m):\n",
    "    color = [0 for i in range(len(graph))]\n",
    "    if solve(0, graph, color, m):\n",
    "        return True\n",
    "    return False"
   ]
  },
  {
   "cell_type": "code",
   "execution_count": 441,
   "id": "d18af2ad",
   "metadata": {},
   "outputs": [
    {
     "data": {
      "text/plain": [
       "True"
      ]
     },
     "execution_count": 441,
     "metadata": {},
     "output_type": "execute_result"
    }
   ],
   "source": [
    "graph = {0:[1, 2, 3], 1:[0, 1], 2:[0, 1, 3], 3:[0, 2]}\n",
    "m = 3\n",
    "\n",
    "coloring(graph, m)"
   ]
  },
  {
   "cell_type": "markdown",
   "id": "4ee54e55",
   "metadata": {},
   "source": [
    "# 11 - Word Search II\n",
    "\n",
    "Given an m x n board of characters and a list of strings words, return all words on the board.\n",
    "\n",
    "Each word must be constructed from letters of sequentially adjacent cells, where adjacent cells are horizontally or vertically neighboring. The same letter cell may not be used more than once in a word.\n",
    "\n",
    "![image11](https://assets.leetcode.com/uploads/2020/11/07/search1.jpg)\n",
    "\n",
    "Input: \n",
    "board = [[\"o\",\"a\",\"a\",\"n\"],[\"e\",\"t\",\"a\",\"e\"],[\"i\",\"h\",\"k\",\"r\"],[\"i\",\"f\",\"l\",\"v\"]], \n",
    "\n",
    "words = [\"oath\",\"pea\",\"eat\",\"rain\"]\n",
    "\n",
    "Output: [\"eat\",\"oath\"]"
   ]
  },
  {
   "cell_type": "code",
   "execution_count": 636,
   "id": "30c6b420",
   "metadata": {},
   "outputs": [],
   "source": [
    "def search(board, word, words, row, col, result):\n",
    "    if row == len(board) and col == len(board[row]):\n",
    "        return\n",
    "    \n",
    "    steps = [(1,0), (0,-1), (0,1), (-1,0)]\n",
    "    \n",
    "    for i in range(len(steps)):\n",
    "        \n",
    "        temp = board[row][col]\n",
    "        word += board[row][col]\n",
    "        \n",
    "        if word in words and word not in result:\n",
    "            result.append(word)\n",
    "        \n",
    "        board[row][col] = 0\n",
    "        row, col = row + steps[i][0], col + steps[i][1]\n",
    "        if 0 <= row and row < len(board) \\\n",
    "           and 0 <= col and col < len(board[row]) and board[row][col] != 0:\n",
    "            \n",
    "            search(board, word, words, row, col, result)\n",
    "        \n",
    "        word = word[:-1]\n",
    "        row, col = row - steps[i][0], col - steps[i][1]\n",
    "        board[row][col] = temp\n",
    "        \n",
    "        \n",
    "def find_words(board, words):\n",
    "    result = []\n",
    "\n",
    "    for i in range(len(board)):\n",
    "        for j in range(len(board[i])):\n",
    "            search(board, \"\", words, i, j, result)\n",
    "    \n",
    "    return result"
   ]
  },
  {
   "cell_type": "code",
   "execution_count": 637,
   "id": "c9ef7810",
   "metadata": {},
   "outputs": [
    {
     "data": {
      "text/plain": [
       "['oath', 'eat']"
      ]
     },
     "execution_count": 637,
     "metadata": {},
     "output_type": "execute_result"
    }
   ],
   "source": [
    "board = [[\"o\",\"a\",\"a\",\"n\"],[\"e\",\"t\",\"a\",\"e\"],[\"i\",\"h\",\"k\",\"r\"],[\"i\",\"f\",\"l\",\"v\"]]\n",
    "words = [\"oath\",\"pea\",\"eat\",\"rain\"]\n",
    "\n",
    "find_words(board, words)"
   ]
  },
  {
   "cell_type": "code",
   "execution_count": 638,
   "id": "50bc4644",
   "metadata": {},
   "outputs": [
    {
     "data": {
      "text/plain": [
       "['aa']"
      ]
     },
     "execution_count": 638,
     "metadata": {},
     "output_type": "execute_result"
    }
   ],
   "source": [
    "board = [[\"a\", \"a\"]]\n",
    "words = [\"aa\"]\n",
    "\n",
    "find_words(board, words)"
   ]
  },
  {
   "cell_type": "markdown",
   "id": "205ab4f1",
   "metadata": {},
   "source": [
    "# NEW EXERCISES - FROM GITHUB\n",
    "\n",
    "https://github.com/ombharatiya/FAANG-Coding-Interview-Questions#google-top-50"
   ]
  },
  {
   "cell_type": "markdown",
   "id": "8cab7bb3",
   "metadata": {},
   "source": [
    "# 12 - Triple Step\n",
    "\n",
    "A child is running up a staircase with n steps and can hop either 1 step, 2 steps, or 3 steps at a time. Implement a method to count how many possible ways the child can run up the stairs."
   ]
  },
  {
   "cell_type": "code",
   "execution_count": 62,
   "id": "5cb67b68",
   "metadata": {},
   "outputs": [],
   "source": [
    "\"\"\"\n",
    "     n\n",
    "    ...\n",
    "   4\n",
    "  3\n",
    " 2\n",
    "1\n",
    "\"\"\"\n",
    "# brute force\n",
    "def find_num_ways_bf(n_steps):\n",
    "    if n_steps == 0:\n",
    "        return 1\n",
    "    \n",
    "    total = 0\n",
    "    total += find_num_ways_bf(n_steps - 1) \n",
    "    total += find_num_ways_bf(n_steps - 2) if n_steps - 2 >= 0 else 0\n",
    "    total += find_num_ways_bf(n_steps - 3) if n_steps - 3 >= 0 else 0\n",
    "    \n",
    "    return total\n",
    "\n",
    "# memoization\n",
    "def find_num_ways_opt(n_steps, steps, memo={}):\n",
    "    if n_steps == 0:\n",
    "        return 1\n",
    "    if n_steps in memo:\n",
    "        return memo[n_steps]\n",
    "    \n",
    "    total = 0\n",
    "    for i in steps:\n",
    "        if n_steps - i >= 0:\n",
    "            memo[n_steps - i] = find_num_ways_opt(n_steps - i, steps)\n",
    "            total += memo[n_steps - i]\n",
    "    \n",
    "    return total"
   ]
  },
  {
   "cell_type": "code",
   "execution_count": 63,
   "id": "6418df18",
   "metadata": {},
   "outputs": [
    {
     "data": {
      "text/plain": [
       "(13, 13)"
      ]
     },
     "execution_count": 63,
     "metadata": {},
     "output_type": "execute_result"
    }
   ],
   "source": [
    "find_num_ways_bf(5), find_num_ways_opt(5, [1, 2, 3])"
   ]
  },
  {
   "cell_type": "markdown",
   "id": "34708faf",
   "metadata": {},
   "source": [
    "# 13 - Robot in a Grid\n",
    "\n",
    "Imagine a robot sitting on the upper left corner of grid with r rows and c columns. The robot can only move in two directions, right and down, but certain cells a re \"off limits\" such that the robot cannot step on them. Design an algorithm to find a path for the robot from the top left to the bottom right."
   ]
  },
  {
   "cell_type": "code",
   "execution_count": 77,
   "id": "6ac6af96",
   "metadata": {},
   "outputs": [],
   "source": [
    "\"\"\"\n",
    "Input: N = 4 m[][] = {{1, 0, 0, 0}, {1, 1, 0, 1}, {1, 1, 0, 0}, {0, 1, 1, 1}}\n",
    "\n",
    "Output: DDRDRR DRDDRR\n",
    "\"\"\"\n",
    "def is_valid(grid, row, col):\n",
    "    if (row < 0 or row >= len(grid)\n",
    "        or col < 0 or col >= len(grid[0])):\n",
    "        return False\n",
    "    return True\n",
    "    \n",
    "def find_path_util(grid, row, col, paths, path=[]):\n",
    "    if row == len(grid)-1 and col == len(grid[0])-1:\n",
    "        paths.append(path.copy())\n",
    "                \n",
    "    steps = [(1,0), (0,1)]\n",
    "    direction = [\"D\", \"R\"]\n",
    "    for i in range(len(steps)):\n",
    "        row += steps[i][0]\n",
    "        col += steps[i][1]\n",
    "        if is_valid(grid, row, col) and grid[row][col] != 0:\n",
    "            path.append((direction[i], row, col))\n",
    "            find_path_util(grid, row, col, paths, path)\n",
    "            path.pop()\n",
    "        row -= steps[i][0]\n",
    "        col -= steps[i][1]\n",
    "\n",
    "def find_path(grid):\n",
    "    paths = []\n",
    "    find_path_util(grid, 0, 0, paths)\n",
    "    return paths"
   ]
  },
  {
   "cell_type": "code",
   "execution_count": 78,
   "id": "e6aad15a",
   "metadata": {},
   "outputs": [
    {
     "data": {
      "text/plain": [
       "[[('D', 1, 0),\n",
       "  ('D', 2, 0),\n",
       "  ('R', 2, 1),\n",
       "  ('D', 3, 1),\n",
       "  ('R', 3, 2),\n",
       "  ('R', 3, 3)],\n",
       " [('D', 1, 0),\n",
       "  ('R', 1, 1),\n",
       "  ('D', 2, 1),\n",
       "  ('D', 3, 1),\n",
       "  ('R', 3, 2),\n",
       "  ('R', 3, 3)]]"
      ]
     },
     "execution_count": 78,
     "metadata": {},
     "output_type": "execute_result"
    }
   ],
   "source": [
    "N = 4 \n",
    "grid = [[1, 0, 0, 0], [1, 1, 0, 1], [1, 1, 0, 0], [0, 1, 1, 1]]\n",
    "\n",
    "find_path(grid)"
   ]
  },
  {
   "cell_type": "markdown",
   "id": "7607863f",
   "metadata": {},
   "source": [
    "# 14 - Magic Index\n",
    "\n",
    "A magic index in an array A[0.. .n-1] is defined to be an index such that A[i] = i. Given a sorted array of distinct integers, write a method to find a magic index, if one exists, in array A.\n",
    "\n",
    "__FOLLOW UP__\n",
    "\n",
    "What if the values are not distinct?"
   ]
  },
  {
   "cell_type": "code",
   "execution_count": 96,
   "id": "0bc27aad",
   "metadata": {},
   "outputs": [],
   "source": [
    "\"\"\"\n",
    "      0 1 2 3 4 5\n",
    "in = [-1,1,3,4,5,6]\n",
    "\n",
    "out = [0]\n",
    "\n",
    "\n",
    "\"\"\"\n",
    "def find_magic_index(arr):\n",
    "    \n",
    "    for i in range(len(arr)):\n",
    "        if i == arr[i]:\n",
    "            return i\n",
    "            \n",
    "    return result"
   ]
  },
  {
   "cell_type": "code",
   "execution_count": 110,
   "id": "bd0a35d3",
   "metadata": {},
   "outputs": [
    {
     "data": {
      "text/plain": [
       "1"
      ]
     },
     "execution_count": 110,
     "metadata": {},
     "output_type": "execute_result"
    }
   ],
   "source": [
    "arr = [-1,1,2,2,2,2]\n",
    "find_magic_index(arr)"
   ]
  },
  {
   "cell_type": "code",
   "execution_count": 111,
   "id": "22794fa3",
   "metadata": {},
   "outputs": [],
   "source": [
    "def find_magic_index(nums):\n",
    "\n",
    "    return find_magic_index_util(nums, 0, len(nums) - 1)\n",
    "\n",
    "def find_magic_index_util(nums, left, right):\n",
    "    \n",
    "    if left > right:\n",
    "        return -1\n",
    "\n",
    "    mid = (left + right) // 2\n",
    "\n",
    "    left_ans = find_magic_index_util(nums, left, mid-1)\n",
    "\n",
    "    if left_ans != -1:\n",
    "        return left_ans\n",
    "    \n",
    "    elif nums[mid] == mid:\n",
    "        return mid\n",
    "    \n",
    "    return find_magic_index_util(nums, mid + 1, right)"
   ]
  },
  {
   "cell_type": "code",
   "execution_count": 112,
   "id": "98e17bd7",
   "metadata": {},
   "outputs": [
    {
     "data": {
      "text/plain": [
       "1"
      ]
     },
     "execution_count": 112,
     "metadata": {},
     "output_type": "execute_result"
    }
   ],
   "source": [
    "arr = [-1,1,3,4,5,6]\n",
    "find_magic_index(arr)"
   ]
  },
  {
   "cell_type": "markdown",
   "id": "3e573d72",
   "metadata": {},
   "source": [
    "# 15 - Power Set\n",
    "\n",
    "Write a method to return all subsets of a set."
   ]
  },
  {
   "cell_type": "code",
   "execution_count": 136,
   "id": "782570b1",
   "metadata": {},
   "outputs": [],
   "source": [
    "\"\"\"\n",
    "s = [1,2,3]\n",
    "all = [[1], [1,2], [1,3], [2], [2,3], [3], [1,2,3]]\n",
    "\n",
    "            0,[]\n",
    "          /      \\\n",
    "         1,[]     []         \n",
    "        / \\        \\      \n",
    "       2   3        3     \n",
    "        \n",
    "\"\"\"\n",
    "def power_set_util(s, temp, idx, result):\n",
    "    if idx == len(s):\n",
    "        result.append(temp.copy())\n",
    "        return\n",
    "    \n",
    "    temp.append(s[idx])\n",
    "    power_set_util(s, temp, idx+1, result)\n",
    "    temp.pop()\n",
    "    power_set_util(s, temp, idx+1, result)\n",
    "    \n",
    "\n",
    "def find_power_set(s):\n",
    "    result = []\n",
    "    power_set_util(s, [], 0, result)\n",
    "    return result"
   ]
  },
  {
   "cell_type": "code",
   "execution_count": 137,
   "id": "d6c8fc1c",
   "metadata": {},
   "outputs": [
    {
     "data": {
      "text/plain": [
       "[[1, 2, 3], [1, 2], [1, 3], [1], [2, 3], [2], [3], []]"
      ]
     },
     "execution_count": 137,
     "metadata": {},
     "output_type": "execute_result"
    }
   ],
   "source": [
    "s = [1,2,3]\n",
    "find_power_set(s)"
   ]
  },
  {
   "cell_type": "markdown",
   "id": "a7a498ba",
   "metadata": {},
   "source": [
    "# 16 - Recursive Multiply\n",
    "\n",
    "Write a recursive function to multiply two positive integers without using the * operator. You can use addition, subtraction, and bit shifting, but you should minimize the number of those operations."
   ]
  },
  {
   "cell_type": "code",
   "execution_count": 138,
   "id": "74bea0f1",
   "metadata": {},
   "outputs": [],
   "source": [
    "\"\"\"\n",
    "5*4 = 20\n",
    "5 + 5 + 5 + 5 = 20\n",
    "\"\"\"\n",
    "def multiply_util(int_1, int_2):\n",
    "    if int_1 == 1:\n",
    "        return int_2\n",
    "    return int_2 + multiply_util(int_1 - 1, int_2)\n",
    "\n",
    "def multiply(int_1, int_2):\n",
    "    if int_2 < int_1:\n",
    "        multiply(int_2, int_1)\n",
    "        \n",
    "    return multiply_util(int_1, int_2)"
   ]
  },
  {
   "cell_type": "code",
   "execution_count": 139,
   "id": "73b445a8",
   "metadata": {},
   "outputs": [
    {
     "data": {
      "text/plain": [
       "20"
      ]
     },
     "execution_count": 139,
     "metadata": {},
     "output_type": "execute_result"
    }
   ],
   "source": [
    "multiply(4, 5)"
   ]
  },
  {
   "cell_type": "markdown",
   "id": "9d526291",
   "metadata": {},
   "source": [
    "# 17 - Towers of Hanoi\n",
    "\n",
    "In the classic problem of the Towers of Hanoi, you have 3 towers and N disks of different sizes which can slide onto any tower. The puzzle starts with disks sorted in ascending order of size from top to bottom (i.e., each disk sits on top of an even larger one). You have the following constraints:\n",
    "\n",
    "(1) Only one disk can be moved at a time.\n",
    "\n",
    "(2) A disk is slid off the top of one tower onto another tower.\n",
    "\n",
    "(3) A disk cannot be placed on top of a smaller disk.\n",
    "\n",
    "Write a program to move the disks from the first tower to the last using stacks."
   ]
  },
  {
   "cell_type": "code",
   "execution_count": 143,
   "id": "70ad47bc",
   "metadata": {},
   "outputs": [],
   "source": [
    "def tower_of_hanoi(n, source, destination, auxiliary):\n",
    "    if n==1:\n",
    "        print (\"Move disk 1 from source\",source,\"to destination\",destination)\n",
    "        return\n",
    "    tower_of_hanoi(n-1, source, auxiliary, destination)\n",
    "    print (\"Move disk\",n,\"from source\",source,\"to destination\",destination)\n",
    "    tower_of_hanoi(n-1, auxiliary, destination, source)"
   ]
  },
  {
   "cell_type": "code",
   "execution_count": 144,
   "id": "9dce880d",
   "metadata": {},
   "outputs": [
    {
     "name": "stdout",
     "output_type": "stream",
     "text": [
      "Move disk 1 from source A to destination C\n",
      "Move disk 2 from source A to destination B\n",
      "Move disk 1 from source C to destination B\n",
      "Move disk 3 from source A to destination C\n",
      "Move disk 1 from source B to destination A\n",
      "Move disk 2 from source B to destination C\n",
      "Move disk 1 from source A to destination C\n",
      "Move disk 4 from source A to destination B\n",
      "Move disk 1 from source C to destination B\n",
      "Move disk 2 from source C to destination A\n",
      "Move disk 1 from source B to destination A\n",
      "Move disk 3 from source C to destination B\n",
      "Move disk 1 from source A to destination C\n",
      "Move disk 2 from source A to destination B\n",
      "Move disk 1 from source C to destination B\n"
     ]
    }
   ],
   "source": [
    "n = 4\n",
    "tower_of_hanoi(n,'A','B','C')"
   ]
  },
  {
   "cell_type": "code",
   "execution_count": 249,
   "id": "022d46c4",
   "metadata": {},
   "outputs": [],
   "source": [
    "# using 3 stacks\n",
    "def tower_of_hanoi_util(disks, t1, t2, t3):\n",
    "    if disks == 1:\n",
    "        return\n",
    "    \n",
    "    t3.append(t1.pop())\n",
    "    print(disks)\n",
    "    tower_of_hanoi_util(disks - 1, t1, t3, t2)\n",
    "    t2.append(t3.pop())\n",
    "    tower_of_hanoi_util(disks - 1, t1, t2, t3)\n",
    "    \n",
    "    \n",
    "def tower_of_hanoi(disks):\n",
    "    source = [i for i in range(disks, 0, -1)]\n",
    "    auxiliary = []\n",
    "    destination = []\n",
    "    \n",
    "    tower_of_hanoi_util(disks, source, auxiliary, destination)\n",
    "    \n",
    "    return destination"
   ]
  },
  {
   "cell_type": "code",
   "execution_count": 250,
   "id": "c2a7619c",
   "metadata": {},
   "outputs": [
    {
     "name": "stdout",
     "output_type": "stream",
     "text": [
      "3\n",
      "2\n",
      "2\n"
     ]
    },
    {
     "data": {
      "text/plain": [
       "[1]"
      ]
     },
     "execution_count": 250,
     "metadata": {},
     "output_type": "execute_result"
    }
   ],
   "source": [
    "tower_of_hanoi(3)"
   ]
  },
  {
   "cell_type": "markdown",
   "id": "15d60976",
   "metadata": {},
   "source": [
    "# 18 - Permutations without Dups\n",
    "\n",
    "Write a method to compute all permutations of a string of unique characters."
   ]
  },
  {
   "cell_type": "code",
   "execution_count": 1,
   "id": "df56b82a",
   "metadata": {},
   "outputs": [],
   "source": [
    "\n",
    "\"\"\"\n",
    "in = asd\n",
    "out = [asd, ads, sad, sda, das, dsa]\n",
    "\"\"\"\n",
    "def swap(string, i, j):\n",
    "    temp      = string[i]\n",
    "    string[i] = string[j]\n",
    "    string[j] = temp\n",
    "    \n",
    "    return string\n",
    "\n",
    "def find_permutations_util(string, idx, all_permutations):\n",
    "    if idx == len(string):\n",
    "        return \n",
    "    \n",
    "    all_permutations.add(\"\".join(string))\n",
    "    for i in range(len(string)):\n",
    "        swap(string, idx, i)        \n",
    "        find_permutations_util(string, idx+1, all_permutations)\n",
    "        swap(string, idx, i)    \n",
    "\n",
    "def find_permutations(string):\n",
    "    all_permutations = set()\n",
    "    find_permutations_util(list(string), 0, all_permutations)\n",
    "    return all_permutations"
   ]
  },
  {
   "cell_type": "code",
   "execution_count": 2,
   "id": "bfa87811",
   "metadata": {},
   "outputs": [
    {
     "data": {
      "text/plain": [
       "{'ads', 'asd', 'das', 'dsa', 'sad', 'sda'}"
      ]
     },
     "execution_count": 2,
     "metadata": {},
     "output_type": "execute_result"
    }
   ],
   "source": [
    "find_permutations(\"asd\")"
   ]
  },
  {
   "cell_type": "markdown",
   "id": "480c3851",
   "metadata": {},
   "source": [
    "# 19 - Permutations with Dups\n",
    "\n",
    "Write a method to compute all permutations of a string whose characters are not necessarily unique.The list of permutations should not have duplicates."
   ]
  },
  {
   "cell_type": "code",
   "execution_count": 175,
   "id": "635c6d82",
   "metadata": {},
   "outputs": [],
   "source": [
    "def swap(string, i, j):\n",
    "    temp      = string[i]\n",
    "    string[i] = string[j]\n",
    "    string[j] = temp\n",
    "    \n",
    "    return string\n",
    "\n",
    "def find_permutations_util(string, idx, all_permutations):\n",
    "    if idx == len(string):\n",
    "        return \n",
    "    \n",
    "    all_permutations.add(\"\".join(string))\n",
    "    for i in range(len(string)):\n",
    "        swap(string, idx, i)        \n",
    "        find_permutations_util(string, idx+1, all_permutations)\n",
    "        swap(string, idx, i)    \n",
    "\n",
    "def find_permutations(string):\n",
    "    all_permutations = set()\n",
    "    find_permutations_util(list(string), 0, all_permutations)\n",
    "    return all_permutations"
   ]
  },
  {
   "cell_type": "code",
   "execution_count": 178,
   "id": "1d992a73",
   "metadata": {},
   "outputs": [
    {
     "data": {
      "text/plain": [
       "{'aas', 'asa', 'saa'}"
      ]
     },
     "execution_count": 178,
     "metadata": {},
     "output_type": "execute_result"
    }
   ],
   "source": [
    "find_permutations(\"asa\")"
   ]
  },
  {
   "cell_type": "markdown",
   "id": "af9cac01",
   "metadata": {},
   "source": [
    "# 20 - Parens\n",
    "\n",
    "Implement an algorithm to print all valid (e.g., properly opened and closed) combinations of n pairs of parentheses.\n",
    "\n",
    "__EXAMPLE__\n",
    "\n",
    "Input: 3\n",
    "\n",
    "Output: ((())), (()()), (())(), ()(()), ()()()"
   ]
  },
  {
   "cell_type": "code",
   "execution_count": 427,
   "id": "f429ac34",
   "metadata": {},
   "outputs": [],
   "source": [
    "def printParenthesis(str, n):\n",
    "    if(n > 0):\n",
    "        _printParenthesis(str, 0, n, 0, 0)\n",
    "    return\n",
    " \n",
    "def _printParenthesis(str, position, n, open, close):\n",
    " \n",
    "    if(close == n):\n",
    "        for i in str:\n",
    "            print(i, end=\"\")\n",
    "        print()\n",
    "        return\n",
    "    else:\n",
    "        if(open > close):\n",
    "            str[position] = ')'\n",
    "            _printParenthesis(str, position + 1, n, open, close + 1)\n",
    "        if(open < n):\n",
    "            str[position] = '('\n",
    "            _printParenthesis(str, position + 1, n, open + 1, close)"
   ]
  },
  {
   "cell_type": "code",
   "execution_count": 428,
   "id": "9c968d5f",
   "metadata": {},
   "outputs": [
    {
     "name": "stdout",
     "output_type": "stream",
     "text": [
      "()()()\n",
      "()(())\n",
      "(())()\n",
      "(()())\n",
      "((()))\n"
     ]
    }
   ],
   "source": [
    "# Driver Code\n",
    "n = 3\n",
    "str = [\"\"] * 2 * n\n",
    "printParenthesis(str, n)"
   ]
  },
  {
   "cell_type": "markdown",
   "id": "848bd1bb",
   "metadata": {},
   "source": [
    "# 21 - Paint Fill\n",
    "\n",
    "Implement the \"paint fill\" function that one might see on many image editing programs. That is, given a screen (represented by a two-dimensional array of colors), a point, and a new color, fill in the surrounding area until the color changes from the original color."
   ]
  },
  {
   "cell_type": "code",
   "execution_count": 270,
   "id": "10ac4cec",
   "metadata": {},
   "outputs": [],
   "source": [
    "def is_valid(img, row, col):\n",
    "    if (row < 0 or row >= len(img)\n",
    "       or col < 0 or col >= len(img[0])):\n",
    "        return False\n",
    "    return True\n",
    "\n",
    "def paint_fill_util(img, click, row, col):\n",
    "    if (not is_valid(img, row, col)\n",
    "       or click != img[row][col]):\n",
    "        return\n",
    "    \n",
    "    steps = [(-1, 0), (0, 1), (1, 0), (0, -1)]\n",
    "    \n",
    "    img[row][col] = 5\n",
    "    \n",
    "    for step in steps:\n",
    "        row += step[0]\n",
    "        col += step[1]\n",
    "        paint_fill_util(img, click, row, col)\n",
    "        row -= step[0]\n",
    "        col -= step[1]\n",
    "        \n",
    "\n",
    "def paint_fill(img, click):\n",
    "    paint_fill_util(img, img[click[0]][click[1]], 0, 0)\n",
    "    return img"
   ]
  },
  {
   "cell_type": "code",
   "execution_count": 271,
   "id": "9ab272eb",
   "metadata": {},
   "outputs": [
    {
     "data": {
      "text/plain": [
       "[[5, 5, 5, 5, 5, 5, 5, 5],\n",
       " [5, 5, 5, 5, 5, 5, 2, 0],\n",
       " [5, 0, 0, 5, 0, 2, 1, 1],\n",
       " [5, 2, 2, 2, 2, 0, 1, 0],\n",
       " [5, 5, 5, 2, 2, 0, 1, 0],\n",
       " [5, 5, 5, 2, 2, 2, 2, 0],\n",
       " [5, 5, 5, 5, 5, 2, 1, 1],\n",
       " [2, 2, 5, 5, 5, 2, 2, 1]]"
      ]
     },
     "execution_count": 271,
     "metadata": {},
     "output_type": "execute_result"
    }
   ],
   "source": [
    "img = [\n",
    "[1, 1, 1, 1, 1, 1, 1, 1],\n",
    "[1, 1, 1, 1, 1, 1, 2, 0],\n",
    "[1, 0, 0, 1, 0, 2, 1, 1],\n",
    "[1, 2, 2, 2, 2, 0, 1, 0],\n",
    "[1, 1, 1, 2, 2, 0, 1, 0],\n",
    "[1, 1, 1, 2, 2, 2, 2, 0],\n",
    "[1, 1, 1, 1, 1, 2, 1, 1],\n",
    "[2, 2, 1, 1, 1, 2, 2, 1],\n",
    "]\n",
    "\n",
    "click = (0,0)\n",
    "\n",
    "paint_fill(img, click)"
   ]
  },
  {
   "cell_type": "markdown",
   "id": "066a0e32",
   "metadata": {},
   "source": [
    "# 22 - Coins\n",
    "\n",
    "Given an infinite number of quarters (25 cents), dimes (10 cents), nickels (5 cents), and pennies (1 cent), write code to calculate the number of ways of representing n cents."
   ]
  },
  {
   "cell_type": "code",
   "execution_count": 293,
   "id": "98d282b4",
   "metadata": {},
   "outputs": [],
   "source": [
    "\"\"\"\n",
    "70\n",
    "coins = [25, 10, 5, 1]\n",
    "\n",
    "                 70\n",
    "            -25 /  \\ -10\n",
    "               /    \\\n",
    "             45  \n",
    "    -25/ -10/  \\-5  \\-1\n",
    "\"\"\"\n",
    "def helper(value, result, coins, temp=[]):\n",
    "    if value < 0:\n",
    "        return\n",
    "    elif value == 0:\n",
    "        aux = sorted(temp)\n",
    "        if aux not in result:\n",
    "            result.append(aux.copy())\n",
    "    \n",
    "    for coin in coins:\n",
    "        temp.append(coin)\n",
    "        helper(value-coin, result, coins, temp)\n",
    "        temp.pop()\n",
    "\n",
    "def find_combination_coins(value):\n",
    "    result = []\n",
    "    coins = [25, 10, 5, 1]\n",
    "    helper(value, result, coins)\n",
    "    return result"
   ]
  },
  {
   "cell_type": "code",
   "execution_count": 294,
   "id": "cada10de",
   "metadata": {},
   "outputs": [
    {
     "data": {
      "text/plain": [
       "[[5, 10],\n",
       " [1, 1, 1, 1, 1, 10],\n",
       " [5, 5, 5],\n",
       " [1, 1, 1, 1, 1, 5, 5],\n",
       " [1, 1, 1, 1, 1, 1, 1, 1, 1, 1, 5],\n",
       " [1, 1, 1, 1, 1, 1, 1, 1, 1, 1, 1, 1, 1, 1, 1]]"
      ]
     },
     "execution_count": 294,
     "metadata": {},
     "output_type": "execute_result"
    }
   ],
   "source": [
    "find_combination_coins(15)"
   ]
  },
  {
   "cell_type": "markdown",
   "id": "0a50ff9a",
   "metadata": {},
   "source": [
    "# 23 - Eight Queens\n",
    "\n",
    "Write an algorithm to print all ways of arranging eight queens on an 8x8 chess board so that none of them share the same row, column, or diagonal. In this case, \"diagonal\" means all diagonals, not just the two that bisect the board."
   ]
  },
  {
   "cell_type": "code",
   "execution_count": 333,
   "id": "3bd9899f",
   "metadata": {},
   "outputs": [],
   "source": [
    "def is_valid_position(grid, row, col):\n",
    "    # left\n",
    "    row_aux = row\n",
    "    col_aux = col\n",
    "    while col_aux >= 0:\n",
    "        if grid[row][col_aux] == \"Q\":\n",
    "            return False\n",
    "        col_aux -= 1\n",
    "    \n",
    "    # upper diagonal\n",
    "    row_aux = row\n",
    "    col_aux = col\n",
    "    while col_aux >= 0 and row_aux >= 0:\n",
    "        if grid[row_aux][col_aux] == \"Q\":\n",
    "            return False\n",
    "        row_aux -= 1\n",
    "        col_aux -= 1\n",
    "    \n",
    "    # lower diagonal\n",
    "    row_aux = row\n",
    "    col_aux = col\n",
    "    while col_aux >= 0 and row_aux < len(grid):\n",
    "        if grid[row_aux][col_aux] == \"Q\":\n",
    "            return False\n",
    "        row_aux += 1\n",
    "        col_aux -= 1\n",
    "        \n",
    "    return True\n",
    "\n",
    "def find_positions_util(grid, row, col, result):\n",
    "    if col == len(grid):\n",
    "        result.append([i[:] for i in grid])\n",
    "        return\n",
    "    \n",
    "    for r in range(len(grid)):\n",
    "        if is_valid_position(grid, r, col):\n",
    "            grid[r][col] = \"Q\"\n",
    "            find_positions_util(grid, r, col + 1, result)\n",
    "            grid[r][col] = \"*\"\n",
    "    \n",
    "def find_positions(grid):\n",
    "    result = []\n",
    "    find_positions_util(grid, 0, 0, result)\n",
    "    return result"
   ]
  },
  {
   "cell_type": "code",
   "execution_count": 334,
   "id": "0427ede4",
   "metadata": {},
   "outputs": [
    {
     "data": {
      "text/plain": [
       "[[['*', '*', 'Q', '*'],\n",
       "  ['Q', '*', '*', '*'],\n",
       "  ['*', '*', '*', 'Q'],\n",
       "  ['*', 'Q', '*', '*']],\n",
       " [['*', 'Q', '*', '*'],\n",
       "  ['*', '*', '*', 'Q'],\n",
       "  ['Q', '*', '*', '*'],\n",
       "  ['*', '*', 'Q', '*']]]"
      ]
     },
     "execution_count": 334,
     "metadata": {},
     "output_type": "execute_result"
    }
   ],
   "source": [
    "n = 4\n",
    "grid = [[\"*\"] * n for i in range(n)]\n",
    "find_positions(grid)"
   ]
  },
  {
   "cell_type": "markdown",
   "id": "b058ab01",
   "metadata": {},
   "source": [
    "# 24 - Stack of Boxes\n",
    "\n",
    "You have a stack of n boxes, with widths w., heights h, and depths d. The boxes cannot be rotated and can only be stacked on top of one another if each box in the stack is strictly larger than the box above it in width, height, and depth. Implement a method to compute the height of the tallest possible stack. The height of a stack is the sum of the heights of each box."
   ]
  },
  {
   "cell_type": "code",
   "execution_count": 423,
   "id": "6b2cdd15",
   "metadata": {},
   "outputs": [],
   "source": [
    "class Box:\n",
    "    def __init__(self, width, height, depth):\n",
    "        self.width  = width\n",
    "        self.height = height\n",
    "        self.depth  = depth\n",
    "        \n",
    "    def can_be_top(self, box):\n",
    "        return box is None or (self.width < box.width and\n",
    "                               self.height < box.height and\n",
    "                               self.depth < box.depth)\n",
    "    \n",
    "def create_tallest_stack_util(boxes, idx, box_bottom, result, temp=[]):\n",
    "    \n",
    "    for box in boxes:\n",
    "        if box.can_be_top(box_bottom):\n",
    "            temp.append((box.width, box.height, box.depth))\n",
    "            create_tallest_stack_util(boxes, idx+1, box, result, temp)\n",
    "            temp.pop()\n",
    "    \n",
    "    sum_height = 0\n",
    "    for i in temp:\n",
    "        sum_height += i[1]\n",
    "        \n",
    "    # all combinations of boxes on top of others\n",
    "    result.append(sum_height)\n",
    "    \n",
    "def create_tallest_stack(boxes):\n",
    "    result = []\n",
    "    create_tallest_stack_util(boxes, 0, None, result)\n",
    "    return max(result)"
   ]
  },
  {
   "cell_type": "code",
   "execution_count": 424,
   "id": "9a1d7a63",
   "metadata": {},
   "outputs": [
    {
     "data": {
      "text/plain": [
       "6"
      ]
     },
     "execution_count": 424,
     "metadata": {},
     "output_type": "execute_result"
    }
   ],
   "source": [
    "boxes = []\n",
    "for i in range(2, 0, -1):\n",
    "    boxes.append(Box(i, i, i))\n",
    "    \n",
    "for i in range(1, 4):\n",
    "    boxes.append(Box(i, i, i))\n",
    "    \n",
    "create_tallest_stack(boxes)"
   ]
  },
  {
   "cell_type": "markdown",
   "id": "f70aad3d",
   "metadata": {},
   "source": [
    "# 25 - Boolean Evaluation\n",
    "\n",
    "Given a boolean expression consisting of the symbols 0 (false), 1 (true), & (AND), | (OR), and ^ (XOR), and a desired boolean result value result, implement a function to count the number of ways of parenthesizing the expression such that it evaluates to result. \n",
    "\n",
    "__EXAMPLE__\n",
    "\n",
    "countEval(\"1^0|0|1\", false) -> 2\n",
    "\n",
    "countEval(\"0&0&0&1^1|0\", true) -> 10"
   ]
  },
  {
   "cell_type": "code",
   "execution_count": null,
   "id": "29399b4f",
   "metadata": {},
   "outputs": [],
   "source": []
  },
  {
   "cell_type": "code",
   "execution_count": null,
   "id": "92ed0828",
   "metadata": {},
   "outputs": [],
   "source": []
  }
 ],
 "metadata": {
  "kernelspec": {
   "display_name": "Python 3 (ipykernel)",
   "language": "python",
   "name": "python3"
  },
  "language_info": {
   "codemirror_mode": {
    "name": "ipython",
    "version": 3
   },
   "file_extension": ".py",
   "mimetype": "text/x-python",
   "name": "python",
   "nbconvert_exporter": "python",
   "pygments_lexer": "ipython3",
   "version": "3.8.9"
  }
 },
 "nbformat": 4,
 "nbformat_minor": 5
}
