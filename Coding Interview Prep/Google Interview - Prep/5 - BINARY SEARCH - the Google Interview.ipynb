{
 "cells": [
  {
   "cell_type": "markdown",
   "id": "2e068020",
   "metadata": {},
   "source": [
    "# BINARY SEARCH - the Google Interview\n",
    "\n",
    "https://takeuforward-org.cdn.ampproject.org/c/s/takeuforward.org/interviews/strivers-sde-sheet-top-coding-interview-problems/?amp=1"
   ]
  },
  {
   "cell_type": "markdown",
   "id": "9f2f2af7",
   "metadata": {},
   "source": [
    "# 1 - Nth Root of a Number using Binary Search\n",
    "\n",
    "__Problem Statement:__ Given two numbers N and M, find the Nth root of M.\n",
    "\n",
    "The nth root of a number M is defined as a number X when raised to the power N equals M.\n",
    "\n",
    "__Example 1:__\n",
    "\n",
    "Input: N=3 M=27\n",
    "\n",
    "Output: 3\n",
    "\n",
    "Explanation: The cube root of 27 is 3.\n",
    "\n",
    "__Example 2:__\n",
    "\n",
    "Input: N=2 M=16\n",
    "\n",
    "Output: 4\n",
    "\n",
    "Explanation: The square root of 16 is 4\n",
    "\n",
    "__Example 3:__\n",
    "\n",
    "Input: N=5 M=243\n",
    "\n",
    "Output: 3\n",
    "\n",
    "Explaination: The 5th root of 243 is 3"
   ]
  },
  {
   "cell_type": "code",
   "execution_count": 6,
   "id": "80812f87",
   "metadata": {},
   "outputs": [],
   "source": [
    "\"\"\"\n",
    "N = 3\n",
    "M = 27\n",
    "\n",
    "find a number x which raised to the power N=3 will be M=27\n",
    "x^3 = 27\n",
    "\n",
    "x**3 = 27, and I am supposed to find x, which in this case is 3\n",
    "\n",
    "x**3 = 27 => 27**(1/3) = x\n",
    "\n",
    "x = 27**(1/3) => return M**(1/N)\n",
    "\n",
    "\"\"\"\n",
    "def find_nth_root(n,m):\n",
    "    return int(m**(1/n))"
   ]
  },
  {
   "cell_type": "code",
   "execution_count": 84,
   "id": "ac6fdcee",
   "metadata": {},
   "outputs": [
    {
     "data": {
      "text/plain": [
       "243"
      ]
     },
     "execution_count": 84,
     "metadata": {},
     "output_type": "execute_result"
    }
   ],
   "source": [
    "find_nth_root(5, 243)"
   ]
  },
  {
   "cell_type": "code",
   "execution_count": 104,
   "id": "675aa895",
   "metadata": {},
   "outputs": [
    {
     "data": {
      "text/plain": [
       "243"
      ]
     },
     "execution_count": 104,
     "metadata": {},
     "output_type": "execute_result"
    }
   ],
   "source": [
    "def power(number, exp):\n",
    "    ans = 1\n",
    "    for i in range(exp):\n",
    "        ans *= number\n",
    "    return ans\n",
    "    \n",
    "def find_nth_root(n, m):\n",
    "    low = 1\n",
    "    high = m\n",
    "    \n",
    "    while low <= high:\n",
    "        mid = low + (high - low)//2\n",
    "        temp = power(mid, n)\n",
    "\n",
    "        if temp == m:\n",
    "            return temp\n",
    "        elif temp < m:\n",
    "            low = mid + 1\n",
    "        else:\n",
    "            high = mid - 1\n",
    "    \n",
    "    return None\n",
    "\n",
    "find_nth_root(5, 243)"
   ]
  },
  {
   "cell_type": "markdown",
   "id": "d26f9610",
   "metadata": {},
   "source": [
    "# 2 - Matrix Median\n",
    "\n",
    "__Problem Statement__\n",
    "\n",
    "You have been given a matrix of ‘N’ rows and ‘M’ columns filled up with integers where every row is sorted in non-decreasing order. Your task is to find the overall median of the matrix i.e if all elements of the matrix are written in a single line, then you need to return the median of that linear array.\n",
    "The median of a finite list of numbers is the \"middle\" number when those numbers are listed in order from smallest to greatest. If there is an odd number of observations, the middle one is picked. For example, consider the list of numbers [1, 3, 3, 6, 7, 8, 9]. This list contains seven numbers. The median is the fourth of them, which is 6.\n",
    "\n",
    "\n",
    "__Input Format:__\n",
    "The first line contains a single integer ‘T’ representing the number of test cases. \n",
    "\n",
    "The first line of each test case will contain two integers ‘N’ and ‘M’ denoting the number of rows and columns, respectively.\n",
    "\n",
    "Next ‘N’ lines contain ‘M’ space-separated integers each denoting the elements in the matrix.\n",
    "\n",
    "__Output Format:__\n",
    "For each test case, print an integer which is the overall median of the given matrix.\n",
    "\n",
    "Output for every test case will be printed in a separate line.\n",
    "\n",
    "__Note:__\n",
    "You don’t need to print anything; It has already been taken care of. Just implement the given function."
   ]
  },
  {
   "cell_type": "code",
   "execution_count": 57,
   "id": "c476bd05",
   "metadata": {},
   "outputs": [],
   "source": [
    "def quick(arr, mid):\n",
    "    if len(arr) <= 1:\n",
    "        return arr\n",
    "    \n",
    "    pivot = arr.pop()\n",
    "    left = []\n",
    "    right = []\n",
    "    \n",
    "    for i in arr:\n",
    "        if i <= pivot:\n",
    "            left.append(i)\n",
    "        else:\n",
    "            right.append(i)\n",
    "        \n",
    "    if len(left) < mid:\n",
    "        return left + [pivot] + quick(right,mid)\n",
    "    elif pivot > mid:\n",
    "        return quick(left,mid) + [pivot] + right\n",
    "    else:\n",
    "        left + [pivot] + right\n",
    "\n",
    "def median(matrix):\n",
    "    median = []\n",
    "    \n",
    "    for i in range(len(matrix)):\n",
    "        median.append(matrix[i][len(matrix[i])//2])\n",
    "    \n",
    "    median = quick(median, len(median)//2)\n",
    "    \n",
    "    return median[len(median)//2]"
   ]
  },
  {
   "cell_type": "code",
   "execution_count": 58,
   "id": "5af263b5",
   "metadata": {},
   "outputs": [
    {
     "data": {
      "text/plain": [
       "6"
      ]
     },
     "execution_count": 58,
     "metadata": {},
     "output_type": "execute_result"
    }
   ],
   "source": [
    "matrix = [[2, 6, 9], [1, 5, 11], [3, 7, 8]]\n",
    "median(matrix)"
   ]
  },
  {
   "cell_type": "markdown",
   "id": "facda7c0",
   "metadata": {},
   "source": [
    "# 3 - Search Single Element in a sorted array\n",
    "\n",
    "__Problem Statement:__ Given a sorted array of N integers, where every element except one appears exactly twice and one element appears only once. Search Single Element in a sorted array.\n",
    "\n",
    "__Example 1:__\n",
    "\n",
    "Input: N = 9, array[] = {1,1,2,3,3,4,4,8,8} \n",
    "\n",
    "Output: 2\n",
    "\n",
    "Explanation: Every element in this sorted array except 2 \n",
    "appears twice, therefore the answer returned will be 2.\n",
    "\n",
    "__Example 2:__\n",
    "\n",
    "Input: N = 7, array[] = {11,22,22,34,34,57,57} \n",
    "\n",
    "Output: 11\n",
    "\n",
    "Explanation: Every element in this sorted array except \n",
    "11 appears twice, therefore the answer returned will be 11.\n"
   ]
  },
  {
   "cell_type": "markdown",
   "id": "f9203ee8",
   "metadata": {},
   "source": [
    "### using hash table"
   ]
  },
  {
   "cell_type": "code",
   "execution_count": 66,
   "id": "6c10b6ee",
   "metadata": {},
   "outputs": [],
   "source": [
    "def search_single(arr):\n",
    "    aux = dict()\n",
    "\n",
    "    for idx, value in enumerate(arr):\n",
    "        if aux.get(value) is not None:\n",
    "            aux[value] += 1\n",
    "        else:\n",
    "            aux[value] = 1\n",
    "    \n",
    "    return min(aux, key=aux.get)"
   ]
  },
  {
   "cell_type": "code",
   "execution_count": 68,
   "id": "dacfdba0",
   "metadata": {},
   "outputs": [
    {
     "data": {
      "text/plain": [
       "2"
      ]
     },
     "execution_count": 68,
     "metadata": {},
     "output_type": "execute_result"
    }
   ],
   "source": [
    "array = [1,1,2,3,3,4,4,8,8]\n",
    "search_single(array)"
   ]
  },
  {
   "cell_type": "markdown",
   "id": "cc14d3cd",
   "metadata": {},
   "source": [
    "### using XOR"
   ]
  },
  {
   "cell_type": "code",
   "execution_count": 75,
   "id": "3a6b82a9",
   "metadata": {},
   "outputs": [],
   "source": [
    "def search_single(arr):\n",
    "    element = 0\n",
    "\n",
    "    for value in arr:\n",
    "        element ^= value\n",
    "        \n",
    "    return element"
   ]
  },
  {
   "cell_type": "code",
   "execution_count": 76,
   "id": "fc4b607e",
   "metadata": {},
   "outputs": [
    {
     "data": {
      "text/plain": [
       "2"
      ]
     },
     "execution_count": 76,
     "metadata": {},
     "output_type": "execute_result"
    }
   ],
   "source": [
    "array = [1,1,2,3,3,4,4,8,8]\n",
    "search_single(array)"
   ]
  },
  {
   "cell_type": "markdown",
   "id": "cc28c6a8",
   "metadata": {},
   "source": [
    "### using binary search"
   ]
  },
  {
   "cell_type": "code",
   "execution_count": 105,
   "id": "f3a09ebe",
   "metadata": {},
   "outputs": [],
   "source": [
    "def search_single(arr):\n",
    "    low = 0\n",
    "    high = len(arr)\n",
    "    \n",
    "    while low <= high:\n",
    "        mid = low + (high - low)//2\n",
    "        \n",
    "        if mid % 2 == 0:\n",
    "            if arr[mid] != arr[mid+1]:\n",
    "                high = mid - 1\n",
    "            else:\n",
    "                low = mid + 1\n",
    "        else:\n",
    "            if arr[mid] == arr[mid+1]:\n",
    "                high = mid - 1\n",
    "            else:\n",
    "                low = mid + 1\n",
    "            \n",
    "    return arr[low]"
   ]
  },
  {
   "cell_type": "code",
   "execution_count": 106,
   "id": "e4c60b5f",
   "metadata": {},
   "outputs": [
    {
     "data": {
      "text/plain": [
       "2"
      ]
     },
     "execution_count": 106,
     "metadata": {},
     "output_type": "execute_result"
    }
   ],
   "source": [
    "array = [1,1,2,3,3,4,4,8,8]\n",
    "search_single(array)"
   ]
  },
  {
   "cell_type": "markdown",
   "id": "0e291163",
   "metadata": {},
   "source": [
    "# 4 - Search Element in a Rotated Sorted Array\n",
    "\n",
    "__Problem Statement:__ There is an integer array nums sorted in ascending order (with distinct values). Given the array nums after the possible rotation and an integer target, return the index of target if it is in nums, or -1 if it is not in nums. We need to search a given element in a rotated sorted array.\n",
    "\n",
    "__Example 1:__\n",
    "\n",
    "Input: nums = [4,5,6,7,0,1,2,3], target = 0\n",
    "\n",
    "Output: 4\n",
    "\n",
    "Explanation: Here, the target is 0. We can see that 0 is present in the given rotated sorted array, nums. Thus, we get output as 4, which is the index at which 0 is present in the array.\n",
    "\n",
    "__Example 2:__\n",
    "\n",
    "Input: nums = [4,5,6,7,0,1,2], target = 3\n",
    "\n",
    "Output: -1 \n",
    "\n",
    "Explanation: Here, the target is 3. Since 3 is not present in the given rotated sorted array. Thus, we get output as -1."
   ]
  },
  {
   "cell_type": "markdown",
   "id": "d50f50c1",
   "metadata": {},
   "source": [
    "### we could use linear search with O(n) time complexity, by using binary search, we get O(log n)"
   ]
  },
  {
   "cell_type": "code",
   "execution_count": 107,
   "id": "4b4abddf",
   "metadata": {},
   "outputs": [],
   "source": [
    "def search_rotated(arr, target):\n",
    "    low = 0\n",
    "    high = len(arr)\n",
    "    \n",
    "    while low <= high:\n",
    "        mid = low + (high-low)//2\n",
    "        \n",
    "        if arr[mid] == target:\n",
    "            return mid\n",
    "        \n",
    "        elif arr[low] <= arr[mid]:\n",
    "            if arr[low] <= target and arr[mid] >= target:\n",
    "                high = mid - 1\n",
    "            else:\n",
    "                low = mid + 1\n",
    "    \n",
    "        else:\n",
    "            if arr[mid] <= target and target <= arr[high]:\n",
    "                low = mid + 1\n",
    "            else:\n",
    "                high = mid - 1\n",
    "    return -1"
   ]
  },
  {
   "cell_type": "code",
   "execution_count": 108,
   "id": "d5ddbc8d",
   "metadata": {},
   "outputs": [
    {
     "data": {
      "text/plain": [
       "4"
      ]
     },
     "execution_count": 108,
     "metadata": {},
     "output_type": "execute_result"
    }
   ],
   "source": [
    "nums = [4,5,6,7,0,1,2]\n",
    "target = 0\n",
    "\n",
    "search_rotated(nums, target)"
   ]
  },
  {
   "cell_type": "markdown",
   "id": "6a6bd30b",
   "metadata": {},
   "source": [
    "# 5 - Median of Two Sorted Arrays of different sizes\n",
    "\n",
    "__Problem Statement:__ Given two sorted arrays arr1 and arr2 of size m and n respectively, return the median of the two sorted arrays.\n",
    "\n",
    "__Example 1:__\n",
    "\n",
    "Input format: arr1 = [1,4,7,10,12], arr2 = [2,3,6,15]\n",
    "\n",
    "Output format : 6.00000\n",
    "\n",
    "Explanation:\n",
    "Merge both arrays. Final sorted array is [1,2,3,4,6,7,10,12,15]. We know that to find the median we find the mid element. Since, the size of the element is odd. By formula, the median will be at [(n+1)/2]th position of the final sorted array. Thus, for this example, the median is at [(9+1)/2]th position which is [5]th = 6.\n",
    "\n",
    "__Example 2:__\n",
    "\n",
    "Input: arr1 = [1], arr2 = [2]\n",
    "\n",
    "Output format:\n",
    " 1.50000\n",
    "\n",
    "Explanation:\n",
    " \n",
    "Merge both arrays. Final sorted array is [1,2]. We know that to find the median we find the mid element. Since, the size of the element is even. By formula, the median will be the mean of elements at [n/2]th and  [(n/2)+1]th position of the final sorted array. Thus, for this example, the median is (1+2)/2 = 3/2 = 1.50000."
   ]
  },
  {
   "cell_type": "code",
   "execution_count": 162,
   "id": "1b4030a0",
   "metadata": {},
   "outputs": [],
   "source": [
    "def median(arr1, arr2):\n",
    "    if len(arr1) > len(arr2):\n",
    "        return median(arr2, arr1)\n",
    "    \n",
    "    low = 0\n",
    "    high = len(arr1)\n",
    "    median_position = ((len(arr1)+len(arr2))+1)//2\n",
    "    \n",
    "    while low <= high:\n",
    "        cut1 = low + (high - low)//2\n",
    "        cut2 = median_position - cut1\n",
    "        \n",
    "        l1 = arr1[cut1-1] if cut1 > 0 else float(\"-inf\")\n",
    "        l2 = arr2[cut2-1] if cut2 > 0 else float(\"-inf\")\n",
    "        r1 = arr1[cut1] if cut1 < len(arr1) else float(\"inf\")\n",
    "        r2 = arr2[cut2] if cut2 < len(arr2) else float(\"inf\")\n",
    "        \n",
    "        if l1 <= r2 and l2 <= r1:\n",
    "            if (len(arr1)+len(arr2)) % 2 != 0:\n",
    "                return max(l1,l2)\n",
    "            else:\n",
    "                return (max(l1, l2) + min(r1, r2))//2\n",
    "        elif l1 > r2:\n",
    "            high = cut1 - 1\n",
    "        else:\n",
    "            low = cut1 + 1\n",
    "\n",
    "    return 0"
   ]
  },
  {
   "cell_type": "code",
   "execution_count": 163,
   "id": "6c76cc4d",
   "metadata": {},
   "outputs": [
    {
     "data": {
      "text/plain": [
       "6"
      ]
     },
     "execution_count": 163,
     "metadata": {},
     "output_type": "execute_result"
    }
   ],
   "source": [
    "arr1 = [1,4,7,10,12]\n",
    "arr2 = [2,3,6,15]\n",
    "\n",
    "median(arr1, arr2)"
   ]
  },
  {
   "cell_type": "markdown",
   "id": "70b58ea1",
   "metadata": {},
   "source": [
    "# 6 - K-th Element of two sorted arrays\n",
    "\n",
    "__Problem Statement:__ Given two sorted arrays of size m and n respectively, you are tasked with finding the element that would be at the kth position of the final sorted array.\n",
    "\n",
    "Examples :\n",
    "\n",
    "Input: m = 5\n",
    "       n = 4\n",
    "       array1 = [2,3,6,7,9]\n",
    "       array2 = [1,4,8,10]\n",
    "       k = 5\n",
    "\n",
    "Output:\n",
    " 6\n",
    "\n",
    "Explanation: Merging both arrays and sorted. Final array will be -\n",
    " [1,2,3,4,6,7,8,9,10]\n",
    " \n",
    "We can see at k = 5 in the final array has 6. \n",
    "\n",
    "\n",
    "Input:\n",
    " m = 1\n",
    "       n = 4\n",
    "       array1 = [0]\n",
    "       array2 = [1,4,8,10]\n",
    "       k = 2\n",
    "\n",
    "Output:\n",
    " 4\n",
    "\n",
    "Explanation:\n",
    " Merging both arrays and sorted. Final array will be -\n",
    " [1,4,8,10]\n",
    "We can see at k = 2 in the final array has 4"
   ]
  },
  {
   "cell_type": "code",
   "execution_count": 228,
   "id": "f9852788",
   "metadata": {},
   "outputs": [],
   "source": [
    "\"\"\"\n",
    "array1 = [2,3,6,7,9]\n",
    "array2 = [1,4,8,10] \n",
    "k = 5\n",
    "\n",
    "2 3 | 6 7 9 \n",
    "1 4 | 8 10\n",
    "\n",
    "\"\"\"\n",
    "def kth_element(arr1, arr2, kth):\n",
    "    if len(arr1) > len(arr2):\n",
    "        return kth_element(arr2, arr1, kth)\n",
    "    \n",
    "    low = max(0, kth-len(arr2))\n",
    "    high = min(kth, len(arr1))\n",
    "    \n",
    "    while low <= high:\n",
    "        cut1 = low + (high - low)//2 \n",
    "        cut2 = kth - cut1 \n",
    "        \n",
    "        l1 = arr1[cut1-1] if cut1 > 0 and cut1 <= len(arr1) else float(\"-inf\")\n",
    "        l2 = arr2[cut2-1] if cut2 > 0 and cut2 <= len(arr2) else float(\"-inf\")\n",
    "        r1 = arr1[cut1] if cut1 >= 0 and cut1 < len(arr1) else float(\"inf\") # r1=8 | r1=4\n",
    "        r2 = arr2[cut2] if cut2 >= 0 and cut2 < len(arr2) else float(\"inf\") # r2=3 | r2=6\n",
    "        \n",
    "        if l1 <= r2 and l2 <= r1:\n",
    "            return max(l1, l2)\n",
    "            \n",
    "            \n",
    "        elif l1 > r2:\n",
    "            high = cut1 - 1\n",
    "        else:\n",
    "            low = cut1 + 1\n",
    "\n",
    "    return 0"
   ]
  },
  {
   "cell_type": "code",
   "execution_count": 233,
   "id": "427699e5",
   "metadata": {},
   "outputs": [
    {
     "data": {
      "text/plain": [
       "1"
      ]
     },
     "execution_count": 233,
     "metadata": {},
     "output_type": "execute_result"
    }
   ],
   "source": [
    "array1 = [2,3,6,7,9]\n",
    "array2 = [1,4,8,10] \n",
    "k = 1\n",
    "\n",
    "kth_element(array1, array2, k)"
   ]
  },
  {
   "cell_type": "markdown",
   "id": "693d994d",
   "metadata": {},
   "source": [
    "# 7 - Allocate Minimum Number of Pages\n",
    "\n",
    "__Problem Statement:__ Given an array of integers A of size N and an integer B.\n",
    "\n",
    "The College library has N bags, the ith book has A[i] number of pages.\n",
    "\n",
    "You have to allocate books to B number of students so that the maximum number of pages allocated to a student is minimum.\n",
    "\n",
    "Conditions given :\n",
    "\n",
    "A book will be allocated to exactly one student.\n",
    "\n",
    "Each student has to be allocated at least one book.\n",
    "\n",
    "Allotment should be in contiguous order, for example, A student cannot be allocated book 1 and book 3, skipping book 2.\n",
    "\n",
    "Calculate and return the minimum possible number. Return -1 if a valid assignment is not possible.\n",
    "\n",
    "__Example 1:__\n",
    "\n",
    "Input: A = [12, 34, 67, 90]\n",
    "       B = 2\n",
    "\n",
    "Output: 113\n",
    "\n",
    "Explaination: Let’s see all possible cases of how books can be allocated for each student.\n",
    " \n",
    "![image_71](https://lh6.googleusercontent.com/_KPrSiZ25zhwKG8l1BVzV0rJm1ObA9zBwi46FDpKQ_uej91Y4I-OJmmREKzqmDCTL5OB1JIpWxKl2mIQ2vx4jJHxETjfYDTp6eZOjPqlKfO4C-Q7hhpBL1bX2jiALq2zvEsDQCwV)\n",
    "\n",
    "\n",
    "So, the maximum number of pages allocated in each case is [191,157,113]. So, the minimum number among them is 113. Hence, our result is 113.\n",
    "\n",
    "\n",
    "__Example 2:__\n",
    "\n",
    "Input: A = [5, 17, 100, 11]\n",
    "       B = 4\n",
    "\n",
    "Output: 100\n",
    "\n",
    "Explaination: \n",
    "\n",
    "![image_72](https://lh6.googleusercontent.com/UZ9aBhVN4tj1bevpW1qIBLfQRikoLAGj_lBGrAUr6ox9ixf4DqHJ7_txdS1qkES7zU3BPUy-All_BgWRAeyNbvmTJfWMMOV2-BWcO0cw38ksaDDgRw32YM7ZCYfo1vPGQAXOqS1b)\n"
   ]
  },
  {
   "cell_type": "markdown",
   "id": "c284b372",
   "metadata": {},
   "source": [
    "### binary search - O(n logn)"
   ]
  },
  {
   "cell_type": "code",
   "execution_count": 325,
   "id": "b31f9dd8",
   "metadata": {},
   "outputs": [],
   "source": [
    "\"\"\"\n",
    "A = [12, 34, 67, 90]\n",
    "B = 2\n",
    "\n",
    "low = 12\n",
    "high = 12 + 34 + 67 + 90 = 203\n",
    "\n",
    "mid = 107\n",
    "\n",
    "[12.......107......203]\n",
    "\n",
    "s1 = sum(12, 34)\n",
    "s2 = sum(67)\n",
    "s3 = sum(90)\n",
    "\n",
    "res = 0\n",
    "low = mid + 1 = 108\n",
    "high = 203\n",
    "mid = 108 + (203-108)//2 = 155\n",
    "\n",
    "[108... 155 ...203]\n",
    "\n",
    "s1 = 12, 34, 67\n",
    "s2 = 90\n",
    "\n",
    "res = 155\n",
    "low = 108\n",
    "high = mid - 1 = 154\n",
    "mid = 108 + (154-108)//2 = 131\n",
    "\n",
    "[108..... 131......154]\n",
    "\n",
    "s1 = 12, 34, 67 = 113\n",
    "s2 = 90\n",
    "\n",
    "res = 131\n",
    "low = 108\n",
    "high = mid - 1 = 130\n",
    "mid = 108 + (130-108)//2 = 119\n",
    "\n",
    "[108..... 119......130]\n",
    "\n",
    "s1 = 12, 34, 67 = 113\n",
    "s2 = 90\n",
    "\n",
    "res = 119\n",
    "low = 108\n",
    "high = mid - 1 = 118\n",
    "mid = 108 + (130-108)//2 = 113\n",
    "\n",
    "\n",
    "[108..... 113......118]\n",
    "\n",
    "s1 = 12, 34, 67 = 113\n",
    "s2 = 90\n",
    "\n",
    "res = 113\n",
    "low = 108\n",
    "high = mid - 1 = 112\n",
    "mid = 108 + (112-108)//2 = 110\n",
    "\n",
    "[108..... 110......112]\n",
    "\n",
    "s1 = 12, 34\n",
    "s2 = 67\n",
    "s2 = 90\n",
    "\n",
    "res = 113\n",
    "low = mid + 1 = 111\n",
    "high = 112\n",
    "mid = 111 + (112-111)//2 = 111\n",
    "\n",
    "\n",
    "[111..... 111......112]\n",
    "\n",
    "s1 = 12, 34\n",
    "s2 = 67\n",
    "s2 = 90\n",
    "\n",
    "res = 113\n",
    "low = mid + 1 = 112\n",
    "high = 112\n",
    "\n",
    "low == high\n",
    "\n",
    "return res\n",
    "\n",
    "\"\"\"\n",
    "def is_possible(books, barrier, students):\n",
    "    pages = 0\n",
    "    students_aux = 1\n",
    "    \n",
    "    # O(n)\n",
    "    for i in books:\n",
    "        if i > barrier:\n",
    "            return False\n",
    "        \n",
    "        pages += i\n",
    "        \n",
    "        if pages > barrier:\n",
    "            students_aux += 1\n",
    "            pages = i\n",
    "  \n",
    "    if students_aux > students:\n",
    "        return False\n",
    "\n",
    "    return True\n",
    "\n",
    "\n",
    "def allocate_books(books, students):\n",
    "    low = books[0]\n",
    "    high = sum(books) # O(n)\n",
    "    result = 0\n",
    "    \n",
    "    # O(n log n)\n",
    "    while low <= high:\n",
    "        mid = low + (high - low)//2\n",
    "        \n",
    "        if is_possible(books, mid, students):\n",
    "            result = mid\n",
    "            high = mid - 1\n",
    "        else:\n",
    "            low = mid + 1\n",
    "        \n",
    "    return result    "
   ]
  },
  {
   "cell_type": "code",
   "execution_count": 334,
   "id": "5837f8eb",
   "metadata": {},
   "outputs": [
    {
     "data": {
      "text/plain": [
       "203"
      ]
     },
     "execution_count": 334,
     "metadata": {},
     "output_type": "execute_result"
    }
   ],
   "source": [
    "A = [12, 34, 67, 90]\n",
    "B = 1\n",
    "\n",
    "allocate_books(A, B)"
   ]
  },
  {
   "cell_type": "markdown",
   "id": "9ff86a7c",
   "metadata": {},
   "source": [
    "# 8 - Aggressive Cows : Detailed Solution\n",
    "\n",
    "__Problem Statement:__ There is a new barn with N stalls and C cows. The stalls are located on a straight line at positions x1,….,xN (0 <= xi <= 1,000,000,000). We want to assign the cows to the stalls, such that the minimum distance between any two of them is as large as possible. What is the largest minimum distance?\n",
    "\n",
    "Examples:\n",
    "\n",
    "Input: No of stalls = 5 \n",
    "       Array: {1,2,8,4,9}\n",
    "       And number of cows: 3\n",
    "\n",
    "Output: One integer, the largest minimum distance 3\n",
    "\n",
    "__Explanation:__\n",
    "\n",
    "\n",
    "![image80](https://lh4.googleusercontent.com/Y4XemvXYuaq46_hZ8Y6-o1Ni4EyHtv-hOaJraEXCiIA-0jW-vjaKnlMr6OsN6NNnbDDbSVxoS1qEFr15NWe5Ky0XRg8fzbdNUMdBe1ynMAXya6BbupjpJnwf9Z3Wf-wDZtnlqx3B)\n",
    "\n",
    "\n",
    "We have to fit in three cows in these 5 stalls. Each stall can accommodate only one. Our task is to maximize the minimum distance between two stalls. Let’s look at some arrangements:\n",
    "\n",
    "![image81](https://lh4.googleusercontent.com/iSdD1FeeTqFz8JuulMNJkZb5Bta92aDZ5T2i4Hj9kKtrI733KdX0U33yE6h1JV6YheDS_iafRQ8U2P4Qjxgud0OQwADSa33pOdZtkrPjWwltY6uWP2F_pTiFOrWFY0TM4rVXD1DW)\n",
    "\n",
    "![image82](https://lh5.googleusercontent.com/kGBNEhuai6pj4f1zWZ8GrnbOlvsSuDreq-UnTchdS2HRRKVsNhEcsuaZbxyrEqFJVpBvWobYUNOHuliiiZl37XR8arw-WyspHHDKY-CESm_tk9EUZd-Egk2uj7nW3j4ktb5kKJWv)\n",
    "\n",
    "![image83](https://lh5.googleusercontent.com/JpQYFE4YqRwPkpeq2mAKUDJoVcesY6OmZYuMC2USB5fgFGLZyMjXaRzYEyykBz48SXMBTftQ5z7-g6X0nDiSRzQ88-tNL5c_sT7aIT46VoiKxIAxuT6_pu84daoIcp4YOy3l8vhx)\n",
    "\n",
    "\n",
    "In the first case, the cows were arranged in the first three consecutive stalls, which is not advisable because they require maximum distance between them. So we make sure that there is some minimum distance between them so they do not fight. We have to maximize that difference so as to accommodate three cows. This is done in the second and third examples. It’s not possible to get a minimum distance of more than 3 in any arrangement, so we output 3."
   ]
  },
  {
   "cell_type": "markdown",
   "id": "f7ddab12",
   "metadata": {},
   "source": [
    "### brute force - O(n*m)"
   ]
  },
  {
   "cell_type": "code",
   "execution_count": 383,
   "id": "b4fed8da",
   "metadata": {},
   "outputs": [],
   "source": [
    "def is_possible(stalls, cows, d):\n",
    "    \n",
    "    k = stalls[0]\n",
    "    cows -= 1 # because i am assuming that we are putting the first cow in the first stall\n",
    "    \n",
    "    for i in range(1,len(stalls)):\n",
    "        if stalls[i] - k >= d:\n",
    "            cows -= 1\n",
    "            if cows == 0:\n",
    "                return True\n",
    "            k = stalls[i]\n",
    "    \n",
    "    return False\n",
    "\n",
    "def agressive_cows(stalls, cows):\n",
    "    distance = float(\"-inf\")\n",
    "    max_distance = stalls[-1] - stalls[0]\n",
    "    \n",
    "    for d in range(max_distance):\n",
    "        if is_possible(stalls, cows, d):\n",
    "            distance = d if distance < d else distance\n",
    "    \n",
    "    return distance"
   ]
  },
  {
   "cell_type": "code",
   "execution_count": 384,
   "id": "1c6b499a",
   "metadata": {},
   "outputs": [
    {
     "data": {
      "text/plain": [
       "3"
      ]
     },
     "execution_count": 384,
     "metadata": {},
     "output_type": "execute_result"
    }
   ],
   "source": [
    "array = [1,2,4,8,9] \n",
    "cows = 3\n",
    "\n",
    "agressive_cows(array, cows)"
   ]
  },
  {
   "cell_type": "markdown",
   "id": "9877fd3c",
   "metadata": {},
   "source": [
    "### improved"
   ]
  },
  {
   "cell_type": "code",
   "execution_count": 385,
   "id": "60afa20b",
   "metadata": {},
   "outputs": [],
   "source": [
    "\"\"\"\n",
    "array = [1,2,4,8,9] \n",
    "cows = 3\n",
    "\n",
    "l = 1, h = 8\n",
    "\n",
    "[1, ..., 8]\n",
    "\n",
    "mid = (1 + 8)//2 = 4\n",
    "\n",
    "array = [1,2,4,8,9] \n",
    "cows = 3\n",
    "\n",
    "l = 1, h = 8\n",
    "\n",
    "[1,..., 4, ..., 8]\n",
    "\n",
    "\n",
    "\n",
    "\"\"\"\n",
    "\n",
    "def is_possible(stalls, cows, d):\n",
    "    \n",
    "    k = stalls[0]\n",
    "    cows -= 1 # because i am assuming that we are putting the first cow in the first stall\n",
    "    \n",
    "    for i in range(1,len(stalls)):\n",
    "        if stalls[i] - k >= d:\n",
    "            cows -= 1\n",
    "            if cows == 0:\n",
    "                return True\n",
    "            k = stalls[i]\n",
    "    \n",
    "    return False\n",
    "\n",
    "\n",
    "def agressive_cows(stalls, cows):\n",
    "    \n",
    "    distance = 0\n",
    "    \n",
    "    low = 1\n",
    "    high = stalls[-1] - low\n",
    "    \n",
    "    while low <= high:\n",
    "        mid = (low + high)//2\n",
    "        \n",
    "        if is_possible(stalls, cows, mid):\n",
    "            distance = mid\n",
    "            low = mid + 1\n",
    "        else:\n",
    "            high = mid -1\n",
    "    \n",
    "    return distance"
   ]
  },
  {
   "cell_type": "code",
   "execution_count": 386,
   "id": "5330eb1e",
   "metadata": {},
   "outputs": [
    {
     "data": {
      "text/plain": [
       "3"
      ]
     },
     "execution_count": 386,
     "metadata": {},
     "output_type": "execute_result"
    }
   ],
   "source": [
    "array = [1,2,4,8,9] \n",
    "cows = 3\n",
    "\n",
    "agressive_cows(array, cows)"
   ]
  },
  {
   "cell_type": "code",
   "execution_count": null,
   "id": "8dcefdde",
   "metadata": {},
   "outputs": [],
   "source": []
  }
 ],
 "metadata": {
  "kernelspec": {
   "display_name": "Python 3 (ipykernel)",
   "language": "python",
   "name": "python3"
  },
  "language_info": {
   "codemirror_mode": {
    "name": "ipython",
    "version": 3
   },
   "file_extension": ".py",
   "mimetype": "text/x-python",
   "name": "python",
   "nbconvert_exporter": "python",
   "pygments_lexer": "ipython3",
   "version": "3.8.10"
  }
 },
 "nbformat": 4,
 "nbformat_minor": 5
}
