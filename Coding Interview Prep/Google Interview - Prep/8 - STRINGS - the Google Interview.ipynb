{
 "cells": [
  {
   "cell_type": "markdown",
   "id": "ffaf3e3d",
   "metadata": {},
   "source": [
    "# STRINGS - the Google Interview\n",
    "\n",
    "https://takeuforward-org.cdn.ampproject.org/c/s/takeuforward.org/interviews/strivers-sde-sheet-top-coding-interview-problems/?amp=1"
   ]
  },
  {
   "cell_type": "markdown",
   "id": "8f551898",
   "metadata": {},
   "source": [
    "# 1 - Reverse Words in a String\n",
    "\n",
    "__Problem Statement:__ Given a string s, reverse the words of the string.\n",
    "\n",
    "__Example 1:__\n",
    "\n",
    "Input: s=”this is an amazing program”\n",
    "\n",
    "Output: “program amazing an is this”\n",
    "\n",
    "__Example 2:__\n",
    "\n",
    "Input: s=”This is decent”\n",
    "\n",
    "Output: “decent is This”"
   ]
  },
  {
   "cell_type": "code",
   "execution_count": 3,
   "id": "4b2f71ef",
   "metadata": {},
   "outputs": [],
   "source": [
    "\"\"\"\n",
    "s = this is an amazing program\n",
    "\n",
    "l = [\"this\", \"is\", \"an\", \"amazing\", \"program\"]\n",
    "\n",
    "l reversed = [\"program\", \"amazing\", \"an\", \"is\", \"this\"]\n",
    "\n",
    "\"\"\"\n",
    "\n",
    "def reverse_words(sentence):\n",
    "    words = list(sentence.split())\n",
    "    \n",
    "    for idx in range(len(words)//2):\n",
    "        temp = words[idx]\n",
    "        words[idx] = words[-1*(idx+1)]\n",
    "        words[-1*(idx+1)] = temp\n",
    "        \n",
    "    return \" \".join(words)"
   ]
  },
  {
   "cell_type": "code",
   "execution_count": 6,
   "id": "51391c3e",
   "metadata": {},
   "outputs": [
    {
     "data": {
      "text/plain": [
       "'program amazing an is this'"
      ]
     },
     "execution_count": 6,
     "metadata": {},
     "output_type": "execute_result"
    }
   ],
   "source": [
    "s = \"this is an amazing program\"\n",
    "\n",
    "reverse_words(s)"
   ]
  },
  {
   "cell_type": "markdown",
   "id": "a44d36a7",
   "metadata": {},
   "source": []
  },
  {
   "cell_type": "markdown",
   "id": "3978c043",
   "metadata": {},
   "source": [
    "# 2 - Longest Palindromic Substring\n",
    "\n",
    "__Problem Statement__\n",
    "\n",
    "You are given a string (STR) of length N.\n",
    "Your task is to find the longest palindromic substring. If there is more than one palindromic substring with the maximum length, return the one with the smaller start index.\n",
    "\n",
    "__Note:__\n",
    "A substring is a contiguous segment of a string.\n",
    "\n",
    "__For Example :__\n",
    "\n",
    "The longest palindromic substring of \"ababc\" is \"aba\", since \"aba\" is a palindrome and it is the longest substring of length 3 which is a palindrome. There is another palindromic substring of length 3 is \"bab\". Since starting index of \"aba\" is less than \"bab\", so \"aba\" is the answer.\n",
    "Input Format:\n",
    "The first line of input contains a single integer 'T', representing the number of test cases or queries to be run. \n",
    "Then the 'T' test cases follow.\n",
    "\n",
    "The first and only one of each test case contains a string (STR).\n",
    "Output Format :\n",
    "For every test case, print a single line containing the longest palindromic substring. \n",
    "\n",
    "If there are multiple possible answers then you need to print the substring which has the lowest starting index.\n",
    "\n",
    "__Sample Input 1:__\n",
    "1\n",
    "abccbc\n",
    "\n",
    "__Sample Output 1:__\n",
    "bccb\n",
    "\n",
    "__Explanation For Input 1:__\n",
    "For string \"abccbc\" there are multiple palindromic substrings like \"a\", \"b\", \"c\", \"cc\", \"bccb\", \"cbc\". But \"bccb\" is of the longest length. Thus, answer is \"bccb\".\n",
    "\n",
    "\n",
    "__Sample Input 2:__\n",
    "1\n",
    "aeiou\n",
    "\n",
    "__Sample Output 2:__\n",
    "a\n",
    "\n",
    "__Explanation For Input 2:__\n",
    "\n",
    "For string \"aeiou\" there are multiple palindromic substrings like \"a\", \"e\", \"I\", \"o\", \"u\", and all of the same length. But palindromic substring \"a\"  has the minimum starting index. Thus, the answer is \"a\"."
   ]
  },
  {
   "cell_type": "code",
   "execution_count": 47,
   "id": "b50bb473",
   "metadata": {},
   "outputs": [],
   "source": [
    "def is_palindrome(string):\n",
    "    left = 0\n",
    "    right = len(string) - 1\n",
    "    \n",
    "    while left <= right:\n",
    "        if string[left] != string[right]:\n",
    "            return False\n",
    "        left += 1\n",
    "        right -= 1\n",
    "        \n",
    "    return True\n",
    "\n",
    "def longest_palindromic(string):\n",
    "    longest = float(\"-inf\")\n",
    "    result = None\n",
    "    \n",
    "    for i in range(len(string)):\n",
    "        for j in range(i, len(string)):\n",
    "            if is_palindrome(string[i:j+1]):\n",
    "                if longest < len(string[i:j+1]):\n",
    "                    longest = len(string[i:j+1])\n",
    "                    result = string[i:j+1]\n",
    "                    \n",
    "    return result"
   ]
  },
  {
   "cell_type": "code",
   "execution_count": 18,
   "id": "2a9c18d6",
   "metadata": {},
   "outputs": [
    {
     "data": {
      "text/plain": [
       "'bccb'"
      ]
     },
     "execution_count": 18,
     "metadata": {},
     "output_type": "execute_result"
    }
   ],
   "source": [
    "longest_palindromic(\"abccbc\")"
   ]
  },
  {
   "cell_type": "markdown",
   "id": "b6180b46",
   "metadata": {},
   "source": [
    "### improve"
   ]
  },
  {
   "cell_type": "code",
   "execution_count": 62,
   "id": "8356f510",
   "metadata": {},
   "outputs": [],
   "source": [
    "def get_palindrome(start, end, string):\n",
    "    longest = \"\"\n",
    "    \n",
    "    while start >= 0 and end < len(string) and string[start] == string[end]:\n",
    "            longest = string[start:end+1]\n",
    "            start -= 1\n",
    "            end += 1\n",
    "    return longest\n",
    "    \n",
    "def longest_palindromic(string):\n",
    "    longest = \"\"\n",
    "    \n",
    "    for idx in range(len(string)):\n",
    "        odd_palindrome = get_palindrome(idx, idx, string)\n",
    "        even_palindrome = get_palindrome(idx, idx+1, string)\n",
    "        \n",
    "        if len(longest) < len(even_palindrome):\n",
    "            longest = even_palindrome\n",
    "        elif len(longest) < len(odd_palindrome):\n",
    "            longest = odd_palindrome\n",
    "            \n",
    "    return longest"
   ]
  },
  {
   "cell_type": "code",
   "execution_count": 63,
   "id": "72ed3ce0",
   "metadata": {},
   "outputs": [
    {
     "data": {
      "text/plain": [
       "'bccb'"
      ]
     },
     "execution_count": 63,
     "metadata": {},
     "output_type": "execute_result"
    }
   ],
   "source": [
    "longest_palindromic(\"abccbc\")"
   ]
  },
  {
   "cell_type": "markdown",
   "id": "89be5aa0",
   "metadata": {},
   "source": [
    "# 3 - Roman Numeral To Integer\n",
    "\n",
    "__Problem Statement__\n",
    "Given a string that represents a roman number. Convert the roman number to an integer and return it.\n",
    "Roman numerals are represented by seven different symbols: I, V, X, L, C, D, and M.\n",
    "\n",
    "__Table Of Values:__\n",
    "\n",
    "Symbol       Value\n",
    "I             1\n",
    "V             5\n",
    "X             10\n",
    "L             50\n",
    "C             100\n",
    "D             500\n",
    "M             1000\n",
    "\n",
    "__For Example:__\n",
    "\n",
    "3 is written as III in Roman numeral, just three ones added together. 13 is written as XIII, which is simply X + III. The number 25 is written as XXV, which is XX + V \n",
    "Note:\n",
    "Do not print anything, just return an integer denoting the equivalent integer of the given roman number\n",
    "\n",
    "It is guaranteed that the string input is one of the characters of I, V, X, L, C, D, M.\n",
    "\n",
    "It is guaranteed that the integer value of the given roman number will not exceed 3999.\n",
    "\n",
    "__Input Format:__\n",
    "\n",
    "The first line of input contains an integer ‘T’ denoting the number of test cases.\n",
    "\n",
    "The next ‘T’ lines represent the ‘T’ test cases.\n",
    "\n",
    "The first line of each test case contains a string ‘roman’ representing the number's roman number representation.\n",
    "\n",
    "\n",
    "__Output Format__\n",
    "\n",
    "For each test case, return a single integer denoting the integer value of the given roman number.\n",
    "\n",
    "__Sample Input 1:__\n",
    "\n",
    "3\n",
    "\n",
    "XII\n",
    "\n",
    "XXVII\n",
    "\n",
    "LX\n",
    "\n",
    "__Sample Output 1:__\n",
    "\n",
    "12\n",
    "\n",
    "27\n",
    "\n",
    "60\n",
    "\n",
    "__Explanation For Sample Input 1 :__\n",
    "\n",
    "__Test Case 1:__\n",
    "\n",
    "We know that ‘X’ is 10 and we have 2 ‘I’ after it. Therefore the number is 12\n",
    "\n",
    "__Test Case 2:__\n",
    "\n",
    "We know that ‘X’ is 10 and ‘V’ is 5 and we have 2 ‘I’ after it. Therefore the number is 20+5+2=27\n",
    "\n",
    "__Test Case 3:__\n",
    "\n",
    "We see that ‘L’ is 50 and ‘X’ is 10 so the number is 50 +10 =60\n",
    "\n",
    "__Sample Input 2:__\n",
    "\n",
    "2\n",
    "\n",
    "XC\n",
    "\n",
    "MM\n",
    "\n",
    "__Sample Output 2:__\n",
    "\n",
    "90\n",
    "\n",
    "2000\n",
    "\n",
    "Previous\n",
    "\n",
    "Next\n",
    " \n"
   ]
  },
  {
   "cell_type": "code",
   "execution_count": 89,
   "id": "c34e4d78",
   "metadata": {},
   "outputs": [],
   "source": [
    "def roman_to_number(roman):\n",
    "    \n",
    "    roman_dict = {\"I\":1, \"V\":5, \"X\":10, \n",
    "                  \"L\": 50, \"C\": 100,\n",
    "                  \"D\": 500, \"M\": 1000}\n",
    "    \n",
    "    result = 0\n",
    "    \n",
    "    for i in range(len(roman)):\n",
    "        if i > 0 and roman_dict[roman[i]] > roman_dict[roman[i-1]]:\n",
    "            result += roman_dict[roman[i]] - 2*roman_dict[roman[i-1]]\n",
    "        else:\n",
    "            result += roman_dict[roman[i]]\n",
    "    \n",
    "    return result\n",
    "    "
   ]
  },
  {
   "cell_type": "code",
   "execution_count": 90,
   "id": "dc2631aa",
   "metadata": {},
   "outputs": [
    {
     "data": {
      "text/plain": [
       "140"
      ]
     },
     "execution_count": 90,
     "metadata": {},
     "output_type": "execute_result"
    }
   ],
   "source": [
    "roman_to_number(\"CXL\")"
   ]
  },
  {
   "cell_type": "markdown",
   "id": "4de74cc0",
   "metadata": {},
   "source": [
    "# 4 - Implement Atoi Function\n",
    "\n",
    "__Problem Statement__\n",
    "Given a string ‘STR’ of length 'N'. Implement the atoi function. If there are no numbers in the string, return 0.\n",
    "In other words, given a string ‘STR’ convert the string to an integer.\n",
    "Example :\n",
    "Give string : ”123456”, we return the integer value ‘123456’.\n",
    "The string can contain any ascii characters. If the character in the string is not a number, ignore it.\n",
    "\n",
    "__Example :__\n",
    "\n",
    "Given string : ”#messi10”, we return 10 as other characters “messi” are not numbers hence we skip them.\n",
    "\n",
    "__Note :__\n",
    "\n",
    "1. If the first char is ‘-’ it represents a minus sign and hence we return a negative integer.\n",
    "2. If there is no number in the string, return 0.\n",
    "3. It is guaranteed that the number is less than or equal to 10^9.\n",
    "\n",
    "__Input Format :__\n",
    "\n",
    "The first line of input contains an integer ‘T’ denoting the number of test cases.\n",
    "Then the test cases follow.\n",
    "\n",
    "The only line of each test case contains the string ‘STR’.\n",
    "\n",
    "__Output Format :__\n",
    "For each test case, return the integer formed by the given string.\n",
    "\n",
    "__Note:__\n",
    "You do not need to print anything, it has already been taken care of. Just implement the given function.\n",
    "\n",
    "__Constraints :__\n",
    "\n",
    "1 <= T <= 50\n",
    "\n",
    "0 <= N <= 3*10^3\n",
    "\n",
    "\n",
    "__Sample Input 1 :__\n",
    "\n",
    "4\n",
    "\n",
    "12439\n",
    "\n",
    "-43534\n",
    "\n",
    "app546er\n",
    "\n",
    "cutedog\n",
    "\n",
    "__Sample Output 1 :__\n",
    "\n",
    "12439\n",
    "\n",
    "-43534\n",
    "\n",
    "546\n",
    "\n",
    "0\n",
    "\n",
    "\n",
    "__Explanation For Sample Input 1:__\n",
    "\n",
    "For the first test case,\n",
    "We can see that the string is a complete integer ‘12439’ so we return 12439 as an integer\n",
    "\n",
    "For the second test case,\n",
    "The first character is a ‘-’, which denotes negative sign so we need to return a negative integer, hence we return -43534 as an integer. \n",
    "\n",
    "For the Third Test case,\n",
    "We have string : ’app546er’ \n",
    "Now we ignore all the non-integer ascii values and return 546 as an integer, here apparently ‘apper’ is ignored.\n",
    "\n",
    "For the Fourth Test case,\n",
    "We have string : ’cutedog’.\n",
    "\n",
    "Now since the string has no number, we ignore all the characters and we return 0.\n",
    "\n",
    "__Sample Input 2 :__\n",
    "\n",
    "2\n",
    "\n",
    "Apple\n",
    "\n",
    "ban23\n",
    "\n",
    "__Sample Output 2 :__\n",
    "\n",
    "0\n",
    "\n",
    "23\n",
    "\n",
    "__Explanation For Sample Input 2:__\n",
    "\n",
    "For the first test case,\n",
    "We have string : ’Apple’.\n",
    "Now since the string has no number, we ignore all the characters and we return 0.\n",
    "\n",
    "For the second test case,\n",
    "We have string : ’ban23’ \n",
    "Now we ignore all the non-integer ascii values and return 23 as an integer, here apparently ‘ban’ is ignored."
   ]
  },
  {
   "cell_type": "code",
   "execution_count": 117,
   "id": "afc8b1d4",
   "metadata": {},
   "outputs": [],
   "source": [
    "\"\"\"\n",
    "if ord(character) is ord(\"-\"), keep it because it means that i have to multiply by -1\n",
    "\n",
    "if ord(\"0\") <= ord(character) <= ord(\"9\") is numeric\n",
    "\n",
    "645 \n",
    "\n",
    " a 6 p - p 4 5 e r \n",
    "\"\"\"\n",
    "def atoi(string):\n",
    "    negative = False\n",
    "    first_number = float(\"inf\")\n",
    "    result = \"\"\n",
    "    \n",
    "    for i in range(len(string)):\n",
    "        if ord(string[i]) == ord(\"-\") and i < first_number:\n",
    "            negative = True\n",
    "        elif ord(string[i]) >= ord(\"0\") and ord(string[i]) <= ord(\"9\"):\n",
    "            if first_number == float(\"inf\"):\n",
    "                first_number = i\n",
    "            result += string[i]\n",
    "    \n",
    "    if negative:\n",
    "        return (-1)*int(result)\n",
    "    else:\n",
    "        return int(result)"
   ]
  },
  {
   "cell_type": "code",
   "execution_count": 121,
   "id": "951d792c",
   "metadata": {},
   "outputs": [
    {
     "data": {
      "text/plain": [
       "-780"
      ]
     },
     "execution_count": 121,
     "metadata": {},
     "output_type": "execute_result"
    }
   ],
   "source": [
    "atoi(\"#messi-780aba\")"
   ]
  },
  {
   "cell_type": "markdown",
   "id": "b788df45",
   "metadata": {},
   "source": [
    "# 5 - Longest Common Prefix\n",
    "\n",
    "__Problem Statement__\n",
    "\n",
    "You are given an array ‘ARR’ consisting of ‘N’ strings. Your task is to find the longest common prefix among all these strings. If there is no common prefix, you have to return an empty string.\n",
    "A prefix of a string can be defined as a substring obtained after removing some or all characters from the end of the string.\n",
    "\n",
    "__For Example:__\n",
    "\n",
    "Consider ARR = [“coding”, ”codezen”, ”codingninja”, ”coders”]\n",
    "\n",
    "The longest common prefix among all the given strings is “cod” as it is present as a prefix in all strings. Hence, the answer is “cod”.\n",
    "\n",
    "__Input Format:__\n",
    "\n",
    "The first line of the input contains a single integer, 'T,’ denoting the number of test cases.\n",
    "\n",
    "The first line of each test case contains a single integer ‘N’ denoting the number of strings in the array.\n",
    "\n",
    "The next line contains ‘N’ space-separated strings denoting the elements of the array ‘ARR’.\n",
    "\n",
    "__Output Format:__\n",
    "\n",
    "For each test case, print a single string corresponding to the longest common prefix.\n",
    "\n",
    "Print the output of each test case in a separate line.\n",
    "\n",
    "__Note:__\n",
    "You do not need to print anything. It has already been taken care of. Just implement the given function.\n",
    "\n",
    "__Sample Input 1:__\n",
    "\n",
    "2\n",
    "\n",
    "4\n",
    "\n",
    "coding codezen codingninja coder\n",
    "\n",
    "3\n",
    "\n",
    "night ninja nil \n",
    "\n",
    "__Sample Output 1:__\n",
    "\n",
    "cod\n",
    "\n",
    "ni\n",
    "\n",
    "__Explanation Of Sample Input 1:__\n",
    "For the first test case, \n",
    "The longest common prefix among all the given strings is “cod” as it is present as a prefix in all strings. Hence, the answer is “cod”.\n",
    "\n",
    "For the second test case,\n",
    "The longest common prefix among all the given strings is “ni” as it is present as a prefix in all strings. Hence, the answer is “ni”.\n",
    "\n",
    "__Sample Input 2:__\n",
    "\n",
    "2\n",
    "\n",
    "3\n",
    "\n",
    "applejuice applepie apple\n",
    "\n",
    "4\n",
    "\n",
    "car cus cart carat\n",
    "\n",
    "__Sample Output 2:__\n",
    "\n",
    "apple\n",
    "\n",
    "c"
   ]
  },
  {
   "cell_type": "code",
   "execution_count": 137,
   "id": "606fab87",
   "metadata": {},
   "outputs": [],
   "source": [
    "\"\"\"\n",
    "   i\n",
    "coding\n",
    "codezen\n",
    "codingninja\n",
    "coders\n",
    "\n",
    "\"\"\"\n",
    "def longest_common_prefix(strings):\n",
    "    prefix_length = len(min(strings, key=len))\n",
    "    prefix = 0\n",
    "    for i in range(prefix_length):\n",
    "        if prefix > 0:\n",
    "            break\n",
    "            \n",
    "        for j in range(len(strings)):\n",
    "            if strings[j][i] != strings[0][i]:\n",
    "                prefix = i\n",
    "                break\n",
    "                \n",
    "    return strings[0][:prefix]"
   ]
  },
  {
   "cell_type": "code",
   "execution_count": 138,
   "id": "d4d20a38",
   "metadata": {},
   "outputs": [
    {
     "data": {
      "text/plain": [
       "'cod'"
      ]
     },
     "execution_count": 138,
     "metadata": {},
     "output_type": "execute_result"
    }
   ],
   "source": [
    "string = [\"coding\", \"codezen\", \"codingninja\", \"coder\"]\n",
    "longest_common_prefix(string)"
   ]
  },
  {
   "cell_type": "markdown",
   "id": "a1f411e4",
   "metadata": {},
   "source": [
    "# 6 - Rabin Carp\n",
    "\n",
    "__Problem Statement__\n",
    "You are given a string ‘str’ of length 'N' and a string ‘pat’ of length 'M'. Your task is to find the starting index of all the occurrences of ‘pat’ in str.\n",
    "You need to return a list of integers that denote the indices from which ‘pat’ is present in ‘str’(consider 0 based indexing).\n",
    "\n",
    "For example,\n",
    "Let str= “AABAACAADAABAABA”\n",
    "And pat= “AABA”\n",
    "\n",
    "We will return the array/list [0,9,12] as we can clearly see that from indices 0 9 and 12 we have the same pattern ‘pat’ in ‘str’\n",
    "\n",
    "__Note__\n",
    "\n",
    "1. 'str' and 'pat' will consist of only uppercase English letters.\n",
    "2. Two occurrences of a pattern may overlap with each other. For example, for str = \"AAAA\" and pat = \"AA\", you need to return [0,1,2] and not [0,2].\n",
    "\n",
    "__Input Format:__\n",
    "\n",
    "The first line of input contains an integer ‘T’ denoting the number of test cases to run. Then the test cases follow.\n",
    "\n",
    "The first line of each test case contains the string ‘str’.\n",
    "\n",
    "The second line of each test case contains the string ‘pat’        \n",
    "\n",
    "__Output Format__\n",
    "\n",
    "For each test case, return a list of integers denoting the indices where the match happens.\n",
    "\n",
    "If no match happens, return an empty array.\n",
    "\n",
    "Output for each test case will be printed in a new line.\n",
    "\n",
    "__Note:__\n",
    "\n",
    "You do not need to print anything; it has already been taken care of. Just implement the given function.\n",
    "\n",
    "__Sample Input 1:__\n",
    "\n",
    "2\n",
    "\n",
    "CODENCODE\n",
    "\n",
    "CODE\n",
    "\n",
    "MANGOMAN\n",
    "\n",
    "MAN\n",
    "\n",
    "__Sample Output 1:__\n",
    "\n",
    "0 5\n",
    "\n",
    "0 5\n",
    "\n",
    "__Explanation Of Sample Input 1 :__\n",
    "\n",
    "__Test Case 1:__\n",
    "\n",
    "In the first test case,\n",
    "The string ‘str’ is “CODENCODE” and the pattern is “CODE”. We can see that the pattern matches in the string at indices 0 and 5 so we return an array with [0,5].\n",
    "\n",
    "\n",
    "In the second test case,\n",
    "The string ‘str’ is “MANGOMAN” and the pattern is “MAN”. We can see that the pattern matches in the string at indices 0 and 5 so we return an array with [0,5].\n",
    "\n",
    "__Sample Input 2:__\n",
    "\n",
    "2\n",
    "\n",
    "BEARDO\n",
    "\n",
    "EAR\n",
    "\n",
    "MANYAWARMAN\n",
    "\n",
    "YAWAR\n",
    "\n",
    "__Sample Output 2:__\n",
    "\n",
    "1\n",
    "\n",
    "3\n"
   ]
  },
  {
   "cell_type": "code",
   "execution_count": 156,
   "id": "217614d5",
   "metadata": {},
   "outputs": [],
   "source": [
    "\"\"\"\n",
    "string = \"AABAACAADAABAABA\"\n",
    "pat = \"AABA\"\n",
    "\n",
    "hash(pat) = 7\n",
    "\n",
    "ABCDEFG\n",
    "\n",
    "\"\"\"\n",
    "def hash_function(string):\n",
    "    result = 0\n",
    "    \n",
    "    for i in string:\n",
    "        result += ord(i)\n",
    "    \n",
    "    return result\n",
    "    \n",
    "\n",
    "def find_all_substrings(string, size):\n",
    "    result = []\n",
    "    \n",
    "    for i in range(len(string) - size + 1):\n",
    "        result.append(string[i:i+4])\n",
    "    \n",
    "    return result\n",
    "\n",
    "def is_substring_equal(string_1, string_2):\n",
    "    \n",
    "    for i in range(len(string_1)):\n",
    "        if string_1[i] != string_2[i]:\n",
    "            return False\n",
    "    \n",
    "    return True\n",
    "\n",
    "def find_match_index(string, pat):\n",
    "    all_substrings = find_all_substrings(string, len(pat))\n",
    "    hashed_substrings = []\n",
    "    \n",
    "    for substring in all_substrings:\n",
    "        hashed = hash_function(substring)\n",
    "        hashed_substrings.append(hashed)\n",
    "    \n",
    "    hashed_pat = hash_function(pat)\n",
    "    \n",
    "    result = []\n",
    "    \n",
    "    for i in range(len(hashed_substrings)):\n",
    "        if hashed_pat == hashed_substrings[i]:\n",
    "            if is_substring_equal(pat, all_substrings[i]):\n",
    "                result.append(i)\n",
    "    \n",
    "    return result"
   ]
  },
  {
   "cell_type": "code",
   "execution_count": 157,
   "id": "da79594a",
   "metadata": {},
   "outputs": [
    {
     "data": {
      "text/plain": [
       "[0, 9, 12]"
      ]
     },
     "execution_count": 157,
     "metadata": {},
     "output_type": "execute_result"
    }
   ],
   "source": [
    "string = \"AABAACAADAABAABA\"\n",
    "pat = \"AABA\"\n",
    "\n",
    "find_match_index(string, pat)"
   ]
  },
  {
   "cell_type": "markdown",
   "id": "7f434353",
   "metadata": {},
   "source": [
    "# 8 - Letter Combinations of a Phone Number - Medium\n",
    "\n",
    "Given a string containing digits from 2-9 inclusive, return all possible letter combinations that the number could represent. Return the answer in any order.\n",
    "\n",
    "A mapping of digit to letters (just like on the telephone buttons) is given below. Note that 1 does not map to any letters.\n",
    "\n",
    "![image_8](https://upload.wikimedia.org/wikipedia/commons/thumb/7/73/Telephone-keypad2.svg/200px-Telephone-keypad2.svg.png)\n",
    "\n",
    " \n",
    "\n",
    "__Example 1:__\n",
    "\n",
    "__Input:__ digits = \"23\"\n",
    "\n",
    "__Output:__ [\"ad\",\"ae\",\"af\",\"bd\",\"be\",\"bf\",\"cd\",\"ce\",\"cf\"]\n",
    "\n",
    "\n",
    "__Example 2:__\n",
    "\n",
    "__Input:__ digits = \"\"\n",
    "\n",
    "__Output:__ []\n",
    "\n",
    "\n",
    "__Example 3:__\n",
    "\n",
    "__Input:__ digits = \"2\"\n",
    "__Output:__ [\"a\",\"b\",\"c\"]\n"
   ]
  },
  {
   "cell_type": "code",
   "execution_count": 220,
   "id": "2b5eddac",
   "metadata": {},
   "outputs": [],
   "source": [
    "def get_phone_letters_map(digits):\n",
    "    digits = list(digits)\n",
    "    phone_map = {\n",
    "        \"2\":list(\"abc\"),\n",
    "        \"3\":list(\"def\"),\n",
    "        \"4\":list(\"ghi\"),\n",
    "        \"5\":list(\"jkl\"),\n",
    "        \"6\":list(\"mno\"),\n",
    "        \"7\":list(\"pqrs\"),\n",
    "        \"8\":list(\"tuv\"),\n",
    "        \"9\":list(\"wxyz\"),\n",
    "    }\n",
    "    \n",
    "    phone_map_list = []\n",
    "    \n",
    "    for digit in digits:\n",
    "        if digit in phone_map:\n",
    "            phone_map_list.append(phone_map[digit])\n",
    "        \n",
    "    return phone_map_list\n",
    "\n",
    "def find_letter_combinations_helper(phone_map, parent_letter, idx, result):\n",
    "    if idx == len(phone_map) - 1:\n",
    "        for letter in phone_map[idx]:\n",
    "            result.append(parent_letter + letter)\n",
    "        return\n",
    "    \n",
    "    for letter in phone_map[idx]:\n",
    "        curr_letter = parent_letter + letter\n",
    "        find_letter_combinations_helper(phone_map, curr_letter, idx+1, result)\n",
    "        \n",
    "\n",
    "def find_letter_combinations(digits):\n",
    "    phone_map = get_phone_letters_map(digits)\n",
    "    result = []\n",
    "\n",
    "    find_letter_combinations_helper(phone_map, \"\", 0, result)\n",
    "    \n",
    "    return result"
   ]
  },
  {
   "cell_type": "code",
   "execution_count": 222,
   "id": "b011e909",
   "metadata": {},
   "outputs": [
    {
     "data": {
      "text/plain": [
       "['a', 'b', 'c']"
      ]
     },
     "execution_count": 222,
     "metadata": {},
     "output_type": "execute_result"
    }
   ],
   "source": [
    "find_letter_combinations(\"2\")"
   ]
  },
  {
   "cell_type": "markdown",
   "id": "da427cfe",
   "metadata": {},
   "source": [
    "### improved by memoization"
   ]
  },
  {
   "cell_type": "code",
   "execution_count": null,
   "id": "e4117797",
   "metadata": {},
   "outputs": [],
   "source": [
    "\"\"\"\n",
    "                      a                               b                           \n",
    "    d           e           f             d           e           f\n",
    "g   h   i   g   h   i   g   h   i     g   h   i   g   h   i   g   h   i  \n",
    "\n",
    "\"\"\""
   ]
  },
  {
   "cell_type": "code",
   "execution_count": 279,
   "id": "0edcc601",
   "metadata": {},
   "outputs": [],
   "source": [
    "def get_phone_letters_map(digits):\n",
    "    digits = list(digits)\n",
    "    phone_map = {\n",
    "        \"2\":list(\"abc\"),\n",
    "        \"3\":list(\"def\"),\n",
    "        \"4\":list(\"ghi\"),\n",
    "        \"5\":list(\"jkl\"),\n",
    "        \"6\":list(\"mno\"),\n",
    "        \"7\":list(\"pqrs\"),\n",
    "        \"8\":list(\"tuv\"),\n",
    "        \"9\":list(\"wxyz\"),\n",
    "    }\n",
    "    \n",
    "    phone_map_list = []\n",
    "    \n",
    "    for digit in digits:\n",
    "        if digit in phone_map:\n",
    "            phone_map_list.append(phone_map[digit])\n",
    "        \n",
    "    return phone_map_list\n",
    "\n",
    "def find_letter_combinations_helper(phone_map, parent_letter, idx, memo, result=[]):\n",
    "    \n",
    "    if idx == len(phone_map) - 1:\n",
    "        for letter in phone_map[idx]:\n",
    "            result.append(parent_letter + letter)\n",
    "            memo[parent_letter + letter] = parent_letter + letter\n",
    "        return \n",
    "    \n",
    "    for letter in phone_map[idx]:\n",
    "        aux = [v for k,v in memo.items() if k.startswith(letter)]\n",
    "        if len(aux) > 0:\n",
    "            for substring in aux:\n",
    "                result.append(parent_letter + substring)\n",
    "        else:\n",
    "            curr_letter = parent_letter + letter\n",
    "            find_letter_combinations_helper(phone_map, curr_letter, idx+1, memo, result)\n",
    "        \n",
    "\n",
    "def find_letter_combinations(digits):\n",
    "    phone_map = get_phone_letters_map(digits)\n",
    "    result = []\n",
    "    memo = {}\n",
    "    \n",
    "    for idx in range(len(phone_map)-1, 0, -1):\n",
    "        find_letter_combinations_helper(phone_map, \"\", idx, memo)\n",
    "        \n",
    "    find_letter_combinations_helper(phone_map, \"\", 0, memo, result)\n",
    "        \n",
    "    return result"
   ]
  },
  {
   "cell_type": "code",
   "execution_count": 283,
   "id": "947526ee",
   "metadata": {},
   "outputs": [
    {
     "data": {
      "text/plain": [
       "['ad', 'ae', 'af', 'bd', 'be', 'bf', 'cd', 'ce', 'cf']"
      ]
     },
     "execution_count": 283,
     "metadata": {},
     "output_type": "execute_result"
    }
   ],
   "source": [
    "find_letter_combinations(\"23\")"
   ]
  },
  {
   "cell_type": "markdown",
   "id": "fd20266f",
   "metadata": {},
   "source": [
    "# NEW EXERCISES - FROM GITHUB\n",
    "\n",
    "https://github.com/ombharatiya/FAANG-Coding-Interview-Questions#google-top-50"
   ]
  },
  {
   "cell_type": "markdown",
   "id": "53f601b0",
   "metadata": {},
   "source": [
    "# 9 - Text Justification - Hard\n",
    "\n",
    "Given an array of strings words and a width maxWidth, format the text such that each line has exactly maxWidth characters and is fully (left and right) justified.\n",
    "\n",
    "You should pack your words in a greedy approach; that is, pack as many words as you can in each line. Pad extra spaces ' ' when necessary so that each line has exactly maxWidth characters.\n",
    "\n",
    "Extra spaces between words should be distributed as evenly as possible. If the number of spaces on a line does not divide evenly between words, the empty slots on the left will be assigned more spaces than the slots on the right.\n",
    "\n",
    "For the last line of text, it should be left-justified and no extra space is inserted between words.\n",
    "\n",
    "__Note:__\n",
    "\n",
    "A word is defined as a character sequence consisting of non-space characters only.\n",
    "Each word's length is guaranteed to be greater than 0 and not exceed maxWidth.\n",
    "The input array words contains at least one word.\n",
    " \n",
    "\n",
    "__Example 1:__\n",
    "\n",
    "__Input:__ words = [\"This\", \"is\", \"an\", \"example\", \"of\", \"text\", \"justification.\"], maxWidth = 16\n",
    "\n",
    "__Output:__\n",
    "\n",
    "[\n",
    "   \"This    is    an\",\n",
    "   \"example  of text\",\n",
    "   \"justification.  \"\n",
    "]\n",
    "\n",
    "__Example 2:__\n",
    "\n",
    "__Input:__ words = [\"What\",\"must\",\"be\",\"acknowledgment\",\"shall\",\"be\"], maxWidth = 16\n",
    "\n",
    "__Output:__\n",
    "\n",
    "[\n",
    "  \"What   must   be\",\n",
    "  \"acknowledgment  \",\n",
    "  \"shall be        \"\n",
    "]\n",
    "\n",
    "__Explanation:__ Note that the last line is \"shall be    \" instead of \"shall     be\", because the last line must be left-justified instead of fully-justified.\n",
    "Note that the second line is also left-justified becase it contains only one word.\n",
    "\n",
    "\n",
    "__Example 3:__\n",
    "\n",
    "__Input:__ words = [\"Science\",\"is\",\"what\",\"we\",\"understand\",\"well\",\"enough\",\"to\",\"explain\",\"to\",\"a\",\"computer.\",\"Art\",\"is\",\"everything\",\"else\",\"we\",\"do\"], maxWidth = 20\n",
    "\n",
    "__Output:__\n",
    "\n",
    "[\n",
    "  \"Science  is  what we\",\n",
    "  \"understand      well\",\n",
    "  \"enough to explain to\",\n",
    "  \"a  computer.  Art is\",\n",
    "  \"everything  else  we\",\n",
    "  \"do                  \"\n",
    "]"
   ]
  },
  {
   "cell_type": "code",
   "execution_count": 493,
   "id": "6c822eb9",
   "metadata": {},
   "outputs": [],
   "source": [
    "# brute force\n",
    "\"\"\"\n",
    "\n",
    "words = [\"What\",\"must\",\"be\",\"acknowledgment\",\"shall\",\"be\"], maxWidth = 16\n",
    "len   = [ 4,       4,    2,       14,            5,    2 ]\n",
    "\n",
    "1°. calculate the len of each word in the list\n",
    "\n",
    "2°. try to discover the max amount of words that can fit in the ith line\n",
    "    in first line fits only 3, \n",
    "    \n",
    "3°. sum up the total of characters of the words that can fit in the same line,\n",
    "    in this example is 10.\n",
    "    \n",
    "4°. subtract the amount of characters from max_width. \n",
    "    in this example max_width is 16, so it ramains 6.\n",
    "    \n",
    "5°. divide the result of the last step by the amount of spaces between words,\n",
    "    this will give us the amount of whitespaces that we need to insert between the words\n",
    "    for this specific line\n",
    "    \n",
    "6°. repeat step 2-5 until the second to last line, then add the remain words and add whitespaces at end\n",
    "\n",
    "\n",
    "output:\n",
    "\n",
    "What...must...be\n",
    "acknowledgment..\n",
    "shall.be........\n",
    "\n",
    "\"\"\"\n",
    "def justify_text(words, max_width):\n",
    "    length_words = [len(word) for word in words]\n",
    "    lines = []\n",
    "    \n",
    "    # Strings to lines\n",
    "    idx = 0\n",
    "    str_lines = \"\"\n",
    "    last_idx = 0\n",
    "    while idx < len(words):\n",
    "        str_lines = str_lines + \" \" + words[idx] if len(str_lines) > 0 else words[idx]\n",
    "        \n",
    "        if len(str_lines) > max_width:\n",
    "            str_lines = str_lines[:-1*(len(words[idx])+1)]\n",
    "            lines.append(str_lines)\n",
    "            str_lines = \"\"\n",
    "            last_idx = idx\n",
    "            idx -= 1            \n",
    "            \n",
    "        idx += 1\n",
    "        \n",
    "    remaining_words = \" \". join(words[last_idx:])\n",
    "    lines.append(remaining_words)\n",
    "    \n",
    "    output = []\n",
    "    for l in range(len(lines)):\n",
    "        \n",
    "        if l == len(lines) -1:\n",
    "            n_wspace = max_width-len(lines[l])\n",
    "            lines[l] += \" \" * n_wspace\n",
    "            output.append(lines[l])\n",
    "            \n",
    "        elif len(lines[l].split()) > 1:\n",
    "            n_wspace = (max_width-len(lines[l].replace(\" \", \"\")))//(len(lines[l].split())-1)\n",
    "            output.append(lines[l].replace(\" \", \" \" * n_wspace))\n",
    "        \n",
    "        elif len(lines[l].split()) == 1:\n",
    "            n_wspace = max_width-len(lines[l])\n",
    "            lines[l] += \" \"\n",
    "            output.append(lines[l].replace(\" \", \" \" * n_wspace))\n",
    "        \n",
    "    \n",
    "    return output"
   ]
  },
  {
   "cell_type": "code",
   "execution_count": 494,
   "id": "7c9eb9dd",
   "metadata": {
    "scrolled": true
   },
   "outputs": [
    {
     "data": {
      "text/plain": [
       "['What   must   be', 'acknowledgment  ', 'shall be        ']"
      ]
     },
     "execution_count": 494,
     "metadata": {},
     "output_type": "execute_result"
    }
   ],
   "source": [
    "words = [\"What\",\"must\",\"be\",\"acknowledgment\",\"shall\",\"be\"]\n",
    "max_width = 16\n",
    "\n",
    "justify_text(words, max_width)"
   ]
  },
  {
   "cell_type": "code",
   "execution_count": 495,
   "id": "cdd9022a",
   "metadata": {},
   "outputs": [
    {
     "data": {
      "text/plain": [
       "['Science is what we',\n",
       " 'understand      well',\n",
       " 'enough to explain to',\n",
       " 'a computer. Art is',\n",
       " 'everything  else  we',\n",
       " 'do                  ']"
      ]
     },
     "execution_count": 495,
     "metadata": {},
     "output_type": "execute_result"
    }
   ],
   "source": [
    "words = [\"Science\",\"is\",\"what\",\"we\",\"understand\",\"well\",\"enough\",\"to\",\"explain\",\"to\",\"a\",\"computer.\",\"Art\",\"is\",\"everything\",\"else\",\"we\",\"do\"]\n",
    "max_width = 20\n",
    "\n",
    "justify_text(words, max_width)"
   ]
  },
  {
   "cell_type": "markdown",
   "id": "81f6ef3c",
   "metadata": {},
   "source": [
    "# 10 -  Insert Interval - Medium\n",
    "\n",
    "You are given an array of non-overlapping intervals intervals where intervals[i] = [starti, endi] represent the start and the end of the ith interval and intervals is sorted in ascending order by starti. You are also given an interval newInterval = [start, end] that represents the start and end of another interval.\n",
    "\n",
    "Insert newInterval into intervals such that intervals is still sorted in ascending order by starti and intervals still does not have any overlapping intervals (merge overlapping intervals if necessary).\n",
    "\n",
    "Return intervals after the insertion.\n",
    "\n",
    " \n",
    "\n",
    "__Example 1:__\n",
    "\n",
    "__Input:__ intervals = [[1,3],[6,9]], newInterval = [2,5]\n",
    "\n",
    "__Output:__ [[1,5],[6,9]]\n",
    "\n",
    "\n",
    "__Example 2:__\n",
    "\n",
    "__Input:__ intervals = [[1,2],[3,5],[6,7],[8,10],[12,16]], newInterval = [4,8]\n",
    "\n",
    "__Output:__ [[1,2],[3,10],[12,16]]\n",
    "\n",
    "__Explanation:__ Because the new interval [4,8] overlaps with [3,5],[6,7],[8,10]."
   ]
  },
  {
   "cell_type": "code",
   "execution_count": 532,
   "id": "16b146d3",
   "metadata": {},
   "outputs": [],
   "source": [
    "# Brute force\n",
    "\"\"\"\n",
    "\n",
    "intervals = [[1,3],[6,9]]\n",
    "newInterval = [2,5]\n",
    "  s e\n",
    "[[5,7],[9,10]]\n",
    "   \n",
    " s e\n",
    "[1,10]\n",
    "\n",
    "\n",
    "  s e\n",
    "[[1,3],[4,9]]\n",
    "\n",
    "    s e\n",
    "   [2,5]\n",
    "  \n",
    "  \n",
    "1 < 2\n",
    "\n",
    "3   5\n",
    "  \n",
    "  \n",
    "  \n",
    "  \n",
    "1°. compare the start of the new interval with the start of the intervals, and\n",
    "    stop when the start of the new interval is less or equal to the start of the\n",
    "    intervals\n",
    "    \n",
    "2°. compare if they are overlapped (define a function to do that)\n",
    "\n",
    "3°. also compare with they overlapped with the next interval\n",
    "\n",
    "4°. merge all intervals that are overlapped\n",
    "\n",
    "\"\"\"\n",
    "def is_overlapped(interval_1, interval_2):\n",
    "    if interval_1[0] <= interval_2[0]:\n",
    "        if interval_1[1] >= interval_2[0]:\n",
    "            return True\n",
    "    elif interval_1[0] >= interval_2[0]:\n",
    "        if interval_1[0] <= interval_2[1]:\n",
    "            return True\n",
    "        \n",
    "    return False\n",
    "\n",
    "def merge_intervals(interval_1, interval_2):    \n",
    "    return [min(interval_1[0], interval_2[0]), max(interval_1[1], interval_2[1])]\n",
    "\n",
    "def insert_interval(intervals, new_interval):\n",
    "    output = []\n",
    "    idx = 0\n",
    "    \n",
    "    while idx < len(intervals):    \n",
    "        if is_overlapped(intervals[idx], new_interval):\n",
    "            temp_interval = merge_intervals(intervals[idx], new_interval)\n",
    "            idx_aux = idx + 1\n",
    "            while idx_aux < len(intervals) and is_overlapped(intervals[idx_aux], temp_interval):\n",
    "                temp_interval = merge_intervals(intervals[idx_aux], temp_interval)\n",
    "                idx = idx_aux\n",
    "                idx_aux += 1\n",
    "                \n",
    "            output.append(temp_interval)\n",
    "        else:\n",
    "            output.append(intervals[idx])\n",
    "        \n",
    "        idx += 1\n",
    "        \n",
    "    return output"
   ]
  },
  {
   "cell_type": "code",
   "execution_count": 533,
   "id": "920a2aaa",
   "metadata": {},
   "outputs": [
    {
     "data": {
      "text/plain": [
       "[[1, 15], [40, 30], [90, 200]]"
      ]
     },
     "execution_count": 533,
     "metadata": {},
     "output_type": "execute_result"
    }
   ],
   "source": [
    "intervals = [[1,3],[6,9],[9,15],[40,30],[90,200]]\n",
    "newInterval = [2,7]\n",
    "\n",
    "insert_interval(intervals, newInterval)"
   ]
  },
  {
   "cell_type": "code",
   "execution_count": 534,
   "id": "23412a69",
   "metadata": {},
   "outputs": [],
   "source": [
    "# It could be improved by using binary search, once all the intervals are already sorted"
   ]
  },
  {
   "cell_type": "markdown",
   "id": "65bbd1ba",
   "metadata": {},
   "source": [
    "# 11 - Minimum Window Substring - Hard\n",
    "\n",
    "Given two strings s and t of lengths m and n respectively, return the minimum window substring of s such that every character in t (including duplicates) is included in the window. If there is no such substring, return the empty string \"\".\n",
    "\n",
    "The testcases will be generated such that the answer is unique.\n",
    "\n",
    "A substring is a contiguous sequence of characters within the string.\n",
    "\n",
    "__Example 1:__\n",
    "\n",
    "__Input:__ s = \"ADOBECODEBANC\", t = \"ABC\"\n",
    "\n",
    "__Output:__ \"BANC\"\n",
    "\n",
    "__Explanation:__ The minimum window substring \"BANC\" includes 'A', 'B', and 'C' from string t.\n",
    "\n",
    "\n",
    "\n",
    "__Example 2:__\n",
    "\n",
    "__Input:__ s = \"a\", t = \"a\"\n",
    "\n",
    "__Output:__ \"a\"\n",
    "\n",
    "__Explanation:__ The entire string s is the minimum window.\n",
    "\n",
    "\n",
    "__Example 3:__\n",
    "\n",
    "__Input:__ s = \"a\", t = \"aa\"\n",
    "\n",
    "__Output:__ \"\"\n",
    "\n",
    "__Explanation:__ Both 'a's from t must be included in the window.\n",
    "Since the largest window of s only has one 'a', return empty string."
   ]
  },
  {
   "cell_type": "code",
   "execution_count": 553,
   "id": "f3805d2a",
   "metadata": {},
   "outputs": [],
   "source": [
    "\"\"\"\n",
    "1 - create the smallest substrings that may contain the t, test all substrings of size len(t)\n",
    "2 - while create substrings, verify if substring contains all letters of t, if yes, stop and return substring, else\n",
    "    create a substring one unit bigger\n",
    "3 . repeat until find the all letters in t, or run out substring and return an empty string\n",
    "\n",
    "all([letter in s for letter in t])\n",
    "\n",
    "\n",
    "loop 1: window < len(s)\n",
    "loop 2: 0: len(s) - window + 1\n",
    "\n",
    "    [ ]\n",
    "ADOBECO\n",
    "\n",
    "\"\"\"\n",
    "def find_min_window_substring(s, t):\n",
    "    window = len(t)\n",
    "    \n",
    "    while window <= len(s):\n",
    "        # window pointers\n",
    "        start = 0\n",
    "        end = window\n",
    "        \n",
    "        while end <= len(s):\n",
    "                \n",
    "            if all([letter in s[start:end] for letter in t]):\n",
    "                return s[start:end]\n",
    "            start += 1\n",
    "            end = start + window\n",
    "            \n",
    "        window += 1\n",
    "        \n",
    "    \n",
    "    return \"\""
   ]
  },
  {
   "cell_type": "code",
   "execution_count": 560,
   "id": "d769a9ec",
   "metadata": {},
   "outputs": [
    {
     "data": {
      "text/plain": [
       "'BANC'"
      ]
     },
     "execution_count": 560,
     "metadata": {},
     "output_type": "execute_result"
    }
   ],
   "source": [
    "s = \"ADOBECODEBANC\"\n",
    "t = \"AABC\"\n",
    "\n",
    "find_min_window_substring(s, t)"
   ]
  },
  {
   "cell_type": "markdown",
   "id": "57f1d84b",
   "metadata": {},
   "source": [
    "### Improved - O(n)"
   ]
  },
  {
   "cell_type": "code",
   "execution_count": 677,
   "id": "daa393d9",
   "metadata": {},
   "outputs": [],
   "source": [
    "\"\"\"\n",
    "s     \n",
    "          e\n",
    "A D O B E C O D E B A N C\n",
    "\n",
    "A B C\n",
    "\n",
    "only move end, util find the first window with all letters\n",
    "\n",
    "save interval\n",
    "\n",
    "increase start by one, e verify if all letters are in the interval\n",
    "    if true\n",
    "        save result and increase start and verify again util is false\n",
    "    if false\n",
    "        increase start and end together and verify letters in interval\n",
    "\n",
    "window = 4\n",
    "\n",
    "(9, 12)\n",
    "s[9:12+1]\n",
    "\n",
    "\n",
    "t_table = {\n",
    "    \"A\":1,\n",
    "    \"B\":1,\n",
    "    \"C\":1,\n",
    "}\n",
    "\n",
    "\n",
    "sub_table = {\n",
    "    \"A\":1,\n",
    "    \"B\":0,\n",
    "    \"C\":1,\n",
    "}\n",
    "\n",
    "\n",
    "\"\"\"\n",
    "def is_hash_greater_or_equal(sub_table, t_table):\n",
    "    for char in sub_table:\n",
    "        if sub_table[char] < t_table[char]:\n",
    "            return False\n",
    "\n",
    "    return True\n",
    "        \n",
    "def find_min_window(s, t):\n",
    "    if t == \"\" and len(t) > len(s): return \"\"\n",
    "    \n",
    "    t_table = {}\n",
    "    sub_table = {}\n",
    "    \n",
    "    res_start = None\n",
    "    res_end = None\n",
    "    \n",
    "    # O(m)\n",
    "    for char in t:\n",
    "        if t_table.get(char) is None:\n",
    "            t_table[char] = 1\n",
    "            sub_table[char] = 0 \n",
    "        else:\n",
    "            t_table[char] += 1\n",
    "            \n",
    "    start = end = 0\n",
    "    \n",
    "    while end <= len(s):\n",
    "        if is_hash_greater_or_equal(sub_table, t_table):\n",
    "            res_start = start\n",
    "            res_end = end\n",
    "\n",
    "            if sub_table.get(s[start]) is not None:\n",
    "                sub_table[s[start]] -= 1\n",
    "            \n",
    "            start += 1\n",
    "            continue\n",
    "\n",
    "        if res_start is not None:\n",
    "            if sub_table.get(s[start]) is not None:\n",
    "                sub_table[s[start]] -= 1\n",
    "\n",
    "            start += 1\n",
    "\n",
    "        if end < len(s) and sub_table.get(s[end]) is not None:\n",
    "            sub_table[s[end]] += 1\n",
    "    \n",
    "        end += 1\n",
    "        \n",
    "    return s[res_start:res_end+1]"
   ]
  },
  {
   "cell_type": "code",
   "execution_count": 678,
   "id": "a981e94e",
   "metadata": {},
   "outputs": [
    {
     "data": {
      "text/plain": [
       "'BANC'"
      ]
     },
     "execution_count": 678,
     "metadata": {},
     "output_type": "execute_result"
    }
   ],
   "source": [
    "\"\"\"\n",
    "0  1  2  3  4  5  6  7  8  9  10  11  12\n",
    "A  D  O  B  E  C  O  D  E  B   A   N   C\n",
    "\"\"\"\n",
    "s = \"ADOBECODEBANC\"\n",
    "t = \"ABC\"\n",
    "\n",
    "find_min_window(s, t)"
   ]
  },
  {
   "cell_type": "markdown",
   "id": "975169d2",
   "metadata": {},
   "source": [
    "# 12 - UNIQUE\n",
    "\n",
    "Implement an algorithm to determine if a string has all unique characters. What if you cannot use additional data structures?"
   ]
  },
  {
   "cell_type": "code",
   "execution_count": 681,
   "id": "4200ed3b",
   "metadata": {},
   "outputs": [],
   "source": [
    "# force brute improved - TC: O(n), SC: O(n)\n",
    "def is_unique(string):\n",
    "    visited = set()\n",
    "    \n",
    "    for char in string:\n",
    "        if char in visited:\n",
    "            return False\n",
    "        else:\n",
    "            visited.add(char)\n",
    "            \n",
    "    return True"
   ]
  },
  {
   "cell_type": "markdown",
   "id": "9ed1e8ca",
   "metadata": {},
   "source": [
    "### TC: O(n log n), SC: (1)"
   ]
  },
  {
   "cell_type": "code",
   "execution_count": 682,
   "id": "7964b852",
   "metadata": {},
   "outputs": [],
   "source": [
    "\"\"\"\n",
    "\n",
    "a b c d e f g a h i\n",
    "\n",
    "\"\"\"\n",
    "def merge_sort(string):\n",
    "    if len(string) > 1:\n",
    "        left = string[:len(string)//2]\n",
    "        right = string[len(string)//2:]\n",
    "        \n",
    "        merge_sort(left)\n",
    "        merge_sort(right)\n",
    "        \n",
    "        i = j = k = 0\n",
    "        \n",
    "        while i < len(left) and j < len(right):\n",
    "            if left[i] <= right[j]:\n",
    "                string[k] = left[i]\n",
    "                i += 1\n",
    "            else:\n",
    "                string[k] = right[j]\n",
    "                j += 1\n",
    "                \n",
    "            k += 1\n",
    "            \n",
    "        while i < len(left):\n",
    "            string[k] = left[i]\n",
    "            i += 1\n",
    "            k += 1\n",
    "            \n",
    "        while j < len(right):\n",
    "            string[k] = right[j]\n",
    "            j += 1\n",
    "            k += 1\n",
    "            \n",
    "\n",
    "def is_unique(string):\n",
    "    \n",
    "    merge_sort(string)\n",
    "    \n",
    "    for i in range(len(string)-1):\n",
    "        if string[i] == string[i+1]:\n",
    "            return False\n",
    "            \n",
    "    return True"
   ]
  },
  {
   "cell_type": "markdown",
   "id": "784bdc02",
   "metadata": {},
   "source": [
    "# 13 - Check Permutation:\n",
    "\n",
    "Given two strings, write a method to decide if one is a permutation of the other."
   ]
  },
  {
   "cell_type": "code",
   "execution_count": 2,
   "id": "80855a54",
   "metadata": {},
   "outputs": [],
   "source": [
    "# brute force testing all combinations through recursion\n",
    "# I saw permutation I thought already in recursion, but the question does not ask for all permutations\n",
    "# I could use only a hash or two loops to compare both strings and see if one is the permutation of the other one\n",
    "# I must be careful when trying to solve this kind of problems\n",
    "def swap(string, idx1, idx2):\n",
    "    temp = string[idx1]\n",
    "    string[idx1] = string[idx2]\n",
    "    string[idx2] = temp\n",
    "\n",
    "def is_permutation(str1, str2, idx):\n",
    "    if idx == len(str1):\n",
    "        if str1 == str2:\n",
    "            return True\n",
    "        return False\n",
    "    \n",
    "    for i in range(idx, len(str1)):\n",
    "        swap(str1, i, idx)\n",
    "        if is_permutation(str1, str2, idx+1):\n",
    "            return True\n",
    "        swap(str1, i, idx)\n",
    "    \n",
    "    return False\n",
    "    \n",
    "def check_permutation(str1, str2):\n",
    "    \n",
    "    return is_permutation(list(str1), list(str2), 0)"
   ]
  },
  {
   "cell_type": "code",
   "execution_count": 3,
   "id": "e4801a37",
   "metadata": {},
   "outputs": [
    {
     "name": "stdout",
     "output_type": "stream",
     "text": [
      "['1', '2', '3']\n",
      "['1', '2', '3']\n",
      "['1', '2', '3']\n",
      "['1', '3', '2']\n",
      "['1', '3', '2']\n",
      "['2', '1', '3']\n",
      "['2', '1', '3']\n",
      "['2', '1', '3']\n",
      "['2', '3', '1']\n",
      "['2', '3', '1']\n",
      "['3', '2', '1']\n",
      "['3', '2', '1']\n",
      "['3', '2', '1']\n"
     ]
    },
    {
     "data": {
      "text/plain": [
       "True"
      ]
     },
     "execution_count": 3,
     "metadata": {},
     "output_type": "execute_result"
    }
   ],
   "source": [
    "check_permutation(\"123\", \"321\")"
   ]
  },
  {
   "cell_type": "markdown",
   "id": "248c6c57",
   "metadata": {},
   "source": [
    " - we also could use a hash to test if each number has in the other, like transform them into strings, count the frequency of the numbers than compare if the other number matches the frequency of this one and have same amount of digits. TC: O(n), SC: O(n)\n",
    "\n",
    "- we also could use n^2 solution comparing each char with others, two loops\n",
    "\n",
    "- we also could do a n log n solution by sorting both strings alphabetically"
   ]
  },
  {
   "cell_type": "markdown",
   "id": "2a20f422",
   "metadata": {},
   "source": [
    "# 14 - URLify\n",
    "\n",
    "Write a method to replace all spaces in a string with '%20'. You may assume that the string has sufficient space at the end to hold the additional characters, and that you are given the \"true\" length of the string. (Note: If implementing in Java, please use a character array so that you can perform this operation in place.)\n",
    "\n",
    "__EXAMPLE__\n",
    "\n",
    "__Input:__ \"Mr Dohn Smith \", 13\n",
    "\n",
    "__Output:__ \"Mr%20John%20Smith\""
   ]
  },
  {
   "cell_type": "code",
   "execution_count": 750,
   "id": "d18e0399",
   "metadata": {},
   "outputs": [],
   "source": [
    "def urlify(string):\n",
    "    string_lst = string.split()\n",
    "    return \"%20\".join(string_lst)"
   ]
  },
  {
   "cell_type": "code",
   "execution_count": 752,
   "id": "966f67cc",
   "metadata": {},
   "outputs": [
    {
     "data": {
      "text/plain": [
       "'Mr%20Dohn%20Smith'"
      ]
     },
     "execution_count": 752,
     "metadata": {},
     "output_type": "execute_result"
    }
   ],
   "source": [
    "urlify(\"Mr Dohn Smith\")"
   ]
  },
  {
   "cell_type": "markdown",
   "id": "9a38cd35",
   "metadata": {},
   "source": [
    "# 15 - Palindrome Permutation\n",
    "\n",
    "Given a string, write a function to check if it is a permutation of a  palindrome. A palindrome is a word or phrase that is the same forwards and backwards. A permutation is a rearrangement of letters. The palindrome does not need to be limited to just dictionary words. \n",
    "\n",
    "__EXAMPLE__\n",
    "\n",
    "__Input:__ Tact Coa\n",
    "\n",
    "__Output:__ True (permutations: \"taco cat\", \"atco eta\", etc.)"
   ]
  },
  {
   "cell_type": "code",
   "execution_count": 785,
   "id": "7a42fe6f",
   "metadata": {},
   "outputs": [],
   "source": [
    "def is_palindrome(string):\n",
    "\n",
    "    for i in range(len(string)//2):\n",
    "        if string[i] != string[-1*(i+1)]:\n",
    "            return False\n",
    "    \n",
    "    return True\n",
    "\n",
    "def swap(string, i, j):\n",
    "    temp = string[i]\n",
    "    string[i] = string[j]\n",
    "    string[j] = temp\n",
    "\n",
    "def palindrome_helper(string, output, idx=0):\n",
    "    if idx == len(string):\n",
    "        if is_palindrome(\"\".join(string)):\n",
    "            if \"\".join(string) not in output:\n",
    "                output.append(\"\".join(string))\n",
    "        return\n",
    "    \n",
    "    for i in range(idx, len(string)):\n",
    "        swap(string, i, idx)\n",
    "        palindrome_helper(string, output, idx+1)\n",
    "        swap(string, i, idx)\n",
    "\n",
    "\n",
    "def check_palindrome(string):\n",
    "    output = []\n",
    "    string = \"\".join(string.split())\n",
    "    palindrome_helper(list(string.lower()), output)\n",
    "    \n",
    "    return output"
   ]
  },
  {
   "cell_type": "code",
   "execution_count": 786,
   "id": "390c3744",
   "metadata": {},
   "outputs": [
    {
     "data": {
      "text/plain": [
       "['tacocat', 'tcaoact', 'atcocta', 'actotca', 'catotac', 'ctaoatc']"
      ]
     },
     "execution_count": 786,
     "metadata": {},
     "output_type": "execute_result"
    }
   ],
   "source": [
    "check_palindrome(\"Tact Coa\")"
   ]
  },
  {
   "cell_type": "markdown",
   "id": "ae262728",
   "metadata": {},
   "source": [
    "What do we know about palindromes?\n",
    " - they are read in the same way backwards\n",
    " - they can have size even or odd\n",
    " - if size is even, all letters must have to be also even, for example: tacoocat - 2 t, 2 a, 2 c, 2 o\n",
    " - if size is odd, all letters must have to be also even but one, in other words, only one letter is odd"
   ]
  },
  {
   "cell_type": "code",
   "execution_count": 796,
   "id": "d5397c92",
   "metadata": {},
   "outputs": [],
   "source": [
    "# improved - TC: O(n), SC: O(n) \n",
    "def check_palindrome(string):\n",
    "    char_count = {}\n",
    "    string = string.lower()\n",
    "    for char in string:\n",
    "        if char in char_count:\n",
    "            char_count[char] += 1\n",
    "        else:\n",
    "            char_count[char] = 1\n",
    "    \n",
    "    odd = 0\n",
    "    for key in char_count:\n",
    "        if char_count[key]%2 != 0:\n",
    "            if odd > 1:\n",
    "                return False\n",
    "            odd += 1\n",
    "    \n",
    "    return True"
   ]
  },
  {
   "cell_type": "code",
   "execution_count": 798,
   "id": "34151dc4",
   "metadata": {},
   "outputs": [
    {
     "data": {
      "text/plain": [
       "True"
      ]
     },
     "execution_count": 798,
     "metadata": {},
     "output_type": "execute_result"
    }
   ],
   "source": [
    "check_palindrome(\"Tact Coa\")"
   ]
  },
  {
   "cell_type": "markdown",
   "id": "389c14f9",
   "metadata": {},
   "source": [
    "# 16 - One Away\n",
    "\n",
    "There are three types of edits that can be performed on strings: insert a character, remove a character, or replace a character. Given two strings, write a function to check if they are one edit (or zero edits) away.\n",
    "\n",
    "__EXAMPLE__\n",
    "\n",
    "pale, ple -> true\n",
    "\n",
    "pales, pale -> true\n",
    "\n",
    "pale, bale -> true\n",
    "\n",
    "pale, bake -> false"
   ]
  },
  {
   "cell_type": "code",
   "execution_count": 60,
   "id": "59f4dc17",
   "metadata": {},
   "outputs": [],
   "source": [
    "\"\"\"\n",
    "\n",
    "pale 4\n",
    "\n",
    "ple 3\n",
    "\n",
    "distance = 1\n",
    "\n",
    "plea 4\n",
    "\n",
    "0 1 2 3\n",
    "p a l e\n",
    "\n",
    "l\n",
    "    r\n",
    "0 2 3 1\n",
    "p l e a\n",
    "\n",
    "  l\n",
    "      r\n",
    "0 1 3 2\n",
    "p a l e\n",
    "\n",
    "distance= 1\n",
    "\n",
    "\n",
    "\n",
    "0 1 2 3\n",
    "p a l e\n",
    "\n",
    "l\n",
    "r\n",
    "1 2 3\n",
    "a l e\n",
    "\n",
    "distance = 1\n",
    "\n",
    "\n",
    "\"\"\"\n",
    "def one_away(str_1, str_2):\n",
    "    if len(str_1) < len(str_2):\n",
    "        return one_away(str_2, str_1)\n",
    "    \n",
    "    str_1_map = {}\n",
    "    str_2_map = {}\n",
    "    distance = 1 if len(str_1) != len(str_2) else 0\n",
    "    \n",
    "    idx = 0\n",
    "    for char in str_1:\n",
    "        str_1_map[char] = idx\n",
    "        idx += 1\n",
    "        \n",
    "    idx = 0\n",
    "    for char in str_2:\n",
    "        str_2_map[char] = idx\n",
    "        idx += 1\n",
    "    \n",
    "    for char_1, char_2 in zip(str_1_map, str_2_map):\n",
    "        if char_1 != char_2:\n",
    "            distance += 1\n",
    "            \n",
    "    return True if distance <= 1 else False"
   ]
  },
  {
   "cell_type": "code",
   "execution_count": 64,
   "id": "3cd53688",
   "metadata": {},
   "outputs": [
    {
     "name": "stdout",
     "output_type": "stream",
     "text": [
      "p a\n",
      "a l\n",
      "l e\n"
     ]
    },
    {
     "data": {
      "text/plain": [
       "False"
      ]
     },
     "execution_count": 64,
     "metadata": {},
     "output_type": "execute_result"
    }
   ],
   "source": [
    "str_1 = \"pale\"\n",
    "str_2 = \"ale\"\n",
    "\n",
    "one_away(str_1, str_2)"
   ]
  },
  {
   "cell_type": "markdown",
   "id": "3cd528e7",
   "metadata": {},
   "source": [
    "# 17 - String Compression\n",
    "\n",
    "Implement a method to perform basic string compression using the counts of repeated characters. For example, the string aabcccccaaa would become a2b1c5a3. If the \"compressed\" string would not become smaller than the original string, your method should return the original string. You can assume the string has only uppercase and lowercase letters (a - z)."
   ]
  },
  {
   "cell_type": "code",
   "execution_count": 95,
   "id": "7d2776ab",
   "metadata": {},
   "outputs": [],
   "source": [
    "\"\"\"\n",
    "              i\n",
    "               j\n",
    "aabbbbbbcccaaac\n",
    "\n",
    "\"\"\n",
    "\n",
    "\"\"\"\n",
    "def compress_string(string):\n",
    "    result_str = \"\"\n",
    "\n",
    "    i = 0\n",
    "    j = 0\n",
    "    \n",
    "    while j < len(string):\n",
    "        if j - 1 >= 0 and string[j] != string[i]:\n",
    "            result_str += string[i:i+1] + str(j-i)\n",
    "            i = j\n",
    "        if j == len(string)-1:\n",
    "            result_str += string[i:i+1] + str(j-i+1)\n",
    "        j += 1\n",
    "    \n",
    "    return result_str if len(result_str) < len(string) else string"
   ]
  },
  {
   "cell_type": "code",
   "execution_count": 99,
   "id": "0d8ccc35",
   "metadata": {},
   "outputs": [
    {
     "data": {
      "text/plain": [
       "'a2b6c3a3c1'"
      ]
     },
     "execution_count": 99,
     "metadata": {},
     "output_type": "execute_result"
    }
   ],
   "source": [
    "string = \"aabbbbbbcccaaac\"\n",
    "compress_string(string)"
   ]
  },
  {
   "cell_type": "code",
   "execution_count": null,
   "id": "d26893b8",
   "metadata": {},
   "outputs": [],
   "source": []
  }
 ],
 "metadata": {
  "kernelspec": {
   "display_name": "Python 3 (ipykernel)",
   "language": "python",
   "name": "python3"
  },
  "language_info": {
   "codemirror_mode": {
    "name": "ipython",
    "version": 3
   },
   "file_extension": ".py",
   "mimetype": "text/x-python",
   "name": "python",
   "nbconvert_exporter": "python",
   "pygments_lexer": "ipython3",
   "version": "3.8.9"
  }
 },
 "nbformat": 4,
 "nbformat_minor": 5
}
