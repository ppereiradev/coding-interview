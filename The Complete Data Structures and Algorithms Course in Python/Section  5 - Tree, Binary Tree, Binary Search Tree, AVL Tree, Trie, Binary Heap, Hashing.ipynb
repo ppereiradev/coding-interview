{
 "cells": [
  {
   "cell_type": "markdown",
   "id": "9371e863",
   "metadata": {},
   "source": [
    "# Section  5: Tree, Binary Tree, Binary Search Tree, AVL Tree, Trie, Binary Heap, Hashing"
   ]
  },
  {
   "cell_type": "markdown",
   "id": "a1456030",
   "metadata": {},
   "source": [
    "# First Example of Tree"
   ]
  },
  {
   "cell_type": "code",
   "execution_count": 10,
   "id": "308abb98",
   "metadata": {},
   "outputs": [
    {
     "name": "stdout",
     "output_type": "stream",
     "text": [
      "Drink\n",
      "  Cold\n",
      "    Tea\n",
      "    Beer\n",
      "  Hot\n",
      "    Hot Cocoa\n",
      "    Coffee\n",
      "\n"
     ]
    }
   ],
   "source": [
    "class Tree:\n",
    "    class Node:\n",
    "        def __init__(self, data):\n",
    "            self.data = data\n",
    "            self.children = []\n",
    "            \n",
    "        def __str__(self, level=0):\n",
    "            res = \"  \" * level + self.data + \"\\n\"\n",
    "            \n",
    "            for child in self.children:\n",
    "                res += child.__str__(level+1)\n",
    "                \n",
    "            return res\n",
    "        \n",
    "    def __init__(self):\n",
    "        self.root = None\n",
    "\n",
    "        \n",
    "tree = Tree()\n",
    "tree.root = tree.Node(\"Drink\")\n",
    "\n",
    "tree.root.children.append(tree.Node(\"Cold\"))\n",
    "tree.root.children.append(tree.Node(\"Hot\"))\n",
    "\n",
    "tree.root.children[0].children.append(tree.Node(\"Tea\"))\n",
    "tree.root.children[0].children.append(tree.Node(\"Beer\"))\n",
    "\n",
    "tree.root.children[1].children.append(tree.Node(\"Hot Cocoa\"))\n",
    "tree.root.children[1].children.append(tree.Node(\"Coffee\"))\n",
    "\n",
    "\n",
    "print(tree.root)"
   ]
  },
  {
   "cell_type": "markdown",
   "id": "4d8f1f1a",
   "metadata": {},
   "source": [
    "# Binary Tree"
   ]
  },
  {
   "cell_type": "code",
   "execution_count": 43,
   "id": "d3e9c70e",
   "metadata": {},
   "outputs": [],
   "source": [
    "class BinaryTree:\n",
    "    class Node:\n",
    "        def __init__(self, data):\n",
    "            self.data = data\n",
    "            self.left = None\n",
    "            self.right = None\n",
    "            \n",
    "        def __str__(self, level=0):\n",
    "            res = \" \" * level + str(self.data) + \"\\n\"\n",
    "            \n",
    "            if self.left:\n",
    "                res += self.left.__str__(level+1)\n",
    "            if self.right:\n",
    "                res += self.right.__str__(level+1)\n",
    "                \n",
    "            return res\n",
    "            \n",
    "            \n",
    "    def __init__(self):\n",
    "        self.root = None\n",
    "    \n",
    "    def insert(self, data):\n",
    "        def _insert(node):\n",
    "            if node is None:\n",
    "                return self.Node(data)\n",
    "            \n",
    "            if data < node.data:\n",
    "                node.left = _insert(node.left)\n",
    "            else:\n",
    "                node.right = _insert(node.right)\n",
    "                \n",
    "            return node\n",
    "    \n",
    "        self.root = _insert(self.root)\n",
    "            \n",
    "    def __str__(self):\n",
    "        return self.root.__str__()"
   ]
  },
  {
   "cell_type": "markdown",
   "id": "4d0a8994",
   "metadata": {},
   "source": [
    "# Binary Tree Traversals"
   ]
  },
  {
   "cell_type": "code",
   "execution_count": 49,
   "id": "00cddbf2",
   "metadata": {},
   "outputs": [
    {
     "name": "stdout",
     "output_type": "stream",
     "text": [
      "5\n",
      " 3\n",
      "  2\n",
      "   1\n",
      "  4\n",
      " 7\n",
      "  6\n",
      "  9\n",
      "\n",
      "5\n",
      "3\n",
      "2\n",
      "1\n",
      "4\n",
      "7\n",
      "6\n",
      "9\n"
     ]
    }
   ],
   "source": [
    "# pre-order traversal\n",
    "def preorder(node):\n",
    "    if node is None:\n",
    "        return\n",
    "    \n",
    "    print(node.data)\n",
    "    preorder(node.left)\n",
    "    preorder(node.right)\n",
    "    \n",
    "bt = BinaryTree()\n",
    "\n",
    "arr = [5,3,7,2,6,4,9,1]\n",
    "\n",
    "for i in arr:\n",
    "    bt.insert(i)\n",
    "\n",
    "print(bt)\n",
    "\n",
    "preorder(bt.root)"
   ]
  },
  {
   "cell_type": "code",
   "execution_count": 50,
   "id": "f6a93ea8",
   "metadata": {},
   "outputs": [
    {
     "name": "stdout",
     "output_type": "stream",
     "text": [
      "5\n",
      " 3\n",
      "  2\n",
      "   1\n",
      "  4\n",
      " 7\n",
      "  6\n",
      "  9\n",
      "\n",
      "1\n",
      "2\n",
      "3\n",
      "4\n",
      "5\n",
      "6\n",
      "7\n",
      "9\n"
     ]
    }
   ],
   "source": [
    "# in-order traversal\n",
    "def inorder(node):\n",
    "    if node is None:\n",
    "        return\n",
    "    \n",
    "    inorder(node.left)\n",
    "    print(node.data)\n",
    "    inorder(node.right)\n",
    "    \n",
    "bt = BinaryTree()\n",
    "\n",
    "arr = [5,3,7,2,6,4,9,1]\n",
    "\n",
    "for i in arr:\n",
    "    bt.insert(i)\n",
    "\n",
    "print(bt)\n",
    "    \n",
    "inorder(bt.root)"
   ]
  },
  {
   "cell_type": "code",
   "execution_count": 51,
   "id": "668ec068",
   "metadata": {},
   "outputs": [
    {
     "name": "stdout",
     "output_type": "stream",
     "text": [
      "5\n",
      " 3\n",
      "  2\n",
      "   1\n",
      "  4\n",
      " 7\n",
      "  6\n",
      "  9\n",
      "\n",
      "1\n",
      "2\n",
      "4\n",
      "3\n",
      "6\n",
      "9\n",
      "7\n",
      "5\n"
     ]
    }
   ],
   "source": [
    "# post-order traversal\n",
    "def postorder(node):\n",
    "    if node is None:\n",
    "        return\n",
    "    \n",
    "    postorder(node.left)\n",
    "    postorder(node.right)\n",
    "    print(node.data)\n",
    "    \n",
    "bt = BinaryTree()\n",
    "\n",
    "arr = [5,3,7,2,6,4,9,1]\n",
    "\n",
    "for i in arr:\n",
    "    bt.insert(i)\n",
    "\n",
    "print(bt)\n",
    "postorder(bt.root)"
   ]
  },
  {
   "cell_type": "code",
   "execution_count": 47,
   "id": "d70a0d79",
   "metadata": {},
   "outputs": [
    {
     "name": "stdout",
     "output_type": "stream",
     "text": [
      "5\n",
      " 3\n",
      "  2\n",
      "   1\n",
      "  4\n",
      " 7\n",
      "  6\n",
      "  9\n",
      "\n",
      "5\n",
      "3\n",
      "7\n",
      "2\n",
      "4\n",
      "6\n",
      "9\n",
      "1\n"
     ]
    }
   ],
   "source": [
    "from collections import deque\n",
    "\n",
    "# level-order traversal\n",
    "def levelorder(node):\n",
    "    queue = deque()\n",
    "    queue.append(node)\n",
    "    \n",
    "    while len(queue) > 0:\n",
    "        curr = queue.popleft()\n",
    "        print(curr.data)\n",
    "        \n",
    "        if curr.left:\n",
    "            queue.append(curr.left)\n",
    "        if curr.right:\n",
    "            queue.append(curr.right)\n",
    "\n",
    "\n",
    "bt = BinaryTree()\n",
    "\n",
    "arr = [5,3,7,2,6,4,9,1]\n",
    "\n",
    "for i in arr:\n",
    "    bt.insert(i)\n",
    "    \n",
    "print(bt)\n",
    "levelorder(bt.root)"
   ]
  },
  {
   "cell_type": "markdown",
   "id": "24107fe6",
   "metadata": {},
   "source": [
    "# Binary Tree Search\n",
    "\n",
    "The instructor of the course said it is better to use queue over stack, so for searching let's use level order traversal."
   ]
  },
  {
   "cell_type": "code",
   "execution_count": 56,
   "id": "b94277d5",
   "metadata": {},
   "outputs": [
    {
     "name": "stdout",
     "output_type": "stream",
     "text": [
      "5\n",
      " 3\n",
      "  2\n",
      "   1\n",
      "  4\n",
      " 7\n",
      "  6\n",
      "  9\n",
      "\n",
      "9\n"
     ]
    }
   ],
   "source": [
    "from collections import deque\n",
    "\n",
    "def search_levelorder(node, value):\n",
    "    queue = deque()\n",
    "    queue.append(node)\n",
    "    \n",
    "    while queue:\n",
    "        curr = queue.popleft()\n",
    "        \n",
    "        if curr.data == value:\n",
    "            return curr.data\n",
    "        \n",
    "        if curr.left:\n",
    "            queue.append(curr.left)\n",
    "        if curr.right:\n",
    "            queue.append(curr.right)\n",
    "            \n",
    "    return \"value not found!\"\n",
    "\n",
    "bt = BinaryTree()\n",
    "\n",
    "arr = [5,3,7,2,6,4,9,1]\n",
    "\n",
    "for i in arr:\n",
    "    bt.insert(i)\n",
    "    \n",
    "print(bt)\n",
    "print(search_levelorder(bt.root, 9))"
   ]
  },
  {
   "cell_type": "markdown",
   "id": "3583c740",
   "metadata": {},
   "source": [
    "# Binary Tree Inserting Value - Level Order"
   ]
  },
  {
   "cell_type": "code",
   "execution_count": 65,
   "id": "7926a874",
   "metadata": {},
   "outputs": [
    {
     "name": "stdout",
     "output_type": "stream",
     "text": [
      "1\n",
      "   2\n",
      "      4\n",
      "         8\n",
      "            16\n",
      "            17\n",
      "         9\n",
      "            18\n",
      "            19\n",
      "      5\n",
      "         10\n",
      "         11\n",
      "   3\n",
      "      6\n",
      "         12\n",
      "         13\n",
      "      7\n",
      "         14\n",
      "         15\n",
      "\n"
     ]
    }
   ],
   "source": [
    "from collections import deque\n",
    "\n",
    "class BinaryTree:\n",
    "    class Node:\n",
    "        def __init__(self, data):\n",
    "            self.data = data\n",
    "            self.left = None\n",
    "            self.right = None\n",
    "            \n",
    "        def __str__(self, level=0):\n",
    "            res = \"   \" * level + str(self.data) + \"\\n\"\n",
    "            \n",
    "            if self.left:\n",
    "                res += self.left.__str__(level+1)\n",
    "            if self.right:\n",
    "                res += self.right.__str__(level+1)\n",
    "                \n",
    "            return res\n",
    "        \n",
    "    def __init__(self):\n",
    "        self.root = None\n",
    "        \n",
    "    # here we are inserting on \n",
    "    # level order traversal\n",
    "    def insert(self, data):\n",
    "        if self.root:\n",
    "            queue = deque()\n",
    "            queue.append(self.root)\n",
    "\n",
    "            while queue:\n",
    "                curr = queue.popleft()\n",
    "\n",
    "                if curr.left:\n",
    "                    queue.append(curr.left)\n",
    "                else:\n",
    "                    curr.left = self.Node(data)\n",
    "                    break\n",
    "\n",
    "                if curr.right:\n",
    "                    queue.append(curr.right)\n",
    "                else:\n",
    "                    curr.right = self.Node(data)\n",
    "                    break\n",
    "                    \n",
    "        else:\n",
    "            self.root = self.Node(data)\n",
    "                    \n",
    "    def __str__(self):\n",
    "        return self.root.__str__()\n",
    "\n",
    "\n",
    "bt = BinaryTree()\n",
    "\n",
    "for i in range(1,20):\n",
    "    bt.insert(i)\n",
    "    \n",
    "print(bt)"
   ]
  },
  {
   "cell_type": "markdown",
   "id": "6b288292",
   "metadata": {},
   "source": [
    "# Binary Tree Deleting\n",
    "\n",
    "1. We find the node that we wanna delete\n",
    "2. Store its parent and its children\n",
    "3. Find the last node in the level order traversal\n",
    "4. Swap with the node that we wanna delete"
   ]
  },
  {
   "cell_type": "code",
   "execution_count": 106,
   "id": "08a2e8a3",
   "metadata": {},
   "outputs": [
    {
     "name": "stdout",
     "output_type": "stream",
     "text": [
      "1\n",
      "   2\n",
      "      4\n",
      "         8\n",
      "            16\n",
      "            17\n",
      "         9\n",
      "            18\n",
      "            19\n",
      "      5\n",
      "         10\n",
      "         11\n",
      "   3\n",
      "      6\n",
      "         12\n",
      "         13\n",
      "      7\n",
      "         14\n",
      "         15\n",
      "\n",
      "1\n",
      "   2\n",
      "      4\n",
      "         8\n",
      "            16\n",
      "            17\n",
      "         9\n",
      "            18\n",
      "      5\n",
      "         10\n",
      "         11\n",
      "   19\n",
      "      6\n",
      "         12\n",
      "         13\n",
      "      7\n",
      "         14\n",
      "         15\n",
      "\n"
     ]
    }
   ],
   "source": [
    "from collections import deque\n",
    "\n",
    "def delete_node(root, value):\n",
    "    def get_last_node():\n",
    "        dq = deque()\n",
    "        dq.append(root)\n",
    "        \n",
    "        while dq:\n",
    "            curr = dq.popleft()\n",
    "            \n",
    "            if curr.left:\n",
    "                dq.append(curr.left)\n",
    "            if curr.right:\n",
    "                dq.append(curr.right)\n",
    "        return curr\n",
    "    \n",
    "    def delete_last_node(node):\n",
    "        if node is None:\n",
    "            return\n",
    "        \n",
    "        if node.left is last_node:\n",
    "            node.left = None\n",
    "        elif node.right is last_node:\n",
    "            node.right = None\n",
    "        \n",
    "        delete_last_node(node.left)\n",
    "        delete_last_node(node.right)\n",
    "    \n",
    "    \n",
    "    def swap_node():\n",
    "        dq = deque()\n",
    "        dq.append(root)\n",
    "        \n",
    "        while dq:\n",
    "            curr = dq.popleft()\n",
    "            \n",
    "            if curr.left:\n",
    "                if curr.left.data == value:\n",
    "                    last_node.left = curr.left.left\n",
    "                    last_node.right = curr.left.right\n",
    "                    curr.left = last_node\n",
    "                    break\n",
    "                else:\n",
    "                    dq.append(curr.left)\n",
    "            \n",
    "            if curr.right:\n",
    "                if curr.right.data == value:\n",
    "                    last_node.left = curr.right.left\n",
    "                    last_node.right = curr.right.right\n",
    "                    curr.right = last_node\n",
    "                    break\n",
    "                else:\n",
    "                    dq.append(curr.right)\n",
    "    \n",
    "    \n",
    "    last_node = get_last_node()\n",
    "    delete_last_node(root)\n",
    "    swap_node()\n",
    "\n",
    "    \n",
    "bt = BinaryTree()\n",
    "\n",
    "for i in range(1,20):\n",
    "    bt.insert(i)\n",
    "    \n",
    "print(bt)\n",
    "delete_node(bt.root, 3)\n",
    "print(bt)"
   ]
  },
  {
   "cell_type": "markdown",
   "id": "965cafab",
   "metadata": {},
   "source": [
    "# Inverting Binary Tree\n",
    "\n",
    "Using preorder traversal."
   ]
  },
  {
   "cell_type": "code",
   "execution_count": 67,
   "id": "7f0b8236",
   "metadata": {},
   "outputs": [
    {
     "name": "stdout",
     "output_type": "stream",
     "text": [
      "1\n",
      "   2\n",
      "      4\n",
      "         8\n",
      "            16\n",
      "            17\n",
      "         9\n",
      "            18\n",
      "            19\n",
      "      5\n",
      "         10\n",
      "         11\n",
      "   3\n",
      "      6\n",
      "         12\n",
      "         13\n",
      "      7\n",
      "         14\n",
      "         15\n",
      "\n",
      "1\n",
      "   3\n",
      "      7\n",
      "         15\n",
      "         14\n",
      "      6\n",
      "         13\n",
      "         12\n",
      "   2\n",
      "      5\n",
      "         11\n",
      "         10\n",
      "      4\n",
      "         9\n",
      "            19\n",
      "            18\n",
      "         8\n",
      "            17\n",
      "            16\n",
      "\n"
     ]
    }
   ],
   "source": [
    "# inverting the binary tree\n",
    "def invert(node):\n",
    "    if node is None:\n",
    "        return\n",
    "    \n",
    "    node.left, node.right = node.right, node.left\n",
    "    invert(node.left)\n",
    "    invert(node.right)\n",
    "\n",
    "bt = BinaryTree()\n",
    "\n",
    "for i in range(1,20):\n",
    "    bt.insert(i)\n",
    "    \n",
    "print(bt)\n",
    "invert(bt.root)\n",
    "print(bt)"
   ]
  },
  {
   "cell_type": "markdown",
   "id": "f66a3078",
   "metadata": {},
   "source": [
    "# Binary Search Tree\n",
    "\n",
    "1. In the left subtree the value of a node is less than or equal to its parent's value.\n",
    "2. In the right subtree the value of a node is greater than its parent's value."
   ]
  },
  {
   "cell_type": "code",
   "execution_count": 110,
   "id": "aa987bd1",
   "metadata": {},
   "outputs": [
    {
     "name": "stdout",
     "output_type": "stream",
     "text": [
      "4\n",
      "  2\n",
      "    1\n",
      "    3\n",
      "  6\n",
      "    5\n",
      "    7\n",
      "\n"
     ]
    }
   ],
   "source": [
    "class BinarySearchTree:\n",
    "    class Node:\n",
    "        def __init__(self, data):\n",
    "            self.data = data\n",
    "            self.left = None\n",
    "            self.right = None\n",
    "            \n",
    "        def __str__(self, level=0):\n",
    "            res = \"  \" * level + str(self.data) + \"\\n\"\n",
    "            \n",
    "            if self.left:\n",
    "                res += self.left.__str__(level+1)\n",
    "            if self.right:\n",
    "                res += self.right.__str__(level+1)\n",
    "                \n",
    "            return res\n",
    "        \n",
    "    def __init__(self):\n",
    "        self.root = None\n",
    "        \n",
    "    #TC: O(log n)\n",
    "    def insert(self, data):\n",
    "        def _insert(node):\n",
    "            if node is None:\n",
    "                return self.Node(data)\n",
    "            if data <= node.data:\n",
    "                node.left = _insert(node.left)\n",
    "            elif data > node.data:\n",
    "                node.right = _insert(node.right)\n",
    "                \n",
    "            return node\n",
    "        \n",
    "        self.root = _insert(self.root)\n",
    "        \n",
    "    def __str__(self):\n",
    "        return self.root.__str__()\n",
    "    \n",
    "bst = BinarySearchTree()\n",
    "\n",
    "#for i in range(1,20):\n",
    "#    bst.insert(i)\n",
    "\n",
    "arr = [4,2,6,1,3,5,7]\n",
    "\n",
    "for i in arr:\n",
    "    bst.insert(i)\n",
    "    \n",
    "print(bst)"
   ]
  },
  {
   "cell_type": "markdown",
   "id": "304b7bcf",
   "metadata": {},
   "source": [
    "# Binary Search Tree Traversal"
   ]
  },
  {
   "cell_type": "code",
   "execution_count": 113,
   "id": "ac1f8ce8",
   "metadata": {},
   "outputs": [
    {
     "name": "stdout",
     "output_type": "stream",
     "text": [
      "4\n",
      "2\n",
      "1\n",
      "3\n",
      "6\n",
      "5\n",
      "7\n"
     ]
    }
   ],
   "source": [
    "# preorder traversal\n",
    "def preorder(root):\n",
    "    if root is None:\n",
    "        return\n",
    "    \n",
    "    print(root.data)\n",
    "    preorder(root.left)\n",
    "    preorder(root.right)\n",
    "    \n",
    "preorder(bst.root)"
   ]
  },
  {
   "cell_type": "code",
   "execution_count": 115,
   "id": "9cd2ea26",
   "metadata": {},
   "outputs": [
    {
     "name": "stdout",
     "output_type": "stream",
     "text": [
      "1\n",
      "2\n",
      "3\n",
      "4\n",
      "5\n",
      "6\n",
      "7\n"
     ]
    }
   ],
   "source": [
    "# inorder traversal\n",
    "def inorder(root):\n",
    "    if root is None:\n",
    "        return\n",
    "    \n",
    "    inorder(root.left)\n",
    "    print(root.data)\n",
    "    inorder(root.right)\n",
    "    \n",
    "inorder(bst.root)"
   ]
  },
  {
   "cell_type": "code",
   "execution_count": 118,
   "id": "0b6766c5",
   "metadata": {},
   "outputs": [
    {
     "name": "stdout",
     "output_type": "stream",
     "text": [
      "1\n",
      "3\n",
      "2\n",
      "5\n",
      "7\n",
      "6\n",
      "4\n"
     ]
    }
   ],
   "source": [
    "# postorder traversal\n",
    "def postorder(root):\n",
    "    if root is None:\n",
    "        return\n",
    "    \n",
    "    postorder(root.left)\n",
    "    postorder(root.right)\n",
    "    print(root.data)\n",
    "    \n",
    "postorder(bst.root)"
   ]
  },
  {
   "cell_type": "code",
   "execution_count": 120,
   "id": "90ef0349",
   "metadata": {},
   "outputs": [
    {
     "name": "stdout",
     "output_type": "stream",
     "text": [
      "4\n",
      "2\n",
      "6\n",
      "1\n",
      "3\n",
      "5\n",
      "7\n"
     ]
    }
   ],
   "source": [
    "# level order traversal\n",
    "from collections import deque\n",
    "\n",
    "def levelorder(root):\n",
    "    dq = deque()\n",
    "    dq.append(root)\n",
    "    \n",
    "    while dq:\n",
    "        curr = dq.popleft()\n",
    "        print(curr.data)\n",
    "        \n",
    "        if curr.left:\n",
    "            dq.append(curr.left)\n",
    "        if curr.right:\n",
    "            dq.append(curr.right)\n",
    "            \n",
    "levelorder(bst.root)"
   ]
  },
  {
   "cell_type": "markdown",
   "id": "464ed817",
   "metadata": {},
   "source": [
    "# Binary Search Tree Search"
   ]
  },
  {
   "cell_type": "code",
   "execution_count": 126,
   "id": "766776f8",
   "metadata": {},
   "outputs": [
    {
     "data": {
      "text/plain": [
       "'found!'"
      ]
     },
     "execution_count": 126,
     "metadata": {},
     "output_type": "execute_result"
    }
   ],
   "source": [
    "# TC: O(log n)\n",
    "def search(root, value):\n",
    "    if root is None:\n",
    "        return \"not found!\"\n",
    "    \n",
    "    if root.data == value:\n",
    "        return \"found!\"\n",
    "    elif value < root.data:\n",
    "        res = search(root.left, value)\n",
    "    elif value > root.data:\n",
    "        res = search(root.right, value)\n",
    "    \n",
    "    return res\n",
    "\n",
    "search(bst.root, 7)"
   ]
  },
  {
   "cell_type": "markdown",
   "id": "a1dcb798",
   "metadata": {},
   "source": [
    "# Binary Search Tree Delete\n",
    "\n",
    "When deleting a node, we have three cases:\n",
    "\n",
    "1. the node is a leaf\n",
    "2. the node has one child\n",
    "3. the node has two children"
   ]
  },
  {
   "cell_type": "code",
   "execution_count": 139,
   "id": "2262d9b5",
   "metadata": {},
   "outputs": [
    {
     "name": "stdout",
     "output_type": "stream",
     "text": [
      "4\n",
      "  2\n",
      "    1\n",
      "    3\n",
      "  6\n",
      "    5\n",
      "    7\n",
      "      10\n",
      "        13\n",
      "          15\n",
      "            14\n",
      "\n",
      "4\n",
      "  2\n",
      "    1\n",
      "    3\n",
      "  6\n",
      "    5\n",
      "    10\n",
      "      13\n",
      "        15\n",
      "          14\n",
      "\n"
     ]
    }
   ],
   "source": [
    "def delete(root, value):\n",
    "    def min_value(node):\n",
    "        curr = node\n",
    "        while curr.left:\n",
    "            curr = curr.left\n",
    "            \n",
    "        return curr\n",
    "    \n",
    "    def delete_node(node, value):\n",
    "        if node is None:\n",
    "            return\n",
    "        if value < node.data:\n",
    "            node.left = delete_node(node.left, value)\n",
    "        elif value > node.data:\n",
    "            node.right = delete_node(node.right, value)\n",
    "        \n",
    "        else:\n",
    "            # case 1 and 2 because if node there is no child\n",
    "            # it will return None, if it has one child it will\n",
    "            # return its child\n",
    "            if node.left is None:\n",
    "                temp = node.right\n",
    "                node = None\n",
    "                return temp\n",
    "            \n",
    "            if node.right is None:\n",
    "                temp = node.left\n",
    "                node = None\n",
    "                return temp\n",
    "            \n",
    "            # case 3\n",
    "            temp = min_value(node.right)\n",
    "            node.data = temp\n",
    "            node.right = delete_node(node.right, temp.data)\n",
    "        \n",
    "        return node\n",
    "            \n",
    "    delete_node(root, value)\n",
    "\n",
    "bst = BinarySearchTree()\n",
    "arr = [4,2,6,1,3,5,7,10,13,15,14]\n",
    "\n",
    "for i in arr:\n",
    "    bst.insert(i)\n",
    "    \n",
    "print(bst)\n",
    "delete(bst.root, 7)\n",
    "print(bst)\n",
    "    "
   ]
  },
  {
   "cell_type": "code",
   "execution_count": null,
   "id": "e1779c6b",
   "metadata": {},
   "outputs": [],
   "source": []
  }
 ],
 "metadata": {
  "kernelspec": {
   "display_name": "Python 3 (ipykernel)",
   "language": "python",
   "name": "python3"
  },
  "language_info": {
   "codemirror_mode": {
    "name": "ipython",
    "version": 3
   },
   "file_extension": ".py",
   "mimetype": "text/x-python",
   "name": "python",
   "nbconvert_exporter": "python",
   "pygments_lexer": "ipython3",
   "version": "3.8.9"
  }
 },
 "nbformat": 4,
 "nbformat_minor": 5
}
