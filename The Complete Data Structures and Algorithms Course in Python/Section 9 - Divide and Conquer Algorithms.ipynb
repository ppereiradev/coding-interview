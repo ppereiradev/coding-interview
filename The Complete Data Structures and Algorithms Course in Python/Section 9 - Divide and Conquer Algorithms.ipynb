{
 "cells": [
  {
   "cell_type": "markdown",
   "id": "9b929da7",
   "metadata": {},
   "source": [
    "# Section 9: Divide and Conquer Algorithms\n",
    "\n",
    "Divide and conquer is an algorithm design paradigm which works by recursively breaking down a problem into subproblems of similar type, until these become simple enough to be solved directly. The solutions to the subproblems are then combined to give a solution to the original problem.\n",
    "\n",
    "__Divide and Conquer Common Algorithms:__\n",
    "\n",
    "- Merge Sort\n",
    "- Quick Sort\n",
    "- Binary Search"
   ]
  },
  {
   "cell_type": "markdown",
   "id": "b543a478",
   "metadata": {},
   "source": [
    "# Exercises"
   ]
  },
  {
   "cell_type": "markdown",
   "id": "db28428e",
   "metadata": {},
   "source": [
    "# Fibonacci Series\n",
    "\n",
    "__Definition:__ a series of numbers in which each number is the sum of the two preceding numbers. First two numbers are 0 and 1 by definition.\n",
    "\n",
    "__EX:__ 0, 1, 1, 2, 3, 5, 8, 13, ..."
   ]
  },
  {
   "cell_type": "code",
   "execution_count": 12,
   "id": "5197efd1",
   "metadata": {},
   "outputs": [
    {
     "data": {
      "text/plain": [
       "13"
      ]
     },
     "execution_count": 12,
     "metadata": {},
     "output_type": "execute_result"
    }
   ],
   "source": [
    "# Divide and Conquer Approach\n",
    "# it can be improved using dynamic programming\n",
    "def fib(n):\n",
    "    if n < 1:\n",
    "        raise ValueError(\"Value is invalid!\")\n",
    "    if n == 1:\n",
    "        return 0\n",
    "    if n == 2:\n",
    "        return 1\n",
    "    \n",
    "    return fib(n-2) + fib(n-1)\n",
    "\n",
    "fib(8)"
   ]
  },
  {
   "cell_type": "markdown",
   "id": "3dbd2f9a",
   "metadata": {},
   "source": [
    "# Number Factor\n",
    "\n",
    "Given a number N, find the number of ways to express N as sum of 1, 3, and 4.\n",
    "\n",
    "__Ex:__\n",
    "\n",
    "- input: 5\n",
    "- output: 6\n",
    "- Explanation: there are 6 ways to represent 5 as sum of 1, 3, and 4: (4,1),(1,4),(1,3,1),(3,1,1)(1,1,3),(1,1,1,1,1)"
   ]
  },
  {
   "cell_type": "code",
   "execution_count": 14,
   "id": "e08a8193",
   "metadata": {},
   "outputs": [
    {
     "data": {
      "text/plain": [
       "6"
      ]
     },
     "execution_count": 14,
     "metadata": {},
     "output_type": "execute_result"
    }
   ],
   "source": [
    "def find_number_factor(n):\n",
    "    if n in (0,1,2):\n",
    "        return 1\n",
    "    elif n == 3:\n",
    "        return 2\n",
    "        \n",
    "    return find_number_factor(n-4) + find_number_factor(n-3) + find_number_factor(n-1) \n",
    "        \n",
    "find_number_factor(5)"
   ]
  },
  {
   "cell_type": "markdown",
   "id": "572ba369",
   "metadata": {},
   "source": [
    "# House Robber\n",
    "\n",
    "__Problem Statement:__\n",
    "\n",
    "- Given N number of houses along the street with some amount of money\n",
    "- Adjacent houses cannot be stolen\n",
    "- Find the maximum amount that can be stolen"
   ]
  },
  {
   "cell_type": "code",
   "execution_count": 17,
   "id": "b98e29b0",
   "metadata": {},
   "outputs": [
    {
     "data": {
      "text/plain": [
       "41"
      ]
     },
     "execution_count": 17,
     "metadata": {},
     "output_type": "execute_result"
    }
   ],
   "source": [
    "def rob(houses, idx_curr_house=0):\n",
    "    if idx_curr_house >= len(houses):\n",
    "        return 0\n",
    "    \n",
    "    # first option: rob the first house\n",
    "    rob_first_house = houses[idx_curr_house] + rob(houses, idx_curr_house + 2)\n",
    "    # second option: do not rob the first house\n",
    "    skip_first_house = rob(houses, idx_curr_house + 1)\n",
    "    \n",
    "    return max(rob_first_house, skip_first_house)\n",
    "\n",
    "houses = [6,7,1,30,8,2,4]\n",
    "rob(houses)"
   ]
  },
  {
   "cell_type": "markdown",
   "id": "13ed7bd2",
   "metadata": {},
   "source": [
    "# Convert one string to another\n",
    "\n",
    "You are given two strings S1 and S2. Convert S2 to S1, using only insert, delete or repace operations. Find the minimum count of edit operations.\n",
    "\n",
    "__Ex:__\n",
    "\n",
    "s1 = table, s2 = tbres\n",
    "\n",
    "output = 3\n",
    "\n",
    "Explanation: insert a in the second position, replace r with l and remove s.\n"
   ]
  },
  {
   "cell_type": "code",
   "execution_count": 19,
   "id": "d8867321",
   "metadata": {},
   "outputs": [
    {
     "data": {
      "text/plain": [
       "3"
      ]
     },
     "execution_count": 19,
     "metadata": {},
     "output_type": "execute_result"
    }
   ],
   "source": [
    "def find_min_operations(s1, s2, idx1=0, idx2=0):\n",
    "    # need to delete the remaining chars of s2\n",
    "    if idx1 == len(s1):\n",
    "        return len(s2) - idx2\n",
    "    # need to insert the remaining chars of s1 into s2\n",
    "    if idx2 == len(s2):\n",
    "        return len(s1) - idx1\n",
    "    \n",
    "    # if the char in both strings are equal, call recursion\n",
    "    if s1[idx1] == s2[idx2]:\n",
    "        return find_min_operations(s1, s2, idx1+1, idx2+1)\n",
    "    \n",
    "    delete_op = 1 + find_min_operations(s1, s2, idx1, idx2+1)\n",
    "    insert_op = 1 + find_min_operations(s1, s2, idx1+1, idx2)\n",
    "    replace_op = 1 + find_min_operations(s1, s2, idx1+1, idx2+1)\n",
    "    \n",
    "    return min(delete_op, insert_op, replace_op)\n",
    "\n",
    "s1 = \"table\"\n",
    "s2 = \"tbres\"\n",
    "\n",
    "find_min_operations(s1, s2)"
   ]
  },
  {
   "cell_type": "markdown",
   "id": "b6072dab",
   "metadata": {},
   "source": [
    "# 0-1 Knapsack Problem\n",
    "\n",
    "Given weights and values of n items, put these items in a knapsack of capacity W to get the maximum total value in the knapsack. In other words, given two integer arrays val[0..n-1] and wt[0..n-1] which represent values and weights associated with n items respectively. Also given an integer W which represents knapsack capacity, find out the maximum value subset of val[] such that sum of the weights of this subset is smaller than or equal to W. You cannot break an item, either pick the complete item or don’t pick it (0-1 property)."
   ]
  },
  {
   "cell_type": "code",
   "execution_count": 30,
   "id": "dbbf45ea",
   "metadata": {},
   "outputs": [
    {
     "data": {
      "text/plain": [
       "220"
      ]
     },
     "execution_count": 30,
     "metadata": {},
     "output_type": "execute_result"
    }
   ],
   "source": [
    "def find_profit(capacity, items, idx=0):\n",
    "    if capacity <= 0 or idx >= len(items) or capacity < items[idx][1]:\n",
    "        return 0\n",
    "\n",
    "    pick_item = items[idx][0] + find_profit(capacity - items[idx][1], items, idx+1)\n",
    "    skip_pick_item = find_profit(capacity, items, idx+1)\n",
    "\n",
    "    return max(pick_item, skip_pick_item)\n",
    "\n",
    "items = [[60,10], [100,20], [120,30]]\n",
    "capacity = 50\n",
    "\n",
    "find_profit(capacity, items)"
   ]
  },
  {
   "cell_type": "markdown",
   "id": "d62cf047",
   "metadata": {},
   "source": [
    "# Longest Common Subsequence\n",
    "\n",
    "The longest common subsequence (LCS) is defined as the longest subsequence that is common to all the given sequences, provided that the elements of the subsequence are not required to occupy consecutive positions within the original sequences.\n",
    "\n",
    "If S1 and S2 are the two given sequences then, Z is the common subsequence of S1 and S2 if Z is a subsequence of both S1 and S2. Furthermore, Z must be a strictly increasing sequence of the indices of both S1 and S2."
   ]
  },
  {
   "cell_type": "code",
   "execution_count": 33,
   "id": "d1a3db3f",
   "metadata": {},
   "outputs": [
    {
     "data": {
      "text/plain": [
       "4"
      ]
     },
     "execution_count": 33,
     "metadata": {},
     "output_type": "execute_result"
    }
   ],
   "source": [
    "def find_lcs(s1, s2, idx1=0, idx2=0):\n",
    "    if idx1 == len(s1) or idx2 == len(s2):\n",
    "        return 0\n",
    "    \n",
    "    if s1[idx1] == s2[idx2]:\n",
    "        return 1 + find_lcs(s1, s2, idx1+1, idx2+1)\n",
    "    \n",
    "    else:\n",
    "        pick_s1_char = find_lcs(s1, s2, idx1, idx2+1)\n",
    "        pick_s2_char = find_lcs(s1, s2, idx1+1, idx2)\n",
    "        \n",
    "        return max(pick_s1_char, pick_s2_char)\n",
    "    \n",
    "s1 = \"elephant\"\n",
    "s2 = \"etept\"\n",
    "\n",
    "find_lcs(s1, s2)\n",
    "        "
   ]
  },
  {
   "cell_type": "markdown",
   "id": "582b4ae4",
   "metadata": {},
   "source": [
    "# Longest Palindromic Subsequence\n",
    "\n",
    "Problem Statement:\n",
    "\n",
    "- S is a given string\n",
    "- Find the longest palindromic subsequence (LPS)\n",
    "- Subsequence: a sequence that can be driven from another sequence by deleting some elements\n",
    "\n",
    "without changing the order of them\n",
    "- Palindrome is a string that reads the same backward as well as forward"
   ]
  },
  {
   "cell_type": "code",
   "execution_count": 39,
   "id": "4abbc9e4",
   "metadata": {},
   "outputs": [
    {
     "data": {
      "text/plain": [
       "5"
      ]
     },
     "execution_count": 39,
     "metadata": {},
     "output_type": "execute_result"
    }
   ],
   "source": [
    "def find_lps(string, start, end):\n",
    "    if start > end:\n",
    "        return 0\n",
    "    elif start == end:\n",
    "        return 1\n",
    "    elif string[start] == string[end]:\n",
    "        return 2 + find_lps(string, start+1, end-1)\n",
    "    else:\n",
    "        opt1 = find_lps(string, start+1, end)\n",
    "        opt2 = find_lps(string, start, end-1)\n",
    "        \n",
    "        return max(opt1, opt2)\n",
    "    \n",
    "string = \"elrmenemt\"\n",
    "find_lps(string, 0, len(string)-1)"
   ]
  },
  {
   "cell_type": "markdown",
   "id": "cede41e9",
   "metadata": {},
   "source": [
    "# Minimum Cost to Reach the Last Cell Problem\n",
    "\n",
    "__Problem Statement:__\n",
    "\n",
    "- 2D Matrix is given\n",
    "- Each cell has a cost associated with it for accessing\n",
    "- We need to start from (0.0) cell and go till (n-1,n-1) cell\n",
    "- We can go only to right or down cell from current cell\n",
    "- Find the way in which the cost is minimum"
   ]
  },
  {
   "cell_type": "code",
   "execution_count": 2,
   "id": "2157a097",
   "metadata": {},
   "outputs": [
    {
     "data": {
      "text/plain": [
       "36"
      ]
     },
     "execution_count": 2,
     "metadata": {},
     "output_type": "execute_result"
    }
   ],
   "source": [
    "def find_min_cost(grid):\n",
    "    def util(row, col):\n",
    "        if row == 0 and col == 0:\n",
    "            return grid[row][col]\n",
    "        if row < 0 or col < 0:\n",
    "            return float(\"inf\")\n",
    "\n",
    "        return grid[row][col] + min(util(row,col-1), util(row-1,col))\n",
    "\n",
    "    return util(len(grid)-1, len(grid[0])-1)\n",
    "    \n",
    "    \n",
    "grid = [\n",
    "    [4, 7, 8, 6, 4],\n",
    "    [6, 7, 3, 9, 2],\n",
    "    [3, 8, 1, 2, 4],\n",
    "    [7, 1, 7, 3, 7],\n",
    "    [2, 9, 8, 9, 3],\n",
    "]\n",
    "\n",
    "find_min_cost(grid)"
   ]
  },
  {
   "cell_type": "markdown",
   "id": "e210d764",
   "metadata": {},
   "source": [
    "# Number of ways to Reach the Last Cell Problem\n",
    "\n",
    "__Problem Statement:__\n",
    "\n",
    "- 2D Matrix is given\n",
    "- Each cell has a cost associated with it for accessing\n",
    "- We need to start from (0.0) cell and go till (n-1,n-1) cell\n",
    "- We can go only to right or down cell from current cell\n",
    "- Find the number of ways of reach the last cell with given total cost"
   ]
  },
  {
   "cell_type": "code",
   "execution_count": 82,
   "id": "3038f2dd",
   "metadata": {},
   "outputs": [
    {
     "data": {
      "text/plain": [
       "5"
      ]
     },
     "execution_count": 82,
     "metadata": {},
     "output_type": "execute_result"
    }
   ],
   "source": [
    "def find_num_ways(grid, total_cost):\n",
    "    def util(row, col, total_cost):\n",
    "        if total_cost == 0:\n",
    "            return 0\n",
    "        \n",
    "        if row == 0 and col == 0:\n",
    "            if total_cost - grid[row][col] == 0:\n",
    "                return 1\n",
    "            else:\n",
    "                return 0\n",
    "        \n",
    "        elif row == 0:\n",
    "            return util(0, col-1, total_cost - grid[row][col])\n",
    "        elif col == 0:\n",
    "            return util(row-1, 0, total_cost - grid[row][col])\n",
    "        else:\n",
    "\n",
    "            right = util(row, col-1, total_cost - grid[row][col])\n",
    "            down = util(row-1, col, total_cost - grid[row][col])\n",
    "        \n",
    "            return right + down\n",
    "\n",
    "    return util(len(grid)-1, len(grid[0])-1, total_cost)\n",
    "    \n",
    "    \n",
    "grid = [\n",
    "    [4, 7, 8, 6, 4],\n",
    "    [6, 7, 3, 9, 2],\n",
    "    [3, 8, 1, 2, 4],\n",
    "    [7, 1, 7, 3, 7],\n",
    "    [2, 9, 8, 9, 3],\n",
    "]\n",
    "\n",
    "find_num_ways(grid, 45)"
   ]
  },
  {
   "cell_type": "code",
   "execution_count": null,
   "id": "e27896b2",
   "metadata": {},
   "outputs": [],
   "source": []
  }
 ],
 "metadata": {
  "kernelspec": {
   "display_name": "Python 3 (ipykernel)",
   "language": "python",
   "name": "python3"
  },
  "language_info": {
   "codemirror_mode": {
    "name": "ipython",
    "version": 3
   },
   "file_extension": ".py",
   "mimetype": "text/x-python",
   "name": "python",
   "nbconvert_exporter": "python",
   "pygments_lexer": "ipython3",
   "version": "3.8.9"
  }
 },
 "nbformat": 4,
 "nbformat_minor": 5
}
