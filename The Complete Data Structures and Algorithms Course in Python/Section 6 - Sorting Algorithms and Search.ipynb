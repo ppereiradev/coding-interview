{
 "cells": [
  {
   "cell_type": "markdown",
   "id": "519d3efc",
   "metadata": {},
   "source": [
    "# Section 6 - Sorting Algorithms and Searching"
   ]
  },
  {
   "cell_type": "markdown",
   "id": "3f14f4a6",
   "metadata": {},
   "source": [
    "# Sorting Algorithms\n",
    "\n",
    "__Types of sorting__\n",
    "\n",
    "- __Spaced Used__\n",
    " - ___in place:___ these algorithms do not require any extra space for sorting elements (e.g., Bubble sort).\n",
    " - ___out place:___ these algorithms require extra space for sorting elements (e.g., Merge sort).\n",
    "- __Stability__\n",
    " - ___stable:___ if a sorting algorithm after sorting the contents dos not change the sequence of similar content in each they appear, then this sorting is called stable sorting (e.g., Insertion sort). For instance, if there are duplicates the order that they appear does not change. Example: [1,8,<span style=\"color:blue\">4</span>,7,<span style=\"color:red\">4</span>,5] => [1,<span style=\"color:blue\">4</span>,<span style=\"color:red\">4</span>,5,7,8], note that the blue four still appears before the red four.  \n",
    " - ___unstable:___ if a sorting algorithm after sorting the contents changes the sequence of similar content in each they appear, then this sorting is called unstable sorting (e.g., Quick sort). For instance, if there are duplicates the order that they appear does not change. Example: [1,8,<span style=\"color:blue\">4</span>,7,<span style=\"color:red\">4</span>,5] => [1,<span style=\"color:red\">4</span>,<span style=\"color:blue\">4</span>,5,7,8], note that the blue four does not appear before the red four.\n",
    " \n",
    " \n",
    "## Sorting Terminology\n",
    "\n",
    "- __Increasing Order:__ sucessive element is __GREATER THAN__ the previous one. Ex: 1,2,3,4,5\n",
    "- __Decreasing Order:__ sucessive element is __LESS THAN__ the previous one. Ex: 5,4,3,2,1\n",
    "- __Non Increasing Order (Contains Duplicates):__ sucessive element is __LESS THAN OR EQUAL TO__ its previous element in the sequence. Ex: 2,2,1,5,4\n",
    "- __Non Decreasing Order (Contains Duplicates):__ sucessive element is __GREATER THAN OR EQUAL TO__ its previous element in the sequence. Ex: 1,1,3,4,5,5"
   ]
  },
  {
   "cell_type": "markdown",
   "id": "4106abe3",
   "metadata": {},
   "source": [
    "### Bubble Sort"
   ]
  },
  {
   "cell_type": "code",
   "execution_count": 1,
   "id": "ef2ad742",
   "metadata": {},
   "outputs": [
    {
     "name": "stdout",
     "output_type": "stream",
     "text": [
      "[2, 3, 4, 5, 6, 7, 8, 9]\n"
     ]
    }
   ],
   "source": [
    "# TC: O(n^2), SC: O(1)\n",
    "def bubble_sort(arr):\n",
    "    for i in range(len(arr)-1):\n",
    "        for j in range(len(arr)-i-1):\n",
    "            if arr[j] > arr[j+1]:\n",
    "                arr[j], arr[j+1] = arr[j+1], arr[j]\n",
    "                \n",
    "    return arr\n",
    "\n",
    "arr = [9,8,7,6,5,4,3,2]\n",
    "print(bubble_sort(arr))"
   ]
  },
  {
   "cell_type": "markdown",
   "id": "dbbe7c39",
   "metadata": {},
   "source": [
    "### Selection Sort"
   ]
  },
  {
   "cell_type": "code",
   "execution_count": 2,
   "id": "65fe3b61",
   "metadata": {},
   "outputs": [
    {
     "name": "stdout",
     "output_type": "stream",
     "text": [
      "[2, 3, 4, 5, 6, 7, 8, 9]\n"
     ]
    }
   ],
   "source": [
    "# TC: O(n^2), SC: O(1)\n",
    "def selection_sort(arr):\n",
    "    for i in range(len(arr)):\n",
    "        min_idx = i\n",
    "        for j in range(i+1, len(arr)):\n",
    "            if arr[j] < arr[min_idx]:\n",
    "                min_idx = j\n",
    "                \n",
    "        arr[i], arr[min_idx] = arr[min_idx], arr[i]\n",
    "                \n",
    "    return arr\n",
    "\n",
    "arr = [9,8,7,6,5,4,3,2]\n",
    "print(selection_sort(arr))"
   ]
  },
  {
   "cell_type": "markdown",
   "id": "fe1d0428",
   "metadata": {},
   "source": [
    "### Insertion Sort"
   ]
  },
  {
   "cell_type": "code",
   "execution_count": 3,
   "id": "365f22d4",
   "metadata": {},
   "outputs": [
    {
     "name": "stdout",
     "output_type": "stream",
     "text": [
      "[2, 3, 4, 5, 6, 7, 8, 9]\n"
     ]
    }
   ],
   "source": [
    "# TC: O(n^2), SC: O(1)\n",
    "def insertion_sort(arr):\n",
    "    for i in range(1,len(arr)):\n",
    "        key = arr[i]\n",
    "        j = i - 1\n",
    "        while j >= 0 and key < arr[j]:\n",
    "            arr[j+1] = arr[j]\n",
    "            j -= 1\n",
    "        arr[j+1] = key\n",
    "                \n",
    "    return arr\n",
    "\n",
    "arr = [9,8,7,6,5,4,3,2]\n",
    "print(insertion_sort(arr))"
   ]
  },
  {
   "cell_type": "markdown",
   "id": "85d7848b",
   "metadata": {},
   "source": [
    "### Merge Sort"
   ]
  },
  {
   "cell_type": "code",
   "execution_count": 5,
   "id": "e3b4517d",
   "metadata": {},
   "outputs": [
    {
     "name": "stdout",
     "output_type": "stream",
     "text": [
      "[2, 3, 4, 5, 6, 7, 8, 9]\n"
     ]
    }
   ],
   "source": [
    "# TC: O(n log n), SC: O(n)\n",
    "def merge_sort(arr):\n",
    "    if len(arr) > 1:\n",
    "        left = arr[:len(arr)//2]\n",
    "        right = arr[len(arr)//2:]\n",
    "        \n",
    "        merge_sort(left)\n",
    "        merge_sort(right)\n",
    "        \n",
    "        i = j = k = 0\n",
    "        \n",
    "        while i < len(left) and j < len(right):\n",
    "            if left[i] < right[j]:\n",
    "                arr[k] = left[i]\n",
    "                i += 1\n",
    "            else:\n",
    "                arr[k] = right[j]\n",
    "                j += 1\n",
    "                \n",
    "            k += 1\n",
    "            \n",
    "        while i < len(left):\n",
    "            arr[k] = left[i]\n",
    "            i += 1\n",
    "            k += 1\n",
    "            \n",
    "        while j < len(right):\n",
    "            arr[k] = right[j]\n",
    "            j += 1\n",
    "            k += 1\n",
    "        \n",
    "            \n",
    "\n",
    "array = [9,8,7,6,5,4,3,2]\n",
    "merge_sort(array)\n",
    "print(array)"
   ]
  },
  {
   "cell_type": "markdown",
   "id": "c46e9e42",
   "metadata": {},
   "source": [
    "### Quick Sort"
   ]
  },
  {
   "cell_type": "code",
   "execution_count": 6,
   "id": "bcb73e72",
   "metadata": {},
   "outputs": [
    {
     "name": "stdout",
     "output_type": "stream",
     "text": [
      "[2, 3, 4, 5, 6, 7, 8, 9]\n"
     ]
    }
   ],
   "source": [
    "# TC: O(n log n), SC: O(n)\n",
    "def quick_sort(arr):\n",
    "    if len(arr) <= 1:\n",
    "        return arr\n",
    "    \n",
    "    pivot = arr.pop()\n",
    "    left = []\n",
    "    right = []\n",
    "    \n",
    "    for i in arr:\n",
    "        if i < pivot:\n",
    "            left.append(i)\n",
    "        else:\n",
    "            right.append(i)\n",
    "                \n",
    "    return quick_sort(left) + [pivot] + quick_sort(right)\n",
    "\n",
    "arr = [9,8,7,6,5,4,3,2]\n",
    "print(quick_sort(arr))"
   ]
  },
  {
   "cell_type": "markdown",
   "id": "16833ca3",
   "metadata": {},
   "source": [
    "### Heap Sort"
   ]
  },
  {
   "cell_type": "code",
   "execution_count": 7,
   "id": "c0b9bd94",
   "metadata": {},
   "outputs": [
    {
     "name": "stdout",
     "output_type": "stream",
     "text": [
      "[9, 8, 7, 6, 5, 4, 3, 2]\n"
     ]
    }
   ],
   "source": [
    "# TC: O(n^2), SC: O(1)\n",
    "def heap_sort(arr):\n",
    "    \n",
    "                \n",
    "    return arr\n",
    "\n",
    "arr = [9,8,7,6,5,4,3,2]\n",
    "print(heap_sort(arr))"
   ]
  },
  {
   "cell_type": "markdown",
   "id": "710ed384",
   "metadata": {},
   "source": [
    "# Linear Search and Binary Search"
   ]
  },
  {
   "cell_type": "code",
   "execution_count": 8,
   "id": "e99d0ce2",
   "metadata": {},
   "outputs": [
    {
     "name": "stdout",
     "output_type": "stream",
     "text": [
      "6\n",
      "6\n"
     ]
    }
   ],
   "source": [
    "# linear search TC: O(n), SC: O(1)\n",
    "def linear_search(arr, target):\n",
    "    for i in range(len(arr)):\n",
    "        if target == arr[i]:\n",
    "            return i\n",
    "        \n",
    "    print(\"not found!\")\n",
    "    \n",
    "def binary_search(arr, target):\n",
    "    left = 0 \n",
    "    right = len(arr)-1\n",
    "    \n",
    "    while left <= right:\n",
    "        mid = (left+right)//2\n",
    "        \n",
    "        if arr[mid] == target:\n",
    "            return mid\n",
    "        elif arr[mid] < target:\n",
    "            left = mid + 1\n",
    "        else:\n",
    "            right = mid - 1\n",
    "            \n",
    "    return \"not found!\"\n",
    "\n",
    "arr = [1,2,3,4,5,6,7,8,9]\n",
    "print(linear_search(arr,7))\n",
    "print(binary_search(arr,7))"
   ]
  },
  {
   "cell_type": "code",
   "execution_count": null,
   "id": "325a77f3",
   "metadata": {},
   "outputs": [],
   "source": []
  }
 ],
 "metadata": {
  "kernelspec": {
   "display_name": "Python 3 (ipykernel)",
   "language": "python",
   "name": "python3"
  },
  "language_info": {
   "codemirror_mode": {
    "name": "ipython",
    "version": 3
   },
   "file_extension": ".py",
   "mimetype": "text/x-python",
   "name": "python",
   "nbconvert_exporter": "python",
   "pygments_lexer": "ipython3",
   "version": "3.8.9"
  }
 },
 "nbformat": 4,
 "nbformat_minor": 5
}
