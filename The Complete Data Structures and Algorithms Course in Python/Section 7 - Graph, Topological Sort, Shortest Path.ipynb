{
 "cells": [
  {
   "cell_type": "markdown",
   "id": "a593b575",
   "metadata": {},
   "source": [
    "# Section 7: Graph, Topological Sort, Shortest Path"
   ]
  },
  {
   "cell_type": "markdown",
   "id": "98db422c",
   "metadata": {},
   "source": [
    "# Graph\n",
    "\n",
    "Graph consists of a finite set of Vertices (or Nodes) and a set of Edges which connect a pair of nodes.\n",
    "\n",
    "__Terminologies:__\n",
    "\n",
    "- __Vertices:__ are the nodes of the graph.\n",
    "- __Edges:__ are the lines (or paths) that connect the vertices of the graphs.\n",
    "- __Unweighted Graph:__ are graphs that do not have any weight associated with any edge.\n",
    "- __Weighted Graph:__ are graphs that have weight associated with their edges.\n",
    "- __Undirected Graph:__ are graphs that the edges do not have directions associated with them.\n",
    "- __Directed Graph:__ are graphs that the edges have directions associated with them.\n",
    "- __Cyclic Graph:__ a graph which has at least one loop.\n",
    "- __Acyclic Graph:__ a graph which does not have any loop.\n",
    "- __Tree:__ is a special case of __Directed Acyclic Graph__.\n",
    "\n",
    "\n",
    "__Representations:__\n",
    "\n",
    "- __Adjacency Matrix:__ is a square matrix or you can say it is a 2D array. And the elements of the matrix indicate whether pairs of vertices are adjacent or not in the graph.\n",
    "- __Adjacency List:__ is a collection of unorded list used to represent a graph. Each list describes the set of neighbors of a vertex in the graph."
   ]
  },
  {
   "cell_type": "code",
   "execution_count": 1,
   "id": "7a4ebb2f",
   "metadata": {},
   "outputs": [
    {
     "name": "stdout",
     "output_type": "stream",
     "text": [
      "{'A': ['B', 'C'], 'B': ['A', 'D', 'E'], 'C': ['A', 'E'], 'D': ['B', 'E', 'F'], 'E': ['B', 'C', 'F'], 'F': ['D', 'E']}\n"
     ]
    }
   ],
   "source": [
    "class Graph:\n",
    "    def __init__(self, graph={}):\n",
    "        self.graph = graph\n",
    "        \n",
    "    def add_edge(self, vertex, edge):\n",
    "        if vertex in self.graph:\n",
    "            self.graph[vertex].append(edge)\n",
    "        else:\n",
    "            self.graph[vertex] = [edge]\n",
    "    \n",
    "adj_lst = {\n",
    "    \"A\":[\"B\", \"C\"],\n",
    "    \"B\":[\"A\", \"D\", \"E\"],\n",
    "    \"C\":[\"A\", \"E\"],\n",
    "    \"D\":[\"B\", \"E\", \"F\"],\n",
    "    \"E\":[\"B\", \"C\", \"F\"],\n",
    "    \"F\":[\"D\", \"E\"],\n",
    "    \n",
    "}\n",
    "\n",
    "graph = Graph(adj_lst)\n",
    "print(graph.graph)"
   ]
  },
  {
   "cell_type": "markdown",
   "id": "bece37d4",
   "metadata": {},
   "source": [
    "# Breadth First Search\n",
    "\n",
    "It is an algorithm for traversing graph data structure. It starts at some arbitrary vertex of a graph and explores the neighbor nodes (which are at current level) first, before moving to the next level neighbors."
   ]
  },
  {
   "cell_type": "code",
   "execution_count": 2,
   "id": "4b3ed51c",
   "metadata": {},
   "outputs": [
    {
     "name": "stdout",
     "output_type": "stream",
     "text": [
      "['A', 'B', 'C', 'D', 'E', 'F']\n"
     ]
    }
   ],
   "source": [
    "from collections import deque\n",
    "\n",
    "def breadth_first_search(graph, start):\n",
    "    dq = deque()\n",
    "    visited = set()\n",
    "    result = []\n",
    "    \n",
    "    dq.append(start)\n",
    "    visited.add(start)\n",
    "    result.append(start)\n",
    "    \n",
    "    while dq:\n",
    "        curr = dq.popleft()\n",
    "\n",
    "        for nei in graph[curr]:\n",
    "            if nei not in visited:\n",
    "                result.append(nei)\n",
    "                visited.add(nei)\n",
    "                dq.append(nei)\n",
    "    \n",
    "    return result\n",
    "\n",
    "print(breadth_first_search(adj_lst, \"A\"))"
   ]
  },
  {
   "cell_type": "markdown",
   "id": "488f065e",
   "metadata": {},
   "source": [
    "# Depth First Search\n",
    "\n",
    "It is an algorithm for traversing graph data structure. It starts at some arbitrary vertex of a graph and explores as far as possible along each edge before backtracking."
   ]
  },
  {
   "cell_type": "code",
   "execution_count": 3,
   "id": "3ad103f3",
   "metadata": {},
   "outputs": [
    {
     "name": "stdout",
     "output_type": "stream",
     "text": [
      "['A', 'B', 'D', 'E', 'C', 'F']\n",
      "['A', 'C', 'E', 'F', 'D', 'B']\n"
     ]
    }
   ],
   "source": [
    "# recursive - TC: (v+e), SC: O(v+e)\n",
    "def depth_first_search(graph, start):\n",
    "    def _dfs(node):\n",
    "        if node in visited:\n",
    "            return\n",
    "        \n",
    "        result.append(node)\n",
    "        visited.add(node)\n",
    "        for nei in graph[node]:\n",
    "            _dfs(nei)\n",
    "    \n",
    "    result = []\n",
    "    visited = set()\n",
    "    _dfs(start)\n",
    "    return result\n",
    "\n",
    "\n",
    "def depth_first_search(graph, node, visited=set(), result=[]):\n",
    "    if node in visited:\n",
    "        return\n",
    "    \n",
    "    result.append(node)\n",
    "    visited.add(node)\n",
    "    \n",
    "    for nei in graph[node]:\n",
    "        depth_first_search(graph, nei, visited, result)\n",
    "        \n",
    "    return result\n",
    "\n",
    "print(depth_first_search(adj_lst, \"A\"))\n",
    "\n",
    "# interative - TC:, SC:\n",
    "def depth_first_search(graph, start):\n",
    "    stack = []\n",
    "    visited = set()\n",
    "    result = []\n",
    "    \n",
    "    stack.append(start)\n",
    "    visited.add(start)\n",
    "    \n",
    "    while stack:\n",
    "        curr = stack.pop()\n",
    "        result.append(curr)\n",
    "        \n",
    "        for nei in graph[curr]:\n",
    "            if nei not in visited:\n",
    "                stack.append(nei)\n",
    "                visited.add(nei)\n",
    "    \n",
    "    return result\n",
    "\n",
    "print(depth_first_search(adj_lst, \"A\"))"
   ]
  },
  {
   "cell_type": "markdown",
   "id": "74f46ee2",
   "metadata": {},
   "source": [
    "# Topological Sort\n",
    "\n",
    "It sorts given actions in such way that if there is a dependency of one action on another, then the dependent action always comes later than its parent action."
   ]
  },
  {
   "cell_type": "code",
   "execution_count": 4,
   "id": "b6d88f26",
   "metadata": {},
   "outputs": [
    {
     "name": "stdout",
     "output_type": "stream",
     "text": [
      "['B', 'D', 'A', 'C', 'E', 'H', 'F', 'G']\n"
     ]
    }
   ],
   "source": [
    "def topological_sort(graph):\n",
    "    def _dfs(node):\n",
    "        if node in visited:\n",
    "            return\n",
    "        \n",
    "        for nei in graph[node]:\n",
    "            _dfs(nei)\n",
    "                \n",
    "        visited.add(node)\n",
    "        result.append(node)\n",
    "    \n",
    "    result = []\n",
    "    visited = set()\n",
    "    for node in graph:\n",
    "        _dfs(node)\n",
    "        \n",
    "    return result[::-1]\n",
    "\n",
    "tasks = {\n",
    "    \"A\":[\"C\"],\n",
    "    \"B\":[\"C\", \"D\"],\n",
    "    \"C\":[\"E\"],\n",
    "    \"D\":[\"F\"],\n",
    "    \"E\":[\"F\", \"H\"],\n",
    "    \"F\":[\"G\"],\n",
    "    \"G\":[],\n",
    "    \"H\":[],\n",
    "}\n",
    "\n",
    "print(topological_sort(tasks))"
   ]
  },
  {
   "cell_type": "markdown",
   "id": "be24615a",
   "metadata": {},
   "source": [
    "# Single Source Shortest Path Problem\n",
    "\n",
    "A single source shortest path problem is about finding a path between a given vertex (called source) to all other vertices in the graph such that the total distance between them (source and destination) is minimum.\n",
    "\n",
    "__The Problem:__\n",
    "\n",
    "- Five offices in different cities, the cost between these cities are known. Find the cheapest way from head office to branches in different cities.\n",
    "\n",
    "__Algorithms:__\n",
    "\n",
    "- BFS\n",
    "- Dijkstra's Algorithm\n",
    "- Bellman Ford"
   ]
  },
  {
   "cell_type": "code",
   "execution_count": 5,
   "id": "6dd9544a",
   "metadata": {},
   "outputs": [
    {
     "data": {
      "text/plain": [
       "['A', 'B', 'D', 'F']"
      ]
     },
     "execution_count": 5,
     "metadata": {},
     "output_type": "execute_result"
    }
   ],
   "source": [
    "# bfs does not work for weighted graphs\n",
    "# to find shortest path using bfs, we need to enqueue the path instead of only the node\n",
    "from collections import deque\n",
    "def bfs(graph, start, end):\n",
    "    dq = deque()\n",
    "    visited = set(start)\n",
    "    path =[start]\n",
    "\n",
    "    dq.append([start])\n",
    "\n",
    "    while dq:\n",
    "        path = dq.popleft()\n",
    "        node = path[-1]\n",
    "        \n",
    "        if node == end:\n",
    "            return path\n",
    "            \n",
    "        for nei in graph[node]:\n",
    "            if nei not in visited:\n",
    "                visited.add(nei)\n",
    "                new_path = list(path)\n",
    "                new_path.append(nei)\n",
    "                dq.append(new_path)\n",
    "            \n",
    "                \n",
    "\n",
    "adj_lst = {\n",
    "    \"A\":[\"B\", \"C\"],\n",
    "    \"B\":[\"A\", \"D\", \"E\"],\n",
    "    \"C\":[\"A\", \"E\"],\n",
    "    \"D\":[\"B\", \"E\", \"F\"],\n",
    "    \"E\":[\"B\", \"C\", \"F\"],\n",
    "    \"F\":[\"D\", \"E\"],    \n",
    "}\n",
    "\n",
    "bfs(adj_lst, \"A\", \"F\")"
   ]
  },
  {
   "cell_type": "code",
   "execution_count": null,
   "id": "123980b7",
   "metadata": {},
   "outputs": [],
   "source": []
  }
 ],
 "metadata": {
  "kernelspec": {
   "display_name": "Python 3 (ipykernel)",
   "language": "python",
   "name": "python3"
  },
  "language_info": {
   "codemirror_mode": {
    "name": "ipython",
    "version": 3
   },
   "file_extension": ".py",
   "mimetype": "text/x-python",
   "name": "python",
   "nbconvert_exporter": "python",
   "pygments_lexer": "ipython3",
   "version": "3.8.9"
  }
 },
 "nbformat": 4,
 "nbformat_minor": 5
}
