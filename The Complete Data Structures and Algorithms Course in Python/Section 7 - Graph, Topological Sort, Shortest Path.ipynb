{
 "cells": [
  {
   "cell_type": "markdown",
   "id": "c91816c6",
   "metadata": {},
   "source": [
    "# Section 7: Graph, Topological Sort, Shortest Path"
   ]
  },
  {
   "cell_type": "markdown",
   "id": "1c2c1591",
   "metadata": {},
   "source": [
    "# Graph\n",
    "\n",
    "Graph consists of a finite set of Vertices (or Nodes) and a set of Edges which connect a pair of nodes.\n",
    "\n",
    "__Terminologies:__\n",
    "\n",
    "- __Vertices:__ are the nodes of the graph.\n",
    "- __Edges:__ are the lines (or paths) that connect the vertices of the graphs.\n",
    "- __Unweighted Graph:__ are graphs that do not have any weight associated with any edge.\n",
    "- __Weighted Graph:__ are graphs that have weight associated with their edges.\n",
    "- __Undirected Graph:__ are graphs that the edges do not have directions associated with them.\n",
    "- __Directed Graph:__ are graphs that the edges have directions associated with them.\n",
    "- __Cyclic Graph:__ a graph which has at least one loop.\n",
    "- __Acyclic Graph:__ a graph which does not have any loop.\n",
    "- __Tree:__ is a special case of __Directed Acyclic Graph__.\n",
    "\n",
    "\n",
    "__Representations:__\n",
    "\n",
    "- __Adjacency Matrix:__ is a square matrix or you can say it is a 2D array. And the elements of the matrix indicate whether pairs of vertices are adjacent or not in the graph.\n",
    "- __Adjacency List:__ is a collection of unorded list used to represent a graph. Each list describes the set of neighbors of a vertex in the graph."
   ]
  },
  {
   "cell_type": "code",
   "execution_count": 1,
   "id": "5c573d23",
   "metadata": {},
   "outputs": [
    {
     "name": "stdout",
     "output_type": "stream",
     "text": [
      "{'A': ['B', 'C'], 'B': ['A', 'D', 'E'], 'C': ['A', 'E'], 'D': ['B', 'E', 'F'], 'E': ['B', 'C', 'F'], 'F': ['D', 'E']}\n"
     ]
    }
   ],
   "source": [
    "class Graph:\n",
    "    def __init__(self, graph={}):\n",
    "        self.graph = graph\n",
    "        \n",
    "    def add_edge(self, vertex, edge):\n",
    "        if vertex in self.graph:\n",
    "            self.graph[vertex].append(edge)\n",
    "        else:\n",
    "            self.graph[vertex] = [edge]\n",
    "    \n",
    "adj_lst = {\n",
    "    \"A\":[\"B\", \"C\"],\n",
    "    \"B\":[\"A\", \"D\", \"E\"],\n",
    "    \"C\":[\"A\", \"E\"],\n",
    "    \"D\":[\"B\", \"E\", \"F\"],\n",
    "    \"E\":[\"B\", \"C\", \"F\"],\n",
    "    \"F\":[\"D\", \"E\"],\n",
    "    \n",
    "}\n",
    "\n",
    "graph = Graph(adj_lst)\n",
    "print(graph.graph)"
   ]
  },
  {
   "cell_type": "markdown",
   "id": "73ad9a73",
   "metadata": {},
   "source": [
    "# Breadth First Search\n",
    "\n",
    "It is an algorithm for traversing graph data structure. It starts at some arbitrary vertex of a graph and explores the neighbor nodes (which are at current level) first, before moving to the next level neighbors."
   ]
  },
  {
   "cell_type": "code",
   "execution_count": 2,
   "id": "4f5cc0bd",
   "metadata": {},
   "outputs": [
    {
     "name": "stdout",
     "output_type": "stream",
     "text": [
      "['A', 'B', 'C', 'D', 'E', 'F']\n"
     ]
    }
   ],
   "source": [
    "from collections import deque\n",
    "\n",
    "def breadth_first_search(graph, start):\n",
    "    dq = deque()\n",
    "    visited = set()\n",
    "    result = []\n",
    "    \n",
    "    dq.append(start)\n",
    "    visited.add(start)\n",
    "    result.append(start)\n",
    "    \n",
    "    while dq:\n",
    "        curr = dq.popleft()\n",
    "\n",
    "        for nei in graph[curr]:\n",
    "            if nei not in visited:\n",
    "                result.append(nei)\n",
    "                visited.add(nei)\n",
    "                dq.append(nei)\n",
    "    \n",
    "    return result\n",
    "\n",
    "print(breadth_first_search(adj_lst, \"A\"))"
   ]
  },
  {
   "cell_type": "markdown",
   "id": "cb0e0075",
   "metadata": {},
   "source": [
    "# Depth First Search\n",
    "\n",
    "It is an algorithm for traversing graph data structure. It starts at some arbitrary vertex of a graph and explores as far as possible along each edge before backtracking."
   ]
  },
  {
   "cell_type": "code",
   "execution_count": 3,
   "id": "aa0352c1",
   "metadata": {},
   "outputs": [
    {
     "name": "stdout",
     "output_type": "stream",
     "text": [
      "['A', 'B', 'D', 'E', 'C', 'F']\n",
      "['A', 'C', 'E', 'F', 'D', 'B']\n"
     ]
    }
   ],
   "source": [
    "# recursive - TC: (v+e), SC: O(v+e)\n",
    "def depth_first_search(graph, start):\n",
    "    def _dfs(node):\n",
    "        if node in visited:\n",
    "            return\n",
    "        \n",
    "        result.append(node)\n",
    "        visited.add(node)\n",
    "        for nei in graph[node]:\n",
    "            _dfs(nei)\n",
    "    \n",
    "    result = []\n",
    "    visited = set()\n",
    "    _dfs(start)\n",
    "    return result\n",
    "\n",
    "\n",
    "def depth_first_search(graph, node, visited=set(), result=[]):\n",
    "    if node in visited:\n",
    "        return\n",
    "    \n",
    "    result.append(node)\n",
    "    visited.add(node)\n",
    "    \n",
    "    for nei in graph[node]:\n",
    "        depth_first_search(graph, nei, visited, result)\n",
    "        \n",
    "    return result\n",
    "\n",
    "print(depth_first_search(adj_lst, \"A\"))\n",
    "\n",
    "# interative - TC:, SC:\n",
    "def depth_first_search(graph, start):\n",
    "    stack = []\n",
    "    visited = set()\n",
    "    result = []\n",
    "    \n",
    "    stack.append(start)\n",
    "    visited.add(start)\n",
    "    \n",
    "    while stack:\n",
    "        curr = stack.pop()\n",
    "        result.append(curr)\n",
    "        \n",
    "        for nei in graph[curr]:\n",
    "            if nei not in visited:\n",
    "                stack.append(nei)\n",
    "                visited.add(nei)\n",
    "    \n",
    "    return result\n",
    "\n",
    "print(depth_first_search(adj_lst, \"A\"))"
   ]
  },
  {
   "cell_type": "markdown",
   "id": "5eb546d6",
   "metadata": {},
   "source": [
    "# Topological Sort\n",
    "\n",
    "It sorts given actions in such way that if there is a dependency of one action on another, then the dependent action always comes later than its parent action."
   ]
  },
  {
   "cell_type": "code",
   "execution_count": 4,
   "id": "d86d3ad1",
   "metadata": {},
   "outputs": [
    {
     "name": "stdout",
     "output_type": "stream",
     "text": [
      "['B', 'D', 'A', 'C', 'E', 'H', 'F', 'G']\n"
     ]
    }
   ],
   "source": [
    "def topological_sort(graph):\n",
    "    def _dfs(node):\n",
    "        if node in visited:\n",
    "            return\n",
    "        \n",
    "        for nei in graph[node]:\n",
    "            _dfs(nei)\n",
    "                \n",
    "        visited.add(node)\n",
    "        result.append(node)\n",
    "    \n",
    "    result = []\n",
    "    visited = set()\n",
    "    for node in graph:\n",
    "        _dfs(node)\n",
    "        \n",
    "    return result[::-1]\n",
    "\n",
    "tasks = {\n",
    "    \"A\":[\"C\"],\n",
    "    \"B\":[\"C\", \"D\"],\n",
    "    \"C\":[\"E\"],\n",
    "    \"D\":[\"F\"],\n",
    "    \"E\":[\"F\", \"H\"],\n",
    "    \"F\":[\"G\"],\n",
    "    \"G\":[],\n",
    "    \"H\":[],\n",
    "}\n",
    "\n",
    "print(topological_sort(tasks))"
   ]
  },
  {
   "cell_type": "markdown",
   "id": "e621232c",
   "metadata": {},
   "source": [
    "# Single Source Shortest Path Problem\n",
    "\n",
    "A single source shortest path problem is about finding a path between a given vertex (called source) to all other vertices in the graph such that the total distance between them (source and destination) is minimum.\n",
    "\n",
    "__The Problem:__\n",
    "\n",
    "- Five offices in different cities, the cost between these cities are known. Find the cheapest way from head office to branches in different cities.\n",
    "\n",
    "__Algorithms:__\n",
    "\n",
    "- BFS\n",
    "- Dijkstra's Algorithm\n",
    "- Bellman Ford"
   ]
  },
  {
   "cell_type": "code",
   "execution_count": 5,
   "id": "1c5b35a4",
   "metadata": {},
   "outputs": [
    {
     "data": {
      "text/plain": [
       "['A', 'B', 'D', 'F']"
      ]
     },
     "execution_count": 5,
     "metadata": {},
     "output_type": "execute_result"
    }
   ],
   "source": [
    "# bfs does not work for weighted graphs\n",
    "# to find shortest path using bfs, we need to enqueue the path instead of only the node\n",
    "from collections import deque\n",
    "def bfs(graph, start, end):\n",
    "    dq = deque()\n",
    "    visited = set(start)\n",
    "    path =[start]\n",
    "\n",
    "    dq.append([start])\n",
    "\n",
    "    while dq:\n",
    "        path = dq.popleft()\n",
    "        node = path[-1]\n",
    "        \n",
    "        if node == end:\n",
    "            return path\n",
    "            \n",
    "        for nei in graph[node]:\n",
    "            if nei not in visited:\n",
    "                visited.add(nei)\n",
    "                new_path = list(path)\n",
    "                new_path.append(nei)\n",
    "                dq.append(new_path)\n",
    "            \n",
    "                \n",
    "\n",
    "adj_lst = {\n",
    "    \"A\":[\"B\", \"C\"],\n",
    "    \"B\":[\"A\", \"D\", \"E\"],\n",
    "    \"C\":[\"A\", \"E\"],\n",
    "    \"D\":[\"B\", \"E\", \"F\"],\n",
    "    \"E\":[\"B\", \"C\", \"F\"],\n",
    "    \"F\":[\"D\", \"E\"],    \n",
    "}\n",
    "\n",
    "bfs(adj_lst, \"A\", \"F\")"
   ]
  },
  {
   "cell_type": "markdown",
   "id": "c3800e60",
   "metadata": {},
   "source": [
    "# Dijkstra's Algorithm\n",
    "\n",
    "It finds the shortest path between some start and end node in positive and negative weighted graphs, if there is no any negative cycle."
   ]
  },
  {
   "cell_type": "code",
   "execution_count": 33,
   "id": "c1009702",
   "metadata": {},
   "outputs": [
    {
     "data": {
      "text/plain": [
       "{'A': {'cost': 0, 'prev': []},\n",
       " 'B': {'cost': 2, 'prev': ['A']},\n",
       " 'C': {'cost': 5, 'prev': ['A']},\n",
       " 'D': {'cost': 3, 'prev': ['A', 'B']},\n",
       " 'E': {'cost': 5, 'prev': ['A', 'B']},\n",
       " 'F': {'cost': 13, 'prev': ['A', 'C']},\n",
       " 'G': {'cost': 14, 'prev': ['A', 'B', 'E']}}"
      ]
     },
     "execution_count": 33,
     "metadata": {},
     "output_type": "execute_result"
    }
   ],
   "source": [
    "from collections import deque\n",
    "\n",
    "def dijkstra(graph, start):\n",
    "    dq = deque()\n",
    "    \n",
    "    aux = {}\n",
    "    for key in graph:\n",
    "        aux[key] = {\"cost\":float(\"inf\"), \"prev\": []}\n",
    "        \n",
    "    aux[start][\"cost\"] = 0\n",
    "    \n",
    "    dq.append(start)\n",
    "    \n",
    "    while dq:\n",
    "        curr = dq.popleft()\n",
    "        \n",
    "        for nei in graph[curr]:\n",
    "            if aux[curr][\"cost\"] + graph[curr][nei] < aux[nei][\"cost\"]:\n",
    "                aux[nei][\"cost\"] = aux[curr][\"cost\"] + graph[curr][nei]\n",
    "                aux[nei][\"prev\"] += aux[curr][\"prev\"]\n",
    "                aux[nei][\"prev\"].append(curr)\n",
    "                dq.append(nei)                    \n",
    "\n",
    "    return aux\n",
    "    \n",
    "    \n",
    "adj = {\n",
    "    \"A\":{\"B\":2, \"C\":5},\n",
    "    \"B\":{\"A\":2, \"C\":6, \"D\":1, \"E\":3},\n",
    "    \"C\":{\"A\":5, \"B\":6, \"F\":8},\n",
    "    \"D\":{\"B\":1, \"E\":4},\n",
    "    \"E\":{\"B\":3, \"D\":4, \"G\":9},\n",
    "    \"F\":{\"C\":8, \"G\":7},\n",
    "    \"G\":{\"E\":9, \"F\":7},\n",
    "}\n",
    "\n",
    "dijkstra(adj, \"A\")"
   ]
  },
  {
   "cell_type": "markdown",
   "id": "c6440af7",
   "metadata": {},
   "source": [
    "# All Shortest Paths Algorithm\n"
   ]
  },
  {
   "cell_type": "code",
   "execution_count": 40,
   "id": "34353027",
   "metadata": {},
   "outputs": [],
   "source": [
    "from collections import deque\n",
    "def find_all_shortest_path(graph):\n",
    "    def dijkstra(start):\n",
    "        distances = {}\n",
    "\n",
    "        for vertex in graph:\n",
    "            distances[vertex] = {\"cost\": float(\"inf\"), \"prev\": None}\n",
    "\n",
    "        distances[start][\"cost\"] = 0\n",
    "        distances[start][\"prev\"] = start\n",
    "        dq = deque()\n",
    "        dq.append(start)\n",
    "\n",
    "        while dq:\n",
    "            curr = dq.popleft()\n",
    "\n",
    "            for nei in graph[curr]:\n",
    "                if distances[curr][\"cost\"] + graph[curr][nei] < distances[nei][\"cost\"]:\n",
    "                    distances[nei][\"cost\"] = distances[curr][\"cost\"] + graph[curr][nei]\n",
    "                    distances[nei][\"prev\"] = curr\n",
    "                    dq.append(nei)\n",
    "\n",
    "        return distances\n"
   ]
  },
  {
   "cell_type": "code",
   "execution_count": 41,
   "id": "667fe898",
   "metadata": {},
   "outputs": [
    {
     "data": {
      "text/plain": [
       "{'A': {'cost': 0, 'prev': 'A'},\n",
       " 'B': {'cost': 2, 'prev': 'A'},\n",
       " 'C': {'cost': 5, 'prev': 'A'},\n",
       " 'D': {'cost': 3, 'prev': 'B'},\n",
       " 'E': {'cost': 5, 'prev': 'B'},\n",
       " 'F': {'cost': 13, 'prev': 'C'},\n",
       " 'G': {'cost': 14, 'prev': 'E'}}"
      ]
     },
     "execution_count": 41,
     "metadata": {},
     "output_type": "execute_result"
    }
   ],
   "source": [
    "adj = {\n",
    "    \"A\":{\"B\":2, \"C\":5},\n",
    "    \"B\":{\"A\":2, \"C\":6, \"D\":1, \"E\":3},\n",
    "    \"C\":{\"A\":5, \"B\":6, \"F\":8},\n",
    "    \"D\":{\"B\":1, \"E\":4},\n",
    "    \"E\":{\"B\":3, \"D\":4, \"G\":9},\n",
    "    \"F\":{\"C\":8, \"G\":7},\n",
    "    \"G\":{\"E\":9, \"F\":7},\n",
    "}\n",
    "\n",
    "dijkstra(adj, \"A\")"
   ]
  },
  {
   "cell_type": "markdown",
   "id": "4d30d531",
   "metadata": {},
   "source": [
    "# Minimum Spanning Tree\n",
    "\n",
    "A minimum spanning tree (MST) is a subset of edges of connected weighted and undirected graph, which:\n",
    "\n",
    "- connects all vertices together\n",
    "- no cycle\n",
    "- minimum total edge"
   ]
  },
  {
   "cell_type": "markdown",
   "id": "b41da27a",
   "metadata": {},
   "source": [
    "## Disjoint Set\n",
    "\n",
    "We use Disjoint Set to find cycles in a weighted undirected graph. This data structure is used in the Kruskal's Algorithm."
   ]
  },
  {
   "cell_type": "code",
   "execution_count": 65,
   "id": "049c7814",
   "metadata": {},
   "outputs": [
    {
     "name": "stdout",
     "output_type": "stream",
     "text": [
      "A\n",
      "{'A': 'A', 'B': 'A', 'C': 'A', 'D': 'D', 'E': 'A', 'F': 'F', 'G': 'G'}\n",
      "{'A': 1, 'B': 0, 'C': 0, 'D': 0, 'E': 0, 'F': 0, 'G': 0}\n",
      "A\n"
     ]
    }
   ],
   "source": [
    "class DisjointSet:\n",
    "    def __init__(self, vertices):\n",
    "        self.vertices = vertices\n",
    "        self.parent = {v:v for v in vertices}\n",
    "        self.rank = dict.fromkeys(vertices, 0)\n",
    "        \n",
    "    def find(self, item):\n",
    "        if self.parent[item] == item:\n",
    "            return item\n",
    "        return self.find(self.parent[item])\n",
    "    \n",
    "    def union(self, x, y):\n",
    "        xroot = self.find(x)\n",
    "        yroot = self.find(y)\n",
    "        \n",
    "        if self.rank[xroot] < self.rank[yroot]:\n",
    "            self.parent[xroot] = yroot\n",
    "        elif self.rank[xroot] > self.rank[yroot]:\n",
    "            self.parent[yroot] = xroot\n",
    "        else:\n",
    "            self.parent[yroot] = xroot\n",
    "            self.rank[xroot] += 1\n",
    "    \n",
    "ds = DisjointSet(adj)\n",
    "\n",
    "print(ds.find(\"A\"))\n",
    "\n",
    "ds.union(\"A\", \"B\")\n",
    "ds.union(\"B\", \"C\")\n",
    "ds.union(\"E\", \"B\")\n",
    "\n",
    "print(ds.parent)\n",
    "print(ds.rank)\n",
    "print(ds.find(\"E\"))\n",
    "        "
   ]
  },
  {
   "cell_type": "markdown",
   "id": "36046c11",
   "metadata": {},
   "source": [
    "# Kruskal's Algorithm\n",
    "\n",
    "It is a greedy algorithm to find the mininum spanning tree in a graph in two ways:\n",
    "\n",
    "- add increasing cost edges at each step\n",
    "- avoid any cycle at each step\n",
    "\n",
    "Pratical Problems:\n",
    "\n",
    "- Landing cables\n",
    "- TV Network\n",
    "- Tour Operations\n",
    "- LAN Networks\n",
    "- A network of pipes for drinking water or natural gas.\n",
    "- An electric grid\n",
    "- Single-link Cluster"
   ]
  },
  {
   "cell_type": "code",
   "execution_count": 72,
   "id": "8a0fd168",
   "metadata": {},
   "outputs": [
    {
     "name": "stdout",
     "output_type": "stream",
     "text": [
      "26 [('B', 'D', 1), ('A', 'B', 2), ('B', 'E', 3), ('A', 'C', 5), ('F', 'G', 7), ('C', 'F', 8)]\n"
     ]
    }
   ],
   "source": [
    "def create_edges(graph):\n",
    "    edges = []\n",
    "    \n",
    "    for key in graph:\n",
    "        for v in graph[key]:\n",
    "            if (v, key, graph[key][v]) not in edges:\n",
    "                edges.append((key, v, graph[key][v]))\n",
    "            \n",
    "    return edges\n",
    "\n",
    "def kruskal(edges):\n",
    "    ds = DisjointSet(adj)\n",
    "    edges = sorted(edges, key=lambda item: item[2])\n",
    "    total = 0\n",
    "    mst = []\n",
    "    for edge in edges:\n",
    "        if ds.find(edge[0]) != ds.find(edge[1]):\n",
    "            total += edge[2]\n",
    "            mst.append(edge)\n",
    "            ds.union(edge[0], edge[1])\n",
    "            \n",
    "    print(total, mst)\n",
    "            \n",
    "\n",
    "adj = {\n",
    "    \"A\":{\"B\":2, \"C\":5},\n",
    "    \"B\":{\"A\":2, \"C\":6, \"D\":1, \"E\":3},\n",
    "    \"C\":{\"A\":5, \"B\":6, \"F\":8},\n",
    "    \"D\":{\"B\":1, \"E\":4},\n",
    "    \"E\":{\"B\":3, \"D\":4, \"G\":9},\n",
    "    \"F\":{\"C\":8, \"G\":7},\n",
    "    \"G\":{\"E\":9, \"F\":7},\n",
    "}\n",
    "\n",
    "edges = create_edges(adj)\n",
    "kruskal(edges)"
   ]
  },
  {
   "cell_type": "markdown",
   "id": "bca1be5e",
   "metadata": {},
   "source": [
    "# Prim's Algorithm\n",
    "\n",
    "It is used to find the minimum spanning tree in a graph. It does not use the Disjoint Set data structure.\n",
    "\n",
    "Pratical Problems:\n",
    "\n",
    "- Network for roads and Rail tracks connecting all the cities.\n",
    "- Irrigation channels and placing microwave towers\n",
    "- Designing a fiber-optic grid or ICs.\n",
    "- Traveling Salesman Problem.\n",
    "- Cluster analysis.\n",
    "- Pathfinding algorithms used in Al(Artificial Intelligence)."
   ]
  },
  {
   "cell_type": "code",
   "execution_count": 90,
   "id": "4d157d15",
   "metadata": {},
   "outputs": [
    {
     "data": {
      "text/plain": [
       "26"
      ]
     },
     "execution_count": 90,
     "metadata": {},
     "output_type": "execute_result"
    }
   ],
   "source": [
    "from collections import deque\n",
    "\n",
    "def prim(graph):\n",
    "    visited = set()\n",
    "    aux = {vtx:float(\"inf\") for vtx in graph}\n",
    "    dq = deque()\n",
    "    dq.append(list(aux)[0])\n",
    "    aux[list(aux)[0]] = 0\n",
    "    \n",
    "    while dq:\n",
    "        cur = dq.popleft()\n",
    "\n",
    "        for nei in graph[cur]:\n",
    "            if nei not in visited:\n",
    "                if graph[cur][nei] < aux[nei]:\n",
    "                    aux[nei] = graph[cur][nei]\n",
    "                visited.add(cur)\n",
    "                dq.append(nei)\n",
    "    \n",
    "    return sum(aux.values())\n",
    "    \n",
    "\n",
    "adj = {\n",
    "    \"A\":{\"B\":2, \"C\":5},\n",
    "    \"B\":{\"A\":2, \"C\":6, \"D\":1, \"E\":3},\n",
    "    \"C\":{\"A\":5, \"B\":6, \"F\":8},\n",
    "    \"D\":{\"B\":1, \"E\":4},\n",
    "    \"E\":{\"B\":3, \"D\":4, \"G\":9},\n",
    "    \"F\":{\"C\":8, \"G\":7},\n",
    "    \"G\":{\"E\":9, \"F\":7},\n",
    "}\n",
    "\n",
    "prim(adj)"
   ]
  },
  {
   "cell_type": "markdown",
   "id": "8f8f5482",
   "metadata": {},
   "source": [
    "# Kruskal vs Prim\n",
    "\n",
    "__Kruskal's Algorithm:__\n",
    "\n",
    "- Landing cables\n",
    "- TV Network\n",
    "- Tour Operations\n",
    "- LAN Networks\n",
    "- A network of pipes for drinking water or natural gas.\n",
    "- An electric grid\n",
    "- Single-link Cluster\n",
    "\n",
    "__Prim's Algorithm:__\n",
    "\n",
    "- Network for roads and Rail tracks connecting all the cities.\n",
    "- Irrigation channels and placing microwave towers\n",
    "- Designing a fiber-optic grid or ICs.\n",
    "- Traveling Salesman Problem.\n",
    "- Cluster analysis.\n",
    "- Pathfinding algorithms used in Al(Artificial Intelligence)"
   ]
  },
  {
   "cell_type": "code",
   "execution_count": null,
   "id": "384fd891",
   "metadata": {},
   "outputs": [],
   "source": []
  }
 ],
 "metadata": {
  "kernelspec": {
   "display_name": "Python 3 (ipykernel)",
   "language": "python",
   "name": "python3"
  },
  "language_info": {
   "codemirror_mode": {
    "name": "ipython",
    "version": 3
   },
   "file_extension": ".py",
   "mimetype": "text/x-python",
   "name": "python",
   "nbconvert_exporter": "python",
   "pygments_lexer": "ipython3",
   "version": "3.8.9"
  }
 },
 "nbformat": 4,
 "nbformat_minor": 5
}
