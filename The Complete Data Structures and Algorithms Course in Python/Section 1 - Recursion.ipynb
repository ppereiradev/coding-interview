{
 "cells": [
  {
   "cell_type": "markdown",
   "id": "d9da032b",
   "metadata": {},
   "source": [
    "# Section 1: Recursion"
   ]
  },
  {
   "cell_type": "markdown",
   "id": "96535d63",
   "metadata": {},
   "source": [
    "__Definition:__\n",
    "\n",
    "Recursion is a way of solving a problem using a function that calls itself. Recursion helps us to break down big problems into smaller ones that are easier to solve.\n",
    "\n",
    "When use recursion?\n",
    "  1. If you can divide the problem into similar subproblems\n",
    "  2. Design an algorithm to compute the nth...\n",
    "  3. Write a list to print the nth...\n",
    "  4. Implement a method to compute all...\n",
    "  5. When using data structures like graphs and trees, mainly when we need traverse them (very important!)\n",
    "  6. When is algorithms of type divide to conquer, greedy, and dynamic programming.\n",
    "  7. When we need a working solution instead an efficient one\n",
    "  8. When the extra overhead of using recursion can be neglect\n",
    "  9. If we can use memoization because we improve the time complexity\n",
    "  \n",
    "  \n",
    "When we use __graphs__ and __trees__ most of times are easier to solve problems using recursion.\n",
    "\n",
    "When avoid recursion?\n",
    "  1. If time complexity and space complexity are very important\n",
    "  2. Recursion can be slower than interative algorithms"
   ]
  },
  {
   "cell_type": "markdown",
   "id": "3db409c6",
   "metadata": {},
   "source": [
    "### How to write Recursion solutions in 3 steps\n",
    "\n",
    "1. Identify the recursion case - the flow\n",
    "2. Identify and write the base case - when recursion needs to stop\n",
    "3. Identify the unintentional case - the constraint, and elegant way is to use assert or try catch."
   ]
  },
  {
   "cell_type": "code",
   "execution_count": 6,
   "id": "c101583d",
   "metadata": {},
   "outputs": [
    {
     "data": {
      "text/plain": [
       "40320"
      ]
     },
     "execution_count": 6,
     "metadata": {},
     "output_type": "execute_result"
    }
   ],
   "source": [
    "def factorial(n):\n",
    "    assert n >= 0 and int(n) == n, \"n should be a positive integer\"\n",
    "    if n == 0:\n",
    "        return 1\n",
    "    return n*factorial(n-1)\n",
    "\n",
    "factorial(8)"
   ]
  },
  {
   "cell_type": "code",
   "execution_count": 18,
   "id": "8d91328f",
   "metadata": {},
   "outputs": [
    {
     "name": "stdout",
     "output_type": "stream",
     "text": [
      "Memoization:  55\n",
      "Tabulation:  55\n"
     ]
    }
   ],
   "source": [
    "# dynamic programming - memoization\n",
    "def fib(n, memo={}):\n",
    "    if n in memo:\n",
    "        return memo[n]\n",
    "    if n <= 1:\n",
    "        return n\n",
    "    \n",
    "    memo[n] = fib(n-1) + fib(n-2)\n",
    "    return memo[n]\n",
    "\n",
    "print(\"Memoization: \",fib(10))\n",
    "\n",
    "#tabulation\n",
    "def fib(n):\n",
    "    n1 = 0\n",
    "    n2 = 1\n",
    "    n3 = 0\n",
    "    \n",
    "    for i in range(n):\n",
    "        n3 = n1+n2\n",
    "        n1 = n2\n",
    "        n2 = n3\n",
    "\n",
    "    return n1\n",
    "\n",
    "print(\"Tabulation: \",fib(10))"
   ]
  },
  {
   "cell_type": "markdown",
   "id": "032ef23b",
   "metadata": {},
   "source": [
    "# Interview Question 1\n",
    "\n",
    "How to find the sum of digits of a positive integer number using recursion?"
   ]
  },
  {
   "cell_type": "markdown",
   "id": "650aec48",
   "metadata": {},
   "source": [
    "__steps to solve recursion problems__\n",
    "\n",
    "1. Identify recursion case - the flow:\n",
    "\n",
    "let's see a simple number, for instance 10, so how we can get the separated digits of a number?\n",
    "\n",
    "Remember, we use the decimal representation, so \n",
    "10/10 = 1 and the remainder is 0, so we could sum the result of the division by the remainder.\n",
    "\n",
    "let's test another one, 11. 11/11 = 1 remainder 1\n",
    "\n",
    "54/10 = 5 and remainder 4\n",
    "\n",
    "the formula so far is n/10 + n%10, and there is no need for recursion. Let's try a bigger number:\n",
    "\n",
    "112/10 = 11 and remainder 2 \n",
    "         11/10 = 1 remainder 1\n",
    "         \n",
    "see? in the last number we got a recursion case.\n",
    "\n",
    "Let's define the recursion case:\n",
    "here n/10 + n%10 we divide the number and sum with to remainder, but we still need to call the function in the division, so:\n",
    "\n",
    "return func(n/10) + n%10\n",
    "\n",
    "\n",
    "2. find base case:\n",
    "   n < 10\n",
    "   \n",
    "3.  unintentional case\n",
    "    n < 0 or float number\n"
   ]
  },
  {
   "cell_type": "code",
   "execution_count": 24,
   "id": "07565186",
   "metadata": {},
   "outputs": [
    {
     "data": {
      "text/plain": [
       "45"
      ]
     },
     "execution_count": 24,
     "metadata": {},
     "output_type": "execute_result"
    }
   ],
   "source": [
    "def find_sum_digits_of_number(number):\n",
    "    assert number >= 0 and int(number) == number, \"number should be a positive integer!\"\n",
    "        \n",
    "    if number < 10:\n",
    "        return number\n",
    "    return find_sum_digits_of_number(number//10) + number%10\n",
    "\n",
    "find_sum_digits_of_number(123456789)"
   ]
  },
  {
   "cell_type": "markdown",
   "id": "1e4b1ecf",
   "metadata": {},
   "source": [
    "# Interview Question 2\n",
    "\n",
    "How to calculate power of a number using recursion?\n",
    "\n",
    "1. Identify recursion case\n",
    "\n",
    "4^2 = 4 x 4\n",
    "4^3 = 4 x 4 x 4\n",
    "4^4 = 4 x 4 x 4 x 4\n",
    "\n",
    "PI{i->1,i->power} number\n",
    "\n",
    "2^4 = 2 x 2 x 2 x 2\n",
    "\n",
    "2^4 = 2 x 2 x 4\n",
    "\n",
    "2^4 = 2 x 8\n",
    "\n",
    "2^4 = 16\n",
    "\n",
    "return number x power(number,expoent-1)\n",
    "\n",
    "2. Base case\n",
    "\n",
    "expoent == 0\n",
    "return 1\n",
    "\n",
    "3. unintentional case\n",
    "\n",
    "expoent < 0 and float"
   ]
  },
  {
   "cell_type": "code",
   "execution_count": 58,
   "id": "96420b6f",
   "metadata": {},
   "outputs": [
    {
     "data": {
      "text/plain": [
       "32"
      ]
     },
     "execution_count": 58,
     "metadata": {},
     "output_type": "execute_result"
    }
   ],
   "source": [
    "def calculate_power(base, exponent):\n",
    "    assert exponent >= 0 and int(exponent) == exponent, \"expoent needs to be a positive integer\"\n",
    "    \n",
    "    if exponent < 1:\n",
    "        return 1\n",
    "    \n",
    "    return base * calculate_power(base, exponent-1)\n",
    "\n",
    "calculate_power(2, 5)"
   ]
  },
  {
   "cell_type": "markdown",
   "id": "9dc50972",
   "metadata": {},
   "source": [
    "# Interview Question 3\n",
    "\n",
    "How to find GCD (Greatest Common Divisor) of two numbers using recursion?"
   ]
  },
  {
   "cell_type": "markdown",
   "id": "aa19b12f",
   "metadata": {},
   "source": [
    "1. Identify recursion case\n",
    "\n",
    "GCD is the largest positive number that divides both numbers without a remainder, for instance:\n",
    "\n",
    "gcd(8,12) = 4, because 8%4 = 0 and also 12%4 = 0\n",
    "\n",
    "8%2 = 0 and 12%2 = 0 but 4 is greater than 2, so the anwser is 4.\n",
    "\n",
    "let's try to find the recursion in this process...\n",
    "\n",
    "__interative:__ for i from 1 to min(8,12) verify if 8%i == 0 and 12%i == 0 if it is true save i, so in the end we get the max i.\n",
    "\n",
    "__recursion:__ i = min(8,12) then gcd(8,12,i-1)\n",
    "\n",
    "return i that 8%1 = 0 and 12%i = 0"
   ]
  },
  {
   "cell_type": "code",
   "execution_count": 46,
   "id": "72f56d3d",
   "metadata": {},
   "outputs": [
    {
     "data": {
      "text/plain": [
       "6"
      ]
     },
     "execution_count": 46,
     "metadata": {},
     "output_type": "execute_result"
    }
   ],
   "source": [
    "def find_gcd(num1, num2):\n",
    "    assert num1 == int(num1) and num2 == int(num2), \"num1 and num2 must be integers\"\n",
    "    \n",
    "    if num2 > num1:\n",
    "        return find_gcd(num2, num1)\n",
    "    \n",
    "    if num1 < 0:\n",
    "        num1 = -1*num1\n",
    "    \n",
    "    if num2 < 0:\n",
    "        num2 = -1*num2\n",
    "    \n",
    "    if num2 == 0:\n",
    "        return num1\n",
    "    \n",
    "    return find_gcd(num2, num1%num2)\n",
    "\n",
    "find_gcd(18, 48)"
   ]
  },
  {
   "cell_type": "markdown",
   "id": "b3833da4",
   "metadata": {},
   "source": [
    "# Interview Question 4\n",
    "\n",
    "How to convert a number from Decimal to Binary representation using Recursion?"
   ]
  },
  {
   "cell_type": "code",
   "execution_count": 56,
   "id": "bb325876",
   "metadata": {},
   "outputs": [
    {
     "data": {
      "text/plain": [
       "1001"
      ]
     },
     "execution_count": 56,
     "metadata": {},
     "output_type": "execute_result"
    }
   ],
   "source": [
    "\"\"\"\n",
    "10 = 1010\n",
    "\n",
    "1010 = 1*2^3 + 0*2^2 + 1*2^1 + 0*2^0\n",
    "\n",
    "\n",
    "10/2 = 5 and 10%2 = 0 -> first binary number that represents 10\n",
    " ______|\n",
    "|       \n",
    "v       \n",
    "5/2 = 2 and 5%2 = 1 -> second binary number that represents 10\n",
    " _____|\n",
    "|       \n",
    "v\n",
    "2/2 = 1 and 2%2 = 0 -> third binary number that represents 10\n",
    " _____|\n",
    "|       \n",
    "v\n",
    "1/2 = 1 and 1%2 = 1 -> forth binary number that represents 10\n",
    "\n",
    "Remainders in order: 1010\n",
    "\n",
    "The recursion step is \n",
    "\n",
    "remainder = num%2\n",
    "num = num//2\n",
    "if num == 1:\n",
    "   return 1\n",
    "return str(func(num)) + str(remainder)\n",
    "\"\"\"\n",
    "def convert_decimal_to_binary(num):\n",
    "    assert int(num) == num, \"num must be an integer!\"\n",
    "    if num == 0:\n",
    "        return 0\n",
    "    \n",
    "    return num%2 + 10 * convert_decimal_to_binary(num//2)\n",
    "\n",
    "convert_decimal_to_binary(9)"
   ]
  },
  {
   "cell_type": "markdown",
   "id": "6f1094e7",
   "metadata": {},
   "source": [
    "# Interview Question 5\n",
    "\n",
    "Reverse a string using recursion."
   ]
  },
  {
   "cell_type": "code",
   "execution_count": 60,
   "id": "af2d760e",
   "metadata": {},
   "outputs": [
    {
     "data": {
      "text/plain": [
       "'nohtyp'"
      ]
     },
     "execution_count": 60,
     "metadata": {},
     "output_type": "execute_result"
    }
   ],
   "source": [
    "def reverse(s, i=0):\n",
    "    if len(s) == i+1:\n",
    "        return s[i]\n",
    "    \n",
    "    return reverse(s, i+1) + s[i]\n",
    "\n",
    "reverse(\"python\")"
   ]
  },
  {
   "cell_type": "markdown",
   "id": "0457b900",
   "metadata": {},
   "source": [
    "# SOLUTIONS PART 1\n",
    "### POWER SOLUTION\n",
    "```python\n",
    "def power(base, exponent):\n",
    "    if exponent == 0:\n",
    "        return 1\n",
    "    return base * power(base, exponent-1)\n",
    "```\n",
    "\n",
    "### FACTORIAL SOLUTION\n",
    "```python\n",
    "def factorial(num):\n",
    "    if num <= 1:\n",
    "        return 1\n",
    "    return num * factorial(num-1)\n",
    "```\n",
    "\n",
    "### PRODUCT OF ARRAY SOLUTION\n",
    "```python\n",
    "def productOfArray(arr):\n",
    "    if len(arr) == 0:\n",
    "        return 1\n",
    "    return arr[0] * productOfArray(arr[1:])\n",
    "```\n",
    "\n",
    "### RECURSIVE RANGE SOLUTION\n",
    "```python\n",
    "def recursiveRange(num):\n",
    "    if num <= 0:\n",
    "        return 0\n",
    "    return num + recursiveRange(num - 1)\n",
    "```\n",
    "\n",
    "### FIBONACCI SOLUTION\n",
    "```python\n",
    "def fib(num):\n",
    "    if (num < 2):\n",
    "        return num\n",
    "    return fib(num - 1) + fib(num - 2)\n",
    "```"
   ]
  },
  {
   "cell_type": "markdown",
   "id": "27b6d0aa",
   "metadata": {},
   "source": [
    "# Part 2\n",
    "\n",
    "# Interview Question 6\n",
    "\n",
    "Write a recursive function called is_palindrome which returns true if the string passed to it is palindrome, otherwise it returns false."
   ]
  },
  {
   "cell_type": "code",
   "execution_count": 67,
   "id": "9932f541",
   "metadata": {},
   "outputs": [
    {
     "data": {
      "text/plain": [
       "True"
      ]
     },
     "execution_count": 67,
     "metadata": {},
     "output_type": "execute_result"
    }
   ],
   "source": [
    "\"\"\"\n",
    "1. find the recursion case\n",
    "reverse string, and then compare with the orignal one\n",
    "\n",
    "\"\"\"\n",
    "\n",
    "def is_palindrome(s):\n",
    "    def reverse(s, i=0):\n",
    "        if len(s) == i+1:\n",
    "            return s[i]\n",
    "\n",
    "        rev = reverse(s, i+1) + s[i]\n",
    "\n",
    "        return rev\n",
    "    \n",
    "    if reverse(s) == s:\n",
    "        return True\n",
    "    else:\n",
    "        return False\n",
    "\n",
    "is_palindrome(\"tacocat\")"
   ]
  },
  {
   "cell_type": "code",
   "execution_count": 135,
   "id": "1c2302a2",
   "metadata": {},
   "outputs": [
    {
     "data": {
      "text/plain": [
       "True"
      ]
     },
     "execution_count": 135,
     "metadata": {},
     "output_type": "execute_result"
    }
   ],
   "source": [
    "# ELEGANT APPROACH\n",
    "def is_palindrome(strng):\n",
    "    if len(strng) == 0:\n",
    "        return True\n",
    "    if strng[0] != strng[len(strng)-1]:\n",
    "        return False\n",
    "    return is_palindrome(strng[1:-1])\n",
    "\n",
    "is_palindrome(\"tacocat\")"
   ]
  },
  {
   "cell_type": "markdown",
   "id": "c5701a36",
   "metadata": {},
   "source": [
    "# Interview Question 7\n",
    "\n",
    "Write a recursive function called some_recursive which accepts an array and a callback. The function returns true if a single value in the array returns true when passed to the callback. Otherwise, it returns false."
   ]
  },
  {
   "cell_type": "code",
   "execution_count": 71,
   "id": "78c3f033",
   "metadata": {},
   "outputs": [
    {
     "data": {
      "text/plain": [
       "False"
      ]
     },
     "execution_count": 71,
     "metadata": {},
     "output_type": "execute_result"
    }
   ],
   "source": [
    "def is_odd(num):\n",
    "    if num%2==0:\n",
    "        return False\n",
    "    else:\n",
    "        return True\n",
    "        \n",
    "def some_recursive(arr, cb, i=0):\n",
    "    if len(arr) == i+1:\n",
    "        return cb(arr[i])\n",
    "    \n",
    "    value = cb(arr[i]) or some_recursive(arr, cb, i+1)\n",
    "    return value\n",
    "\n",
    "some_recursive([4,6,8], is_odd)"
   ]
  },
  {
   "cell_type": "markdown",
   "id": "6323925c",
   "metadata": {},
   "source": [
    "# Interview Question 8\n",
    "\n",
    "Write a recursive function called flatten, which accepts an array of arrays and returns a new array with all values flatted."
   ]
  },
  {
   "cell_type": "code",
   "execution_count": 91,
   "id": "65f21a79",
   "metadata": {},
   "outputs": [
    {
     "name": "stdout",
     "output_type": "stream",
     "text": [
      "[1, 2, 3]\n"
     ]
    }
   ],
   "source": [
    "def flatten(arr, result, i=0):\n",
    "    if len(arr) == i+1 and type(arr[i]) is not list:\n",
    "        result.append(arr[i])\n",
    "        return\n",
    "    \n",
    "    for j in arr:\n",
    "        if type(j) is list:\n",
    "            flatten(j, result, 0)\n",
    "        else:\n",
    "            result.append(j)\n",
    "    return \n",
    "\n",
    "result = []\n",
    "flatten([[1],[2],[[3]]], result)\n",
    "print(result)"
   ]
  },
  {
   "cell_type": "code",
   "execution_count": 133,
   "id": "46ab345a",
   "metadata": {},
   "outputs": [
    {
     "data": {
      "text/plain": [
       "[1, 2, 3, 6, 7, 8]"
      ]
     },
     "execution_count": 133,
     "metadata": {},
     "output_type": "execute_result"
    }
   ],
   "source": [
    "def flatten(arr):\n",
    "    \n",
    "    result = []\n",
    "    for i in range(len(arr)):\n",
    "        if type(arr[i]) is list:\n",
    "            result += flatten(arr[i])\n",
    "        else:\n",
    "            result.append(arr[i])\n",
    "\n",
    "    return result\n",
    "        \n",
    "flatten([1,[2],[[[3]]],[[[[[[[[[6,7,8]]]]]]]]]])"
   ]
  },
  {
   "cell_type": "markdown",
   "id": "1d754b7b",
   "metadata": {},
   "source": [
    "# SOLUTIONS PART 2\n",
    "\n",
    "### REVERSE SOLUTION\n",
    "\n",
    "```python\n",
    "def reverse(strng):\n",
    "    if len(strng) <= 1:\n",
    "      return strng\n",
    "    return strng[len(strng)-1] + \n",
    "\n",
    "reverse(strng[0:len(strng)-1])\n",
    "```\n",
    "\n",
    "### IS PALINDROME SOLUTION\n",
    "```python\n",
    "def isPalindrome(strng):\n",
    "    if len(strng) == 0:\n",
    "        return True\n",
    "    if strng[0] != strng[len(strng)-1]:\n",
    "        return False\n",
    "    return isPalindrome(strng[1:-1])\n",
    "```\n",
    "\n",
    "### SOME RECURSIVE SOLUTION\n",
    "```python\n",
    "def someRecursive(arr, cb):\n",
    "    if len(arr) == 0:\n",
    "        return False\n",
    "    if not(cb(arr[0])):\n",
    "        return someRecursive(arr[1:], cb)\n",
    "    return True\n",
    " \n",
    "def isOdd(num):\n",
    "    if num%2==0:\n",
    "        return False\n",
    "    else:\n",
    "        return True\n",
    "```\n",
    "\n",
    "### FLATTEN SOLUTION\n",
    "```python\n",
    "def flatten(arr):\n",
    "    resultArr = []\n",
    "    for custItem in arr:\n",
    "        if type(custItem) is list:\n",
    "            resultArr.extend(flatten(custItem))\n",
    "        else: \n",
    "            resultArr.append(custItem)\n",
    "    return resultArr \n",
    "```"
   ]
  },
  {
   "cell_type": "markdown",
   "id": "a39de04c",
   "metadata": {},
   "source": [
    "# Part 3\n",
    "\n",
    "# Interview Question 9\n",
    "\n",
    "Write a recursive function called capitalize_first. Given an array of strings, capitalize the first letter of each string in the array."
   ]
  },
  {
   "cell_type": "code",
   "execution_count": 139,
   "id": "6a90f257",
   "metadata": {},
   "outputs": [
    {
     "data": {
      "text/plain": [
       "['Car', 'Taco', 'Banana']"
      ]
     },
     "execution_count": 139,
     "metadata": {},
     "output_type": "execute_result"
    }
   ],
   "source": [
    "def capitalize_first(arr):\n",
    "    if len(arr) <= 1:\n",
    "        arr[0] = arr[0].capitalize()\n",
    "        return arr\n",
    "    \n",
    "    return [arr[0].capitalize()] + capitalize_first(arr[1:])\n",
    "\n",
    "capitalize_first([\"car\", \"taco\", \"banana\"])"
   ]
  },
  {
   "cell_type": "markdown",
   "id": "08334d74",
   "metadata": {},
   "source": [
    "# Interview Question 10\n",
    "\n",
    "Write a recursive function called nested_even_sum. Return the sum of all even numbers in an object which may contain nested objects."
   ]
  },
  {
   "cell_type": "code",
   "execution_count": 146,
   "id": "c67bf801",
   "metadata": {},
   "outputs": [
    {
     "name": "stdout",
     "output_type": "stream",
     "text": [
      "6\n",
      "10\n"
     ]
    }
   ],
   "source": [
    "def nested_even_sum(obj, sum=0):\n",
    "    \n",
    "    for key in obj:\n",
    "        if type(obj[key]) is int:\n",
    "            if obj[key]%2 == 0:\n",
    "                sum += obj[key]\n",
    "        elif type(obj[key]) is dict:\n",
    "            sum = nested_even_sum(obj[key], sum)\n",
    "        \n",
    "    return sum\n",
    "\n",
    "\n",
    "obj1 = {\n",
    "  \"outer\": 2,\n",
    "  \"obj\": {\n",
    "    \"inner\": 2,\n",
    "    \"otherObj\": {\n",
    "      \"superInner\": 2,\n",
    "      \"notANumber\": True,\n",
    "      \"alsoNotANumber\": \"yup\"\n",
    "    }\n",
    "  }\n",
    "}\n",
    "\n",
    "obj2 = {\n",
    "  \"a\": 2,\n",
    "  \"b\": {\"b\": 2, \"bb\": {\"b\": 3, \"bb\": {\"b\": 2}}},\n",
    "  \"c\": {\"c\": {\"c\": 2}, \"cc\": 'ball', \"ccc\": 5},\n",
    "  \"d\": 1,\n",
    "  \"e\": {\"e\": {\"e\": 2}, \"ee\": 'car'}\n",
    "}\n",
    "\n",
    "print(nested_even_sum(obj1))\n",
    "print(nested_even_sum(obj2))"
   ]
  },
  {
   "cell_type": "markdown",
   "id": "0d2da553",
   "metadata": {},
   "source": [
    "# Interview Question 11\n",
    "\n",
    "Write a recursive function called capitalize_words. Given an array, return a new array with all capitalized words."
   ]
  },
  {
   "cell_type": "code",
   "execution_count": 152,
   "id": "e6452ef3",
   "metadata": {},
   "outputs": [
    {
     "data": {
      "text/plain": [
       "['I', 'AM', 'LEARNING', 'RECURSION']"
      ]
     },
     "execution_count": 152,
     "metadata": {},
     "output_type": "execute_result"
    }
   ],
   "source": [
    "def capitalize_words(arr):\n",
    "    if len(arr) <= 1:\n",
    "        arr[0] = arr[0].upper()\n",
    "        return arr\n",
    "    \n",
    "    return [arr[0].upper()] + capitalize_words(arr[1:])\n",
    "\n",
    "words = [\"i\", \"am\", \"learning\", \"recursion\"]\n",
    "\n",
    "capitalize_words(words)"
   ]
  },
  {
   "cell_type": "markdown",
   "id": "b3934ca7",
   "metadata": {},
   "source": [
    "# Interview Question 12\n",
    "\n",
    "Write a function called <strong>stringify_numbers</strong> which takes in an object and finds all of the values which are numbers and converts them to strings. Recursion would be a great way to solve this!"
   ]
  },
  {
   "cell_type": "code",
   "execution_count": 154,
   "id": "34bde290",
   "metadata": {},
   "outputs": [
    {
     "name": "stdout",
     "output_type": "stream",
     "text": [
      "{'num': '1', 'test': [], 'data': {'val': '4', 'info': {'isRight': True, 'random': '66'}}}\n"
     ]
    }
   ],
   "source": [
    "def stringify_numbers(obj):\n",
    "    for key in obj:\n",
    "        if type(obj[key]) is int:\n",
    "            obj[key] = str(obj[key])\n",
    "        elif type(obj[key]) is dict:\n",
    "            stringify_numbers(obj[key])\n",
    "            \n",
    "    return obj\n",
    "\n",
    "obj = {\n",
    "    \"num\": 1,\n",
    "    \"test\": [],\n",
    "    \"data\": {\n",
    "        \"val\": 4,\n",
    "        \"info\": {\n",
    "            \"isRight\": True,\n",
    "            \"random\": 66\n",
    "        }\n",
    "    }\n",
    "}\n",
    " \n",
    "print(stringify_numbers(obj))"
   ]
  },
  {
   "cell_type": "markdown",
   "id": "c8db49a3",
   "metadata": {},
   "source": [
    "# Interview Question 13\n",
    "\n",
    "Write a function called <strong>collect_strings</strong> which accepts an object and returns an array of all the values in the object that have a typeof string.\n"
   ]
  },
  {
   "cell_type": "code",
   "execution_count": 157,
   "id": "ebf70bb2",
   "metadata": {},
   "outputs": [
    {
     "data": {
      "text/plain": [
       "['foo', 'bar', 'baz']"
      ]
     },
     "execution_count": 157,
     "metadata": {},
     "output_type": "execute_result"
    }
   ],
   "source": [
    "def collect_strings(obj):\n",
    "    result = []\n",
    "    \n",
    "    for k in obj:\n",
    "        if type(obj[k]) is str:\n",
    "            result.append(obj[k])\n",
    "        elif type(obj[k]) is dict:\n",
    "            result += collect_strings(obj[k])\n",
    "    \n",
    "    return result\n",
    "\n",
    "obj = {\n",
    "    \"stuff\": 'foo',\n",
    "    \"data\": {\n",
    "        \"val\": {\n",
    "            \"thing\": {\n",
    "                \"info\": 'bar',\n",
    "                \"moreInfo\": {\n",
    "                    \"evenMoreInfo\": {\n",
    "                        \"weMadeIt\": 'baz'\n",
    "                    }\n",
    "                }\n",
    "            }\n",
    "        }\n",
    "    }\n",
    "}\n",
    " \n",
    "collect_strings(obj) # ['foo', 'bar', 'baz']"
   ]
  },
  {
   "cell_type": "markdown",
   "id": "5fea7c50",
   "metadata": {},
   "source": [
    "# SOLUTION PART 3\n",
    "\n",
    "### CAPITALIZE FIRST SOLUTION\n",
    "```python\n",
    "def capitalizeFirst(arr):\n",
    "    result = []\n",
    "    if len(arr) == 0:\n",
    "        return result\n",
    "    result.append(arr[0][0].upper() + arr[0][1:])\n",
    "    return result + capitalizeFirst(arr[1:]) \n",
    "```\n",
    "\n",
    "### NESTED EVEN SUM SOLUTION\n",
    "```python\n",
    "def nestedEvenSum(obj, sum=0):\n",
    "    for key in obj:\n",
    "        if type(obj[key]) is dict:\n",
    "            sum += nestedEvenSum(obj[key])\n",
    "        elif type(obj[key]) is int and obj[key]%2==0:\n",
    "            sum+=obj[key]\n",
    "    return sum\n",
    "```\n",
    "\n",
    "### CAPITALIZE WORDS SOLUTION\n",
    "```python\n",
    "def capitalizeWords(arr):\n",
    "    result = []\n",
    "    if len(arr) == 0:\n",
    "        return result\n",
    "    result.append(arr[0].upper())\n",
    "    return result + capitalizeWords(arr[1:])\n",
    "```\n",
    "\n",
    "### STRINGIFY NUMBERS SOLUTION\n",
    "```python\n",
    "def stringifyNumbers(obj):\n",
    "    newObj = obj\n",
    "    for key in newObj:\n",
    "        if type(newObj[key]) is int:\n",
    "            newObj[key] = str(newObj[key])\n",
    "        if type(newObj[key]) is dict:\n",
    "            newObj[key] = stringifyNumbers(newObj[key])\n",
    "    return newObj\n",
    "```\n",
    "\n",
    "### COLLECT STRINGS SOLUTION\n",
    "```python\n",
    "def collectStrings(obj):\n",
    "    resultArr = []\n",
    "    for key in obj:\n",
    "        if type(obj[key]) is str:\n",
    "            resultArr.append(obj[key])\n",
    "        if type(obj[key]) is dict:\n",
    "            resultArr = resultArr + collectStrings(obj[key])\n",
    "    return resultArr\n",
    "```"
   ]
  },
  {
   "cell_type": "code",
   "execution_count": null,
   "id": "76ea7380",
   "metadata": {},
   "outputs": [],
   "source": []
  },
  {
   "cell_type": "code",
   "execution_count": null,
   "id": "8bbca9c4",
   "metadata": {},
   "outputs": [],
   "source": []
  }
 ],
 "metadata": {
  "kernelspec": {
   "display_name": "Python 3 (ipykernel)",
   "language": "python",
   "name": "python3"
  },
  "language_info": {
   "codemirror_mode": {
    "name": "ipython",
    "version": 3
   },
   "file_extension": ".py",
   "mimetype": "text/x-python",
   "name": "python",
   "nbconvert_exporter": "python",
   "pygments_lexer": "ipython3",
   "version": "3.8.9"
  }
 },
 "nbformat": 4,
 "nbformat_minor": 5
}
