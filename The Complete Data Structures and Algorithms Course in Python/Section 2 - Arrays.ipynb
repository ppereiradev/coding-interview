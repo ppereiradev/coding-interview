{
 "cells": [
  {
   "cell_type": "markdown",
   "id": "4cf0908a",
   "metadata": {},
   "source": [
    "# Section 2: Arrays"
   ]
  },
  {
   "cell_type": "markdown",
   "id": "6919749b",
   "metadata": {},
   "source": [
    "# Interview Question 1\n",
    "\n",
    "How to find the missing number in an integer array of 1 to 100? "
   ]
  },
  {
   "cell_type": "code",
   "execution_count": 19,
   "id": "6a2ce8ad",
   "metadata": {},
   "outputs": [
    {
     "name": "stdout",
     "output_type": "stream",
     "text": [
      "The missing number is: 27\n"
     ]
    }
   ],
   "source": [
    "import random\n",
    "\n",
    "def find_missing_number(arr):\n",
    "    for i in range(1, len(arr)):\n",
    "        if arr[i] - arr[i-1] > 1:\n",
    "            print(\"The missing number is:\",arr[i-1]+1)\n",
    "\n",
    "array = list(range(1,101))\n",
    "array.pop(random.randint(1,100))\n",
    "find_missing_number(array)"
   ]
  },
  {
   "cell_type": "code",
   "execution_count": 24,
   "id": "b44a021c",
   "metadata": {},
   "outputs": [
    {
     "name": "stdout",
     "output_type": "stream",
     "text": [
      "8\n"
     ]
    },
    {
     "data": {
      "text/plain": [
       "8"
      ]
     },
     "execution_count": 24,
     "metadata": {},
     "output_type": "execute_result"
    }
   ],
   "source": [
    "# more elegant\n",
    "import random\n",
    "\n",
    "def find_missing_number(arr):\n",
    "    return ((100*(100+1))//2)-sum(arr)\n",
    "\n",
    "array = list(range(1,101))\n",
    "a = array.pop(random.randint(1,100))\n",
    "print(a)\n",
    "find_missing_number(array)"
   ]
  },
  {
   "cell_type": "markdown",
   "id": "a6e45e4f",
   "metadata": {},
   "source": [
    "# Interview Question 2\n",
    "\n",
    "Write a program to find all pairs of integers that whose sum is equal to a given number."
   ]
  },
  {
   "cell_type": "code",
   "execution_count": 28,
   "id": "3ae14a61",
   "metadata": {},
   "outputs": [
    {
     "data": {
      "text/plain": [
       "[[6, 3], [9, 0]]"
      ]
     },
     "execution_count": 28,
     "metadata": {},
     "output_type": "execute_result"
    }
   ],
   "source": [
    "# brute force solution - TC: O(n^2), SC: O(n)\n",
    "def find_pairs(nums, target):\n",
    "    result = []\n",
    "    for i in range(len(nums)):\n",
    "        for j in range(i+1,len(nums)):\n",
    "            if nums[i] + nums[j] == target:\n",
    "                result.append([nums[i],nums[j]])\n",
    "    return result\n",
    "\n",
    "nums = [2,6,3,9,0,11]\n",
    "find_pairs(nums, 9)"
   ]
  },
  {
   "cell_type": "code",
   "execution_count": 41,
   "id": "9bdce801",
   "metadata": {},
   "outputs": [
    {
     "data": {
      "text/plain": [
       "[[6, 3], [9, 0]]"
      ]
     },
     "execution_count": 41,
     "metadata": {},
     "output_type": "execute_result"
    }
   ],
   "source": [
    "# improved solution - TC: O(n), SC: O(n)\n",
    "def find_pairs(nums, target):\n",
    "    result = []\n",
    "    aux = set()\n",
    "    aux.add(nums[0])\n",
    "    \n",
    "    for i in range(1,len(nums)):\n",
    "        \n",
    "        if target - nums[i] in aux:\n",
    "            result.append([target - nums[i], nums[i]])\n",
    "            \n",
    "        aux.add(nums[i])\n",
    "        \n",
    "    return result\n",
    "        \n",
    "nums = [2,6,3,9,0,11]\n",
    "find_pairs(nums, 9)"
   ]
  },
  {
   "cell_type": "markdown",
   "id": "6de99595",
   "metadata": {},
   "source": [
    "# Interview Question 3\n",
    "\n",
    "How to find the maximum product of two integers in the array where all elements are positive."
   ]
  },
  {
   "cell_type": "code",
   "execution_count": 44,
   "id": "b71a3746",
   "metadata": {},
   "outputs": [
    {
     "data": {
      "text/plain": [
       "(72, (9, 8))"
      ]
     },
     "execution_count": 44,
     "metadata": {},
     "output_type": "execute_result"
    }
   ],
   "source": [
    "# brute force - TC: O(n^2), SC: O(1)\n",
    "def find_maximum_product(arr):\n",
    "    max_product = float(\"-inf\")\n",
    "    result = None\n",
    "    \n",
    "    for i in range(len(arr)):\n",
    "        for j in range(i+1, len(arr)):\n",
    "            if max_product < arr[i]*arr[j]:\n",
    "                max_product = arr[i]*arr[j]\n",
    "                result = (arr[i],arr[j])\n",
    "\n",
    "    return max_product, result\n",
    "\n",
    "\n",
    "array = [9,1,8,2,7,3,6,4,5]\n",
    "find_maximum_product(array)"
   ]
  },
  {
   "cell_type": "markdown",
   "id": "a6348df5",
   "metadata": {},
   "source": [
    "# Interview Question 4\n",
    "\n",
    "Create a program to verify if a list is a permutation of a second list."
   ]
  },
  {
   "cell_type": "code",
   "execution_count": 46,
   "id": "fb9acde1",
   "metadata": {},
   "outputs": [
    {
     "data": {
      "text/plain": [
       "True"
      ]
     },
     "execution_count": 46,
     "metadata": {},
     "output_type": "execute_result"
    }
   ],
   "source": [
    "def is_permutation(lst1, lst2):\n",
    "    if len(lst1) != len(lst2):\n",
    "        return False\n",
    "\n",
    "    aux = set(lst2)\n",
    "    for i in range(len(lst1)):\n",
    "        if lst1[i] not in aux:\n",
    "            return False\n",
    "        \n",
    "    return True\n",
    "\n",
    "ls = [1,2,3]\n",
    "ls2 = [3,2,1]\n",
    "\n",
    "is_permutation(ls, ls2)"
   ]
  },
  {
   "cell_type": "markdown",
   "id": "f6b52627",
   "metadata": {},
   "source": [
    "# Interview Question 5\n",
    "\n",
    "__Rotate Matrix__: Given an imagem represented by a matrix NxN, write a program to rotate the image by 90 degrees. "
   ]
  },
  {
   "cell_type": "code",
   "execution_count": 53,
   "id": "d91dd1e2",
   "metadata": {},
   "outputs": [
    {
     "data": {
      "text/plain": [
       "[[7, 4, 1], [8, 5, 2], [9, 6, 3]]"
      ]
     },
     "execution_count": 53,
     "metadata": {},
     "output_type": "execute_result"
    }
   ],
   "source": [
    "def rotate_image_90(image):\n",
    "    result = [i[:] for i in image]\n",
    "\n",
    "    for i in range(len(image)):\n",
    "        for j in range(len(image)):\n",
    "            result[j][-(i+1)] = image[i][j]\n",
    "            \n",
    "    return result\n",
    "\n",
    "image = [\n",
    "    [1,2,3],\n",
    "    [4,5,6],\n",
    "    [7,8,9],\n",
    "]\n",
    "rotate_image_90(image)"
   ]
  },
  {
   "cell_type": "markdown",
   "id": "f39d0d4e",
   "metadata": {},
   "source": [
    "# Interview Question 6\n",
    "\n",
    "Write a function called middle that takes a list and returns a new list that contains all but the first and last elements.\n",
    "\n",
    "<div class=\"ud-component--base-components--code-block\"><div><pre class=\"prettyprint linenums prettyprinted\" role=\"presentation\" style=\"\"><ol class=\"linenums\"><li class=\"L0\"><span class=\"pln\">myList </span><span class=\"pun\">=</span><span class=\"pln\"> </span><span class=\"pun\">[</span><span class=\"lit\">1</span><span class=\"pun\">,</span><span class=\"pln\"> </span><span class=\"lit\">2</span><span class=\"pun\">,</span><span class=\"pln\"> </span><span class=\"lit\">3</span><span class=\"pun\">,</span><span class=\"pln\"> </span><span class=\"lit\">4</span><span class=\"pun\">]</span></li><li class=\"L1\"><span class=\"pln\">middle</span><span class=\"pun\">(</span><span class=\"pln\">myList</span><span class=\"pun\">)</span><span class=\"pln\">  </span><span class=\"com\"># [2,3]</span></li></ol></pre></div></div>"
   ]
  },
  {
   "cell_type": "code",
   "execution_count": 56,
   "id": "02e08826",
   "metadata": {},
   "outputs": [
    {
     "data": {
      "text/plain": [
       "[2, 3, 4, 5, 6, 7, 8]"
      ]
     },
     "execution_count": 56,
     "metadata": {},
     "output_type": "execute_result"
    }
   ],
   "source": [
    "def middle(arr):\n",
    "    return arr[1:-1]\n",
    "\n",
    "array = [1,2,3,4,5,6,7,8,9]\n",
    "middle(array)"
   ]
  },
  {
   "cell_type": "markdown",
   "id": "dfca4578",
   "metadata": {},
   "source": [
    "# Interview Question 7\n",
    "\n",
    "Given 2D list calculate the sum of diagonal elements.\n",
    "\n",
    "<div class=\"ud-component--base-components--code-block\"><div><pre class=\"prettyprint linenums prettyprinted\" role=\"presentation\" style=\"\"><ol class=\"linenums\"><li class=\"L0\"><span class=\"pln\">myList2D</span><span class=\"pun\">=</span><span class=\"pln\"> </span><span class=\"pun\">[[</span><span class=\"lit\">1</span><span class=\"pun\">,</span><span class=\"lit\">2</span><span class=\"pun\">,</span><span class=\"lit\">3</span><span class=\"pun\">],[</span><span class=\"lit\">4</span><span class=\"pun\">,</span><span class=\"lit\">5</span><span class=\"pun\">,</span><span class=\"lit\">6</span><span class=\"pun\">],[</span><span class=\"lit\">7</span><span class=\"pun\">,</span><span class=\"lit\">8</span><span class=\"pun\">,</span><span class=\"lit\">9</span><span class=\"pun\">]]</span><span class=\"pln\"> </span></li><li class=\"L1\"><span class=\"pln\">&nbsp;</span></li><li class=\"L2\"><span class=\"pln\">sumDiagonal</span><span class=\"pun\">(</span><span class=\"pln\">myList2D</span><span class=\"pun\">)</span><span class=\"pln\"> </span><span class=\"com\"># 15</span></li></ol></pre></div></div>"
   ]
  },
  {
   "cell_type": "code",
   "execution_count": 58,
   "id": "f6fec41a",
   "metadata": {},
   "outputs": [
    {
     "data": {
      "text/plain": [
       "15"
      ]
     },
     "execution_count": 58,
     "metadata": {},
     "output_type": "execute_result"
    }
   ],
   "source": [
    "def sum_diagonal(arr):\n",
    "    result = 0\n",
    "    for i in range(len(arr)):\n",
    "        result += arr[i][i]\n",
    "    return result\n",
    "    \n",
    "arr = [[1,2,3],[4,5,6],[7,8,9]]\n",
    "sum_diagonal(arr)"
   ]
  },
  {
   "cell_type": "markdown",
   "id": "e9ee0659",
   "metadata": {},
   "source": [
    "# Interview Question 8\n",
    "\n",
    "Given a list, write a function to get first, second best scores from the list. List may contain duplicates.\n",
    "\n",
    "<div class=\"ud-component--base-components--code-block\"><div><pre class=\"prettyprint linenums prettyprinted\" role=\"presentation\" style=\"\"><ol class=\"linenums\"><li class=\"L0\"><span class=\"pln\">myList </span><span class=\"pun\">=</span><span class=\"pln\"> </span><span class=\"pun\">[</span><span class=\"lit\">84</span><span class=\"pun\">,</span><span class=\"lit\">85</span><span class=\"pun\">,</span><span class=\"lit\">86</span><span class=\"pun\">,</span><span class=\"lit\">87</span><span class=\"pun\">,</span><span class=\"lit\">85</span><span class=\"pun\">,</span><span class=\"lit\">90</span><span class=\"pun\">,</span><span class=\"lit\">85</span><span class=\"pun\">,</span><span class=\"lit\">83</span><span class=\"pun\">,</span><span class=\"lit\">23</span><span class=\"pun\">,</span><span class=\"lit\">45</span><span class=\"pun\">,</span><span class=\"lit\">84</span><span class=\"pun\">,</span><span class=\"lit\">1</span><span class=\"pun\">,</span><span class=\"lit\">2</span><span class=\"pun\">,</span><span class=\"lit\">0</span><span class=\"pun\">]</span></li><li class=\"L1\"><span class=\"pln\">firstSecond</span><span class=\"pun\">(</span><span class=\"pln\">myList</span><span class=\"pun\">)</span><span class=\"pln\"> </span><span class=\"com\"># 90 87</span></li></ol></pre></div></div>"
   ]
  },
  {
   "cell_type": "code",
   "execution_count": 73,
   "id": "432317d5",
   "metadata": {},
   "outputs": [
    {
     "data": {
      "text/plain": [
       "(90, 87)"
      ]
     },
     "execution_count": 73,
     "metadata": {},
     "output_type": "execute_result"
    }
   ],
   "source": [
    "def find_two_best_scores(arr):\n",
    "    first = arr[0]\n",
    "    second = 0\n",
    "    \n",
    "    for i in range(1,len(arr)):\n",
    "        if first < arr[i]:\n",
    "            second = first\n",
    "            first = arr[i]\n",
    "        elif second < arr[i]:\n",
    "            second = arr[i]\n",
    "        \n",
    "    return first, second\n",
    "\n",
    "myList = [84,85,86,87,85,90,85,83,23,45,84,1,2,0]\n",
    "find_two_best_scores(myList)"
   ]
  },
  {
   "cell_type": "markdown",
   "id": "b43b5cbf",
   "metadata": {},
   "source": [
    "# Interview Question 9\n",
    "\n",
    "Write a function to find the missing number in a given integer array of 1 to 100.\n",
    "\n",
    "<div class=\"ud-component--base-components--code-block\"><div><pre class=\"prettyprint linenums prettyprinted\" role=\"presentation\" style=\"\"><ol class=\"linenums\"><li class=\"L0\"><span class=\"pln\">missingNumber</span><span class=\"pun\">([</span><span class=\"lit\">1</span><span class=\"pun\">,</span><span class=\"pln\"> </span><span class=\"lit\">2</span><span class=\"pun\">,</span><span class=\"pln\"> </span><span class=\"lit\">3</span><span class=\"pun\">,</span><span class=\"pln\"> </span><span class=\"lit\">4</span><span class=\"pun\">,</span><span class=\"pln\"> </span><span class=\"lit\">6</span><span class=\"pun\">],</span><span class=\"pln\"> </span><span class=\"lit\">6</span><span class=\"pun\">)</span><span class=\"pln\"> </span><span class=\"com\"># 5</span></li></ol></pre></div></div>"
   ]
  },
  {
   "cell_type": "code",
   "execution_count": 75,
   "id": "6e2fa23a",
   "metadata": {},
   "outputs": [
    {
     "data": {
      "text/plain": [
       "5"
      ]
     },
     "execution_count": 75,
     "metadata": {},
     "output_type": "execute_result"
    }
   ],
   "source": [
    "def find_missing_num(arr, total):\n",
    "    return ((total*(total+1))//2) - sum(arr)\n",
    "\n",
    "find_missing_num([1, 2, 3, 4, 6], 6)"
   ]
  },
  {
   "cell_type": "markdown",
   "id": "ca3fa30c",
   "metadata": {},
   "source": [
    "# Interview Question 10\n",
    "\n",
    "Write a function to find the duplicate number on given integer array/list.\n",
    "\n",
    "<div class=\"ud-component--base-components--code-block\"><div><pre class=\"prettyprint linenums prettyprinted\" role=\"presentation\" style=\"\"><ol class=\"linenums\"><li class=\"L0\"><span class=\"pln\">removeDuplicates</span><span class=\"pun\">([</span><span class=\"lit\">1</span><span class=\"pun\">,</span><span class=\"pln\"> </span><span class=\"lit\">1</span><span class=\"pun\">,</span><span class=\"pln\"> </span><span class=\"lit\">2</span><span class=\"pun\">,</span><span class=\"pln\"> </span><span class=\"lit\">2</span><span class=\"pun\">,</span><span class=\"pln\"> </span><span class=\"lit\">3</span><span class=\"pun\">,</span><span class=\"pln\"> </span><span class=\"lit\">4</span><span class=\"pun\">,</span><span class=\"pln\"> </span><span class=\"lit\">5</span><span class=\"pun\">])</span></li><li class=\"L1\"><span class=\"typ\">Output</span><span class=\"pln\"> </span><span class=\"pun\">:</span><span class=\"pln\"> </span><span class=\"pun\">[</span><span class=\"lit\">1</span><span class=\"pun\">,</span><span class=\"pln\"> </span><span class=\"lit\">2</span><span class=\"pun\">,</span><span class=\"pln\"> </span><span class=\"lit\">3</span><span class=\"pun\">,</span><span class=\"pln\"> </span><span class=\"lit\">4</span><span class=\"pun\">,</span><span class=\"pln\"> </span><span class=\"lit\">5</span><span class=\"pun\">]</span></li></ol></pre></div></div>"
   ]
  },
  {
   "cell_type": "code",
   "execution_count": 79,
   "id": "9b5f40b4",
   "metadata": {},
   "outputs": [
    {
     "data": {
      "text/plain": [
       "[1, 2, 3, 4, 5]"
      ]
     },
     "execution_count": 79,
     "metadata": {},
     "output_type": "execute_result"
    }
   ],
   "source": [
    "def remove_duplicate(arr):\n",
    "    aux = set()\n",
    "    result = []\n",
    "    \n",
    "    for i in range(len(arr)):\n",
    "        if arr[i] in aux:\n",
    "            continue\n",
    "        aux.add(arr[i])\n",
    "        result.append(arr[i])\n",
    "        \n",
    "    return result\n",
    "\n",
    "remove_duplicate([1, 1, 2, 2, 3, 4, 5])"
   ]
  },
  {
   "cell_type": "markdown",
   "id": "1c6f2814",
   "metadata": {},
   "source": [
    "# Interview Question 11\n",
    "\n",
    "Write a function to find all pairs of an integer array whose sum is equal to a given number.\n",
    "\n",
    "<div class=\"ud-component--base-components--code-block\"><div><pre class=\"prettyprint linenums prettyprinted\" role=\"presentation\" style=\"\"><ol class=\"linenums\"><li class=\"L0\"><span class=\"pln\">pairSum</span><span class=\"pun\">([</span><span class=\"lit\">2</span><span class=\"pun\">,</span><span class=\"pln\"> </span><span class=\"lit\">4</span><span class=\"pun\">,</span><span class=\"pln\"> </span><span class=\"lit\">3</span><span class=\"pun\">,</span><span class=\"pln\"> </span><span class=\"lit\">5</span><span class=\"pun\">,</span><span class=\"pln\"> </span><span class=\"lit\">6</span><span class=\"pun\">,</span><span class=\"pln\"> </span><span class=\"pun\">-</span><span class=\"lit\">2</span><span class=\"pun\">,</span><span class=\"pln\"> </span><span class=\"lit\">4</span><span class=\"pun\">,</span><span class=\"pln\"> </span><span class=\"lit\">7</span><span class=\"pun\">,</span><span class=\"pln\"> </span><span class=\"lit\">8</span><span class=\"pun\">,</span><span class=\"pln\"> </span><span class=\"lit\">9</span><span class=\"pun\">],</span><span class=\"lit\">7</span><span class=\"pun\">)</span></li><li class=\"L1\"><span class=\"typ\">Output</span><span class=\"pln\"> </span><span class=\"pun\">:</span><span class=\"pln\"> </span><span class=\"pun\">[</span><span class=\"str\">'2+5'</span><span class=\"pun\">,</span><span class=\"pln\"> </span><span class=\"str\">'4+3'</span><span class=\"pun\">,</span><span class=\"pln\"> </span><span class=\"str\">'3+4'</span><span class=\"pun\">,</span><span class=\"pln\"> </span><span class=\"str\">'-2+9'</span><span class=\"pun\">]</span></li></ol></pre></div></div>"
   ]
  },
  {
   "cell_type": "code",
   "execution_count": null,
   "id": "7869be04",
   "metadata": {},
   "outputs": [],
   "source": [
    "def find_pair_sum(arr, target):\n",
    "    result = []\n",
    "    \n",
    "    for i in range(len(arr)):\n",
    "        for j in range(i+1,len(arr)):\n",
    "            if arr[i] + arr[j] == target:\n",
    "                if arr[j] >= 0:\n",
    "                    result.append(str(arr[i]) + \"+\" + str(arr[j]))\n",
    "                else:\n",
    "                    result.append(str(arr[i]) + \"-\" + str(arr[j]))\n",
    "            \n",
    "    return result\n",
    "\n",
    "find_pair_sum([2, 4, 3, 5, 6, -2, 4, 7, 8, 9],7)"
   ]
  },
  {
   "cell_type": "markdown",
   "id": "5d242651",
   "metadata": {},
   "source": [
    "# Interview Question 12\n",
    "\n",
    "Given an array A[] consisting 0s, 1s and 2s. The task is to write a function that sorts the given array. The functions should put all 0s first, then all 1s and all 2s in last.\n",
    "\n",
    "Input: {0, 1, 1, 0, 1, 2, 1, 2, 0, 0, 0, 1}\n",
    "\n",
    "Output: {0, 0, 0, 0, 0, 1, 1, 1, 1, 1, 2, 2}"
   ]
  },
  {
   "cell_type": "code",
   "execution_count": 6,
   "id": "8f6a7b77",
   "metadata": {},
   "outputs": [
    {
     "data": {
      "text/plain": [
       "[0, 0, 0, 0, 0, 1, 1, 1, 1, 1, 2, 2]"
      ]
     },
     "execution_count": 6,
     "metadata": {},
     "output_type": "execute_result"
    }
   ],
   "source": [
    "# TC: O(n), SC: O(1)\n",
    "def sort_012(arr):\n",
    "    low = mid = 0\n",
    "    high = len(arr)-1\n",
    "    \n",
    "    while mid <= high:\n",
    "        if arr[mid] == 0:\n",
    "            arr[mid], arr[low] = arr[low], arr[mid]\n",
    "            low += 1\n",
    "            mid += 1\n",
    "        elif arr[mid] == 1:\n",
    "            mid += 1            \n",
    "        else:\n",
    "            arr[high], arr[mid] = arr[mid], arr[high]\n",
    "            high -= 1\n",
    "            \n",
    "    return arr\n",
    "\n",
    "array = [0, 1, 1, 0, 1, 2, 1, 2, 0, 0, 0, 1]\n",
    "sort_012(array)"
   ]
  }
 ],
 "metadata": {
  "kernelspec": {
   "display_name": "Python 3 (ipykernel)",
   "language": "python",
   "name": "python3"
  },
  "language_info": {
   "codemirror_mode": {
    "name": "ipython",
    "version": 3
   },
   "file_extension": ".py",
   "mimetype": "text/x-python",
   "name": "python",
   "nbconvert_exporter": "python",
   "pygments_lexer": "ipython3",
   "version": "3.8.9"
  }
 },
 "nbformat": 4,
 "nbformat_minor": 5
}
