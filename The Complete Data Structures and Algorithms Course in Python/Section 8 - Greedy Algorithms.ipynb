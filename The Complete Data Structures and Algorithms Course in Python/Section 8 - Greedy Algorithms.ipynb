{
 "cells": [
  {
   "cell_type": "markdown",
   "id": "0587cec1",
   "metadata": {},
   "source": [
    "# Section 8: Greedy Algorithms\n",
    "\n",
    "A greedy algorithm is an approach for solving a problem by selecting the best option available at the moment. It doesn't worry whether the current best result will bring the overall optimal result. The algorithm never reverses the earlier decision even if the choice is wrong."
   ]
  },
  {
   "cell_type": "markdown",
   "id": "0908dae0",
   "metadata": {},
   "source": [
    "# Exercises"
   ]
  },
  {
   "cell_type": "markdown",
   "id": "cef514a3",
   "metadata": {},
   "source": [
    "# Activity selection problem\n",
    "\n",
    "Given N number of activities with their start and end times. We need to select the maximum\n",
    "number of activities that can be performed by a single person, assuming that a person can\n",
    "only work on a single activity at a time."
   ]
  },
  {
   "cell_type": "code",
   "execution_count": 9,
   "id": "401ae87b",
   "metadata": {},
   "outputs": [
    {
     "data": {
      "text/plain": [
       "['A2', 'A4', 'A5', 'A1', 'A6']"
      ]
     },
     "execution_count": 9,
     "metadata": {},
     "output_type": "execute_result"
    }
   ],
   "source": [
    "def select_activities(activities):\n",
    "    \n",
    "    activities = sorted(activities, key=lambda item: item[2])\n",
    "    schedule = [activities[0][0]]\n",
    "    idx = 0\n",
    "    \n",
    "    for i in range(1,len(activities)):\n",
    "        if activities[idx][1] < activities[i][1]:\n",
    "            schedule.append(activities[i][0])\n",
    "            idx += 1\n",
    "            \n",
    "    return schedule\n",
    "\n",
    "activities = [[\"A1\",5,9],[\"A2\",1,2],[\"A3\",0,6],[\"A4\",3,4],[\"A5\",5,7],[\"A6\",8,9]]\n",
    "\n",
    "select_activities(activities)"
   ]
  },
  {
   "cell_type": "markdown",
   "id": "5aeb9be5",
   "metadata": {},
   "source": [
    "# Coin Change Problem\n",
    "\n",
    "You are given coins of different denominations and a total amount of money. Find the minimum number of coins that you need to make up the given amount"
   ]
  },
  {
   "cell_type": "code",
   "execution_count": 14,
   "id": "dac09d82",
   "metadata": {},
   "outputs": [
    {
     "data": {
      "text/plain": [
       "3"
      ]
     },
     "execution_count": 14,
     "metadata": {},
     "output_type": "execute_result"
    }
   ],
   "source": [
    "# brute force - TC: O(A^N), SC: O(A)\n",
    "# this approach tries all possible solutions\n",
    "def find_minimum_num_coins(coins, amount):\n",
    "    def util(target, sum_coins=0, num=0, result=float(\"inf\")):\n",
    "        if sum_coins == target:\n",
    "            return num\n",
    "        \n",
    "        for coin in coins:\n",
    "            if coin + sum_coins <= target:\n",
    "                aux = util(target, sum_coins + coin, num+1, result)\n",
    "                if result > aux:\n",
    "                    result = aux\n",
    "                    \n",
    "        return result\n",
    "    \n",
    "    return util(amount)\n",
    "\n",
    "coins = [1,2,5]\n",
    "amount = 11\n",
    "\n",
    "find_minimum_num_coins(coins, amount)"
   ]
  },
  {
   "cell_type": "code",
   "execution_count": 34,
   "id": "87451381",
   "metadata": {},
   "outputs": [
    {
     "name": "stdout",
     "output_type": "stream",
     "text": [
      "5\n",
      "5\n",
      "2\n",
      "1\n"
     ]
    },
    {
     "data": {
      "text/plain": [
       "4"
      ]
     },
     "execution_count": 34,
     "metadata": {},
     "output_type": "execute_result"
    }
   ],
   "source": [
    "# Greedy Algorithm - TC: O(N log N), SC: O(1)\n",
    "# if coins already sorted - TC: O(N), SC: O(1)\n",
    "# this approach tries to get the max value less than amount\n",
    "def find_minimum_num_coins(coins, amount):\n",
    "    \n",
    "    coins.sort() # it makes the algorithm to be O(n log n)\n",
    "    sum_target = num_coin = 0\n",
    "    idx = len(coins)-1\n",
    "    \n",
    "    while amount >= 0 and idx >= 0:\n",
    "        if amount - coins[idx] >= 0:\n",
    "            print(coins[idx])\n",
    "            num_coin += 1\n",
    "            amount -= coins[idx]\n",
    "        else:\n",
    "            idx -= 1\n",
    "\n",
    "    if amount == 0:\n",
    "        return num_coin\n",
    "    else:\n",
    "        return -1\n",
    "\n",
    "coins = [1,2,5]\n",
    "amount = 13\n",
    "\n",
    "find_minimum_num_coins(coins, amount)"
   ]
  },
  {
   "cell_type": "markdown",
   "id": "e03f9952",
   "metadata": {},
   "source": [
    "# Fractional Knapsack Problem\n",
    "\n",
    "Given a set of items, each with a weight and a value, determine the number of each item to\n",
    "include in a collection so that the total weight is less than or equal to a given limit and the\n",
    "total value is as large as possible.\n",
    "\n",
    "__Note:__ Unlike 0/1 knapsack, you are allowed to break the item."
   ]
  },
  {
   "cell_type": "code",
   "execution_count": 51,
   "id": "d5df1517",
   "metadata": {},
   "outputs": [
    {
     "data": {
      "text/plain": [
       "240"
      ]
     },
     "execution_count": 51,
     "metadata": {},
     "output_type": "execute_result"
    }
   ],
   "source": [
    "# Greedy algorithm - TC: O(n log n), SC: O(1)\n",
    "# it takes O(n log n) because we sort the items according to their value/weight\n",
    "def maximize_profit(items, weight):\n",
    "    \n",
    "    items = sorted(items, key=lambda item: item[1]/item[2])\n",
    "    total_profit = 0\n",
    "    \n",
    "    while items and weight > 0:\n",
    "        item = items.pop()\n",
    "        if weight - item[2] > 0:\n",
    "            total_profit += item[1]\n",
    "            weight -= item[2]\n",
    "            \n",
    "        else:\n",
    "            total_profit += int(weight*(item[1]/item[2]))\n",
    "            weight -= weight\n",
    "    \n",
    "    return total_profit\n",
    "\n",
    "items = [[\"Item1\",60,10], [\"Item2\",100,20], [\"Item3\",120,30]] \n",
    "weight = 50\n",
    "\n",
    "maximize_profit(items, weight)"
   ]
  }
 ],
 "metadata": {
  "kernelspec": {
   "display_name": "Python 3 (ipykernel)",
   "language": "python",
   "name": "python3"
  },
  "language_info": {
   "codemirror_mode": {
    "name": "ipython",
    "version": 3
   },
   "file_extension": ".py",
   "mimetype": "text/x-python",
   "name": "python",
   "nbconvert_exporter": "python",
   "pygments_lexer": "ipython3",
   "version": "3.8.9"
  }
 },
 "nbformat": 4,
 "nbformat_minor": 5
}
