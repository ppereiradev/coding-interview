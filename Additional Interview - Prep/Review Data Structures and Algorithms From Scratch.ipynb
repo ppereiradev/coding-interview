{
 "cells": [
  {
   "cell_type": "markdown",
   "id": "5389109c",
   "metadata": {},
   "source": [
    "# Review Data Structures and Algorithms From Scratch"
   ]
  },
  {
   "cell_type": "markdown",
   "id": "46e63946",
   "metadata": {},
   "source": [
    "## Kadane's Algorithm (Maxium Sum Subarray)\n",
    "\n",
    "It is used to get the maxium sum in a subarray.\n",
    "\n",
    "__Input:__ [-3, -4, 5, -1, 2, -4, 6, -1]\n",
    "\n",
    "__Output:__ 8\n",
    "\n",
    "__Explanation:__ Subarray [5, -1, 2, -4, 6] is the max sum contiguous subarray with sum 8."
   ]
  },
  {
   "cell_type": "code",
   "execution_count": 123,
   "id": "9aa2184d",
   "metadata": {},
   "outputs": [
    {
     "name": "stdout",
     "output_type": "stream",
     "text": [
      "8\n"
     ]
    }
   ],
   "source": [
    "def kadane(arr):\n",
    "    max_global = max_current = arr[0]\n",
    "    \n",
    "    for i in range(1, len(arr)):\n",
    "        max_current = max(max_current+arr[i], arr[i])\n",
    "        \n",
    "        if max_global < max_current:\n",
    "            max_global = max_current\n",
    "            \n",
    "    return max_global\n",
    "    \n",
    "arr = [-3, -4, 5, -1, 2, -4, 6, -1]\n",
    "print(kadane(arr))    "
   ]
  },
  {
   "cell_type": "markdown",
   "id": "042bf738",
   "metadata": {},
   "source": [
    "## Recursion"
   ]
  },
  {
   "cell_type": "code",
   "execution_count": 274,
   "id": "cde42611",
   "metadata": {},
   "outputs": [
    {
     "name": "stdout",
     "output_type": "stream",
     "text": [
      "[5, 4, 3, 2, 1]\n"
     ]
    }
   ],
   "source": [
    "def invert(arr, idx=0):\n",
    "    if idx > len(arr)//2:        \n",
    "        return\n",
    "    \n",
    "    arr[idx], arr[len(arr)-idx-1] = arr[len(arr)-idx-1], arr[idx]\n",
    "    invert(arr, idx+1)\n",
    "    \n",
    "    \n",
    "arr = [1,2,3,4,5]\n",
    "invert(arr)\n",
    "print(arr)"
   ]
  },
  {
   "cell_type": "code",
   "execution_count": 278,
   "id": "5be0a081",
   "metadata": {},
   "outputs": [
    {
     "name": "stdout",
     "output_type": "stream",
     "text": [
      "True\n"
     ]
    }
   ],
   "source": [
    "def check_palindrome(string, idx=0):\n",
    "    if idx > len(string)//2:\n",
    "        return True\n",
    "    \n",
    "    if string[idx] != string[len(string)-idx-1]:\n",
    "        return False\n",
    "    \n",
    "    return check_palindrome(string, idx+1)\n",
    "\n",
    "s = \"MADAM\"\n",
    "print(check_palindrome(s))"
   ]
  },
  {
   "cell_type": "code",
   "execution_count": 335,
   "id": "ee887fc1",
   "metadata": {},
   "outputs": [
    {
     "name": "stdout",
     "output_type": "stream",
     "text": [
      "[[], [1], [2], [3], [1, 2], [1, 3], [2, 3], [1, 2, 3]]\n"
     ]
    }
   ],
   "source": [
    "# subsequence: a contiguous or not contiguous sequence, which follows the order of the array.\n",
    "def find_all_subseq(array):\n",
    "    def find_all_subseq_util(idx=0,subseq_current=[]):\n",
    "        if idx >= len(array):\n",
    "            result.append(subseq_current.copy())\n",
    "            return\n",
    "        \n",
    "        subseq_current.append(array[idx])\n",
    "        find_all_subseq_util(idx+1,subseq_current)\n",
    "        subseq_current.pop()\n",
    "        find_all_subseq_util(idx+1,subseq_current)\n",
    "    \n",
    "\n",
    "    \n",
    "    result = []\n",
    "    find_all_subseq_util()\n",
    "    result.sort(key=lambda item: len(item))\n",
    "    return result\n",
    "\n",
    "array = [1,2,3]\n",
    "print(find_all_subseq(array))"
   ]
  },
  {
   "cell_type": "code",
   "execution_count": 340,
   "id": "3fced10c",
   "metadata": {},
   "outputs": [
    {
     "name": "stdout",
     "output_type": "stream",
     "text": [
      "[[3], [1, 2]]\n",
      "[[3], [1, 2]]\n"
     ]
    }
   ],
   "source": [
    "# subsequence: a contiguous or not contiguous sequence, which follows the order of the array.\n",
    "def find_all_subseq_sum_k(array, k):\n",
    "    def find_all_subseq_util(idx=0,subseq_current=[], sum_temp=0):\n",
    "        \n",
    "        if idx >= len(array):\n",
    "            if sum_temp == k:\n",
    "                result.append(subseq_current.copy())\n",
    "            return\n",
    "        \n",
    "        subseq_current.append(array[idx])\n",
    "        sum_temp += array[idx]\n",
    "        find_all_subseq_util(idx+1,subseq_current, sum_temp)\n",
    "        subseq_current.pop()\n",
    "        sum_temp -= array[idx]\n",
    "        find_all_subseq_util(idx+1,subseq_current, sum_temp)\n",
    "    \n",
    "\n",
    "    \n",
    "    result = []\n",
    "    find_all_subseq_util()\n",
    "    result.sort(key=lambda item: len(item))\n",
    "    return result\n",
    "\n",
    "array = [1,2,3]\n",
    "print(find_all_subseq_sum_k(array,3))\n",
    "\n",
    "\n",
    "def find_all_subseq_sum_k(array, k):\n",
    "    def find_all_subseq_util(idx=0,subseq_current=[]):\n",
    "        \n",
    "        if idx >= len(array):\n",
    "            if sum(subseq_current) == k:\n",
    "                result.append(subseq_current.copy())\n",
    "            return\n",
    "        \n",
    "        subseq_current.append(array[idx])\n",
    "        find_all_subseq_util(idx+1,subseq_current)\n",
    "        subseq_current.pop()\n",
    "        find_all_subseq_util(idx+1,subseq_current)\n",
    "    \n",
    "\n",
    "    \n",
    "    result = []\n",
    "    find_all_subseq_util()\n",
    "    result.sort(key=lambda item: len(item))\n",
    "    return result\n",
    "\n",
    "array = [1,2,3]\n",
    "print(find_all_subseq_sum_k(array,3))"
   ]
  },
  {
   "cell_type": "code",
   "execution_count": 348,
   "id": "1c6056c0",
   "metadata": {},
   "outputs": [
    {
     "name": "stdout",
     "output_type": "stream",
     "text": [
      "[[1, 2]]\n"
     ]
    }
   ],
   "source": [
    "def find_all_subseq_sum_k(array, k):\n",
    "    def find_all_subseq_util(idx=0,subseq_current=[]):\n",
    "        \n",
    "        if idx >= len(array):\n",
    "            if sum(subseq_current) == k:\n",
    "                result.append(subseq_current.copy())\n",
    "                return True\n",
    "            return False\n",
    "        \n",
    "        subseq_current.append(array[idx])\n",
    "        if find_all_subseq_util(idx+1,subseq_current):\n",
    "            return True\n",
    "        subseq_current.pop()\n",
    "        if find_all_subseq_util(idx+1,subseq_current):\n",
    "            return True\n",
    "        \n",
    "        return False\n",
    "    \n",
    "    result = []\n",
    "    find_all_subseq_util()\n",
    "    return result\n",
    "\n",
    "array = [1,2,3]\n",
    "print(find_all_subseq_sum_k(array,3))"
   ]
  },
  {
   "cell_type": "code",
   "execution_count": 350,
   "id": "26a6ca9d",
   "metadata": {},
   "outputs": [
    {
     "name": "stdout",
     "output_type": "stream",
     "text": [
      "2\n"
     ]
    }
   ],
   "source": [
    "def find_all_subseq_sum_k(array, k):\n",
    "    def find_all_subseq_util(idx=0,subseq_current=[]):\n",
    "        \n",
    "        if idx >= len(array):\n",
    "            if sum(subseq_current) == k:\n",
    "                return 1\n",
    "            return 0\n",
    "        \n",
    "        subseq_current.append(array[idx])\n",
    "        take = find_all_subseq_util(idx+1,subseq_current)\n",
    "        subseq_current.pop()\n",
    "        not_take = find_all_subseq_util(idx+1,subseq_current)\n",
    "        \n",
    "        return take + not_take\n",
    "    \n",
    "    return find_all_subseq_util()\n",
    "\n",
    "array = [1,2,3]\n",
    "print(find_all_subseq_sum_k(array,3))"
   ]
  },
  {
   "cell_type": "markdown",
   "id": "c4bb5b6b",
   "metadata": {},
   "source": [
    "## 39. Combination Sum - Medium\n",
    "\n",
    "Given an array of distinct integers candidates and a target integer target, return a list of all unique combinations of candidates where the chosen numbers sum to target. You may return the combinations in any order.\n",
    "\n",
    "The same number may be chosen from candidates an unlimited number of times. Two combinations are unique if the frequency of at least one of the chosen numbers is different.\n",
    "\n",
    "It is guaranteed that the number of unique combinations that sum up to target is less than 150 combinations for the given input.\n",
    "\n",
    "__Example 1:__\n",
    "\n",
    "Input: candidates = [2,3,6,7], target = 7\n",
    "\n",
    "Output: [[2,2,3],[7]]\n",
    "\n",
    "Explanation:\n",
    "\n",
    "2 and 3 are candidates, and 2 + 2 + 3 = 7. Note that 2 can be used multiple times. 7 is a candidate, and 7 = 7.\n",
    "\n",
    "These are the only two combinations.\n",
    "\n",
    "__Example 2:__\n",
    "\n",
    "Input: candidates = [2,3,5], target = 8\n",
    "\n",
    "Output: [[2,2,2,2],[2,3,3],[3,5]]\n",
    "\n",
    "__Example 3:__\n",
    "\n",
    "Input: candidates = [2], target = 1\n",
    "\n",
    "Output: []"
   ]
  },
  {
   "cell_type": "code",
   "execution_count": 352,
   "id": "7b3438e8",
   "metadata": {},
   "outputs": [
    {
     "data": {
      "text/plain": [
       "[[2, 2, 2, 2], [2, 3, 3], [3, 5]]"
      ]
     },
     "execution_count": 352,
     "metadata": {},
     "output_type": "execute_result"
    }
   ],
   "source": [
    "def find_combination_sum(arr, target):\n",
    "    def util(idx=0,temp=[]):\n",
    "        if sum(temp) >= target or idx >= len(arr):\n",
    "            if sum(temp) == target:\n",
    "                result.append(temp.copy())\n",
    "            return\n",
    "        \n",
    "        temp.append(arr[idx])\n",
    "        util(idx, temp)\n",
    "        temp.pop()\n",
    "        util(idx+1,temp)\n",
    "        \n",
    "    result = []\n",
    "    util()\n",
    "    return result\n",
    "\n",
    "candidates = [2,3,5]\n",
    "target = 8\n",
    "find_combination_sum(candidates, target)"
   ]
  },
  {
   "cell_type": "markdown",
   "id": "2d983fda",
   "metadata": {},
   "source": [
    "# 40. Combination Sum II - Medium\n",
    "\n",
    "Given a collection of candidate numbers (candidates) and a target number (target), find all unique combinations in candidates where the candidate numbers sum to target.\n",
    "\n",
    "Each number in candidates may only be used once in the combination.\n",
    "\n",
    "Note: The solution set must not contain duplicate combinations.\n",
    "\n",
    " \n",
    "\n",
    "__Example 1:__\n",
    "\n",
    "Input:\n",
    "\n",
    "candidates = [10,1,2,7,6,1,5]\n",
    "\n",
    "target = 8\n",
    "\n",
    "Output: \n",
    "[\n",
    "[1,1,6],\n",
    "[1,2,5],\n",
    "[1,7],\n",
    "[2,6]\n",
    "]\n",
    "\n",
    "__Example 2:__\n",
    "\n",
    "Input: candidates = [2,5,2,1,2], target = 5\n",
    "\n",
    "Output: \n",
    "[\n",
    "[1,2,2],\n",
    "[5]\n",
    "]"
   ]
  },
  {
   "cell_type": "code",
   "execution_count": 373,
   "id": "e3133455",
   "metadata": {},
   "outputs": [
    {
     "data": {
      "text/plain": [
       "{(1, 1, 6), (1, 2, 5), (1, 7), (2, 6)}"
      ]
     },
     "execution_count": 373,
     "metadata": {},
     "output_type": "execute_result"
    }
   ],
   "source": [
    "def find_combinations(arr, target):\n",
    "    def find_combinations_recursion(idx=0,temp=[]):\n",
    "        if idx >= len(arr):\n",
    "            if sum(temp) == target:\n",
    "                result.add(tuple(sorted(temp)))\n",
    "            return\n",
    "                    \n",
    "        temp.append(arr[idx])\n",
    "        find_combinations_recursion(idx+1,temp)\n",
    "        temp.pop()\n",
    "        find_combinations_recursion(idx+1,temp)\n",
    "    \n",
    "    result = set()\n",
    "    find_combinations_recursion()\n",
    "    return result\n",
    "\n",
    "candidates = [10,1,2,7,6,1,5]\n",
    "target = 8\n",
    "find_combinations(candidates, target)"
   ]
  },
  {
   "cell_type": "markdown",
   "id": "1b4694bf",
   "metadata": {},
   "source": [
    "# Subset Sums \n",
    "\n",
    "Given a list arr of N integers, print sums of all subsets in it.\n",
    " \n",
    "__Example 1:__\n",
    "\n",
    "Input:\n",
    "N = 2\n",
    "arr[] = {2, 3}\n",
    "\n",
    "Output:\n",
    "0 2 3 5\n",
    "\n",
    "Explanation:\n",
    "When no elements is taken then Sum = 0.\n",
    "When only 2 is taken then Sum = 2.\n",
    "When only 3 is taken then Sum = 3.\n",
    "When element 2 and 3 are taken then \n",
    "Sum = 2+3 = 5.\n",
    "\n",
    "__Example 2:__\n",
    "\n",
    "Input:\n",
    "N = 3\n",
    "arr = {5, 2, 1}\n",
    "\n",
    "Output:\n",
    "0 1 2 3 5 6 7 8\n",
    "\n",
    "Your Task:  \n",
    "You don't need to read input or print anything. Your task is to complete the function subsetSums() which takes a list/vector and an integer N as an input parameter and return the list/vector of all the subset sums.\n"
   ]
  },
  {
   "cell_type": "code",
   "execution_count": 375,
   "id": "eb0f4796",
   "metadata": {},
   "outputs": [
    {
     "data": {
      "text/plain": [
       "[0, 1, 2, 3, 5, 6, 7, 8]"
      ]
     },
     "execution_count": 375,
     "metadata": {},
     "output_type": "execute_result"
    }
   ],
   "source": [
    "def sum_subsets(arr):\n",
    "    def sum_subsets_util(idx=0, temp=[]):\n",
    "        if idx >= len(arr):\n",
    "            result.append(sum(temp))\n",
    "            return\n",
    "\n",
    "        temp.append(arr[idx])\n",
    "        sum_subsets_util(idx+1, temp)\n",
    "        temp.pop()\n",
    "        sum_subsets_util(idx+1, temp)\n",
    "    \n",
    "    result = []\n",
    "    sum_subsets_util()\n",
    "    return sorted(result)\n",
    "\n",
    "arr = [5, 2, 1]\n",
    "sum_subsets(arr)"
   ]
  },
  {
   "cell_type": "markdown",
   "id": "4e424eb7",
   "metadata": {},
   "source": [
    "## 46. Permutations - Medium\n",
    "\n",
    "Given an array nums of distinct integers, return all the possible permutations. You can return the answer in any order.\n",
    "\n",
    " \n",
    "\n",
    "Example 1:\n",
    "\n",
    "Input: nums = [1,2,3]\n",
    "\n",
    "Output: [[1,2,3],[1,3,2],[2,1,3],[2,3,1],[3,1,2],[3,2,1]]\n",
    "\n",
    "Example 2:\n",
    "\n",
    "Input: nums = [0,1]\n",
    "\n",
    "Output: [[0,1],[1,0]]\n",
    "\n",
    "Example 3:\n",
    "\n",
    "Input: nums = [1]\n",
    "\n",
    "Output: [[1]]"
   ]
  },
  {
   "cell_type": "code",
   "execution_count": 384,
   "id": "7e20ee08",
   "metadata": {},
   "outputs": [
    {
     "data": {
      "text/plain": [
       "[[1, 2, 3], [1, 3, 2], [2, 1, 3], [2, 3, 1], [3, 2, 1], [3, 1, 2]]"
      ]
     },
     "execution_count": 384,
     "metadata": {},
     "output_type": "execute_result"
    }
   ],
   "source": [
    "def find_permutation(arr):\n",
    "    def find_permutation_recursion(idx=0):\n",
    "        if idx >= len(arr):\n",
    "            result.append(arr.copy())\n",
    "            return\n",
    "        \n",
    "        for i in range(idx, len(arr)):\n",
    "            arr[idx], arr[i] = arr[i], arr[idx]\n",
    "            find_permutation_recursion(idx+1)\n",
    "            arr[idx], arr[i] = arr[i], arr[idx]\n",
    "\n",
    "    result = []\n",
    "    find_permutation_recursion()\n",
    "    return result\n",
    "\n",
    "nums=[1,2,3]\n",
    "find_permutation(nums)"
   ]
  },
  {
   "cell_type": "markdown",
   "id": "b26ae700",
   "metadata": {},
   "source": [
    "## 51. N-Queens - Hard\n",
    "    \n",
    "<div><p>The <strong>n-queens</strong> puzzle is the problem of placing <code>n</code> queens on an <code>n x n</code> chessboard such that no two queens attack each other.</p>\n",
    "\n",
    "<p>Given an integer <code>n</code>, return <em>all distinct solutions to the <strong>n-queens puzzle</strong></em>. You may return the answer in <strong>any order</strong>.</p>\n",
    "\n",
    "<p>Each solution contains a distinct board configuration of the n-queens' placement, where <code>'Q'</code> and <code>'.'</code> both indicate a queen and an empty space, respectively.</p>\n",
    "\n",
    "<p>&nbsp;</p>\n",
    "<p><strong>Example 1:</strong></p>\n",
    "<img alt=\"\" src=\"https://assets.leetcode.com/uploads/2020/11/13/queens.jpg\" style=\"width: 600px; height: 268px;\">\n",
    "<pre><strong>Input:</strong> n = 4\n",
    "<strong>Output:</strong> [[\".Q..\",\"...Q\",\"Q...\",\"..Q.\"],[\"..Q.\",\"Q...\",\"...Q\",\".Q..\"]]\n",
    "<strong>Explanation:</strong> There exist two distinct solutions to the 4-queens puzzle as shown above\n",
    "</pre>\n",
    "\n",
    "<p><strong>Example 2:</strong></p>\n",
    "\n",
    "<pre><strong>Input:</strong> n = 1\n",
    "<strong>Output:</strong> [[\"Q\"]]\n",
    "</pre>"
   ]
  },
  {
   "cell_type": "code",
   "execution_count": 409,
   "id": "8a647cc6",
   "metadata": {},
   "outputs": [
    {
     "data": {
      "text/plain": [
       "[[['.', '.', 'Q', '.'],\n",
       "  ['Q', '.', '.', '.'],\n",
       "  ['.', '.', '.', 'Q'],\n",
       "  ['.', 'Q', '.', '.']],\n",
       " [['.', 'Q', '.', '.'],\n",
       "  ['.', '.', '.', 'Q'],\n",
       "  ['Q', '.', '.', '.'],\n",
       "  ['.', '.', 'Q', '.']]]"
      ]
     },
     "execution_count": 409,
     "metadata": {},
     "output_type": "execute_result"
    }
   ],
   "source": [
    "def find_nqueens_position(n):\n",
    "    def is_safe(row, col):\n",
    "        row_aux, col_aux = row-1, col-1\n",
    "        while row_aux >= 0 and col_aux >= 0:\n",
    "            if board[row_aux][col_aux] == \"Q\":\n",
    "                return False\n",
    "            row_aux -= 1\n",
    "            col_aux -= 1\n",
    "        \n",
    "        col_aux = col-1\n",
    "        while col_aux >= 0:\n",
    "            if board[row][col_aux] == \"Q\":\n",
    "                return False\n",
    "            col_aux -= 1\n",
    "        \n",
    "        row_aux, col_aux = row+1, col-1\n",
    "        while row_aux < len(board) and col_aux >= 0:\n",
    "            if board[row_aux][col_aux] == \"Q\":\n",
    "                return False\n",
    "            row_aux += 1\n",
    "            col_aux -= 1\n",
    "            \n",
    "        return True\n",
    "        \n",
    "    def find_nqueens_position_recursive(col=0):\n",
    "        if col >= n:\n",
    "            result.append([row[:] for row in board])\n",
    "            return\n",
    "        \n",
    "        for i in range(len(board)):\n",
    "            board[i][col] = \"Q\"\n",
    "            if is_safe(i, col):\n",
    "                find_nqueens_position_recursive(col+1)\n",
    "            board[i][col] = \".\"\n",
    "    \n",
    "    board = [[\".\"]*n for i in range(n)]\n",
    "    result = []\n",
    "    find_nqueens_position_recursive()\n",
    "    return result\n",
    "    \n",
    "find_nqueens_position(4)"
   ]
  },
  {
   "cell_type": "markdown",
   "id": "86608a3f",
   "metadata": {},
   "source": [
    "## 131. Palindrome Partitioning - Medium\n",
    "\n",
    "Given a string s, partition s such that every substring of the partition is a palindrome. Return all possible palindrome partitioning of s.\n",
    "\n",
    "A palindrome string is a string that reads the same backward as forward.\n",
    "\n",
    "__Example 1:__\n",
    "\n",
    "Input: s = \"aab\"\n",
    "\n",
    "Output: [[\"a\",\"a\",\"b\"],[\"aa\",\"b\"]]\n",
    "\n",
    "__Example 2:__\n",
    "\n",
    "Input: s = \"a\"\n",
    "\n",
    "Output: [[\"a\"]]"
   ]
  },
  {
   "cell_type": "code",
   "execution_count": 465,
   "id": "1ad8bc88",
   "metadata": {},
   "outputs": [
    {
     "data": {
      "text/plain": [
       "[['a', 'a', 'b'], ['aa', 'a', 'b']]"
      ]
     },
     "execution_count": 465,
     "metadata": {},
     "output_type": "execute_result"
    }
   ],
   "source": [
    "def partition(string):\n",
    "    def is_palindrome(substring):\n",
    "        start = 0\n",
    "        end = len(substring)-1\n",
    "        \n",
    "        while start <= end:\n",
    "            if substring[start] != substring[end]:\n",
    "                return False\n",
    "            start += 1\n",
    "            end -= 1\n",
    "            \n",
    "        return True\n",
    "    \n",
    "    def partition_recursive(substring, idx=0, temp=[]):\n",
    "        if idx >= len(substring):\n",
    "            result.append(temp.copy())\n",
    "            return\n",
    "        \n",
    "        for i in range(idx, len(substring)):\n",
    "            if is_palindrome(substring[idx:i+1]):\n",
    "                temp.append(substring[idx:i+1])\n",
    "                partition_recursive(substring, idx+1, temp)\n",
    "                temp.pop()\n",
    "                \n",
    "    result = []\n",
    "    partition_recursive(string)\n",
    "    return result\n",
    "\n",
    "s = \"aab\"\n",
    "partition(s)"
   ]
  },
  {
   "cell_type": "markdown",
   "id": "3aab1ce0",
   "metadata": {},
   "source": [
    "## Rat in a Maze Problem - I - Medium\n",
    "\n",
    "Consider a rat placed at (0, 0) in a square matrix of order N * N. It has to reach the destination at (N - 1, N - 1).\n",
    "\n",
    "Find all possible paths that the rat can take to reach from source to destination. The directions in which the rat can move are 'U'(up), 'D'(down), 'L' (left), 'R' (right). Value 0 at a cell in the matrix represents that it is blocked and rat cannot move to it while value 1 at a cell in the matrix represents that rat can be travel through it.\n",
    "\n",
    "__Note:__ In a path, no cell can be visited more than one time. If the source cell is 0, the rat cannot move to any other cell.\n",
    "\n",
    "__Example 1:__\n",
    "\n",
    "Input:\n",
    "\n",
    "N = 4\n",
    "\n",
    "m[][] = {{1, 0, 0, 0},\n",
    "         {1, 1, 0, 1}, \n",
    "         {1, 1, 0, 0},\n",
    "         {0, 1, 1, 1}}\n",
    "\n",
    "Output:\n",
    "\n",
    "[\"DDRDRR\",\"DRDDRR\"]\n",
    "\n",
    "Explanation:\n",
    "\n",
    "The rat can reach the destination at \n",
    "(3, 3) from (0, 0) by two paths - DRDDRR \n",
    "and DDRDRR, when printed in sorted order \n",
    "we get DDRDRR DRDDRR.\n",
    "\n",
    "__Example 2:__\n",
    "\n",
    "Input:\n",
    "\n",
    "N = 2\n",
    "\n",
    "m[][] = {{1, 0},\n",
    "         {1, 0}}\n",
    "Output:\n",
    "-1\n",
    "\n",
    "Explanation:\n",
    "\n",
    "No path exists and destination cell is \n",
    "blocked.\n",
    "\n",
    "__Your Task:__\n",
    "You don't need to read input or print anything. Complete the function printPath() which takes N and 2D array m[ ][ ] as input parameters and returns the list of paths in lexicographically increasing order. "
   ]
  },
  {
   "cell_type": "code",
   "execution_count": 463,
   "id": "789c846b",
   "metadata": {},
   "outputs": [
    {
     "data": {
      "text/plain": [
       "['DDRDRR', 'DRDDRR']"
      ]
     },
     "execution_count": 463,
     "metadata": {},
     "output_type": "execute_result"
    }
   ],
   "source": [
    "def find_path(maze):\n",
    "    def util(row=0, col=0, path=\"\"):\n",
    "        if row == len(maze)-1 and col == len(maze[0])-1:\n",
    "            result.append(path)\n",
    "            return\n",
    "        if ((row >= len(maze) or row < 0) or \n",
    "            (col >= len(maze[0]) or col < 0)) or maze[row][col] == 0:\n",
    "            return\n",
    "        \n",
    "        for key in directions:\n",
    "            temp = maze[row][col]\n",
    "            maze[row][col] = 0\n",
    "            util(row + directions[key][0], col + directions[key][1], path+key)\n",
    "            maze[row][col] = temp\n",
    "            \n",
    "    result = []\n",
    "    directions = {\"U\":(-1,0), \"D\":(1,0), \"L\":(0,-1), \"R\":(0,1)}\n",
    "    util()\n",
    "    return result\n",
    "        \n",
    "\n",
    "maze = [[1, 0, 0, 0], [1, 1, 0, 1], [1, 1, 0, 0], [0, 1, 1, 1]]\n",
    "find_path(maze)"
   ]
  },
  {
   "cell_type": "code",
   "execution_count": null,
   "id": "6a341710",
   "metadata": {},
   "outputs": [],
   "source": []
  },
  {
   "cell_type": "code",
   "execution_count": null,
   "id": "0dd257d3",
   "metadata": {},
   "outputs": [],
   "source": []
  },
  {
   "cell_type": "markdown",
   "id": "0b8add7c",
   "metadata": {},
   "source": [
    "## Linked List"
   ]
  },
  {
   "cell_type": "code",
   "execution_count": 47,
   "id": "11f1e348",
   "metadata": {},
   "outputs": [],
   "source": [
    "# Singly-Linked List\n",
    "class SinglyLinkedList:\n",
    "    class Node:\n",
    "        def __init__(self, data):\n",
    "            self.data = data\n",
    "            self.next = None\n",
    "            \n",
    "        def __str__(self, node):\n",
    "            if node.next:\n",
    "                return str(node.data) + \"->\" + self.__str__(node.next)\n",
    "            else:\n",
    "                return str(node.data)\n",
    "            \n",
    "    def __init__(self):\n",
    "        self.head = None\n",
    "        self.tail = None\n",
    "        self.size = 0\n",
    "        \n",
    "    def insert_head(self, data):\n",
    "        node = self.Node(data)\n",
    "        \n",
    "        if self.head is None:\n",
    "            self.head = node\n",
    "            self.tail = node\n",
    "            \n",
    "        else:\n",
    "            node.next = self.head\n",
    "            self.head = node\n",
    "            \n",
    "        self.size += 1\n",
    "        \n",
    "    def insert_tail(self, data):\n",
    "        node = self.Node(data)\n",
    "        \n",
    "        if self.tail is None:\n",
    "            self.head = node\n",
    "            self.tail = node\n",
    "            \n",
    "        else:\n",
    "            self.tail.next = node\n",
    "            self.tail = node\n",
    "            \n",
    "        self.size += 1\n",
    "        \n",
    "    def remove_head(self):\n",
    "        if self.head:\n",
    "            output = self.head\n",
    "            self.head = self.head.next\n",
    "            self.size -= 1\n",
    "            return output.data\n",
    "        \n",
    "        raise Exception(\"Head is None!\")\n",
    "        \n",
    "    def remove_tail(self):\n",
    "        if self.tail:\n",
    "            output = self.tail\n",
    "            curr = self.head\n",
    "            while curr.next != self.tail:\n",
    "                curr = curr.next\n",
    "                \n",
    "            self.tail = curr\n",
    "            self.tail.next = None\n",
    "            self.size -= 1\n",
    "            return output.data\n",
    "        \n",
    "        raise Exception(\"Tail is None!\")\n",
    "        \n",
    "    def __str__(self):\n",
    "        return self.head.__str__(self.head)\n",
    "\n",
    "    \n",
    "# Doubly-Linked List\n",
    "class DoublyLinkedList:\n",
    "    class Node:\n",
    "        def __init__(self, data):\n",
    "            self.data = data\n",
    "            self.prev = None\n",
    "            self.next = None\n",
    "        \n",
    "        def __str__(self, node):\n",
    "            if node.next:\n",
    "                return str(node.data) + \"<->\" + self.__str__(node.next)\n",
    "            else:\n",
    "                return str(node.data)\n",
    "            \n",
    "    def __init__(self):\n",
    "        self.head = None\n",
    "        self.tail = None\n",
    "        self.size = 0\n",
    "        \n",
    "    def insert_head(self, data):\n",
    "        node = self.Node(data)\n",
    "        \n",
    "        if self.head is None:\n",
    "            self.head = node\n",
    "            self.tail = node\n",
    "            self.size += 1\n",
    "            \n",
    "        else:\n",
    "            node.next = self.head\n",
    "            self.head.prev = node\n",
    "            self.head = node\n",
    "            self.size += 1\n",
    "            \n",
    "    def insert_tail(self, data):\n",
    "        node = self.Node(data)\n",
    "        \n",
    "        if self.tail is None:\n",
    "            self.head = node\n",
    "            self.tail = node\n",
    "            self.size += 1\n",
    "            \n",
    "        else:\n",
    "            node.prev = self.tail\n",
    "            self.tail.next = node\n",
    "            self.tail = node\n",
    "            self.size += 1\n",
    "            \n",
    "    def remove_head(self):\n",
    "        if self.head:\n",
    "            output = self.head\n",
    "            self.head = self.head.next\n",
    "            self.head.prev = None\n",
    "            self.size -= 1\n",
    "            return output.data\n",
    "        \n",
    "        raise Exception(\"Head is None!\")\n",
    "        \n",
    "    def remove_tail(self):\n",
    "        if self.tail:\n",
    "            output = self.tail\n",
    "            self.tail = self.tail.prev\n",
    "            self.tail.next = None\n",
    "            self.size -= 1\n",
    "            return output.data\n",
    "        \n",
    "        raise Exception(\"Tail is None!\")\n",
    "    \n",
    "    def __str__(self):\n",
    "        return self.head.__str__(self.head)"
   ]
  },
  {
   "cell_type": "code",
   "execution_count": 29,
   "id": "c06aa977",
   "metadata": {},
   "outputs": [
    {
     "name": "stdout",
     "output_type": "stream",
     "text": [
      "Singly Linked List\n",
      "\n",
      "10->9->8->7->6->5->4->3->2->1 Head: 10 Tail: 1\n",
      "10\n",
      "9->8->7->6->5->4->3->2->1 Head: 9 Tail: 1\n",
      "\n",
      "\n",
      "\n",
      "Doubly Linked List\n",
      "\n",
      "10<->9<->8<->7<->6<->5<->4<->3<->2<->1 Head: 10 Tail: 1\n",
      "10\n",
      "9<->8<->7<->6<->5<->4<->3<->2<->1 Head: 9 Tail: 1\n"
     ]
    }
   ],
   "source": [
    "print(\"Singly Linked List\\n\")\n",
    "sll = SinglyLinkedList()\n",
    "\n",
    "for i in range(1,11):\n",
    "    sll.insert_head(i)\n",
    "    \n",
    "print(sll, \"Head:\", sll.head.data, \"Tail:\", sll.tail.data)\n",
    "print(sll.remove_head())\n",
    "print(sll, \"Head:\", sll.head.data, \"Tail:\", sll.tail.data)\n",
    "\n",
    "print(\"\\n\\n\\nDoubly Linked List\\n\")\n",
    "dll = DoublyLinkedList()\n",
    "\n",
    "for i in range(1,11):\n",
    "    dll.insert_head(i)\n",
    "    \n",
    "print(dll, \"Head:\", dll.head.data, \"Tail:\", dll.tail.data)\n",
    "print(dll.remove_head())\n",
    "print(dll, \"Head:\", dll.head.data, \"Tail:\", dll.tail.data)"
   ]
  },
  {
   "cell_type": "code",
   "execution_count": 30,
   "id": "66d9fff2",
   "metadata": {},
   "outputs": [
    {
     "name": "stdout",
     "output_type": "stream",
     "text": [
      "Singly Linked List\n",
      "\n",
      "1->2->3->4->5->6->7->8->9->10 Head: 1 Tail: 10\n",
      "10\n",
      "1->2->3->4->5->6->7->8->9 Head: 1 Tail: 9\n",
      "\n",
      "\n",
      "\n",
      "Doubly Linked List\n",
      "\n",
      "10<->9<->8<->7<->6<->5<->4<->3<->2<->1 Head: 10 Tail: 1\n",
      "1\n",
      "10<->9<->8<->7<->6<->5<->4<->3<->2 Head: 10 Tail: 2\n"
     ]
    }
   ],
   "source": [
    "print(\"Singly Linked List\\n\")\n",
    "sll = SinglyLinkedList()\n",
    "\n",
    "for i in range(1,11):\n",
    "    sll.insert_tail(i)\n",
    "    \n",
    "print(sll, \"Head:\", sll.head.data, \"Tail:\", sll.tail.data)\n",
    "print(sll.remove_tail())\n",
    "print(sll, \"Head:\", sll.head.data, \"Tail:\", sll.tail.data)\n",
    "\n",
    "print(\"\\n\\n\\nDoubly Linked List\\n\")\n",
    "dll = DoublyLinkedList()\n",
    "\n",
    "for i in range(1,11):\n",
    "    dll.insert_head(i)\n",
    "    \n",
    "print(dll, \"Head:\", dll.head.data, \"Tail:\", dll.tail.data)\n",
    "print(dll.remove_tail())\n",
    "print(dll, \"Head:\", dll.head.data, \"Tail:\", dll.tail.data)"
   ]
  },
  {
   "cell_type": "markdown",
   "id": "9ae99a36",
   "metadata": {},
   "source": [
    "## Stacks and Queues"
   ]
  },
  {
   "cell_type": "code",
   "execution_count": 40,
   "id": "75aa4b06",
   "metadata": {},
   "outputs": [],
   "source": [
    "class Stack:\n",
    "    def __init__(self):\n",
    "        self.dll = DoublyLinkedList()\n",
    "        \n",
    "    def push(self, data):\n",
    "        self.dll.insert_head(data)\n",
    "        \n",
    "    def pop(self):\n",
    "        return self.dll.remove_head()\n",
    "    \n",
    "    def peek(self):\n",
    "        return self.dll.head.data\n",
    "    \n",
    "    def __str__(self):\n",
    "        return str(self.dll)"
   ]
  },
  {
   "cell_type": "code",
   "execution_count": 45,
   "id": "8c69a180",
   "metadata": {},
   "outputs": [
    {
     "name": "stdout",
     "output_type": "stream",
     "text": [
      "9<->8<->7<->6<->5<->4<->3<->2<->1\n",
      "9\n",
      "8\n",
      "7\n",
      "6<->5<->4<->3<->2<->1\n"
     ]
    }
   ],
   "source": [
    "stack = Stack()\n",
    "\n",
    "for i in range(1, 10):\n",
    "    stack.push(i)\n",
    "    \n",
    "print(stack)\n",
    "print(stack.pop())\n",
    "print(stack.pop())\n",
    "print(stack.pop())\n",
    "print(stack)"
   ]
  },
  {
   "cell_type": "code",
   "execution_count": 52,
   "id": "d7891858",
   "metadata": {},
   "outputs": [],
   "source": [
    "class Queue:\n",
    "    class Node:\n",
    "        def __init__(self, data):\n",
    "            self.data = data\n",
    "            self.next = None\n",
    "            self.prev = None\n",
    "            \n",
    "        def __str__(self, node):\n",
    "            if node.next:\n",
    "                return str(node.data) + \"->\" + self.__str__(node.next)\n",
    "            else:\n",
    "                return str(node.data)\n",
    "            \n",
    "    def __init__(self):\n",
    "        self.head = None\n",
    "        self.tail = None\n",
    "        \n",
    "    def enqueue(self, data):\n",
    "        node = self.Node(data)\n",
    "        \n",
    "        if self.head is None:\n",
    "            self.head = node\n",
    "            self.tail = node\n",
    "            \n",
    "        else:\n",
    "            self.tail.next = node\n",
    "            node.prev = self.tail\n",
    "            self.tail = node\n",
    "            \n",
    "    def dequeue(self):\n",
    "        if self.head:\n",
    "            output = self.head\n",
    "            self.head = self.head.next\n",
    "            self.head.prev = None\n",
    "            return output.data\n",
    "        \n",
    "        raise Exception(\"Queue is empty!\")\n",
    "        \n",
    "    def top(self):\n",
    "        return self.head.data\n",
    "    \n",
    "    def __str__(self):\n",
    "        return self.head.__str__(self.head)"
   ]
  },
  {
   "cell_type": "code",
   "execution_count": 54,
   "id": "46c08885",
   "metadata": {},
   "outputs": [
    {
     "name": "stdout",
     "output_type": "stream",
     "text": [
      "1->2->3->4->5->6->7->8->9->10\n",
      "1\n",
      "2->3->4->5->6->7->8->9->10 2\n",
      "2->3->4->5->6->7->8->9->10->90\n"
     ]
    }
   ],
   "source": [
    "queue = Queue()\n",
    "\n",
    "for i in range(1, 11):\n",
    "    queue.enqueue(i)\n",
    "    \n",
    "print(queue)\n",
    "print(queue.dequeue())\n",
    "print(queue, queue.top())\n",
    "queue.enqueue(90)\n",
    "print(queue)"
   ]
  },
  {
   "cell_type": "markdown",
   "id": "23cc8f5c",
   "metadata": {},
   "source": [
    "## Binary Tree"
   ]
  },
  {
   "cell_type": "code",
   "execution_count": 92,
   "id": "b92d6f14",
   "metadata": {},
   "outputs": [],
   "source": [
    "from collections import deque\n",
    "class BinaryTree:\n",
    "    class Node:\n",
    "        def __init__(self, data):\n",
    "            self.data = data\n",
    "            self.right = None\n",
    "            self.left = None\n",
    "            \n",
    "        def __str__(self, level=0):\n",
    "            res = \"  \" * level + str(self.data) + \"\\n\"\n",
    "            \n",
    "            if self.left:\n",
    "                res += self.left.__str__(level+1)\n",
    "            if self.right:\n",
    "                res += self.right.__str__(level+1)\n",
    "                \n",
    "            return res\n",
    "    \n",
    "    def __init__(self):\n",
    "        self.root = None\n",
    "        \n",
    "    def insert(self, data):\n",
    "        node = self.Node(data)\n",
    "        \n",
    "        if self.root is None:\n",
    "            self.root = node\n",
    "            \n",
    "        else:\n",
    "            dq = deque()\n",
    "            dq.append(self.root)\n",
    "            \n",
    "            while dq:\n",
    "                current = dq.popleft()\n",
    "                \n",
    "                if current.left:\n",
    "                    dq.append(current.left)\n",
    "                else:\n",
    "                    current.left = node\n",
    "                    break\n",
    "                    \n",
    "                if current.right:\n",
    "                    dq.append(current.right)\n",
    "                else:\n",
    "                    current.right = node\n",
    "                    break\n",
    "                    \n",
    "    def remove(self, data):\n",
    "        dq = deque()\n",
    "        dq.append(self.root)\n",
    "        \n",
    "        while dq:\n",
    "            deleted = dq.popleft()\n",
    "            \n",
    "            if deleted.data == data:\n",
    "                break\n",
    "            if deleted.left:\n",
    "                dq.append(deleted.left)\n",
    "            if deleted.right:\n",
    "                dq.append(deleted.right)\n",
    "        \n",
    "        most_left_node = self.most_left(deleted)\n",
    "        \n",
    "        dq = deque()\n",
    "        dq.append(self.root)\n",
    "        \n",
    "        while dq:\n",
    "            current = dq.popleft()\n",
    "            \n",
    "            if current.left == most_left_node:\n",
    "                current.left = None\n",
    "                break\n",
    "            if current.right == most_left_node:\n",
    "                current.right = None\n",
    "                break\n",
    "                \n",
    "            if current.left:\n",
    "                dq.append(current.left)\n",
    "            if current.right:\n",
    "                dq.append(current.right)\n",
    "        \n",
    "        deleted.data = most_left_node.data\n",
    "        \n",
    "        \n",
    "    def most_left(self, node):\n",
    "        if node.left is None:\n",
    "            return node\n",
    "        return self.most_left(node.left)\n",
    "            \n",
    "    \n",
    "    def __str__(self):\n",
    "        return self.root.__str__()\n",
    "                    "
   ]
  },
  {
   "cell_type": "code",
   "execution_count": 93,
   "id": "0ed700b2",
   "metadata": {},
   "outputs": [
    {
     "name": "stdout",
     "output_type": "stream",
     "text": [
      "1\n",
      "  2\n",
      "    4\n",
      "      8\n",
      "      9\n",
      "    5\n",
      "      10\n",
      "  3\n",
      "    6\n",
      "    7\n",
      "\n",
      "1\n",
      "  8\n",
      "    4\n",
      "      9\n",
      "    5\n",
      "      10\n",
      "  3\n",
      "    6\n",
      "    7\n",
      "\n"
     ]
    }
   ],
   "source": [
    "bt = BinaryTree()\n",
    "\n",
    "for i in range(1,11):\n",
    "    bt.insert(i)\n",
    "    \n",
    "print(bt)\n",
    "bt.remove(2)\n",
    "print(bt)"
   ]
  },
  {
   "cell_type": "markdown",
   "id": "517c7c98",
   "metadata": {},
   "source": [
    "## Binary Search Tree"
   ]
  },
  {
   "cell_type": "code",
   "execution_count": 118,
   "id": "4ebd68ab",
   "metadata": {},
   "outputs": [],
   "source": [
    "class BinarySearchTree:\n",
    "    class Node:\n",
    "        def __init__(self, data):\n",
    "            self.data = data\n",
    "            self.left = None\n",
    "            self.right = None\n",
    "            \n",
    "        def display(self):\n",
    "            lines, *_ = self._display_aux()\n",
    "            for line in lines:\n",
    "                print(line)\n",
    "\n",
    "        def _display_aux(self):\n",
    "            \"\"\"Returns list of strings, width, height, and horizontal coordinate of the root.\"\"\"\n",
    "            # No child.\n",
    "            if self.right is None and self.left is None:\n",
    "                line = '%s' % self.data\n",
    "                width = len(line)\n",
    "                height = 1\n",
    "                middle = width // 2\n",
    "                return [line], width, height, middle\n",
    "\n",
    "            # Only left child.\n",
    "            if self.right is None:\n",
    "                lines, n, p, x = self.left._display_aux()\n",
    "                s = '%s' % self.data\n",
    "                u = len(s)\n",
    "                first_line = (x + 1) * ' ' + (n - x - 1) * '_' + s\n",
    "                second_line = x * ' ' + '/' + (n - x - 1 + u) * ' '\n",
    "                shifted_lines = [line + u * ' ' for line in lines]\n",
    "                return [first_line, second_line] + shifted_lines, n + u, p + 2, n + u // 2\n",
    "\n",
    "            # Only right child.\n",
    "            if self.left is None:\n",
    "                lines, n, p, x = self.right._display_aux()\n",
    "                s = '%s' % self.data\n",
    "                u = len(s)\n",
    "                first_line = s + x * '_' + (n - x) * ' '\n",
    "                second_line = (u + x) * ' ' + '\\\\' + (n - x - 1) * ' '\n",
    "                shifted_lines = [u * ' ' + line for line in lines]\n",
    "                return [first_line, second_line] + shifted_lines, n + u, p + 2, u // 2\n",
    "\n",
    "            # Two children.\n",
    "            left, n, p, x = self.left._display_aux()\n",
    "            right, m, q, y = self.right._display_aux()\n",
    "            s = '%s' % self.data\n",
    "            u = len(s)\n",
    "            first_line = (x + 1) * ' ' + (n - x - 1) * '_' + s + y * '_' + (m - y) * ' '\n",
    "            second_line = x * ' ' + '/' + (n - x - 1 + u + y) * ' ' + '\\\\' + (m - y - 1) * ' '\n",
    "            if p < q:\n",
    "                left += [n * ' '] * (q - p)\n",
    "            elif q < p:\n",
    "                right += [m * ' '] * (p - q)\n",
    "            zipped_lines = zip(left, right)\n",
    "            lines = [first_line, second_line] + [a + u * ' ' + b for a, b in zipped_lines]\n",
    "            return lines, n + m + u, max(p, q) + 2, n + u // 2\n",
    "        \n",
    "    def __init__(self):\n",
    "        self.root = None\n",
    "        \n",
    "    def insert(self, data):\n",
    "        def _insert(node):\n",
    "            if node is None:\n",
    "                return self.Node(data)\n",
    "            elif data < node.data:\n",
    "                node.left = _insert(node.left)\n",
    "            else:\n",
    "                node.right = _insert(node.right)\n",
    "                \n",
    "            return node\n",
    "                \n",
    "        self.root = _insert(self.root)\n",
    "        \n",
    "    def remove(self, data):\n",
    "        def _remove(node, data):\n",
    "            if node is None:\n",
    "                return\n",
    "            elif data < node.data:\n",
    "                node.left = _remove(node.left, data)\n",
    "            elif data > node.data:\n",
    "                node.right = _remove(node.right, data)\n",
    "            else:\n",
    "                if node.left is None:\n",
    "                    temp = node.right\n",
    "                    node.right = None\n",
    "                    return temp\n",
    "                if node.right is None:\n",
    "                    temp = node.left\n",
    "                    node.left = None\n",
    "                    return temp\n",
    "                \n",
    "                temp = self.get_min(node.right)\n",
    "                node.data = temp.data\n",
    "                node.right = _remove(node.right, temp.data)\n",
    "                \n",
    "            return node\n",
    "                \n",
    "        self.root = _remove(self.root, data)\n",
    "        \n",
    "    def get_min(self, node):\n",
    "        if node is None or node.left is None:\n",
    "            return node\n",
    "        \n",
    "        return self.get_min(node.left)\n",
    "    \n",
    "    def display(self):\n",
    "        self.root.display()"
   ]
  },
  {
   "cell_type": "code",
   "execution_count": 119,
   "id": "dcc74360",
   "metadata": {},
   "outputs": [
    {
     "name": "stdout",
     "output_type": "stream",
     "text": [
      "   _5_      \n",
      "  /   \\     \n",
      "  3   7__   \n",
      " / \\ /   \\  \n",
      " 2 4 6  10_ \n",
      "/      /   \\\n",
      "1      8  11\n",
      "   _5_     \n",
      "  /   \\    \n",
      "  3   8_   \n",
      " / \\ /  \\  \n",
      " 2 4 6 10_ \n",
      "/         \\\n",
      "1        11\n"
     ]
    }
   ],
   "source": [
    "bst = BinarySearchTree()\n",
    "nodes = [5,3,7,2,10,1,8,4,6,11]\n",
    "\n",
    "for node in nodes:\n",
    "    bst.insert(node)\n",
    "    \n",
    "bst.display()\n",
    "bst.remove(7)\n",
    "bst.display()"
   ]
  },
  {
   "cell_type": "markdown",
   "id": "fb5ec5bf",
   "metadata": {},
   "source": [
    "## AVL Tree"
   ]
  },
  {
   "cell_type": "code",
   "execution_count": 151,
   "id": "2aec70a0",
   "metadata": {},
   "outputs": [],
   "source": [
    "class AVLTree:\n",
    "    class Node:\n",
    "        def __init__(self, data):\n",
    "            self.data = data\n",
    "            self.left = None\n",
    "            self.right = None\n",
    "            \n",
    "        def display(self):\n",
    "            lines, *_ = self._display_aux()\n",
    "            for line in lines:\n",
    "                print(line)\n",
    "\n",
    "        def _display_aux(self):\n",
    "            \"\"\"Returns list of strings, width, height, and horizontal coordinate of the root.\"\"\"\n",
    "            # No child.\n",
    "            if self.right is None and self.left is None:\n",
    "                line = '%s' % self.data\n",
    "                width = len(line)\n",
    "                height = 1\n",
    "                middle = width // 2\n",
    "                return [line], width, height, middle\n",
    "\n",
    "            # Only left child.\n",
    "            if self.right is None:\n",
    "                lines, n, p, x = self.left._display_aux()\n",
    "                s = '%s' % self.data\n",
    "                u = len(s)\n",
    "                first_line = (x + 1) * ' ' + (n - x - 1) * '_' + s\n",
    "                second_line = x * ' ' + '/' + (n - x - 1 + u) * ' '\n",
    "                shifted_lines = [line + u * ' ' for line in lines]\n",
    "                return [first_line, second_line] + shifted_lines, n + u, p + 2, n + u // 2\n",
    "\n",
    "            # Only right child.\n",
    "            if self.left is None:\n",
    "                lines, n, p, x = self.right._display_aux()\n",
    "                s = '%s' % self.data\n",
    "                u = len(s)\n",
    "                first_line = s + x * '_' + (n - x) * ' '\n",
    "                second_line = (u + x) * ' ' + '\\\\' + (n - x - 1) * ' '\n",
    "                shifted_lines = [u * ' ' + line for line in lines]\n",
    "                return [first_line, second_line] + shifted_lines, n + u, p + 2, u // 2\n",
    "\n",
    "            # Two children.\n",
    "            left, n, p, x = self.left._display_aux()\n",
    "            right, m, q, y = self.right._display_aux()\n",
    "            s = '%s' % self.data\n",
    "            u = len(s)\n",
    "            first_line = (x + 1) * ' ' + (n - x - 1) * '_' + s + y * '_' + (m - y) * ' '\n",
    "            second_line = x * ' ' + '/' + (n - x - 1 + u + y) * ' ' + '\\\\' + (m - y - 1) * ' '\n",
    "            if p < q:\n",
    "                left += [n * ' '] * (q - p)\n",
    "            elif q < p:\n",
    "                right += [m * ' '] * (p - q)\n",
    "            zipped_lines = zip(left, right)\n",
    "            lines = [first_line, second_line] + [a + u * ' ' + b for a, b in zipped_lines]\n",
    "            return lines, n + m + u, max(p, q) + 2, n + u // 2\n",
    "        \n",
    "        \n",
    "    def __init__(self):\n",
    "        self.root = None\n",
    "        \n",
    "    def insert(self, data):\n",
    "        def _insert(node):\n",
    "            if node is None:\n",
    "                node = self.Node(data)\n",
    "            elif data < node.data:\n",
    "                node.left = _insert(node.left)\n",
    "            else:\n",
    "                node.right = _insert(node.right)\n",
    "                \n",
    "            node.height = self.get_height(node)\n",
    "            balance = self.get_balance(node)\n",
    "\n",
    "            # left-left situation\n",
    "            if balance > 1 and data < node.left.data:\n",
    "                node = self.rotate_right(node)\n",
    "            \n",
    "            # left-right situation\n",
    "            elif balance > 1 and data > node.left.data:\n",
    "                node.left = self.rotate_left(node.left)\n",
    "                node = self.rotate_right(node)\n",
    "            \n",
    "            # right-right situation\n",
    "            elif balance < -1 and data > node.right.data:\n",
    "                node = self.rotate_left(node)\n",
    "\n",
    "            # right-left situation\n",
    "            elif balance < -1 and data < node.right.data:\n",
    "                node.right = self.rotate_right(node.right)\n",
    "                node = self.rotate_left(node)\n",
    "            \n",
    "            return node\n",
    "        \n",
    "        self.root = _insert(self.root)\n",
    "    \n",
    "    # remove method self balancing\n",
    "    def remove(self, data):\n",
    "        def _remove(node, data):\n",
    "            if node is None:\n",
    "                return\n",
    "            elif data < node.data:\n",
    "                node.left = _remove(node.left, data)\n",
    "            elif data > node.data:\n",
    "                node.right = _remove(node.right, data)\n",
    "            else:\n",
    "                if node.left is None:\n",
    "                    temp = node.right\n",
    "                    node.right = None\n",
    "                    return temp\n",
    "                if node.right is None:\n",
    "                    temp = node.left\n",
    "                    node.left = None\n",
    "                    return temp\n",
    "                \n",
    "                temp = self.get_min(node.right)\n",
    "                node.data = temp.data\n",
    "                node.right = _remove(node.right, temp.data)\n",
    "            \n",
    "            node.height = self.get_height(node)\n",
    "            balance = self.get_balance(node)\n",
    "            \n",
    "            if balance > 1 and data < node.left.data:\n",
    "                node = self.rotate_right(node)\n",
    "            \n",
    "            elif balance > 1 and data > node.left.data:\n",
    "                node.left = self.rotate_left(node.left)\n",
    "                node = self.rotate_right(node)\n",
    "                \n",
    "            elif balance < -1 and data > node.right.data:\n",
    "                node = self.rotate_left(node)\n",
    "                \n",
    "            elif balance < -1 and data < node.right.data:\n",
    "                node.right = self.rotate_right(node.right)\n",
    "                node = self.rotate_left(node)\n",
    "            \n",
    "            return node\n",
    "        \n",
    "        self.root = _remove(self.root, data)\n",
    "        \n",
    "        \n",
    "    def rotate_left(self, node):\n",
    "        new_root = node.right\n",
    "        node.right = new_root.left\n",
    "        new_root.left = node\n",
    "        return new_root\n",
    "    \n",
    "    def rotate_right(self, node):\n",
    "        new_root = node.left\n",
    "        node.left = new_root.right\n",
    "        new_root.right = node\n",
    "        return new_root\n",
    "    \n",
    "    def get_height(self, node):\n",
    "        if node is None:\n",
    "            return 0\n",
    "        \n",
    "        return 1 + max(self.get_height(node.left), self.get_height(node.right)) \n",
    "    \n",
    "    def get_balance(self, node):\n",
    "        if node is None:\n",
    "            return 0\n",
    "        \n",
    "        return self.get_height(node.left) - self.get_height(node.right)\n",
    "    \n",
    "    def get_min(self, node):\n",
    "        if node is None or node.left is None:\n",
    "            return node\n",
    "        \n",
    "        return self.get_min(node.left)\n",
    "    \n",
    "    def display(self):\n",
    "        self.root.display()"
   ]
  },
  {
   "cell_type": "code",
   "execution_count": 152,
   "id": "62f4df8c",
   "metadata": {},
   "outputs": [
    {
     "name": "stdout",
     "output_type": "stream",
     "text": [
      "     _________13_______________         \n",
      "    /                          \\        \n",
      "  __5__                 ______21___     \n",
      " /     \\               /           \\    \n",
      " 2     8___         __17___       24_   \n",
      "/ \\   /    \\       /       \\     /   \\  \n",
      "1 3   7   11_     15_     19_   23  25_ \n",
      "   \\ /   /   \\   /   \\   /   \\         \\\n",
      "   4 6  10  12  14  16  18  20        26\n",
      "     _________13_____________         \n",
      "    /                        \\        \n",
      "  __5__                 ____21___     \n",
      " /     \\               /         \\    \n",
      " 2     8___         __18_       24_   \n",
      "/ \\   /    \\       /     \\     /   \\  \n",
      "1 3   7   11_     15_   19_   23  25_ \n",
      "   \\ /   /   \\   /   \\     \\         \\\n",
      "   4 6  10  12  14  16    20        26\n"
     ]
    }
   ],
   "source": [
    "avl = AVLTree()\n",
    "nodes = [5,3,7,2,10,1,8,4,6,11,12,13,14,15,16,17,18,19,20,21,23,24,25,26]\n",
    "\n",
    "for node in nodes:\n",
    "    avl.insert(node)\n",
    "    \n",
    "avl.display()\n",
    "avl.remove(17)\n",
    "avl.display()"
   ]
  },
  {
   "cell_type": "markdown",
   "id": "1bc6fc42",
   "metadata": {},
   "source": [
    "## Check if two tree are equal"
   ]
  },
  {
   "cell_type": "code",
   "execution_count": 169,
   "id": "cab9fc9b",
   "metadata": {},
   "outputs": [
    {
     "name": "stdout",
     "output_type": "stream",
     "text": [
      "     _________13_______________         \n",
      "    /                          \\        \n",
      "  __5__                 ______21___     \n",
      " /     \\               /           \\    \n",
      " 2     8___         __17___       24_   \n",
      "/ \\   /    \\       /       \\     /   \\  \n",
      "1 3   7   11_     15_     19_   23  25_ \n",
      "   \\ /   /   \\   /   \\   /   \\         \\\n",
      "   4 6  10  12  14  16  18  20        26\n",
      "     _________13_______________         \n",
      "    /                          \\        \n",
      "  __5__                 ______21___     \n",
      " /     \\               /           \\    \n",
      " 2     8___         __17___       24_   \n",
      "/ \\   /    \\       /       \\     /   \\  \n",
      "1 3   7   11_     15_     19_   23  25_ \n",
      "   \\ /   /   \\   /   \\   /   \\         \\\n",
      "   4 6  10  12  14  16  18  20        26\n"
     ]
    }
   ],
   "source": [
    "tree1 = AVLTree()\n",
    "tree2 = AVLTree()\n",
    "\n",
    "nodes = [5,3,7,2,10,1,8,4,6,11,12,13,14,15,16,17,18,19,20,21,23,24,25,26]\n",
    "\n",
    "for node in nodes:\n",
    "    tree1.insert(node)\n",
    "    tree2.insert(node)\n",
    "    \n",
    "tree1.display()\n",
    "tree2.display()"
   ]
  },
  {
   "cell_type": "code",
   "execution_count": 172,
   "id": "905fe44b",
   "metadata": {},
   "outputs": [
    {
     "data": {
      "text/plain": [
       "True"
      ]
     },
     "execution_count": 172,
     "metadata": {},
     "output_type": "execute_result"
    }
   ],
   "source": [
    "def is_equal(t1, t2):\n",
    "    def preorder(node1, node2):\n",
    "        if node1 is None or node2 is None:\n",
    "            if node1 is None and node2 is None:\n",
    "                return True\n",
    "            return False\n",
    "        \n",
    "        if node1.data != node2.data:\n",
    "            return False\n",
    "        \n",
    "        return preorder(node1.left, node2.left) and preorder(node1.right, node2.right)\n",
    "        \n",
    "    return preorder(t1.root, t2.root)\n",
    "\n",
    "is_equal(tree1, tree2)"
   ]
  },
  {
   "cell_type": "markdown",
   "id": "94926aa1",
   "metadata": {},
   "source": [
    "## Heap"
   ]
  },
  {
   "cell_type": "code",
   "execution_count": 186,
   "id": "325439d7",
   "metadata": {},
   "outputs": [],
   "source": [
    "class MinHeap:\n",
    "    def __init__(self):\n",
    "        self.heap = [None]\n",
    "        \n",
    "    def insert(self, data):\n",
    "        self.heap.append(data)\n",
    "        self.arrange()\n",
    "        \n",
    "    def arrange(self):\n",
    "        idx = len(self.heap) - 1\n",
    "        \n",
    "        while idx//2 > 0:\n",
    "            if self.heap[idx] < self.heap[idx//2]:\n",
    "                self.heap[idx], self.heap[idx//2] = self.heap[idx//2], self.heap[idx]\n",
    "            idx = idx//2\n",
    "            \n",
    "    def pop(self):\n",
    "        self.heap[1], self.heap[-1] = self.heap[-1], self.heap[1]\n",
    "        item = self.heap.pop()\n",
    "        self.sink()\n",
    "        return item\n",
    "    \n",
    "    def sink(self):\n",
    "        idx = 1\n",
    "        min_idx = self.get_min_idx(idx)\n",
    "        \n",
    "        while self.heap[idx] > self.heap[min_idx]:\n",
    "            self.heap[idx], self.heap[min_idx] = self.heap[min_idx], self.heap[idx]\n",
    "            idx = min_idx\n",
    "            min_idx = self.get_min_idx(idx)\n",
    "    \n",
    "    def get_min_idx(self, idx):\n",
    "        if 2*idx+1 <= len(self.heap)-1:\n",
    "            if self.heap[2*idx] < self.heap[2*idx+1]:\n",
    "                return 2*idx\n",
    "            else:\n",
    "                return 2*idx+1\n",
    "        return len(self.heap) - 1 \n",
    "        "
   ]
  },
  {
   "cell_type": "code",
   "execution_count": 187,
   "id": "1bab211f",
   "metadata": {},
   "outputs": [
    {
     "name": "stdout",
     "output_type": "stream",
     "text": [
      "[None, 1, 2, 5, 4, 3, 9, 6, 10, 7, 8]\n",
      "1\n",
      "[None, 2, 3, 5, 4, 7, 9, 6, 10, 8]\n"
     ]
    }
   ],
   "source": [
    "heap = MinHeap()\n",
    "\n",
    "for i in range(10, 0, -1):\n",
    "    heap.insert(i)\n",
    "    \n",
    "print(heap.heap)\n",
    "print(heap.pop())\n",
    "print(heap.heap)"
   ]
  },
  {
   "cell_type": "markdown",
   "id": "06c8822f",
   "metadata": {},
   "source": [
    "# Trie"
   ]
  },
  {
   "cell_type": "code",
   "execution_count": 202,
   "id": "51839dc7",
   "metadata": {},
   "outputs": [],
   "source": [
    "class Trie:\n",
    "    def __init__(self):\n",
    "        self.trie = {}\n",
    "        \n",
    "    def insert(self, word):\n",
    "        current = self.trie\n",
    "        for char in word:\n",
    "            if char not in current:\n",
    "                current[char] = {\"word\":False, \"prefix\": 0}\n",
    "            current[char][\"prefix\"] += 1\n",
    "            current = current[char]\n",
    "            \n",
    "        current[\"word\"] = True\n",
    "        \n",
    "    def is_word(self, word):\n",
    "        current = self.trie\n",
    "        for char in word:\n",
    "            current = current[char]\n",
    "            \n",
    "        if current[\"word\"]:\n",
    "            return True\n",
    "        \n",
    "        return False\n",
    "    \n",
    "    def count_prefixes(self, word):\n",
    "        current = self.trie\n",
    "        \n",
    "        for char in word:\n",
    "            if char in current:\n",
    "                current = current[char]\n",
    "            else:\n",
    "                raise Exception(\"There is no such prefix\")\n",
    "            \n",
    "        return current[\"prefix\"]"
   ]
  },
  {
   "cell_type": "code",
   "execution_count": 205,
   "id": "9f7155c3",
   "metadata": {},
   "outputs": [
    {
     "name": "stdout",
     "output_type": "stream",
     "text": [
      "{'p': {'word': False, 'prefix': 2, 'a': {'word': False, 'prefix': 2, 'u': {'word': False, 'prefix': 2, 'l': {'word': False, 'prefix': 2, 'o': {'word': True, 'prefix': 2, 'r': {'word': True, 'prefix': 1}}}}}}, 'c': {'word': False, 'prefix': 1, 'a': {'word': False, 'prefix': 1, 'r': {'word': False, 'prefix': 1, 'l': {'word': False, 'prefix': 1, 'a': {'word': True, 'prefix': 1}}}}}}\n"
     ]
    },
    {
     "data": {
      "text/plain": [
       "1"
      ]
     },
     "execution_count": 205,
     "metadata": {},
     "output_type": "execute_result"
    }
   ],
   "source": [
    "trie = Trie()\n",
    "\n",
    "trie.insert(\"paulo\")\n",
    "trie.insert(\"paulor\")\n",
    "trie.insert(\"carla\")\n",
    "print(trie.trie)\n",
    "trie.count_prefixes(\"carla\")"
   ]
  },
  {
   "cell_type": "markdown",
   "id": "91f25e96",
   "metadata": {},
   "source": [
    "## Graph"
   ]
  },
  {
   "cell_type": "code",
   "execution_count": null,
   "id": "ac7537e7",
   "metadata": {},
   "outputs": [],
   "source": []
  },
  {
   "cell_type": "markdown",
   "id": "9f99a61e",
   "metadata": {},
   "source": [
    "## Topological Sort"
   ]
  },
  {
   "cell_type": "code",
   "execution_count": null,
   "id": "67f15267",
   "metadata": {},
   "outputs": [],
   "source": []
  },
  {
   "cell_type": "markdown",
   "id": "728550de",
   "metadata": {},
   "source": [
    "## Dynamic Programming"
   ]
  },
  {
   "cell_type": "code",
   "execution_count": 220,
   "id": "8e5a824e",
   "metadata": {},
   "outputs": [],
   "source": [
    "def fib(n, cache={}):\n",
    "    if n in cache:\n",
    "        return cache[n]\n",
    "    if n <= 1:\n",
    "        return n\n",
    "    \n",
    "    cache[n] = fib(n-1, cache) + fib(n-2, cache)\n",
    "    return cache[n]"
   ]
  },
  {
   "cell_type": "code",
   "execution_count": 221,
   "id": "2c663196",
   "metadata": {},
   "outputs": [
    {
     "data": {
      "text/plain": [
       "139423224561697880139724382870407283950070256587697307264108962948325571622863290691557658876222521294125"
      ]
     },
     "execution_count": 221,
     "metadata": {},
     "output_type": "execute_result"
    }
   ],
   "source": [
    "fib(500)"
   ]
  },
  {
   "cell_type": "code",
   "execution_count": 222,
   "id": "1184f5b7",
   "metadata": {},
   "outputs": [
    {
     "data": {
      "text/plain": [
       "139423224561697880139724382870407283950070256587697307264108962948325571622863290691557658876222521294125"
      ]
     },
     "execution_count": 222,
     "metadata": {},
     "output_type": "execute_result"
    }
   ],
   "source": [
    "# Tabulation\n",
    "def fib(n):\n",
    "    cache = {0:0, 1:1}\n",
    "    \n",
    "    for i in range(2, n+1):\n",
    "        cache[i] = cache[i-1] + cache[i-2]\n",
    "        \n",
    "    return cache[n]\n",
    "\n",
    "fib(500)"
   ]
  },
  {
   "cell_type": "code",
   "execution_count": 226,
   "id": "9f4f7b4c",
   "metadata": {},
   "outputs": [
    {
     "data": {
      "text/plain": [
       "139423224561697880139724382870407283950070256587697307264108962948325571622863290691557658876222521294125"
      ]
     },
     "execution_count": 226,
     "metadata": {},
     "output_type": "execute_result"
    }
   ],
   "source": [
    "def fib(n):\n",
    "    previous1, previous2 = 0, 1\n",
    "    \n",
    "    for i in range(2, n+1):\n",
    "        current = previous1 + previous2\n",
    "        previous1, previous2 = previous2, current\n",
    "        \n",
    "    return current\n",
    "\n",
    "fib(500)"
   ]
  },
  {
   "cell_type": "markdown",
   "id": "5e124ed9",
   "metadata": {},
   "source": [
    "## 70. Climbing Stairs - Easy\n",
    "\n",
    "You are climbing a staircase. It takes n steps to reach the top.\n",
    "\n",
    "Each time you can either climb 1 or 2 steps. In how many distinct ways can you climb to the top?\n",
    "\n",
    " \n",
    "\n",
    "__Example 1:__\n",
    "\n",
    "Input: n = 2\n",
    "\n",
    "Output: 2\n",
    "\n",
    "Explanation: There are two ways to climb to the top.\n",
    "\n",
    "1. 1 step + 1 step\n",
    "2. 2 steps\n",
    "\n",
    "__Example 2:__\n",
    "\n",
    "Input: n = 3\n",
    "\n",
    "Output: 3\n",
    "\n",
    "Explanation: There are three ways to climb to the top.\n",
    "\n",
    "1. 1 step + 1 step + 1 step\n",
    "2. 1 step + 2 steps\n",
    "3. 2 steps + 1 step\n",
    " \n",
    "\n",
    "Constraints:\n",
    "\n",
    "1 <= n <= 45"
   ]
  },
  {
   "cell_type": "code",
   "execution_count": 229,
   "id": "daf6622e",
   "metadata": {},
   "outputs": [
    {
     "data": {
      "text/plain": [
       "3"
      ]
     },
     "execution_count": 229,
     "metadata": {},
     "output_type": "execute_result"
    }
   ],
   "source": [
    "def climb_stair(n, cache={}):\n",
    "    if n <= 1:\n",
    "        return 1\n",
    "    if n in cache:\n",
    "        return cache[n]\n",
    "    \n",
    "    cache[n] = climb_stair(n-1) + climb_stair(n-2)\n",
    "    return cache[n]\n",
    "\n",
    "climb_stair(3)"
   ]
  },
  {
   "cell_type": "code",
   "execution_count": 230,
   "id": "a174b025",
   "metadata": {},
   "outputs": [
    {
     "data": {
      "text/plain": [
       "3"
      ]
     },
     "execution_count": 230,
     "metadata": {},
     "output_type": "execute_result"
    }
   ],
   "source": [
    "def climb_stair(n):\n",
    "    one_step = two_step = 1\n",
    "    \n",
    "    for i in range(2, n+1):\n",
    "        ways = one_step + two_step\n",
    "        one_step, two_step = two_step, ways\n",
    "        \n",
    "    return ways\n",
    "\n",
    "climb_stair(3)"
   ]
  },
  {
   "cell_type": "code",
   "execution_count": 231,
   "id": "136b90a8",
   "metadata": {},
   "outputs": [
    {
     "data": {
      "text/plain": [
       "1"
      ]
     },
     "execution_count": 231,
     "metadata": {},
     "output_type": "execute_result"
    }
   ],
   "source": [
    "abs(-1)"
   ]
  },
  {
   "cell_type": "markdown",
   "id": "7de221b7",
   "metadata": {},
   "source": [
    "## Frog Jump - EASY\n",
    "\n",
    "There is a frog on the 1st step of an N stairs long staircase. The frog wants to reach the Nth stair. HEIGHT[i] is the height of the (i+1)th stair.If Frog jumps from ith to jth stair, the energy lost in the jump is given by |HEIGHT[i-1] - HEIGHT[j-1]|.In the Frog is on ith staircase, he can jump either to (i+1)th stair or to (i+2)th stair. Your task is to find the minimum total energy used by the frog to reach from 1st stair to Nth stair.\n",
    "\n",
    "For Example\n",
    "\n",
    "If the given ‘HEIGHT’ array is [10,20,30,10], the answer 20 as the frog can jump from 1st stair to 2nd stair (|20-10| = 10 energy lost) and then a jump from 2nd stair to last stair (|10-20| = 10 energy lost). So, the total energy lost is 20."
   ]
  },
  {
   "cell_type": "code",
   "execution_count": 252,
   "id": "912c3d05",
   "metadata": {},
   "outputs": [
    {
     "data": {
      "text/plain": [
       "20"
      ]
     },
     "execution_count": 252,
     "metadata": {},
     "output_type": "execute_result"
    }
   ],
   "source": [
    "def compute_min_energy(stair, height):\n",
    "    if stair == 0:\n",
    "        return 0\n",
    "    \n",
    "    one_jump = compute_min_energy(stair-1, height) + abs(height[stair] - height[stair-1])\n",
    "    two_jumps = float(\"inf\")\n",
    "    \n",
    "    if stair > 1:\n",
    "        two_jumps = compute_min_energy(stair-2, height) + abs(height[stair] - height[stair-2])\n",
    "    \n",
    "    return min(one_jump, two_jumps)\n",
    "\n",
    "stair = 3\n",
    "height = [10,20,30,10]\n",
    "\n",
    "compute_min_energy(stair, height)"
   ]
  },
  {
   "cell_type": "code",
   "execution_count": 253,
   "id": "0e10ab6e",
   "metadata": {},
   "outputs": [
    {
     "data": {
      "text/plain": [
       "20"
      ]
     },
     "execution_count": 253,
     "metadata": {},
     "output_type": "execute_result"
    }
   ],
   "source": [
    "def compute_min_energy(stair, height, cache={}):\n",
    "    if stair < 0:\n",
    "        return 0\n",
    "    \n",
    "    if stair in cache:\n",
    "        return cache[stair]\n",
    "    \n",
    "    one_jump = compute_min_energy(stair-1, height) + abs(height[stair] - height[stair-1])\n",
    "    two_jumps = float(\"inf\")\n",
    "    \n",
    "    if stair > 1:\n",
    "        two_jumps = compute_min_energy(stair-2, height) + abs(height[stair] - height[stair-2])\n",
    "    \n",
    "    cache[stair] = min(one_jump, two_jumps)\n",
    "    return cache[stair]\n",
    "\n",
    "stair = 3\n",
    "height = [10,20,30,10]\n",
    "\n",
    "compute_min_energy(stair, height)"
   ]
  },
  {
   "cell_type": "code",
   "execution_count": 256,
   "id": "31eb7860",
   "metadata": {},
   "outputs": [
    {
     "data": {
      "text/plain": [
       "20"
      ]
     },
     "execution_count": 256,
     "metadata": {},
     "output_type": "execute_result"
    }
   ],
   "source": [
    "def compute_min_energy(stair, height):\n",
    "    prev = prev2 = 0\n",
    "    \n",
    "    for i in range(1, len(height)):\n",
    "        one_jump = prev + abs(height[i] - height[i-1])\n",
    "        two_jumps = float(\"inf\")\n",
    "        if i > 1:\n",
    "            two_jumps = prev2 + abs(height[i] - height[i-2])\n",
    "        \n",
    "        current = min(one_jump, two_jumps)\n",
    "        prev2 = prev\n",
    "        prev = current\n",
    "        \n",
    "    return current\n",
    "\n",
    "height = [10,20,30,10]\n",
    "compute_min_energy(stair, height)"
   ]
  },
  {
   "cell_type": "markdown",
   "id": "6955b196",
   "metadata": {},
   "source": [
    "## Frog jump K steps"
   ]
  },
  {
   "cell_type": "code",
   "execution_count": 265,
   "id": "f76e0c3f",
   "metadata": {},
   "outputs": [
    {
     "data": {
      "text/plain": [
       "20"
      ]
     },
     "execution_count": 265,
     "metadata": {},
     "output_type": "execute_result"
    }
   ],
   "source": [
    "def compute_min_energy(stair, height, k):\n",
    "    if stair == 0:\n",
    "        return 0\n",
    "    min_jumps = float(\"inf\")\n",
    "    for i in range(1, k+1):\n",
    "        if stair - i >= 0:\n",
    "            min_jumps = min(compute_min_energy(stair-i, height, k) + abs(height[stair] - height[stair-i]), min_jumps)\n",
    "\n",
    "    return min_jumps\n",
    "\n",
    "stair = 3\n",
    "height = [10,20,30,10]\n",
    "\n",
    "compute_min_energy(stair, height, 2)"
   ]
  },
  {
   "cell_type": "code",
   "execution_count": null,
   "id": "122c2031",
   "metadata": {},
   "outputs": [],
   "source": []
  }
 ],
 "metadata": {
  "kernelspec": {
   "display_name": "Python 3 (ipykernel)",
   "language": "python",
   "name": "python3"
  },
  "language_info": {
   "codemirror_mode": {
    "name": "ipython",
    "version": 3
   },
   "file_extension": ".py",
   "mimetype": "text/x-python",
   "name": "python",
   "nbconvert_exporter": "python",
   "pygments_lexer": "ipython3",
   "version": "3.8.9"
  }
 },
 "nbformat": 4,
 "nbformat_minor": 5
}
