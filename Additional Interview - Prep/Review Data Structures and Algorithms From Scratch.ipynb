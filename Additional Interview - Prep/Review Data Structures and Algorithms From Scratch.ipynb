{
 "cells": [
  {
   "cell_type": "markdown",
   "id": "b366b2e5",
   "metadata": {},
   "source": [
    "# Review Data Structures and Algorithms From Scratch"
   ]
  },
  {
   "cell_type": "markdown",
   "id": "86336caf",
   "metadata": {},
   "source": [
    "## Kadane's Algorithm (Maxium Sum Subarray)\n",
    "\n",
    "It is used to get the maxium sum in a subarray.\n",
    "\n",
    "__Input:__ [-3, -4, 5, -1, 2, -4, 6, -1]\n",
    "\n",
    "__Output:__ 8\n",
    "\n",
    "__Explanation:__ Subarray [5, -1, 2, -4, 6] is the max sum contiguous subarray with sum 8."
   ]
  },
  {
   "cell_type": "code",
   "execution_count": 123,
   "id": "90b299bb",
   "metadata": {},
   "outputs": [
    {
     "name": "stdout",
     "output_type": "stream",
     "text": [
      "8\n"
     ]
    }
   ],
   "source": [
    "def kadane(arr):\n",
    "    max_global = max_current = arr[0]\n",
    "    \n",
    "    for i in range(1, len(arr)):\n",
    "        max_current = max(max_current+arr[i], arr[i])\n",
    "        \n",
    "        if max_global < max_current:\n",
    "            max_global = max_current\n",
    "            \n",
    "    return max_global\n",
    "    \n",
    "arr = [-3, -4, 5, -1, 2, -4, 6, -1]\n",
    "print(kadane(arr))    "
   ]
  },
  {
   "cell_type": "markdown",
   "id": "2a151db7",
   "metadata": {},
   "source": [
    "## Recursion"
   ]
  },
  {
   "cell_type": "code",
   "execution_count": 274,
   "id": "0afe16fb",
   "metadata": {},
   "outputs": [
    {
     "name": "stdout",
     "output_type": "stream",
     "text": [
      "[5, 4, 3, 2, 1]\n"
     ]
    }
   ],
   "source": [
    "def invert(arr, idx=0):\n",
    "    if idx > len(arr)//2:        \n",
    "        return\n",
    "    \n",
    "    arr[idx], arr[len(arr)-idx-1] = arr[len(arr)-idx-1], arr[idx]\n",
    "    invert(arr, idx+1)\n",
    "    \n",
    "    \n",
    "arr = [1,2,3,4,5]\n",
    "invert(arr)\n",
    "print(arr)"
   ]
  },
  {
   "cell_type": "code",
   "execution_count": 475,
   "id": "0fe52052",
   "metadata": {},
   "outputs": [
    {
     "data": {
      "text/plain": [
       "True"
      ]
     },
     "execution_count": 475,
     "metadata": {},
     "output_type": "execute_result"
    }
   ],
   "source": [
    "def is_sorted(arr):\n",
    "    if len(arr) <= 1:\n",
    "        return True\n",
    "    \n",
    "    return arr[0] < arr[1] and is_sorted(arr[1:])\n",
    "\n",
    "arr = [1,2,3,4,5,6]\n",
    "is_sorted(arr)"
   ]
  },
  {
   "cell_type": "code",
   "execution_count": 483,
   "id": "e9ea4f75",
   "metadata": {},
   "outputs": [
    {
     "name": "stdout",
     "output_type": "stream",
     "text": [
      "1\n",
      "2\n",
      "3\n",
      "4\n",
      "5\n",
      "6\n",
      "\n",
      "\n",
      "6\n",
      "5\n",
      "4\n",
      "3\n",
      "2\n",
      "1\n"
     ]
    }
   ],
   "source": [
    "def print_increasing(arr):\n",
    "    if len(arr) <= 1:\n",
    "        print(arr[0])\n",
    "        return\n",
    "    \n",
    "    print(arr[0])\n",
    "    print_increasing(arr[1:])\n",
    "\n",
    "def print_decreasing(arr):\n",
    "    if len(arr) <= 1:\n",
    "        print(arr[0])\n",
    "        return\n",
    "    \n",
    "    print_decreasing(arr[1:])\n",
    "    print(arr[0])\n",
    "\n",
    "arr = [1,2,3,4,5,6]\n",
    "print_increasing(arr)\n",
    "print(\"\\n\")\n",
    "print_decreasing(arr)"
   ]
  },
  {
   "cell_type": "code",
   "execution_count": 278,
   "id": "31e1cb86",
   "metadata": {},
   "outputs": [
    {
     "name": "stdout",
     "output_type": "stream",
     "text": [
      "True\n"
     ]
    }
   ],
   "source": [
    "def check_palindrome(string, idx=0):\n",
    "    if idx > len(string)//2:\n",
    "        return True\n",
    "    \n",
    "    if string[idx] != string[len(string)-idx-1]:\n",
    "        return False\n",
    "    \n",
    "    return check_palindrome(string, idx+1)\n",
    "\n",
    "s = \"MADAM\"\n",
    "print(check_palindrome(s))"
   ]
  },
  {
   "cell_type": "code",
   "execution_count": 335,
   "id": "6c71d988",
   "metadata": {},
   "outputs": [
    {
     "name": "stdout",
     "output_type": "stream",
     "text": [
      "[[], [1], [2], [3], [1, 2], [1, 3], [2, 3], [1, 2, 3]]\n"
     ]
    }
   ],
   "source": [
    "# subsequence: a contiguous or not contiguous sequence, which follows the order of the array.\n",
    "def find_all_subseq(array):\n",
    "    def find_all_subseq_util(idx=0,subseq_current=[]):\n",
    "        if idx >= len(array):\n",
    "            result.append(subseq_current.copy())\n",
    "            return\n",
    "        \n",
    "        subseq_current.append(array[idx])\n",
    "        find_all_subseq_util(idx+1,subseq_current)\n",
    "        subseq_current.pop()\n",
    "        find_all_subseq_util(idx+1,subseq_current)\n",
    "    \n",
    "\n",
    "    \n",
    "    result = []\n",
    "    find_all_subseq_util()\n",
    "    result.sort(key=lambda item: len(item))\n",
    "    return result\n",
    "\n",
    "array = [1,2,3]\n",
    "print(find_all_subseq(array))"
   ]
  },
  {
   "cell_type": "code",
   "execution_count": 340,
   "id": "0f4a4ed6",
   "metadata": {},
   "outputs": [
    {
     "name": "stdout",
     "output_type": "stream",
     "text": [
      "[[3], [1, 2]]\n",
      "[[3], [1, 2]]\n"
     ]
    }
   ],
   "source": [
    "# subsequence: a contiguous or not contiguous sequence, which follows the order of the array.\n",
    "def find_all_subseq_sum_k(array, k):\n",
    "    def find_all_subseq_util(idx=0,subseq_current=[], sum_temp=0):\n",
    "        \n",
    "        if idx >= len(array):\n",
    "            if sum_temp == k:\n",
    "                result.append(subseq_current.copy())\n",
    "            return\n",
    "        \n",
    "        subseq_current.append(array[idx])\n",
    "        sum_temp += array[idx]\n",
    "        find_all_subseq_util(idx+1,subseq_current, sum_temp)\n",
    "        subseq_current.pop()\n",
    "        sum_temp -= array[idx]\n",
    "        find_all_subseq_util(idx+1,subseq_current, sum_temp)\n",
    "    \n",
    "\n",
    "    \n",
    "    result = []\n",
    "    find_all_subseq_util()\n",
    "    result.sort(key=lambda item: len(item))\n",
    "    return result\n",
    "\n",
    "array = [1,2,3]\n",
    "print(find_all_subseq_sum_k(array,3))\n",
    "\n",
    "\n",
    "def find_all_subseq_sum_k(array, k):\n",
    "    def find_all_subseq_util(idx=0,subseq_current=[]):\n",
    "        \n",
    "        if idx >= len(array):\n",
    "            if sum(subseq_current) == k:\n",
    "                result.append(subseq_current.copy())\n",
    "            return\n",
    "        \n",
    "        subseq_current.append(array[idx])\n",
    "        find_all_subseq_util(idx+1,subseq_current)\n",
    "        subseq_current.pop()\n",
    "        find_all_subseq_util(idx+1,subseq_current)\n",
    "    \n",
    "\n",
    "    \n",
    "    result = []\n",
    "    find_all_subseq_util()\n",
    "    result.sort(key=lambda item: len(item))\n",
    "    return result\n",
    "\n",
    "array = [1,2,3]\n",
    "print(find_all_subseq_sum_k(array,3))"
   ]
  },
  {
   "cell_type": "code",
   "execution_count": 348,
   "id": "149f8541",
   "metadata": {},
   "outputs": [
    {
     "name": "stdout",
     "output_type": "stream",
     "text": [
      "[[1, 2]]\n"
     ]
    }
   ],
   "source": [
    "def find_all_subseq_sum_k(array, k):\n",
    "    def find_all_subseq_util(idx=0,subseq_current=[]):\n",
    "        \n",
    "        if idx >= len(array):\n",
    "            if sum(subseq_current) == k:\n",
    "                result.append(subseq_current.copy())\n",
    "                return True\n",
    "            return False\n",
    "        \n",
    "        subseq_current.append(array[idx])\n",
    "        if find_all_subseq_util(idx+1,subseq_current):\n",
    "            return True\n",
    "        subseq_current.pop()\n",
    "        if find_all_subseq_util(idx+1,subseq_current):\n",
    "            return True\n",
    "        \n",
    "        return False\n",
    "    \n",
    "    result = []\n",
    "    find_all_subseq_util()\n",
    "    return result\n",
    "\n",
    "array = [1,2,3]\n",
    "print(find_all_subseq_sum_k(array,3))"
   ]
  },
  {
   "cell_type": "code",
   "execution_count": 350,
   "id": "f4964601",
   "metadata": {},
   "outputs": [
    {
     "name": "stdout",
     "output_type": "stream",
     "text": [
      "2\n"
     ]
    }
   ],
   "source": [
    "def find_all_subseq_sum_k(array, k):\n",
    "    def find_all_subseq_util(idx=0,subseq_current=[]):\n",
    "        \n",
    "        if idx >= len(array):\n",
    "            if sum(subseq_current) == k:\n",
    "                return 1\n",
    "            return 0\n",
    "        \n",
    "        subseq_current.append(array[idx])\n",
    "        take = find_all_subseq_util(idx+1,subseq_current)\n",
    "        subseq_current.pop()\n",
    "        not_take = find_all_subseq_util(idx+1,subseq_current)\n",
    "        \n",
    "        return take + not_take\n",
    "    \n",
    "    return find_all_subseq_util()\n",
    "\n",
    "array = [1,2,3]\n",
    "print(find_all_subseq_sum_k(array,3))"
   ]
  },
  {
   "cell_type": "markdown",
   "id": "b87f2e77",
   "metadata": {},
   "source": [
    "## 39. Combination Sum - Medium\n",
    "\n",
    "Given an array of distinct integers candidates and a target integer target, return a list of all unique combinations of candidates where the chosen numbers sum to target. You may return the combinations in any order.\n",
    "\n",
    "The same number may be chosen from candidates an unlimited number of times. Two combinations are unique if the frequency of at least one of the chosen numbers is different.\n",
    "\n",
    "It is guaranteed that the number of unique combinations that sum up to target is less than 150 combinations for the given input.\n",
    "\n",
    "__Example 1:__\n",
    "\n",
    "Input: candidates = [2,3,6,7], target = 7\n",
    "\n",
    "Output: [[2,2,3],[7]]\n",
    "\n",
    "Explanation:\n",
    "\n",
    "2 and 3 are candidates, and 2 + 2 + 3 = 7. Note that 2 can be used multiple times. 7 is a candidate, and 7 = 7.\n",
    "\n",
    "These are the only two combinations.\n",
    "\n",
    "__Example 2:__\n",
    "\n",
    "Input: candidates = [2,3,5], target = 8\n",
    "\n",
    "Output: [[2,2,2,2],[2,3,3],[3,5]]\n",
    "\n",
    "__Example 3:__\n",
    "\n",
    "Input: candidates = [2], target = 1\n",
    "\n",
    "Output: []"
   ]
  },
  {
   "cell_type": "code",
   "execution_count": 352,
   "id": "cbeb2a2f",
   "metadata": {},
   "outputs": [
    {
     "data": {
      "text/plain": [
       "[[2, 2, 2, 2], [2, 3, 3], [3, 5]]"
      ]
     },
     "execution_count": 352,
     "metadata": {},
     "output_type": "execute_result"
    }
   ],
   "source": [
    "def find_combination_sum(arr, target):\n",
    "    def util(idx=0,temp=[]):\n",
    "        if sum(temp) >= target or idx >= len(arr):\n",
    "            if sum(temp) == target:\n",
    "                result.append(temp.copy())\n",
    "            return\n",
    "        \n",
    "        temp.append(arr[idx])\n",
    "        util(idx, temp)\n",
    "        temp.pop()\n",
    "        util(idx+1,temp)\n",
    "        \n",
    "    result = []\n",
    "    util()\n",
    "    return result\n",
    "\n",
    "candidates = [2,3,5]\n",
    "target = 8\n",
    "find_combination_sum(candidates, target)"
   ]
  },
  {
   "cell_type": "markdown",
   "id": "15a5f0bc",
   "metadata": {},
   "source": [
    "# 40. Combination Sum II - Medium\n",
    "\n",
    "Given a collection of candidate numbers (candidates) and a target number (target), find all unique combinations in candidates where the candidate numbers sum to target.\n",
    "\n",
    "Each number in candidates may only be used once in the combination.\n",
    "\n",
    "Note: The solution set must not contain duplicate combinations.\n",
    "\n",
    " \n",
    "\n",
    "__Example 1:__\n",
    "\n",
    "Input:\n",
    "\n",
    "candidates = [10,1,2,7,6,1,5]\n",
    "\n",
    "target = 8\n",
    "\n",
    "Output: \n",
    "[\n",
    "[1,1,6],\n",
    "[1,2,5],\n",
    "[1,7],\n",
    "[2,6]\n",
    "]\n",
    "\n",
    "__Example 2:__\n",
    "\n",
    "Input: candidates = [2,5,2,1,2], target = 5\n",
    "\n",
    "Output: \n",
    "[\n",
    "[1,2,2],\n",
    "[5]\n",
    "]"
   ]
  },
  {
   "cell_type": "code",
   "execution_count": 373,
   "id": "897c06ab",
   "metadata": {},
   "outputs": [
    {
     "data": {
      "text/plain": [
       "{(1, 1, 6), (1, 2, 5), (1, 7), (2, 6)}"
      ]
     },
     "execution_count": 373,
     "metadata": {},
     "output_type": "execute_result"
    }
   ],
   "source": [
    "def find_combinations(arr, target):\n",
    "    def find_combinations_recursion(idx=0,temp=[]):\n",
    "        if idx >= len(arr):\n",
    "            if sum(temp) == target:\n",
    "                result.add(tuple(sorted(temp)))\n",
    "            return\n",
    "                    \n",
    "        temp.append(arr[idx])\n",
    "        find_combinations_recursion(idx+1,temp)\n",
    "        temp.pop()\n",
    "        find_combinations_recursion(idx+1,temp)\n",
    "    \n",
    "    result = set()\n",
    "    find_combinations_recursion()\n",
    "    return result\n",
    "\n",
    "candidates = [10,1,2,7,6,1,5]\n",
    "target = 8\n",
    "find_combinations(candidates, target)"
   ]
  },
  {
   "cell_type": "markdown",
   "id": "fa69c73e",
   "metadata": {},
   "source": [
    "# Subset Sums \n",
    "\n",
    "Given a list arr of N integers, print sums of all subsets in it.\n",
    " \n",
    "__Example 1:__\n",
    "\n",
    "Input:\n",
    "N = 2\n",
    "arr[] = {2, 3}\n",
    "\n",
    "Output:\n",
    "0 2 3 5\n",
    "\n",
    "Explanation:\n",
    "When no elements is taken then Sum = 0.\n",
    "When only 2 is taken then Sum = 2.\n",
    "When only 3 is taken then Sum = 3.\n",
    "When element 2 and 3 are taken then \n",
    "Sum = 2+3 = 5.\n",
    "\n",
    "__Example 2:__\n",
    "\n",
    "Input:\n",
    "N = 3\n",
    "arr = {5, 2, 1}\n",
    "\n",
    "Output:\n",
    "0 1 2 3 5 6 7 8\n",
    "\n",
    "Your Task:  \n",
    "You don't need to read input or print anything. Your task is to complete the function subsetSums() which takes a list/vector and an integer N as an input parameter and return the list/vector of all the subset sums.\n"
   ]
  },
  {
   "cell_type": "code",
   "execution_count": 375,
   "id": "803ea157",
   "metadata": {},
   "outputs": [
    {
     "data": {
      "text/plain": [
       "[0, 1, 2, 3, 5, 6, 7, 8]"
      ]
     },
     "execution_count": 375,
     "metadata": {},
     "output_type": "execute_result"
    }
   ],
   "source": [
    "def sum_subsets(arr):\n",
    "    def sum_subsets_util(idx=0, temp=[]):\n",
    "        if idx >= len(arr):\n",
    "            result.append(sum(temp))\n",
    "            return\n",
    "\n",
    "        temp.append(arr[idx])\n",
    "        sum_subsets_util(idx+1, temp)\n",
    "        temp.pop()\n",
    "        sum_subsets_util(idx+1, temp)\n",
    "    \n",
    "    result = []\n",
    "    sum_subsets_util()\n",
    "    return sorted(result)\n",
    "\n",
    "arr = [5, 2, 1]\n",
    "sum_subsets(arr)"
   ]
  },
  {
   "cell_type": "markdown",
   "id": "85d475f8",
   "metadata": {},
   "source": [
    "## 46. Permutations - Medium\n",
    "\n",
    "Given an array nums of distinct integers, return all the possible permutations. You can return the answer in any order.\n",
    "\n",
    " \n",
    "\n",
    "Example 1:\n",
    "\n",
    "Input: nums = [1,2,3]\n",
    "\n",
    "Output: [[1,2,3],[1,3,2],[2,1,3],[2,3,1],[3,1,2],[3,2,1]]\n",
    "\n",
    "Example 2:\n",
    "\n",
    "Input: nums = [0,1]\n",
    "\n",
    "Output: [[0,1],[1,0]]\n",
    "\n",
    "Example 3:\n",
    "\n",
    "Input: nums = [1]\n",
    "\n",
    "Output: [[1]]"
   ]
  },
  {
   "cell_type": "code",
   "execution_count": 384,
   "id": "4d2e4e20",
   "metadata": {},
   "outputs": [
    {
     "data": {
      "text/plain": [
       "[[1, 2, 3], [1, 3, 2], [2, 1, 3], [2, 3, 1], [3, 2, 1], [3, 1, 2]]"
      ]
     },
     "execution_count": 384,
     "metadata": {},
     "output_type": "execute_result"
    }
   ],
   "source": [
    "def find_permutation(arr):\n",
    "    def find_permutation_recursion(idx=0):\n",
    "        if idx >= len(arr):\n",
    "            result.append(arr.copy())\n",
    "            return\n",
    "        \n",
    "        for i in range(idx, len(arr)):\n",
    "            arr[idx], arr[i] = arr[i], arr[idx]\n",
    "            find_permutation_recursion(idx+1)\n",
    "            arr[idx], arr[i] = arr[i], arr[idx]\n",
    "\n",
    "    result = []\n",
    "    find_permutation_recursion()\n",
    "    return result\n",
    "\n",
    "nums=[1,2,3]\n",
    "find_permutation(nums)"
   ]
  },
  {
   "cell_type": "markdown",
   "id": "f4176252",
   "metadata": {},
   "source": [
    "## 51. N-Queens - Hard\n",
    "    \n",
    "<div><p>The <strong>n-queens</strong> puzzle is the problem of placing <code>n</code> queens on an <code>n x n</code> chessboard such that no two queens attack each other.</p>\n",
    "\n",
    "<p>Given an integer <code>n</code>, return <em>all distinct solutions to the <strong>n-queens puzzle</strong></em>. You may return the answer in <strong>any order</strong>.</p>\n",
    "\n",
    "<p>Each solution contains a distinct board configuration of the n-queens' placement, where <code>'Q'</code> and <code>'.'</code> both indicate a queen and an empty space, respectively.</p>\n",
    "\n",
    "<p>&nbsp;</p>\n",
    "<p><strong>Example 1:</strong></p>\n",
    "<img alt=\"\" src=\"https://assets.leetcode.com/uploads/2020/11/13/queens.jpg\" style=\"width: 600px; height: 268px;\">\n",
    "<pre><strong>Input:</strong> n = 4\n",
    "<strong>Output:</strong> [[\".Q..\",\"...Q\",\"Q...\",\"..Q.\"],[\"..Q.\",\"Q...\",\"...Q\",\".Q..\"]]\n",
    "<strong>Explanation:</strong> There exist two distinct solutions to the 4-queens puzzle as shown above\n",
    "</pre>\n",
    "\n",
    "<p><strong>Example 2:</strong></p>\n",
    "\n",
    "<pre><strong>Input:</strong> n = 1\n",
    "<strong>Output:</strong> [[\"Q\"]]\n",
    "</pre>"
   ]
  },
  {
   "cell_type": "code",
   "execution_count": 624,
   "id": "0562aa08",
   "metadata": {},
   "outputs": [
    {
     "name": "stdout",
     "output_type": "stream",
     "text": [
      "2\n"
     ]
    },
    {
     "data": {
      "text/plain": [
       "[[['.', '.', 'Q', '.'],\n",
       "  ['Q', '.', '.', '.'],\n",
       "  ['.', '.', '.', 'Q'],\n",
       "  ['.', 'Q', '.', '.']],\n",
       " [['.', 'Q', '.', '.'],\n",
       "  ['.', '.', '.', 'Q'],\n",
       "  ['Q', '.', '.', '.'],\n",
       "  ['.', '.', 'Q', '.']]]"
      ]
     },
     "execution_count": 624,
     "metadata": {},
     "output_type": "execute_result"
    }
   ],
   "source": [
    "def find_nqueens_position(n):\n",
    "    def is_safe(row, col):\n",
    "        row_aux, col_aux = row-1, col-1\n",
    "        while row_aux >= 0 and col_aux >= 0:\n",
    "            if board[row_aux][col_aux] == \"Q\":\n",
    "                return False\n",
    "            row_aux -= 1\n",
    "            col_aux -= 1\n",
    "        \n",
    "        col_aux = col-1\n",
    "        while col_aux >= 0:\n",
    "            if board[row][col_aux] == \"Q\":\n",
    "                return False\n",
    "            col_aux -= 1\n",
    "        \n",
    "        row_aux, col_aux = row+1, col-1\n",
    "        while row_aux < len(board) and col_aux >= 0:\n",
    "            if board[row_aux][col_aux] == \"Q\":\n",
    "                return False\n",
    "            row_aux += 1\n",
    "            col_aux -= 1\n",
    "            \n",
    "        return True\n",
    "        \n",
    "    def find_nqueens_position_recursive(col=0):\n",
    "        if col >= n:\n",
    "            result.append([row[:] for row in board])\n",
    "            return 1\n",
    "        ways = 0\n",
    "        for i in range(len(board)):\n",
    "            board[i][col] = \"Q\"\n",
    "            if is_safe(i, col):\n",
    "                ways += find_nqueens_position_recursive(col+1)\n",
    "            board[i][col] = \".\"\n",
    "            \n",
    "        return ways\n",
    "    \n",
    "    board = [[\".\"]*n for i in range(n)]\n",
    "    result = []\n",
    "    print(find_nqueens_position_recursive())\n",
    "    return result\n",
    "    \n",
    "find_nqueens_position(4)"
   ]
  },
  {
   "cell_type": "markdown",
   "id": "82d19048",
   "metadata": {},
   "source": [
    "## 131. Palindrome Partitioning - Medium\n",
    "\n",
    "Given a string s, partition s such that every substring of the partition is a palindrome. Return all possible palindrome partitioning of s.\n",
    "\n",
    "A palindrome string is a string that reads the same backward as forward.\n",
    "\n",
    "__Example 1:__\n",
    "\n",
    "Input: s = \"aab\"\n",
    "\n",
    "Output: [[\"a\",\"a\",\"b\"],[\"aa\",\"b\"]]\n",
    "\n",
    "__Example 2:__\n",
    "\n",
    "Input: s = \"a\"\n",
    "\n",
    "Output: [[\"a\"]]"
   ]
  },
  {
   "cell_type": "code",
   "execution_count": 465,
   "id": "d9269b2c",
   "metadata": {},
   "outputs": [
    {
     "data": {
      "text/plain": [
       "[['a', 'a', 'b'], ['aa', 'a', 'b']]"
      ]
     },
     "execution_count": 465,
     "metadata": {},
     "output_type": "execute_result"
    }
   ],
   "source": [
    "def partition(string):\n",
    "    def is_palindrome(substring):\n",
    "        start = 0\n",
    "        end = len(substring)-1\n",
    "        \n",
    "        while start <= end:\n",
    "            if substring[start] != substring[end]:\n",
    "                return False\n",
    "            start += 1\n",
    "            end -= 1\n",
    "            \n",
    "        return True\n",
    "    \n",
    "    def partition_recursive(substring, idx=0, temp=[]):\n",
    "        if idx >= len(substring):\n",
    "            result.append(temp.copy())\n",
    "            return\n",
    "        \n",
    "        for i in range(idx, len(substring)):\n",
    "            if is_palindrome(substring[idx:i+1]):\n",
    "                temp.append(substring[idx:i+1])\n",
    "                partition_recursive(substring, idx+1, temp)\n",
    "                temp.pop()\n",
    "                \n",
    "    result = []\n",
    "    partition_recursive(string)\n",
    "    return result\n",
    "\n",
    "s = \"aab\"\n",
    "partition(s)"
   ]
  },
  {
   "cell_type": "markdown",
   "id": "6ea467d8",
   "metadata": {},
   "source": [
    "## Rat in a Maze Problem - I - Medium\n",
    "\n",
    "Consider a rat placed at (0, 0) in a square matrix of order N * N. It has to reach the destination at (N - 1, N - 1).\n",
    "\n",
    "Find all possible paths that the rat can take to reach from source to destination. The directions in which the rat can move are 'U'(up), 'D'(down), 'L' (left), 'R' (right). Value 0 at a cell in the matrix represents that it is blocked and rat cannot move to it while value 1 at a cell in the matrix represents that rat can be travel through it.\n",
    "\n",
    "__Note:__ In a path, no cell can be visited more than one time. If the source cell is 0, the rat cannot move to any other cell.\n",
    "\n",
    "__Example 1:__\n",
    "\n",
    "Input:\n",
    "\n",
    "N = 4\n",
    "\n",
    "m[][] = {{1, 0, 0, 0},\n",
    "         {1, 1, 0, 1}, \n",
    "         {1, 1, 0, 0},\n",
    "         {0, 1, 1, 1}}\n",
    "\n",
    "Output:\n",
    "\n",
    "[\"DDRDRR\",\"DRDDRR\"]\n",
    "\n",
    "Explanation:\n",
    "\n",
    "The rat can reach the destination at \n",
    "(3, 3) from (0, 0) by two paths - DRDDRR \n",
    "and DDRDRR, when printed in sorted order \n",
    "we get DDRDRR DRDDRR.\n",
    "\n",
    "__Example 2:__\n",
    "\n",
    "Input:\n",
    "\n",
    "N = 2\n",
    "\n",
    "m[][] = {{1, 0},\n",
    "         {1, 0}}\n",
    "Output:\n",
    "-1\n",
    "\n",
    "Explanation:\n",
    "\n",
    "No path exists and destination cell is \n",
    "blocked.\n",
    "\n",
    "__Your Task:__\n",
    "You don't need to read input or print anything. Complete the function printPath() which takes N and 2D array m[ ][ ] as input parameters and returns the list of paths in lexicographically increasing order. "
   ]
  },
  {
   "cell_type": "code",
   "execution_count": 463,
   "id": "f4a88ab3",
   "metadata": {},
   "outputs": [
    {
     "data": {
      "text/plain": [
       "['DDRDRR', 'DRDDRR']"
      ]
     },
     "execution_count": 463,
     "metadata": {},
     "output_type": "execute_result"
    }
   ],
   "source": [
    "def find_path(maze):\n",
    "    def util(row=0, col=0, path=\"\"):\n",
    "        if row == len(maze)-1 and col == len(maze[0])-1:\n",
    "            result.append(path)\n",
    "            return\n",
    "        if ((row >= len(maze) or row < 0) or \n",
    "            (col >= len(maze[0]) or col < 0)) or maze[row][col] == 0:\n",
    "            return\n",
    "        \n",
    "        for key in directions:\n",
    "            temp = maze[row][col]\n",
    "            maze[row][col] = 0\n",
    "            util(row + directions[key][0], col + directions[key][1], path+key)\n",
    "            maze[row][col] = temp\n",
    "            \n",
    "    result = []\n",
    "    directions = {\"U\":(-1,0), \"D\":(1,0), \"L\":(0,-1), \"R\":(0,1)}\n",
    "    util()\n",
    "    return result\n",
    "        \n",
    "\n",
    "maze = [[1, 0, 0, 0], [1, 1, 0, 1], [1, 1, 0, 0], [0, 1, 1, 1]]\n",
    "find_path(maze)"
   ]
  },
  {
   "cell_type": "markdown",
   "id": "acbb95fa",
   "metadata": {},
   "source": [
    "## 60. K-th Permutation Sequence - Hard\n",
    "\n",
    "The set [1, 2, 3, ..., n] contains a total of n! unique permutations.\n",
    "\n",
    "By listing and labeling all of the permutations in order, we get the following sequence for n = 3:\n",
    "```python\n",
    "\"123\"\n",
    "\"132\"\n",
    "\"213\"\n",
    "\"231\"\n",
    "\"312\"\n",
    "\"321\"\n",
    "```\n",
    "\n",
    "Given n and k, return the kth permutation sequence.\n",
    "\n",
    " \n",
    "\n",
    "__Example 1:__\n",
    "\n",
    "Input: n = 3, k = 3\n",
    "\n",
    "Output: \"213\"\n",
    "\n",
    "__Example 2:__\n",
    "\n",
    "Input: n = 4, k = 9\n",
    "\n",
    "Output: \"2314\"\n",
    "\n",
    "__Example 3:__\n",
    "\n",
    "Input: n = 3, k = 1\n",
    "\n",
    "Output: \"123\""
   ]
  },
  {
   "cell_type": "code",
   "execution_count": 493,
   "id": "d29fee0f",
   "metadata": {},
   "outputs": [
    {
     "data": {
      "text/plain": [
       "[2, 3, 1, 4]"
      ]
     },
     "execution_count": 493,
     "metadata": {},
     "output_type": "execute_result"
    }
   ],
   "source": [
    "# brute force - TC: O(n!) - SC: O(n)\n",
    "def find_permutation(n, k):\n",
    "    def find_permutation_recursion(idx=0):\n",
    "        if idx >= len(arr):\n",
    "            result.append(arr.copy())\n",
    "            return\n",
    "        \n",
    "        for i in range(idx, len(arr)):\n",
    "            arr[i], arr[idx] = arr[idx], arr[i]\n",
    "            find_permutation_recursion(idx+1)\n",
    "            arr[i], arr[idx] = arr[idx], arr[i]\n",
    "        \n",
    "    result = []\n",
    "    arr = [i for i in range(1,n+1)]\n",
    "    find_permutation_recursion()\n",
    "    return result[k-1]\n",
    "\n",
    "find_permutation(4,9)"
   ]
  },
  {
   "cell_type": "code",
   "execution_count": 544,
   "id": "8519ac69",
   "metadata": {},
   "outputs": [
    {
     "data": {
      "text/plain": [
       "[2, 3, 1, 4]"
      ]
     },
     "execution_count": 544,
     "metadata": {},
     "output_type": "execute_result"
    }
   ],
   "source": [
    "# optimized - TC: O(n^2)\n",
    "def find_permutation(n, k):\n",
    "    def factorial(n):\n",
    "        res = 1\n",
    "        for i in range(1, n+1):\n",
    "            res *= i\n",
    "\n",
    "        return res\n",
    "    \n",
    "    def find_permutation_recursion(array,k):\n",
    "        if len(array) <= 1:\n",
    "            result.append(array[0])\n",
    "            return\n",
    "        \n",
    "        peek = k//factorial(len(array[1:]))\n",
    "        new_k = k%factorial(len(array[1:]))\n",
    "        result.append(array.pop(peek))\n",
    "        find_permutation_recursion(array, new_k)\n",
    "        \n",
    "    result = []\n",
    "    arr = [i for i in range(1,n+1)]\n",
    "    find_permutation_recursion(arr,k-1)\n",
    "    return result\n",
    "\n",
    "find_permutation(4,9)"
   ]
  },
  {
   "cell_type": "markdown",
   "id": "470fe09f",
   "metadata": {},
   "source": [
    "## Power Function"
   ]
  },
  {
   "cell_type": "code",
   "execution_count": 547,
   "id": "8b8ba3bc",
   "metadata": {},
   "outputs": [
    {
     "data": {
      "text/plain": [
       "1024"
      ]
     },
     "execution_count": 547,
     "metadata": {},
     "output_type": "execute_result"
    }
   ],
   "source": [
    "# brute force - TC: O(n), SC: O(n)\n",
    "def power(x, y):\n",
    "    if y <= 0:\n",
    "        return 1\n",
    "    return x * power(x, y-1)\n",
    "\n",
    "power(2,10)"
   ]
  },
  {
   "cell_type": "code",
   "execution_count": 551,
   "id": "ccd9cb3e",
   "metadata": {},
   "outputs": [
    {
     "data": {
      "text/plain": [
       "1024"
      ]
     },
     "execution_count": 551,
     "metadata": {},
     "output_type": "execute_result"
    }
   ],
   "source": [
    "# optimized - TC: O(log n), SC: O(log n)\n",
    "\"\"\"\n",
    "2^10 = 2^5 * 2^5\n",
    "2^5 = 2^4 * 2\n",
    "2^4 = 2^2 * 2^2\n",
    "2^2 = 2 * 2\n",
    "2^1 = 2^0 * 2\n",
    "\"\"\"\n",
    "\n",
    "def power(x, y):\n",
    "    if y <= 0:\n",
    "        return 1\n",
    "    \n",
    "    \n",
    "    sub_problem = power(x, y//2)\n",
    "    sub_problem_squared = sub_problem*sub_problem\n",
    "    if y%2 == 0:\n",
    "        return sub_problem_squared\n",
    "    else:\n",
    "        return x * sub_problem_squared\n",
    "    \n",
    "power(2, 10)"
   ]
  },
  {
   "cell_type": "markdown",
   "id": "1ee74ef8",
   "metadata": {},
   "source": [
    "## Tiling Problem\n",
    "\n",
    "How many ways can put tiles (4x1 or 1x4) in a board 4xN."
   ]
  },
  {
   "cell_type": "code",
   "execution_count": 569,
   "id": "40309fe1",
   "metadata": {},
   "outputs": [
    {
     "data": {
      "text/plain": [
       "2"
      ]
     },
     "execution_count": 569,
     "metadata": {},
     "output_type": "execute_result"
    }
   ],
   "source": [
    "def count_ways(n):\n",
    "    if n <= 3:\n",
    "        return 1\n",
    "    \n",
    "    return count_ways(n-1) + count_ways(n-4)\n",
    "\n",
    "count_ways(4)"
   ]
  },
  {
   "cell_type": "markdown",
   "id": "3ff28077",
   "metadata": {},
   "source": [
    "## Count Strings with no consecutive ones\n",
    "\n",
    "ex: 101 is valid, 110 is not valid"
   ]
  },
  {
   "cell_type": "code",
   "execution_count": 573,
   "id": "d1976231",
   "metadata": {},
   "outputs": [
    {
     "data": {
      "text/plain": [
       "5"
      ]
     },
     "execution_count": 573,
     "metadata": {},
     "output_type": "execute_result"
    }
   ],
   "source": [
    "def count_strings(n):\n",
    "    if n == 1:\n",
    "        return 2\n",
    "    if n < 1:\n",
    "        return 1\n",
    "    \n",
    "    return count_strings(n-1) + count_strings(n-2)\n",
    "\n",
    "count_strings(3)"
   ]
  },
  {
   "cell_type": "markdown",
   "id": "e9aa8b19",
   "metadata": {},
   "source": [
    "## Friend Pairing Problem"
   ]
  },
  {
   "cell_type": "code",
   "execution_count": 594,
   "id": "5381106c",
   "metadata": {},
   "outputs": [
    {
     "data": {
      "text/plain": [
       "2"
      ]
     },
     "execution_count": 594,
     "metadata": {},
     "output_type": "execute_result"
    }
   ],
   "source": [
    "def count_pairing_friends(n):\n",
    "    if n <= 1:\n",
    "        return 0\n",
    "    \n",
    "    alone = 1 + count_pairing_friends(n-1) \n",
    "    pair = 1 + count_pairing_friends(n-2) \n",
    "    \n",
    "    return alone + pair\n",
    "\n",
    "count_pairing_friends(2)"
   ]
  },
  {
   "cell_type": "markdown",
   "id": "98820642",
   "metadata": {},
   "source": [
    "## Subset of a String"
   ]
  },
  {
   "cell_type": "code",
   "execution_count": 600,
   "id": "ffd75c0b",
   "metadata": {},
   "outputs": [
    {
     "data": {
      "text/plain": [
       "['abc', 'ab', 'ac', 'a', 'bc', 'b', 'c', '']"
      ]
     },
     "execution_count": 600,
     "metadata": {},
     "output_type": "execute_result"
    }
   ],
   "source": [
    "def find_subset(string):\n",
    "    def find_subset_util(idx=0, temp=[]):\n",
    "        if len(string) <= idx:\n",
    "            result.append(\"\".join(temp))\n",
    "            return\n",
    "        \n",
    "        temp.append(string[idx])\n",
    "        find_subset_util(idx+1, temp)\n",
    "        temp.pop()\n",
    "        find_subset_util(idx+1, temp)\n",
    "        \n",
    "    result = []\n",
    "    find_subset_util()\n",
    "    return result\n",
    "\n",
    "st = \"abc\"\n",
    "find_subset(st)"
   ]
  },
  {
   "cell_type": "code",
   "execution_count": 613,
   "id": "16eb5cf4",
   "metadata": {},
   "outputs": [
    {
     "name": "stdout",
     "output_type": "stream",
     "text": [
      "[5, 4, 3, 2, 1]\n"
     ]
    }
   ],
   "source": [
    "arr = [1,2,3,4,5]\n",
    "arr.sort(reverse=True)\n",
    "print(arr)"
   ]
  },
  {
   "cell_type": "markdown",
   "id": "61aa5551",
   "metadata": {},
   "source": [
    "## Generate Brackets Problem"
   ]
  },
  {
   "cell_type": "code",
   "execution_count": 637,
   "id": "b7287225",
   "metadata": {},
   "outputs": [
    {
     "name": "stdout",
     "output_type": "stream",
     "text": [
      "((()))\n",
      "(()())\n",
      "(())()\n",
      "()(())\n",
      "()()()\n",
      "\n",
      "\n",
      "((()))\n",
      "(()())\n",
      "(())()\n",
      "()(())\n",
      "()()()\n"
     ]
    }
   ],
   "source": [
    "def generate_brackets(n):\n",
    "    def generate_brackets_helper(temp=[],op=0,cl=0):\n",
    "        if op == n and cl == op:\n",
    "            print(\"\".join(temp))\n",
    "            return\n",
    "        \n",
    "        if op < n:\n",
    "            temp.append(\"(\")\n",
    "            generate_brackets_helper(temp,op+1,cl)\n",
    "            temp.pop()\n",
    "        if cl < op:\n",
    "            temp.append(\")\")\n",
    "            generate_brackets_helper(temp,op,cl+1)\n",
    "            temp.pop()\n",
    "        \n",
    "    generate_brackets_helper()\n",
    "\n",
    "generate_brackets(3)\n",
    "\n",
    "\n",
    "print(\"\\n\")\n",
    "\n",
    "def generate_brackets(n):\n",
    "    def generate_brackets_helper(temp=\"\",op=0,cl=0):\n",
    "        if op == n and cl == op:\n",
    "            print(temp)\n",
    "            return\n",
    "        \n",
    "        if op < n:\n",
    "            generate_brackets_helper(temp+\"(\",op+1,cl)\n",
    "        if cl < op:\n",
    "            generate_brackets_helper(temp+\")\",op,cl+1)\n",
    "        \n",
    "    generate_brackets_helper()\n",
    "\n",
    "generate_brackets(3)"
   ]
  },
  {
   "cell_type": "markdown",
   "id": "6759be22",
   "metadata": {},
   "source": [
    "## Soduko Solver"
   ]
  },
  {
   "cell_type": "code",
   "execution_count": 664,
   "id": "73d092ee",
   "metadata": {},
   "outputs": [
    {
     "data": {
      "text/plain": [
       "([[[3, 1, 6, 5, 7, 8, 4, 9, 2],\n",
       "   [5, 2, 9, 1, 3, 4, 6, 7, 8],\n",
       "   [4, 8, 7, 2, 6, 9, 5, 3, 1],\n",
       "   [2, 6, 3, 4, 1, 5, 9, 8, 7],\n",
       "   [9, 7, 4, 8, 6, 3, 1, 2, 5],\n",
       "   [8, 5, 1, 7, 9, 2, 6, 4, 3],\n",
       "   [1, 3, 8, 9, 4, 7, 2, 5, 6],\n",
       "   [6, 9, 2, 3, 5, 1, 8, 7, 4],\n",
       "   [7, 4, 5, 2, 8, 6, 3, 1, 9]]],\n",
       " True)"
      ]
     },
     "execution_count": 664,
     "metadata": {},
     "output_type": "execute_result"
    }
   ],
   "source": [
    "def solve_soduko(grid):\n",
    "    def can_place(row, col, num):\n",
    "        # verify row and col\n",
    "        i = row-1\n",
    "        while i >= 0:\n",
    "            if grid[i][col] == num:\n",
    "                return False\n",
    "            i -= 1\n",
    "        \n",
    "        j = col-1\n",
    "        while j >= 0:\n",
    "            if grid[row][j] == num:\n",
    "                return False\n",
    "            j -= 1\n",
    "            \n",
    "            \n",
    "        # verify subgrid\n",
    "        sqrt_size_grid = int(len(grid)**0.5)\n",
    "        sub_row = (row//sqrt_size_grid)*sqrt_size_grid\n",
    "        sub_col = (col//sqrt_size_grid)*sqrt_size_grid\n",
    "\n",
    "        for i in range(sub_row, sub_row+sqrt_size_grid):\n",
    "            for j in range(sub_col, sub_col+sqrt_size_grid):\n",
    "                if grid[i][j] == num:\n",
    "                    return False\n",
    "        \n",
    "        return True\n",
    "        \n",
    "    def solve_soduko_util(row=0, col=0):\n",
    "        # base case\n",
    "        if row >= len(grid):\n",
    "            result.append([r[:] for r in grid])\n",
    "            return True\n",
    "\n",
    "        # recursive case\n",
    "        if col >= len(grid[0]):\n",
    "            return solve_soduko_util(row+1, 0)\n",
    "        \n",
    "        if grid[row][col] != 0:\n",
    "            return solve_soduko_util(row, col+1)\n",
    "        \n",
    "        for i in range(1, len(grid)+1):\n",
    "            if can_place(row, col, i):\n",
    "                grid[row][col] = i\n",
    "                if solve_soduko_util(row, col+1):\n",
    "                    return True\n",
    "                \n",
    "        grid[row][col] = 0\n",
    "        return False\n",
    "        \n",
    "    result = []\n",
    "    res = solve_soduko_util()\n",
    "    return result, res\n",
    "\n",
    "grid = [ [3, 0, 6, 5, 0, 8, 4, 0, 0], \n",
    "         [5, 2, 0, 0, 0, 0, 0, 0, 0], \n",
    "         [0, 8, 7, 0, 0, 0, 0, 3, 1], \n",
    "         [0, 0, 3, 0, 1, 0, 0, 8, 0], \n",
    "         [9, 0, 0, 8, 6, 3, 0, 0, 5], \n",
    "         [0, 5, 0, 0, 9, 0, 6, 0, 0], \n",
    "         [1, 3, 0, 0, 0, 0, 2, 5, 0], \n",
    "         [0, 0, 0, 0, 0, 0, 0, 7, 4], \n",
    "         [0, 0, 5, 2, 0, 6, 3, 0, 0] ]\n",
    "\n",
    "solve_soduko(grid)"
   ]
  },
  {
   "cell_type": "markdown",
   "id": "fe3aa82b",
   "metadata": {},
   "source": [
    "## Hamiltonian Path"
   ]
  },
  {
   "cell_type": "code",
   "execution_count": 687,
   "id": "44bff5ee",
   "metadata": {},
   "outputs": [
    {
     "name": "stdout",
     "output_type": "stream",
     "text": [
      "path [1]: 0->1->2->3\n",
      "path [2]: 0->1->3->2\n",
      "path [3]: 2->3->1->0\n",
      "path [4]: 3->2->1->0\n"
     ]
    }
   ],
   "source": [
    "def find_path(graph):\n",
    "    def find_path_util(node, temp, count_nodes=0):\n",
    "        if count_nodes >= len(graph)-1:\n",
    "            result.append([str(i) for i in temp])\n",
    "            return\n",
    "\n",
    "        for nei in graph[node]:\n",
    "            if nei not in visited:\n",
    "                visited.add(nei)\n",
    "                temp.append(nei)\n",
    "                find_path_util(nei, temp, count_nodes+1)\n",
    "                temp.pop()\n",
    "                visited.remove(nei)\n",
    "\n",
    "                \n",
    "    result = []\n",
    "    visited = set()\n",
    "    temp = []\n",
    "    \n",
    "    for node in graph:\n",
    "        temp.append(node)\n",
    "        visited.add(node)\n",
    "        find_path_util(node, temp)\n",
    "        visited.remove(node)\n",
    "        temp.pop()\n",
    "    \n",
    "    count = 1\n",
    "    for row in result:\n",
    "        print(\"path [{}]:\".format(count),\"->\".join(row))\n",
    "        count += 1\n",
    "\n",
    "graph = {\n",
    "    0:[1],\n",
    "    1:[0,2,3],\n",
    "    2:[1,3],\n",
    "    3:[1,2],\n",
    "}\n",
    "\n",
    "find_path(graph)"
   ]
  },
  {
   "cell_type": "markdown",
   "id": "8855363b",
   "metadata": {},
   "source": [
    "## Autobiographical Numbers"
   ]
  },
  {
   "cell_type": "code",
   "execution_count": 714,
   "id": "b4012879",
   "metadata": {},
   "outputs": [
    {
     "name": "stdout",
     "output_type": "stream",
     "text": [
      "3\n",
      "\n",
      "\n"
     ]
    },
    {
     "data": {
      "text/plain": [
       "['1210', '2020']"
      ]
     },
     "execution_count": 714,
     "metadata": {},
     "output_type": "execute_result"
    }
   ],
   "source": [
    "def count_autobio_nums(string):\n",
    "    freq_map = {}\n",
    "    \n",
    "    for char in string:\n",
    "        if char not in freq_map:\n",
    "            freq_map[char] = 0\n",
    "        freq_map[char] += 1\n",
    "        \n",
    "    result = 0\n",
    "    for i in range(len(string)):\n",
    "        if str(i) in freq_map and freq_map[str(i)] == int(string[i]):\n",
    "            result += 1\n",
    "            \n",
    "    return result\n",
    "    \n",
    "print(count_autobio_nums(\"1210\"))\n",
    "\n",
    "print(\"\\n\")\n",
    "\n",
    "def count_autobio_nums(n):\n",
    "    def is_valid(arr):\n",
    "        freq_map = {i:0 for i in range(n)}\n",
    "        for i in arr:\n",
    "            if i in freq_map:\n",
    "                freq_map[i] += 1\n",
    "                \n",
    "        for i in range(n):\n",
    "            if freq_map[i] != arr[i]:\n",
    "                return False\n",
    "            \n",
    "        return True\n",
    "        \n",
    "    def count_autobio_nums_util(temp=[]):\n",
    "        if len(temp) >= n:\n",
    "            if is_valid(temp):\n",
    "                result.append(\"\".join([str(i) for i in temp]))\n",
    "            return\n",
    "        \n",
    "        for i in range(n):\n",
    "            temp.append(i)\n",
    "            count_autobio_nums_util(temp)\n",
    "            temp.pop()\n",
    "            \n",
    "            \n",
    "    result = []\n",
    "    count_autobio_nums_util()\n",
    "    return result\n",
    "            \n",
    "    \n",
    "count_autobio_nums(4)"
   ]
  },
  {
   "cell_type": "markdown",
   "id": "a2bbe322",
   "metadata": {},
   "source": [
    "## Number of ways to fill an array with 0s and 1s such that there is no consecutive 1s."
   ]
  },
  {
   "cell_type": "code",
   "execution_count": 766,
   "id": "d3f704ef",
   "metadata": {},
   "outputs": [
    {
     "name": "stdout",
     "output_type": "stream",
     "text": [
      "17711 13529\n",
      "17711 37\n",
      "5\n",
      "5\n"
     ]
    }
   ],
   "source": [
    "# brute force\n",
    "count = 0\n",
    "def fill(n, memo={}):\n",
    "    global count\n",
    "    count += 1\n",
    "    if n == 2:\n",
    "        return 3\n",
    "    if n == 1:\n",
    "        return 2\n",
    "    \n",
    "    return fill(n-1) + fill(n-2)\n",
    "\n",
    "print(fill(20), count)\n",
    "\n",
    "# memoization\n",
    "count = 0\n",
    "def fill(n, memo={}):\n",
    "    global count\n",
    "    count += 1\n",
    "    if n == 2:\n",
    "        return 3\n",
    "    if n == 1:\n",
    "        return 2\n",
    "    \n",
    "    if n in memo:\n",
    "        return memo[n]\n",
    "    \n",
    "    memo[n] = fill(n-1) + fill(n-2)\n",
    "    return memo[n]\n",
    "\n",
    "print(fill(20), count)\n",
    "\n",
    "# tabulation\n",
    "def fill(n):\n",
    "    tab = [0,2,3]\n",
    "    \n",
    "    for i in range(2, n+1):\n",
    "        tab.append(tab[i-1]+tab[i-2])\n",
    "        \n",
    "    return tab[-1]\n",
    "    \n",
    "print(fill(3))\n",
    "\n",
    "# variables\n",
    "# tabulation\n",
    "def fill(n):\n",
    "    first = 2\n",
    "    second = 3\n",
    "    \n",
    "    for i in range(2, n):\n",
    "        third = first + second\n",
    "        first = second\n",
    "        second = third\n",
    "        \n",
    "    return third\n",
    "    \n",
    "print(fill(3))"
   ]
  },
  {
   "cell_type": "markdown",
   "id": "a08b8294",
   "metadata": {},
   "source": [
    "## Print the number of set bits for each number from 1 to n"
   ]
  },
  {
   "cell_type": "code",
   "execution_count": 798,
   "id": "fcfd76ef",
   "metadata": {},
   "outputs": [
    {
     "name": "stdout",
     "output_type": "stream",
     "text": [
      "[0, 1, 1, 2, 1, 2, 2, 3, 1, 2, 2]\n",
      "\n",
      "\n",
      "[0, 1, 1, 2, 1, 2, 2, 3, 1, 2, 2]\n"
     ]
    }
   ],
   "source": [
    "# brute force - TC: O(n * log n), SC: O(n)\n",
    "def print_number(n):\n",
    "    dividend = n\n",
    "    answer = []\n",
    "    \n",
    "    for dividend in range(n+1):\n",
    "        count = 0\n",
    "        while dividend > 0:\n",
    "            remainder = dividend%2\n",
    "            dividend = dividend//2\n",
    "            if remainder == 1:\n",
    "                count += 1\n",
    "\n",
    "        answer.append(count)\n",
    "\n",
    "    return answer\n",
    "    \n",
    "print(print_number(10))\n",
    "\n",
    "print(\"\\n\")\n",
    "\n",
    "# TC: O(n), SC: O(n)\n",
    "def print_number(n):\n",
    "    tab = [0]\n",
    "    \n",
    "    for i in range(1,n+1):\n",
    "        tab.append(tab[i//2] + (i%2))\n",
    "\n",
    "    return tab\n",
    "    \n",
    "print(print_number(10))\n",
    "\n",
    "\n"
   ]
  },
  {
   "cell_type": "markdown",
   "id": "6a64ae5a",
   "metadata": {},
   "source": [
    "## 198. House Robber - Medium\n",
    "\n",
    "You are a professional robber planning to rob houses along a street. Each house has a certain amount of money stashed, the only constraint stopping you from robbing each of them is that adjacent houses have security systems connected and it will automatically contact the police if two adjacent houses were broken into on the same night.\n",
    "\n",
    "Given an integer array nums representing the amount of money of each house, return the maximum amount of money you can rob tonight without alerting the police.\n",
    "\n",
    " \n",
    "\n",
    "__Example 1:__\n",
    "\n",
    "Input: nums = [1,2,3,1]\n",
    "\n",
    "Output: 4\n",
    "\n",
    "Explanation: Rob house 1 (money = 1) and then rob house 3 (money = 3).\n",
    "\n",
    "Total amount you can rob = 1 + 3 = 4.\n",
    "\n",
    "__Example 2:__\n",
    "\n",
    "Input: nums = [2,7,9,3,1]\n",
    "\n",
    "Output: 12\n",
    "\n",
    "Explanation: Rob house 1 (money = 2), rob house 3 (money = 9) and rob house 5 (money = 1).\n",
    "\n",
    "Total amount you can rob = 2 + 9 + 1 = 12."
   ]
  },
  {
   "cell_type": "code",
   "execution_count": 817,
   "id": "a609e9b1",
   "metadata": {},
   "outputs": [
    {
     "name": "stdout",
     "output_type": "stream",
     "text": [
      "4 15\n",
      "\n",
      "\n",
      "4 9\n",
      "\n",
      "\n",
      "4\n",
      "\n",
      "\n",
      "4\n"
     ]
    }
   ],
   "source": [
    "# brute force: TC: O(2ˆn), SC: O(n)\n",
    "count = 0\n",
    "def rob_house(houses, idx=0):\n",
    "    global count\n",
    "    count += 1\n",
    "    if idx >= len(houses):\n",
    "        return 0\n",
    "    \n",
    "    peek_house = rob_house(houses, idx+2) + houses[idx]\n",
    "    not_peek_house = rob_house(houses, idx+1)\n",
    "    \n",
    "    return max(peek_house, not_peek_house)\n",
    "\n",
    "nums = [1,2,3,1]\n",
    "print(rob_house(nums), count)\n",
    "\n",
    "print(\"\\n\")\n",
    "\n",
    "# memoization - TC: O(n), SC: O(n)\n",
    "count = 0\n",
    "def rob_house(houses, idx=0, memo={}):\n",
    "    global count\n",
    "    count += 1\n",
    "    if idx >= len(houses):\n",
    "        return 0\n",
    "    \n",
    "    if idx in memo:\n",
    "        return memo[idx]\n",
    "    \n",
    "    peek_house = rob_house(houses, idx+2) + houses[idx]\n",
    "    not_peek_house = rob_house(houses, idx+1)\n",
    "    \n",
    "    memo[idx] = max(peek_house, not_peek_house)\n",
    "    return memo[idx]\n",
    "\n",
    "nums = [1,2,3,1]\n",
    "print(rob_house(nums), count)\n",
    "\n",
    "print(\"\\n\")\n",
    "\n",
    "# tabulation - TC: O(n), SC: O(n)\n",
    "def rob_house(houses):\n",
    "    tab = [houses[0], houses[1]]\n",
    "    \n",
    "    for i in range(2, len(houses)):\n",
    "        tab.append(max(tab[i-1], tab[i-2] + houses[i]))\n",
    "        \n",
    "    return tab[-1]\n",
    "\n",
    "nums = [1,2,3,1]\n",
    "print(rob_house(nums))\n",
    "\n",
    "\n",
    "print(\"\\n\")\n",
    "\n",
    "# variable - TC: O(n), SC: O(1)\n",
    "def rob_house(houses):\n",
    "    h1 = houses[0]\n",
    "    h2 = houses[1]\n",
    "    \n",
    "    for i in range(2, len(houses)):\n",
    "        h3 = max(h2, h1 + houses[i])\n",
    "        h1, h2 = h2, h3\n",
    "        \n",
    "    return h3\n",
    "\n",
    "nums = [1,2,3,1]\n",
    "print(rob_house(nums))"
   ]
  },
  {
   "cell_type": "markdown",
   "id": "5759c4d9",
   "metadata": {},
   "source": [
    "# Linked List"
   ]
  },
  {
   "cell_type": "code",
   "execution_count": 47,
   "id": "df00a7b6",
   "metadata": {},
   "outputs": [],
   "source": [
    "# Singly-Linked List\n",
    "class SinglyLinkedList:\n",
    "    class Node:\n",
    "        def __init__(self, data):\n",
    "            self.data = data\n",
    "            self.next = None\n",
    "            \n",
    "        def __str__(self, node):\n",
    "            if node.next:\n",
    "                return str(node.data) + \"->\" + self.__str__(node.next)\n",
    "            else:\n",
    "                return str(node.data)\n",
    "            \n",
    "    def __init__(self):\n",
    "        self.head = None\n",
    "        self.tail = None\n",
    "        self.size = 0\n",
    "        \n",
    "    def insert_head(self, data):\n",
    "        node = self.Node(data)\n",
    "        \n",
    "        if self.head is None:\n",
    "            self.head = node\n",
    "            self.tail = node\n",
    "            \n",
    "        else:\n",
    "            node.next = self.head\n",
    "            self.head = node\n",
    "            \n",
    "        self.size += 1\n",
    "        \n",
    "    def insert_tail(self, data):\n",
    "        node = self.Node(data)\n",
    "        \n",
    "        if self.tail is None:\n",
    "            self.head = node\n",
    "            self.tail = node\n",
    "            \n",
    "        else:\n",
    "            self.tail.next = node\n",
    "            self.tail = node\n",
    "            \n",
    "        self.size += 1\n",
    "        \n",
    "    def remove_head(self):\n",
    "        if self.head:\n",
    "            output = self.head\n",
    "            self.head = self.head.next\n",
    "            self.size -= 1\n",
    "            return output.data\n",
    "        \n",
    "        raise Exception(\"Head is None!\")\n",
    "        \n",
    "    def remove_tail(self):\n",
    "        if self.tail:\n",
    "            output = self.tail\n",
    "            curr = self.head\n",
    "            while curr.next != self.tail:\n",
    "                curr = curr.next\n",
    "                \n",
    "            self.tail = curr\n",
    "            self.tail.next = None\n",
    "            self.size -= 1\n",
    "            return output.data\n",
    "        \n",
    "        raise Exception(\"Tail is None!\")\n",
    "        \n",
    "    def __str__(self):\n",
    "        return self.head.__str__(self.head)\n",
    "\n",
    "    \n",
    "# Doubly-Linked List\n",
    "class DoublyLinkedList:\n",
    "    class Node:\n",
    "        def __init__(self, data):\n",
    "            self.data = data\n",
    "            self.prev = None\n",
    "            self.next = None\n",
    "        \n",
    "        def __str__(self, node):\n",
    "            if node.next:\n",
    "                return str(node.data) + \"<->\" + self.__str__(node.next)\n",
    "            else:\n",
    "                return str(node.data)\n",
    "            \n",
    "    def __init__(self):\n",
    "        self.head = None\n",
    "        self.tail = None\n",
    "        self.size = 0\n",
    "        \n",
    "    def insert_head(self, data):\n",
    "        node = self.Node(data)\n",
    "        \n",
    "        if self.head is None:\n",
    "            self.head = node\n",
    "            self.tail = node\n",
    "            self.size += 1\n",
    "            \n",
    "        else:\n",
    "            node.next = self.head\n",
    "            self.head.prev = node\n",
    "            self.head = node\n",
    "            self.size += 1\n",
    "            \n",
    "    def insert_tail(self, data):\n",
    "        node = self.Node(data)\n",
    "        \n",
    "        if self.tail is None:\n",
    "            self.head = node\n",
    "            self.tail = node\n",
    "            self.size += 1\n",
    "            \n",
    "        else:\n",
    "            node.prev = self.tail\n",
    "            self.tail.next = node\n",
    "            self.tail = node\n",
    "            self.size += 1\n",
    "            \n",
    "    def remove_head(self):\n",
    "        if self.head:\n",
    "            output = self.head\n",
    "            self.head = self.head.next\n",
    "            self.head.prev = None\n",
    "            self.size -= 1\n",
    "            return output.data\n",
    "        \n",
    "        raise Exception(\"Head is None!\")\n",
    "        \n",
    "    def remove_tail(self):\n",
    "        if self.tail:\n",
    "            output = self.tail\n",
    "            self.tail = self.tail.prev\n",
    "            self.tail.next = None\n",
    "            self.size -= 1\n",
    "            return output.data\n",
    "        \n",
    "        raise Exception(\"Tail is None!\")\n",
    "    \n",
    "    def __str__(self):\n",
    "        return self.head.__str__(self.head)"
   ]
  },
  {
   "cell_type": "code",
   "execution_count": 29,
   "id": "35151539",
   "metadata": {},
   "outputs": [
    {
     "name": "stdout",
     "output_type": "stream",
     "text": [
      "Singly Linked List\n",
      "\n",
      "10->9->8->7->6->5->4->3->2->1 Head: 10 Tail: 1\n",
      "10\n",
      "9->8->7->6->5->4->3->2->1 Head: 9 Tail: 1\n",
      "\n",
      "\n",
      "\n",
      "Doubly Linked List\n",
      "\n",
      "10<->9<->8<->7<->6<->5<->4<->3<->2<->1 Head: 10 Tail: 1\n",
      "10\n",
      "9<->8<->7<->6<->5<->4<->3<->2<->1 Head: 9 Tail: 1\n"
     ]
    }
   ],
   "source": [
    "print(\"Singly Linked List\\n\")\n",
    "sll = SinglyLinkedList()\n",
    "\n",
    "for i in range(1,11):\n",
    "    sll.insert_head(i)\n",
    "    \n",
    "print(sll, \"Head:\", sll.head.data, \"Tail:\", sll.tail.data)\n",
    "print(sll.remove_head())\n",
    "print(sll, \"Head:\", sll.head.data, \"Tail:\", sll.tail.data)\n",
    "\n",
    "print(\"\\n\\n\\nDoubly Linked List\\n\")\n",
    "dll = DoublyLinkedList()\n",
    "\n",
    "for i in range(1,11):\n",
    "    dll.insert_head(i)\n",
    "    \n",
    "print(dll, \"Head:\", dll.head.data, \"Tail:\", dll.tail.data)\n",
    "print(dll.remove_head())\n",
    "print(dll, \"Head:\", dll.head.data, \"Tail:\", dll.tail.data)"
   ]
  },
  {
   "cell_type": "code",
   "execution_count": 30,
   "id": "948ea756",
   "metadata": {},
   "outputs": [
    {
     "name": "stdout",
     "output_type": "stream",
     "text": [
      "Singly Linked List\n",
      "\n",
      "1->2->3->4->5->6->7->8->9->10 Head: 1 Tail: 10\n",
      "10\n",
      "1->2->3->4->5->6->7->8->9 Head: 1 Tail: 9\n",
      "\n",
      "\n",
      "\n",
      "Doubly Linked List\n",
      "\n",
      "10<->9<->8<->7<->6<->5<->4<->3<->2<->1 Head: 10 Tail: 1\n",
      "1\n",
      "10<->9<->8<->7<->6<->5<->4<->3<->2 Head: 10 Tail: 2\n"
     ]
    }
   ],
   "source": [
    "print(\"Singly Linked List\\n\")\n",
    "sll = SinglyLinkedList()\n",
    "\n",
    "for i in range(1,11):\n",
    "    sll.insert_tail(i)\n",
    "    \n",
    "print(sll, \"Head:\", sll.head.data, \"Tail:\", sll.tail.data)\n",
    "print(sll.remove_tail())\n",
    "print(sll, \"Head:\", sll.head.data, \"Tail:\", sll.tail.data)\n",
    "\n",
    "print(\"\\n\\n\\nDoubly Linked List\\n\")\n",
    "dll = DoublyLinkedList()\n",
    "\n",
    "for i in range(1,11):\n",
    "    dll.insert_head(i)\n",
    "    \n",
    "print(dll, \"Head:\", dll.head.data, \"Tail:\", dll.tail.data)\n",
    "print(dll.remove_tail())\n",
    "print(dll, \"Head:\", dll.head.data, \"Tail:\", dll.tail.data)"
   ]
  },
  {
   "cell_type": "markdown",
   "id": "5fdf2071",
   "metadata": {},
   "source": [
    "## Stacks and Queues"
   ]
  },
  {
   "cell_type": "code",
   "execution_count": 40,
   "id": "188a3c1e",
   "metadata": {},
   "outputs": [],
   "source": [
    "class Stack:\n",
    "    def __init__(self):\n",
    "        self.dll = DoublyLinkedList()\n",
    "        \n",
    "    def push(self, data):\n",
    "        self.dll.insert_head(data)\n",
    "        \n",
    "    def pop(self):\n",
    "        return self.dll.remove_head()\n",
    "    \n",
    "    def peek(self):\n",
    "        return self.dll.head.data\n",
    "    \n",
    "    def __str__(self):\n",
    "        return str(self.dll)"
   ]
  },
  {
   "cell_type": "code",
   "execution_count": 45,
   "id": "395f81c7",
   "metadata": {},
   "outputs": [
    {
     "name": "stdout",
     "output_type": "stream",
     "text": [
      "9<->8<->7<->6<->5<->4<->3<->2<->1\n",
      "9\n",
      "8\n",
      "7\n",
      "6<->5<->4<->3<->2<->1\n"
     ]
    }
   ],
   "source": [
    "stack = Stack()\n",
    "\n",
    "for i in range(1, 10):\n",
    "    stack.push(i)\n",
    "    \n",
    "print(stack)\n",
    "print(stack.pop())\n",
    "print(stack.pop())\n",
    "print(stack.pop())\n",
    "print(stack)"
   ]
  },
  {
   "cell_type": "code",
   "execution_count": 52,
   "id": "5e2b0fc1",
   "metadata": {},
   "outputs": [],
   "source": [
    "class Queue:\n",
    "    class Node:\n",
    "        def __init__(self, data):\n",
    "            self.data = data\n",
    "            self.next = None\n",
    "            self.prev = None\n",
    "            \n",
    "        def __str__(self, node):\n",
    "            if node.next:\n",
    "                return str(node.data) + \"->\" + self.__str__(node.next)\n",
    "            else:\n",
    "                return str(node.data)\n",
    "            \n",
    "    def __init__(self):\n",
    "        self.head = None\n",
    "        self.tail = None\n",
    "        \n",
    "    def enqueue(self, data):\n",
    "        node = self.Node(data)\n",
    "        \n",
    "        if self.head is None:\n",
    "            self.head = node\n",
    "            self.tail = node\n",
    "            \n",
    "        else:\n",
    "            self.tail.next = node\n",
    "            node.prev = self.tail\n",
    "            self.tail = node\n",
    "            \n",
    "    def dequeue(self):\n",
    "        if self.head:\n",
    "            output = self.head\n",
    "            self.head = self.head.next\n",
    "            self.head.prev = None\n",
    "            return output.data\n",
    "        \n",
    "        raise Exception(\"Queue is empty!\")\n",
    "        \n",
    "    def top(self):\n",
    "        return self.head.data\n",
    "    \n",
    "    def __str__(self):\n",
    "        return self.head.__str__(self.head)"
   ]
  },
  {
   "cell_type": "code",
   "execution_count": 54,
   "id": "a1caae82",
   "metadata": {},
   "outputs": [
    {
     "name": "stdout",
     "output_type": "stream",
     "text": [
      "1->2->3->4->5->6->7->8->9->10\n",
      "1\n",
      "2->3->4->5->6->7->8->9->10 2\n",
      "2->3->4->5->6->7->8->9->10->90\n"
     ]
    }
   ],
   "source": [
    "queue = Queue()\n",
    "\n",
    "for i in range(1, 11):\n",
    "    queue.enqueue(i)\n",
    "    \n",
    "print(queue)\n",
    "print(queue.dequeue())\n",
    "print(queue, queue.top())\n",
    "queue.enqueue(90)\n",
    "print(queue)"
   ]
  },
  {
   "cell_type": "markdown",
   "id": "21267429",
   "metadata": {},
   "source": [
    "## Binary Tree"
   ]
  },
  {
   "cell_type": "code",
   "execution_count": 92,
   "id": "8bc5af39",
   "metadata": {},
   "outputs": [],
   "source": [
    "from collections import deque\n",
    "class BinaryTree:\n",
    "    class Node:\n",
    "        def __init__(self, data):\n",
    "            self.data = data\n",
    "            self.right = None\n",
    "            self.left = None\n",
    "            \n",
    "        def __str__(self, level=0):\n",
    "            res = \"  \" * level + str(self.data) + \"\\n\"\n",
    "            \n",
    "            if self.left:\n",
    "                res += self.left.__str__(level+1)\n",
    "            if self.right:\n",
    "                res += self.right.__str__(level+1)\n",
    "                \n",
    "            return res\n",
    "    \n",
    "    def __init__(self):\n",
    "        self.root = None\n",
    "        \n",
    "    def insert(self, data):\n",
    "        node = self.Node(data)\n",
    "        \n",
    "        if self.root is None:\n",
    "            self.root = node\n",
    "            \n",
    "        else:\n",
    "            dq = deque()\n",
    "            dq.append(self.root)\n",
    "            \n",
    "            while dq:\n",
    "                current = dq.popleft()\n",
    "                \n",
    "                if current.left:\n",
    "                    dq.append(current.left)\n",
    "                else:\n",
    "                    current.left = node\n",
    "                    break\n",
    "                    \n",
    "                if current.right:\n",
    "                    dq.append(current.right)\n",
    "                else:\n",
    "                    current.right = node\n",
    "                    break\n",
    "                    \n",
    "    def remove(self, data):\n",
    "        dq = deque()\n",
    "        dq.append(self.root)\n",
    "        \n",
    "        while dq:\n",
    "            deleted = dq.popleft()\n",
    "            \n",
    "            if deleted.data == data:\n",
    "                break\n",
    "            if deleted.left:\n",
    "                dq.append(deleted.left)\n",
    "            if deleted.right:\n",
    "                dq.append(deleted.right)\n",
    "        \n",
    "        most_left_node = self.most_left(deleted)\n",
    "        \n",
    "        dq = deque()\n",
    "        dq.append(self.root)\n",
    "        \n",
    "        while dq:\n",
    "            current = dq.popleft()\n",
    "            \n",
    "            if current.left == most_left_node:\n",
    "                current.left = None\n",
    "                break\n",
    "            if current.right == most_left_node:\n",
    "                current.right = None\n",
    "                break\n",
    "                \n",
    "            if current.left:\n",
    "                dq.append(current.left)\n",
    "            if current.right:\n",
    "                dq.append(current.right)\n",
    "        \n",
    "        deleted.data = most_left_node.data\n",
    "        \n",
    "        \n",
    "    def most_left(self, node):\n",
    "        if node.left is None:\n",
    "            return node\n",
    "        return self.most_left(node.left)\n",
    "            \n",
    "    \n",
    "    def __str__(self):\n",
    "        return self.root.__str__()\n",
    "                    "
   ]
  },
  {
   "cell_type": "code",
   "execution_count": 93,
   "id": "b370bf2a",
   "metadata": {},
   "outputs": [
    {
     "name": "stdout",
     "output_type": "stream",
     "text": [
      "1\n",
      "  2\n",
      "    4\n",
      "      8\n",
      "      9\n",
      "    5\n",
      "      10\n",
      "  3\n",
      "    6\n",
      "    7\n",
      "\n",
      "1\n",
      "  8\n",
      "    4\n",
      "      9\n",
      "    5\n",
      "      10\n",
      "  3\n",
      "    6\n",
      "    7\n",
      "\n"
     ]
    }
   ],
   "source": [
    "bt = BinaryTree()\n",
    "\n",
    "for i in range(1,11):\n",
    "    bt.insert(i)\n",
    "    \n",
    "print(bt)\n",
    "bt.remove(2)\n",
    "print(bt)"
   ]
  },
  {
   "cell_type": "markdown",
   "id": "94093041",
   "metadata": {},
   "source": [
    "## Binary Search Tree"
   ]
  },
  {
   "cell_type": "code",
   "execution_count": 118,
   "id": "46ed3b9d",
   "metadata": {},
   "outputs": [],
   "source": [
    "class BinarySearchTree:\n",
    "    class Node:\n",
    "        def __init__(self, data):\n",
    "            self.data = data\n",
    "            self.left = None\n",
    "            self.right = None\n",
    "            \n",
    "        def display(self):\n",
    "            lines, *_ = self._display_aux()\n",
    "            for line in lines:\n",
    "                print(line)\n",
    "\n",
    "        def _display_aux(self):\n",
    "            \"\"\"Returns list of strings, width, height, and horizontal coordinate of the root.\"\"\"\n",
    "            # No child.\n",
    "            if self.right is None and self.left is None:\n",
    "                line = '%s' % self.data\n",
    "                width = len(line)\n",
    "                height = 1\n",
    "                middle = width // 2\n",
    "                return [line], width, height, middle\n",
    "\n",
    "            # Only left child.\n",
    "            if self.right is None:\n",
    "                lines, n, p, x = self.left._display_aux()\n",
    "                s = '%s' % self.data\n",
    "                u = len(s)\n",
    "                first_line = (x + 1) * ' ' + (n - x - 1) * '_' + s\n",
    "                second_line = x * ' ' + '/' + (n - x - 1 + u) * ' '\n",
    "                shifted_lines = [line + u * ' ' for line in lines]\n",
    "                return [first_line, second_line] + shifted_lines, n + u, p + 2, n + u // 2\n",
    "\n",
    "            # Only right child.\n",
    "            if self.left is None:\n",
    "                lines, n, p, x = self.right._display_aux()\n",
    "                s = '%s' % self.data\n",
    "                u = len(s)\n",
    "                first_line = s + x * '_' + (n - x) * ' '\n",
    "                second_line = (u + x) * ' ' + '\\\\' + (n - x - 1) * ' '\n",
    "                shifted_lines = [u * ' ' + line for line in lines]\n",
    "                return [first_line, second_line] + shifted_lines, n + u, p + 2, u // 2\n",
    "\n",
    "            # Two children.\n",
    "            left, n, p, x = self.left._display_aux()\n",
    "            right, m, q, y = self.right._display_aux()\n",
    "            s = '%s' % self.data\n",
    "            u = len(s)\n",
    "            first_line = (x + 1) * ' ' + (n - x - 1) * '_' + s + y * '_' + (m - y) * ' '\n",
    "            second_line = x * ' ' + '/' + (n - x - 1 + u + y) * ' ' + '\\\\' + (m - y - 1) * ' '\n",
    "            if p < q:\n",
    "                left += [n * ' '] * (q - p)\n",
    "            elif q < p:\n",
    "                right += [m * ' '] * (p - q)\n",
    "            zipped_lines = zip(left, right)\n",
    "            lines = [first_line, second_line] + [a + u * ' ' + b for a, b in zipped_lines]\n",
    "            return lines, n + m + u, max(p, q) + 2, n + u // 2\n",
    "        \n",
    "    def __init__(self):\n",
    "        self.root = None\n",
    "        \n",
    "    def insert(self, data):\n",
    "        def _insert(node):\n",
    "            if node is None:\n",
    "                return self.Node(data)\n",
    "            elif data < node.data:\n",
    "                node.left = _insert(node.left)\n",
    "            else:\n",
    "                node.right = _insert(node.right)\n",
    "                \n",
    "            return node\n",
    "                \n",
    "        self.root = _insert(self.root)\n",
    "        \n",
    "    def remove(self, data):\n",
    "        def _remove(node, data):\n",
    "            if node is None:\n",
    "                return\n",
    "            elif data < node.data:\n",
    "                node.left = _remove(node.left, data)\n",
    "            elif data > node.data:\n",
    "                node.right = _remove(node.right, data)\n",
    "            else:\n",
    "                if node.left is None:\n",
    "                    temp = node.right\n",
    "                    node.right = None\n",
    "                    return temp\n",
    "                if node.right is None:\n",
    "                    temp = node.left\n",
    "                    node.left = None\n",
    "                    return temp\n",
    "                \n",
    "                temp = self.get_min(node.right)\n",
    "                node.data = temp.data\n",
    "                node.right = _remove(node.right, temp.data)\n",
    "                \n",
    "            return node\n",
    "                \n",
    "        self.root = _remove(self.root, data)\n",
    "        \n",
    "    def get_min(self, node):\n",
    "        if node is None or node.left is None:\n",
    "            return node\n",
    "        \n",
    "        return self.get_min(node.left)\n",
    "    \n",
    "    def display(self):\n",
    "        self.root.display()"
   ]
  },
  {
   "cell_type": "code",
   "execution_count": 119,
   "id": "5c098b3c",
   "metadata": {},
   "outputs": [
    {
     "name": "stdout",
     "output_type": "stream",
     "text": [
      "   _5_      \n",
      "  /   \\     \n",
      "  3   7__   \n",
      " / \\ /   \\  \n",
      " 2 4 6  10_ \n",
      "/      /   \\\n",
      "1      8  11\n",
      "   _5_     \n",
      "  /   \\    \n",
      "  3   8_   \n",
      " / \\ /  \\  \n",
      " 2 4 6 10_ \n",
      "/         \\\n",
      "1        11\n"
     ]
    }
   ],
   "source": [
    "bst = BinarySearchTree()\n",
    "nodes = [5,3,7,2,10,1,8,4,6,11]\n",
    "\n",
    "for node in nodes:\n",
    "    bst.insert(node)\n",
    "    \n",
    "bst.display()\n",
    "bst.remove(7)\n",
    "bst.display()"
   ]
  },
  {
   "cell_type": "markdown",
   "id": "7a28bf79",
   "metadata": {},
   "source": [
    "## AVL Tree"
   ]
  },
  {
   "cell_type": "code",
   "execution_count": 151,
   "id": "324ce22b",
   "metadata": {},
   "outputs": [],
   "source": [
    "class AVLTree:\n",
    "    class Node:\n",
    "        def __init__(self, data):\n",
    "            self.data = data\n",
    "            self.left = None\n",
    "            self.right = None\n",
    "            \n",
    "        def display(self):\n",
    "            lines, *_ = self._display_aux()\n",
    "            for line in lines:\n",
    "                print(line)\n",
    "\n",
    "        def _display_aux(self):\n",
    "            \"\"\"Returns list of strings, width, height, and horizontal coordinate of the root.\"\"\"\n",
    "            # No child.\n",
    "            if self.right is None and self.left is None:\n",
    "                line = '%s' % self.data\n",
    "                width = len(line)\n",
    "                height = 1\n",
    "                middle = width // 2\n",
    "                return [line], width, height, middle\n",
    "\n",
    "            # Only left child.\n",
    "            if self.right is None:\n",
    "                lines, n, p, x = self.left._display_aux()\n",
    "                s = '%s' % self.data\n",
    "                u = len(s)\n",
    "                first_line = (x + 1) * ' ' + (n - x - 1) * '_' + s\n",
    "                second_line = x * ' ' + '/' + (n - x - 1 + u) * ' '\n",
    "                shifted_lines = [line + u * ' ' for line in lines]\n",
    "                return [first_line, second_line] + shifted_lines, n + u, p + 2, n + u // 2\n",
    "\n",
    "            # Only right child.\n",
    "            if self.left is None:\n",
    "                lines, n, p, x = self.right._display_aux()\n",
    "                s = '%s' % self.data\n",
    "                u = len(s)\n",
    "                first_line = s + x * '_' + (n - x) * ' '\n",
    "                second_line = (u + x) * ' ' + '\\\\' + (n - x - 1) * ' '\n",
    "                shifted_lines = [u * ' ' + line for line in lines]\n",
    "                return [first_line, second_line] + shifted_lines, n + u, p + 2, u // 2\n",
    "\n",
    "            # Two children.\n",
    "            left, n, p, x = self.left._display_aux()\n",
    "            right, m, q, y = self.right._display_aux()\n",
    "            s = '%s' % self.data\n",
    "            u = len(s)\n",
    "            first_line = (x + 1) * ' ' + (n - x - 1) * '_' + s + y * '_' + (m - y) * ' '\n",
    "            second_line = x * ' ' + '/' + (n - x - 1 + u + y) * ' ' + '\\\\' + (m - y - 1) * ' '\n",
    "            if p < q:\n",
    "                left += [n * ' '] * (q - p)\n",
    "            elif q < p:\n",
    "                right += [m * ' '] * (p - q)\n",
    "            zipped_lines = zip(left, right)\n",
    "            lines = [first_line, second_line] + [a + u * ' ' + b for a, b in zipped_lines]\n",
    "            return lines, n + m + u, max(p, q) + 2, n + u // 2\n",
    "        \n",
    "        \n",
    "    def __init__(self):\n",
    "        self.root = None\n",
    "        \n",
    "    def insert(self, data):\n",
    "        def _insert(node):\n",
    "            if node is None:\n",
    "                node = self.Node(data)\n",
    "            elif data < node.data:\n",
    "                node.left = _insert(node.left)\n",
    "            else:\n",
    "                node.right = _insert(node.right)\n",
    "                \n",
    "            node.height = self.get_height(node)\n",
    "            balance = self.get_balance(node)\n",
    "\n",
    "            # left-left situation\n",
    "            if balance > 1 and data < node.left.data:\n",
    "                node = self.rotate_right(node)\n",
    "            \n",
    "            # left-right situation\n",
    "            elif balance > 1 and data > node.left.data:\n",
    "                node.left = self.rotate_left(node.left)\n",
    "                node = self.rotate_right(node)\n",
    "            \n",
    "            # right-right situation\n",
    "            elif balance < -1 and data > node.right.data:\n",
    "                node = self.rotate_left(node)\n",
    "\n",
    "            # right-left situation\n",
    "            elif balance < -1 and data < node.right.data:\n",
    "                node.right = self.rotate_right(node.right)\n",
    "                node = self.rotate_left(node)\n",
    "            \n",
    "            return node\n",
    "        \n",
    "        self.root = _insert(self.root)\n",
    "    \n",
    "    # remove method self balancing\n",
    "    def remove(self, data):\n",
    "        def _remove(node, data):\n",
    "            if node is None:\n",
    "                return\n",
    "            elif data < node.data:\n",
    "                node.left = _remove(node.left, data)\n",
    "            elif data > node.data:\n",
    "                node.right = _remove(node.right, data)\n",
    "            else:\n",
    "                if node.left is None:\n",
    "                    temp = node.right\n",
    "                    node.right = None\n",
    "                    return temp\n",
    "                if node.right is None:\n",
    "                    temp = node.left\n",
    "                    node.left = None\n",
    "                    return temp\n",
    "                \n",
    "                temp = self.get_min(node.right)\n",
    "                node.data = temp.data\n",
    "                node.right = _remove(node.right, temp.data)\n",
    "            \n",
    "            node.height = self.get_height(node)\n",
    "            balance = self.get_balance(node)\n",
    "            \n",
    "            if balance > 1 and data < node.left.data:\n",
    "                node = self.rotate_right(node)\n",
    "            \n",
    "            elif balance > 1 and data > node.left.data:\n",
    "                node.left = self.rotate_left(node.left)\n",
    "                node = self.rotate_right(node)\n",
    "                \n",
    "            elif balance < -1 and data > node.right.data:\n",
    "                node = self.rotate_left(node)\n",
    "                \n",
    "            elif balance < -1 and data < node.right.data:\n",
    "                node.right = self.rotate_right(node.right)\n",
    "                node = self.rotate_left(node)\n",
    "            \n",
    "            return node\n",
    "        \n",
    "        self.root = _remove(self.root, data)\n",
    "        \n",
    "        \n",
    "    def rotate_left(self, node):\n",
    "        new_root = node.right\n",
    "        node.right = new_root.left\n",
    "        new_root.left = node\n",
    "        return new_root\n",
    "    \n",
    "    def rotate_right(self, node):\n",
    "        new_root = node.left\n",
    "        node.left = new_root.right\n",
    "        new_root.right = node\n",
    "        return new_root\n",
    "    \n",
    "    def get_height(self, node):\n",
    "        if node is None:\n",
    "            return 0\n",
    "        \n",
    "        return 1 + max(self.get_height(node.left), self.get_height(node.right)) \n",
    "    \n",
    "    def get_balance(self, node):\n",
    "        if node is None:\n",
    "            return 0\n",
    "        \n",
    "        return self.get_height(node.left) - self.get_height(node.right)\n",
    "    \n",
    "    def get_min(self, node):\n",
    "        if node is None or node.left is None:\n",
    "            return node\n",
    "        \n",
    "        return self.get_min(node.left)\n",
    "    \n",
    "    def display(self):\n",
    "        self.root.display()"
   ]
  },
  {
   "cell_type": "code",
   "execution_count": 152,
   "id": "1f835baa",
   "metadata": {},
   "outputs": [
    {
     "name": "stdout",
     "output_type": "stream",
     "text": [
      "     _________13_______________         \n",
      "    /                          \\        \n",
      "  __5__                 ______21___     \n",
      " /     \\               /           \\    \n",
      " 2     8___         __17___       24_   \n",
      "/ \\   /    \\       /       \\     /   \\  \n",
      "1 3   7   11_     15_     19_   23  25_ \n",
      "   \\ /   /   \\   /   \\   /   \\         \\\n",
      "   4 6  10  12  14  16  18  20        26\n",
      "     _________13_____________         \n",
      "    /                        \\        \n",
      "  __5__                 ____21___     \n",
      " /     \\               /         \\    \n",
      " 2     8___         __18_       24_   \n",
      "/ \\   /    \\       /     \\     /   \\  \n",
      "1 3   7   11_     15_   19_   23  25_ \n",
      "   \\ /   /   \\   /   \\     \\         \\\n",
      "   4 6  10  12  14  16    20        26\n"
     ]
    }
   ],
   "source": [
    "avl = AVLTree()\n",
    "nodes = [5,3,7,2,10,1,8,4,6,11,12,13,14,15,16,17,18,19,20,21,23,24,25,26]\n",
    "\n",
    "for node in nodes:\n",
    "    avl.insert(node)\n",
    "    \n",
    "avl.display()\n",
    "avl.remove(17)\n",
    "avl.display()"
   ]
  },
  {
   "cell_type": "markdown",
   "id": "97c4f3dc",
   "metadata": {},
   "source": [
    "## Check if two tree are equal"
   ]
  },
  {
   "cell_type": "code",
   "execution_count": 169,
   "id": "762225cf",
   "metadata": {},
   "outputs": [
    {
     "name": "stdout",
     "output_type": "stream",
     "text": [
      "     _________13_______________         \n",
      "    /                          \\        \n",
      "  __5__                 ______21___     \n",
      " /     \\               /           \\    \n",
      " 2     8___         __17___       24_   \n",
      "/ \\   /    \\       /       \\     /   \\  \n",
      "1 3   7   11_     15_     19_   23  25_ \n",
      "   \\ /   /   \\   /   \\   /   \\         \\\n",
      "   4 6  10  12  14  16  18  20        26\n",
      "     _________13_______________         \n",
      "    /                          \\        \n",
      "  __5__                 ______21___     \n",
      " /     \\               /           \\    \n",
      " 2     8___         __17___       24_   \n",
      "/ \\   /    \\       /       \\     /   \\  \n",
      "1 3   7   11_     15_     19_   23  25_ \n",
      "   \\ /   /   \\   /   \\   /   \\         \\\n",
      "   4 6  10  12  14  16  18  20        26\n"
     ]
    }
   ],
   "source": [
    "tree1 = AVLTree()\n",
    "tree2 = AVLTree()\n",
    "\n",
    "nodes = [5,3,7,2,10,1,8,4,6,11,12,13,14,15,16,17,18,19,20,21,23,24,25,26]\n",
    "\n",
    "for node in nodes:\n",
    "    tree1.insert(node)\n",
    "    tree2.insert(node)\n",
    "    \n",
    "tree1.display()\n",
    "tree2.display()"
   ]
  },
  {
   "cell_type": "code",
   "execution_count": 172,
   "id": "40246515",
   "metadata": {},
   "outputs": [
    {
     "data": {
      "text/plain": [
       "True"
      ]
     },
     "execution_count": 172,
     "metadata": {},
     "output_type": "execute_result"
    }
   ],
   "source": [
    "def is_equal(t1, t2):\n",
    "    def preorder(node1, node2):\n",
    "        if node1 is None or node2 is None:\n",
    "            if node1 is None and node2 is None:\n",
    "                return True\n",
    "            return False\n",
    "        \n",
    "        if node1.data != node2.data:\n",
    "            return False\n",
    "        \n",
    "        return preorder(node1.left, node2.left) and preorder(node1.right, node2.right)\n",
    "        \n",
    "    return preorder(t1.root, t2.root)\n",
    "\n",
    "is_equal(tree1, tree2)"
   ]
  },
  {
   "cell_type": "markdown",
   "id": "ea94026d",
   "metadata": {},
   "source": [
    "## Heap"
   ]
  },
  {
   "cell_type": "code",
   "execution_count": 186,
   "id": "9c60b2d6",
   "metadata": {},
   "outputs": [],
   "source": [
    "class MinHeap:\n",
    "    def __init__(self):\n",
    "        self.heap = [None]\n",
    "        \n",
    "    def insert(self, data):\n",
    "        self.heap.append(data)\n",
    "        self.arrange()\n",
    "        \n",
    "    def arrange(self):\n",
    "        idx = len(self.heap) - 1\n",
    "        \n",
    "        while idx//2 > 0:\n",
    "            if self.heap[idx] < self.heap[idx//2]:\n",
    "                self.heap[idx], self.heap[idx//2] = self.heap[idx//2], self.heap[idx]\n",
    "            idx = idx//2\n",
    "            \n",
    "    def pop(self):\n",
    "        self.heap[1], self.heap[-1] = self.heap[-1], self.heap[1]\n",
    "        item = self.heap.pop()\n",
    "        self.sink()\n",
    "        return item\n",
    "    \n",
    "    def sink(self):\n",
    "        idx = 1\n",
    "        min_idx = self.get_min_idx(idx)\n",
    "        \n",
    "        while self.heap[idx] > self.heap[min_idx]:\n",
    "            self.heap[idx], self.heap[min_idx] = self.heap[min_idx], self.heap[idx]\n",
    "            idx = min_idx\n",
    "            min_idx = self.get_min_idx(idx)\n",
    "    \n",
    "    def get_min_idx(self, idx):\n",
    "        if 2*idx+1 <= len(self.heap)-1:\n",
    "            if self.heap[2*idx] < self.heap[2*idx+1]:\n",
    "                return 2*idx\n",
    "            else:\n",
    "                return 2*idx+1\n",
    "        return len(self.heap) - 1 \n",
    "        "
   ]
  },
  {
   "cell_type": "code",
   "execution_count": 187,
   "id": "2ede1c08",
   "metadata": {},
   "outputs": [
    {
     "name": "stdout",
     "output_type": "stream",
     "text": [
      "[None, 1, 2, 5, 4, 3, 9, 6, 10, 7, 8]\n",
      "1\n",
      "[None, 2, 3, 5, 4, 7, 9, 6, 10, 8]\n"
     ]
    }
   ],
   "source": [
    "heap = MinHeap()\n",
    "\n",
    "for i in range(10, 0, -1):\n",
    "    heap.insert(i)\n",
    "    \n",
    "print(heap.heap)\n",
    "print(heap.pop())\n",
    "print(heap.heap)"
   ]
  },
  {
   "cell_type": "markdown",
   "id": "b6310cab",
   "metadata": {},
   "source": [
    "# Trie"
   ]
  },
  {
   "cell_type": "code",
   "execution_count": 202,
   "id": "8d2b263b",
   "metadata": {},
   "outputs": [],
   "source": [
    "class Trie:\n",
    "    def __init__(self):\n",
    "        self.trie = {}\n",
    "        \n",
    "    def insert(self, word):\n",
    "        current = self.trie\n",
    "        for char in word:\n",
    "            if char not in current:\n",
    "                current[char] = {\"word\":False, \"prefix\": 0}\n",
    "            current[char][\"prefix\"] += 1\n",
    "            current = current[char]\n",
    "            \n",
    "        current[\"word\"] = True\n",
    "        \n",
    "    def is_word(self, word):\n",
    "        current = self.trie\n",
    "        for char in word:\n",
    "            current = current[char]\n",
    "            \n",
    "        if current[\"word\"]:\n",
    "            return True\n",
    "        \n",
    "        return False\n",
    "    \n",
    "    def count_prefixes(self, word):\n",
    "        current = self.trie\n",
    "        \n",
    "        for char in word:\n",
    "            if char in current:\n",
    "                current = current[char]\n",
    "            else:\n",
    "                raise Exception(\"There is no such prefix\")\n",
    "            \n",
    "        return current[\"prefix\"]"
   ]
  },
  {
   "cell_type": "code",
   "execution_count": 205,
   "id": "5de80c08",
   "metadata": {},
   "outputs": [
    {
     "name": "stdout",
     "output_type": "stream",
     "text": [
      "{'p': {'word': False, 'prefix': 2, 'a': {'word': False, 'prefix': 2, 'u': {'word': False, 'prefix': 2, 'l': {'word': False, 'prefix': 2, 'o': {'word': True, 'prefix': 2, 'r': {'word': True, 'prefix': 1}}}}}}, 'c': {'word': False, 'prefix': 1, 'a': {'word': False, 'prefix': 1, 'r': {'word': False, 'prefix': 1, 'l': {'word': False, 'prefix': 1, 'a': {'word': True, 'prefix': 1}}}}}}\n"
     ]
    },
    {
     "data": {
      "text/plain": [
       "1"
      ]
     },
     "execution_count": 205,
     "metadata": {},
     "output_type": "execute_result"
    }
   ],
   "source": [
    "trie = Trie()\n",
    "\n",
    "trie.insert(\"paulo\")\n",
    "trie.insert(\"paulor\")\n",
    "trie.insert(\"carla\")\n",
    "print(trie.trie)\n",
    "trie.count_prefixes(\"carla\")"
   ]
  },
  {
   "cell_type": "markdown",
   "id": "f0502d15",
   "metadata": {},
   "source": [
    "## Graph"
   ]
  },
  {
   "cell_type": "code",
   "execution_count": null,
   "id": "74a4d6f5",
   "metadata": {},
   "outputs": [],
   "source": []
  },
  {
   "cell_type": "markdown",
   "id": "02f5f863",
   "metadata": {},
   "source": [
    "## Topological Sort"
   ]
  },
  {
   "cell_type": "code",
   "execution_count": null,
   "id": "4028e966",
   "metadata": {},
   "outputs": [],
   "source": []
  },
  {
   "cell_type": "markdown",
   "id": "7dc11b5a",
   "metadata": {},
   "source": [
    "## Dynamic Programming"
   ]
  },
  {
   "cell_type": "code",
   "execution_count": 220,
   "id": "e7da914d",
   "metadata": {},
   "outputs": [],
   "source": [
    "def fib(n, cache={}):\n",
    "    if n in cache:\n",
    "        return cache[n]\n",
    "    if n <= 1:\n",
    "        return n\n",
    "    \n",
    "    cache[n] = fib(n-1, cache) + fib(n-2, cache)\n",
    "    return cache[n]"
   ]
  },
  {
   "cell_type": "code",
   "execution_count": 221,
   "id": "7dc244aa",
   "metadata": {},
   "outputs": [
    {
     "data": {
      "text/plain": [
       "139423224561697880139724382870407283950070256587697307264108962948325571622863290691557658876222521294125"
      ]
     },
     "execution_count": 221,
     "metadata": {},
     "output_type": "execute_result"
    }
   ],
   "source": [
    "fib(500)"
   ]
  },
  {
   "cell_type": "code",
   "execution_count": 222,
   "id": "b0bf429e",
   "metadata": {},
   "outputs": [
    {
     "data": {
      "text/plain": [
       "139423224561697880139724382870407283950070256587697307264108962948325571622863290691557658876222521294125"
      ]
     },
     "execution_count": 222,
     "metadata": {},
     "output_type": "execute_result"
    }
   ],
   "source": [
    "# Tabulation\n",
    "def fib(n):\n",
    "    cache = {0:0, 1:1}\n",
    "    \n",
    "    for i in range(2, n+1):\n",
    "        cache[i] = cache[i-1] + cache[i-2]\n",
    "        \n",
    "    return cache[n]\n",
    "\n",
    "fib(500)"
   ]
  },
  {
   "cell_type": "code",
   "execution_count": 226,
   "id": "64e8bb4d",
   "metadata": {},
   "outputs": [
    {
     "data": {
      "text/plain": [
       "139423224561697880139724382870407283950070256587697307264108962948325571622863290691557658876222521294125"
      ]
     },
     "execution_count": 226,
     "metadata": {},
     "output_type": "execute_result"
    }
   ],
   "source": [
    "def fib(n):\n",
    "    previous1, previous2 = 0, 1\n",
    "    \n",
    "    for i in range(2, n+1):\n",
    "        current = previous1 + previous2\n",
    "        previous1, previous2 = previous2, current\n",
    "        \n",
    "    return current\n",
    "\n",
    "fib(500)"
   ]
  },
  {
   "cell_type": "markdown",
   "id": "f7ba2e0b",
   "metadata": {},
   "source": [
    "## 70. Climbing Stairs - Easy\n",
    "\n",
    "You are climbing a staircase. It takes n steps to reach the top.\n",
    "\n",
    "Each time you can either climb 1 or 2 steps. In how many distinct ways can you climb to the top?\n",
    "\n",
    " \n",
    "\n",
    "__Example 1:__\n",
    "\n",
    "Input: n = 2\n",
    "\n",
    "Output: 2\n",
    "\n",
    "Explanation: There are two ways to climb to the top.\n",
    "\n",
    "1. 1 step + 1 step\n",
    "2. 2 steps\n",
    "\n",
    "__Example 2:__\n",
    "\n",
    "Input: n = 3\n",
    "\n",
    "Output: 3\n",
    "\n",
    "Explanation: There are three ways to climb to the top.\n",
    "\n",
    "1. 1 step + 1 step + 1 step\n",
    "2. 1 step + 2 steps\n",
    "3. 2 steps + 1 step\n",
    " \n",
    "\n",
    "Constraints:\n",
    "\n",
    "1 <= n <= 45"
   ]
  },
  {
   "cell_type": "code",
   "execution_count": 229,
   "id": "e8c322b9",
   "metadata": {},
   "outputs": [
    {
     "data": {
      "text/plain": [
       "3"
      ]
     },
     "execution_count": 229,
     "metadata": {},
     "output_type": "execute_result"
    }
   ],
   "source": [
    "def climb_stair(n, cache={}):\n",
    "    if n <= 1:\n",
    "        return 1\n",
    "    if n in cache:\n",
    "        return cache[n]\n",
    "    \n",
    "    cache[n] = climb_stair(n-1) + climb_stair(n-2)\n",
    "    return cache[n]\n",
    "\n",
    "climb_stair(3)"
   ]
  },
  {
   "cell_type": "code",
   "execution_count": 230,
   "id": "ba425970",
   "metadata": {},
   "outputs": [
    {
     "data": {
      "text/plain": [
       "3"
      ]
     },
     "execution_count": 230,
     "metadata": {},
     "output_type": "execute_result"
    }
   ],
   "source": [
    "def climb_stair(n):\n",
    "    one_step = two_step = 1\n",
    "    \n",
    "    for i in range(2, n+1):\n",
    "        ways = one_step + two_step\n",
    "        one_step, two_step = two_step, ways\n",
    "        \n",
    "    return ways\n",
    "\n",
    "climb_stair(3)"
   ]
  },
  {
   "cell_type": "code",
   "execution_count": 231,
   "id": "3fb0be0a",
   "metadata": {},
   "outputs": [
    {
     "data": {
      "text/plain": [
       "1"
      ]
     },
     "execution_count": 231,
     "metadata": {},
     "output_type": "execute_result"
    }
   ],
   "source": [
    "abs(-1)"
   ]
  },
  {
   "cell_type": "markdown",
   "id": "9e93a143",
   "metadata": {},
   "source": [
    "## Frog Jump - EASY\n",
    "\n",
    "There is a frog on the 1st step of an N stairs long staircase. The frog wants to reach the Nth stair. HEIGHT[i] is the height of the (i+1)th stair.If Frog jumps from ith to jth stair, the energy lost in the jump is given by |HEIGHT[i-1] - HEIGHT[j-1]|.In the Frog is on ith staircase, he can jump either to (i+1)th stair or to (i+2)th stair. Your task is to find the minimum total energy used by the frog to reach from 1st stair to Nth stair.\n",
    "\n",
    "For Example\n",
    "\n",
    "If the given ‘HEIGHT’ array is [10,20,30,10], the answer 20 as the frog can jump from 1st stair to 2nd stair (|20-10| = 10 energy lost) and then a jump from 2nd stair to last stair (|10-20| = 10 energy lost). So, the total energy lost is 20."
   ]
  },
  {
   "cell_type": "code",
   "execution_count": 252,
   "id": "738f0e27",
   "metadata": {},
   "outputs": [
    {
     "data": {
      "text/plain": [
       "20"
      ]
     },
     "execution_count": 252,
     "metadata": {},
     "output_type": "execute_result"
    }
   ],
   "source": [
    "def compute_min_energy(stair, height):\n",
    "    if stair == 0:\n",
    "        return 0\n",
    "    \n",
    "    one_jump = compute_min_energy(stair-1, height) + abs(height[stair] - height[stair-1])\n",
    "    two_jumps = float(\"inf\")\n",
    "    \n",
    "    if stair > 1:\n",
    "        two_jumps = compute_min_energy(stair-2, height) + abs(height[stair] - height[stair-2])\n",
    "    \n",
    "    return min(one_jump, two_jumps)\n",
    "\n",
    "stair = 3\n",
    "height = [10,20,30,10]\n",
    "\n",
    "compute_min_energy(stair, height)"
   ]
  },
  {
   "cell_type": "code",
   "execution_count": 253,
   "id": "75fbabdc",
   "metadata": {},
   "outputs": [
    {
     "data": {
      "text/plain": [
       "20"
      ]
     },
     "execution_count": 253,
     "metadata": {},
     "output_type": "execute_result"
    }
   ],
   "source": [
    "def compute_min_energy(stair, height, cache={}):\n",
    "    if stair < 0:\n",
    "        return 0\n",
    "    \n",
    "    if stair in cache:\n",
    "        return cache[stair]\n",
    "    \n",
    "    one_jump = compute_min_energy(stair-1, height) + abs(height[stair] - height[stair-1])\n",
    "    two_jumps = float(\"inf\")\n",
    "    \n",
    "    if stair > 1:\n",
    "        two_jumps = compute_min_energy(stair-2, height) + abs(height[stair] - height[stair-2])\n",
    "    \n",
    "    cache[stair] = min(one_jump, two_jumps)\n",
    "    return cache[stair]\n",
    "\n",
    "stair = 3\n",
    "height = [10,20,30,10]\n",
    "\n",
    "compute_min_energy(stair, height)"
   ]
  },
  {
   "cell_type": "code",
   "execution_count": 256,
   "id": "3296dfc4",
   "metadata": {},
   "outputs": [
    {
     "data": {
      "text/plain": [
       "20"
      ]
     },
     "execution_count": 256,
     "metadata": {},
     "output_type": "execute_result"
    }
   ],
   "source": [
    "def compute_min_energy(stair, height):\n",
    "    prev = prev2 = 0\n",
    "    \n",
    "    for i in range(1, len(height)):\n",
    "        one_jump = prev + abs(height[i] - height[i-1])\n",
    "        two_jumps = float(\"inf\")\n",
    "        if i > 1:\n",
    "            two_jumps = prev2 + abs(height[i] - height[i-2])\n",
    "        \n",
    "        current = min(one_jump, two_jumps)\n",
    "        prev2 = prev\n",
    "        prev = current\n",
    "        \n",
    "    return current\n",
    "\n",
    "height = [10,20,30,10]\n",
    "compute_min_energy(stair, height)"
   ]
  },
  {
   "cell_type": "markdown",
   "id": "addcac60",
   "metadata": {},
   "source": [
    "## Frog jump K steps"
   ]
  },
  {
   "cell_type": "code",
   "execution_count": 265,
   "id": "41f364cd",
   "metadata": {},
   "outputs": [
    {
     "data": {
      "text/plain": [
       "20"
      ]
     },
     "execution_count": 265,
     "metadata": {},
     "output_type": "execute_result"
    }
   ],
   "source": [
    "def compute_min_energy(stair, height, k):\n",
    "    if stair == 0:\n",
    "        return 0\n",
    "    min_jumps = float(\"inf\")\n",
    "    for i in range(1, k+1):\n",
    "        if stair - i >= 0:\n",
    "            min_jumps = min(compute_min_energy(stair-i, height, k) + abs(height[stair] - height[stair-i]), min_jumps)\n",
    "\n",
    "    return min_jumps\n",
    "\n",
    "stair = 3\n",
    "height = [10,20,30,10]\n",
    "\n",
    "compute_min_energy(stair, height, 2)"
   ]
  },
  {
   "cell_type": "code",
   "execution_count": null,
   "id": "e02f41f9",
   "metadata": {},
   "outputs": [],
   "source": []
  }
 ],
 "metadata": {
  "kernelspec": {
   "display_name": "Python 3 (ipykernel)",
   "language": "python",
   "name": "python3"
  },
  "language_info": {
   "codemirror_mode": {
    "name": "ipython",
    "version": 3
   },
   "file_extension": ".py",
   "mimetype": "text/x-python",
   "name": "python",
   "nbconvert_exporter": "python",
   "pygments_lexer": "ipython3",
   "version": "3.8.9"
  }
 },
 "nbformat": 4,
 "nbformat_minor": 5
}
