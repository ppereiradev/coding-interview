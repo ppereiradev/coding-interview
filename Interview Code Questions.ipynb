{
 "cells": [
  {
   "cell_type": "markdown",
   "id": "fd4f42b1",
   "metadata": {},
   "source": [
    "## Question 1\n",
    "\n",
    "Find the apartament that is closest to the requirements buildings."
   ]
  },
  {
   "cell_type": "code",
   "execution_count": 167,
   "id": "4bf27492",
   "metadata": {},
   "outputs": [],
   "source": [
    "blocks = [\n",
    "    {\n",
    "        \"gym\": False,\n",
    "        \"school\": True,\n",
    "        \"store\": False,\n",
    "    },\n",
    "    {\n",
    "        \"gym\": True,\n",
    "        \"school\": False,\n",
    "        \"store\": False,\n",
    "    },\n",
    "    {\n",
    "        \"gym\": True,\n",
    "        \"school\": True,\n",
    "        \"store\": False,\n",
    "    },\n",
    "    {\n",
    "        \"gym\": False,\n",
    "        \"school\": True,\n",
    "        \"store\": False,\n",
    "    },\n",
    "    {\n",
    "        \"gym\": False,\n",
    "        \"school\": True,\n",
    "        \"store\": True,\n",
    "    },\n",
    "]\n",
    "\n",
    "reqs = [\"gym\", \"school\", \"store\"]"
   ]
  },
  {
   "cell_type": "code",
   "execution_count": 168,
   "id": "62d4522f",
   "metadata": {},
   "outputs": [
    {
     "data": {
      "text/plain": [
       "([{'gym': False, 'school': True, 'store': False},\n",
       "  {'gym': True, 'school': False, 'store': False},\n",
       "  {'gym': True, 'school': True, 'store': False},\n",
       "  {'gym': False, 'school': True, 'store': False},\n",
       "  {'gym': False, 'school': True, 'store': True}],\n",
       " ['gym', 'school', 'store'])"
      ]
     },
     "execution_count": 168,
     "metadata": {},
     "output_type": "execute_result"
    }
   ],
   "source": [
    "blocks, reqs"
   ]
  },
  {
   "cell_type": "code",
   "execution_count": 169,
   "id": "c32782db",
   "metadata": {},
   "outputs": [
    {
     "data": {
      "text/plain": [
       "\"\\nreqs = ['gym', 'school', 'store']\\n\\n\\n[   b1   ,    b2   ,    b3   ,    b4   ,   b5   ]\\n(0, 0, 0) (0, 0, 0) (1, 0, 0) (1, 0, 0) (0, 0, 0) => len(reqs)\\n\\nb1_result = (0, 0, 0) = (1, 0, 4)\\nb2_result = (0, 0, 0) = (0, 1, 3)\\nb3_result = (0, 0, 0) = (0, 0, 2)\\nb4_result = (0, 0, 0) = (1, 0, 1)\\nb5_result = (0, 0, 0) = (2, 0, 0) \\n\\nsqrt(x**2 + y**2 + z**2)\\n\\n\""
      ]
     },
     "execution_count": 169,
     "metadata": {},
     "output_type": "execute_result"
    }
   ],
   "source": [
    "'''\n",
    "reqs = ['gym', 'school', 'store']\n",
    "\n",
    "\n",
    "[   b1   ,    b2   ,    b3   ,    b4   ,   b5   ]\n",
    "(0, 0, 0) (0, 0, 0) (1, 0, 0) (1, 0, 0) (0, 0, 0) => len(reqs)\n",
    "\n",
    "b1_result = (0, 0, 0) = (1, 0, 4)\n",
    "b2_result = (0, 0, 0) = (0, 1, 3)\n",
    "b3_result = (0, 0, 0) = (0, 0, 2)\n",
    "b4_result = (0, 0, 0) = (1, 0, 1)\n",
    "b5_result = (0, 0, 0) = (2, 0, 0) \n",
    "\n",
    "sqrt(x**2 + y**2 + z**2)\n",
    "\n",
    "'''"
   ]
  },
  {
   "cell_type": "code",
   "execution_count": 170,
   "id": "1a8adda7",
   "metadata": {},
   "outputs": [],
   "source": [
    "def magnitude_vector(vector):\n",
    "    result = 0\n",
    "    for elem in vector:\n",
    "        result += elem**2\n",
    "    return result**(1/2)\n",
    "    "
   ]
  },
  {
   "cell_type": "code",
   "execution_count": 171,
   "id": "c253db67",
   "metadata": {},
   "outputs": [
    {
     "name": "stdout",
     "output_type": "stream",
     "text": [
      "4.123105625617661\n",
      "3.1622776601683795\n",
      "2.0\n",
      "1.4142135623730951\n",
      "2.0\n"
     ]
    }
   ],
   "source": [
    "aux = [(1, 0, 4), (0, 1, 3), (0, 0, 2), (1, 0, 1), (2, 0, 0)]\n",
    "\n",
    "for i in aux:\n",
    "    print(magnitude_vector(i))\n"
   ]
  },
  {
   "cell_type": "code",
   "execution_count": 172,
   "id": "c6731a20",
   "metadata": {},
   "outputs": [],
   "source": [
    "def find_apartment(blocks, reqs):\n",
    "    \n",
    "    b_dist = {}\n",
    "               \n",
    "    # left to right loop O(n4)\n",
    "    for curr in range(len(blocks)):\n",
    "        aux_reqs = reqs.copy()\n",
    "        dist = {key:0 for key in reqs}\n",
    "        \n",
    "        for neigh in range(curr, len(blocks)):\n",
    "            if curr == neigh:\n",
    "                for req in reqs:\n",
    "                    if blocks[curr][req]:\n",
    "                        aux_reqs.remove(req)\n",
    "            else:\n",
    "                for req in reqs:                    \n",
    "                    if req in aux_reqs:\n",
    "                        dist[req] += 1\n",
    "                    if blocks[neigh][req] and req in aux_reqs:\n",
    "                        aux_reqs.remove(req)\n",
    "        \n",
    "        tuple_dist = tuple(v for _,v in dist.items())\n",
    "        b_dist['b_' + str(curr + 1)] = [tuple_dist, magnitude_vector(tuple_dist)]\n",
    "            \n",
    "    # right to left loop O(n4)\n",
    "    for curr in range(len(blocks)-1, -1, -1):\n",
    "        aux_reqs = reqs.copy()\n",
    "        dist = {key:0 for key in reqs}\n",
    "\n",
    "        for neigh in range(curr, -1, -1):\n",
    "            if curr == neigh:\n",
    "                for req in reqs:\n",
    "                    if blocks[curr][req]:\n",
    "                        aux_reqs.remove(req)\n",
    "            else:\n",
    "                for req in reqs:                    \n",
    "                    if req in aux_reqs:\n",
    "                        dist[req] += 1\n",
    "                    if blocks[neigh][req] and req in aux_reqs:\n",
    "                        aux_reqs.remove(req)\n",
    "        \n",
    "        tuple_dist = tuple(v for _,v in dist.items())\n",
    "        dummy_tuple = (0,) * len(reqs)\n",
    "        if b_dist['b_' + str(curr + 1)][0] == dummy_tuple and tuple_dist != dummy_tuple:\n",
    "            b_dist['b_' + str(curr + 1)] = [tuple_dist, magnitude_vector(tuple_dist)]\n",
    "        \n",
    "        \n",
    "    best_apt = list(b_dist)[0]\n",
    "    # O(n)\n",
    "    for key, value in b_dist.items():\n",
    "        if value[1] <  b_dist[best_apt][1]:\n",
    "            best_apt = key\n",
    "\n",
    "    \n",
    "    return best_apt"
   ]
  },
  {
   "cell_type": "code",
   "execution_count": 173,
   "id": "d28484ea",
   "metadata": {},
   "outputs": [
    {
     "data": {
      "text/plain": [
       "'b_4'"
      ]
     },
     "execution_count": 173,
     "metadata": {},
     "output_type": "execute_result"
    }
   ],
   "source": [
    "find_apartment(blocks, reqs)    "
   ]
  },
  {
   "cell_type": "markdown",
   "id": "0947077b",
   "metadata": {},
   "source": [
    "## Question 2"
   ]
  },
  {
   "cell_type": "code",
   "execution_count": 463,
   "id": "552a61fc",
   "metadata": {},
   "outputs": [],
   "source": [
    "logs = [\n",
    "            [True, True, True, False, False],\n",
    "            [True, True, True, True, False],\n",
    "            [True, True, True, True, True, True, False, False, False],\n",
    "            [True, False, False, False, False, False],\n",
    "            [True, True, True, True, True, True, True, True, True, True, True, True, False],\n",
    "            [True, False],\n",
    "            [True, True, True, True, False, False]\n",
    "        ]"
   ]
  },
  {
   "cell_type": "code",
   "execution_count": 473,
   "id": "52010e7b",
   "metadata": {},
   "outputs": [],
   "source": [
    "# O(n^2)\n",
    "def percentage(logs):\n",
    "    \n",
    "    percentage_list = []\n",
    "    \n",
    "    for log_list in logs:\n",
    "        percentage_list.append((sum(log_list)/len(log_list))*100)\n",
    "        \n",
    "    print(percentage_list)\n",
    "    \n",
    "    # [60, 80, 66, 16, 92, 50, 66]\n",
    "    # start = 1, end = 3\n",
    "    # return percentage_list[start:end+1]\n",
    "    result = (0,0,0)\n",
    "    start = end = count = 0\n",
    "    \n",
    "    while end < len(percentage_list):\n",
    "        if percentage_list[start] > percentage_list[end] and count >= result[2]:\n",
    "            count += 1\n",
    "            result = (start, end, count)\n",
    "        \n",
    "        if percentage_list[start] < percentage_list[end]:\n",
    "            start = end\n",
    "            count = 0\n",
    "        \n",
    "        end += 1\n",
    "    \n",
    "    return percentage_list[result[0]: result[1]+1]"
   ]
  },
  {
   "cell_type": "code",
   "execution_count": 474,
   "id": "16bfa487",
   "metadata": {},
   "outputs": [
    {
     "name": "stdout",
     "output_type": "stream",
     "text": [
      "[60.0, 80.0, 66.66666666666666, 16.666666666666664, 92.3076923076923, 50.0, 66.66666666666666]\n"
     ]
    },
    {
     "data": {
      "text/plain": [
       "[80.0, 66.66666666666666, 16.666666666666664]"
      ]
     },
     "execution_count": 474,
     "metadata": {},
     "output_type": "execute_result"
    }
   ],
   "source": [
    "percentage(logs)"
   ]
  },
  {
   "cell_type": "markdown",
   "id": "1f86964d",
   "metadata": {},
   "source": [
    "### optimized by using binary search"
   ]
  },
  {
   "cell_type": "code",
   "execution_count": 485,
   "id": "e7d06c4d",
   "metadata": {},
   "outputs": [],
   "source": [
    "# O(log n)\n",
    "def count_trues(log):\n",
    "    result = 0\n",
    "    while True:\n",
    "        if log[len(log)//2] == True and log[len(log)//2 + 1] == True:\n",
    "            result += len(log)//2\n",
    "            log = log[len(log)//2:]\n",
    "        elif log[len(log)//2] == True and log[len(log)//2 + 1] == False:\n",
    "            result += len(log)//2 + 1\n",
    "            break\n",
    "        elif log[len(log)//2] == False and log[len(log)//2 - 1] == False:\n",
    "            log = log[:len(log)//2]\n",
    "        else:\n",
    "            result += len(log)//2\n",
    "            break\n",
    "    \n",
    "    return result\n",
    "# O(n)        \n",
    "def percentage_list(logs):\n",
    "    \n",
    "    percentage_list_result = []\n",
    "    for log in logs:\n",
    "        percentage_list_result.append((count_trues(log)/len(log))*100)\n",
    "        \n",
    "    return percentage_list_result"
   ]
  },
  {
   "cell_type": "code",
   "execution_count": 486,
   "id": "b9f21fd2",
   "metadata": {},
   "outputs": [
    {
     "data": {
      "text/plain": [
       "[60.0,\n",
       " 80.0,\n",
       " 66.66666666666666,\n",
       " 16.666666666666664,\n",
       " 92.3076923076923,\n",
       " 50.0,\n",
       " 66.66666666666666]"
      ]
     },
     "execution_count": 486,
     "metadata": {},
     "output_type": "execute_result"
    }
   ],
   "source": [
    "percentage_list(logs)"
   ]
  },
  {
   "cell_type": "code",
   "execution_count": 228,
   "id": "25e4ff98",
   "metadata": {},
   "outputs": [
    {
     "name": "stdout",
     "output_type": "stream",
     "text": [
      "0 9\n",
      "1 8\n",
      "2 7\n",
      "3 6\n",
      "4 6\n",
      "5 5\n",
      "6 5\n",
      "7 4\n",
      "8 3\n",
      "9 3\n",
      "10 2\n"
     ]
    }
   ],
   "source": [
    "for index, value in enumerate([9,8,7,6,6,5,5,4,3,3,2]):\n",
    "    print(index, value)"
   ]
  },
  {
   "cell_type": "code",
   "execution_count": 230,
   "id": "0274d1f1",
   "metadata": {},
   "outputs": [
    {
     "name": "stdout",
     "output_type": "stream",
     "text": [
      "1 0\n",
      "0 -1\n",
      "1 -1\n",
      "0 1\n"
     ]
    }
   ],
   "source": [
    "steps = [\n",
    "    (1,0),\n",
    "    (0,-1),\n",
    "    (1,-1),\n",
    "    (0,1),\n",
    "]\n",
    "\n",
    "for (ix, iy) in steps:\n",
    "    print(ix, iy)"
   ]
  },
  {
   "cell_type": "markdown",
   "id": "0343d32a",
   "metadata": {},
   "source": [
    "## Question 3 - Breadth first search in Adjacency Matrix"
   ]
  },
  {
   "cell_type": "code",
   "execution_count": 15,
   "id": "e64939a8",
   "metadata": {},
   "outputs": [],
   "source": [
    "graph = [\n",
    "            [0,1,1,1,0],\n",
    "            [1,0,1,1,0],\n",
    "            [1,1,0,0,1],\n",
    "            [1,1,0,0,0],\n",
    "            [0,0,1,0,0]\n",
    "        ]"
   ]
  },
  {
   "cell_type": "code",
   "execution_count": 16,
   "id": "5a4a1f2b",
   "metadata": {},
   "outputs": [
    {
     "data": {
      "text/plain": [
       "[[0, 1, 1, 1, 0],\n",
       " [1, 0, 1, 1, 0],\n",
       " [1, 1, 0, 0, 1],\n",
       " [1, 1, 0, 0, 0],\n",
       " [0, 0, 1, 0, 0]]"
      ]
     },
     "execution_count": 16,
     "metadata": {},
     "output_type": "execute_result"
    }
   ],
   "source": [
    "graph"
   ]
  },
  {
   "cell_type": "code",
   "execution_count": 23,
   "id": "4f266a86",
   "metadata": {},
   "outputs": [
    {
     "data": {
      "text/plain": [
       "{'A': ['B', 'C', 'D'],\n",
       " 'B': ['A', 'C', 'D'],\n",
       " 'C': ['A', 'B', 'E'],\n",
       " 'D': ['A', 'B'],\n",
       " 'E': ['C']}"
      ]
     },
     "execution_count": 23,
     "metadata": {},
     "output_type": "execute_result"
    }
   ],
   "source": [
    "ord(\"A\")\n",
    "\n",
    "adj_list = {}\n",
    "\n",
    "for i in range(len(graph)):\n",
    "        adj_list[chr(i + 65)] = []\n",
    "\n",
    "for i in range(len(graph)):\n",
    "    for j in range(len(graph)):\n",
    "        if graph[i][j] == 1:\n",
    "            adj_list[chr(i + 65)].append(chr(j + 65))\n",
    "\n",
    "adj_list\n"
   ]
  },
  {
   "cell_type": "code",
   "execution_count": 56,
   "id": "116d1f97",
   "metadata": {},
   "outputs": [],
   "source": [
    "def bfs_util(matrix, row, col, visited):\n",
    "    nodes = [(row, col)]\n",
    "    count = 0\n",
    "    while nodes:\n",
    "        print(\"COUNT: \", count, \" == NODE: \", nodes)\n",
    "        print(\"Visited: \", visited)\n",
    "        print(\"\\n\")\n",
    "        count += 1\n",
    "        row, col = nodes.pop(0)\n",
    "        # the below conditional ensures that our algorithm \n",
    "        #stays within the bounds of our matrix.\n",
    "        if row >= len(matrix) or col >= len(matrix[0]) or row < 0 or col < 0:\n",
    "            continue\n",
    "        if (row, col) not in visited:\n",
    "            if matrix[row][col] == 1:\n",
    "                visited.append((row, col))\n",
    "                nodes.append((row, col+1))\n",
    "                nodes.append((row+1, col))\n",
    "                nodes.append((row, col-1))\n",
    "                nodes.append((row-1, col))\n",
    "\n",
    "def bfs(matrix):\n",
    "    visited = []\n",
    "    for i in range(len(matrix)):\n",
    "        for j in range(len(matrix[0])):\n",
    "            if (i,j) not in visited:\n",
    "                bfs_util(matrix, i, j, visited)\n",
    "            \n",
    "    return visited"
   ]
  },
  {
   "cell_type": "code",
   "execution_count": 57,
   "id": "2781ef37",
   "metadata": {},
   "outputs": [
    {
     "name": "stdout",
     "output_type": "stream",
     "text": [
      "COUNT:  0  == NODE:  [(0, 0)]\n",
      "Visited:  []\n",
      "\n",
      "\n",
      "COUNT:  0  == NODE:  [(0, 1)]\n",
      "Visited:  []\n",
      "\n",
      "\n",
      "COUNT:  1  == NODE:  [(0, 2), (1, 1), (0, 0), (-1, 1)]\n",
      "Visited:  [(0, 1)]\n",
      "\n",
      "\n",
      "COUNT:  2  == NODE:  [(1, 1), (0, 0), (-1, 1), (0, 3), (1, 2), (0, 1), (-1, 2)]\n",
      "Visited:  [(0, 1), (0, 2)]\n",
      "\n",
      "\n",
      "COUNT:  3  == NODE:  [(0, 0), (-1, 1), (0, 3), (1, 2), (0, 1), (-1, 2)]\n",
      "Visited:  [(0, 1), (0, 2)]\n",
      "\n",
      "\n",
      "COUNT:  4  == NODE:  [(-1, 1), (0, 3), (1, 2), (0, 1), (-1, 2)]\n",
      "Visited:  [(0, 1), (0, 2)]\n",
      "\n",
      "\n",
      "COUNT:  5  == NODE:  [(0, 3), (1, 2), (0, 1), (-1, 2)]\n",
      "Visited:  [(0, 1), (0, 2)]\n",
      "\n",
      "\n",
      "COUNT:  6  == NODE:  [(1, 2), (0, 1), (-1, 2), (0, 4), (1, 3), (0, 2), (-1, 3)]\n",
      "Visited:  [(0, 1), (0, 2), (0, 3)]\n",
      "\n",
      "\n",
      "COUNT:  7  == NODE:  [(0, 1), (-1, 2), (0, 4), (1, 3), (0, 2), (-1, 3), (1, 3), (2, 2), (1, 1), (0, 2)]\n",
      "Visited:  [(0, 1), (0, 2), (0, 3), (1, 2)]\n",
      "\n",
      "\n",
      "COUNT:  8  == NODE:  [(-1, 2), (0, 4), (1, 3), (0, 2), (-1, 3), (1, 3), (2, 2), (1, 1), (0, 2)]\n",
      "Visited:  [(0, 1), (0, 2), (0, 3), (1, 2)]\n",
      "\n",
      "\n",
      "COUNT:  9  == NODE:  [(0, 4), (1, 3), (0, 2), (-1, 3), (1, 3), (2, 2), (1, 1), (0, 2)]\n",
      "Visited:  [(0, 1), (0, 2), (0, 3), (1, 2)]\n",
      "\n",
      "\n",
      "COUNT:  10  == NODE:  [(1, 3), (0, 2), (-1, 3), (1, 3), (2, 2), (1, 1), (0, 2)]\n",
      "Visited:  [(0, 1), (0, 2), (0, 3), (1, 2)]\n",
      "\n",
      "\n",
      "COUNT:  11  == NODE:  [(0, 2), (-1, 3), (1, 3), (2, 2), (1, 1), (0, 2), (1, 4), (2, 3), (1, 2), (0, 3)]\n",
      "Visited:  [(0, 1), (0, 2), (0, 3), (1, 2), (1, 3)]\n",
      "\n",
      "\n",
      "COUNT:  12  == NODE:  [(-1, 3), (1, 3), (2, 2), (1, 1), (0, 2), (1, 4), (2, 3), (1, 2), (0, 3)]\n",
      "Visited:  [(0, 1), (0, 2), (0, 3), (1, 2), (1, 3)]\n",
      "\n",
      "\n",
      "COUNT:  13  == NODE:  [(1, 3), (2, 2), (1, 1), (0, 2), (1, 4), (2, 3), (1, 2), (0, 3)]\n",
      "Visited:  [(0, 1), (0, 2), (0, 3), (1, 2), (1, 3)]\n",
      "\n",
      "\n",
      "COUNT:  14  == NODE:  [(2, 2), (1, 1), (0, 2), (1, 4), (2, 3), (1, 2), (0, 3)]\n",
      "Visited:  [(0, 1), (0, 2), (0, 3), (1, 2), (1, 3)]\n",
      "\n",
      "\n",
      "COUNT:  15  == NODE:  [(1, 1), (0, 2), (1, 4), (2, 3), (1, 2), (0, 3)]\n",
      "Visited:  [(0, 1), (0, 2), (0, 3), (1, 2), (1, 3)]\n",
      "\n",
      "\n",
      "COUNT:  16  == NODE:  [(0, 2), (1, 4), (2, 3), (1, 2), (0, 3)]\n",
      "Visited:  [(0, 1), (0, 2), (0, 3), (1, 2), (1, 3)]\n",
      "\n",
      "\n",
      "COUNT:  17  == NODE:  [(1, 4), (2, 3), (1, 2), (0, 3)]\n",
      "Visited:  [(0, 1), (0, 2), (0, 3), (1, 2), (1, 3)]\n",
      "\n",
      "\n",
      "COUNT:  18  == NODE:  [(2, 3), (1, 2), (0, 3)]\n",
      "Visited:  [(0, 1), (0, 2), (0, 3), (1, 2), (1, 3)]\n",
      "\n",
      "\n",
      "COUNT:  19  == NODE:  [(1, 2), (0, 3)]\n",
      "Visited:  [(0, 1), (0, 2), (0, 3), (1, 2), (1, 3)]\n",
      "\n",
      "\n",
      "COUNT:  20  == NODE:  [(0, 3)]\n",
      "Visited:  [(0, 1), (0, 2), (0, 3), (1, 2), (1, 3)]\n",
      "\n",
      "\n",
      "COUNT:  0  == NODE:  [(0, 4)]\n",
      "Visited:  [(0, 1), (0, 2), (0, 3), (1, 2), (1, 3)]\n",
      "\n",
      "\n",
      "COUNT:  0  == NODE:  [(1, 0)]\n",
      "Visited:  [(0, 1), (0, 2), (0, 3), (1, 2), (1, 3)]\n",
      "\n",
      "\n",
      "COUNT:  1  == NODE:  [(1, 1), (2, 0), (1, -1), (0, 0)]\n",
      "Visited:  [(0, 1), (0, 2), (0, 3), (1, 2), (1, 3), (1, 0)]\n",
      "\n",
      "\n",
      "COUNT:  2  == NODE:  [(2, 0), (1, -1), (0, 0)]\n",
      "Visited:  [(0, 1), (0, 2), (0, 3), (1, 2), (1, 3), (1, 0)]\n",
      "\n",
      "\n",
      "COUNT:  3  == NODE:  [(1, -1), (0, 0), (2, 1), (3, 0), (2, -1), (1, 0)]\n",
      "Visited:  [(0, 1), (0, 2), (0, 3), (1, 2), (1, 3), (1, 0), (2, 0)]\n",
      "\n",
      "\n",
      "COUNT:  4  == NODE:  [(0, 0), (2, 1), (3, 0), (2, -1), (1, 0)]\n",
      "Visited:  [(0, 1), (0, 2), (0, 3), (1, 2), (1, 3), (1, 0), (2, 0)]\n",
      "\n",
      "\n",
      "COUNT:  5  == NODE:  [(2, 1), (3, 0), (2, -1), (1, 0)]\n",
      "Visited:  [(0, 1), (0, 2), (0, 3), (1, 2), (1, 3), (1, 0), (2, 0)]\n",
      "\n",
      "\n",
      "COUNT:  6  == NODE:  [(3, 0), (2, -1), (1, 0), (2, 2), (3, 1), (2, 0), (1, 1)]\n",
      "Visited:  [(0, 1), (0, 2), (0, 3), (1, 2), (1, 3), (1, 0), (2, 0), (2, 1)]\n",
      "\n",
      "\n",
      "COUNT:  7  == NODE:  [(2, -1), (1, 0), (2, 2), (3, 1), (2, 0), (1, 1), (3, 1), (4, 0), (3, -1), (2, 0)]\n",
      "Visited:  [(0, 1), (0, 2), (0, 3), (1, 2), (1, 3), (1, 0), (2, 0), (2, 1), (3, 0)]\n",
      "\n",
      "\n",
      "COUNT:  8  == NODE:  [(1, 0), (2, 2), (3, 1), (2, 0), (1, 1), (3, 1), (4, 0), (3, -1), (2, 0)]\n",
      "Visited:  [(0, 1), (0, 2), (0, 3), (1, 2), (1, 3), (1, 0), (2, 0), (2, 1), (3, 0)]\n",
      "\n",
      "\n",
      "COUNT:  9  == NODE:  [(2, 2), (3, 1), (2, 0), (1, 1), (3, 1), (4, 0), (3, -1), (2, 0)]\n",
      "Visited:  [(0, 1), (0, 2), (0, 3), (1, 2), (1, 3), (1, 0), (2, 0), (2, 1), (3, 0)]\n",
      "\n",
      "\n",
      "COUNT:  10  == NODE:  [(3, 1), (2, 0), (1, 1), (3, 1), (4, 0), (3, -1), (2, 0)]\n",
      "Visited:  [(0, 1), (0, 2), (0, 3), (1, 2), (1, 3), (1, 0), (2, 0), (2, 1), (3, 0)]\n",
      "\n",
      "\n",
      "COUNT:  11  == NODE:  [(2, 0), (1, 1), (3, 1), (4, 0), (3, -1), (2, 0), (3, 2), (4, 1), (3, 0), (2, 1)]\n",
      "Visited:  [(0, 1), (0, 2), (0, 3), (1, 2), (1, 3), (1, 0), (2, 0), (2, 1), (3, 0), (3, 1)]\n",
      "\n",
      "\n",
      "COUNT:  12  == NODE:  [(1, 1), (3, 1), (4, 0), (3, -1), (2, 0), (3, 2), (4, 1), (3, 0), (2, 1)]\n",
      "Visited:  [(0, 1), (0, 2), (0, 3), (1, 2), (1, 3), (1, 0), (2, 0), (2, 1), (3, 0), (3, 1)]\n",
      "\n",
      "\n",
      "COUNT:  13  == NODE:  [(3, 1), (4, 0), (3, -1), (2, 0), (3, 2), (4, 1), (3, 0), (2, 1)]\n",
      "Visited:  [(0, 1), (0, 2), (0, 3), (1, 2), (1, 3), (1, 0), (2, 0), (2, 1), (3, 0), (3, 1)]\n",
      "\n",
      "\n",
      "COUNT:  14  == NODE:  [(4, 0), (3, -1), (2, 0), (3, 2), (4, 1), (3, 0), (2, 1)]\n",
      "Visited:  [(0, 1), (0, 2), (0, 3), (1, 2), (1, 3), (1, 0), (2, 0), (2, 1), (3, 0), (3, 1)]\n",
      "\n",
      "\n",
      "COUNT:  15  == NODE:  [(3, -1), (2, 0), (3, 2), (4, 1), (3, 0), (2, 1)]\n",
      "Visited:  [(0, 1), (0, 2), (0, 3), (1, 2), (1, 3), (1, 0), (2, 0), (2, 1), (3, 0), (3, 1)]\n",
      "\n",
      "\n",
      "COUNT:  16  == NODE:  [(2, 0), (3, 2), (4, 1), (3, 0), (2, 1)]\n",
      "Visited:  [(0, 1), (0, 2), (0, 3), (1, 2), (1, 3), (1, 0), (2, 0), (2, 1), (3, 0), (3, 1)]\n",
      "\n",
      "\n",
      "COUNT:  17  == NODE:  [(3, 2), (4, 1), (3, 0), (2, 1)]\n",
      "Visited:  [(0, 1), (0, 2), (0, 3), (1, 2), (1, 3), (1, 0), (2, 0), (2, 1), (3, 0), (3, 1)]\n",
      "\n",
      "\n",
      "COUNT:  18  == NODE:  [(4, 1), (3, 0), (2, 1)]\n",
      "Visited:  [(0, 1), (0, 2), (0, 3), (1, 2), (1, 3), (1, 0), (2, 0), (2, 1), (3, 0), (3, 1)]\n",
      "\n",
      "\n",
      "COUNT:  19  == NODE:  [(3, 0), (2, 1)]\n",
      "Visited:  [(0, 1), (0, 2), (0, 3), (1, 2), (1, 3), (1, 0), (2, 0), (2, 1), (3, 0), (3, 1)]\n",
      "\n",
      "\n",
      "COUNT:  20  == NODE:  [(2, 1)]\n",
      "Visited:  [(0, 1), (0, 2), (0, 3), (1, 2), (1, 3), (1, 0), (2, 0), (2, 1), (3, 0), (3, 1)]\n",
      "\n",
      "\n",
      "COUNT:  0  == NODE:  [(1, 1)]\n",
      "Visited:  [(0, 1), (0, 2), (0, 3), (1, 2), (1, 3), (1, 0), (2, 0), (2, 1), (3, 0), (3, 1)]\n",
      "\n",
      "\n",
      "COUNT:  0  == NODE:  [(1, 4)]\n",
      "Visited:  [(0, 1), (0, 2), (0, 3), (1, 2), (1, 3), (1, 0), (2, 0), (2, 1), (3, 0), (3, 1)]\n",
      "\n",
      "\n",
      "COUNT:  0  == NODE:  [(2, 2)]\n",
      "Visited:  [(0, 1), (0, 2), (0, 3), (1, 2), (1, 3), (1, 0), (2, 0), (2, 1), (3, 0), (3, 1)]\n",
      "\n",
      "\n",
      "COUNT:  0  == NODE:  [(2, 3)]\n",
      "Visited:  [(0, 1), (0, 2), (0, 3), (1, 2), (1, 3), (1, 0), (2, 0), (2, 1), (3, 0), (3, 1)]\n",
      "\n",
      "\n",
      "COUNT:  0  == NODE:  [(2, 4)]\n",
      "Visited:  [(0, 1), (0, 2), (0, 3), (1, 2), (1, 3), (1, 0), (2, 0), (2, 1), (3, 0), (3, 1)]\n",
      "\n",
      "\n",
      "COUNT:  1  == NODE:  [(2, 5), (3, 4), (2, 3), (1, 4)]\n",
      "Visited:  [(0, 1), (0, 2), (0, 3), (1, 2), (1, 3), (1, 0), (2, 0), (2, 1), (3, 0), (3, 1), (2, 4)]\n",
      "\n",
      "\n",
      "COUNT:  2  == NODE:  [(3, 4), (2, 3), (1, 4)]\n",
      "Visited:  [(0, 1), (0, 2), (0, 3), (1, 2), (1, 3), (1, 0), (2, 0), (2, 1), (3, 0), (3, 1), (2, 4)]\n",
      "\n",
      "\n",
      "COUNT:  3  == NODE:  [(2, 3), (1, 4)]\n",
      "Visited:  [(0, 1), (0, 2), (0, 3), (1, 2), (1, 3), (1, 0), (2, 0), (2, 1), (3, 0), (3, 1), (2, 4)]\n",
      "\n",
      "\n",
      "COUNT:  4  == NODE:  [(1, 4)]\n",
      "Visited:  [(0, 1), (0, 2), (0, 3), (1, 2), (1, 3), (1, 0), (2, 0), (2, 1), (3, 0), (3, 1), (2, 4)]\n",
      "\n",
      "\n",
      "COUNT:  0  == NODE:  [(3, 2)]\n",
      "Visited:  [(0, 1), (0, 2), (0, 3), (1, 2), (1, 3), (1, 0), (2, 0), (2, 1), (3, 0), (3, 1), (2, 4)]\n",
      "\n",
      "\n",
      "COUNT:  0  == NODE:  [(3, 3)]\n",
      "Visited:  [(0, 1), (0, 2), (0, 3), (1, 2), (1, 3), (1, 0), (2, 0), (2, 1), (3, 0), (3, 1), (2, 4)]\n",
      "\n",
      "\n",
      "COUNT:  0  == NODE:  [(3, 4)]\n",
      "Visited:  [(0, 1), (0, 2), (0, 3), (1, 2), (1, 3), (1, 0), (2, 0), (2, 1), (3, 0), (3, 1), (2, 4)]\n",
      "\n",
      "\n",
      "COUNT:  0  == NODE:  [(4, 0)]\n",
      "Visited:  [(0, 1), (0, 2), (0, 3), (1, 2), (1, 3), (1, 0), (2, 0), (2, 1), (3, 0), (3, 1), (2, 4)]\n",
      "\n",
      "\n",
      "COUNT:  0  == NODE:  [(4, 1)]\n",
      "Visited:  [(0, 1), (0, 2), (0, 3), (1, 2), (1, 3), (1, 0), (2, 0), (2, 1), (3, 0), (3, 1), (2, 4)]\n",
      "\n",
      "\n",
      "COUNT:  0  == NODE:  [(4, 2)]\n",
      "Visited:  [(0, 1), (0, 2), (0, 3), (1, 2), (1, 3), (1, 0), (2, 0), (2, 1), (3, 0), (3, 1), (2, 4)]\n",
      "\n",
      "\n",
      "COUNT:  1  == NODE:  [(4, 3), (5, 2), (4, 1), (3, 2)]\n",
      "Visited:  [(0, 1), (0, 2), (0, 3), (1, 2), (1, 3), (1, 0), (2, 0), (2, 1), (3, 0), (3, 1), (2, 4), (4, 2)]\n",
      "\n",
      "\n",
      "COUNT:  2  == NODE:  [(5, 2), (4, 1), (3, 2)]\n",
      "Visited:  [(0, 1), (0, 2), (0, 3), (1, 2), (1, 3), (1, 0), (2, 0), (2, 1), (3, 0), (3, 1), (2, 4), (4, 2)]\n",
      "\n",
      "\n",
      "COUNT:  3  == NODE:  [(4, 1), (3, 2)]\n",
      "Visited:  [(0, 1), (0, 2), (0, 3), (1, 2), (1, 3), (1, 0), (2, 0), (2, 1), (3, 0), (3, 1), (2, 4), (4, 2)]\n",
      "\n",
      "\n",
      "COUNT:  4  == NODE:  [(3, 2)]\n",
      "Visited:  [(0, 1), (0, 2), (0, 3), (1, 2), (1, 3), (1, 0), (2, 0), (2, 1), (3, 0), (3, 1), (2, 4), (4, 2)]\n",
      "\n",
      "\n",
      "COUNT:  0  == NODE:  [(4, 3)]\n",
      "Visited:  [(0, 1), (0, 2), (0, 3), (1, 2), (1, 3), (1, 0), (2, 0), (2, 1), (3, 0), (3, 1), (2, 4), (4, 2)]\n",
      "\n",
      "\n",
      "COUNT:  0  == NODE:  [(4, 4)]\n",
      "Visited:  [(0, 1), (0, 2), (0, 3), (1, 2), (1, 3), (1, 0), (2, 0), (2, 1), (3, 0), (3, 1), (2, 4), (4, 2)]\n",
      "\n",
      "\n"
     ]
    },
    {
     "data": {
      "text/plain": [
       "[(0, 1),\n",
       " (0, 2),\n",
       " (0, 3),\n",
       " (1, 2),\n",
       " (1, 3),\n",
       " (1, 0),\n",
       " (2, 0),\n",
       " (2, 1),\n",
       " (3, 0),\n",
       " (3, 1),\n",
       " (2, 4),\n",
       " (4, 2)]"
      ]
     },
     "execution_count": 57,
     "metadata": {},
     "output_type": "execute_result"
    }
   ],
   "source": [
    "bfs(graph)"
   ]
  },
  {
   "cell_type": "code",
   "execution_count": 248,
   "id": "023225e3",
   "metadata": {},
   "outputs": [],
   "source": [
    "a = (1, 0, 0)\n",
    "b = (0, 1, 1)"
   ]
  },
  {
   "cell_type": "code",
   "execution_count": 251,
   "id": "a5ab42a9",
   "metadata": {},
   "outputs": [
    {
     "data": {
      "text/plain": [
       "(1, 1, 1)"
      ]
     },
     "execution_count": 251,
     "metadata": {},
     "output_type": "execute_result"
    }
   ],
   "source": [
    "c = tuple([elem1 + elem2 for elem1, elem2 in zip(a, b)])\n",
    "c"
   ]
  },
  {
   "cell_type": "code",
   "execution_count": null,
   "id": "e0e7a16d",
   "metadata": {},
   "outputs": [],
   "source": []
  },
  {
   "cell_type": "code",
   "execution_count": 288,
   "id": "39773be4",
   "metadata": {},
   "outputs": [],
   "source": [
    "def is_palindrome(word):\n",
    "    if \" \" in word:\n",
    "        word = \"\".join(word.split())\n",
    "    \n",
    "    for i in range(len(word)//2):\n",
    "        if word[i] != word[-1*(i+1)]:\n",
    "            return False\n",
    "    return True\n",
    "\n",
    "def longest_palindrome(word):\n",
    "    if \" \" in word:\n",
    "        word = \"\".join(word.split())\n",
    "    \n",
    "    palindrome = {}\n",
    "    \n",
    "    for i in range(len(word)+2):\n",
    "        for j in range(i+2, len(word)):\n",
    "            word_aux = word[i:j+1]\n",
    "            if is_palindrome(word_aux):\n",
    "                palindrome[word_aux] = len(word_aux)\n",
    "                \n",
    "    if len(palindrome) > 0:\n",
    "        return max(palindrome, key=palindrome.get)\n",
    "    return None\n",
    "\n",
    "def all_palindrome(word):\n",
    "    if \" \" in word:\n",
    "        word = \"\".join(word.split())\n",
    "    \n",
    "    palindrome = {}\n",
    "    \n",
    "    for i in range(len(word)+2):\n",
    "        for j in range(i+2, len(word)):\n",
    "            word_aux = word[i:j+1]\n",
    "            if is_palindrome(word_aux):\n",
    "                palindrome[word_aux] = len(word_aux)\n",
    "                \n",
    "    if len(palindrome) > 0:\n",
    "        return palindrome\n",
    "    return None"
   ]
  },
  {
   "cell_type": "code",
   "execution_count": 289,
   "id": "3007f066",
   "metadata": {
    "scrolled": false
   },
   "outputs": [
    {
     "data": {
      "text/plain": [
       "(False, 'tacocat', {'tacocat': 7, 'acoca': 5, 'coc': 3, 'hazah': 5, 'aza': 3})"
      ]
     },
     "execution_count": 289,
     "metadata": {},
     "output_type": "execute_result"
    }
   ],
   "source": [
    "a = \"tacocatbrsthazah\"    \n",
    "is_palindrome(a),longest_palindrome(a),all_palindrome(a)"
   ]
  },
  {
   "cell_type": "markdown",
   "id": "fe1eee63",
   "metadata": {},
   "source": [
    "## Traversal Graph"
   ]
  },
  {
   "cell_type": "code",
   "execution_count": 314,
   "id": "4ac1a397",
   "metadata": {},
   "outputs": [
    {
     "name": "stdout",
     "output_type": "stream",
     "text": [
      "True\n"
     ]
    },
    {
     "data": {
      "text/plain": [
       "{'S'}"
      ]
     },
     "execution_count": 314,
     "metadata": {},
     "output_type": "execute_result"
    }
   ],
   "source": [
    "from collections import deque"
   ]
  },
  {
   "cell_type": "code",
   "execution_count": 330,
   "id": "6cadcaaf",
   "metadata": {},
   "outputs": [],
   "source": [
    "graph = dict()\n",
    "graph['A'] = ['B', 'S']\n",
    "graph['B'] = ['A']\n",
    "graph['C'] = ['D','S','E','F']\n",
    "graph['D'] = ['C']\n",
    "graph['E'] = ['C','H']\n",
    "graph['F'] = ['C','G']\n",
    "graph['G'] = ['S','F','H']\n",
    "graph['H'] = ['G','E']\n",
    "graph['S'] = ['A','G','C']"
   ]
  },
  {
   "cell_type": "markdown",
   "id": "34f118fc",
   "metadata": {},
   "source": [
    "## using deque module"
   ]
  },
  {
   "cell_type": "code",
   "execution_count": 347,
   "id": "2e08d804",
   "metadata": {},
   "outputs": [],
   "source": [
    "def bfs(graph, vertex_start):\n",
    "    visited = list()\n",
    "    queue_aux = deque(vertex_start)\n",
    "    \n",
    "    while len(queue_aux) > 0:\n",
    "        vertex_current = queue_aux.popleft()\n",
    "        \n",
    "        remaining_vertices = set(graph[vertex_current]).difference(set(visited))\n",
    "        remaining_vertices = sorted(set(remaining_vertices).difference(set(queue_aux)))\n",
    "\n",
    "        if len(remaining_vertices) > 0:\n",
    "            for remaining in remaining_vertices:\n",
    "                queue_aux.append(remaining)\n",
    "        \n",
    "        visited.append(vertex_current)\n",
    "            \n",
    "    return visited\n",
    "    \n",
    "    "
   ]
  },
  {
   "cell_type": "code",
   "execution_count": 348,
   "id": "eb83742e",
   "metadata": {},
   "outputs": [
    {
     "data": {
      "text/plain": [
       "['A', 'B', 'S', 'C', 'G', 'D', 'E', 'F', 'H']"
      ]
     },
     "execution_count": 348,
     "metadata": {},
     "output_type": "execute_result"
    }
   ],
   "source": [
    "bsf(graph, \"A\")"
   ]
  },
  {
   "cell_type": "markdown",
   "id": "7e46caf3",
   "metadata": {},
   "source": [
    "## using self-made queue"
   ]
  },
  {
   "cell_type": "code",
   "execution_count": 365,
   "id": "3df5f55a",
   "metadata": {},
   "outputs": [],
   "source": [
    "class NodeQueue:\n",
    "    def __init__(self, vertex):\n",
    "        self.vertex = vertex\n",
    "        self.next = None\n",
    "        self.prev = None\n",
    "        \n",
    "class QueueBFS:\n",
    "    def __init__(self):\n",
    "        self.head = None\n",
    "        self.tail = None\n",
    "        self.size = 0\n",
    "        \n",
    "    def enqueue(self, vertex):\n",
    "        node = NodeQueue(vertex)\n",
    "        \n",
    "        if self.head is None:\n",
    "            self.head = node\n",
    "            self.tail = node\n",
    "            self.size += 1\n",
    "        else:\n",
    "            node.prev = self.tail\n",
    "            self.tail.next = node\n",
    "            self.tail = node\n",
    "            self.size += 1\n",
    "    \n",
    "    def dequeue(self):\n",
    "        if self.head is None:\n",
    "            return\n",
    "        elif self.size == 1:\n",
    "            node = self.head\n",
    "            self.head = None\n",
    "            self.tail = None\n",
    "            self.size -= 1\n",
    "            return node.vertex\n",
    "        else:\n",
    "            node = self.head\n",
    "            self.head = self.head.next\n",
    "            self.size -= 1\n",
    "            return node.vertex\n",
    "    \n",
    "    def is_in_queue(self, vertex):\n",
    "        curr = self.head\n",
    "        \n",
    "        while curr:\n",
    "            if vertex == curr.vertex:\n",
    "                return True\n",
    "            curr = curr.next\n",
    "        \n",
    "        return False\n",
    "        \n",
    "        \n",
    "def bfs_2(graph, first_vtx):\n",
    "    queue = QueueBFS()\n",
    "    visited = list()\n",
    "    \n",
    "    queue.enqueue(first_vtx)\n",
    "    \n",
    "    while queue.size > 0:\n",
    "        current_vtx = queue.dequeue()        \n",
    "        \n",
    "        for vtx in sorted(graph[current_vtx]):\n",
    "            if vtx in visited or queue.is_in_queue(vtx):\n",
    "                continue\n",
    "            else:\n",
    "                queue.enqueue(vtx)\n",
    "                        \n",
    "        visited.append(current_vtx)\n",
    "    \n",
    "    return visited"
   ]
  },
  {
   "cell_type": "code",
   "execution_count": 366,
   "id": "3d032ba4",
   "metadata": {},
   "outputs": [
    {
     "data": {
      "text/plain": [
       "['A', 'B', 'S', 'C', 'G', 'D', 'E', 'F', 'H']"
      ]
     },
     "execution_count": 366,
     "metadata": {},
     "output_type": "execute_result"
    }
   ],
   "source": [
    "bfs_2(graph, \"A\")"
   ]
  },
  {
   "cell_type": "markdown",
   "id": "b691ed4e",
   "metadata": {},
   "source": [
    "## depth first search"
   ]
  },
  {
   "cell_type": "code",
   "execution_count": 367,
   "id": "165f5bad",
   "metadata": {},
   "outputs": [],
   "source": [
    "graph = dict()\n",
    "graph['A'] = ['B', 'S']\n",
    "graph['B'] = ['A']\n",
    "graph['C'] = ['D','S','E','F']\n",
    "graph['D'] = ['C']\n",
    "graph['E'] = ['C','H']\n",
    "graph['F'] = ['C','G']\n",
    "graph['G'] = ['S','F','H']\n",
    "graph['H'] = ['G','E']\n",
    "graph['S'] = ['A','G','C']"
   ]
  },
  {
   "cell_type": "code",
   "execution_count": 378,
   "id": "c4616423",
   "metadata": {},
   "outputs": [],
   "source": [
    "def dfs(graph, first_vtx):\n",
    "    stack = list()\n",
    "    visited = list()\n",
    "    \n",
    "    stack.append(first_vtx)\n",
    "    \n",
    "    while len(stack) > 0:\n",
    "        curr_vtx = stack.pop()\n",
    "        visited.append(curr_vtx)\n",
    "            \n",
    "        remaining_vts = set(graph[curr_vtx]).difference(set(visited))\n",
    "        remaining_vts = sorted(remaining_vts.difference(set(stack)))\n",
    "        \n",
    "        for remaining in remaining_vts:\n",
    "            stack.append(remaining)\n",
    "    \n",
    "    return visited"
   ]
  },
  {
   "cell_type": "code",
   "execution_count": 385,
   "id": "f65ba2d1",
   "metadata": {},
   "outputs": [],
   "source": [
    "def dfs_2(graph, first_vtx):\n",
    "    stack = list()\n",
    "    visited = list()\n",
    "    \n",
    "    stack.append(first_vtx)\n",
    "    curr_vtx = first_vtx\n",
    "    \n",
    "    while len(stack) > 0:\n",
    "        if curr_vtx not in visited:\n",
    "            visited.append(curr_vtx)\n",
    "        \n",
    "        adj_vts = graph[curr_vtx]\n",
    "        \n",
    "        if set(adj_vts).issubset(set(visited)):\n",
    "            stack.pop()\n",
    "            if len(stack) > 0:\n",
    "                curr_vtx = stack[-1]\n",
    "                continue\n",
    "        else:\n",
    "            remaining = set(adj_vts).difference(set(visited))\n",
    "            first_adj_vtx = sorted(remaining)[0]\n",
    "            stack.append(first_adj_vtx)\n",
    "            curr_vtx = first_adj_vtx\n",
    "    \n",
    "    return visited"
   ]
  },
  {
   "cell_type": "code",
   "execution_count": 386,
   "id": "0f70b295",
   "metadata": {},
   "outputs": [
    {
     "data": {
      "text/plain": [
       "(['A', 'S', 'G', 'H', 'E', 'F', 'C', 'D', 'B'],\n",
       " ['A', 'B', 'S', 'C', 'D', 'E', 'H', 'G', 'F'])"
      ]
     },
     "execution_count": 386,
     "metadata": {},
     "output_type": "execute_result"
    }
   ],
   "source": [
    "dfs(graph, \"A\"), dfs_2(graph, \"A\")"
   ]
  },
  {
   "cell_type": "markdown",
   "id": "082d29b7",
   "metadata": {},
   "source": [
    "## binary search"
   ]
  },
  {
   "cell_type": "code",
   "execution_count": 452,
   "id": "3b80fef3",
   "metadata": {},
   "outputs": [],
   "source": [
    "def binary_search(orded, elem):\n",
    "    \n",
    "    if orded[len(orded)//2] < elem:\n",
    "        return binary_search(orded[len(orded)//2:], elem)\n",
    "    elif orded[len(orded)//2] > elem:\n",
    "        return binary_search(orded[:len(orded)//2], elem)\n",
    "    else:\n",
    "        return \"Element: {} Index: {}\".format(elem, len(orded)//2)\n",
    "    "
   ]
  },
  {
   "cell_type": "code",
   "execution_count": 455,
   "id": "c0e04a07",
   "metadata": {},
   "outputs": [
    {
     "data": {
      "text/plain": [
       "'Element: 38 Index: 2'"
      ]
     },
     "execution_count": 455,
     "metadata": {},
     "output_type": "execute_result"
    }
   ],
   "source": [
    "orded = [10,15,38,49,51,66,78,82,99]\n",
    "binary_search(orded, 38)"
   ]
  },
  {
   "cell_type": "code",
   "execution_count": 456,
   "id": "b7367eca",
   "metadata": {},
   "outputs": [
    {
     "data": {
      "text/plain": [
       "'Element: 38 Index: 2'"
      ]
     },
     "execution_count": 456,
     "metadata": {},
     "output_type": "execute_result"
    }
   ],
   "source": [
    "result"
   ]
  },
  {
   "cell_type": "code",
   "execution_count": 457,
   "id": "4b420289",
   "metadata": {},
   "outputs": [],
   "source": [
    "def binary_search_interative(orded, elem):\n",
    "    while len(orded) > 1:\n",
    "        if orded[len(orded)//2] < elem:\n",
    "            orded = orded[len(orded)//2:]\n",
    "        elif elem < orded[len(orded)//2]:\n",
    "            orded = orded[:len(orded)//2]\n",
    "        else:\n",
    "            print(\"Element:\", orded[len(orded)//2], \" Index:\", len(orded)//2)\n",
    "            break"
   ]
  },
  {
   "cell_type": "code",
   "execution_count": 458,
   "id": "e8c02a4e",
   "metadata": {},
   "outputs": [
    {
     "name": "stdout",
     "output_type": "stream",
     "text": [
      "Element: 38  Index: 2\n"
     ]
    }
   ],
   "source": [
    "orded = [10,15,38,49,51,66,78,82,99]\n",
    "binary_search_interative(orded, 38)"
   ]
  },
  {
   "cell_type": "code",
   "execution_count": 594,
   "id": "42b2e31d",
   "metadata": {},
   "outputs": [],
   "source": [
    "def binary_search_other(sequence, item):    \n",
    "    start = 0\n",
    "    end = len(sequence) - 1\n",
    "    \n",
    "    while start < end:\n",
    "        midpoint_idx = start + (end - start) // 2\n",
    "        \n",
    "        if sequence[midpoint_idx] == item:\n",
    "            return midpoint_idx\n",
    "        elif sequence[midpoint_idx] < item:\n",
    "            end = midpoint_idx - 1\n",
    "        else:\n",
    "            start = midpoint_idx + 1\n",
    "            \n",
    "    return None\n",
    "    "
   ]
  },
  {
   "cell_type": "code",
   "execution_count": 595,
   "id": "11d7962b",
   "metadata": {},
   "outputs": [],
   "source": [
    "orded = [10,15,38,49,51,66,78,82,99]\n",
    "binary_search_other(orded, 38)"
   ]
  },
  {
   "cell_type": "markdown",
   "id": "5a3f0956",
   "metadata": {},
   "source": [
    "## Spiral Matrix"
   ]
  },
  {
   "cell_type": "code",
   "execution_count": 508,
   "id": "fc4fe1c6",
   "metadata": {},
   "outputs": [
    {
     "name": "stdout",
     "output_type": "stream",
     "text": [
      "1 2 3 4 5 6 7 8 9 10 11 12 13 14 15 16 "
     ]
    }
   ],
   "source": [
    "def print_spiral_order(matrix):\n",
    "    ans = []\n",
    "\n",
    "    if (len(matrix) == 0):\n",
    "        return ans\n",
    "\n",
    "    R = len(matrix)\n",
    "    C = len(matrix[0])\n",
    "    seen = [[0]*C for i in range(R)]\n",
    "    dr = [0, 1, 0, -1]\n",
    "    dc = [1, 0, -1, 0]\n",
    "    r = 0\n",
    "    c = 0\n",
    "    di = 0\n",
    "\n",
    "    # Iterate from 0 to R * C - 1\n",
    "    for i in range(R * C):\n",
    "        ans.append(matrix[r][c])\n",
    "        seen[r][c] = True\n",
    "        cr = r + dr[di]\n",
    "        cc = c + dc[di]\n",
    "\n",
    "        if 0 <= cr and cr < R and 0 <= cc and cc < C and not seen[cr][cc]:\n",
    "            r = cr\n",
    "            c = cc\n",
    "        else:\n",
    "            di = (di + 1) % 4\n",
    "            r += dr[di]\n",
    "            c += dc[di]\n",
    "    return ans\n",
    "\n",
    "\n",
    "# Driver code\n",
    "a = [[1, 2, 3, 4],\n",
    "    [12, 13, 14, 5],\n",
    "    [11, 16, 15, 6],\n",
    "    [10, 9, 8, 7]]\n",
    "\n",
    "for x in print_spiral_order(a):\n",
    "    print(x, end=\" \")"
   ]
  },
  {
   "cell_type": "code",
   "execution_count": 528,
   "id": "899f2982",
   "metadata": {},
   "outputs": [
    {
     "name": "stdout",
     "output_type": "stream",
     "text": [
      "cr 0 cc 1 di 0 dr[di] 0 dc[di] 1 r 0 c 0\n",
      "True\n",
      "cr 0 cc 2 di 0 dr[di] 0 dc[di] 1 r 0 c 1\n",
      "True\n",
      "cr 0 cc 3 di 0 dr[di] 0 dc[di] 1 r 0 c 2\n",
      "True\n",
      "cr 0 cc 4 di 0 dr[di] 0 dc[di] 1 r 0 c 3\n",
      "cr 2 cc 3 di 1 dr[di] 1 dc[di] 0 r 1 c 3\n",
      "True\n",
      "cr 3 cc 3 di 1 dr[di] 1 dc[di] 0 r 2 c 3\n",
      "True\n",
      "cr 4 cc 3 di 1 dr[di] 1 dc[di] 0 r 3 c 3\n",
      "cr 3 cc 1 di 2 dr[di] 0 dc[di] -1 r 3 c 2\n",
      "True\n",
      "cr 3 cc 0 di 2 dr[di] 0 dc[di] -1 r 3 c 1\n",
      "True\n",
      "cr 3 cc -1 di 2 dr[di] 0 dc[di] -1 r 3 c 0\n",
      "cr 1 cc 0 di 3 dr[di] -1 dc[di] 0 r 2 c 0\n",
      "True\n",
      "cr 0 cc 0 di 3 dr[di] -1 dc[di] 0 r 1 c 0\n",
      "cr 1 cc 2 di 0 dr[di] 0 dc[di] 1 r 1 c 1\n",
      "True\n",
      "cr 1 cc 3 di 0 dr[di] 0 dc[di] 1 r 1 c 2\n",
      "cr 3 cc 2 di 1 dr[di] 1 dc[di] 0 r 2 c 2\n",
      "cr 2 cc 0 di 2 dr[di] 0 dc[di] -1 r 2 c 1\n",
      "[1, 2, 3, 4]\n",
      "[12, 13, 14, 5]\n",
      "[11, 16, 15, 6]\n",
      "[10, 9, 8, 7]\n"
     ]
    }
   ],
   "source": [
    "def create_spiral_order(n_rows, n_cols):\n",
    "    \n",
    "    seen = [[0]*n_rows for i in range(n_cols)]\n",
    "    ans = [[0]*n_rows for i in range(n_cols)]\n",
    "    dr = [0, 1, 0, -1]\n",
    "    dc = [1, 0, -1, 0]\n",
    "    r = 0\n",
    "    c = 0\n",
    "    di = 0\n",
    "    \n",
    "    for i in range(n_rows*n_cols):\n",
    "        ans[r][c] = i + 1\n",
    "        seen[r][c] = True\n",
    "        cr = r + dr[di]\n",
    "        cc = c + dc[di]\n",
    "        print(\"cr\", cr, \"cc\", cc, \"di\", di, \"dr[di]\", dr[di], \"dc[di]\", dc[di], \"r\", r, \"c\", c)\n",
    "        if 0 <= cr and cr < n_rows and 0 <= cc and cc < n_cols and not seen[cr][cc]:\n",
    "            print(not seen[cr][cc])\n",
    "            r = cr\n",
    "            c = cc\n",
    "        else:\n",
    "            di = (di + 1) % 4\n",
    "            r += dr[di]\n",
    "            c += dc[di]\n",
    "    \n",
    "    return ans\n",
    "\n",
    "\n",
    "for i in create_spiral_order(4, 4):\n",
    "    print(i)\n",
    "\n",
    "    "
   ]
  },
  {
   "cell_type": "markdown",
   "id": "47709f78",
   "metadata": {},
   "source": [
    "## invert binary tree"
   ]
  },
  {
   "cell_type": "code",
   "execution_count": 575,
   "id": "1cc4abcd",
   "metadata": {},
   "outputs": [],
   "source": [
    "class NodeTree:\n",
    "    def __init__(self, data=None):\n",
    "        self.data = data\n",
    "        self.left = None\n",
    "        self.right = None\n",
    "        \n",
    "        \n",
    "class BinarySearchTree:\n",
    "    def __init__(self, root=None):\n",
    "        self.root = root\n",
    "    \n",
    "    # O(h) - h is the height of tree\n",
    "    def insert(self, data):\n",
    "        node = NodeTree(data)\n",
    "        \n",
    "        if self.root is None:\n",
    "            self.root = node\n",
    "        else:\n",
    "            current = self.root\n",
    "            parent = None\n",
    "            \n",
    "            while True:\n",
    "                parent = current\n",
    "                if node.data < parent.data:\n",
    "                    current = current.left\n",
    "                    if current is None:\n",
    "                        parent.left = node\n",
    "                        return\n",
    "                else:\n",
    "                    current = current.right\n",
    "                    if current is None:\n",
    "                        parent.right = node\n",
    "                        return\n",
    "                    \n",
    "    def breadth_first_traversal(self):\n",
    "        list_of_nodes = []\n",
    "        queue = []\n",
    "        queue.append(self.root)\n",
    "        \n",
    "        while len(queue) > 0:\n",
    "            node = queue.pop(0)\n",
    "            list_of_nodes.append(node.data)\n",
    "\n",
    "            if node.left is not None:\n",
    "                queue.append(node.left)\n",
    "            if node.right is not None:\n",
    "                queue.append(node.right)\n",
    "\n",
    "        \n",
    "        return list_of_nodes"
   ]
  },
  {
   "cell_type": "code",
   "execution_count": 589,
   "id": "9c246cbd",
   "metadata": {},
   "outputs": [
    {
     "data": {
      "text/plain": [
       "[0, 1, 2, 3, 4, 5, 6, 7, 8, 9]"
      ]
     },
     "execution_count": 589,
     "metadata": {},
     "output_type": "execute_result"
    }
   ],
   "source": [
    "b_tree = BinarySearchTree()\n",
    "\n",
    "for i in range(10):\n",
    "    b_tree.insert(i)\n",
    "    \n",
    "b_tree.breadth_first_traversal()"
   ]
  },
  {
   "cell_type": "code",
   "execution_count": 590,
   "id": "e08fcd44",
   "metadata": {},
   "outputs": [],
   "source": [
    "def invert_binarytree(root):\n",
    "    if root is None:\n",
    "        return\n",
    "\n",
    "    root.left, root.right = invert_binarytree(root.right),invert_binarytree(root.left)\n",
    "    return root\n",
    "    "
   ]
  },
  {
   "cell_type": "code",
   "execution_count": 591,
   "id": "6795826b",
   "metadata": {},
   "outputs": [
    {
     "data": {
      "text/plain": [
       "[0, 1, 2, 3, 4, 5, 6, 7, 8, 9]"
      ]
     },
     "execution_count": 591,
     "metadata": {},
     "output_type": "execute_result"
    }
   ],
   "source": [
    "invert_binarytree(b_tree.root)\n",
    "b_tree.breadth_first_traversal()"
   ]
  },
  {
   "cell_type": "code",
   "execution_count": 574,
   "id": "06682884",
   "metadata": {},
   "outputs": [
    {
     "name": "stdout",
     "output_type": "stream",
     "text": [
      "Initial Tree : 40 20 10 30 50 \n",
      "Inverted Tree : 50 30 10 20 40 "
     ]
    }
   ],
   "source": [
    "class Node:\n",
    "   def __init__(self, data):\n",
    "      self.left = None\n",
    "      self.right = None\n",
    "      self.data = data\n",
    "\n",
    "   def PrintTree ( self ) :\n",
    "       if self.left :\n",
    "           self.left.PrintTree ()\n",
    "       print ( self.data, end= ' ' ) ,\n",
    "       if self.right :\n",
    "           self.right.PrintTree ()\n",
    "\n",
    "class Solution:\n",
    "    '''\n",
    "    Function to invert the tree\n",
    "    '''\n",
    "    def invertTree(self, root):\n",
    "       if root == None:\n",
    "           return\n",
    "       root.left, root.right = self.invertTree(root.right),self.invertTree(root.left)\n",
    "       return root\n",
    "\n",
    "if __name__ == '__main__':\n",
    "    '''\n",
    "                10                                              10\n",
    "              /    \\                                          /    \\           \n",
    "            20      30              ========>>              30      20           \n",
    "           /         \\                                      /        \\\n",
    "          40          50                                  50          40 \n",
    "    '''\n",
    "    Tree = Node(10)\n",
    "    Tree.left = Node(20)\n",
    "    Tree.right = Node(30)\n",
    "    Tree.left.left = Node(40)\n",
    "    Tree.right.right = Node(50)\n",
    "    print('Initial Tree :',end = ' ' )\n",
    "    Tree.PrintTree()\n",
    "    Solution().invertTree(root=Tree)\n",
    "    print('\\nInverted Tree :', end=' ')\n",
    "    Tree.PrintTree()"
   ]
  },
  {
   "cell_type": "code",
   "execution_count": null,
   "id": "68036042",
   "metadata": {},
   "outputs": [],
   "source": []
  },
  {
   "cell_type": "markdown",
   "id": "cbaf1304",
   "metadata": {},
   "source": [
    "# Question\n",
    "\n",
    "Given an array of integers nums and an integer target , return indices of the two numbers such that they add up to target ."
   ]
  },
  {
   "cell_type": "code",
   "execution_count": 610,
   "id": "74f2fb15",
   "metadata": {},
   "outputs": [],
   "source": [
    "def find_add_indices(nums, target):\n",
    "    aux_dict = {}\n",
    "    for idx, value in enumerate(nums):\n",
    "        if aux_dict.get(target - value) is not None:\n",
    "            return aux_dict.get(target-value), idx\n",
    "        aux_dict[value] = idx"
   ]
  },
  {
   "cell_type": "code",
   "execution_count": 611,
   "id": "a093912f",
   "metadata": {},
   "outputs": [
    {
     "name": "stdout",
     "output_type": "stream",
     "text": [
      "(1, 5)\n"
     ]
    }
   ],
   "source": [
    "nums = [7,4,72,3,9,2] \n",
    "target = 6\n",
    "\n",
    "print(find_add_indices(nums, target))\n"
   ]
  },
  {
   "cell_type": "code",
   "execution_count": 613,
   "id": "c6bd7bdc",
   "metadata": {},
   "outputs": [],
   "source": [
    "def find_add_all_indices(nums, target):\n",
    "    aux_dict = {}\n",
    "    result = []\n",
    "    for idx, value in enumerate(nums):\n",
    "        if aux_dict.get(target - value) is not None:\n",
    "             result.append((aux_dict.get(target-value), idx))\n",
    "        aux_dict[value] = idx\n",
    "    \n",
    "    return result"
   ]
  },
  {
   "cell_type": "code",
   "execution_count": 614,
   "id": "39bc0d0c",
   "metadata": {},
   "outputs": [
    {
     "name": "stdout",
     "output_type": "stream",
     "text": [
      "[(1, 2), (3, 5)]\n"
     ]
    }
   ],
   "source": [
    "nums = [7,4,2,3,9,3] \n",
    "target = 6\n",
    "\n",
    "print(find_add_all_indices(nums, target))\n"
   ]
  },
  {
   "cell_type": "code",
   "execution_count": 696,
   "id": "92c63f99",
   "metadata": {},
   "outputs": [],
   "source": [
    "def find_add_indices_n(nums, target, aux_dict, result):\n",
    "    global count\n",
    "    \n",
    "    mid = len(nums)//2\n",
    "    \n",
    "    if mid == 0:\n",
    "        aux_dict[nums[mid]] = mid + count\n",
    "        count += 1\n",
    "        return\n",
    "    \n",
    "    if aux_dict.get(target - nums[mid]) is None:\n",
    "        aux_dict[nums[mid]] = mid + count\n",
    "    \n",
    "    else:\n",
    "        aux_dict[nums[mid]] = mid + count\n",
    "        result.append((aux_dict.get(target - nums[mid]), mid + count))\n",
    "    \n",
    "    find_add_indices_logn(nums[:mid], target, aux_dict, result)\n",
    "    find_add_indices_logn(nums[mid:], target, aux_dict, result)\n",
    "    \n",
    "    return result, aux_dict"
   ]
  },
  {
   "cell_type": "code",
   "execution_count": 697,
   "id": "0eea24d7",
   "metadata": {},
   "outputs": [
    {
     "name": "stdout",
     "output_type": "stream",
     "text": [
      "([(1, 2), (3, 5)], {5: 3, 4: 1, 7: 0, 2: 2, 9: 4, 1: 5})\n"
     ]
    }
   ],
   "source": [
    "aux_dict = {}\n",
    "result = []\n",
    "count = 0\n",
    "\n",
    "nums = [7,4,2,5,9,1] \n",
    "target = 6\n",
    "\n",
    "print(find_add_indices_n(nums, target, aux_dict, result))"
   ]
  },
  {
   "cell_type": "markdown",
   "id": "6dd431af",
   "metadata": {},
   "source": [
    "# Question - Reverse a singly linked list"
   ]
  },
  {
   "cell_type": "code",
   "execution_count": 59,
   "id": "6e0a7160",
   "metadata": {},
   "outputs": [],
   "source": [
    "class Node:\n",
    "    def __init__(self, data=None):\n",
    "        self.data = data\n",
    "        self.next = None\n",
    "\n",
    "class LinkedList:\n",
    "    def __init__(self):\n",
    "        self.head = None\n",
    "        self.size = 0\n",
    "        \n",
    "    def insert(self, data):\n",
    "        node = Node(data)\n",
    "        \n",
    "        if self.head is None:\n",
    "            self.head = node\n",
    "            self.size += 1\n",
    "        else:\n",
    "            node.next, self.head = self.head, node\n",
    "            self.size += 1\n",
    "    \n",
    "    def reverse(self):\n",
    "        def helper(node):\n",
    "            if node.next is None:\n",
    "                self.head = node\n",
    "                return node\n",
    "\n",
    "            prev_node = helper(node.next)\n",
    "            prev_node.next = node\n",
    "\n",
    "            return node\n",
    "\n",
    "        node = helper(self.head)\n",
    "        node.next = None\n",
    "        \n",
    "    def reverse_interative(self):\n",
    "        \"\"\"\n",
    "                    1 -> 2 -> 3 -> 4 -> 5\n",
    "                    p    c    n\n",
    "            None <- 1 <- 2    3 -> 4 -> 5 -> None\n",
    "                         p    c    n\n",
    "            None <- 1 <- 2 <- 3    4 -> 5 -> None\n",
    "                              p    c    n\n",
    "            None <- 1 <- 2 <- 3 <- 4    5 -> None\n",
    "                                   p    c    n\n",
    "            None <- 1 <- 2 <- 3 <- 4 <- 5    None\n",
    "            \n",
    "            self.head = c\n",
    "        \"\"\"\n",
    "        if self.head is None:\n",
    "            return\n",
    "        elif self.head.next is None:\n",
    "            return self.head\n",
    "        \n",
    "        prev_node = self.head\n",
    "        current_node = self.head.next\n",
    "        next_node = current_node.next\n",
    "        \n",
    "        prev_node.next = None\n",
    "        \n",
    "        while next_node:\n",
    "            current_node.next = prev_node\n",
    "            prev_node = current_node\n",
    "            current_node = next_node\n",
    "            next_node = next_node.next\n",
    "        \n",
    "        current_node.next = prev_node\n",
    "        self.head = current_node\n",
    "    \n",
    "    def print_list(self):\n",
    "        curr = self.head\n",
    "        result = []\n",
    "        while curr is not None:\n",
    "            result.append(curr.data)\n",
    "            curr = curr.next\n",
    "        \n",
    "        return result"
   ]
  },
  {
   "cell_type": "code",
   "execution_count": 60,
   "id": "4e0efd7f",
   "metadata": {},
   "outputs": [
    {
     "name": "stdout",
     "output_type": "stream",
     "text": [
      "[0, 1, 2, 3, 4, 5, 6, 7, 8, 9] 0\n",
      "RECURSIVE [9, 8, 7, 6, 5, 4, 3, 2, 1, 0] 9\n",
      "[10, 9, 8, 7, 6, 5, 4, 3, 2, 1, 0] 10\n",
      "RECURSIVE [0, 1, 2, 3, 4, 5, 6, 7, 8, 9, 10] 0\n",
      "INTERATIVE [10, 9, 8, 7, 6, 5, 4, 3, 2, 1, 0] 10\n",
      "INTERATIVE [0, 1, 2, 3, 4, 5, 6, 7, 8, 9, 10] 0\n"
     ]
    }
   ],
   "source": [
    "ll = LinkedList()\n",
    "\n",
    "for i in range(9, -1, -1):\n",
    "    ll.insert(i)\n",
    "    \n",
    "print(ll.print_list(), ll.head.data)\n",
    "ll.reverse()\n",
    "print(\"RECURSIVE\", ll.print_list(), ll.head.data)\n",
    "ll.insert(10)\n",
    "print(ll.print_list(), ll.head.data)\n",
    "ll.reverse()\n",
    "print(\"RECURSIVE\", ll.print_list(), ll.head.data)\n",
    "ll.reverse_interative()\n",
    "print(\"INTERATIVE\", ll.print_list(), ll.head.data)\n",
    "ll.reverse_interative()\n",
    "print(\"INTERATIVE\", ll.print_list(), ll.head.data)"
   ]
  },
  {
   "cell_type": "code",
   "execution_count": 64,
   "id": "4bc787af",
   "metadata": {},
   "outputs": [
    {
     "data": {
      "text/plain": [
       "(str, 0, False, 0, False)"
      ]
     },
     "execution_count": 64,
     "metadata": {},
     "output_type": "execute_result"
    }
   ],
   "source": [
    "s = \"\"\n",
    "type(s), len(s), s is None, len(list()), list() is None"
   ]
  },
  {
   "cell_type": "markdown",
   "id": "0e5ced56",
   "metadata": {},
   "source": [
    "# Fibonacci Memoization"
   ]
  },
  {
   "cell_type": "code",
   "execution_count": 78,
   "id": "dd9aa0bf",
   "metadata": {},
   "outputs": [],
   "source": [
    "def fib(n, memo):\n",
    "    if memo.get(n):\n",
    "        return memo.get(n)\n",
    "    \n",
    "    if n == 0:\n",
    "        return 0\n",
    "    \n",
    "    if n == 1:\n",
    "        return 1\n",
    "    \n",
    "    value = fib(n - 1, memo) + fib(n - 2, memo)\n",
    "    memo[n] = value\n",
    "    \n",
    "    return value"
   ]
  },
  {
   "cell_type": "code",
   "execution_count": 82,
   "id": "09483196",
   "metadata": {},
   "outputs": [
    {
     "name": "stdout",
     "output_type": "stream",
     "text": [
      "354224848179261915075\n",
      "{2: 1, 3: 2, 4: 3, 5: 5, 6: 8, 7: 13, 8: 21, 9: 34, 10: 55, 11: 89, 12: 144, 13: 233, 14: 377, 15: 610, 16: 987, 17: 1597, 18: 2584, 19: 4181, 20: 6765, 21: 10946, 22: 17711, 23: 28657, 24: 46368, 25: 75025, 26: 121393, 27: 196418, 28: 317811, 29: 514229, 30: 832040, 31: 1346269, 32: 2178309, 33: 3524578, 34: 5702887, 35: 9227465, 36: 14930352, 37: 24157817, 38: 39088169, 39: 63245986, 40: 102334155, 41: 165580141, 42: 267914296, 43: 433494437, 44: 701408733, 45: 1134903170, 46: 1836311903, 47: 2971215073, 48: 4807526976, 49: 7778742049, 50: 12586269025, 51: 20365011074, 52: 32951280099, 53: 53316291173, 54: 86267571272, 55: 139583862445, 56: 225851433717, 57: 365435296162, 58: 591286729879, 59: 956722026041, 60: 1548008755920, 61: 2504730781961, 62: 4052739537881, 63: 6557470319842, 64: 10610209857723, 65: 17167680177565, 66: 27777890035288, 67: 44945570212853, 68: 72723460248141, 69: 117669030460994, 70: 190392490709135, 71: 308061521170129, 72: 498454011879264, 73: 806515533049393, 74: 1304969544928657, 75: 2111485077978050, 76: 3416454622906707, 77: 5527939700884757, 78: 8944394323791464, 79: 14472334024676221, 80: 23416728348467685, 81: 37889062373143906, 82: 61305790721611591, 83: 99194853094755497, 84: 160500643816367088, 85: 259695496911122585, 86: 420196140727489673, 87: 679891637638612258, 88: 1100087778366101931, 89: 1779979416004714189, 90: 2880067194370816120, 91: 4660046610375530309, 92: 7540113804746346429, 93: 12200160415121876738, 94: 19740274219868223167, 95: 31940434634990099905, 96: 51680708854858323072, 97: 83621143489848422977, 98: 135301852344706746049, 99: 218922995834555169026, 100: 354224848179261915075}\n"
     ]
    }
   ],
   "source": [
    "memo = {}\n",
    "print(fib(100,memo))\n",
    "print(memo)"
   ]
  },
  {
   "cell_type": "code",
   "execution_count": null,
   "id": "8853e6b9",
   "metadata": {},
   "outputs": [],
   "source": []
  }
 ],
 "metadata": {
  "kernelspec": {
   "display_name": "Python 3 (ipykernel)",
   "language": "python",
   "name": "python3"
  },
  "language_info": {
   "codemirror_mode": {
    "name": "ipython",
    "version": 3
   },
   "file_extension": ".py",
   "mimetype": "text/x-python",
   "name": "python",
   "nbconvert_exporter": "python",
   "pygments_lexer": "ipython3",
   "version": "3.8.9"
  }
 },
 "nbformat": 4,
 "nbformat_minor": 5
}
