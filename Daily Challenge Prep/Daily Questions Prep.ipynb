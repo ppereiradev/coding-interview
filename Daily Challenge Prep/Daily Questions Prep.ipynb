{
 "cells": [
  {
   "cell_type": "markdown",
   "id": "9d770d67",
   "metadata": {},
   "source": [
    "<font size=\"20\" style=\"color:darkslategray\"><b>Daily Challanges to Keep Improving</b></font>\n",
    "\n",
    "TakeUForward - Striver’s SDE Sheet – Top Coding Interview Problems: https://takeuforward.org/interviews/strivers-sde-sheet-top-coding-interview-problems/"
   ]
  },
  {
   "cell_type": "markdown",
   "id": "7c14a520",
   "metadata": {},
   "source": [
    "<font size=\"8\" style=\"color:darkslategray\"><b>Arrays Problems</b></font>"
   ]
  },
  {
   "cell_type": "markdown",
   "id": "0950aa8e",
   "metadata": {},
   "source": [
    "# Set Matrix Zero\n",
    "\n",
    "__Problem Statement:__\n",
    "\n",
    "Given a matrix if an element in the matrix is 0 then you will have to set its entire column and row to 0 and then return the matrix.\n",
    "\n",
    "__Examples 1:__\n",
    "\n",
    "__Input:__ matrix=[[1,1,1],[1,0,1],[1,1,1]]\n",
    "\n",
    "__Output:__ [[1,0,1],[0,0,0],[1,0,1]]\n",
    "\n",
    "__Explanation:__ Since matrix[2][2]=0.Therfore the 2nd column and 2nd row wil be set to 0.\n",
    "\n",
    "__Example 2:__\n",
    " \n",
    "__Input:__ matrix=[[0,1,2,0],[3,4,5,2],[1,3,1,5]]\n",
    "\n",
    "__Output:__ [[0,0,0,0],[0,4,5,0],[0,3,1,0]]\n",
    "\n",
    "__Explanation:__ Since matrix[0][0]=0 and matrix[0][3]=0. Therefore 1st row, 1st column and 4th column will be set to 0\n"
   ]
  },
  {
   "cell_type": "code",
   "execution_count": 9,
   "id": "f1fb8d54",
   "metadata": {},
   "outputs": [
    {
     "name": "stdout",
     "output_type": "stream",
     "text": [
      "[[1, 0, 1], [0, 0, 0], [1, 0, 1]]\n",
      "[[1, 0, 1], [0, 0, 0], [1, 0, 1]]\n"
     ]
    }
   ],
   "source": [
    "# brute force - Time Complexity: O(n*m), Space Complexity: O(n*m)\n",
    "def set_matrix_zero(arr):\n",
    "    coordinates = []\n",
    "    for row in range(len(arr)):\n",
    "        for col in range(len(arr[0])):\n",
    "            if arr[row][col] == 0:\n",
    "                coordinates.append((row,col))\n",
    "                \n",
    "    for row,col in coordinates:\n",
    "        for i in range(len(arr)):\n",
    "            arr[i][col] = 0\n",
    "        for j in range(len(arr[0])):\n",
    "            arr[row][j] = 0\n",
    "            \n",
    "    return arr\n",
    "\n",
    "\n",
    "matrix= [[1,1,1],[1,0,1],[1,1,1]]\n",
    "\n",
    "print(set_matrix_zero(matrix))\n",
    "\n",
    "# improved - Time Complexity: O(n*m), Space Complexity: O(1)\n",
    "def set_matrix_zero(arr):\n",
    "    \n",
    "    for row in range(len(arr)):\n",
    "        for col in range(len(arr[0])):\n",
    "            if arr[row][col] == 0:\n",
    "                arr[row][0] = 0\n",
    "                arr[0][col] = 0\n",
    "\n",
    "    for row in range(len(arr)):\n",
    "        if arr[row][0] == 0:\n",
    "            for col in range(len(arr[0])):\n",
    "                    arr[row][col] = 0\n",
    "\n",
    "    for col in range(len(arr[0])):\n",
    "        if arr[0][col] == 0:\n",
    "            for row in range(len(arr)):\n",
    "                arr[row][col] = 0\n",
    "\n",
    "    return arr\n",
    "\n",
    "\n",
    "matrix= [[1,1,1],[1,0,1],[1,1,1]]\n",
    "\n",
    "print(set_matrix_zero(matrix))"
   ]
  },
  {
   "cell_type": "markdown",
   "id": "16d46df1",
   "metadata": {},
   "source": [
    "# Program to generate Pascal’s Triangle\n",
    "\n",
    "__Problem Statement:__ \n",
    "Given an integer N, return the first N rows of Pascal’s triangle.\n",
    "\n",
    "In Pascal’s triangle, each number is the sum of the two numbers directly above it as shown in the figure below:\n",
    "\n",
    "![img](https://lh5.googleusercontent.com/SGqPaM5UefpH-NP2uVMvPGu2XpdlRSgesdFQEP_W_6v5rbdw8S0gKXKgi0NIGtY5xjoHlLDEtgc7ICZN8PQDzpr2RPG1ebLqj_gzN_K2gQqZn3ju8dz0WSccoZnTzid22-j-_SJq=s1600)\n",
    "\n",
    "__Example 1:__\n",
    "\n",
    "__Input Format:__ N = 5\n",
    "\n",
    "__Result:__\n",
    "\n",
    "        1\n",
    "       1 1\n",
    "      1 2 1\n",
    "     1 3 3 1\n",
    "    1 4 6 4 1\n",
    "\n",
    "__Explanation:__ There are 5 rows in the output matrix. Each row corresponds to each one of the rows in the image shown above.\n",
    "\n",
    "__Example 2:__\n",
    "\n",
    "__Input Format:__ N = 1\n",
    "\n",
    "__Result:__\n",
    "   \n",
    "    1"
   ]
  },
  {
   "cell_type": "code",
   "execution_count": 33,
   "id": "8b58dc58",
   "metadata": {},
   "outputs": [
    {
     "name": "stdout",
     "output_type": "stream",
     "text": [
      "[[1], [1, 1], [1, 2, 1], [1, 3, 3, 1], [1, 4, 6, 4, 1]]\n"
     ]
    }
   ],
   "source": [
    "# brute force - Time complexity: O(n^2), Space Complexity: O(n^2)\n",
    "def generate_pascal_triangle(n):\n",
    "    result = [[1],[1,1]]\n",
    "\n",
    "    for i in range(2,n):\n",
    "        result.append([])\n",
    "        result[i].append(1)\n",
    "\n",
    "        for j in range(1,len(result[i-1])):\n",
    "            result[i].append(result[i-1][j-1] + result[i-1][j])\n",
    "        result[i].append(1)\n",
    "        \n",
    "    return result\n",
    "\n",
    "n = 5\n",
    "print(generate_pascal_triangle(n))"
   ]
  },
  {
   "cell_type": "markdown",
   "id": "0f82c5da",
   "metadata": {},
   "source": [
    "# next_permutation : find next lexicographically greater permutation\n",
    "\n",
    "__Problem Statement:__ Given an array Arr[] of integers, rearrange the numbers of the given array into the lexicographically next greater permutation of numbers. If such an arrangement is not possible, it must rearrange it as the lowest possible order (i.e., sorted in ascending order).\n",
    "\n",
    "__Example 1:__\n",
    "\n",
    "__Input__ format: Arr[] = {1,3,2}\n",
    "\n",
    "__Output:__ Arr[] = {2,1,3}\n",
    "\n",
    "__Explanation:__ All permutations of {1,2,3} are {{1,2,3} , {1,3,2}, {2,13} , {2,3,1} , {3,1,2} , {3,2,1}}. So, the next permutation just after {1,3,2} is {2,1,3}.\n",
    "\n",
    "__Example 2:__\n",
    "\n",
    "__Input__ format: Arr[] = {3,2,1}\n",
    "\n",
    "__Output:__ Arr[] = {1,2,3}\n",
    "\n",
    "__Explanation:__ As we see all permutations of {1,2,3}, we find {3,2,1} at the last position. So, we have to return the topmost permutation."
   ]
  },
  {
   "cell_type": "code",
   "execution_count": 52,
   "id": "65a0abdd",
   "metadata": {},
   "outputs": [
    {
     "name": "stdout",
     "output_type": "stream",
     "text": [
      "[2, 1, 3]\n"
     ]
    }
   ],
   "source": [
    "# brute force - Time Complexity: O(n!), Space Complexity: O(n!)\n",
    "def find_next_permutation(arr):\n",
    "    def _find_next_permutation_implementation(array, idx, result):\n",
    "        if idx >= len(array):\n",
    "            result.append(array[:])\n",
    "            return\n",
    "        \n",
    "        for i in range(idx+1):\n",
    "            array[i], array[idx] = array[idx], array[i]\n",
    "            _find_next_permutation_implementation(array, idx+1, result)\n",
    "            array[i], array[idx] = array[idx], array[i]\n",
    "    \n",
    "    result = []\n",
    "    _find_next_permutation_implementation(sorted(arr), 0, result)\n",
    "    # Time Complexity: O(n * log n)\n",
    "    result.sort()\n",
    "    for i in range(len(result)+1):\n",
    "        if result[i%len(result)] == arr:\n",
    "            break\n",
    "            \n",
    "    return result[(i+1)%len(result)]\n",
    "\n",
    "arr = [1,3,2]\n",
    "print(find_next_permutation(arr))"
   ]
  },
  {
   "cell_type": "markdown",
   "id": "0ea35e44",
   "metadata": {},
   "source": [
    "# Kadane’s Algorithm : Maximum Subarray Sum in an Array\n",
    "\n",
    "__Problem Statement:__ Given an integer array arr, find the contiguous subarray (containing at least one number) which has the largest sum and return its sum and print the subarray.\n",
    "\n",
    "__Example 1:__\n",
    "\n",
    "__Input:__ arr = [-2,1,-3,4,-1,2,1,-5,4] \n",
    "\n",
    "__Output:__ 6 \n",
    "\n",
    "__Explanation:__ [4,-1,2,1] has the largest sum = 6. \n",
    "\n",
    "__Examples 2:__\n",
    "\n",
    "__Input:__ arr = [1] \n",
    "\n",
    "__Output:__ 1 \n",
    "\n",
    "__Explanation:__ Array has only one element and which is giving positive sum of 1."
   ]
  },
  {
   "cell_type": "code",
   "execution_count": 26,
   "id": "296a6041",
   "metadata": {},
   "outputs": [
    {
     "name": "stdout",
     "output_type": "stream",
     "text": [
      "6\n",
      "6\n"
     ]
    }
   ],
   "source": [
    "# brute force - Time Complexity: O(n^2), Space Complexity: O(1)\n",
    "def find_maximum_subarray_sum(arr):\n",
    "    result = float(\"-inf\")\n",
    "    \n",
    "    for i in range(len(arr)):\n",
    "        sum_temp = 0\n",
    "        for j in range(i,len(arr)):\n",
    "            sum_temp += arr[j]\n",
    "            if result < sum_temp:\n",
    "                result = sum_temp\n",
    "    \n",
    "    return result\n",
    "                \n",
    "arr = [-2,1,-3,4,-1,2,1,-5,4]\n",
    "print(find_maximum_subarray_sum(arr))\n",
    "\n",
    "# Kadane's Algorithm - Time Complexity: O(n), Space Complexity: O(1)\n",
    "def kadane_algorithm(arr):\n",
    "    sum_total = sum_temp = arr[0]\n",
    "    \n",
    "    for i in range(1,len(arr)):\n",
    "        sum_temp = max(arr[i]+sum_temp, arr[i])\n",
    "        if sum_temp > sum_total:\n",
    "            sum_total = sum_temp\n",
    "            \n",
    "    return sum_total\n",
    "    \n",
    "                \n",
    "arr = [-2,1,-3,4,-1,2,1,-5,4]\n",
    "print(kadane_algorithm(arr))"
   ]
  },
  {
   "cell_type": "markdown",
   "id": "8e8f6693",
   "metadata": {},
   "source": [
    "# Sort an array of 0s, 1s and 2s\n",
    "\n",
    "__Problem Statement:__ Given an array consisting of only 0s, 1s and 2s. Write a program to in-place sort the array without using inbuilt sort functions. ( Expected: Single pass-O(N) and constant space)\n",
    "\n",
    "__Example 1:__\n",
    "\n",
    "__Input:__ nums = [2,0,2,1,1,0]\n",
    "\n",
    "__Output:__ [0,0,1,1,2,2]\n",
    "\n",
    "__Input:__ nums = [2,0,1]\n",
    "\n",
    "__Output:__ [0,1,2]\n",
    "\n",
    "__Input:__ nums = [0]\n",
    "\n",
    "__Output:__ nums = [0]"
   ]
  },
  {
   "cell_type": "code",
   "execution_count": 40,
   "id": "08d8bcff",
   "metadata": {},
   "outputs": [
    {
     "data": {
      "text/plain": [
       "[0, 0, 1, 1, 1, 1, 2, 2, 2]"
      ]
     },
     "execution_count": 40,
     "metadata": {},
     "output_type": "execute_result"
    }
   ],
   "source": [
    "# Time Complexity: O(n), Space Complexity: O(1)\n",
    "def sort_array(arr):\n",
    "    left = mid = 0\n",
    "    right = len(arr)-1\n",
    "    \n",
    "    while mid <= right:\n",
    "        if arr[mid] == 0:\n",
    "            arr[left], arr[mid] = arr[mid], arr[left]\n",
    "            left += 1\n",
    "            mid += 1\n",
    "        elif arr[mid] == 1:\n",
    "            mid += 1\n",
    "        else:\n",
    "            arr[right], arr[mid] = arr[mid], arr[right]\n",
    "            right -= 1\n",
    "    \n",
    "    return arr\n",
    "            \n",
    "nums = [2,0,2,1,1,0,1,2,1]\n",
    "sort_array(nums)"
   ]
  },
  {
   "cell_type": "markdown",
   "id": "edbce22d",
   "metadata": {},
   "source": [
    "# Stock Buy And Sell\n",
    "\n",
    "__Problem Statement:__ You are given an array of prices where prices[i] is the price of a given stock on an ith day. You want to maximize your profit by choosing a single day to buy one stock and choosing a different day in the future to sell that stock. Return the maximum profit you can achieve from this transaction. If you cannot achieve any profit, return 0.\n",
    "\n",
    "__Example 1:__\n",
    "\n",
    "__Input:__ prices = [7,1,5,3,6,4]\n",
    "\n",
    "__Output:__ 5\n",
    "\n",
    "__Explanation:__ Buy on day 2 (price = 1) and sell on day 5 (price = 6), profit = 6-1 = 5.\n",
    "\n",
    "__Note:__ That buying on day 2 and selling on day 1 is not allowed because you must buy before you sell.\n",
    "\n",
    "__Example 2:__\n",
    "\n",
    "__Input:__ prices = [7,6,4,3,1]\n",
    "\n",
    "__Output:__ 0\n",
    "\n",
    "__Explanation:__ In this case, no transactions are done and the max profit = 0."
   ]
  },
  {
   "cell_type": "code",
   "execution_count": 1,
   "id": "cfbf1086",
   "metadata": {},
   "outputs": [
    {
     "name": "stdout",
     "output_type": "stream",
     "text": [
      "5\n",
      "5\n"
     ]
    }
   ],
   "source": [
    "# brute force - Time Complexity: O(n^2), Space Complexity: O(1)\n",
    "def buy_and_sell_stock(prices):\n",
    "    profit = 0\n",
    "    \n",
    "    for i in range(len(prices)):\n",
    "        for j in range(i+1,len(prices)):\n",
    "            if profit < prices[j] - prices[i]:\n",
    "                profit = prices[j] - prices[i]\n",
    "                \n",
    "    return profit\n",
    "\n",
    "prices = [7,1,5,3,6,4]\n",
    "print(buy_and_sell_stock(prices))\n",
    "\n",
    "# optimized - Time Complexity: O(n), Space Complexity: O(n)\n",
    "def buy_and_sell_stock(prices):\n",
    "    \n",
    "    min_price = float(\"inf\")\n",
    "    max_profit = 0\n",
    "    \n",
    "    for i in range(len(prices)):\n",
    "        min_price = min(min_price, prices[i]);\n",
    "        max_profit = max(max_profit, prices[i] - min_price);\n",
    "\n",
    "    return max_profit\n",
    "\n",
    "prices = [7,1,5,3,6,4]\n",
    "print(buy_and_sell_stock(prices))"
   ]
  },
  {
   "cell_type": "markdown",
   "id": "0e33790e",
   "metadata": {},
   "source": [
    "# Rotate Image by 90 degree\n",
    "\n",
    "__Problem Statement:__ Given a matrix, your task is to rotate the matrix 90 degrees clockwise. \n",
    "\n",
    "__Example 1:__\n",
    "\n",
    "__Input:__ [[1,2,3],[4,5,6],[7,8,9]]\n",
    "\n",
    "__Output:__ [[7,4,1],[8,5,2],[9,6,3]]\n",
    "\n",
    "__Explanation:__ Rotate the matrix simply by 90 degree clockwise and return the matrix.\n",
    "\n",
    "__Example 2:__\n",
    "\n",
    "__Input:__ [[5,1,9,11],[2,4,8,10],[13,3,6,7],[15,14,12,16]]\n",
    "\n",
    "__Output:__ [[15,13,2,5],[14,3,4,1],[12,6,8,9],[16,7,10,11]]\n",
    "\n",
    "__Explanation:__ Rotate the matrix simply by 90 degree clockwise and return the matrix"
   ]
  },
  {
   "cell_type": "code",
   "execution_count": 3,
   "id": "b60ed3f9",
   "metadata": {},
   "outputs": [
    {
     "data": {
      "text/plain": [
       "[[7, 4, 1], [8, 5, 2], [9, 6, 3]]"
      ]
     },
     "execution_count": 3,
     "metadata": {},
     "output_type": "execute_result"
    }
   ],
   "source": [
    "# brute force - Time Complexity: O(n^2), Space Complexity: O(n^2)\n",
    "def rotate_image_90_degree(img):\n",
    "    img_result = [row[:] for row in img]\n",
    "    \n",
    "    for i in range(len(img)):\n",
    "        for j in range(len(img)):\n",
    "            img_result[j][len(img)-i-1] = img[i][j]\n",
    "            \n",
    "    return img_result\n",
    "\n",
    "\n",
    "img = [[1,2,3],[4,5,6],[7,8,9]]\n",
    "rotate_image_90_degree(img)"
   ]
  },
  {
   "cell_type": "code",
   "execution_count": null,
   "id": "e035eb24",
   "metadata": {},
   "outputs": [],
   "source": []
  }
 ],
 "metadata": {
  "kernelspec": {
   "display_name": "Python 3 (ipykernel)",
   "language": "python",
   "name": "python3"
  },
  "language_info": {
   "codemirror_mode": {
    "name": "ipython",
    "version": 3
   },
   "file_extension": ".py",
   "mimetype": "text/x-python",
   "name": "python",
   "nbconvert_exporter": "python",
   "pygments_lexer": "ipython3",
   "version": "3.8.9"
  }
 },
 "nbformat": 4,
 "nbformat_minor": 5
}
