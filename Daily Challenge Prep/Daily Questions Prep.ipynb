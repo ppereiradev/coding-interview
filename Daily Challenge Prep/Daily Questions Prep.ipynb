{
 "cells": [
  {
   "cell_type": "markdown",
   "id": "9d770d67",
   "metadata": {},
   "source": [
    "# Daily Challanges to Keep Improving\n",
    "\n",
    "TakeUForward - Striver’s SDE Sheet – Top Coding Interview Problems: https://takeuforward.org/interviews/strivers-sde-sheet-top-coding-interview-problems/"
   ]
  },
  {
   "cell_type": "markdown",
   "id": "0950aa8e",
   "metadata": {},
   "source": [
    "# Set Matrix Zero\n",
    "\n",
    "__Problem Statement:__\n",
    "\n",
    "Given a matrix if an element in the matrix is 0 then you will have to set its entire column and row to 0 and then return the matrix.\n",
    "\n",
    "__Examples 1:__\n",
    "\n",
    "__Input:__ matrix=[[1,1,1],[1,0,1],[1,1,1]]\n",
    "\n",
    "__Output:__ [[1,0,1],[0,0,0],[1,0,1]]\n",
    "\n",
    "__Explanation:__ Since matrix[2][2]=0.Therfore the 2nd column and 2nd row wil be set to 0.\n",
    "\n",
    "__Example 2:__\n",
    " \n",
    "__Input:__ matrix=[[0,1,2,0],[3,4,5,2],[1,3,1,5]]\n",
    "\n",
    "__Output:__ [[0,0,0,0],[0,4,5,0],[0,3,1,0]]\n",
    "\n",
    "__Explanation:__ Since matrix[0][0]=0 and matrix[0][3]=0. Therefore 1st row, 1st column and 4th column will be set to 0\n"
   ]
  },
  {
   "cell_type": "code",
   "execution_count": 9,
   "id": "f1fb8d54",
   "metadata": {},
   "outputs": [
    {
     "name": "stdout",
     "output_type": "stream",
     "text": [
      "[[1, 0, 1], [0, 0, 0], [1, 0, 1]]\n",
      "[[1, 0, 1], [0, 0, 0], [1, 0, 1]]\n"
     ]
    }
   ],
   "source": [
    "# brute force - Time Complexity: O(n*m), Space Complexity: O(n*m)\n",
    "def set_matrix_zero(arr):\n",
    "    coordinates = []\n",
    "    for row in range(len(arr)):\n",
    "        for col in range(len(arr[0])):\n",
    "            if arr[row][col] == 0:\n",
    "                coordinates.append((row,col))\n",
    "                \n",
    "    for row,col in coordinates:\n",
    "        for i in range(len(arr)):\n",
    "            arr[i][col] = 0\n",
    "        for j in range(len(arr[0])):\n",
    "            arr[row][j] = 0\n",
    "            \n",
    "    return arr\n",
    "\n",
    "\n",
    "matrix= [[1,1,1],[1,0,1],[1,1,1]]\n",
    "\n",
    "print(set_matrix_zero(matrix))\n",
    "\n",
    "# improved - Time Complexity: O(n*m), Space Complexity: O(1)\n",
    "def set_matrix_zero(arr):\n",
    "    \n",
    "    for row in range(len(arr)):\n",
    "        for col in range(len(arr[0])):\n",
    "            if arr[row][col] == 0:\n",
    "                arr[row][0] = 0\n",
    "                arr[0][col] = 0\n",
    "\n",
    "    for row in range(len(arr)):\n",
    "        if arr[row][0] == 0:\n",
    "            for col in range(len(arr[0])):\n",
    "                    arr[row][col] = 0\n",
    "\n",
    "    for col in range(len(arr[0])):\n",
    "        if arr[0][col] == 0:\n",
    "            for row in range(len(arr)):\n",
    "                arr[row][col] = 0\n",
    "\n",
    "    return arr\n",
    "\n",
    "\n",
    "matrix= [[1,1,1],[1,0,1],[1,1,1]]\n",
    "\n",
    "print(set_matrix_zero(matrix))"
   ]
  },
  {
   "cell_type": "markdown",
   "id": "16d46df1",
   "metadata": {},
   "source": [
    "# Program to generate Pascal’s Triangle\n",
    "\n",
    "__Problem Statement:__ \n",
    "Given an integer N, return the first N rows of Pascal’s triangle.\n",
    "\n",
    "In Pascal’s triangle, each number is the sum of the two numbers directly above it as shown in the figure below:\n",
    "\n",
    "![img](https://lh5.googleusercontent.com/SGqPaM5UefpH-NP2uVMvPGu2XpdlRSgesdFQEP_W_6v5rbdw8S0gKXKgi0NIGtY5xjoHlLDEtgc7ICZN8PQDzpr2RPG1ebLqj_gzN_K2gQqZn3ju8dz0WSccoZnTzid22-j-_SJq=s1600)\n",
    "\n",
    "__Example 1:__\n",
    "\n",
    "__Input Format:__ N = 5\n",
    "\n",
    "__Result:__\n",
    "\n",
    "        1\n",
    "       1 1\n",
    "      1 2 1\n",
    "     1 3 3 1\n",
    "    1 4 6 4 1\n",
    "\n",
    "__Explanation:__ There are 5 rows in the output matrix. Each row corresponds to each one of the rows in the image shown above.\n",
    "\n",
    "__Example 2:__\n",
    "\n",
    "__Input Format:__ N = 1\n",
    "\n",
    "__Result:__\n",
    "   \n",
    "    1"
   ]
  },
  {
   "cell_type": "code",
   "execution_count": null,
   "id": "8b58dc58",
   "metadata": {},
   "outputs": [],
   "source": [
    "def generate_pascal_triangle(n):\n",
    "    pass\n",
    "\n",
    "n = 5\n",
    "print(generate_pascal_triangle(n))"
   ]
  },
  {
   "cell_type": "markdown",
   "id": "0f82c5da",
   "metadata": {},
   "source": [
    "# next_permutation : find next lexicographically greater permutation\n",
    "\n",
    "__Problem Statement:__ Given an array Arr[] of integers, rearrange the numbers of the given array into the lexicographically next greater permutation of numbers. If such an arrangement is not possible, it must rearrange it as the lowest possible order (i.e., sorted in ascending order).\n",
    "\n",
    "__Example 1:__\n",
    "\n",
    "__Input__ format: Arr[] = {1,3,2}\n",
    "\n",
    "__Output:__ Arr[] = {2,1,3}\n",
    "\n",
    "__Explanation:__ All permutations of {1,2,3} are {{1,2,3} , {1,3,2}, {2,13} , {2,3,1} , {3,1,2} , {3,2,1}}. So, the next permutation just after {1,3,2} is {2,1,3}.\n",
    "\n",
    "__Example 2:__\n",
    "\n",
    "__Input__ format: Arr[] = {3,2,1}\n",
    "\n",
    "__Output:__ Arr[] = {1,2,3}\n",
    "\n",
    "__Explanation:__ As we see all permutations of {1,2,3}, we find {3,2,1} at the last position. So, we have to return the topmost permutation."
   ]
  },
  {
   "cell_type": "code",
   "execution_count": 52,
   "id": "65a0abdd",
   "metadata": {},
   "outputs": [
    {
     "name": "stdout",
     "output_type": "stream",
     "text": [
      "[2, 1, 3]\n"
     ]
    }
   ],
   "source": [
    "# brute force - Time Complexity: O(n!), Space Complexity: O(n!)\n",
    "def find_next_permutation(arr):\n",
    "    def _find_next_permutation_implementation(array, idx, result):\n",
    "        if idx >= len(array):\n",
    "            result.append(array[:])\n",
    "            return\n",
    "        \n",
    "        for i in range(idx+1):\n",
    "            array[i], array[idx] = array[idx], array[i]\n",
    "            _find_next_permutation_implementation(array, idx+1, result)\n",
    "            array[i], array[idx] = array[idx], array[i]\n",
    "    \n",
    "    result = []\n",
    "    _find_next_permutation_implementation(sorted(arr), 0, result)\n",
    "    # Time Complexity: O(n * log n)\n",
    "    result.sort()\n",
    "    for i in range(len(result)+1):\n",
    "        if result[i%len(result)] == arr:\n",
    "            break\n",
    "            \n",
    "    return result[(i+1)%len(result)]\n",
    "\n",
    "arr = [1,3,2]\n",
    "print(find_next_permutation(arr))"
   ]
  },
  {
   "cell_type": "code",
   "execution_count": null,
   "id": "06d72428",
   "metadata": {},
   "outputs": [],
   "source": []
  },
  {
   "cell_type": "code",
   "execution_count": null,
   "id": "296a6041",
   "metadata": {},
   "outputs": [],
   "source": []
  }
 ],
 "metadata": {
  "kernelspec": {
   "display_name": "Python 3 (ipykernel)",
   "language": "python",
   "name": "python3"
  },
  "language_info": {
   "codemirror_mode": {
    "name": "ipython",
    "version": 3
   },
   "file_extension": ".py",
   "mimetype": "text/x-python",
   "name": "python",
   "nbconvert_exporter": "python",
   "pygments_lexer": "ipython3",
   "version": "3.8.9"
  }
 },
 "nbformat": 4,
 "nbformat_minor": 5
}
